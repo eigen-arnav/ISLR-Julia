{
 "cells": [
  {
   "cell_type": "markdown",
   "metadata": {},
   "source": []
  },
  {
   "cell_type": "code",
   "execution_count": 1,
   "metadata": {},
   "outputs": [],
   "source": [
    "using BenchmarkTools\n",
    "using DataFrames\n",
    "using DelimitedFiles\n",
    "using CSV"
   ]
  },
  {
   "cell_type": "code",
   "execution_count": 15,
   "metadata": {},
   "outputs": [
    {
     "data": {
      "text/html": [
       "<table class=\"data-frame\"><thead><tr><th></th><th>variable</th><th>mean</th><th>min</th><th>median</th><th>max</th><th>nunique</th><th>nmissing</th><th>eltype</th></tr><tr><th></th><th>Symbol</th><th>Float64</th><th>Float64</th><th>Float64</th><th>Float64</th><th>Nothing</th><th>Nothing</th><th>DataType</th></tr></thead><tbody><p>4 rows × 8 columns</p><tr><th>1</th><td>TV</td><td>147.043</td><td>0.7</td><td>149.75</td><td>296.4</td><td></td><td></td><td>Float64</td></tr><tr><th>2</th><td>Radio</td><td>23.264</td><td>0.0</td><td>22.9</td><td>49.6</td><td></td><td></td><td>Float64</td></tr><tr><th>3</th><td>Newspaper</td><td>30.554</td><td>0.3</td><td>25.75</td><td>114.0</td><td></td><td></td><td>Float64</td></tr><tr><th>4</th><td>Sales</td><td>14.0225</td><td>1.6</td><td>12.9</td><td>27.0</td><td></td><td></td><td>Float64</td></tr></tbody></table>"
      ],
      "text/latex": [
       "\\begin{tabular}{r|cccccccc}\n",
       "\t& variable & mean & min & median & max & nunique & nmissing & eltype\\\\\n",
       "\t\\hline\n",
       "\t& Symbol & Float64 & Float64 & Float64 & Float64 & Nothing & Nothing & DataType\\\\\n",
       "\t\\hline\n",
       "\t1 & TV & 147.043 & 0.7 & 149.75 & 296.4 &  &  & Float64 \\\\\n",
       "\t2 & Radio & 23.264 & 0.0 & 22.9 & 49.6 &  &  & Float64 \\\\\n",
       "\t3 & Newspaper & 30.554 & 0.3 & 25.75 & 114.0 &  &  & Float64 \\\\\n",
       "\t4 & Sales & 14.0225 & 1.6 & 12.9 & 27.0 &  &  & Float64 \\\\\n",
       "\\end{tabular}\n"
      ],
      "text/plain": [
       "4×8 DataFrame. Omitted printing of 1 columns\n",
       "│ Row │ variable  │ mean    │ min     │ median  │ max     │ nunique │ nmissing │\n",
       "│     │ \u001b[90mSymbol\u001b[39m    │ \u001b[90mFloat64\u001b[39m │ \u001b[90mFloat64\u001b[39m │ \u001b[90mFloat64\u001b[39m │ \u001b[90mFloat64\u001b[39m │ \u001b[90mNothing\u001b[39m │ \u001b[90mNothing\u001b[39m  │\n",
       "├─────┼───────────┼─────────┼─────────┼─────────┼─────────┼─────────┼──────────┤\n",
       "│ 1   │ TV        │ 147.043 │ 0.7     │ 149.75  │ 296.4   │         │          │\n",
       "│ 2   │ Radio     │ 23.264  │ 0.0     │ 22.9    │ 49.6    │         │          │\n",
       "│ 3   │ Newspaper │ 30.554  │ 0.3     │ 25.75   │ 114.0   │         │          │\n",
       "│ 4   │ Sales     │ 14.0225 │ 1.6     │ 12.9    │ 27.0    │         │          │"
      ]
     },
     "execution_count": 15,
     "metadata": {},
     "output_type": "execute_result"
    }
   ],
   "source": [
    "advertising = CSV.read(\"Data/Advertising.csv\", DataFrame, select=[2,3,4,5])\n",
    "describe(advertising)"
   ]
  },
  {
   "cell_type": "code",
   "execution_count": 24,
   "metadata": {},
   "outputs": [
    {
     "name": "stdout",
     "output_type": "stream",
     "text": [
      "1:1:12"
     ]
    }
   ],
   "source": [
    "print(range(1,step=1,stop=12))"
   ]
  },
  {
   "cell_type": "code",
   "execution_count": null,
   "metadata": {},
   "outputs": [],
   "source": []
  }
 ],
 "metadata": {
  "kernelspec": {
   "display_name": "Julia 1.4.2",
   "language": "julia",
   "name": "julia-1.4"
  },
  "language_info": {
   "file_extension": ".jl",
   "mimetype": "application/julia",
   "name": "julia",
   "version": "1.4.2"
  }
 },
 "nbformat": 4,
 "nbformat_minor": 4
}
