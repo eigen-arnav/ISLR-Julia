{
 "cells": [
  {
   "cell_type": "code",
   "execution_count": 51,
   "id": "8c73c6ef",
   "metadata": {},
   "outputs": [
    {
     "name": "stderr",
     "output_type": "stream",
     "text": [
      "\u001b[32m\u001b[1m    Building\u001b[22m\u001b[39m WebIO → `~/.julia/scratchspaces/44cfe95a-1eb2-52ea-b672-e2afdf69b78f/a8bbcd0b08061bba794c56fb78426e96e114ae7f/build.log`\n"
     ]
    }
   ],
   "source": [
    "using Pkg\n",
    "Pkg.build(\"WebIO\")"
   ]
  },
  {
   "cell_type": "code",
   "execution_count": 47,
   "id": "f0bf6c05",
   "metadata": {},
   "outputs": [],
   "source": [
    "using CSV\n",
    "using DataFrames\n",
    "using StatsBase\n",
    "using MultivariateStats\n",
    "using PlotlyJS"
   ]
  },
  {
   "cell_type": "code",
   "execution_count": 2,
   "id": "b3a4164b",
   "metadata": {},
   "outputs": [
    {
     "name": "stdout",
     "output_type": "stream",
     "text": [
      "CSV.File\n"
     ]
    }
   ],
   "source": [
    "# read from csv file\n",
    "csv_reader = CSV.File(\"./Data/USArrests.csv\")\n",
    "println(typeof(csv_reader))"
   ]
  },
  {
   "cell_type": "code",
   "execution_count": 3,
   "id": "d7a92f2c",
   "metadata": {},
   "outputs": [
    {
     "data": {
      "text/html": [
       "<div><div style = \"float: left;\"><span>5×5 DataFrame</span></div><div style = \"clear: both;\"></div></div><div class = \"data-frame\" style = \"overflow-x: scroll;\"><table class = \"data-frame\" style = \"margin-bottom: 6px;\"><thead><tr class = \"header\"><th class = \"rowNumber\" style = \"font-weight: bold; text-align: right;\">Row</th><th style = \"text-align: left;\">Column1</th><th style = \"text-align: left;\">Murder</th><th style = \"text-align: left;\">Assault</th><th style = \"text-align: left;\">UrbanPop</th><th style = \"text-align: left;\">Rape</th></tr><tr class = \"subheader headerLastRow\"><th class = \"rowNumber\" style = \"font-weight: bold; text-align: right;\"></th><th title = \"String15\" style = \"text-align: left;\">String15</th><th title = \"Float64\" style = \"text-align: left;\">Float64</th><th title = \"Int64\" style = \"text-align: left;\">Int64</th><th title = \"Int64\" style = \"text-align: left;\">Int64</th><th title = \"Float64\" style = \"text-align: left;\">Float64</th></tr></thead><tbody><tr><td class = \"rowNumber\" style = \"font-weight: bold; text-align: right;\">1</td><td style = \"text-align: left;\">Alabama</td><td style = \"text-align: right;\">13.2</td><td style = \"text-align: right;\">236</td><td style = \"text-align: right;\">58</td><td style = \"text-align: right;\">21.2</td></tr><tr><td class = \"rowNumber\" style = \"font-weight: bold; text-align: right;\">2</td><td style = \"text-align: left;\">Alaska</td><td style = \"text-align: right;\">10.0</td><td style = \"text-align: right;\">263</td><td style = \"text-align: right;\">48</td><td style = \"text-align: right;\">44.5</td></tr><tr><td class = \"rowNumber\" style = \"font-weight: bold; text-align: right;\">3</td><td style = \"text-align: left;\">Arizona</td><td style = \"text-align: right;\">8.1</td><td style = \"text-align: right;\">294</td><td style = \"text-align: right;\">80</td><td style = \"text-align: right;\">31.0</td></tr><tr><td class = \"rowNumber\" style = \"font-weight: bold; text-align: right;\">4</td><td style = \"text-align: left;\">Arkansas</td><td style = \"text-align: right;\">8.8</td><td style = \"text-align: right;\">190</td><td style = \"text-align: right;\">50</td><td style = \"text-align: right;\">19.5</td></tr><tr><td class = \"rowNumber\" style = \"font-weight: bold; text-align: right;\">5</td><td style = \"text-align: left;\">California</td><td style = \"text-align: right;\">9.0</td><td style = \"text-align: right;\">276</td><td style = \"text-align: right;\">91</td><td style = \"text-align: right;\">40.6</td></tr></tbody></table></div>"
      ],
      "text/latex": [
       "\\begin{tabular}{r|ccccc}\n",
       "\t& Column1 & Murder & Assault & UrbanPop & Rape\\\\\n",
       "\t\\hline\n",
       "\t& String15 & Float64 & Int64 & Int64 & Float64\\\\\n",
       "\t\\hline\n",
       "\t1 & Alabama & 13.2 & 236 & 58 & 21.2 \\\\\n",
       "\t2 & Alaska & 10.0 & 263 & 48 & 44.5 \\\\\n",
       "\t3 & Arizona & 8.1 & 294 & 80 & 31.0 \\\\\n",
       "\t4 & Arkansas & 8.8 & 190 & 50 & 19.5 \\\\\n",
       "\t5 & California & 9.0 & 276 & 91 & 40.6 \\\\\n",
       "\\end{tabular}\n"
      ],
      "text/plain": [
       "\u001b[1m5×5 DataFrame\u001b[0m\n",
       "\u001b[1m Row \u001b[0m│\u001b[1m Column1    \u001b[0m\u001b[1m Murder  \u001b[0m\u001b[1m Assault \u001b[0m\u001b[1m UrbanPop \u001b[0m\u001b[1m Rape    \u001b[0m\n",
       "     │\u001b[90m String15   \u001b[0m\u001b[90m Float64 \u001b[0m\u001b[90m Int64   \u001b[0m\u001b[90m Int64    \u001b[0m\u001b[90m Float64 \u001b[0m\n",
       "─────┼─────────────────────────────────────────────────\n",
       "   1 │ Alabama        13.2      236        58     21.2\n",
       "   2 │ Alaska         10.0      263        48     44.5\n",
       "   3 │ Arizona         8.1      294        80     31.0\n",
       "   4 │ Arkansas        8.8      190        50     19.5\n",
       "   5 │ California      9.0      276        91     40.6"
      ]
     },
     "execution_count": 3,
     "metadata": {},
     "output_type": "execute_result"
    }
   ],
   "source": [
    "df = DataFrame(csv_reader)\n",
    "first(df,5)"
   ]
  },
  {
   "cell_type": "code",
   "execution_count": 4,
   "id": "fa0cc4cf",
   "metadata": {},
   "outputs": [
    {
     "data": {
      "text/plain": [
       "5-element Vector{String}:\n",
       " \"Column1\"\n",
       " \"Murder\"\n",
       " \"Assault\"\n",
       " \"UrbanPop\"\n",
       " \"Rape\""
      ]
     },
     "execution_count": 4,
     "metadata": {},
     "output_type": "execute_result"
    }
   ],
   "source": [
    "names(df)"
   ]
  },
  {
   "cell_type": "code",
   "execution_count": 5,
   "id": "04be504b",
   "metadata": {},
   "outputs": [
    {
     "data": {
      "text/plain": [
       "(50, 5)"
      ]
     },
     "execution_count": 5,
     "metadata": {},
     "output_type": "execute_result"
    }
   ],
   "source": [
    "size(df)"
   ]
  },
  {
   "cell_type": "code",
   "execution_count": 6,
   "id": "835bcbc1",
   "metadata": {},
   "outputs": [
    {
     "data": {
      "text/html": [
       "<div><div style = \"float: left;\"><span>5×7 DataFrame</span></div><div style = \"clear: both;\"></div></div><div class = \"data-frame\" style = \"overflow-x: scroll;\"><table class = \"data-frame\" style = \"margin-bottom: 6px;\"><thead><tr class = \"header\"><th class = \"rowNumber\" style = \"font-weight: bold; text-align: right;\">Row</th><th style = \"text-align: left;\">variable</th><th style = \"text-align: left;\">mean</th><th style = \"text-align: left;\">min</th><th style = \"text-align: left;\">median</th><th style = \"text-align: left;\">max</th><th style = \"text-align: left;\">nmissing</th><th style = \"text-align: left;\">eltype</th></tr><tr class = \"subheader headerLastRow\"><th class = \"rowNumber\" style = \"font-weight: bold; text-align: right;\"></th><th title = \"Symbol\" style = \"text-align: left;\">Symbol</th><th title = \"Union{Nothing, Float64}\" style = \"text-align: left;\">Union…</th><th title = \"Any\" style = \"text-align: left;\">Any</th><th title = \"Union{Nothing, Float64}\" style = \"text-align: left;\">Union…</th><th title = \"Any\" style = \"text-align: left;\">Any</th><th title = \"Int64\" style = \"text-align: left;\">Int64</th><th title = \"DataType\" style = \"text-align: left;\">DataType</th></tr></thead><tbody><tr><td class = \"rowNumber\" style = \"font-weight: bold; text-align: right;\">1</td><td style = \"text-align: left;\">Column1</td><td style = \"font-style: italic; text-align: left;\"></td><td style = \"text-align: left;\">Alabama</td><td style = \"font-style: italic; text-align: left;\"></td><td style = \"text-align: left;\">Wyoming</td><td style = \"text-align: right;\">0</td><td style = \"text-align: left;\">String15</td></tr><tr><td class = \"rowNumber\" style = \"font-weight: bold; text-align: right;\">2</td><td style = \"text-align: left;\">Murder</td><td style = \"text-align: left;\">7.788</td><td style = \"text-align: left;\">0.8</td><td style = \"text-align: left;\">7.25</td><td style = \"text-align: left;\">17.4</td><td style = \"text-align: right;\">0</td><td style = \"text-align: left;\">Float64</td></tr><tr><td class = \"rowNumber\" style = \"font-weight: bold; text-align: right;\">3</td><td style = \"text-align: left;\">Assault</td><td style = \"text-align: left;\">170.76</td><td style = \"text-align: left;\">45</td><td style = \"text-align: left;\">159.0</td><td style = \"text-align: left;\">337</td><td style = \"text-align: right;\">0</td><td style = \"text-align: left;\">Int64</td></tr><tr><td class = \"rowNumber\" style = \"font-weight: bold; text-align: right;\">4</td><td style = \"text-align: left;\">UrbanPop</td><td style = \"text-align: left;\">65.54</td><td style = \"text-align: left;\">32</td><td style = \"text-align: left;\">66.0</td><td style = \"text-align: left;\">91</td><td style = \"text-align: right;\">0</td><td style = \"text-align: left;\">Int64</td></tr><tr><td class = \"rowNumber\" style = \"font-weight: bold; text-align: right;\">5</td><td style = \"text-align: left;\">Rape</td><td style = \"text-align: left;\">21.232</td><td style = \"text-align: left;\">7.3</td><td style = \"text-align: left;\">20.1</td><td style = \"text-align: left;\">46.0</td><td style = \"text-align: right;\">0</td><td style = \"text-align: left;\">Float64</td></tr></tbody></table></div>"
      ],
      "text/latex": [
       "\\begin{tabular}{r|ccccccc}\n",
       "\t& variable & mean & min & median & max & nmissing & eltype\\\\\n",
       "\t\\hline\n",
       "\t& Symbol & Union… & Any & Union… & Any & Int64 & DataType\\\\\n",
       "\t\\hline\n",
       "\t1 & Column1 &  & Alabama &  & Wyoming & 0 & String15 \\\\\n",
       "\t2 & Murder & 7.788 & 0.8 & 7.25 & 17.4 & 0 & Float64 \\\\\n",
       "\t3 & Assault & 170.76 & 45 & 159.0 & 337 & 0 & Int64 \\\\\n",
       "\t4 & UrbanPop & 65.54 & 32 & 66.0 & 91 & 0 & Int64 \\\\\n",
       "\t5 & Rape & 21.232 & 7.3 & 20.1 & 46.0 & 0 & Float64 \\\\\n",
       "\\end{tabular}\n"
      ],
      "text/plain": [
       "\u001b[1m5×7 DataFrame\u001b[0m\n",
       "\u001b[1m Row \u001b[0m│\u001b[1m variable \u001b[0m\u001b[1m mean   \u001b[0m\u001b[1m min     \u001b[0m\u001b[1m median \u001b[0m\u001b[1m max     \u001b[0m\u001b[1m nmissing \u001b[0m\u001b[1m eltype   \u001b[0m\n",
       "     │\u001b[90m Symbol   \u001b[0m\u001b[90m Union… \u001b[0m\u001b[90m Any     \u001b[0m\u001b[90m Union… \u001b[0m\u001b[90m Any     \u001b[0m\u001b[90m Int64    \u001b[0m\u001b[90m DataType \u001b[0m\n",
       "─────┼────────────────────────────────────────────────────────────────\n",
       "   1 │ Column1  \u001b[90m        \u001b[0m Alabama \u001b[90m        \u001b[0m Wyoming         0  String15\n",
       "   2 │ Murder    7.788   0.8      7.25    17.4            0  Float64\n",
       "   3 │ Assault   170.76  45       159.0   337             0  Int64\n",
       "   4 │ UrbanPop  65.54   32       66.0    91              0  Int64\n",
       "   5 │ Rape      21.232  7.3      20.1    46.0            0  Float64"
      ]
     },
     "execution_count": 6,
     "metadata": {},
     "output_type": "execute_result"
    }
   ],
   "source": [
    "describe(df)"
   ]
  },
  {
   "cell_type": "code",
   "execution_count": 18,
   "id": "32615c9d",
   "metadata": {},
   "outputs": [
    {
     "data": {
      "text/html": [
       "<div><div style = \"float: left;\"><span>50×4 DataFrame</span></div><div style = \"float: right;\"><span style = \"font-style: italic;\">25 rows omitted</span></div><div style = \"clear: both;\"></div></div><div class = \"data-frame\" style = \"overflow-x: scroll;\"><table class = \"data-frame\" style = \"margin-bottom: 6px;\"><thead><tr class = \"header\"><th class = \"rowNumber\" style = \"font-weight: bold; text-align: right;\">Row</th><th style = \"text-align: left;\">Murder</th><th style = \"text-align: left;\">Assault</th><th style = \"text-align: left;\">UrbanPop</th><th style = \"text-align: left;\">Rape</th></tr><tr class = \"subheader headerLastRow\"><th class = \"rowNumber\" style = \"font-weight: bold; text-align: right;\"></th><th title = \"Float64\" style = \"text-align: left;\">Float64</th><th title = \"Int64\" style = \"text-align: left;\">Int64</th><th title = \"Int64\" style = \"text-align: left;\">Int64</th><th title = \"Float64\" style = \"text-align: left;\">Float64</th></tr></thead><tbody><tr><td class = \"rowNumber\" style = \"font-weight: bold; text-align: right;\">1</td><td style = \"text-align: right;\">13.2</td><td style = \"text-align: right;\">236</td><td style = \"text-align: right;\">58</td><td style = \"text-align: right;\">21.2</td></tr><tr><td class = \"rowNumber\" style = \"font-weight: bold; text-align: right;\">2</td><td style = \"text-align: right;\">10.0</td><td style = \"text-align: right;\">263</td><td style = \"text-align: right;\">48</td><td style = \"text-align: right;\">44.5</td></tr><tr><td class = \"rowNumber\" style = \"font-weight: bold; text-align: right;\">3</td><td style = \"text-align: right;\">8.1</td><td style = \"text-align: right;\">294</td><td style = \"text-align: right;\">80</td><td style = \"text-align: right;\">31.0</td></tr><tr><td class = \"rowNumber\" style = \"font-weight: bold; text-align: right;\">4</td><td style = \"text-align: right;\">8.8</td><td style = \"text-align: right;\">190</td><td style = \"text-align: right;\">50</td><td style = \"text-align: right;\">19.5</td></tr><tr><td class = \"rowNumber\" style = \"font-weight: bold; text-align: right;\">5</td><td style = \"text-align: right;\">9.0</td><td style = \"text-align: right;\">276</td><td style = \"text-align: right;\">91</td><td style = \"text-align: right;\">40.6</td></tr><tr><td class = \"rowNumber\" style = \"font-weight: bold; text-align: right;\">6</td><td style = \"text-align: right;\">7.9</td><td style = \"text-align: right;\">204</td><td style = \"text-align: right;\">78</td><td style = \"text-align: right;\">38.7</td></tr><tr><td class = \"rowNumber\" style = \"font-weight: bold; text-align: right;\">7</td><td style = \"text-align: right;\">3.3</td><td style = \"text-align: right;\">110</td><td style = \"text-align: right;\">77</td><td style = \"text-align: right;\">11.1</td></tr><tr><td class = \"rowNumber\" style = \"font-weight: bold; text-align: right;\">8</td><td style = \"text-align: right;\">5.9</td><td style = \"text-align: right;\">238</td><td style = \"text-align: right;\">72</td><td style = \"text-align: right;\">15.8</td></tr><tr><td class = \"rowNumber\" style = \"font-weight: bold; text-align: right;\">9</td><td style = \"text-align: right;\">15.4</td><td style = \"text-align: right;\">335</td><td style = \"text-align: right;\">80</td><td style = \"text-align: right;\">31.9</td></tr><tr><td class = \"rowNumber\" style = \"font-weight: bold; text-align: right;\">10</td><td style = \"text-align: right;\">17.4</td><td style = \"text-align: right;\">211</td><td style = \"text-align: right;\">60</td><td style = \"text-align: right;\">25.8</td></tr><tr><td class = \"rowNumber\" style = \"font-weight: bold; text-align: right;\">11</td><td style = \"text-align: right;\">5.3</td><td style = \"text-align: right;\">46</td><td style = \"text-align: right;\">83</td><td style = \"text-align: right;\">20.2</td></tr><tr><td class = \"rowNumber\" style = \"font-weight: bold; text-align: right;\">12</td><td style = \"text-align: right;\">2.6</td><td style = \"text-align: right;\">120</td><td style = \"text-align: right;\">54</td><td style = \"text-align: right;\">14.2</td></tr><tr><td class = \"rowNumber\" style = \"font-weight: bold; text-align: right;\">13</td><td style = \"text-align: right;\">10.4</td><td style = \"text-align: right;\">249</td><td style = \"text-align: right;\">83</td><td style = \"text-align: right;\">24.0</td></tr><tr><td style = \"text-align: right;\">&vellip;</td><td style = \"text-align: right;\">&vellip;</td><td style = \"text-align: right;\">&vellip;</td><td style = \"text-align: right;\">&vellip;</td><td style = \"text-align: right;\">&vellip;</td></tr><tr><td class = \"rowNumber\" style = \"font-weight: bold; text-align: right;\">39</td><td style = \"text-align: right;\">3.4</td><td style = \"text-align: right;\">174</td><td style = \"text-align: right;\">87</td><td style = \"text-align: right;\">8.3</td></tr><tr><td class = \"rowNumber\" style = \"font-weight: bold; text-align: right;\">40</td><td style = \"text-align: right;\">14.4</td><td style = \"text-align: right;\">279</td><td style = \"text-align: right;\">48</td><td style = \"text-align: right;\">22.5</td></tr><tr><td class = \"rowNumber\" style = \"font-weight: bold; text-align: right;\">41</td><td style = \"text-align: right;\">3.8</td><td style = \"text-align: right;\">86</td><td style = \"text-align: right;\">45</td><td style = \"text-align: right;\">12.8</td></tr><tr><td class = \"rowNumber\" style = \"font-weight: bold; text-align: right;\">42</td><td style = \"text-align: right;\">13.2</td><td style = \"text-align: right;\">188</td><td style = \"text-align: right;\">59</td><td style = \"text-align: right;\">26.9</td></tr><tr><td class = \"rowNumber\" style = \"font-weight: bold; text-align: right;\">43</td><td style = \"text-align: right;\">12.7</td><td style = \"text-align: right;\">201</td><td style = \"text-align: right;\">80</td><td style = \"text-align: right;\">25.5</td></tr><tr><td class = \"rowNumber\" style = \"font-weight: bold; text-align: right;\">44</td><td style = \"text-align: right;\">3.2</td><td style = \"text-align: right;\">120</td><td style = \"text-align: right;\">80</td><td style = \"text-align: right;\">22.9</td></tr><tr><td class = \"rowNumber\" style = \"font-weight: bold; text-align: right;\">45</td><td style = \"text-align: right;\">2.2</td><td style = \"text-align: right;\">48</td><td style = \"text-align: right;\">32</td><td style = \"text-align: right;\">11.2</td></tr><tr><td class = \"rowNumber\" style = \"font-weight: bold; text-align: right;\">46</td><td style = \"text-align: right;\">8.5</td><td style = \"text-align: right;\">156</td><td style = \"text-align: right;\">63</td><td style = \"text-align: right;\">20.7</td></tr><tr><td class = \"rowNumber\" style = \"font-weight: bold; text-align: right;\">47</td><td style = \"text-align: right;\">4.0</td><td style = \"text-align: right;\">145</td><td style = \"text-align: right;\">73</td><td style = \"text-align: right;\">26.2</td></tr><tr><td class = \"rowNumber\" style = \"font-weight: bold; text-align: right;\">48</td><td style = \"text-align: right;\">5.7</td><td style = \"text-align: right;\">81</td><td style = \"text-align: right;\">39</td><td style = \"text-align: right;\">9.3</td></tr><tr><td class = \"rowNumber\" style = \"font-weight: bold; text-align: right;\">49</td><td style = \"text-align: right;\">2.6</td><td style = \"text-align: right;\">53</td><td style = \"text-align: right;\">66</td><td style = \"text-align: right;\">10.8</td></tr><tr><td class = \"rowNumber\" style = \"font-weight: bold; text-align: right;\">50</td><td style = \"text-align: right;\">6.8</td><td style = \"text-align: right;\">161</td><td style = \"text-align: right;\">60</td><td style = \"text-align: right;\">15.6</td></tr></tbody></table></div>"
      ],
      "text/latex": [
       "\\begin{tabular}{r|cccc}\n",
       "\t& Murder & Assault & UrbanPop & Rape\\\\\n",
       "\t\\hline\n",
       "\t& Float64 & Int64 & Int64 & Float64\\\\\n",
       "\t\\hline\n",
       "\t1 & 13.2 & 236 & 58 & 21.2 \\\\\n",
       "\t2 & 10.0 & 263 & 48 & 44.5 \\\\\n",
       "\t3 & 8.1 & 294 & 80 & 31.0 \\\\\n",
       "\t4 & 8.8 & 190 & 50 & 19.5 \\\\\n",
       "\t5 & 9.0 & 276 & 91 & 40.6 \\\\\n",
       "\t6 & 7.9 & 204 & 78 & 38.7 \\\\\n",
       "\t7 & 3.3 & 110 & 77 & 11.1 \\\\\n",
       "\t8 & 5.9 & 238 & 72 & 15.8 \\\\\n",
       "\t9 & 15.4 & 335 & 80 & 31.9 \\\\\n",
       "\t10 & 17.4 & 211 & 60 & 25.8 \\\\\n",
       "\t11 & 5.3 & 46 & 83 & 20.2 \\\\\n",
       "\t12 & 2.6 & 120 & 54 & 14.2 \\\\\n",
       "\t13 & 10.4 & 249 & 83 & 24.0 \\\\\n",
       "\t14 & 7.2 & 113 & 65 & 21.0 \\\\\n",
       "\t15 & 2.2 & 56 & 57 & 11.3 \\\\\n",
       "\t16 & 6.0 & 115 & 66 & 18.0 \\\\\n",
       "\t17 & 9.7 & 109 & 52 & 16.3 \\\\\n",
       "\t18 & 15.4 & 249 & 66 & 22.2 \\\\\n",
       "\t19 & 2.1 & 83 & 51 & 7.8 \\\\\n",
       "\t20 & 11.3 & 300 & 67 & 27.8 \\\\\n",
       "\t21 & 4.4 & 149 & 85 & 16.3 \\\\\n",
       "\t22 & 12.1 & 255 & 74 & 35.1 \\\\\n",
       "\t23 & 2.7 & 72 & 66 & 14.9 \\\\\n",
       "\t24 & 16.1 & 259 & 44 & 17.1 \\\\\n",
       "\t25 & 9.0 & 178 & 70 & 28.2 \\\\\n",
       "\t26 & 6.0 & 109 & 53 & 16.4 \\\\\n",
       "\t27 & 4.3 & 102 & 62 & 16.5 \\\\\n",
       "\t28 & 12.2 & 252 & 81 & 46.0 \\\\\n",
       "\t29 & 2.1 & 57 & 56 & 9.5 \\\\\n",
       "\t30 & 7.4 & 159 & 89 & 18.8 \\\\\n",
       "\t$\\dots$ & $\\dots$ & $\\dots$ & $\\dots$ & $\\dots$ \\\\\n",
       "\\end{tabular}\n"
      ],
      "text/plain": [
       "\u001b[1m50×4 DataFrame\u001b[0m\n",
       "\u001b[1m Row \u001b[0m│\u001b[1m Murder  \u001b[0m\u001b[1m Assault \u001b[0m\u001b[1m UrbanPop \u001b[0m\u001b[1m Rape    \u001b[0m\n",
       "     │\u001b[90m Float64 \u001b[0m\u001b[90m Int64   \u001b[0m\u001b[90m Int64    \u001b[0m\u001b[90m Float64 \u001b[0m\n",
       "─────┼─────────────────────────────────────\n",
       "   1 │    13.2      236        58     21.2\n",
       "   2 │    10.0      263        48     44.5\n",
       "   3 │     8.1      294        80     31.0\n",
       "   4 │     8.8      190        50     19.5\n",
       "   5 │     9.0      276        91     40.6\n",
       "   6 │     7.9      204        78     38.7\n",
       "   7 │     3.3      110        77     11.1\n",
       "   8 │     5.9      238        72     15.8\n",
       "   9 │    15.4      335        80     31.9\n",
       "  10 │    17.4      211        60     25.8\n",
       "  11 │     5.3       46        83     20.2\n",
       "  ⋮  │    ⋮        ⋮        ⋮         ⋮\n",
       "  41 │     3.8       86        45     12.8\n",
       "  42 │    13.2      188        59     26.9\n",
       "  43 │    12.7      201        80     25.5\n",
       "  44 │     3.2      120        80     22.9\n",
       "  45 │     2.2       48        32     11.2\n",
       "  46 │     8.5      156        63     20.7\n",
       "  47 │     4.0      145        73     26.2\n",
       "  48 │     5.7       81        39      9.3\n",
       "  49 │     2.6       53        66     10.8\n",
       "  50 │     6.8      161        60     15.6\n",
       "\u001b[36m                            29 rows omitted\u001b[0m"
      ]
     },
     "execution_count": 18,
     "metadata": {},
     "output_type": "execute_result"
    }
   ],
   "source": [
    "newdf = df[!, Not(\"Column1\")]\n",
    "newdf"
   ]
  },
  {
   "cell_type": "code",
   "execution_count": 29,
   "id": "7416c555",
   "metadata": {},
   "outputs": [
    {
     "data": {
      "text/plain": [
       "50×4 Matrix{Float64}:\n",
       "  1.24256     0.782839  -0.520907   -0.00341647\n",
       "  0.507862    1.10682   -1.21176     2.4842\n",
       "  0.0716334   1.4788     0.99898     1.04288\n",
       "  0.232349    0.230868  -1.07359    -0.184917\n",
       "  0.278268    1.26281    1.75892     2.06782\n",
       "  0.0257146   0.398859   0.860809    1.86497\n",
       " -1.03042    -0.729082   0.791723   -1.08174\n",
       " -0.433474    0.806838   0.446294   -0.579946\n",
       "  1.74767     1.97078    0.99898     1.13897\n",
       "  2.20686     0.482855  -0.382735    0.487702\n",
       " -0.57123    -1.49704    1.20624    -0.110181\n",
       " -1.19113    -0.609088  -0.79725    -0.75077\n",
       "  0.5997      0.938831   1.20624     0.295525\n",
       "  ⋮                                 \n",
       " -1.00746     0.038878   1.48258    -1.38068\n",
       "  1.51808     1.29881   -1.21176     0.135378\n",
       " -0.915622   -1.01707   -1.41902    -0.900241\n",
       "  1.24256     0.206869  -0.451821    0.605143\n",
       "  1.12777     0.362861   0.99898     0.455672\n",
       " -1.05338    -0.609088   0.99898     0.178084\n",
       " -1.28297    -1.47304   -2.31714    -1.07106\n",
       "  0.163471   -0.177111  -0.175478   -0.0567989\n",
       " -0.869703   -0.309104   0.51538     0.530407\n",
       " -0.479393   -1.07706   -1.83354    -1.27392\n",
       " -1.19113    -1.41305    0.0317794  -1.11377\n",
       " -0.226839   -0.117114  -0.382735   -0.601299"
      ]
     },
     "execution_count": 29,
     "metadata": {},
     "output_type": "execute_result"
    }
   ],
   "source": [
    "df1 = Matrix(newdf) #convert dataframe to matrix\n",
    "dt_std = standardize(ZScoreTransform, df1, dims=1)"
   ]
  },
  {
   "cell_type": "code",
   "execution_count": 39,
   "id": "96d5e4f2",
   "metadata": {},
   "outputs": [
    {
     "data": {
      "text/plain": [
       "50×5 Matrix{Any}:\n",
       " \"Alabama\"          1.24256     0.782839  -0.520907   -0.00341647\n",
       " \"Alaska\"           0.507862    1.10682   -1.21176     2.4842\n",
       " \"Arizona\"          0.0716334   1.4788     0.99898     1.04288\n",
       " \"Arkansas\"         0.232349    0.230868  -1.07359    -0.184917\n",
       " \"California\"       0.278268    1.26281    1.75892     2.06782\n",
       " \"Colorado\"         0.0257146   0.398859   0.860809    1.86497\n",
       " \"Connecticut\"     -1.03042    -0.729082   0.791723   -1.08174\n",
       " \"Delaware\"        -0.433474    0.806838   0.446294   -0.579946\n",
       " \"Florida\"          1.74767     1.97078    0.99898     1.13897\n",
       " \"Georgia\"          2.20686     0.482855  -0.382735    0.487702\n",
       " \"Hawaii\"          -0.57123    -1.49704    1.20624    -0.110181\n",
       " \"Idaho\"           -1.19113    -0.609088  -0.79725    -0.75077\n",
       " \"Illinois\"         0.5997      0.938831   1.20624     0.295525\n",
       " ⋮                                                    \n",
       " \"Rhode Island\"    -1.00746     0.038878   1.48258    -1.38068\n",
       " \"South Carolina\"   1.51808     1.29881   -1.21176     0.135378\n",
       " \"South Dakota\"    -0.915622   -1.01707   -1.41902    -0.900241\n",
       " \"Tennessee\"        1.24256     0.206869  -0.451821    0.605143\n",
       " \"Texas\"            1.12777     0.362861   0.99898     0.455672\n",
       " \"Utah\"            -1.05338    -0.609088   0.99898     0.178084\n",
       " \"Vermont\"         -1.28297    -1.47304   -2.31714    -1.07106\n",
       " \"Virginia\"         0.163471   -0.177111  -0.175478   -0.0567989\n",
       " \"Washington\"      -0.869703   -0.309104   0.51538     0.530407\n",
       " \"West Virginia\"   -0.479393   -1.07706   -1.83354    -1.27392\n",
       " \"Wisconsin\"       -1.19113    -1.41305    0.0317794  -1.11377\n",
       " \"Wyoming\"         -0.226839   -0.117114  -0.382735   -0.601299"
      ]
     },
     "execution_count": 39,
     "metadata": {},
     "output_type": "execute_result"
    }
   ],
   "source": [
    "col1 = Matrix(df[!,r\"Column1\"])\n",
    "matrix_std = hcat(col1,dt_std)\n",
    "matrix_std"
   ]
  },
  {
   "cell_type": "code",
   "execution_count": 43,
   "id": "60cab4ce",
   "metadata": {},
   "outputs": [
    {
     "data": {
      "text/plain": [
       "PCA(indim = 50, outdim = 3, principalratio = 1.0)\n",
       "\n",
       "Pattern matrix (unstandardized loadings):\n",
       "────────────────────────────────────────\n",
       "           PC1          PC2          PC3\n",
       "────────────────────────────────────────\n",
       "1    0.74425     0.251848    -0.0654225\n",
       "2    0.897098   -1.22244      0.21705\n",
       "3   -0.17826    -0.160276     0.541296\n",
       "4    0.610275   -0.0268373    0.0741424\n",
       "5   -0.519466   -0.514165     0.280359\n",
       "6   -0.332384   -0.722078     0.0260775\n",
       "7   -0.791818    0.385011     0.0696502\n",
       "8   -0.179199    0.367492     0.534961\n",
       "9    0.393805    0.192795     0.165758\n",
       "10   0.898357    0.198856    -0.576018\n",
       "11  -1.00129    -0.0131412   -0.513161\n",
       "12  -0.0787976  -0.0836227    0.221183\n",
       "13  -0.217461    0.29709      0.148197\n",
       "14  -0.149325   -0.0990049   -0.26217\n",
       "15  -0.341368    0.0031594   -0.0822179\n",
       "16  -0.254023    0.0180645   -0.137456\n",
       "17   0.428194    0.102562    -0.422132\n",
       "18   0.660376    0.419425    -0.200839\n",
       "19  -0.0926491   0.145547     0.110318\n",
       "20   0.466521    0.00829598   0.369115\n",
       "21  -0.89377     0.312384     0.137245\n",
       "22   0.189145   -0.313793    -0.00463105\n",
       "23  -0.564871   -0.0313309   -0.0828898\n",
       "24   1.43973     0.464095    -0.112834\n",
       "25  -0.0524784  -0.246969    -0.115475\n",
       "26   0.151754   -0.0658911   -0.125471\n",
       "27  -0.265359   -0.0498312   -0.0498904\n",
       "28  -0.0439921  -0.804062    -0.117311\n",
       "29  -0.312273    0.08276     -0.0545209\n",
       "30  -0.804018    0.384974    -0.0783602\n",
       "31   0.340249   -0.197644     0.244317\n",
       "32  -0.258164    0.262759     0.0971624\n",
       "33   1.37662     0.486007     0.564579\n",
       "34  -0.0373062  -0.0266743    0.0315753\n",
       "35  -0.448959    0.0175107   -0.261255\n",
       "36  -0.200386    0.0131018   -0.00926019\n",
       "37  -0.269598   -0.562095     0.114848\n",
       "38  -0.444753    0.258813    -0.206412\n",
       "39  -0.962724    0.746813     0.399718\n",
       "40   1.23928     0.173336     0.0881047\n",
       "41   0.215384   -0.108977    -0.0275249\n",
       "42   0.601478   -0.101593    -0.36451\n",
       "43  -0.076729    0.225849    -0.299873\n",
       "44  -0.881421   -0.194637     0.048326\n",
       "45   0.444614   -0.311342    -0.0591046\n",
       "46   0.0963193   0.0109481   -0.12754\n",
       "47  -0.550619   -0.384914     0.116095\n",
       "48   0.525175    0.0857785   -0.170381\n",
       "49  -0.610557    0.155947    -0.151364\n",
       "50   0.0954058   0.170096     0.0779451\n",
       "────────────────────────────────────────\n",
       "\n",
       "Importance of components:\n",
       "───────────────────────────────────────────────────────\n",
       "                                PC1       PC2       PC3\n",
       "───────────────────────────────────────────────────────\n",
       "SS Loadings (Eigenvalues)  17.3507   6.05813   2.96562\n",
       "Variance explained          0.65786  0.229697  0.112443\n",
       "Cumulative variance         0.65786  0.887557  1.0\n",
       "Proportion explained        0.65786  0.229697  0.112443\n",
       "Cumulative proportion       0.65786  0.887557  1.0\n",
       "───────────────────────────────────────────────────────"
      ]
     },
     "execution_count": 43,
     "metadata": {},
     "output_type": "execute_result"
    }
   ],
   "source": [
    "M = fit(PCA,dt_std; maxoutdim=4)"
   ]
  },
  {
   "cell_type": "code",
   "execution_count": 50,
   "id": "f686e049",
   "metadata": {},
   "outputs": [
    {
     "data": {
      "application/vnd.plotly.v1+json": {
       "config": {
        "editable": false,
        "responsive": true,
        "scrollZoom": true,
        "showLink": false,
        "staticPlot": false
       },
       "data": [
        {
         "diagonal": {
          "visible": false
         },
         "dimensions": [
          {
           "axis": {
            "matches": true
           },
           "label": "Column1",
           "values": [
            "Alabama"
           ]
          },
          {
           "axis": {
            "matches": true
           },
           "label": "Murder",
           "values": [
            13.2
           ]
          },
          {
           "axis": {
            "matches": true
           },
           "label": "Assault",
           "values": [
            236
           ]
          },
          {
           "axis": {
            "matches": true
           },
           "label": "UrbanPop",
           "values": [
            58
           ]
          },
          {
           "axis": {
            "matches": true
           },
           "label": "Rape",
           "values": [
            21.2
           ]
          }
         ],
         "legendgroup": "Alabama",
         "marker": {
          "color": "#636efa"
         },
         "name": "Alabama",
         "showlegend": true,
         "type": "splom",
         "xaxis": "x",
         "yaxis": "y"
        },
        {
         "diagonal": {
          "visible": false
         },
         "dimensions": [
          {
           "axis": {
            "matches": true
           },
           "label": "Column1",
           "values": [
            "Alaska"
           ]
          },
          {
           "axis": {
            "matches": true
           },
           "label": "Murder",
           "values": [
            10
           ]
          },
          {
           "axis": {
            "matches": true
           },
           "label": "Assault",
           "values": [
            263
           ]
          },
          {
           "axis": {
            "matches": true
           },
           "label": "UrbanPop",
           "values": [
            48
           ]
          },
          {
           "axis": {
            "matches": true
           },
           "label": "Rape",
           "values": [
            44.5
           ]
          }
         ],
         "legendgroup": "Alaska",
         "marker": {
          "color": "#EF553B"
         },
         "name": "Alaska",
         "showlegend": true,
         "type": "splom",
         "xaxis": "x",
         "yaxis": "y"
        },
        {
         "diagonal": {
          "visible": false
         },
         "dimensions": [
          {
           "axis": {
            "matches": true
           },
           "label": "Column1",
           "values": [
            "Arizona"
           ]
          },
          {
           "axis": {
            "matches": true
           },
           "label": "Murder",
           "values": [
            8.1
           ]
          },
          {
           "axis": {
            "matches": true
           },
           "label": "Assault",
           "values": [
            294
           ]
          },
          {
           "axis": {
            "matches": true
           },
           "label": "UrbanPop",
           "values": [
            80
           ]
          },
          {
           "axis": {
            "matches": true
           },
           "label": "Rape",
           "values": [
            31
           ]
          }
         ],
         "legendgroup": "Arizona",
         "marker": {
          "color": "#00cc96"
         },
         "name": "Arizona",
         "showlegend": true,
         "type": "splom",
         "xaxis": "x",
         "yaxis": "y"
        },
        {
         "diagonal": {
          "visible": false
         },
         "dimensions": [
          {
           "axis": {
            "matches": true
           },
           "label": "Column1",
           "values": [
            "Arkansas"
           ]
          },
          {
           "axis": {
            "matches": true
           },
           "label": "Murder",
           "values": [
            8.8
           ]
          },
          {
           "axis": {
            "matches": true
           },
           "label": "Assault",
           "values": [
            190
           ]
          },
          {
           "axis": {
            "matches": true
           },
           "label": "UrbanPop",
           "values": [
            50
           ]
          },
          {
           "axis": {
            "matches": true
           },
           "label": "Rape",
           "values": [
            19.5
           ]
          }
         ],
         "legendgroup": "Arkansas",
         "marker": {
          "color": "#ab63fa"
         },
         "name": "Arkansas",
         "showlegend": true,
         "type": "splom",
         "xaxis": "x",
         "yaxis": "y"
        },
        {
         "diagonal": {
          "visible": false
         },
         "dimensions": [
          {
           "axis": {
            "matches": true
           },
           "label": "Column1",
           "values": [
            "California"
           ]
          },
          {
           "axis": {
            "matches": true
           },
           "label": "Murder",
           "values": [
            9
           ]
          },
          {
           "axis": {
            "matches": true
           },
           "label": "Assault",
           "values": [
            276
           ]
          },
          {
           "axis": {
            "matches": true
           },
           "label": "UrbanPop",
           "values": [
            91
           ]
          },
          {
           "axis": {
            "matches": true
           },
           "label": "Rape",
           "values": [
            40.6
           ]
          }
         ],
         "legendgroup": "California",
         "marker": {
          "color": "#FFA15A"
         },
         "name": "California",
         "showlegend": true,
         "type": "splom",
         "xaxis": "x",
         "yaxis": "y"
        },
        {
         "diagonal": {
          "visible": false
         },
         "dimensions": [
          {
           "axis": {
            "matches": true
           },
           "label": "Column1",
           "values": [
            "Colorado"
           ]
          },
          {
           "axis": {
            "matches": true
           },
           "label": "Murder",
           "values": [
            7.9
           ]
          },
          {
           "axis": {
            "matches": true
           },
           "label": "Assault",
           "values": [
            204
           ]
          },
          {
           "axis": {
            "matches": true
           },
           "label": "UrbanPop",
           "values": [
            78
           ]
          },
          {
           "axis": {
            "matches": true
           },
           "label": "Rape",
           "values": [
            38.7
           ]
          }
         ],
         "legendgroup": "Colorado",
         "marker": {
          "color": "#19d3f3"
         },
         "name": "Colorado",
         "showlegend": true,
         "type": "splom",
         "xaxis": "x",
         "yaxis": "y"
        },
        {
         "diagonal": {
          "visible": false
         },
         "dimensions": [
          {
           "axis": {
            "matches": true
           },
           "label": "Column1",
           "values": [
            "Connecticut"
           ]
          },
          {
           "axis": {
            "matches": true
           },
           "label": "Murder",
           "values": [
            3.3
           ]
          },
          {
           "axis": {
            "matches": true
           },
           "label": "Assault",
           "values": [
            110
           ]
          },
          {
           "axis": {
            "matches": true
           },
           "label": "UrbanPop",
           "values": [
            77
           ]
          },
          {
           "axis": {
            "matches": true
           },
           "label": "Rape",
           "values": [
            11.1
           ]
          }
         ],
         "legendgroup": "Connecticut",
         "marker": {
          "color": "#FF6692"
         },
         "name": "Connecticut",
         "showlegend": true,
         "type": "splom",
         "xaxis": "x",
         "yaxis": "y"
        },
        {
         "diagonal": {
          "visible": false
         },
         "dimensions": [
          {
           "axis": {
            "matches": true
           },
           "label": "Column1",
           "values": [
            "Delaware"
           ]
          },
          {
           "axis": {
            "matches": true
           },
           "label": "Murder",
           "values": [
            5.9
           ]
          },
          {
           "axis": {
            "matches": true
           },
           "label": "Assault",
           "values": [
            238
           ]
          },
          {
           "axis": {
            "matches": true
           },
           "label": "UrbanPop",
           "values": [
            72
           ]
          },
          {
           "axis": {
            "matches": true
           },
           "label": "Rape",
           "values": [
            15.8
           ]
          }
         ],
         "legendgroup": "Delaware",
         "marker": {
          "color": "#B6E880"
         },
         "name": "Delaware",
         "showlegend": true,
         "type": "splom",
         "xaxis": "x",
         "yaxis": "y"
        },
        {
         "diagonal": {
          "visible": false
         },
         "dimensions": [
          {
           "axis": {
            "matches": true
           },
           "label": "Column1",
           "values": [
            "Florida"
           ]
          },
          {
           "axis": {
            "matches": true
           },
           "label": "Murder",
           "values": [
            15.4
           ]
          },
          {
           "axis": {
            "matches": true
           },
           "label": "Assault",
           "values": [
            335
           ]
          },
          {
           "axis": {
            "matches": true
           },
           "label": "UrbanPop",
           "values": [
            80
           ]
          },
          {
           "axis": {
            "matches": true
           },
           "label": "Rape",
           "values": [
            31.9
           ]
          }
         ],
         "legendgroup": "Florida",
         "marker": {
          "color": "#FF97FF"
         },
         "name": "Florida",
         "showlegend": true,
         "type": "splom",
         "xaxis": "x",
         "yaxis": "y"
        },
        {
         "diagonal": {
          "visible": false
         },
         "dimensions": [
          {
           "axis": {
            "matches": true
           },
           "label": "Column1",
           "values": [
            "Georgia"
           ]
          },
          {
           "axis": {
            "matches": true
           },
           "label": "Murder",
           "values": [
            17.4
           ]
          },
          {
           "axis": {
            "matches": true
           },
           "label": "Assault",
           "values": [
            211
           ]
          },
          {
           "axis": {
            "matches": true
           },
           "label": "UrbanPop",
           "values": [
            60
           ]
          },
          {
           "axis": {
            "matches": true
           },
           "label": "Rape",
           "values": [
            25.8
           ]
          }
         ],
         "legendgroup": "Georgia",
         "marker": {
          "color": "#FECB52"
         },
         "name": "Georgia",
         "showlegend": true,
         "type": "splom",
         "xaxis": "x",
         "yaxis": "y"
        },
        {
         "diagonal": {
          "visible": false
         },
         "dimensions": [
          {
           "axis": {
            "matches": true
           },
           "label": "Column1",
           "values": [
            "Hawaii"
           ]
          },
          {
           "axis": {
            "matches": true
           },
           "label": "Murder",
           "values": [
            5.3
           ]
          },
          {
           "axis": {
            "matches": true
           },
           "label": "Assault",
           "values": [
            46
           ]
          },
          {
           "axis": {
            "matches": true
           },
           "label": "UrbanPop",
           "values": [
            83
           ]
          },
          {
           "axis": {
            "matches": true
           },
           "label": "Rape",
           "values": [
            20.2
           ]
          }
         ],
         "legendgroup": "Hawaii",
         "marker": {
          "color": "#636efa"
         },
         "name": "Hawaii",
         "showlegend": true,
         "type": "splom",
         "xaxis": "x",
         "yaxis": "y"
        },
        {
         "diagonal": {
          "visible": false
         },
         "dimensions": [
          {
           "axis": {
            "matches": true
           },
           "label": "Column1",
           "values": [
            "Idaho"
           ]
          },
          {
           "axis": {
            "matches": true
           },
           "label": "Murder",
           "values": [
            2.6
           ]
          },
          {
           "axis": {
            "matches": true
           },
           "label": "Assault",
           "values": [
            120
           ]
          },
          {
           "axis": {
            "matches": true
           },
           "label": "UrbanPop",
           "values": [
            54
           ]
          },
          {
           "axis": {
            "matches": true
           },
           "label": "Rape",
           "values": [
            14.2
           ]
          }
         ],
         "legendgroup": "Idaho",
         "marker": {
          "color": "#EF553B"
         },
         "name": "Idaho",
         "showlegend": true,
         "type": "splom",
         "xaxis": "x",
         "yaxis": "y"
        },
        {
         "diagonal": {
          "visible": false
         },
         "dimensions": [
          {
           "axis": {
            "matches": true
           },
           "label": "Column1",
           "values": [
            "Illinois"
           ]
          },
          {
           "axis": {
            "matches": true
           },
           "label": "Murder",
           "values": [
            10.4
           ]
          },
          {
           "axis": {
            "matches": true
           },
           "label": "Assault",
           "values": [
            249
           ]
          },
          {
           "axis": {
            "matches": true
           },
           "label": "UrbanPop",
           "values": [
            83
           ]
          },
          {
           "axis": {
            "matches": true
           },
           "label": "Rape",
           "values": [
            24
           ]
          }
         ],
         "legendgroup": "Illinois",
         "marker": {
          "color": "#00cc96"
         },
         "name": "Illinois",
         "showlegend": true,
         "type": "splom",
         "xaxis": "x",
         "yaxis": "y"
        },
        {
         "diagonal": {
          "visible": false
         },
         "dimensions": [
          {
           "axis": {
            "matches": true
           },
           "label": "Column1",
           "values": [
            "Indiana"
           ]
          },
          {
           "axis": {
            "matches": true
           },
           "label": "Murder",
           "values": [
            7.2
           ]
          },
          {
           "axis": {
            "matches": true
           },
           "label": "Assault",
           "values": [
            113
           ]
          },
          {
           "axis": {
            "matches": true
           },
           "label": "UrbanPop",
           "values": [
            65
           ]
          },
          {
           "axis": {
            "matches": true
           },
           "label": "Rape",
           "values": [
            21
           ]
          }
         ],
         "legendgroup": "Indiana",
         "marker": {
          "color": "#ab63fa"
         },
         "name": "Indiana",
         "showlegend": true,
         "type": "splom",
         "xaxis": "x",
         "yaxis": "y"
        },
        {
         "diagonal": {
          "visible": false
         },
         "dimensions": [
          {
           "axis": {
            "matches": true
           },
           "label": "Column1",
           "values": [
            "Iowa"
           ]
          },
          {
           "axis": {
            "matches": true
           },
           "label": "Murder",
           "values": [
            2.2
           ]
          },
          {
           "axis": {
            "matches": true
           },
           "label": "Assault",
           "values": [
            56
           ]
          },
          {
           "axis": {
            "matches": true
           },
           "label": "UrbanPop",
           "values": [
            57
           ]
          },
          {
           "axis": {
            "matches": true
           },
           "label": "Rape",
           "values": [
            11.3
           ]
          }
         ],
         "legendgroup": "Iowa",
         "marker": {
          "color": "#FFA15A"
         },
         "name": "Iowa",
         "showlegend": true,
         "type": "splom",
         "xaxis": "x",
         "yaxis": "y"
        },
        {
         "diagonal": {
          "visible": false
         },
         "dimensions": [
          {
           "axis": {
            "matches": true
           },
           "label": "Column1",
           "values": [
            "Kansas"
           ]
          },
          {
           "axis": {
            "matches": true
           },
           "label": "Murder",
           "values": [
            6
           ]
          },
          {
           "axis": {
            "matches": true
           },
           "label": "Assault",
           "values": [
            115
           ]
          },
          {
           "axis": {
            "matches": true
           },
           "label": "UrbanPop",
           "values": [
            66
           ]
          },
          {
           "axis": {
            "matches": true
           },
           "label": "Rape",
           "values": [
            18
           ]
          }
         ],
         "legendgroup": "Kansas",
         "marker": {
          "color": "#19d3f3"
         },
         "name": "Kansas",
         "showlegend": true,
         "type": "splom",
         "xaxis": "x",
         "yaxis": "y"
        },
        {
         "diagonal": {
          "visible": false
         },
         "dimensions": [
          {
           "axis": {
            "matches": true
           },
           "label": "Column1",
           "values": [
            "Kentucky"
           ]
          },
          {
           "axis": {
            "matches": true
           },
           "label": "Murder",
           "values": [
            9.7
           ]
          },
          {
           "axis": {
            "matches": true
           },
           "label": "Assault",
           "values": [
            109
           ]
          },
          {
           "axis": {
            "matches": true
           },
           "label": "UrbanPop",
           "values": [
            52
           ]
          },
          {
           "axis": {
            "matches": true
           },
           "label": "Rape",
           "values": [
            16.3
           ]
          }
         ],
         "legendgroup": "Kentucky",
         "marker": {
          "color": "#FF6692"
         },
         "name": "Kentucky",
         "showlegend": true,
         "type": "splom",
         "xaxis": "x",
         "yaxis": "y"
        },
        {
         "diagonal": {
          "visible": false
         },
         "dimensions": [
          {
           "axis": {
            "matches": true
           },
           "label": "Column1",
           "values": [
            "Louisiana"
           ]
          },
          {
           "axis": {
            "matches": true
           },
           "label": "Murder",
           "values": [
            15.4
           ]
          },
          {
           "axis": {
            "matches": true
           },
           "label": "Assault",
           "values": [
            249
           ]
          },
          {
           "axis": {
            "matches": true
           },
           "label": "UrbanPop",
           "values": [
            66
           ]
          },
          {
           "axis": {
            "matches": true
           },
           "label": "Rape",
           "values": [
            22.2
           ]
          }
         ],
         "legendgroup": "Louisiana",
         "marker": {
          "color": "#B6E880"
         },
         "name": "Louisiana",
         "showlegend": true,
         "type": "splom",
         "xaxis": "x",
         "yaxis": "y"
        },
        {
         "diagonal": {
          "visible": false
         },
         "dimensions": [
          {
           "axis": {
            "matches": true
           },
           "label": "Column1",
           "values": [
            "Maine"
           ]
          },
          {
           "axis": {
            "matches": true
           },
           "label": "Murder",
           "values": [
            2.1
           ]
          },
          {
           "axis": {
            "matches": true
           },
           "label": "Assault",
           "values": [
            83
           ]
          },
          {
           "axis": {
            "matches": true
           },
           "label": "UrbanPop",
           "values": [
            51
           ]
          },
          {
           "axis": {
            "matches": true
           },
           "label": "Rape",
           "values": [
            7.8
           ]
          }
         ],
         "legendgroup": "Maine",
         "marker": {
          "color": "#FF97FF"
         },
         "name": "Maine",
         "showlegend": true,
         "type": "splom",
         "xaxis": "x",
         "yaxis": "y"
        },
        {
         "diagonal": {
          "visible": false
         },
         "dimensions": [
          {
           "axis": {
            "matches": true
           },
           "label": "Column1",
           "values": [
            "Maryland"
           ]
          },
          {
           "axis": {
            "matches": true
           },
           "label": "Murder",
           "values": [
            11.3
           ]
          },
          {
           "axis": {
            "matches": true
           },
           "label": "Assault",
           "values": [
            300
           ]
          },
          {
           "axis": {
            "matches": true
           },
           "label": "UrbanPop",
           "values": [
            67
           ]
          },
          {
           "axis": {
            "matches": true
           },
           "label": "Rape",
           "values": [
            27.8
           ]
          }
         ],
         "legendgroup": "Maryland",
         "marker": {
          "color": "#FECB52"
         },
         "name": "Maryland",
         "showlegend": true,
         "type": "splom",
         "xaxis": "x",
         "yaxis": "y"
        },
        {
         "diagonal": {
          "visible": false
         },
         "dimensions": [
          {
           "axis": {
            "matches": true
           },
           "label": "Column1",
           "values": [
            "Massachusetts"
           ]
          },
          {
           "axis": {
            "matches": true
           },
           "label": "Murder",
           "values": [
            4.4
           ]
          },
          {
           "axis": {
            "matches": true
           },
           "label": "Assault",
           "values": [
            149
           ]
          },
          {
           "axis": {
            "matches": true
           },
           "label": "UrbanPop",
           "values": [
            85
           ]
          },
          {
           "axis": {
            "matches": true
           },
           "label": "Rape",
           "values": [
            16.3
           ]
          }
         ],
         "legendgroup": "Massachusetts",
         "marker": {
          "color": "#636efa"
         },
         "name": "Massachusetts",
         "showlegend": true,
         "type": "splom",
         "xaxis": "x",
         "yaxis": "y"
        },
        {
         "diagonal": {
          "visible": false
         },
         "dimensions": [
          {
           "axis": {
            "matches": true
           },
           "label": "Column1",
           "values": [
            "Michigan"
           ]
          },
          {
           "axis": {
            "matches": true
           },
           "label": "Murder",
           "values": [
            12.1
           ]
          },
          {
           "axis": {
            "matches": true
           },
           "label": "Assault",
           "values": [
            255
           ]
          },
          {
           "axis": {
            "matches": true
           },
           "label": "UrbanPop",
           "values": [
            74
           ]
          },
          {
           "axis": {
            "matches": true
           },
           "label": "Rape",
           "values": [
            35.1
           ]
          }
         ],
         "legendgroup": "Michigan",
         "marker": {
          "color": "#EF553B"
         },
         "name": "Michigan",
         "showlegend": true,
         "type": "splom",
         "xaxis": "x",
         "yaxis": "y"
        },
        {
         "diagonal": {
          "visible": false
         },
         "dimensions": [
          {
           "axis": {
            "matches": true
           },
           "label": "Column1",
           "values": [
            "Minnesota"
           ]
          },
          {
           "axis": {
            "matches": true
           },
           "label": "Murder",
           "values": [
            2.7
           ]
          },
          {
           "axis": {
            "matches": true
           },
           "label": "Assault",
           "values": [
            72
           ]
          },
          {
           "axis": {
            "matches": true
           },
           "label": "UrbanPop",
           "values": [
            66
           ]
          },
          {
           "axis": {
            "matches": true
           },
           "label": "Rape",
           "values": [
            14.9
           ]
          }
         ],
         "legendgroup": "Minnesota",
         "marker": {
          "color": "#00cc96"
         },
         "name": "Minnesota",
         "showlegend": true,
         "type": "splom",
         "xaxis": "x",
         "yaxis": "y"
        },
        {
         "diagonal": {
          "visible": false
         },
         "dimensions": [
          {
           "axis": {
            "matches": true
           },
           "label": "Column1",
           "values": [
            "Mississippi"
           ]
          },
          {
           "axis": {
            "matches": true
           },
           "label": "Murder",
           "values": [
            16.1
           ]
          },
          {
           "axis": {
            "matches": true
           },
           "label": "Assault",
           "values": [
            259
           ]
          },
          {
           "axis": {
            "matches": true
           },
           "label": "UrbanPop",
           "values": [
            44
           ]
          },
          {
           "axis": {
            "matches": true
           },
           "label": "Rape",
           "values": [
            17.1
           ]
          }
         ],
         "legendgroup": "Mississippi",
         "marker": {
          "color": "#ab63fa"
         },
         "name": "Mississippi",
         "showlegend": true,
         "type": "splom",
         "xaxis": "x",
         "yaxis": "y"
        },
        {
         "diagonal": {
          "visible": false
         },
         "dimensions": [
          {
           "axis": {
            "matches": true
           },
           "label": "Column1",
           "values": [
            "Missouri"
           ]
          },
          {
           "axis": {
            "matches": true
           },
           "label": "Murder",
           "values": [
            9
           ]
          },
          {
           "axis": {
            "matches": true
           },
           "label": "Assault",
           "values": [
            178
           ]
          },
          {
           "axis": {
            "matches": true
           },
           "label": "UrbanPop",
           "values": [
            70
           ]
          },
          {
           "axis": {
            "matches": true
           },
           "label": "Rape",
           "values": [
            28.2
           ]
          }
         ],
         "legendgroup": "Missouri",
         "marker": {
          "color": "#FFA15A"
         },
         "name": "Missouri",
         "showlegend": true,
         "type": "splom",
         "xaxis": "x",
         "yaxis": "y"
        },
        {
         "diagonal": {
          "visible": false
         },
         "dimensions": [
          {
           "axis": {
            "matches": true
           },
           "label": "Column1",
           "values": [
            "Montana"
           ]
          },
          {
           "axis": {
            "matches": true
           },
           "label": "Murder",
           "values": [
            6
           ]
          },
          {
           "axis": {
            "matches": true
           },
           "label": "Assault",
           "values": [
            109
           ]
          },
          {
           "axis": {
            "matches": true
           },
           "label": "UrbanPop",
           "values": [
            53
           ]
          },
          {
           "axis": {
            "matches": true
           },
           "label": "Rape",
           "values": [
            16.4
           ]
          }
         ],
         "legendgroup": "Montana",
         "marker": {
          "color": "#19d3f3"
         },
         "name": "Montana",
         "showlegend": true,
         "type": "splom",
         "xaxis": "x",
         "yaxis": "y"
        },
        {
         "diagonal": {
          "visible": false
         },
         "dimensions": [
          {
           "axis": {
            "matches": true
           },
           "label": "Column1",
           "values": [
            "Nebraska"
           ]
          },
          {
           "axis": {
            "matches": true
           },
           "label": "Murder",
           "values": [
            4.3
           ]
          },
          {
           "axis": {
            "matches": true
           },
           "label": "Assault",
           "values": [
            102
           ]
          },
          {
           "axis": {
            "matches": true
           },
           "label": "UrbanPop",
           "values": [
            62
           ]
          },
          {
           "axis": {
            "matches": true
           },
           "label": "Rape",
           "values": [
            16.5
           ]
          }
         ],
         "legendgroup": "Nebraska",
         "marker": {
          "color": "#FF6692"
         },
         "name": "Nebraska",
         "showlegend": true,
         "type": "splom",
         "xaxis": "x",
         "yaxis": "y"
        },
        {
         "diagonal": {
          "visible": false
         },
         "dimensions": [
          {
           "axis": {
            "matches": true
           },
           "label": "Column1",
           "values": [
            "Nevada"
           ]
          },
          {
           "axis": {
            "matches": true
           },
           "label": "Murder",
           "values": [
            12.2
           ]
          },
          {
           "axis": {
            "matches": true
           },
           "label": "Assault",
           "values": [
            252
           ]
          },
          {
           "axis": {
            "matches": true
           },
           "label": "UrbanPop",
           "values": [
            81
           ]
          },
          {
           "axis": {
            "matches": true
           },
           "label": "Rape",
           "values": [
            46
           ]
          }
         ],
         "legendgroup": "Nevada",
         "marker": {
          "color": "#B6E880"
         },
         "name": "Nevada",
         "showlegend": true,
         "type": "splom",
         "xaxis": "x",
         "yaxis": "y"
        },
        {
         "diagonal": {
          "visible": false
         },
         "dimensions": [
          {
           "axis": {
            "matches": true
           },
           "label": "Column1",
           "values": [
            "New Hampshire"
           ]
          },
          {
           "axis": {
            "matches": true
           },
           "label": "Murder",
           "values": [
            2.1
           ]
          },
          {
           "axis": {
            "matches": true
           },
           "label": "Assault",
           "values": [
            57
           ]
          },
          {
           "axis": {
            "matches": true
           },
           "label": "UrbanPop",
           "values": [
            56
           ]
          },
          {
           "axis": {
            "matches": true
           },
           "label": "Rape",
           "values": [
            9.5
           ]
          }
         ],
         "legendgroup": "New Hampshire",
         "marker": {
          "color": "#FF97FF"
         },
         "name": "New Hampshire",
         "showlegend": true,
         "type": "splom",
         "xaxis": "x",
         "yaxis": "y"
        },
        {
         "diagonal": {
          "visible": false
         },
         "dimensions": [
          {
           "axis": {
            "matches": true
           },
           "label": "Column1",
           "values": [
            "New Jersey"
           ]
          },
          {
           "axis": {
            "matches": true
           },
           "label": "Murder",
           "values": [
            7.4
           ]
          },
          {
           "axis": {
            "matches": true
           },
           "label": "Assault",
           "values": [
            159
           ]
          },
          {
           "axis": {
            "matches": true
           },
           "label": "UrbanPop",
           "values": [
            89
           ]
          },
          {
           "axis": {
            "matches": true
           },
           "label": "Rape",
           "values": [
            18.8
           ]
          }
         ],
         "legendgroup": "New Jersey",
         "marker": {
          "color": "#FECB52"
         },
         "name": "New Jersey",
         "showlegend": true,
         "type": "splom",
         "xaxis": "x",
         "yaxis": "y"
        },
        {
         "diagonal": {
          "visible": false
         },
         "dimensions": [
          {
           "axis": {
            "matches": true
           },
           "label": "Column1",
           "values": [
            "New Mexico"
           ]
          },
          {
           "axis": {
            "matches": true
           },
           "label": "Murder",
           "values": [
            11.4
           ]
          },
          {
           "axis": {
            "matches": true
           },
           "label": "Assault",
           "values": [
            285
           ]
          },
          {
           "axis": {
            "matches": true
           },
           "label": "UrbanPop",
           "values": [
            70
           ]
          },
          {
           "axis": {
            "matches": true
           },
           "label": "Rape",
           "values": [
            32.1
           ]
          }
         ],
         "legendgroup": "New Mexico",
         "marker": {
          "color": "#636efa"
         },
         "name": "New Mexico",
         "showlegend": true,
         "type": "splom",
         "xaxis": "x",
         "yaxis": "y"
        },
        {
         "diagonal": {
          "visible": false
         },
         "dimensions": [
          {
           "axis": {
            "matches": true
           },
           "label": "Column1",
           "values": [
            "New York"
           ]
          },
          {
           "axis": {
            "matches": true
           },
           "label": "Murder",
           "values": [
            11.1
           ]
          },
          {
           "axis": {
            "matches": true
           },
           "label": "Assault",
           "values": [
            254
           ]
          },
          {
           "axis": {
            "matches": true
           },
           "label": "UrbanPop",
           "values": [
            86
           ]
          },
          {
           "axis": {
            "matches": true
           },
           "label": "Rape",
           "values": [
            26.1
           ]
          }
         ],
         "legendgroup": "New York",
         "marker": {
          "color": "#EF553B"
         },
         "name": "New York",
         "showlegend": true,
         "type": "splom",
         "xaxis": "x",
         "yaxis": "y"
        },
        {
         "diagonal": {
          "visible": false
         },
         "dimensions": [
          {
           "axis": {
            "matches": true
           },
           "label": "Column1",
           "values": [
            "North Carolina"
           ]
          },
          {
           "axis": {
            "matches": true
           },
           "label": "Murder",
           "values": [
            13
           ]
          },
          {
           "axis": {
            "matches": true
           },
           "label": "Assault",
           "values": [
            337
           ]
          },
          {
           "axis": {
            "matches": true
           },
           "label": "UrbanPop",
           "values": [
            45
           ]
          },
          {
           "axis": {
            "matches": true
           },
           "label": "Rape",
           "values": [
            16.1
           ]
          }
         ],
         "legendgroup": "North Carolina",
         "marker": {
          "color": "#00cc96"
         },
         "name": "North Carolina",
         "showlegend": true,
         "type": "splom",
         "xaxis": "x",
         "yaxis": "y"
        },
        {
         "diagonal": {
          "visible": false
         },
         "dimensions": [
          {
           "axis": {
            "matches": true
           },
           "label": "Column1",
           "values": [
            "North Dakota"
           ]
          },
          {
           "axis": {
            "matches": true
           },
           "label": "Murder",
           "values": [
            0.8
           ]
          },
          {
           "axis": {
            "matches": true
           },
           "label": "Assault",
           "values": [
            45
           ]
          },
          {
           "axis": {
            "matches": true
           },
           "label": "UrbanPop",
           "values": [
            44
           ]
          },
          {
           "axis": {
            "matches": true
           },
           "label": "Rape",
           "values": [
            7.3
           ]
          }
         ],
         "legendgroup": "North Dakota",
         "marker": {
          "color": "#ab63fa"
         },
         "name": "North Dakota",
         "showlegend": true,
         "type": "splom",
         "xaxis": "x",
         "yaxis": "y"
        },
        {
         "diagonal": {
          "visible": false
         },
         "dimensions": [
          {
           "axis": {
            "matches": true
           },
           "label": "Column1",
           "values": [
            "Ohio"
           ]
          },
          {
           "axis": {
            "matches": true
           },
           "label": "Murder",
           "values": [
            7.3
           ]
          },
          {
           "axis": {
            "matches": true
           },
           "label": "Assault",
           "values": [
            120
           ]
          },
          {
           "axis": {
            "matches": true
           },
           "label": "UrbanPop",
           "values": [
            75
           ]
          },
          {
           "axis": {
            "matches": true
           },
           "label": "Rape",
           "values": [
            21.4
           ]
          }
         ],
         "legendgroup": "Ohio",
         "marker": {
          "color": "#FFA15A"
         },
         "name": "Ohio",
         "showlegend": true,
         "type": "splom",
         "xaxis": "x",
         "yaxis": "y"
        },
        {
         "diagonal": {
          "visible": false
         },
         "dimensions": [
          {
           "axis": {
            "matches": true
           },
           "label": "Column1",
           "values": [
            "Oklahoma"
           ]
          },
          {
           "axis": {
            "matches": true
           },
           "label": "Murder",
           "values": [
            6.6
           ]
          },
          {
           "axis": {
            "matches": true
           },
           "label": "Assault",
           "values": [
            151
           ]
          },
          {
           "axis": {
            "matches": true
           },
           "label": "UrbanPop",
           "values": [
            68
           ]
          },
          {
           "axis": {
            "matches": true
           },
           "label": "Rape",
           "values": [
            20
           ]
          }
         ],
         "legendgroup": "Oklahoma",
         "marker": {
          "color": "#19d3f3"
         },
         "name": "Oklahoma",
         "showlegend": true,
         "type": "splom",
         "xaxis": "x",
         "yaxis": "y"
        },
        {
         "diagonal": {
          "visible": false
         },
         "dimensions": [
          {
           "axis": {
            "matches": true
           },
           "label": "Column1",
           "values": [
            "Oregon"
           ]
          },
          {
           "axis": {
            "matches": true
           },
           "label": "Murder",
           "values": [
            4.9
           ]
          },
          {
           "axis": {
            "matches": true
           },
           "label": "Assault",
           "values": [
            159
           ]
          },
          {
           "axis": {
            "matches": true
           },
           "label": "UrbanPop",
           "values": [
            67
           ]
          },
          {
           "axis": {
            "matches": true
           },
           "label": "Rape",
           "values": [
            29.3
           ]
          }
         ],
         "legendgroup": "Oregon",
         "marker": {
          "color": "#FF6692"
         },
         "name": "Oregon",
         "showlegend": true,
         "type": "splom",
         "xaxis": "x",
         "yaxis": "y"
        },
        {
         "diagonal": {
          "visible": false
         },
         "dimensions": [
          {
           "axis": {
            "matches": true
           },
           "label": "Column1",
           "values": [
            "Pennsylvania"
           ]
          },
          {
           "axis": {
            "matches": true
           },
           "label": "Murder",
           "values": [
            6.3
           ]
          },
          {
           "axis": {
            "matches": true
           },
           "label": "Assault",
           "values": [
            106
           ]
          },
          {
           "axis": {
            "matches": true
           },
           "label": "UrbanPop",
           "values": [
            72
           ]
          },
          {
           "axis": {
            "matches": true
           },
           "label": "Rape",
           "values": [
            14.9
           ]
          }
         ],
         "legendgroup": "Pennsylvania",
         "marker": {
          "color": "#B6E880"
         },
         "name": "Pennsylvania",
         "showlegend": true,
         "type": "splom",
         "xaxis": "x",
         "yaxis": "y"
        },
        {
         "diagonal": {
          "visible": false
         },
         "dimensions": [
          {
           "axis": {
            "matches": true
           },
           "label": "Column1",
           "values": [
            "Rhode Island"
           ]
          },
          {
           "axis": {
            "matches": true
           },
           "label": "Murder",
           "values": [
            3.4
           ]
          },
          {
           "axis": {
            "matches": true
           },
           "label": "Assault",
           "values": [
            174
           ]
          },
          {
           "axis": {
            "matches": true
           },
           "label": "UrbanPop",
           "values": [
            87
           ]
          },
          {
           "axis": {
            "matches": true
           },
           "label": "Rape",
           "values": [
            8.3
           ]
          }
         ],
         "legendgroup": "Rhode Island",
         "marker": {
          "color": "#FF97FF"
         },
         "name": "Rhode Island",
         "showlegend": true,
         "type": "splom",
         "xaxis": "x",
         "yaxis": "y"
        },
        {
         "diagonal": {
          "visible": false
         },
         "dimensions": [
          {
           "axis": {
            "matches": true
           },
           "label": "Column1",
           "values": [
            "South Carolina"
           ]
          },
          {
           "axis": {
            "matches": true
           },
           "label": "Murder",
           "values": [
            14.4
           ]
          },
          {
           "axis": {
            "matches": true
           },
           "label": "Assault",
           "values": [
            279
           ]
          },
          {
           "axis": {
            "matches": true
           },
           "label": "UrbanPop",
           "values": [
            48
           ]
          },
          {
           "axis": {
            "matches": true
           },
           "label": "Rape",
           "values": [
            22.5
           ]
          }
         ],
         "legendgroup": "South Carolina",
         "marker": {
          "color": "#FECB52"
         },
         "name": "South Carolina",
         "showlegend": true,
         "type": "splom",
         "xaxis": "x",
         "yaxis": "y"
        },
        {
         "diagonal": {
          "visible": false
         },
         "dimensions": [
          {
           "axis": {
            "matches": true
           },
           "label": "Column1",
           "values": [
            "South Dakota"
           ]
          },
          {
           "axis": {
            "matches": true
           },
           "label": "Murder",
           "values": [
            3.8
           ]
          },
          {
           "axis": {
            "matches": true
           },
           "label": "Assault",
           "values": [
            86
           ]
          },
          {
           "axis": {
            "matches": true
           },
           "label": "UrbanPop",
           "values": [
            45
           ]
          },
          {
           "axis": {
            "matches": true
           },
           "label": "Rape",
           "values": [
            12.8
           ]
          }
         ],
         "legendgroup": "South Dakota",
         "marker": {
          "color": "#636efa"
         },
         "name": "South Dakota",
         "showlegend": true,
         "type": "splom",
         "xaxis": "x",
         "yaxis": "y"
        },
        {
         "diagonal": {
          "visible": false
         },
         "dimensions": [
          {
           "axis": {
            "matches": true
           },
           "label": "Column1",
           "values": [
            "Tennessee"
           ]
          },
          {
           "axis": {
            "matches": true
           },
           "label": "Murder",
           "values": [
            13.2
           ]
          },
          {
           "axis": {
            "matches": true
           },
           "label": "Assault",
           "values": [
            188
           ]
          },
          {
           "axis": {
            "matches": true
           },
           "label": "UrbanPop",
           "values": [
            59
           ]
          },
          {
           "axis": {
            "matches": true
           },
           "label": "Rape",
           "values": [
            26.9
           ]
          }
         ],
         "legendgroup": "Tennessee",
         "marker": {
          "color": "#EF553B"
         },
         "name": "Tennessee",
         "showlegend": true,
         "type": "splom",
         "xaxis": "x",
         "yaxis": "y"
        },
        {
         "diagonal": {
          "visible": false
         },
         "dimensions": [
          {
           "axis": {
            "matches": true
           },
           "label": "Column1",
           "values": [
            "Texas"
           ]
          },
          {
           "axis": {
            "matches": true
           },
           "label": "Murder",
           "values": [
            12.7
           ]
          },
          {
           "axis": {
            "matches": true
           },
           "label": "Assault",
           "values": [
            201
           ]
          },
          {
           "axis": {
            "matches": true
           },
           "label": "UrbanPop",
           "values": [
            80
           ]
          },
          {
           "axis": {
            "matches": true
           },
           "label": "Rape",
           "values": [
            25.5
           ]
          }
         ],
         "legendgroup": "Texas",
         "marker": {
          "color": "#00cc96"
         },
         "name": "Texas",
         "showlegend": true,
         "type": "splom",
         "xaxis": "x",
         "yaxis": "y"
        },
        {
         "diagonal": {
          "visible": false
         },
         "dimensions": [
          {
           "axis": {
            "matches": true
           },
           "label": "Column1",
           "values": [
            "Utah"
           ]
          },
          {
           "axis": {
            "matches": true
           },
           "label": "Murder",
           "values": [
            3.2
           ]
          },
          {
           "axis": {
            "matches": true
           },
           "label": "Assault",
           "values": [
            120
           ]
          },
          {
           "axis": {
            "matches": true
           },
           "label": "UrbanPop",
           "values": [
            80
           ]
          },
          {
           "axis": {
            "matches": true
           },
           "label": "Rape",
           "values": [
            22.9
           ]
          }
         ],
         "legendgroup": "Utah",
         "marker": {
          "color": "#ab63fa"
         },
         "name": "Utah",
         "showlegend": true,
         "type": "splom",
         "xaxis": "x",
         "yaxis": "y"
        },
        {
         "diagonal": {
          "visible": false
         },
         "dimensions": [
          {
           "axis": {
            "matches": true
           },
           "label": "Column1",
           "values": [
            "Vermont"
           ]
          },
          {
           "axis": {
            "matches": true
           },
           "label": "Murder",
           "values": [
            2.2
           ]
          },
          {
           "axis": {
            "matches": true
           },
           "label": "Assault",
           "values": [
            48
           ]
          },
          {
           "axis": {
            "matches": true
           },
           "label": "UrbanPop",
           "values": [
            32
           ]
          },
          {
           "axis": {
            "matches": true
           },
           "label": "Rape",
           "values": [
            11.2
           ]
          }
         ],
         "legendgroup": "Vermont",
         "marker": {
          "color": "#FFA15A"
         },
         "name": "Vermont",
         "showlegend": true,
         "type": "splom",
         "xaxis": "x",
         "yaxis": "y"
        },
        {
         "diagonal": {
          "visible": false
         },
         "dimensions": [
          {
           "axis": {
            "matches": true
           },
           "label": "Column1",
           "values": [
            "Virginia"
           ]
          },
          {
           "axis": {
            "matches": true
           },
           "label": "Murder",
           "values": [
            8.5
           ]
          },
          {
           "axis": {
            "matches": true
           },
           "label": "Assault",
           "values": [
            156
           ]
          },
          {
           "axis": {
            "matches": true
           },
           "label": "UrbanPop",
           "values": [
            63
           ]
          },
          {
           "axis": {
            "matches": true
           },
           "label": "Rape",
           "values": [
            20.7
           ]
          }
         ],
         "legendgroup": "Virginia",
         "marker": {
          "color": "#19d3f3"
         },
         "name": "Virginia",
         "showlegend": true,
         "type": "splom",
         "xaxis": "x",
         "yaxis": "y"
        },
        {
         "diagonal": {
          "visible": false
         },
         "dimensions": [
          {
           "axis": {
            "matches": true
           },
           "label": "Column1",
           "values": [
            "Washington"
           ]
          },
          {
           "axis": {
            "matches": true
           },
           "label": "Murder",
           "values": [
            4
           ]
          },
          {
           "axis": {
            "matches": true
           },
           "label": "Assault",
           "values": [
            145
           ]
          },
          {
           "axis": {
            "matches": true
           },
           "label": "UrbanPop",
           "values": [
            73
           ]
          },
          {
           "axis": {
            "matches": true
           },
           "label": "Rape",
           "values": [
            26.2
           ]
          }
         ],
         "legendgroup": "Washington",
         "marker": {
          "color": "#FF6692"
         },
         "name": "Washington",
         "showlegend": true,
         "type": "splom",
         "xaxis": "x",
         "yaxis": "y"
        },
        {
         "diagonal": {
          "visible": false
         },
         "dimensions": [
          {
           "axis": {
            "matches": true
           },
           "label": "Column1",
           "values": [
            "West Virginia"
           ]
          },
          {
           "axis": {
            "matches": true
           },
           "label": "Murder",
           "values": [
            5.7
           ]
          },
          {
           "axis": {
            "matches": true
           },
           "label": "Assault",
           "values": [
            81
           ]
          },
          {
           "axis": {
            "matches": true
           },
           "label": "UrbanPop",
           "values": [
            39
           ]
          },
          {
           "axis": {
            "matches": true
           },
           "label": "Rape",
           "values": [
            9.3
           ]
          }
         ],
         "legendgroup": "West Virginia",
         "marker": {
          "color": "#B6E880"
         },
         "name": "West Virginia",
         "showlegend": true,
         "type": "splom",
         "xaxis": "x",
         "yaxis": "y"
        },
        {
         "diagonal": {
          "visible": false
         },
         "dimensions": [
          {
           "axis": {
            "matches": true
           },
           "label": "Column1",
           "values": [
            "Wisconsin"
           ]
          },
          {
           "axis": {
            "matches": true
           },
           "label": "Murder",
           "values": [
            2.6
           ]
          },
          {
           "axis": {
            "matches": true
           },
           "label": "Assault",
           "values": [
            53
           ]
          },
          {
           "axis": {
            "matches": true
           },
           "label": "UrbanPop",
           "values": [
            66
           ]
          },
          {
           "axis": {
            "matches": true
           },
           "label": "Rape",
           "values": [
            10.8
           ]
          }
         ],
         "legendgroup": "Wisconsin",
         "marker": {
          "color": "#FF97FF"
         },
         "name": "Wisconsin",
         "showlegend": true,
         "type": "splom",
         "xaxis": "x",
         "yaxis": "y"
        },
        {
         "diagonal": {
          "visible": false
         },
         "dimensions": [
          {
           "axis": {
            "matches": true
           },
           "label": "Column1",
           "values": [
            "Wyoming"
           ]
          },
          {
           "axis": {
            "matches": true
           },
           "label": "Murder",
           "values": [
            6.8
           ]
          },
          {
           "axis": {
            "matches": true
           },
           "label": "Assault",
           "values": [
            161
           ]
          },
          {
           "axis": {
            "matches": true
           },
           "label": "UrbanPop",
           "values": [
            60
           ]
          },
          {
           "axis": {
            "matches": true
           },
           "label": "Rape",
           "values": [
            15.6
           ]
          }
         ],
         "legendgroup": "Wyoming",
         "marker": {
          "color": "#FECB52"
         },
         "name": "Wyoming",
         "showlegend": true,
         "type": "splom",
         "xaxis": "x",
         "yaxis": "y"
        }
       ],
       "frames": [],
       "layout": {
        "dragmode": "select",
        "legend": {
         "title": {
          "text": "Column1"
         },
         "tracegroupgap": 0
        },
        "margin": {
         "b": 50,
         "l": 50,
         "r": 50,
         "t": 60
        },
        "template": {
         "data": {
          "bar": [
           {
            "error_x": {
             "color": "#2a3f5f"
            },
            "error_y": {
             "color": "#2a3f5f"
            },
            "marker": {
             "line": {
              "color": "#E5ECF6",
              "width": 0.5
             }
            },
            "type": "bar"
           }
          ],
          "barpolar": [
           {
            "marker": {
             "line": {
              "color": "#E5ECF6",
              "width": 0.5
             }
            },
            "type": "barpolar"
           }
          ],
          "carpet": [
           {
            "aaxis": {
             "endlinecolor": "#2a3f5f",
             "gridcolor": "white",
             "linecolor": "white",
             "minorgridcolor": "white",
             "startlinecolor": "#2a3f5f"
            },
            "baxis": {
             "endlinecolor": "#2a3f5f",
             "gridcolor": "white",
             "linecolor": "white",
             "minorgridcolor": "white",
             "startlinecolor": "#2a3f5f"
            },
            "type": "carpet"
           }
          ],
          "choropleth": [
           {
            "colorbar": {
             "outlinewidth": 0,
             "ticks": ""
            },
            "type": "choropleth"
           }
          ],
          "contour": [
           {
            "colorbar": {
             "outlinewidth": 0,
             "ticks": ""
            },
            "colorscale": [
             [
              0,
              "#0d0887"
             ],
             [
              0.1111111111111111,
              "#46039f"
             ],
             [
              0.2222222222222222,
              "#7201a8"
             ],
             [
              0.3333333333333333,
              "#9c179e"
             ],
             [
              0.4444444444444444,
              "#bd3786"
             ],
             [
              0.5555555555555556,
              "#d8576b"
             ],
             [
              0.6666666666666666,
              "#ed7953"
             ],
             [
              0.7777777777777778,
              "#fb9f3a"
             ],
             [
              0.8888888888888888,
              "#fdca26"
             ],
             [
              1,
              "#f0f921"
             ]
            ],
            "type": "contour"
           }
          ],
          "contourcarpet": [
           {
            "colorbar": {
             "outlinewidth": 0,
             "ticks": ""
            },
            "type": "contourcarpet"
           }
          ],
          "heatmap": [
           {
            "colorbar": {
             "outlinewidth": 0,
             "ticks": ""
            },
            "colorscale": [
             [
              0,
              "#0d0887"
             ],
             [
              0.1111111111111111,
              "#46039f"
             ],
             [
              0.2222222222222222,
              "#7201a8"
             ],
             [
              0.3333333333333333,
              "#9c179e"
             ],
             [
              0.4444444444444444,
              "#bd3786"
             ],
             [
              0.5555555555555556,
              "#d8576b"
             ],
             [
              0.6666666666666666,
              "#ed7953"
             ],
             [
              0.7777777777777778,
              "#fb9f3a"
             ],
             [
              0.8888888888888888,
              "#fdca26"
             ],
             [
              1,
              "#f0f921"
             ]
            ],
            "type": "heatmap"
           }
          ],
          "heatmapgl": [
           {
            "colorbar": {
             "outlinewidth": 0,
             "ticks": ""
            },
            "colorscale": [
             [
              0,
              "#0d0887"
             ],
             [
              0.1111111111111111,
              "#46039f"
             ],
             [
              0.2222222222222222,
              "#7201a8"
             ],
             [
              0.3333333333333333,
              "#9c179e"
             ],
             [
              0.4444444444444444,
              "#bd3786"
             ],
             [
              0.5555555555555556,
              "#d8576b"
             ],
             [
              0.6666666666666666,
              "#ed7953"
             ],
             [
              0.7777777777777778,
              "#fb9f3a"
             ],
             [
              0.8888888888888888,
              "#fdca26"
             ],
             [
              1,
              "#f0f921"
             ]
            ],
            "type": "heatmapgl"
           }
          ],
          "histogram": [
           {
            "marker": {
             "colorbar": {
              "outlinewidth": 0,
              "ticks": ""
             }
            },
            "type": "histogram"
           }
          ],
          "histogram2d": [
           {
            "colorbar": {
             "outlinewidth": 0,
             "ticks": ""
            },
            "colorscale": [
             [
              0,
              "#0d0887"
             ],
             [
              0.1111111111111111,
              "#46039f"
             ],
             [
              0.2222222222222222,
              "#7201a8"
             ],
             [
              0.3333333333333333,
              "#9c179e"
             ],
             [
              0.4444444444444444,
              "#bd3786"
             ],
             [
              0.5555555555555556,
              "#d8576b"
             ],
             [
              0.6666666666666666,
              "#ed7953"
             ],
             [
              0.7777777777777778,
              "#fb9f3a"
             ],
             [
              0.8888888888888888,
              "#fdca26"
             ],
             [
              1,
              "#f0f921"
             ]
            ],
            "type": "histogram2d"
           }
          ],
          "histogram2dcontour": [
           {
            "colorbar": {
             "outlinewidth": 0,
             "ticks": ""
            },
            "colorscale": [
             [
              0,
              "#0d0887"
             ],
             [
              0.1111111111111111,
              "#46039f"
             ],
             [
              0.2222222222222222,
              "#7201a8"
             ],
             [
              0.3333333333333333,
              "#9c179e"
             ],
             [
              0.4444444444444444,
              "#bd3786"
             ],
             [
              0.5555555555555556,
              "#d8576b"
             ],
             [
              0.6666666666666666,
              "#ed7953"
             ],
             [
              0.7777777777777778,
              "#fb9f3a"
             ],
             [
              0.8888888888888888,
              "#fdca26"
             ],
             [
              1,
              "#f0f921"
             ]
            ],
            "type": "histogram2dcontour"
           }
          ],
          "mesh3d": [
           {
            "colorbar": {
             "outlinewidth": 0,
             "ticks": ""
            },
            "type": "mesh3d"
           }
          ],
          "parcoords": [
           {
            "line": {
             "colorbar": {
              "outlinewidth": 0,
              "ticks": ""
             }
            },
            "type": "parcoords"
           }
          ],
          "pie": [
           {
            "automargin": true,
            "type": "pie"
           }
          ],
          "scatter": [
           {
            "marker": {
             "colorbar": {
              "outlinewidth": 0,
              "ticks": ""
             }
            },
            "type": "scatter"
           }
          ],
          "scatter3d": [
           {
            "line": {
             "colorbar": {
              "outlinewidth": 0,
              "ticks": ""
             }
            },
            "marker": {
             "colorbar": {
              "outlinewidth": 0,
              "ticks": ""
             }
            },
            "type": "scatter3d"
           }
          ],
          "scattercarpet": [
           {
            "marker": {
             "colorbar": {
              "outlinewidth": 0,
              "ticks": ""
             }
            },
            "type": "scattercarpet"
           }
          ],
          "scattergeo": [
           {
            "marker": {
             "colorbar": {
              "outlinewidth": 0,
              "ticks": ""
             }
            },
            "type": "scattergeo"
           }
          ],
          "scattergl": [
           {
            "marker": {
             "colorbar": {
              "outlinewidth": 0,
              "ticks": ""
             }
            },
            "type": "scattergl"
           }
          ],
          "scattermapbox": [
           {
            "marker": {
             "colorbar": {
              "outlinewidth": 0,
              "ticks": ""
             }
            },
            "type": "scattermapbox"
           }
          ],
          "scatterpolar": [
           {
            "marker": {
             "colorbar": {
              "outlinewidth": 0,
              "ticks": ""
             }
            },
            "type": "scatterpolar"
           }
          ],
          "scatterpolargl": [
           {
            "marker": {
             "colorbar": {
              "outlinewidth": 0,
              "ticks": ""
             }
            },
            "type": "scatterpolargl"
           }
          ],
          "scatterternary": [
           {
            "marker": {
             "colorbar": {
              "outlinewidth": 0,
              "ticks": ""
             }
            },
            "type": "scatterternary"
           }
          ],
          "surface": [
           {
            "colorbar": {
             "outlinewidth": 0,
             "ticks": ""
            },
            "colorscale": [
             [
              0,
              "#0d0887"
             ],
             [
              0.1111111111111111,
              "#46039f"
             ],
             [
              0.2222222222222222,
              "#7201a8"
             ],
             [
              0.3333333333333333,
              "#9c179e"
             ],
             [
              0.4444444444444444,
              "#bd3786"
             ],
             [
              0.5555555555555556,
              "#d8576b"
             ],
             [
              0.6666666666666666,
              "#ed7953"
             ],
             [
              0.7777777777777778,
              "#fb9f3a"
             ],
             [
              0.8888888888888888,
              "#fdca26"
             ],
             [
              1,
              "#f0f921"
             ]
            ],
            "type": "surface"
           }
          ],
          "table": [
           {
            "cells": {
             "fill": {
              "color": "#EBF0F8"
             },
             "line": {
              "color": "white"
             }
            },
            "header": {
             "fill": {
              "color": "#C8D4E3"
             },
             "line": {
              "color": "white"
             }
            },
            "type": "table"
           }
          ]
         },
         "layout": {
          "annotationdefaults": {
           "arrowcolor": "#2a3f5f",
           "arrowhead": 0,
           "arrowwidth": 1
          },
          "autotypenumbers": "strict",
          "coloraxis": {
           "colorbar": {
            "outlinewidth": 0,
            "ticks": ""
           }
          },
          "colorscale": {
           "diverging": [
            [
             0,
             "#8e0152"
            ],
            [
             0.1,
             "#c51b7d"
            ],
            [
             0.2,
             "#de77ae"
            ],
            [
             0.3,
             "#f1b6da"
            ],
            [
             0.4,
             "#fde0ef"
            ],
            [
             0.5,
             "#f7f7f7"
            ],
            [
             0.6,
             "#e6f5d0"
            ],
            [
             0.7,
             "#b8e186"
            ],
            [
             0.8,
             "#7fbc41"
            ],
            [
             0.9,
             "#4d9221"
            ],
            [
             1,
             "#276419"
            ]
           ],
           "sequential": [
            [
             0,
             "#0d0887"
            ],
            [
             0.1111111111111111,
             "#46039f"
            ],
            [
             0.2222222222222222,
             "#7201a8"
            ],
            [
             0.3333333333333333,
             "#9c179e"
            ],
            [
             0.4444444444444444,
             "#bd3786"
            ],
            [
             0.5555555555555556,
             "#d8576b"
            ],
            [
             0.6666666666666666,
             "#ed7953"
            ],
            [
             0.7777777777777778,
             "#fb9f3a"
            ],
            [
             0.8888888888888888,
             "#fdca26"
            ],
            [
             1,
             "#f0f921"
            ]
           ],
           "sequentialminus": [
            [
             0,
             "#0d0887"
            ],
            [
             0.1111111111111111,
             "#46039f"
            ],
            [
             0.2222222222222222,
             "#7201a8"
            ],
            [
             0.3333333333333333,
             "#9c179e"
            ],
            [
             0.4444444444444444,
             "#bd3786"
            ],
            [
             0.5555555555555556,
             "#d8576b"
            ],
            [
             0.6666666666666666,
             "#ed7953"
            ],
            [
             0.7777777777777778,
             "#fb9f3a"
            ],
            [
             0.8888888888888888,
             "#fdca26"
            ],
            [
             1,
             "#f0f921"
            ]
           ]
          },
          "colorway": [
           "#636efa",
           "#EF553B",
           "#00cc96",
           "#ab63fa",
           "#FFA15A",
           "#19d3f3",
           "#FF6692",
           "#B6E880",
           "#FF97FF",
           "#FECB52"
          ],
          "font": {
           "color": "#2a3f5f"
          },
          "geo": {
           "bgcolor": "white",
           "lakecolor": "white",
           "landcolor": "#E5ECF6",
           "showlakes": true,
           "showland": true,
           "subunitcolor": "white"
          },
          "hoverlabel": {
           "align": "left"
          },
          "hovermode": "closest",
          "mapbox": {
           "style": "light"
          },
          "paper_bgcolor": "white",
          "plot_bgcolor": "#E5ECF6",
          "polar": {
           "angularaxis": {
            "gridcolor": "white",
            "linecolor": "white",
            "ticks": ""
           },
           "bgcolor": "#E5ECF6",
           "radialaxis": {
            "gridcolor": "white",
            "linecolor": "white",
            "ticks": ""
           }
          },
          "scene": {
           "xaxis": {
            "backgroundcolor": "#E5ECF6",
            "gridcolor": "white",
            "gridwidth": 2,
            "linecolor": "white",
            "showbackground": true,
            "ticks": "",
            "zerolinecolor": "white"
           },
           "yaxis": {
            "backgroundcolor": "#E5ECF6",
            "gridcolor": "white",
            "gridwidth": 2,
            "linecolor": "white",
            "showbackground": true,
            "ticks": "",
            "zerolinecolor": "white"
           },
           "zaxis": {
            "backgroundcolor": "#E5ECF6",
            "gridcolor": "white",
            "gridwidth": 2,
            "linecolor": "white",
            "showbackground": true,
            "ticks": "",
            "zerolinecolor": "white"
           }
          },
          "shapedefaults": {
           "line": {
            "color": "#2a3f5f"
           }
          },
          "ternary": {
           "aaxis": {
            "gridcolor": "white",
            "linecolor": "white",
            "ticks": ""
           },
           "baxis": {
            "gridcolor": "white",
            "linecolor": "white",
            "ticks": ""
           },
           "bgcolor": "#E5ECF6",
           "caxis": {
            "gridcolor": "white",
            "linecolor": "white",
            "ticks": ""
           }
          },
          "title": {
           "x": 0.05
          },
          "xaxis": {
           "automargin": true,
           "gridcolor": "white",
           "linecolor": "white",
           "ticks": "",
           "title": {
            "standoff": 15
           },
           "zerolinecolor": "white",
           "zerolinewidth": 2
          },
          "yaxis": {
           "automargin": true,
           "gridcolor": "white",
           "linecolor": "white",
           "ticks": "",
           "title": {
            "standoff": 15
           },
           "zerolinecolor": "white",
           "zerolinewidth": 2
          }
         }
        }
       }
      },
      "text/html": [
       "<div\n",
       "    class=\"webio-mountpoint\"\n",
       "    data-webio-mountpoint=\"112970732609597722\"\n",
       ">\n",
       "    <script>\n",
       "    (function(){\n",
       "    // Some integrations (namely, IJulia/Jupyter) use an alternate render pathway than\n",
       "    // just putting the html on the page. If WebIO isn't defined, then it's pretty likely\n",
       "    // that we're in one of those situations and the integration just isn't installed\n",
       "    // correctly.\n",
       "    if (typeof window.WebIO === \"undefined\") {\n",
       "        document\n",
       "            .querySelector('[data-webio-mountpoint=\"112970732609597722\"]')\n",
       "            .innerHTML = (\n",
       "                '<div style=\"padding: 1em; background-color: #f8d6da; border: 1px solid #f5c6cb; font-weight: bold;\">' +\n",
       "                '<p><strong>WebIO not detected.</strong></p>' +\n",
       "                '<p>Please read ' +\n",
       "                '<a href=\"https://juliagizmos.github.io/WebIO.jl/latest/troubleshooting/not-detected/\" target=\"_blank\">the troubleshooting guide</a> ' +\n",
       "                'for more information on how to resolve this issue.</p>' +\n",
       "                '<p><a href=\"https://juliagizmos.github.io/WebIO.jl/latest/troubleshooting/not-detected/\" target=\"_blank\">https://juliagizmos.github.io/WebIO.jl/latest/troubleshooting/not-detected/</a></p>' +\n",
       "                '</div>'\n",
       "            );\n",
       "        return;\n",
       "    }\n",
       "    WebIO.mount(\n",
       "        document.querySelector('[data-webio-mountpoint=\"112970732609597722\"]'),\n",
       "        {\"props\":{},\"nodeType\":\"Scope\",\"type\":\"node\",\"instanceArgs\":{\"imports\":{\"data\":[{\"name\":\"Plotly\",\"type\":\"js\",\"url\":\"\\/assetserver\\/597d3e3981791f3da20e7b96cab90ffffca4599e-plotly.min.js\"},{\"name\":null,\"type\":\"js\",\"url\":\"\\/assetserver\\/d21cc61a8b26f5a8d90707d16621e32300c2e5ed-plotly_webio.bundle.js\"}],\"type\":\"async_block\"},\"id\":\"5551154393802768593\",\"handlers\":{\"_toImage\":[\"(function (options){return this.Plotly.toImage(this.plotElem,options).then((function (data){return WebIO.setval({\\\"name\\\":\\\"image\\\",\\\"scope\\\":\\\"5551154393802768593\\\",\\\"id\\\":\\\"2127551866627990019\\\",\\\"type\\\":\\\"observable\\\"},data)}))})\"],\"__get_gd_contents\":[\"(function (prop){prop==\\\"data\\\" ? (WebIO.setval({\\\"name\\\":\\\"__gd_contents\\\",\\\"scope\\\":\\\"5551154393802768593\\\",\\\"id\\\":\\\"4184807665117842254\\\",\\\"type\\\":\\\"observable\\\"},this.plotElem.data)) : undefined; return prop==\\\"layout\\\" ? (WebIO.setval({\\\"name\\\":\\\"__gd_contents\\\",\\\"scope\\\":\\\"5551154393802768593\\\",\\\"id\\\":\\\"4184807665117842254\\\",\\\"type\\\":\\\"observable\\\"},this.plotElem.layout)) : undefined})\"],\"_downloadImage\":[\"(function (options){return this.Plotly.downloadImage(this.plotElem,options)})\"],\"_commands\":[\"(function (args){var fn=args.shift(); var elem=this.plotElem; var Plotly=this.Plotly; args.unshift(elem); return Plotly[fn].apply(this,args)})\"]},\"systemjs_options\":null,\"mount_callbacks\":[\"function () {\\n    var handler = ((function (Plotly,PlotlyWebIO){PlotlyWebIO.init(WebIO); var gd=this.dom.querySelector(\\\"#plot-71062456-2af2-4480-9868-3e94844b5c3b\\\"); this.plotElem=gd; this.Plotly=Plotly; (window.Blink!==undefined) ? (gd.style.width=\\\"100%\\\", gd.style.height=\\\"100vh\\\", gd.style.marginLeft=\\\"0%\\\", gd.style.marginTop=\\\"0vh\\\") : undefined; window.onresize=(function (){return Plotly.Plots.resize(gd)}); Plotly.newPlot(gd,[{\\\"showlegend\\\":true,\\\"xaxis\\\":\\\"x\\\",\\\"type\\\":\\\"splom\\\",\\\"name\\\":\\\"Alabama\\\",\\\"yaxis\\\":\\\"y\\\",\\\"legendgroup\\\":\\\"Alabama\\\",\\\"dimensions\\\":[{\\\"values\\\":[\\\"Alabama\\\"],\\\"label\\\":\\\"Column1\\\",\\\"axis\\\":{\\\"matches\\\":true}},{\\\"values\\\":[13.2],\\\"label\\\":\\\"Murder\\\",\\\"axis\\\":{\\\"matches\\\":true}},{\\\"values\\\":[236],\\\"label\\\":\\\"Assault\\\",\\\"axis\\\":{\\\"matches\\\":true}},{\\\"values\\\":[58],\\\"label\\\":\\\"UrbanPop\\\",\\\"axis\\\":{\\\"matches\\\":true}},{\\\"values\\\":[21.2],\\\"label\\\":\\\"Rape\\\",\\\"axis\\\":{\\\"matches\\\":true}}],\\\"diagonal\\\":{\\\"visible\\\":false},\\\"marker\\\":{\\\"color\\\":\\\"#636efa\\\"}},{\\\"showlegend\\\":true,\\\"xaxis\\\":\\\"x\\\",\\\"type\\\":\\\"splom\\\",\\\"name\\\":\\\"Alaska\\\",\\\"yaxis\\\":\\\"y\\\",\\\"legendgroup\\\":\\\"Alaska\\\",\\\"dimensions\\\":[{\\\"values\\\":[\\\"Alaska\\\"],\\\"label\\\":\\\"Column1\\\",\\\"axis\\\":{\\\"matches\\\":true}},{\\\"values\\\":[10.0],\\\"label\\\":\\\"Murder\\\",\\\"axis\\\":{\\\"matches\\\":true}},{\\\"values\\\":[263],\\\"label\\\":\\\"Assault\\\",\\\"axis\\\":{\\\"matches\\\":true}},{\\\"values\\\":[48],\\\"label\\\":\\\"UrbanPop\\\",\\\"axis\\\":{\\\"matches\\\":true}},{\\\"values\\\":[44.5],\\\"label\\\":\\\"Rape\\\",\\\"axis\\\":{\\\"matches\\\":true}}],\\\"diagonal\\\":{\\\"visible\\\":false},\\\"marker\\\":{\\\"color\\\":\\\"#EF553B\\\"}},{\\\"showlegend\\\":true,\\\"xaxis\\\":\\\"x\\\",\\\"type\\\":\\\"splom\\\",\\\"name\\\":\\\"Arizona\\\",\\\"yaxis\\\":\\\"y\\\",\\\"legendgroup\\\":\\\"Arizona\\\",\\\"dimensions\\\":[{\\\"values\\\":[\\\"Arizona\\\"],\\\"label\\\":\\\"Column1\\\",\\\"axis\\\":{\\\"matches\\\":true}},{\\\"values\\\":[8.1],\\\"label\\\":\\\"Murder\\\",\\\"axis\\\":{\\\"matches\\\":true}},{\\\"values\\\":[294],\\\"label\\\":\\\"Assault\\\",\\\"axis\\\":{\\\"matches\\\":true}},{\\\"values\\\":[80],\\\"label\\\":\\\"UrbanPop\\\",\\\"axis\\\":{\\\"matches\\\":true}},{\\\"values\\\":[31.0],\\\"label\\\":\\\"Rape\\\",\\\"axis\\\":{\\\"matches\\\":true}}],\\\"diagonal\\\":{\\\"visible\\\":false},\\\"marker\\\":{\\\"color\\\":\\\"#00cc96\\\"}},{\\\"showlegend\\\":true,\\\"xaxis\\\":\\\"x\\\",\\\"type\\\":\\\"splom\\\",\\\"name\\\":\\\"Arkansas\\\",\\\"yaxis\\\":\\\"y\\\",\\\"legendgroup\\\":\\\"Arkansas\\\",\\\"dimensions\\\":[{\\\"values\\\":[\\\"Arkansas\\\"],\\\"label\\\":\\\"Column1\\\",\\\"axis\\\":{\\\"matches\\\":true}},{\\\"values\\\":[8.8],\\\"label\\\":\\\"Murder\\\",\\\"axis\\\":{\\\"matches\\\":true}},{\\\"values\\\":[190],\\\"label\\\":\\\"Assault\\\",\\\"axis\\\":{\\\"matches\\\":true}},{\\\"values\\\":[50],\\\"label\\\":\\\"UrbanPop\\\",\\\"axis\\\":{\\\"matches\\\":true}},{\\\"values\\\":[19.5],\\\"label\\\":\\\"Rape\\\",\\\"axis\\\":{\\\"matches\\\":true}}],\\\"diagonal\\\":{\\\"visible\\\":false},\\\"marker\\\":{\\\"color\\\":\\\"#ab63fa\\\"}},{\\\"showlegend\\\":true,\\\"xaxis\\\":\\\"x\\\",\\\"type\\\":\\\"splom\\\",\\\"name\\\":\\\"California\\\",\\\"yaxis\\\":\\\"y\\\",\\\"legendgroup\\\":\\\"California\\\",\\\"dimensions\\\":[{\\\"values\\\":[\\\"California\\\"],\\\"label\\\":\\\"Column1\\\",\\\"axis\\\":{\\\"matches\\\":true}},{\\\"values\\\":[9.0],\\\"label\\\":\\\"Murder\\\",\\\"axis\\\":{\\\"matches\\\":true}},{\\\"values\\\":[276],\\\"label\\\":\\\"Assault\\\",\\\"axis\\\":{\\\"matches\\\":true}},{\\\"values\\\":[91],\\\"label\\\":\\\"UrbanPop\\\",\\\"axis\\\":{\\\"matches\\\":true}},{\\\"values\\\":[40.6],\\\"label\\\":\\\"Rape\\\",\\\"axis\\\":{\\\"matches\\\":true}}],\\\"diagonal\\\":{\\\"visible\\\":false},\\\"marker\\\":{\\\"color\\\":\\\"#FFA15A\\\"}},{\\\"showlegend\\\":true,\\\"xaxis\\\":\\\"x\\\",\\\"type\\\":\\\"splom\\\",\\\"name\\\":\\\"Colorado\\\",\\\"yaxis\\\":\\\"y\\\",\\\"legendgroup\\\":\\\"Colorado\\\",\\\"dimensions\\\":[{\\\"values\\\":[\\\"Colorado\\\"],\\\"label\\\":\\\"Column1\\\",\\\"axis\\\":{\\\"matches\\\":true}},{\\\"values\\\":[7.9],\\\"label\\\":\\\"Murder\\\",\\\"axis\\\":{\\\"matches\\\":true}},{\\\"values\\\":[204],\\\"label\\\":\\\"Assault\\\",\\\"axis\\\":{\\\"matches\\\":true}},{\\\"values\\\":[78],\\\"label\\\":\\\"UrbanPop\\\",\\\"axis\\\":{\\\"matches\\\":true}},{\\\"values\\\":[38.7],\\\"label\\\":\\\"Rape\\\",\\\"axis\\\":{\\\"matches\\\":true}}],\\\"diagonal\\\":{\\\"visible\\\":false},\\\"marker\\\":{\\\"color\\\":\\\"#19d3f3\\\"}},{\\\"showlegend\\\":true,\\\"xaxis\\\":\\\"x\\\",\\\"type\\\":\\\"splom\\\",\\\"name\\\":\\\"Connecticut\\\",\\\"yaxis\\\":\\\"y\\\",\\\"legendgroup\\\":\\\"Connecticut\\\",\\\"dimensions\\\":[{\\\"values\\\":[\\\"Connecticut\\\"],\\\"label\\\":\\\"Column1\\\",\\\"axis\\\":{\\\"matches\\\":true}},{\\\"values\\\":[3.3],\\\"label\\\":\\\"Murder\\\",\\\"axis\\\":{\\\"matches\\\":true}},{\\\"values\\\":[110],\\\"label\\\":\\\"Assault\\\",\\\"axis\\\":{\\\"matches\\\":true}},{\\\"values\\\":[77],\\\"label\\\":\\\"UrbanPop\\\",\\\"axis\\\":{\\\"matches\\\":true}},{\\\"values\\\":[11.1],\\\"label\\\":\\\"Rape\\\",\\\"axis\\\":{\\\"matches\\\":true}}],\\\"diagonal\\\":{\\\"visible\\\":false},\\\"marker\\\":{\\\"color\\\":\\\"#FF6692\\\"}},{\\\"showlegend\\\":true,\\\"xaxis\\\":\\\"x\\\",\\\"type\\\":\\\"splom\\\",\\\"name\\\":\\\"Delaware\\\",\\\"yaxis\\\":\\\"y\\\",\\\"legendgroup\\\":\\\"Delaware\\\",\\\"dimensions\\\":[{\\\"values\\\":[\\\"Delaware\\\"],\\\"label\\\":\\\"Column1\\\",\\\"axis\\\":{\\\"matches\\\":true}},{\\\"values\\\":[5.9],\\\"label\\\":\\\"Murder\\\",\\\"axis\\\":{\\\"matches\\\":true}},{\\\"values\\\":[238],\\\"label\\\":\\\"Assault\\\",\\\"axis\\\":{\\\"matches\\\":true}},{\\\"values\\\":[72],\\\"label\\\":\\\"UrbanPop\\\",\\\"axis\\\":{\\\"matches\\\":true}},{\\\"values\\\":[15.8],\\\"label\\\":\\\"Rape\\\",\\\"axis\\\":{\\\"matches\\\":true}}],\\\"diagonal\\\":{\\\"visible\\\":false},\\\"marker\\\":{\\\"color\\\":\\\"#B6E880\\\"}},{\\\"showlegend\\\":true,\\\"xaxis\\\":\\\"x\\\",\\\"type\\\":\\\"splom\\\",\\\"name\\\":\\\"Florida\\\",\\\"yaxis\\\":\\\"y\\\",\\\"legendgroup\\\":\\\"Florida\\\",\\\"dimensions\\\":[{\\\"values\\\":[\\\"Florida\\\"],\\\"label\\\":\\\"Column1\\\",\\\"axis\\\":{\\\"matches\\\":true}},{\\\"values\\\":[15.4],\\\"label\\\":\\\"Murder\\\",\\\"axis\\\":{\\\"matches\\\":true}},{\\\"values\\\":[335],\\\"label\\\":\\\"Assault\\\",\\\"axis\\\":{\\\"matches\\\":true}},{\\\"values\\\":[80],\\\"label\\\":\\\"UrbanPop\\\",\\\"axis\\\":{\\\"matches\\\":true}},{\\\"values\\\":[31.9],\\\"label\\\":\\\"Rape\\\",\\\"axis\\\":{\\\"matches\\\":true}}],\\\"diagonal\\\":{\\\"visible\\\":false},\\\"marker\\\":{\\\"color\\\":\\\"#FF97FF\\\"}},{\\\"showlegend\\\":true,\\\"xaxis\\\":\\\"x\\\",\\\"type\\\":\\\"splom\\\",\\\"name\\\":\\\"Georgia\\\",\\\"yaxis\\\":\\\"y\\\",\\\"legendgroup\\\":\\\"Georgia\\\",\\\"dimensions\\\":[{\\\"values\\\":[\\\"Georgia\\\"],\\\"label\\\":\\\"Column1\\\",\\\"axis\\\":{\\\"matches\\\":true}},{\\\"values\\\":[17.4],\\\"label\\\":\\\"Murder\\\",\\\"axis\\\":{\\\"matches\\\":true}},{\\\"values\\\":[211],\\\"label\\\":\\\"Assault\\\",\\\"axis\\\":{\\\"matches\\\":true}},{\\\"values\\\":[60],\\\"label\\\":\\\"UrbanPop\\\",\\\"axis\\\":{\\\"matches\\\":true}},{\\\"values\\\":[25.8],\\\"label\\\":\\\"Rape\\\",\\\"axis\\\":{\\\"matches\\\":true}}],\\\"diagonal\\\":{\\\"visible\\\":false},\\\"marker\\\":{\\\"color\\\":\\\"#FECB52\\\"}},{\\\"showlegend\\\":true,\\\"xaxis\\\":\\\"x\\\",\\\"type\\\":\\\"splom\\\",\\\"name\\\":\\\"Hawaii\\\",\\\"yaxis\\\":\\\"y\\\",\\\"legendgroup\\\":\\\"Hawaii\\\",\\\"dimensions\\\":[{\\\"values\\\":[\\\"Hawaii\\\"],\\\"label\\\":\\\"Column1\\\",\\\"axis\\\":{\\\"matches\\\":true}},{\\\"values\\\":[5.3],\\\"label\\\":\\\"Murder\\\",\\\"axis\\\":{\\\"matches\\\":true}},{\\\"values\\\":[46],\\\"label\\\":\\\"Assault\\\",\\\"axis\\\":{\\\"matches\\\":true}},{\\\"values\\\":[83],\\\"label\\\":\\\"UrbanPop\\\",\\\"axis\\\":{\\\"matches\\\":true}},{\\\"values\\\":[20.2],\\\"label\\\":\\\"Rape\\\",\\\"axis\\\":{\\\"matches\\\":true}}],\\\"diagonal\\\":{\\\"visible\\\":false},\\\"marker\\\":{\\\"color\\\":\\\"#636efa\\\"}},{\\\"showlegend\\\":true,\\\"xaxis\\\":\\\"x\\\",\\\"type\\\":\\\"splom\\\",\\\"name\\\":\\\"Idaho\\\",\\\"yaxis\\\":\\\"y\\\",\\\"legendgroup\\\":\\\"Idaho\\\",\\\"dimensions\\\":[{\\\"values\\\":[\\\"Idaho\\\"],\\\"label\\\":\\\"Column1\\\",\\\"axis\\\":{\\\"matches\\\":true}},{\\\"values\\\":[2.6],\\\"label\\\":\\\"Murder\\\",\\\"axis\\\":{\\\"matches\\\":true}},{\\\"values\\\":[120],\\\"label\\\":\\\"Assault\\\",\\\"axis\\\":{\\\"matches\\\":true}},{\\\"values\\\":[54],\\\"label\\\":\\\"UrbanPop\\\",\\\"axis\\\":{\\\"matches\\\":true}},{\\\"values\\\":[14.2],\\\"label\\\":\\\"Rape\\\",\\\"axis\\\":{\\\"matches\\\":true}}],\\\"diagonal\\\":{\\\"visible\\\":false},\\\"marker\\\":{\\\"color\\\":\\\"#EF553B\\\"}},{\\\"showlegend\\\":true,\\\"xaxis\\\":\\\"x\\\",\\\"type\\\":\\\"splom\\\",\\\"name\\\":\\\"Illinois\\\",\\\"yaxis\\\":\\\"y\\\",\\\"legendgroup\\\":\\\"Illinois\\\",\\\"dimensions\\\":[{\\\"values\\\":[\\\"Illinois\\\"],\\\"label\\\":\\\"Column1\\\",\\\"axis\\\":{\\\"matches\\\":true}},{\\\"values\\\":[10.4],\\\"label\\\":\\\"Murder\\\",\\\"axis\\\":{\\\"matches\\\":true}},{\\\"values\\\":[249],\\\"label\\\":\\\"Assault\\\",\\\"axis\\\":{\\\"matches\\\":true}},{\\\"values\\\":[83],\\\"label\\\":\\\"UrbanPop\\\",\\\"axis\\\":{\\\"matches\\\":true}},{\\\"values\\\":[24.0],\\\"label\\\":\\\"Rape\\\",\\\"axis\\\":{\\\"matches\\\":true}}],\\\"diagonal\\\":{\\\"visible\\\":false},\\\"marker\\\":{\\\"color\\\":\\\"#00cc96\\\"}},{\\\"showlegend\\\":true,\\\"xaxis\\\":\\\"x\\\",\\\"type\\\":\\\"splom\\\",\\\"name\\\":\\\"Indiana\\\",\\\"yaxis\\\":\\\"y\\\",\\\"legendgroup\\\":\\\"Indiana\\\",\\\"dimensions\\\":[{\\\"values\\\":[\\\"Indiana\\\"],\\\"label\\\":\\\"Column1\\\",\\\"axis\\\":{\\\"matches\\\":true}},{\\\"values\\\":[7.2],\\\"label\\\":\\\"Murder\\\",\\\"axis\\\":{\\\"matches\\\":true}},{\\\"values\\\":[113],\\\"label\\\":\\\"Assault\\\",\\\"axis\\\":{\\\"matches\\\":true}},{\\\"values\\\":[65],\\\"label\\\":\\\"UrbanPop\\\",\\\"axis\\\":{\\\"matches\\\":true}},{\\\"values\\\":[21.0],\\\"label\\\":\\\"Rape\\\",\\\"axis\\\":{\\\"matches\\\":true}}],\\\"diagonal\\\":{\\\"visible\\\":false},\\\"marker\\\":{\\\"color\\\":\\\"#ab63fa\\\"}},{\\\"showlegend\\\":true,\\\"xaxis\\\":\\\"x\\\",\\\"type\\\":\\\"splom\\\",\\\"name\\\":\\\"Iowa\\\",\\\"yaxis\\\":\\\"y\\\",\\\"legendgroup\\\":\\\"Iowa\\\",\\\"dimensions\\\":[{\\\"values\\\":[\\\"Iowa\\\"],\\\"label\\\":\\\"Column1\\\",\\\"axis\\\":{\\\"matches\\\":true}},{\\\"values\\\":[2.2],\\\"label\\\":\\\"Murder\\\",\\\"axis\\\":{\\\"matches\\\":true}},{\\\"values\\\":[56],\\\"label\\\":\\\"Assault\\\",\\\"axis\\\":{\\\"matches\\\":true}},{\\\"values\\\":[57],\\\"label\\\":\\\"UrbanPop\\\",\\\"axis\\\":{\\\"matches\\\":true}},{\\\"values\\\":[11.3],\\\"label\\\":\\\"Rape\\\",\\\"axis\\\":{\\\"matches\\\":true}}],\\\"diagonal\\\":{\\\"visible\\\":false},\\\"marker\\\":{\\\"color\\\":\\\"#FFA15A\\\"}},{\\\"showlegend\\\":true,\\\"xaxis\\\":\\\"x\\\",\\\"type\\\":\\\"splom\\\",\\\"name\\\":\\\"Kansas\\\",\\\"yaxis\\\":\\\"y\\\",\\\"legendgroup\\\":\\\"Kansas\\\",\\\"dimensions\\\":[{\\\"values\\\":[\\\"Kansas\\\"],\\\"label\\\":\\\"Column1\\\",\\\"axis\\\":{\\\"matches\\\":true}},{\\\"values\\\":[6.0],\\\"label\\\":\\\"Murder\\\",\\\"axis\\\":{\\\"matches\\\":true}},{\\\"values\\\":[115],\\\"label\\\":\\\"Assault\\\",\\\"axis\\\":{\\\"matches\\\":true}},{\\\"values\\\":[66],\\\"label\\\":\\\"UrbanPop\\\",\\\"axis\\\":{\\\"matches\\\":true}},{\\\"values\\\":[18.0],\\\"label\\\":\\\"Rape\\\",\\\"axis\\\":{\\\"matches\\\":true}}],\\\"diagonal\\\":{\\\"visible\\\":false},\\\"marker\\\":{\\\"color\\\":\\\"#19d3f3\\\"}},{\\\"showlegend\\\":true,\\\"xaxis\\\":\\\"x\\\",\\\"type\\\":\\\"splom\\\",\\\"name\\\":\\\"Kentucky\\\",\\\"yaxis\\\":\\\"y\\\",\\\"legendgroup\\\":\\\"Kentucky\\\",\\\"dimensions\\\":[{\\\"values\\\":[\\\"Kentucky\\\"],\\\"label\\\":\\\"Column1\\\",\\\"axis\\\":{\\\"matches\\\":true}},{\\\"values\\\":[9.7],\\\"label\\\":\\\"Murder\\\",\\\"axis\\\":{\\\"matches\\\":true}},{\\\"values\\\":[109],\\\"label\\\":\\\"Assault\\\",\\\"axis\\\":{\\\"matches\\\":true}},{\\\"values\\\":[52],\\\"label\\\":\\\"UrbanPop\\\",\\\"axis\\\":{\\\"matches\\\":true}},{\\\"values\\\":[16.3],\\\"label\\\":\\\"Rape\\\",\\\"axis\\\":{\\\"matches\\\":true}}],\\\"diagonal\\\":{\\\"visible\\\":false},\\\"marker\\\":{\\\"color\\\":\\\"#FF6692\\\"}},{\\\"showlegend\\\":true,\\\"xaxis\\\":\\\"x\\\",\\\"type\\\":\\\"splom\\\",\\\"name\\\":\\\"Louisiana\\\",\\\"yaxis\\\":\\\"y\\\",\\\"legendgroup\\\":\\\"Louisiana\\\",\\\"dimensions\\\":[{\\\"values\\\":[\\\"Louisiana\\\"],\\\"label\\\":\\\"Column1\\\",\\\"axis\\\":{\\\"matches\\\":true}},{\\\"values\\\":[15.4],\\\"label\\\":\\\"Murder\\\",\\\"axis\\\":{\\\"matches\\\":true}},{\\\"values\\\":[249],\\\"label\\\":\\\"Assault\\\",\\\"axis\\\":{\\\"matches\\\":true}},{\\\"values\\\":[66],\\\"label\\\":\\\"UrbanPop\\\",\\\"axis\\\":{\\\"matches\\\":true}},{\\\"values\\\":[22.2],\\\"label\\\":\\\"Rape\\\",\\\"axis\\\":{\\\"matches\\\":true}}],\\\"diagonal\\\":{\\\"visible\\\":false},\\\"marker\\\":{\\\"color\\\":\\\"#B6E880\\\"}},{\\\"showlegend\\\":true,\\\"xaxis\\\":\\\"x\\\",\\\"type\\\":\\\"splom\\\",\\\"name\\\":\\\"Maine\\\",\\\"yaxis\\\":\\\"y\\\",\\\"legendgroup\\\":\\\"Maine\\\",\\\"dimensions\\\":[{\\\"values\\\":[\\\"Maine\\\"],\\\"label\\\":\\\"Column1\\\",\\\"axis\\\":{\\\"matches\\\":true}},{\\\"values\\\":[2.1],\\\"label\\\":\\\"Murder\\\",\\\"axis\\\":{\\\"matches\\\":true}},{\\\"values\\\":[83],\\\"label\\\":\\\"Assault\\\",\\\"axis\\\":{\\\"matches\\\":true}},{\\\"values\\\":[51],\\\"label\\\":\\\"UrbanPop\\\",\\\"axis\\\":{\\\"matches\\\":true}},{\\\"values\\\":[7.8],\\\"label\\\":\\\"Rape\\\",\\\"axis\\\":{\\\"matches\\\":true}}],\\\"diagonal\\\":{\\\"visible\\\":false},\\\"marker\\\":{\\\"color\\\":\\\"#FF97FF\\\"}},{\\\"showlegend\\\":true,\\\"xaxis\\\":\\\"x\\\",\\\"type\\\":\\\"splom\\\",\\\"name\\\":\\\"Maryland\\\",\\\"yaxis\\\":\\\"y\\\",\\\"legendgroup\\\":\\\"Maryland\\\",\\\"dimensions\\\":[{\\\"values\\\":[\\\"Maryland\\\"],\\\"label\\\":\\\"Column1\\\",\\\"axis\\\":{\\\"matches\\\":true}},{\\\"values\\\":[11.3],\\\"label\\\":\\\"Murder\\\",\\\"axis\\\":{\\\"matches\\\":true}},{\\\"values\\\":[300],\\\"label\\\":\\\"Assault\\\",\\\"axis\\\":{\\\"matches\\\":true}},{\\\"values\\\":[67],\\\"label\\\":\\\"UrbanPop\\\",\\\"axis\\\":{\\\"matches\\\":true}},{\\\"values\\\":[27.8],\\\"label\\\":\\\"Rape\\\",\\\"axis\\\":{\\\"matches\\\":true}}],\\\"diagonal\\\":{\\\"visible\\\":false},\\\"marker\\\":{\\\"color\\\":\\\"#FECB52\\\"}},{\\\"showlegend\\\":true,\\\"xaxis\\\":\\\"x\\\",\\\"type\\\":\\\"splom\\\",\\\"name\\\":\\\"Massachusetts\\\",\\\"yaxis\\\":\\\"y\\\",\\\"legendgroup\\\":\\\"Massachusetts\\\",\\\"dimensions\\\":[{\\\"values\\\":[\\\"Massachusetts\\\"],\\\"label\\\":\\\"Column1\\\",\\\"axis\\\":{\\\"matches\\\":true}},{\\\"values\\\":[4.4],\\\"label\\\":\\\"Murder\\\",\\\"axis\\\":{\\\"matches\\\":true}},{\\\"values\\\":[149],\\\"label\\\":\\\"Assault\\\",\\\"axis\\\":{\\\"matches\\\":true}},{\\\"values\\\":[85],\\\"label\\\":\\\"UrbanPop\\\",\\\"axis\\\":{\\\"matches\\\":true}},{\\\"values\\\":[16.3],\\\"label\\\":\\\"Rape\\\",\\\"axis\\\":{\\\"matches\\\":true}}],\\\"diagonal\\\":{\\\"visible\\\":false},\\\"marker\\\":{\\\"color\\\":\\\"#636efa\\\"}},{\\\"showlegend\\\":true,\\\"xaxis\\\":\\\"x\\\",\\\"type\\\":\\\"splom\\\",\\\"name\\\":\\\"Michigan\\\",\\\"yaxis\\\":\\\"y\\\",\\\"legendgroup\\\":\\\"Michigan\\\",\\\"dimensions\\\":[{\\\"values\\\":[\\\"Michigan\\\"],\\\"label\\\":\\\"Column1\\\",\\\"axis\\\":{\\\"matches\\\":true}},{\\\"values\\\":[12.1],\\\"label\\\":\\\"Murder\\\",\\\"axis\\\":{\\\"matches\\\":true}},{\\\"values\\\":[255],\\\"label\\\":\\\"Assault\\\",\\\"axis\\\":{\\\"matches\\\":true}},{\\\"values\\\":[74],\\\"label\\\":\\\"UrbanPop\\\",\\\"axis\\\":{\\\"matches\\\":true}},{\\\"values\\\":[35.1],\\\"label\\\":\\\"Rape\\\",\\\"axis\\\":{\\\"matches\\\":true}}],\\\"diagonal\\\":{\\\"visible\\\":false},\\\"marker\\\":{\\\"color\\\":\\\"#EF553B\\\"}},{\\\"showlegend\\\":true,\\\"xaxis\\\":\\\"x\\\",\\\"type\\\":\\\"splom\\\",\\\"name\\\":\\\"Minnesota\\\",\\\"yaxis\\\":\\\"y\\\",\\\"legendgroup\\\":\\\"Minnesota\\\",\\\"dimensions\\\":[{\\\"values\\\":[\\\"Minnesota\\\"],\\\"label\\\":\\\"Column1\\\",\\\"axis\\\":{\\\"matches\\\":true}},{\\\"values\\\":[2.7],\\\"label\\\":\\\"Murder\\\",\\\"axis\\\":{\\\"matches\\\":true}},{\\\"values\\\":[72],\\\"label\\\":\\\"Assault\\\",\\\"axis\\\":{\\\"matches\\\":true}},{\\\"values\\\":[66],\\\"label\\\":\\\"UrbanPop\\\",\\\"axis\\\":{\\\"matches\\\":true}},{\\\"values\\\":[14.9],\\\"label\\\":\\\"Rape\\\",\\\"axis\\\":{\\\"matches\\\":true}}],\\\"diagonal\\\":{\\\"visible\\\":false},\\\"marker\\\":{\\\"color\\\":\\\"#00cc96\\\"}},{\\\"showlegend\\\":true,\\\"xaxis\\\":\\\"x\\\",\\\"type\\\":\\\"splom\\\",\\\"name\\\":\\\"Mississippi\\\",\\\"yaxis\\\":\\\"y\\\",\\\"legendgroup\\\":\\\"Mississippi\\\",\\\"dimensions\\\":[{\\\"values\\\":[\\\"Mississippi\\\"],\\\"label\\\":\\\"Column1\\\",\\\"axis\\\":{\\\"matches\\\":true}},{\\\"values\\\":[16.1],\\\"label\\\":\\\"Murder\\\",\\\"axis\\\":{\\\"matches\\\":true}},{\\\"values\\\":[259],\\\"label\\\":\\\"Assault\\\",\\\"axis\\\":{\\\"matches\\\":true}},{\\\"values\\\":[44],\\\"label\\\":\\\"UrbanPop\\\",\\\"axis\\\":{\\\"matches\\\":true}},{\\\"values\\\":[17.1],\\\"label\\\":\\\"Rape\\\",\\\"axis\\\":{\\\"matches\\\":true}}],\\\"diagonal\\\":{\\\"visible\\\":false},\\\"marker\\\":{\\\"color\\\":\\\"#ab63fa\\\"}},{\\\"showlegend\\\":true,\\\"xaxis\\\":\\\"x\\\",\\\"type\\\":\\\"splom\\\",\\\"name\\\":\\\"Missouri\\\",\\\"yaxis\\\":\\\"y\\\",\\\"legendgroup\\\":\\\"Missouri\\\",\\\"dimensions\\\":[{\\\"values\\\":[\\\"Missouri\\\"],\\\"label\\\":\\\"Column1\\\",\\\"axis\\\":{\\\"matches\\\":true}},{\\\"values\\\":[9.0],\\\"label\\\":\\\"Murder\\\",\\\"axis\\\":{\\\"matches\\\":true}},{\\\"values\\\":[178],\\\"label\\\":\\\"Assault\\\",\\\"axis\\\":{\\\"matches\\\":true}},{\\\"values\\\":[70],\\\"label\\\":\\\"UrbanPop\\\",\\\"axis\\\":{\\\"matches\\\":true}},{\\\"values\\\":[28.2],\\\"label\\\":\\\"Rape\\\",\\\"axis\\\":{\\\"matches\\\":true}}],\\\"diagonal\\\":{\\\"visible\\\":false},\\\"marker\\\":{\\\"color\\\":\\\"#FFA15A\\\"}},{\\\"showlegend\\\":true,\\\"xaxis\\\":\\\"x\\\",\\\"type\\\":\\\"splom\\\",\\\"name\\\":\\\"Montana\\\",\\\"yaxis\\\":\\\"y\\\",\\\"legendgroup\\\":\\\"Montana\\\",\\\"dimensions\\\":[{\\\"values\\\":[\\\"Montana\\\"],\\\"label\\\":\\\"Column1\\\",\\\"axis\\\":{\\\"matches\\\":true}},{\\\"values\\\":[6.0],\\\"label\\\":\\\"Murder\\\",\\\"axis\\\":{\\\"matches\\\":true}},{\\\"values\\\":[109],\\\"label\\\":\\\"Assault\\\",\\\"axis\\\":{\\\"matches\\\":true}},{\\\"values\\\":[53],\\\"label\\\":\\\"UrbanPop\\\",\\\"axis\\\":{\\\"matches\\\":true}},{\\\"values\\\":[16.4],\\\"label\\\":\\\"Rape\\\",\\\"axis\\\":{\\\"matches\\\":true}}],\\\"diagonal\\\":{\\\"visible\\\":false},\\\"marker\\\":{\\\"color\\\":\\\"#19d3f3\\\"}},{\\\"showlegend\\\":true,\\\"xaxis\\\":\\\"x\\\",\\\"type\\\":\\\"splom\\\",\\\"name\\\":\\\"Nebraska\\\",\\\"yaxis\\\":\\\"y\\\",\\\"legendgroup\\\":\\\"Nebraska\\\",\\\"dimensions\\\":[{\\\"values\\\":[\\\"Nebraska\\\"],\\\"label\\\":\\\"Column1\\\",\\\"axis\\\":{\\\"matches\\\":true}},{\\\"values\\\":[4.3],\\\"label\\\":\\\"Murder\\\",\\\"axis\\\":{\\\"matches\\\":true}},{\\\"values\\\":[102],\\\"label\\\":\\\"Assault\\\",\\\"axis\\\":{\\\"matches\\\":true}},{\\\"values\\\":[62],\\\"label\\\":\\\"UrbanPop\\\",\\\"axis\\\":{\\\"matches\\\":true}},{\\\"values\\\":[16.5],\\\"label\\\":\\\"Rape\\\",\\\"axis\\\":{\\\"matches\\\":true}}],\\\"diagonal\\\":{\\\"visible\\\":false},\\\"marker\\\":{\\\"color\\\":\\\"#FF6692\\\"}},{\\\"showlegend\\\":true,\\\"xaxis\\\":\\\"x\\\",\\\"type\\\":\\\"splom\\\",\\\"name\\\":\\\"Nevada\\\",\\\"yaxis\\\":\\\"y\\\",\\\"legendgroup\\\":\\\"Nevada\\\",\\\"dimensions\\\":[{\\\"values\\\":[\\\"Nevada\\\"],\\\"label\\\":\\\"Column1\\\",\\\"axis\\\":{\\\"matches\\\":true}},{\\\"values\\\":[12.2],\\\"label\\\":\\\"Murder\\\",\\\"axis\\\":{\\\"matches\\\":true}},{\\\"values\\\":[252],\\\"label\\\":\\\"Assault\\\",\\\"axis\\\":{\\\"matches\\\":true}},{\\\"values\\\":[81],\\\"label\\\":\\\"UrbanPop\\\",\\\"axis\\\":{\\\"matches\\\":true}},{\\\"values\\\":[46.0],\\\"label\\\":\\\"Rape\\\",\\\"axis\\\":{\\\"matches\\\":true}}],\\\"diagonal\\\":{\\\"visible\\\":false},\\\"marker\\\":{\\\"color\\\":\\\"#B6E880\\\"}},{\\\"showlegend\\\":true,\\\"xaxis\\\":\\\"x\\\",\\\"type\\\":\\\"splom\\\",\\\"name\\\":\\\"New Hampshire\\\",\\\"yaxis\\\":\\\"y\\\",\\\"legendgroup\\\":\\\"New Hampshire\\\",\\\"dimensions\\\":[{\\\"values\\\":[\\\"New Hampshire\\\"],\\\"label\\\":\\\"Column1\\\",\\\"axis\\\":{\\\"matches\\\":true}},{\\\"values\\\":[2.1],\\\"label\\\":\\\"Murder\\\",\\\"axis\\\":{\\\"matches\\\":true}},{\\\"values\\\":[57],\\\"label\\\":\\\"Assault\\\",\\\"axis\\\":{\\\"matches\\\":true}},{\\\"values\\\":[56],\\\"label\\\":\\\"UrbanPop\\\",\\\"axis\\\":{\\\"matches\\\":true}},{\\\"values\\\":[9.5],\\\"label\\\":\\\"Rape\\\",\\\"axis\\\":{\\\"matches\\\":true}}],\\\"diagonal\\\":{\\\"visible\\\":false},\\\"marker\\\":{\\\"color\\\":\\\"#FF97FF\\\"}},{\\\"showlegend\\\":true,\\\"xaxis\\\":\\\"x\\\",\\\"type\\\":\\\"splom\\\",\\\"name\\\":\\\"New Jersey\\\",\\\"yaxis\\\":\\\"y\\\",\\\"legendgroup\\\":\\\"New Jersey\\\",\\\"dimensions\\\":[{\\\"values\\\":[\\\"New Jersey\\\"],\\\"label\\\":\\\"Column1\\\",\\\"axis\\\":{\\\"matches\\\":true}},{\\\"values\\\":[7.4],\\\"label\\\":\\\"Murder\\\",\\\"axis\\\":{\\\"matches\\\":true}},{\\\"values\\\":[159],\\\"label\\\":\\\"Assault\\\",\\\"axis\\\":{\\\"matches\\\":true}},{\\\"values\\\":[89],\\\"label\\\":\\\"UrbanPop\\\",\\\"axis\\\":{\\\"matches\\\":true}},{\\\"values\\\":[18.8],\\\"label\\\":\\\"Rape\\\",\\\"axis\\\":{\\\"matches\\\":true}}],\\\"diagonal\\\":{\\\"visible\\\":false},\\\"marker\\\":{\\\"color\\\":\\\"#FECB52\\\"}},{\\\"showlegend\\\":true,\\\"xaxis\\\":\\\"x\\\",\\\"type\\\":\\\"splom\\\",\\\"name\\\":\\\"New Mexico\\\",\\\"yaxis\\\":\\\"y\\\",\\\"legendgroup\\\":\\\"New Mexico\\\",\\\"dimensions\\\":[{\\\"values\\\":[\\\"New Mexico\\\"],\\\"label\\\":\\\"Column1\\\",\\\"axis\\\":{\\\"matches\\\":true}},{\\\"values\\\":[11.4],\\\"label\\\":\\\"Murder\\\",\\\"axis\\\":{\\\"matches\\\":true}},{\\\"values\\\":[285],\\\"label\\\":\\\"Assault\\\",\\\"axis\\\":{\\\"matches\\\":true}},{\\\"values\\\":[70],\\\"label\\\":\\\"UrbanPop\\\",\\\"axis\\\":{\\\"matches\\\":true}},{\\\"values\\\":[32.1],\\\"label\\\":\\\"Rape\\\",\\\"axis\\\":{\\\"matches\\\":true}}],\\\"diagonal\\\":{\\\"visible\\\":false},\\\"marker\\\":{\\\"color\\\":\\\"#636efa\\\"}},{\\\"showlegend\\\":true,\\\"xaxis\\\":\\\"x\\\",\\\"type\\\":\\\"splom\\\",\\\"name\\\":\\\"New York\\\",\\\"yaxis\\\":\\\"y\\\",\\\"legendgroup\\\":\\\"New York\\\",\\\"dimensions\\\":[{\\\"values\\\":[\\\"New York\\\"],\\\"label\\\":\\\"Column1\\\",\\\"axis\\\":{\\\"matches\\\":true}},{\\\"values\\\":[11.1],\\\"label\\\":\\\"Murder\\\",\\\"axis\\\":{\\\"matches\\\":true}},{\\\"values\\\":[254],\\\"label\\\":\\\"Assault\\\",\\\"axis\\\":{\\\"matches\\\":true}},{\\\"values\\\":[86],\\\"label\\\":\\\"UrbanPop\\\",\\\"axis\\\":{\\\"matches\\\":true}},{\\\"values\\\":[26.1],\\\"label\\\":\\\"Rape\\\",\\\"axis\\\":{\\\"matches\\\":true}}],\\\"diagonal\\\":{\\\"visible\\\":false},\\\"marker\\\":{\\\"color\\\":\\\"#EF553B\\\"}},{\\\"showlegend\\\":true,\\\"xaxis\\\":\\\"x\\\",\\\"type\\\":\\\"splom\\\",\\\"name\\\":\\\"North Carolina\\\",\\\"yaxis\\\":\\\"y\\\",\\\"legendgroup\\\":\\\"North Carolina\\\",\\\"dimensions\\\":[{\\\"values\\\":[\\\"North Carolina\\\"],\\\"label\\\":\\\"Column1\\\",\\\"axis\\\":{\\\"matches\\\":true}},{\\\"values\\\":[13.0],\\\"label\\\":\\\"Murder\\\",\\\"axis\\\":{\\\"matches\\\":true}},{\\\"values\\\":[337],\\\"label\\\":\\\"Assault\\\",\\\"axis\\\":{\\\"matches\\\":true}},{\\\"values\\\":[45],\\\"label\\\":\\\"UrbanPop\\\",\\\"axis\\\":{\\\"matches\\\":true}},{\\\"values\\\":[16.1],\\\"label\\\":\\\"Rape\\\",\\\"axis\\\":{\\\"matches\\\":true}}],\\\"diagonal\\\":{\\\"visible\\\":false},\\\"marker\\\":{\\\"color\\\":\\\"#00cc96\\\"}},{\\\"showlegend\\\":true,\\\"xaxis\\\":\\\"x\\\",\\\"type\\\":\\\"splom\\\",\\\"name\\\":\\\"North Dakota\\\",\\\"yaxis\\\":\\\"y\\\",\\\"legendgroup\\\":\\\"North Dakota\\\",\\\"dimensions\\\":[{\\\"values\\\":[\\\"North Dakota\\\"],\\\"label\\\":\\\"Column1\\\",\\\"axis\\\":{\\\"matches\\\":true}},{\\\"values\\\":[0.8],\\\"label\\\":\\\"Murder\\\",\\\"axis\\\":{\\\"matches\\\":true}},{\\\"values\\\":[45],\\\"label\\\":\\\"Assault\\\",\\\"axis\\\":{\\\"matches\\\":true}},{\\\"values\\\":[44],\\\"label\\\":\\\"UrbanPop\\\",\\\"axis\\\":{\\\"matches\\\":true}},{\\\"values\\\":[7.3],\\\"label\\\":\\\"Rape\\\",\\\"axis\\\":{\\\"matches\\\":true}}],\\\"diagonal\\\":{\\\"visible\\\":false},\\\"marker\\\":{\\\"color\\\":\\\"#ab63fa\\\"}},{\\\"showlegend\\\":true,\\\"xaxis\\\":\\\"x\\\",\\\"type\\\":\\\"splom\\\",\\\"name\\\":\\\"Ohio\\\",\\\"yaxis\\\":\\\"y\\\",\\\"legendgroup\\\":\\\"Ohio\\\",\\\"dimensions\\\":[{\\\"values\\\":[\\\"Ohio\\\"],\\\"label\\\":\\\"Column1\\\",\\\"axis\\\":{\\\"matches\\\":true}},{\\\"values\\\":[7.3],\\\"label\\\":\\\"Murder\\\",\\\"axis\\\":{\\\"matches\\\":true}},{\\\"values\\\":[120],\\\"label\\\":\\\"Assault\\\",\\\"axis\\\":{\\\"matches\\\":true}},{\\\"values\\\":[75],\\\"label\\\":\\\"UrbanPop\\\",\\\"axis\\\":{\\\"matches\\\":true}},{\\\"values\\\":[21.4],\\\"label\\\":\\\"Rape\\\",\\\"axis\\\":{\\\"matches\\\":true}}],\\\"diagonal\\\":{\\\"visible\\\":false},\\\"marker\\\":{\\\"color\\\":\\\"#FFA15A\\\"}},{\\\"showlegend\\\":true,\\\"xaxis\\\":\\\"x\\\",\\\"type\\\":\\\"splom\\\",\\\"name\\\":\\\"Oklahoma\\\",\\\"yaxis\\\":\\\"y\\\",\\\"legendgroup\\\":\\\"Oklahoma\\\",\\\"dimensions\\\":[{\\\"values\\\":[\\\"Oklahoma\\\"],\\\"label\\\":\\\"Column1\\\",\\\"axis\\\":{\\\"matches\\\":true}},{\\\"values\\\":[6.6],\\\"label\\\":\\\"Murder\\\",\\\"axis\\\":{\\\"matches\\\":true}},{\\\"values\\\":[151],\\\"label\\\":\\\"Assault\\\",\\\"axis\\\":{\\\"matches\\\":true}},{\\\"values\\\":[68],\\\"label\\\":\\\"UrbanPop\\\",\\\"axis\\\":{\\\"matches\\\":true}},{\\\"values\\\":[20.0],\\\"label\\\":\\\"Rape\\\",\\\"axis\\\":{\\\"matches\\\":true}}],\\\"diagonal\\\":{\\\"visible\\\":false},\\\"marker\\\":{\\\"color\\\":\\\"#19d3f3\\\"}},{\\\"showlegend\\\":true,\\\"xaxis\\\":\\\"x\\\",\\\"type\\\":\\\"splom\\\",\\\"name\\\":\\\"Oregon\\\",\\\"yaxis\\\":\\\"y\\\",\\\"legendgroup\\\":\\\"Oregon\\\",\\\"dimensions\\\":[{\\\"values\\\":[\\\"Oregon\\\"],\\\"label\\\":\\\"Column1\\\",\\\"axis\\\":{\\\"matches\\\":true}},{\\\"values\\\":[4.9],\\\"label\\\":\\\"Murder\\\",\\\"axis\\\":{\\\"matches\\\":true}},{\\\"values\\\":[159],\\\"label\\\":\\\"Assault\\\",\\\"axis\\\":{\\\"matches\\\":true}},{\\\"values\\\":[67],\\\"label\\\":\\\"UrbanPop\\\",\\\"axis\\\":{\\\"matches\\\":true}},{\\\"values\\\":[29.3],\\\"label\\\":\\\"Rape\\\",\\\"axis\\\":{\\\"matches\\\":true}}],\\\"diagonal\\\":{\\\"visible\\\":false},\\\"marker\\\":{\\\"color\\\":\\\"#FF6692\\\"}},{\\\"showlegend\\\":true,\\\"xaxis\\\":\\\"x\\\",\\\"type\\\":\\\"splom\\\",\\\"name\\\":\\\"Pennsylvania\\\",\\\"yaxis\\\":\\\"y\\\",\\\"legendgroup\\\":\\\"Pennsylvania\\\",\\\"dimensions\\\":[{\\\"values\\\":[\\\"Pennsylvania\\\"],\\\"label\\\":\\\"Column1\\\",\\\"axis\\\":{\\\"matches\\\":true}},{\\\"values\\\":[6.3],\\\"label\\\":\\\"Murder\\\",\\\"axis\\\":{\\\"matches\\\":true}},{\\\"values\\\":[106],\\\"label\\\":\\\"Assault\\\",\\\"axis\\\":{\\\"matches\\\":true}},{\\\"values\\\":[72],\\\"label\\\":\\\"UrbanPop\\\",\\\"axis\\\":{\\\"matches\\\":true}},{\\\"values\\\":[14.9],\\\"label\\\":\\\"Rape\\\",\\\"axis\\\":{\\\"matches\\\":true}}],\\\"diagonal\\\":{\\\"visible\\\":false},\\\"marker\\\":{\\\"color\\\":\\\"#B6E880\\\"}},{\\\"showlegend\\\":true,\\\"xaxis\\\":\\\"x\\\",\\\"type\\\":\\\"splom\\\",\\\"name\\\":\\\"Rhode Island\\\",\\\"yaxis\\\":\\\"y\\\",\\\"legendgroup\\\":\\\"Rhode Island\\\",\\\"dimensions\\\":[{\\\"values\\\":[\\\"Rhode Island\\\"],\\\"label\\\":\\\"Column1\\\",\\\"axis\\\":{\\\"matches\\\":true}},{\\\"values\\\":[3.4],\\\"label\\\":\\\"Murder\\\",\\\"axis\\\":{\\\"matches\\\":true}},{\\\"values\\\":[174],\\\"label\\\":\\\"Assault\\\",\\\"axis\\\":{\\\"matches\\\":true}},{\\\"values\\\":[87],\\\"label\\\":\\\"UrbanPop\\\",\\\"axis\\\":{\\\"matches\\\":true}},{\\\"values\\\":[8.3],\\\"label\\\":\\\"Rape\\\",\\\"axis\\\":{\\\"matches\\\":true}}],\\\"diagonal\\\":{\\\"visible\\\":false},\\\"marker\\\":{\\\"color\\\":\\\"#FF97FF\\\"}},{\\\"showlegend\\\":true,\\\"xaxis\\\":\\\"x\\\",\\\"type\\\":\\\"splom\\\",\\\"name\\\":\\\"South Carolina\\\",\\\"yaxis\\\":\\\"y\\\",\\\"legendgroup\\\":\\\"South Carolina\\\",\\\"dimensions\\\":[{\\\"values\\\":[\\\"South Carolina\\\"],\\\"label\\\":\\\"Column1\\\",\\\"axis\\\":{\\\"matches\\\":true}},{\\\"values\\\":[14.4],\\\"label\\\":\\\"Murder\\\",\\\"axis\\\":{\\\"matches\\\":true}},{\\\"values\\\":[279],\\\"label\\\":\\\"Assault\\\",\\\"axis\\\":{\\\"matches\\\":true}},{\\\"values\\\":[48],\\\"label\\\":\\\"UrbanPop\\\",\\\"axis\\\":{\\\"matches\\\":true}},{\\\"values\\\":[22.5],\\\"label\\\":\\\"Rape\\\",\\\"axis\\\":{\\\"matches\\\":true}}],\\\"diagonal\\\":{\\\"visible\\\":false},\\\"marker\\\":{\\\"color\\\":\\\"#FECB52\\\"}},{\\\"showlegend\\\":true,\\\"xaxis\\\":\\\"x\\\",\\\"type\\\":\\\"splom\\\",\\\"name\\\":\\\"South Dakota\\\",\\\"yaxis\\\":\\\"y\\\",\\\"legendgroup\\\":\\\"South Dakota\\\",\\\"dimensions\\\":[{\\\"values\\\":[\\\"South Dakota\\\"],\\\"label\\\":\\\"Column1\\\",\\\"axis\\\":{\\\"matches\\\":true}},{\\\"values\\\":[3.8],\\\"label\\\":\\\"Murder\\\",\\\"axis\\\":{\\\"matches\\\":true}},{\\\"values\\\":[86],\\\"label\\\":\\\"Assault\\\",\\\"axis\\\":{\\\"matches\\\":true}},{\\\"values\\\":[45],\\\"label\\\":\\\"UrbanPop\\\",\\\"axis\\\":{\\\"matches\\\":true}},{\\\"values\\\":[12.8],\\\"label\\\":\\\"Rape\\\",\\\"axis\\\":{\\\"matches\\\":true}}],\\\"diagonal\\\":{\\\"visible\\\":false},\\\"marker\\\":{\\\"color\\\":\\\"#636efa\\\"}},{\\\"showlegend\\\":true,\\\"xaxis\\\":\\\"x\\\",\\\"type\\\":\\\"splom\\\",\\\"name\\\":\\\"Tennessee\\\",\\\"yaxis\\\":\\\"y\\\",\\\"legendgroup\\\":\\\"Tennessee\\\",\\\"dimensions\\\":[{\\\"values\\\":[\\\"Tennessee\\\"],\\\"label\\\":\\\"Column1\\\",\\\"axis\\\":{\\\"matches\\\":true}},{\\\"values\\\":[13.2],\\\"label\\\":\\\"Murder\\\",\\\"axis\\\":{\\\"matches\\\":true}},{\\\"values\\\":[188],\\\"label\\\":\\\"Assault\\\",\\\"axis\\\":{\\\"matches\\\":true}},{\\\"values\\\":[59],\\\"label\\\":\\\"UrbanPop\\\",\\\"axis\\\":{\\\"matches\\\":true}},{\\\"values\\\":[26.9],\\\"label\\\":\\\"Rape\\\",\\\"axis\\\":{\\\"matches\\\":true}}],\\\"diagonal\\\":{\\\"visible\\\":false},\\\"marker\\\":{\\\"color\\\":\\\"#EF553B\\\"}},{\\\"showlegend\\\":true,\\\"xaxis\\\":\\\"x\\\",\\\"type\\\":\\\"splom\\\",\\\"name\\\":\\\"Texas\\\",\\\"yaxis\\\":\\\"y\\\",\\\"legendgroup\\\":\\\"Texas\\\",\\\"dimensions\\\":[{\\\"values\\\":[\\\"Texas\\\"],\\\"label\\\":\\\"Column1\\\",\\\"axis\\\":{\\\"matches\\\":true}},{\\\"values\\\":[12.7],\\\"label\\\":\\\"Murder\\\",\\\"axis\\\":{\\\"matches\\\":true}},{\\\"values\\\":[201],\\\"label\\\":\\\"Assault\\\",\\\"axis\\\":{\\\"matches\\\":true}},{\\\"values\\\":[80],\\\"label\\\":\\\"UrbanPop\\\",\\\"axis\\\":{\\\"matches\\\":true}},{\\\"values\\\":[25.5],\\\"label\\\":\\\"Rape\\\",\\\"axis\\\":{\\\"matches\\\":true}}],\\\"diagonal\\\":{\\\"visible\\\":false},\\\"marker\\\":{\\\"color\\\":\\\"#00cc96\\\"}},{\\\"showlegend\\\":true,\\\"xaxis\\\":\\\"x\\\",\\\"type\\\":\\\"splom\\\",\\\"name\\\":\\\"Utah\\\",\\\"yaxis\\\":\\\"y\\\",\\\"legendgroup\\\":\\\"Utah\\\",\\\"dimensions\\\":[{\\\"values\\\":[\\\"Utah\\\"],\\\"label\\\":\\\"Column1\\\",\\\"axis\\\":{\\\"matches\\\":true}},{\\\"values\\\":[3.2],\\\"label\\\":\\\"Murder\\\",\\\"axis\\\":{\\\"matches\\\":true}},{\\\"values\\\":[120],\\\"label\\\":\\\"Assault\\\",\\\"axis\\\":{\\\"matches\\\":true}},{\\\"values\\\":[80],\\\"label\\\":\\\"UrbanPop\\\",\\\"axis\\\":{\\\"matches\\\":true}},{\\\"values\\\":[22.9],\\\"label\\\":\\\"Rape\\\",\\\"axis\\\":{\\\"matches\\\":true}}],\\\"diagonal\\\":{\\\"visible\\\":false},\\\"marker\\\":{\\\"color\\\":\\\"#ab63fa\\\"}},{\\\"showlegend\\\":true,\\\"xaxis\\\":\\\"x\\\",\\\"type\\\":\\\"splom\\\",\\\"name\\\":\\\"Vermont\\\",\\\"yaxis\\\":\\\"y\\\",\\\"legendgroup\\\":\\\"Vermont\\\",\\\"dimensions\\\":[{\\\"values\\\":[\\\"Vermont\\\"],\\\"label\\\":\\\"Column1\\\",\\\"axis\\\":{\\\"matches\\\":true}},{\\\"values\\\":[2.2],\\\"label\\\":\\\"Murder\\\",\\\"axis\\\":{\\\"matches\\\":true}},{\\\"values\\\":[48],\\\"label\\\":\\\"Assault\\\",\\\"axis\\\":{\\\"matches\\\":true}},{\\\"values\\\":[32],\\\"label\\\":\\\"UrbanPop\\\",\\\"axis\\\":{\\\"matches\\\":true}},{\\\"values\\\":[11.2],\\\"label\\\":\\\"Rape\\\",\\\"axis\\\":{\\\"matches\\\":true}}],\\\"diagonal\\\":{\\\"visible\\\":false},\\\"marker\\\":{\\\"color\\\":\\\"#FFA15A\\\"}},{\\\"showlegend\\\":true,\\\"xaxis\\\":\\\"x\\\",\\\"type\\\":\\\"splom\\\",\\\"name\\\":\\\"Virginia\\\",\\\"yaxis\\\":\\\"y\\\",\\\"legendgroup\\\":\\\"Virginia\\\",\\\"dimensions\\\":[{\\\"values\\\":[\\\"Virginia\\\"],\\\"label\\\":\\\"Column1\\\",\\\"axis\\\":{\\\"matches\\\":true}},{\\\"values\\\":[8.5],\\\"label\\\":\\\"Murder\\\",\\\"axis\\\":{\\\"matches\\\":true}},{\\\"values\\\":[156],\\\"label\\\":\\\"Assault\\\",\\\"axis\\\":{\\\"matches\\\":true}},{\\\"values\\\":[63],\\\"label\\\":\\\"UrbanPop\\\",\\\"axis\\\":{\\\"matches\\\":true}},{\\\"values\\\":[20.7],\\\"label\\\":\\\"Rape\\\",\\\"axis\\\":{\\\"matches\\\":true}}],\\\"diagonal\\\":{\\\"visible\\\":false},\\\"marker\\\":{\\\"color\\\":\\\"#19d3f3\\\"}},{\\\"showlegend\\\":true,\\\"xaxis\\\":\\\"x\\\",\\\"type\\\":\\\"splom\\\",\\\"name\\\":\\\"Washington\\\",\\\"yaxis\\\":\\\"y\\\",\\\"legendgroup\\\":\\\"Washington\\\",\\\"dimensions\\\":[{\\\"values\\\":[\\\"Washington\\\"],\\\"label\\\":\\\"Column1\\\",\\\"axis\\\":{\\\"matches\\\":true}},{\\\"values\\\":[4.0],\\\"label\\\":\\\"Murder\\\",\\\"axis\\\":{\\\"matches\\\":true}},{\\\"values\\\":[145],\\\"label\\\":\\\"Assault\\\",\\\"axis\\\":{\\\"matches\\\":true}},{\\\"values\\\":[73],\\\"label\\\":\\\"UrbanPop\\\",\\\"axis\\\":{\\\"matches\\\":true}},{\\\"values\\\":[26.2],\\\"label\\\":\\\"Rape\\\",\\\"axis\\\":{\\\"matches\\\":true}}],\\\"diagonal\\\":{\\\"visible\\\":false},\\\"marker\\\":{\\\"color\\\":\\\"#FF6692\\\"}},{\\\"showlegend\\\":true,\\\"xaxis\\\":\\\"x\\\",\\\"type\\\":\\\"splom\\\",\\\"name\\\":\\\"West Virginia\\\",\\\"yaxis\\\":\\\"y\\\",\\\"legendgroup\\\":\\\"West Virginia\\\",\\\"dimensions\\\":[{\\\"values\\\":[\\\"West Virginia\\\"],\\\"label\\\":\\\"Column1\\\",\\\"axis\\\":{\\\"matches\\\":true}},{\\\"values\\\":[5.7],\\\"label\\\":\\\"Murder\\\",\\\"axis\\\":{\\\"matches\\\":true}},{\\\"values\\\":[81],\\\"label\\\":\\\"Assault\\\",\\\"axis\\\":{\\\"matches\\\":true}},{\\\"values\\\":[39],\\\"label\\\":\\\"UrbanPop\\\",\\\"axis\\\":{\\\"matches\\\":true}},{\\\"values\\\":[9.3],\\\"label\\\":\\\"Rape\\\",\\\"axis\\\":{\\\"matches\\\":true}}],\\\"diagonal\\\":{\\\"visible\\\":false},\\\"marker\\\":{\\\"color\\\":\\\"#B6E880\\\"}},{\\\"showlegend\\\":true,\\\"xaxis\\\":\\\"x\\\",\\\"type\\\":\\\"splom\\\",\\\"name\\\":\\\"Wisconsin\\\",\\\"yaxis\\\":\\\"y\\\",\\\"legendgroup\\\":\\\"Wisconsin\\\",\\\"dimensions\\\":[{\\\"values\\\":[\\\"Wisconsin\\\"],\\\"label\\\":\\\"Column1\\\",\\\"axis\\\":{\\\"matches\\\":true}},{\\\"values\\\":[2.6],\\\"label\\\":\\\"Murder\\\",\\\"axis\\\":{\\\"matches\\\":true}},{\\\"values\\\":[53],\\\"label\\\":\\\"Assault\\\",\\\"axis\\\":{\\\"matches\\\":true}},{\\\"values\\\":[66],\\\"label\\\":\\\"UrbanPop\\\",\\\"axis\\\":{\\\"matches\\\":true}},{\\\"values\\\":[10.8],\\\"label\\\":\\\"Rape\\\",\\\"axis\\\":{\\\"matches\\\":true}}],\\\"diagonal\\\":{\\\"visible\\\":false},\\\"marker\\\":{\\\"color\\\":\\\"#FF97FF\\\"}},{\\\"showlegend\\\":true,\\\"xaxis\\\":\\\"x\\\",\\\"type\\\":\\\"splom\\\",\\\"name\\\":\\\"Wyoming\\\",\\\"yaxis\\\":\\\"y\\\",\\\"legendgroup\\\":\\\"Wyoming\\\",\\\"dimensions\\\":[{\\\"values\\\":[\\\"Wyoming\\\"],\\\"label\\\":\\\"Column1\\\",\\\"axis\\\":{\\\"matches\\\":true}},{\\\"values\\\":[6.8],\\\"label\\\":\\\"Murder\\\",\\\"axis\\\":{\\\"matches\\\":true}},{\\\"values\\\":[161],\\\"label\\\":\\\"Assault\\\",\\\"axis\\\":{\\\"matches\\\":true}},{\\\"values\\\":[60],\\\"label\\\":\\\"UrbanPop\\\",\\\"axis\\\":{\\\"matches\\\":true}},{\\\"values\\\":[15.6],\\\"label\\\":\\\"Rape\\\",\\\"axis\\\":{\\\"matches\\\":true}}],\\\"diagonal\\\":{\\\"visible\\\":false},\\\"marker\\\":{\\\"color\\\":\\\"#FECB52\\\"}}],{\\\"template\\\":{\\\"layout\\\":{\\\"coloraxis\\\":{\\\"colorbar\\\":{\\\"ticks\\\":\\\"\\\",\\\"outlinewidth\\\":0}},\\\"xaxis\\\":{\\\"gridcolor\\\":\\\"white\\\",\\\"zerolinewidth\\\":2,\\\"title\\\":{\\\"standoff\\\":15},\\\"ticks\\\":\\\"\\\",\\\"zerolinecolor\\\":\\\"white\\\",\\\"automargin\\\":true,\\\"linecolor\\\":\\\"white\\\"},\\\"hovermode\\\":\\\"closest\\\",\\\"paper_bgcolor\\\":\\\"white\\\",\\\"geo\\\":{\\\"showlakes\\\":true,\\\"showland\\\":true,\\\"landcolor\\\":\\\"#E5ECF6\\\",\\\"bgcolor\\\":\\\"white\\\",\\\"subunitcolor\\\":\\\"white\\\",\\\"lakecolor\\\":\\\"white\\\"},\\\"colorscale\\\":{\\\"sequential\\\":[[0.0,\\\"#0d0887\\\"],[0.1111111111111111,\\\"#46039f\\\"],[0.2222222222222222,\\\"#7201a8\\\"],[0.3333333333333333,\\\"#9c179e\\\"],[0.4444444444444444,\\\"#bd3786\\\"],[0.5555555555555556,\\\"#d8576b\\\"],[0.6666666666666666,\\\"#ed7953\\\"],[0.7777777777777778,\\\"#fb9f3a\\\"],[0.8888888888888888,\\\"#fdca26\\\"],[1.0,\\\"#f0f921\\\"]],\\\"diverging\\\":[[0,\\\"#8e0152\\\"],[0.1,\\\"#c51b7d\\\"],[0.2,\\\"#de77ae\\\"],[0.3,\\\"#f1b6da\\\"],[0.4,\\\"#fde0ef\\\"],[0.5,\\\"#f7f7f7\\\"],[0.6,\\\"#e6f5d0\\\"],[0.7,\\\"#b8e186\\\"],[0.8,\\\"#7fbc41\\\"],[0.9,\\\"#4d9221\\\"],[1,\\\"#276419\\\"]],\\\"sequentialminus\\\":[[0.0,\\\"#0d0887\\\"],[0.1111111111111111,\\\"#46039f\\\"],[0.2222222222222222,\\\"#7201a8\\\"],[0.3333333333333333,\\\"#9c179e\\\"],[0.4444444444444444,\\\"#bd3786\\\"],[0.5555555555555556,\\\"#d8576b\\\"],[0.6666666666666666,\\\"#ed7953\\\"],[0.7777777777777778,\\\"#fb9f3a\\\"],[0.8888888888888888,\\\"#fdca26\\\"],[1.0,\\\"#f0f921\\\"]]},\\\"yaxis\\\":{\\\"gridcolor\\\":\\\"white\\\",\\\"zerolinewidth\\\":2,\\\"title\\\":{\\\"standoff\\\":15},\\\"ticks\\\":\\\"\\\",\\\"zerolinecolor\\\":\\\"white\\\",\\\"automargin\\\":true,\\\"linecolor\\\":\\\"white\\\"},\\\"shapedefaults\\\":{\\\"line\\\":{\\\"color\\\":\\\"#2a3f5f\\\"}},\\\"hoverlabel\\\":{\\\"align\\\":\\\"left\\\"},\\\"mapbox\\\":{\\\"style\\\":\\\"light\\\"},\\\"polar\\\":{\\\"angularaxis\\\":{\\\"gridcolor\\\":\\\"white\\\",\\\"ticks\\\":\\\"\\\",\\\"linecolor\\\":\\\"white\\\"},\\\"bgcolor\\\":\\\"#E5ECF6\\\",\\\"radialaxis\\\":{\\\"gridcolor\\\":\\\"white\\\",\\\"ticks\\\":\\\"\\\",\\\"linecolor\\\":\\\"white\\\"}},\\\"autotypenumbers\\\":\\\"strict\\\",\\\"font\\\":{\\\"color\\\":\\\"#2a3f5f\\\"},\\\"ternary\\\":{\\\"baxis\\\":{\\\"gridcolor\\\":\\\"white\\\",\\\"ticks\\\":\\\"\\\",\\\"linecolor\\\":\\\"white\\\"},\\\"bgcolor\\\":\\\"#E5ECF6\\\",\\\"caxis\\\":{\\\"gridcolor\\\":\\\"white\\\",\\\"ticks\\\":\\\"\\\",\\\"linecolor\\\":\\\"white\\\"},\\\"aaxis\\\":{\\\"gridcolor\\\":\\\"white\\\",\\\"ticks\\\":\\\"\\\",\\\"linecolor\\\":\\\"white\\\"}},\\\"annotationdefaults\\\":{\\\"arrowhead\\\":0,\\\"arrowwidth\\\":1,\\\"arrowcolor\\\":\\\"#2a3f5f\\\"},\\\"plot_bgcolor\\\":\\\"#E5ECF6\\\",\\\"title\\\":{\\\"x\\\":0.05},\\\"scene\\\":{\\\"xaxis\\\":{\\\"gridcolor\\\":\\\"white\\\",\\\"gridwidth\\\":2,\\\"backgroundcolor\\\":\\\"#E5ECF6\\\",\\\"ticks\\\":\\\"\\\",\\\"showbackground\\\":true,\\\"zerolinecolor\\\":\\\"white\\\",\\\"linecolor\\\":\\\"white\\\"},\\\"zaxis\\\":{\\\"gridcolor\\\":\\\"white\\\",\\\"gridwidth\\\":2,\\\"backgroundcolor\\\":\\\"#E5ECF6\\\",\\\"ticks\\\":\\\"\\\",\\\"showbackground\\\":true,\\\"zerolinecolor\\\":\\\"white\\\",\\\"linecolor\\\":\\\"white\\\"},\\\"yaxis\\\":{\\\"gridcolor\\\":\\\"white\\\",\\\"gridwidth\\\":2,\\\"backgroundcolor\\\":\\\"#E5ECF6\\\",\\\"ticks\\\":\\\"\\\",\\\"showbackground\\\":true,\\\"zerolinecolor\\\":\\\"white\\\",\\\"linecolor\\\":\\\"white\\\"}},\\\"colorway\\\":[\\\"#636efa\\\",\\\"#EF553B\\\",\\\"#00cc96\\\",\\\"#ab63fa\\\",\\\"#FFA15A\\\",\\\"#19d3f3\\\",\\\"#FF6692\\\",\\\"#B6E880\\\",\\\"#FF97FF\\\",\\\"#FECB52\\\"]},\\\"data\\\":{\\\"barpolar\\\":[{\\\"type\\\":\\\"barpolar\\\",\\\"marker\\\":{\\\"line\\\":{\\\"color\\\":\\\"#E5ECF6\\\",\\\"width\\\":0.5}}}],\\\"carpet\\\":[{\\\"aaxis\\\":{\\\"gridcolor\\\":\\\"white\\\",\\\"endlinecolor\\\":\\\"#2a3f5f\\\",\\\"minorgridcolor\\\":\\\"white\\\",\\\"startlinecolor\\\":\\\"#2a3f5f\\\",\\\"linecolor\\\":\\\"white\\\"},\\\"type\\\":\\\"carpet\\\",\\\"baxis\\\":{\\\"gridcolor\\\":\\\"white\\\",\\\"endlinecolor\\\":\\\"#2a3f5f\\\",\\\"minorgridcolor\\\":\\\"white\\\",\\\"startlinecolor\\\":\\\"#2a3f5f\\\",\\\"linecolor\\\":\\\"white\\\"}}],\\\"scatterpolar\\\":[{\\\"type\\\":\\\"scatterpolar\\\",\\\"marker\\\":{\\\"colorbar\\\":{\\\"ticks\\\":\\\"\\\",\\\"outlinewidth\\\":0}}}],\\\"parcoords\\\":[{\\\"line\\\":{\\\"colorbar\\\":{\\\"ticks\\\":\\\"\\\",\\\"outlinewidth\\\":0}},\\\"type\\\":\\\"parcoords\\\"}],\\\"scatter\\\":[{\\\"type\\\":\\\"scatter\\\",\\\"marker\\\":{\\\"colorbar\\\":{\\\"ticks\\\":\\\"\\\",\\\"outlinewidth\\\":0}}}],\\\"histogram2dcontour\\\":[{\\\"colorbar\\\":{\\\"ticks\\\":\\\"\\\",\\\"outlinewidth\\\":0},\\\"type\\\":\\\"histogram2dcontour\\\",\\\"colorscale\\\":[[0.0,\\\"#0d0887\\\"],[0.1111111111111111,\\\"#46039f\\\"],[0.2222222222222222,\\\"#7201a8\\\"],[0.3333333333333333,\\\"#9c179e\\\"],[0.4444444444444444,\\\"#bd3786\\\"],[0.5555555555555556,\\\"#d8576b\\\"],[0.6666666666666666,\\\"#ed7953\\\"],[0.7777777777777778,\\\"#fb9f3a\\\"],[0.8888888888888888,\\\"#fdca26\\\"],[1.0,\\\"#f0f921\\\"]]}],\\\"contour\\\":[{\\\"colorbar\\\":{\\\"ticks\\\":\\\"\\\",\\\"outlinewidth\\\":0},\\\"type\\\":\\\"contour\\\",\\\"colorscale\\\":[[0.0,\\\"#0d0887\\\"],[0.1111111111111111,\\\"#46039f\\\"],[0.2222222222222222,\\\"#7201a8\\\"],[0.3333333333333333,\\\"#9c179e\\\"],[0.4444444444444444,\\\"#bd3786\\\"],[0.5555555555555556,\\\"#d8576b\\\"],[0.6666666666666666,\\\"#ed7953\\\"],[0.7777777777777778,\\\"#fb9f3a\\\"],[0.8888888888888888,\\\"#fdca26\\\"],[1.0,\\\"#f0f921\\\"]]}],\\\"scattercarpet\\\":[{\\\"type\\\":\\\"scattercarpet\\\",\\\"marker\\\":{\\\"colorbar\\\":{\\\"ticks\\\":\\\"\\\",\\\"outlinewidth\\\":0}}}],\\\"mesh3d\\\":[{\\\"colorbar\\\":{\\\"ticks\\\":\\\"\\\",\\\"outlinewidth\\\":0},\\\"type\\\":\\\"mesh3d\\\"}],\\\"surface\\\":[{\\\"colorbar\\\":{\\\"ticks\\\":\\\"\\\",\\\"outlinewidth\\\":0},\\\"type\\\":\\\"surface\\\",\\\"colorscale\\\":[[0.0,\\\"#0d0887\\\"],[0.1111111111111111,\\\"#46039f\\\"],[0.2222222222222222,\\\"#7201a8\\\"],[0.3333333333333333,\\\"#9c179e\\\"],[0.4444444444444444,\\\"#bd3786\\\"],[0.5555555555555556,\\\"#d8576b\\\"],[0.6666666666666666,\\\"#ed7953\\\"],[0.7777777777777778,\\\"#fb9f3a\\\"],[0.8888888888888888,\\\"#fdca26\\\"],[1.0,\\\"#f0f921\\\"]]}],\\\"scattermapbox\\\":[{\\\"type\\\":\\\"scattermapbox\\\",\\\"marker\\\":{\\\"colorbar\\\":{\\\"ticks\\\":\\\"\\\",\\\"outlinewidth\\\":0}}}],\\\"scattergeo\\\":[{\\\"type\\\":\\\"scattergeo\\\",\\\"marker\\\":{\\\"colorbar\\\":{\\\"ticks\\\":\\\"\\\",\\\"outlinewidth\\\":0}}}],\\\"histogram\\\":[{\\\"type\\\":\\\"histogram\\\",\\\"marker\\\":{\\\"colorbar\\\":{\\\"ticks\\\":\\\"\\\",\\\"outlinewidth\\\":0}}}],\\\"pie\\\":[{\\\"type\\\":\\\"pie\\\",\\\"automargin\\\":true}],\\\"choropleth\\\":[{\\\"colorbar\\\":{\\\"ticks\\\":\\\"\\\",\\\"outlinewidth\\\":0},\\\"type\\\":\\\"choropleth\\\"}],\\\"heatmapgl\\\":[{\\\"colorbar\\\":{\\\"ticks\\\":\\\"\\\",\\\"outlinewidth\\\":0},\\\"type\\\":\\\"heatmapgl\\\",\\\"colorscale\\\":[[0.0,\\\"#0d0887\\\"],[0.1111111111111111,\\\"#46039f\\\"],[0.2222222222222222,\\\"#7201a8\\\"],[0.3333333333333333,\\\"#9c179e\\\"],[0.4444444444444444,\\\"#bd3786\\\"],[0.5555555555555556,\\\"#d8576b\\\"],[0.6666666666666666,\\\"#ed7953\\\"],[0.7777777777777778,\\\"#fb9f3a\\\"],[0.8888888888888888,\\\"#fdca26\\\"],[1.0,\\\"#f0f921\\\"]]}],\\\"bar\\\":[{\\\"type\\\":\\\"bar\\\",\\\"error_y\\\":{\\\"color\\\":\\\"#2a3f5f\\\"},\\\"error_x\\\":{\\\"color\\\":\\\"#2a3f5f\\\"},\\\"marker\\\":{\\\"line\\\":{\\\"color\\\":\\\"#E5ECF6\\\",\\\"width\\\":0.5}}}],\\\"heatmap\\\":[{\\\"colorbar\\\":{\\\"ticks\\\":\\\"\\\",\\\"outlinewidth\\\":0},\\\"type\\\":\\\"heatmap\\\",\\\"colorscale\\\":[[0.0,\\\"#0d0887\\\"],[0.1111111111111111,\\\"#46039f\\\"],[0.2222222222222222,\\\"#7201a8\\\"],[0.3333333333333333,\\\"#9c179e\\\"],[0.4444444444444444,\\\"#bd3786\\\"],[0.5555555555555556,\\\"#d8576b\\\"],[0.6666666666666666,\\\"#ed7953\\\"],[0.7777777777777778,\\\"#fb9f3a\\\"],[0.8888888888888888,\\\"#fdca26\\\"],[1.0,\\\"#f0f921\\\"]]}],\\\"contourcarpet\\\":[{\\\"colorbar\\\":{\\\"ticks\\\":\\\"\\\",\\\"outlinewidth\\\":0},\\\"type\\\":\\\"contourcarpet\\\"}],\\\"table\\\":[{\\\"type\\\":\\\"table\\\",\\\"header\\\":{\\\"line\\\":{\\\"color\\\":\\\"white\\\"},\\\"fill\\\":{\\\"color\\\":\\\"#C8D4E3\\\"}},\\\"cells\\\":{\\\"line\\\":{\\\"color\\\":\\\"white\\\"},\\\"fill\\\":{\\\"color\\\":\\\"#EBF0F8\\\"}}}],\\\"scatter3d\\\":[{\\\"line\\\":{\\\"colorbar\\\":{\\\"ticks\\\":\\\"\\\",\\\"outlinewidth\\\":0}},\\\"type\\\":\\\"scatter3d\\\",\\\"marker\\\":{\\\"colorbar\\\":{\\\"ticks\\\":\\\"\\\",\\\"outlinewidth\\\":0}}}],\\\"scattergl\\\":[{\\\"type\\\":\\\"scattergl\\\",\\\"marker\\\":{\\\"colorbar\\\":{\\\"ticks\\\":\\\"\\\",\\\"outlinewidth\\\":0}}}],\\\"histogram2d\\\":[{\\\"colorbar\\\":{\\\"ticks\\\":\\\"\\\",\\\"outlinewidth\\\":0},\\\"type\\\":\\\"histogram2d\\\",\\\"colorscale\\\":[[0.0,\\\"#0d0887\\\"],[0.1111111111111111,\\\"#46039f\\\"],[0.2222222222222222,\\\"#7201a8\\\"],[0.3333333333333333,\\\"#9c179e\\\"],[0.4444444444444444,\\\"#bd3786\\\"],[0.5555555555555556,\\\"#d8576b\\\"],[0.6666666666666666,\\\"#ed7953\\\"],[0.7777777777777778,\\\"#fb9f3a\\\"],[0.8888888888888888,\\\"#fdca26\\\"],[1.0,\\\"#f0f921\\\"]]}],\\\"scatterternary\\\":[{\\\"type\\\":\\\"scatterternary\\\",\\\"marker\\\":{\\\"colorbar\\\":{\\\"ticks\\\":\\\"\\\",\\\"outlinewidth\\\":0}}}],\\\"scatterpolargl\\\":[{\\\"type\\\":\\\"scatterpolargl\\\",\\\"marker\\\":{\\\"colorbar\\\":{\\\"ticks\\\":\\\"\\\",\\\"outlinewidth\\\":0}}}]}},\\\"legend\\\":{\\\"tracegroupgap\\\":0,\\\"title\\\":{\\\"text\\\":\\\"Column1\\\"}},\\\"margin\\\":{\\\"l\\\":50,\\\"b\\\":50,\\\"r\\\":50,\\\"t\\\":60},\\\"dragmode\\\":\\\"select\\\"},{\\\"showLink\\\":false,\\\"editable\\\":false,\\\"responsive\\\":true,\\\"staticPlot\\\":false,\\\"scrollZoom\\\":true}); gd.on(\\\"plotly_hover\\\",(function (data){var filtered_data=WebIO.PlotlyCommands.filterEventData(gd,data,\\\"hover\\\"); return !(filtered_data.isnil) ? (WebIO.setval({\\\"name\\\":\\\"hover\\\",\\\"scope\\\":\\\"5551154393802768593\\\",\\\"id\\\":\\\"14396923992649016507\\\",\\\"type\\\":\\\"observable\\\"},filtered_data.out)) : undefined})); gd.on(\\\"plotly_unhover\\\",(function (){return WebIO.setval({\\\"name\\\":\\\"hover\\\",\\\"scope\\\":\\\"5551154393802768593\\\",\\\"id\\\":\\\"14396923992649016507\\\",\\\"type\\\":\\\"observable\\\"},{})})); gd.on(\\\"plotly_selected\\\",(function (data){var filtered_data=WebIO.PlotlyCommands.filterEventData(gd,data,\\\"selected\\\"); return !(filtered_data.isnil) ? (WebIO.setval({\\\"name\\\":\\\"selected\\\",\\\"scope\\\":\\\"5551154393802768593\\\",\\\"id\\\":\\\"15049864633043442922\\\",\\\"type\\\":\\\"observable\\\"},filtered_data.out)) : undefined})); gd.on(\\\"plotly_deselect\\\",(function (){return WebIO.setval({\\\"name\\\":\\\"selected\\\",\\\"scope\\\":\\\"5551154393802768593\\\",\\\"id\\\":\\\"15049864633043442922\\\",\\\"type\\\":\\\"observable\\\"},{})})); gd.on(\\\"plotly_relayout\\\",(function (data){var filtered_data=WebIO.PlotlyCommands.filterEventData(gd,data,\\\"relayout\\\"); return !(filtered_data.isnil) ? (WebIO.setval({\\\"name\\\":\\\"relayout\\\",\\\"scope\\\":\\\"5551154393802768593\\\",\\\"id\\\":\\\"17880260733251247401\\\",\\\"type\\\":\\\"observable\\\"},filtered_data.out)) : undefined})); return gd.on(\\\"plotly_click\\\",(function (data){var filtered_data=WebIO.PlotlyCommands.filterEventData(gd,data,\\\"click\\\"); return !(filtered_data.isnil) ? (WebIO.setval({\\\"name\\\":\\\"click\\\",\\\"scope\\\":\\\"5551154393802768593\\\",\\\"id\\\":\\\"7239264151904398653\\\",\\\"type\\\":\\\"observable\\\"},filtered_data.out)) : undefined}))}));\\n    (WebIO.importBlock({\\\"data\\\":[{\\\"name\\\":\\\"Plotly\\\",\\\"type\\\":\\\"js\\\",\\\"url\\\":\\\"\\/assetserver\\/597d3e3981791f3da20e7b96cab90ffffca4599e-plotly.min.js\\\"},{\\\"name\\\":null,\\\"type\\\":\\\"js\\\",\\\"url\\\":\\\"\\/assetserver\\/d21cc61a8b26f5a8d90707d16621e32300c2e5ed-plotly_webio.bundle.js\\\"}],\\\"type\\\":\\\"async_block\\\"})).then((imports) => handler.apply(this, imports));\\n}\\n\"],\"observables\":{\"_toImage\":{\"sync\":true,\"id\":\"3344061374083402034\",\"value\":{}},\"hover\":{\"sync\":false,\"id\":\"14396923992649016507\",\"value\":{}},\"selected\":{\"sync\":false,\"id\":\"15049864633043442922\",\"value\":{}},\"__gd_contents\":{\"sync\":false,\"id\":\"4184807665117842254\",\"value\":{}},\"click\":{\"sync\":false,\"id\":\"7239264151904398653\",\"value\":{}},\"image\":{\"sync\":true,\"id\":\"2127551866627990019\",\"value\":\"\"},\"__get_gd_contents\":{\"sync\":true,\"id\":\"12005141553618846026\",\"value\":\"\"},\"_downloadImage\":{\"sync\":true,\"id\":\"2766084564627227825\",\"value\":{}},\"relayout\":{\"sync\":false,\"id\":\"17880260733251247401\",\"value\":{}},\"_commands\":{\"sync\":true,\"id\":\"16985265270769002278\",\"value\":[]}}},\"children\":[{\"props\":{\"id\":\"plot-71062456-2af2-4480-9868-3e94844b5c3b\"},\"nodeType\":\"DOM\",\"type\":\"node\",\"instanceArgs\":{\"namespace\":\"html\",\"tag\":\"div\"},\"children\":[]}]},\n",
       "        window,\n",
       "    );\n",
       "    })()\n",
       "    </script>\n",
       "</div>\n"
      ],
      "text/plain": [
       "data: [\n",
       "  \"splom with fields diagonal, dimensions, legendgroup, marker, name, showlegend, type, xaxis, and yaxis\",\n",
       "  \"splom with fields diagonal, dimensions, legendgroup, marker, name, showlegend, type, xaxis, and yaxis\",\n",
       "  \"splom with fields diagonal, dimensions, legendgroup, marker, name, showlegend, type, xaxis, and yaxis\",\n",
       "  \"splom with fields diagonal, dimensions, legendgroup, marker, name, showlegend, type, xaxis, and yaxis\",\n",
       "  \"splom with fields diagonal, dimensions, legendgroup, marker, name, showlegend, type, xaxis, and yaxis\",\n",
       "  \"splom with fields diagonal, dimensions, legendgroup, marker, name, showlegend, type, xaxis, and yaxis\",\n",
       "  \"splom with fields diagonal, dimensions, legendgroup, marker, name, showlegend, type, xaxis, and yaxis\",\n",
       "  \"splom with fields diagonal, dimensions, legendgroup, marker, name, showlegend, type, xaxis, and yaxis\",\n",
       "  \"splom with fields diagonal, dimensions, legendgroup, marker, name, showlegend, type, xaxis, and yaxis\",\n",
       "  \"splom with fields diagonal, dimensions, legendgroup, marker, name, showlegend, type, xaxis, and yaxis\",\n",
       "  \"splom with fields diagonal, dimensions, legendgroup, marker, name, showlegend, type, xaxis, and yaxis\",\n",
       "  \"splom with fields diagonal, dimensions, legendgroup, marker, name, showlegend, type, xaxis, and yaxis\",\n",
       "  \"splom with fields diagonal, dimensions, legendgroup, marker, name, showlegend, type, xaxis, and yaxis\",\n",
       "  \"splom with fields diagonal, dimensions, legendgroup, marker, name, showlegend, type, xaxis, and yaxis\",\n",
       "  \"splom with fields diagonal, dimensions, legendgroup, marker, name, showlegend, type, xaxis, and yaxis\",\n",
       "  \"splom with fields diagonal, dimensions, legendgroup, marker, name, showlegend, type, xaxis, and yaxis\",\n",
       "  \"splom with fields diagonal, dimensions, legendgroup, marker, name, showlegend, type, xaxis, and yaxis\",\n",
       "  \"splom with fields diagonal, dimensions, legendgroup, marker, name, showlegend, type, xaxis, and yaxis\",\n",
       "  \"splom with fields diagonal, dimensions, legendgroup, marker, name, showlegend, type, xaxis, and yaxis\",\n",
       "  \"splom with fields diagonal, dimensions, legendgroup, marker, name, showlegend, type, xaxis, and yaxis\",\n",
       "  \"splom with fields diagonal, dimensions, legendgroup, marker, name, showlegend, type, xaxis, and yaxis\",\n",
       "  \"splom with fields diagonal, dimensions, legendgroup, marker, name, showlegend, type, xaxis, and yaxis\",\n",
       "  \"splom with fields diagonal, dimensions, legendgroup, marker, name, showlegend, type, xaxis, and yaxis\",\n",
       "  \"splom with fields diagonal, dimensions, legendgroup, marker, name, showlegend, type, xaxis, and yaxis\",\n",
       "  \"splom with fields diagonal, dimensions, legendgroup, marker, name, showlegend, type, xaxis, and yaxis\",\n",
       "  \"splom with fields diagonal, dimensions, legendgroup, marker, name, showlegend, type, xaxis, and yaxis\",\n",
       "  \"splom with fields diagonal, dimensions, legendgroup, marker, name, showlegend, type, xaxis, and yaxis\",\n",
       "  \"splom with fields diagonal, dimensions, legendgroup, marker, name, showlegend, type, xaxis, and yaxis\",\n",
       "  \"splom with fields diagonal, dimensions, legendgroup, marker, name, showlegend, type, xaxis, and yaxis\",\n",
       "  \"splom with fields diagonal, dimensions, legendgroup, marker, name, showlegend, type, xaxis, and yaxis\",\n",
       "  \"splom with fields diagonal, dimensions, legendgroup, marker, name, showlegend, type, xaxis, and yaxis\",\n",
       "  \"splom with fields diagonal, dimensions, legendgroup, marker, name, showlegend, type, xaxis, and yaxis\",\n",
       "  \"splom with fields diagonal, dimensions, legendgroup, marker, name, showlegend, type, xaxis, and yaxis\",\n",
       "  \"splom with fields diagonal, dimensions, legendgroup, marker, name, showlegend, type, xaxis, and yaxis\",\n",
       "  \"splom with fields diagonal, dimensions, legendgroup, marker, name, showlegend, type, xaxis, and yaxis\",\n",
       "  \"splom with fields diagonal, dimensions, legendgroup, marker, name, showlegend, type, xaxis, and yaxis\",\n",
       "  \"splom with fields diagonal, dimensions, legendgroup, marker, name, showlegend, type, xaxis, and yaxis\",\n",
       "  \"splom with fields diagonal, dimensions, legendgroup, marker, name, showlegend, type, xaxis, and yaxis\",\n",
       "  \"splom with fields diagonal, dimensions, legendgroup, marker, name, showlegend, type, xaxis, and yaxis\",\n",
       "  \"splom with fields diagonal, dimensions, legendgroup, marker, name, showlegend, type, xaxis, and yaxis\",\n",
       "  \"splom with fields diagonal, dimensions, legendgroup, marker, name, showlegend, type, xaxis, and yaxis\",\n",
       "  \"splom with fields diagonal, dimensions, legendgroup, marker, name, showlegend, type, xaxis, and yaxis\",\n",
       "  \"splom with fields diagonal, dimensions, legendgroup, marker, name, showlegend, type, xaxis, and yaxis\",\n",
       "  \"splom with fields diagonal, dimensions, legendgroup, marker, name, showlegend, type, xaxis, and yaxis\",\n",
       "  \"splom with fields diagonal, dimensions, legendgroup, marker, name, showlegend, type, xaxis, and yaxis\",\n",
       "  \"splom with fields diagonal, dimensions, legendgroup, marker, name, showlegend, type, xaxis, and yaxis\",\n",
       "  \"splom with fields diagonal, dimensions, legendgroup, marker, name, showlegend, type, xaxis, and yaxis\",\n",
       "  \"splom with fields diagonal, dimensions, legendgroup, marker, name, showlegend, type, xaxis, and yaxis\",\n",
       "  \"splom with fields diagonal, dimensions, legendgroup, marker, name, showlegend, type, xaxis, and yaxis\",\n",
       "  \"splom with fields diagonal, dimensions, legendgroup, marker, name, showlegend, type, xaxis, and yaxis\"\n",
       "]\n",
       "\n",
       "layout: \"layout with fields dragmode, legend, margin, and template\"\n",
       "\n"
      ]
     },
     "execution_count": 50,
     "metadata": {},
     "output_type": "execute_result"
    }
   ],
   "source": [
    "#Plotting the original dataframe\n",
    "features = [:Column1,:Murder,:Assault,:UrbanPop,:Rape]\n",
    "plot(df, dimensions=features,color=:Column1,kind=\"splom\")"
   ]
  }
 ],
 "metadata": {
  "kernelspec": {
   "display_name": "Julia 1.8.1",
   "language": "julia",
   "name": "julia-1.8"
  },
  "language_info": {
   "file_extension": ".jl",
   "mimetype": "application/julia",
   "name": "julia",
   "version": "1.8.1"
  }
 },
 "nbformat": 4,
 "nbformat_minor": 5
}
