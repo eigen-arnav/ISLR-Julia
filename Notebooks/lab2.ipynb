{
 "cells": [
  {
   "cell_type": "code",
   "execution_count": 86,
   "metadata": {},
   "outputs": [],
   "source": [
    "using Random \n",
    "using Clustering\n",
    "using Plots"
   ]
  },
  {
   "cell_type": "code",
   "execution_count": 110,
   "metadata": {},
   "outputs": [
    {
     "data": {
      "text/plain": [
       "Float16(-2.83)"
      ]
     },
     "execution_count": 110,
     "metadata": {},
     "output_type": "execute_result"
    }
   ],
   "source": [
    "Random.seed!(2)\n",
    "X = randn(Float16, (2,50))\n",
    "X[1, :25] = X[1, :25] + 3\n",
    "X[2, :25] = X[2, :25] - 4\n"
   ]
  },
  {
   "cell_type": "code",
   "execution_count": 88,
   "metadata": {},
   "outputs": [
    {
     "data": {
      "text/plain": [
       "KmeansResult{Matrix{Float16}, Float16, Int64}(Float16[0.9194 -0.6167; -0.2554 0.641], [2, 2, 2, 2, 1, 2, 1, 1, 1, 2  …  1, 1, 1, 2, 1, 1, 1, 1, 1, 2], Float16[1.57, 0.1934, 0.1953, 1.572, 1.384, 3.533, 0.4844, 0.0293, 2.88, 2.605  …  0.615, 0.6133, 0.7793, 0.3877, 2.912, 2.164, 0.702, 0.1641, 1.814, 0.9053], [28, 22], [28, 22], Float16(73.1), 4, true)"
      ]
     },
     "execution_count": 88,
     "metadata": {},
     "output_type": "execute_result"
    }
   ],
   "source": [
    "seed = initseeds(:kmpp, X, 20)\n",
    "km1 = kmeans(X, 2) "
   ]
  },
  {
   "cell_type": "code",
   "execution_count": 89,
   "metadata": {},
   "outputs": [
    {
     "name": "stdout",
     "output_type": "stream",
     "text": [
      "Labels are: \n",
      " \n",
      "[2, 2, 2, 2, 1, 2, 1, 1, 1, 2, 2, 2, 2, 1, 1, 2, 1, 1, 1, 1, 2, 2, 1, 2, 1, 1, 2, 2, 1, 1, 1, 1, 2, 2, 1, 2, 1, 1, 2, 2, 1, 1, 1, 2, 1, 1, 1, 1, 1, 2]"
     ]
    }
   ],
   "source": [
    "print(\"Labels are: \\n \\n\")\n",
    "print(assignments(km1))"
   ]
  },
  {
   "cell_type": "code",
   "execution_count": 90,
   "metadata": {},
   "outputs": [
    {
     "data": {
      "image/svg+xml": "<?xml version=\"1.0\" encoding=\"utf-8\"?>\n<svg xmlns=\"http://www.w3.org/2000/svg\" xmlns:xlink=\"http://www.w3.org/1999/xlink\" width=\"600\" height=\"400\" viewBox=\"0 0 2400 1600\">\n<defs>\n  <clipPath id=\"clip680\">\n    <rect x=\"0\" y=\"0\" width=\"2400\" height=\"1600\"/>\n  </clipPath>\n</defs>\n<path clip-path=\"url(#clip680)\" d=\"\nM0 1600 L2400 1600 L2400 0 L0 0  Z\n  \" fill=\"#ffffff\" fill-rule=\"evenodd\" fill-opacity=\"1\"/>\n<defs>\n  <clipPath id=\"clip681\">\n    <rect x=\"480\" y=\"0\" width=\"1681\" height=\"1600\"/>\n  </clipPath>\n</defs>\n<path clip-path=\"url(#clip680)\" d=\"\nM147.478 1486.45 L2352.76 1486.45 L2352.76 123.472 L147.478 123.472  Z\n  \" fill=\"#ffffff\" fill-rule=\"evenodd\" fill-opacity=\"1\"/>\n<defs>\n  <clipPath id=\"clip682\">\n    <rect x=\"147\" y=\"123\" width=\"2206\" height=\"1364\"/>\n  </clipPath>\n</defs>\n<polyline clip-path=\"url(#clip682)\" style=\"stroke:#000000; stroke-linecap:butt; stroke-linejoin:round; stroke-width:2; stroke-opacity:0.1; fill:none\" points=\"\n  433.099,1486.45 433.099,123.472 \n  \"/>\n<polyline clip-path=\"url(#clip682)\" style=\"stroke:#000000; stroke-linecap:butt; stroke-linejoin:round; stroke-width:2; stroke-opacity:0.1; fill:none\" points=\"\n  827.177,1486.45 827.177,123.472 \n  \"/>\n<polyline clip-path=\"url(#clip682)\" style=\"stroke:#000000; stroke-linecap:butt; stroke-linejoin:round; stroke-width:2; stroke-opacity:0.1; fill:none\" points=\"\n  1221.25,1486.45 1221.25,123.472 \n  \"/>\n<polyline clip-path=\"url(#clip682)\" style=\"stroke:#000000; stroke-linecap:butt; stroke-linejoin:round; stroke-width:2; stroke-opacity:0.1; fill:none\" points=\"\n  1615.33,1486.45 1615.33,123.472 \n  \"/>\n<polyline clip-path=\"url(#clip682)\" style=\"stroke:#000000; stroke-linecap:butt; stroke-linejoin:round; stroke-width:2; stroke-opacity:0.1; fill:none\" points=\"\n  2009.41,1486.45 2009.41,123.472 \n  \"/>\n<polyline clip-path=\"url(#clip680)\" style=\"stroke:#000000; stroke-linecap:butt; stroke-linejoin:round; stroke-width:4; stroke-opacity:1; fill:none\" points=\"\n  147.478,1486.45 2352.76,1486.45 \n  \"/>\n<polyline clip-path=\"url(#clip680)\" style=\"stroke:#000000; stroke-linecap:butt; stroke-linejoin:round; stroke-width:4; stroke-opacity:1; fill:none\" points=\"\n  433.099,1486.45 433.099,1467.55 \n  \"/>\n<polyline clip-path=\"url(#clip680)\" style=\"stroke:#000000; stroke-linecap:butt; stroke-linejoin:round; stroke-width:4; stroke-opacity:1; fill:none\" points=\"\n  827.177,1486.45 827.177,1467.55 \n  \"/>\n<polyline clip-path=\"url(#clip680)\" style=\"stroke:#000000; stroke-linecap:butt; stroke-linejoin:round; stroke-width:4; stroke-opacity:1; fill:none\" points=\"\n  1221.25,1486.45 1221.25,1467.55 \n  \"/>\n<polyline clip-path=\"url(#clip680)\" style=\"stroke:#000000; stroke-linecap:butt; stroke-linejoin:round; stroke-width:4; stroke-opacity:1; fill:none\" points=\"\n  1615.33,1486.45 1615.33,1467.55 \n  \"/>\n<polyline clip-path=\"url(#clip680)\" style=\"stroke:#000000; stroke-linecap:butt; stroke-linejoin:round; stroke-width:4; stroke-opacity:1; fill:none\" points=\"\n  2009.41,1486.45 2009.41,1467.55 \n  \"/>\n<path clip-path=\"url(#clip680)\" d=\"M403.042 1532.02 L432.717 1532.02 L432.717 1535.95 L403.042 1535.95 L403.042 1532.02 Z\" fill=\"#000000\" fill-rule=\"evenodd\" fill-opacity=\"1\" /><path clip-path=\"url(#clip680)\" d=\"M446.838 1544.91 L463.157 1544.91 L463.157 1548.85 L441.213 1548.85 L441.213 1544.91 Q443.875 1542.16 448.458 1537.53 Q453.064 1532.88 454.245 1531.53 Q456.49 1529.01 457.37 1527.27 Q458.273 1525.51 458.273 1523.82 Q458.273 1521.07 456.328 1519.33 Q454.407 1517.6 451.305 1517.6 Q449.106 1517.6 446.652 1518.36 Q444.222 1519.13 441.444 1520.68 L441.444 1515.95 Q444.268 1514.82 446.722 1514.24 Q449.176 1513.66 451.213 1513.66 Q456.583 1513.66 459.777 1516.35 Q462.972 1519.03 462.972 1523.52 Q462.972 1525.65 462.162 1527.57 Q461.375 1529.47 459.268 1532.07 Q458.689 1532.74 455.588 1535.95 Q452.486 1539.15 446.838 1544.91 Z\" fill=\"#000000\" fill-rule=\"evenodd\" fill-opacity=\"1\" /><path clip-path=\"url(#clip680)\" d=\"M796.934 1532.02 L826.609 1532.02 L826.609 1535.95 L796.934 1535.95 L796.934 1532.02 Z\" fill=\"#000000\" fill-rule=\"evenodd\" fill-opacity=\"1\" /><path clip-path=\"url(#clip680)\" d=\"M837.512 1544.91 L845.151 1544.91 L845.151 1518.55 L836.841 1520.21 L836.841 1515.95 L845.105 1514.29 L849.781 1514.29 L849.781 1544.91 L857.419 1544.91 L857.419 1548.85 L837.512 1548.85 L837.512 1544.91 Z\" fill=\"#000000\" fill-rule=\"evenodd\" fill-opacity=\"1\" /><path clip-path=\"url(#clip680)\" d=\"M1221.25 1517.37 Q1217.64 1517.37 1215.81 1520.93 Q1214.01 1524.47 1214.01 1531.6 Q1214.01 1538.71 1215.81 1542.27 Q1217.64 1545.82 1221.25 1545.82 Q1224.89 1545.82 1226.69 1542.27 Q1228.52 1538.71 1228.52 1531.6 Q1228.52 1524.47 1226.69 1520.93 Q1224.89 1517.37 1221.25 1517.37 M1221.25 1513.66 Q1227.06 1513.66 1230.12 1518.27 Q1233.2 1522.85 1233.2 1531.6 Q1233.2 1540.33 1230.12 1544.94 Q1227.06 1549.52 1221.25 1549.52 Q1215.44 1549.52 1212.36 1544.94 Q1209.31 1540.33 1209.31 1531.6 Q1209.31 1522.85 1212.36 1518.27 Q1215.44 1513.66 1221.25 1513.66 Z\" fill=\"#000000\" fill-rule=\"evenodd\" fill-opacity=\"1\" /><path clip-path=\"url(#clip680)\" d=\"M1605.71 1544.91 L1613.35 1544.91 L1613.35 1518.55 L1605.04 1520.21 L1605.04 1515.95 L1613.31 1514.29 L1617.98 1514.29 L1617.98 1544.91 L1625.62 1544.91 L1625.62 1548.85 L1605.71 1548.85 L1605.71 1544.91 Z\" fill=\"#000000\" fill-rule=\"evenodd\" fill-opacity=\"1\" /><path clip-path=\"url(#clip680)\" d=\"M2004.06 1544.91 L2020.38 1544.91 L2020.38 1548.85 L1998.44 1548.85 L1998.44 1544.91 Q2001.1 1542.16 2005.68 1537.53 Q2010.29 1532.88 2011.47 1531.53 Q2013.71 1529.01 2014.59 1527.27 Q2015.5 1525.51 2015.5 1523.82 Q2015.5 1521.07 2013.55 1519.33 Q2011.63 1517.6 2008.53 1517.6 Q2006.33 1517.6 2003.88 1518.36 Q2001.45 1519.13 1998.67 1520.68 L1998.67 1515.95 Q2001.49 1514.82 2003.95 1514.24 Q2006.4 1513.66 2008.44 1513.66 Q2013.81 1513.66 2017 1516.35 Q2020.2 1519.03 2020.2 1523.52 Q2020.2 1525.65 2019.39 1527.57 Q2018.6 1529.47 2016.49 1532.07 Q2015.91 1532.74 2012.81 1535.95 Q2009.71 1539.15 2004.06 1544.91 Z\" fill=\"#000000\" fill-rule=\"evenodd\" fill-opacity=\"1\" /><polyline clip-path=\"url(#clip682)\" style=\"stroke:#000000; stroke-linecap:butt; stroke-linejoin:round; stroke-width:2; stroke-opacity:0.1; fill:none\" points=\"\n  147.478,1236.63 2352.76,1236.63 \n  \"/>\n<polyline clip-path=\"url(#clip682)\" style=\"stroke:#000000; stroke-linecap:butt; stroke-linejoin:round; stroke-width:2; stroke-opacity:0.1; fill:none\" points=\"\n  147.478,982.153 2352.76,982.153 \n  \"/>\n<polyline clip-path=\"url(#clip682)\" style=\"stroke:#000000; stroke-linecap:butt; stroke-linejoin:round; stroke-width:2; stroke-opacity:0.1; fill:none\" points=\"\n  147.478,727.671 2352.76,727.671 \n  \"/>\n<polyline clip-path=\"url(#clip682)\" style=\"stroke:#000000; stroke-linecap:butt; stroke-linejoin:round; stroke-width:2; stroke-opacity:0.1; fill:none\" points=\"\n  147.478,473.19 2352.76,473.19 \n  \"/>\n<polyline clip-path=\"url(#clip682)\" style=\"stroke:#000000; stroke-linecap:butt; stroke-linejoin:round; stroke-width:2; stroke-opacity:0.1; fill:none\" points=\"\n  147.478,218.709 2352.76,218.709 \n  \"/>\n<polyline clip-path=\"url(#clip680)\" style=\"stroke:#000000; stroke-linecap:butt; stroke-linejoin:round; stroke-width:4; stroke-opacity:1; fill:none\" points=\"\n  147.478,1486.45 147.478,123.472 \n  \"/>\n<polyline clip-path=\"url(#clip680)\" style=\"stroke:#000000; stroke-linecap:butt; stroke-linejoin:round; stroke-width:4; stroke-opacity:1; fill:none\" points=\"\n  147.478,1236.63 166.376,1236.63 \n  \"/>\n<polyline clip-path=\"url(#clip680)\" style=\"stroke:#000000; stroke-linecap:butt; stroke-linejoin:round; stroke-width:4; stroke-opacity:1; fill:none\" points=\"\n  147.478,982.153 166.376,982.153 \n  \"/>\n<polyline clip-path=\"url(#clip680)\" style=\"stroke:#000000; stroke-linecap:butt; stroke-linejoin:round; stroke-width:4; stroke-opacity:1; fill:none\" points=\"\n  147.478,727.671 166.376,727.671 \n  \"/>\n<polyline clip-path=\"url(#clip680)\" style=\"stroke:#000000; stroke-linecap:butt; stroke-linejoin:round; stroke-width:4; stroke-opacity:1; fill:none\" points=\"\n  147.478,473.19 166.376,473.19 \n  \"/>\n<polyline clip-path=\"url(#clip680)\" style=\"stroke:#000000; stroke-linecap:butt; stroke-linejoin:round; stroke-width:4; stroke-opacity:1; fill:none\" points=\"\n  147.478,218.709 166.376,218.709 \n  \"/>\n<path clip-path=\"url(#clip680)\" d=\"M51.3625 1237.09 L81.0383 1237.09 L81.0383 1241.02 L51.3625 1241.02 L51.3625 1237.09 Z\" fill=\"#000000\" fill-rule=\"evenodd\" fill-opacity=\"1\" /><path clip-path=\"url(#clip680)\" d=\"M95.1586 1249.98 L111.478 1249.98 L111.478 1253.91 L89.5336 1253.91 L89.5336 1249.98 Q92.1956 1247.22 96.7789 1242.59 Q101.385 1237.94 102.566 1236.6 Q104.811 1234.08 105.691 1232.34 Q106.594 1230.58 106.594 1228.89 Q106.594 1226.14 104.649 1224.4 Q102.728 1222.66 99.6261 1222.66 Q97.4271 1222.66 94.9734 1223.43 Q92.5428 1224.19 89.7651 1225.74 L89.7651 1221.02 Q92.5891 1219.89 95.0428 1219.31 Q97.4965 1218.73 99.5335 1218.73 Q104.904 1218.73 108.098 1221.41 Q111.293 1224.1 111.293 1228.59 Q111.293 1230.72 110.483 1232.64 Q109.696 1234.54 107.589 1237.13 Q107.01 1237.8 103.909 1241.02 Q100.807 1244.21 95.1586 1249.98 Z\" fill=\"#000000\" fill-rule=\"evenodd\" fill-opacity=\"1\" /><path clip-path=\"url(#clip680)\" d=\"M50.9921 982.604 L80.6679 982.604 L80.6679 986.539 L50.9921 986.539 L50.9921 982.604 Z\" fill=\"#000000\" fill-rule=\"evenodd\" fill-opacity=\"1\" /><path clip-path=\"url(#clip680)\" d=\"M91.5706 995.497 L99.2095 995.497 L99.2095 969.132 L90.8993 970.798 L90.8993 966.539 L99.1632 964.873 L103.839 964.873 L103.839 995.497 L111.478 995.497 L111.478 999.433 L91.5706 999.433 L91.5706 995.497 Z\" fill=\"#000000\" fill-rule=\"evenodd\" fill-opacity=\"1\" /><path clip-path=\"url(#clip680)\" d=\"M99.5335 713.47 Q95.9224 713.47 94.0937 717.035 Q92.2882 720.576 92.2882 727.706 Q92.2882 734.812 94.0937 738.377 Q95.9224 741.919 99.5335 741.919 Q103.168 741.919 104.973 738.377 Q106.802 734.812 106.802 727.706 Q106.802 720.576 104.973 717.035 Q103.168 713.47 99.5335 713.47 M99.5335 709.766 Q105.344 709.766 108.399 714.373 Q111.478 718.956 111.478 727.706 Q111.478 736.433 108.399 741.039 Q105.344 745.623 99.5335 745.623 Q93.7234 745.623 90.6447 741.039 Q87.5892 736.433 87.5892 727.706 Q87.5892 718.956 90.6447 714.373 Q93.7234 709.766 99.5335 709.766 Z\" fill=\"#000000\" fill-rule=\"evenodd\" fill-opacity=\"1\" /><path clip-path=\"url(#clip680)\" d=\"M91.5706 486.535 L99.2095 486.535 L99.2095 460.169 L90.8993 461.836 L90.8993 457.577 L99.1632 455.91 L103.839 455.91 L103.839 486.535 L111.478 486.535 L111.478 490.47 L91.5706 490.47 L91.5706 486.535 Z\" fill=\"#000000\" fill-rule=\"evenodd\" fill-opacity=\"1\" /><path clip-path=\"url(#clip680)\" d=\"M95.1586 232.054 L111.478 232.054 L111.478 235.989 L89.5336 235.989 L89.5336 232.054 Q92.1956 229.299 96.7789 224.669 Q101.385 220.017 102.566 218.674 Q104.811 216.151 105.691 214.415 Q106.594 212.656 106.594 210.966 Q106.594 208.211 104.649 206.475 Q102.728 204.739 99.6261 204.739 Q97.4271 204.739 94.9734 205.503 Q92.5428 206.267 89.7651 207.818 L89.7651 203.095 Q92.5891 201.961 95.0428 201.382 Q97.4965 200.804 99.5335 200.804 Q104.904 200.804 108.098 203.489 Q111.293 206.174 111.293 210.665 Q111.293 212.794 110.483 214.716 Q109.696 216.614 107.589 219.206 Q107.01 219.878 103.909 223.095 Q100.807 226.29 95.1586 232.054 Z\" fill=\"#000000\" fill-rule=\"evenodd\" fill-opacity=\"1\" /><path clip-path=\"url(#clip680)\" d=\"M883.145 12.096 L891.328 12.096 L891.328 37.6572 L918.469 12.096 L929.002 12.096 L898.985 40.2903 L931.149 72.576 L920.373 72.576 L891.328 43.45 L891.328 72.576 L883.145 72.576 L883.145 12.096 Z\" fill=\"#000000\" fill-rule=\"evenodd\" fill-opacity=\"1\" /><path clip-path=\"url(#clip680)\" d=\"M924.748 46.5287 L946.583 46.5287 L946.583 53.1722 L924.748 53.1722 L924.748 46.5287 Z\" fill=\"#000000\" fill-rule=\"evenodd\" fill-opacity=\"1\" /><path clip-path=\"url(#clip680)\" d=\"M993.776 35.9153 Q996.571 30.8922 1000.46 28.5022 Q1004.35 26.1121 1009.61 26.1121 Q1016.7 26.1121 1020.55 31.0947 Q1024.4 36.0368 1024.4 45.1919 L1024.4 72.576 L1016.91 72.576 L1016.91 45.4349 Q1016.91 38.913 1014.6 35.7533 Q1012.29 32.5936 1007.55 32.5936 Q1001.76 32.5936 998.394 36.4419 Q995.031 40.2903 995.031 46.9338 L995.031 72.576 L987.537 72.576 L987.537 45.4349 Q987.537 38.8725 985.228 35.7533 Q982.919 32.5936 978.099 32.5936 Q972.387 32.5936 969.025 36.4824 Q965.662 40.3308 965.662 46.9338 L965.662 72.576 L958.168 72.576 L958.168 27.2059 L965.662 27.2059 L965.662 34.2544 Q968.214 30.082 971.779 28.0971 Q975.344 26.1121 980.246 26.1121 Q985.188 26.1121 988.631 28.6237 Q992.115 31.1352 993.776 35.9153 Z\" fill=\"#000000\" fill-rule=\"evenodd\" fill-opacity=\"1\" /><path clip-path=\"url(#clip680)\" d=\"M1078.08 48.0275 L1078.08 51.6733 L1043.8 51.6733 Q1044.29 59.3701 1048.42 63.421 Q1052.59 67.4314 1060.01 67.4314 Q1064.3 67.4314 1068.31 66.3781 Q1072.36 65.3249 1076.33 63.2184 L1076.33 70.267 Q1072.32 71.9684 1068.11 72.8596 Q1063.9 73.7508 1059.56 73.7508 Q1048.71 73.7508 1042.35 67.4314 Q1036.03 61.1119 1036.03 50.3365 Q1036.03 39.1965 1042.02 32.6746 Q1048.06 26.1121 1058.27 26.1121 Q1067.42 26.1121 1072.73 32.0264 Q1078.08 37.9003 1078.08 48.0275 M1070.62 45.84 Q1070.54 39.7232 1067.18 36.0774 Q1063.86 32.4315 1058.35 32.4315 Q1052.11 32.4315 1048.34 35.9558 Q1044.61 39.4801 1044.05 45.8805 L1070.62 45.84 Z\" fill=\"#000000\" fill-rule=\"evenodd\" fill-opacity=\"1\" /><path clip-path=\"url(#clip680)\" d=\"M1110.93 49.7694 Q1101.89 49.7694 1098.41 51.8354 Q1094.93 53.9013 1094.93 58.8839 Q1094.93 62.8538 1097.52 65.2034 Q1100.15 67.5124 1104.65 67.5124 Q1110.85 67.5124 1114.57 63.1374 Q1118.34 58.7219 1118.34 51.4303 L1118.34 49.7694 L1110.93 49.7694 M1125.79 46.6907 L1125.79 72.576 L1118.34 72.576 L1118.34 65.6895 Q1115.79 69.8214 1111.98 71.8063 Q1108.17 73.7508 1102.66 73.7508 Q1095.7 73.7508 1091.56 69.8619 Q1087.47 65.9325 1087.47 59.3701 Q1087.47 51.7138 1092.58 47.825 Q1097.72 43.9361 1107.89 43.9361 L1118.34 43.9361 L1118.34 43.2069 Q1118.34 38.0623 1114.94 35.2672 Q1111.58 32.4315 1105.46 32.4315 Q1101.57 32.4315 1097.88 33.3632 Q1094.2 34.295 1090.79 36.1584 L1090.79 29.2718 Q1094.89 27.692 1098.73 26.9223 Q1102.58 26.1121 1106.23 26.1121 Q1116.07 26.1121 1120.93 31.2163 Q1125.79 36.3204 1125.79 46.6907 Z\" fill=\"#000000\" fill-rule=\"evenodd\" fill-opacity=\"1\" /><path clip-path=\"url(#clip680)\" d=\"M1178.86 45.1919 L1178.86 72.576 L1171.41 72.576 L1171.41 45.4349 Q1171.41 38.994 1168.9 35.7938 Q1166.38 32.5936 1161.36 32.5936 Q1155.33 32.5936 1151.84 36.4419 Q1148.36 40.2903 1148.36 46.9338 L1148.36 72.576 L1140.86 72.576 L1140.86 27.2059 L1148.36 27.2059 L1148.36 34.2544 Q1151.03 30.163 1154.64 28.1376 Q1158.28 26.1121 1163.02 26.1121 Q1170.84 26.1121 1174.85 30.9732 Q1178.86 35.7938 1178.86 45.1919 Z\" fill=\"#000000\" fill-rule=\"evenodd\" fill-opacity=\"1\" /><path clip-path=\"url(#clip680)\" d=\"M1222.65 28.5427 L1222.65 35.5912 Q1219.49 33.9709 1216.09 33.1607 Q1212.69 32.3505 1209.04 32.3505 Q1203.49 32.3505 1200.7 34.0519 Q1197.94 35.7533 1197.94 39.156 Q1197.94 41.7486 1199.93 43.2475 Q1201.91 44.7058 1207.91 46.0426 L1210.46 46.6097 Q1218.4 48.3111 1221.72 51.4303 Q1225.08 54.509 1225.08 60.0587 Q1225.08 66.3781 1220.06 70.0644 Q1215.08 73.7508 1206.33 73.7508 Q1202.68 73.7508 1198.71 73.0216 Q1194.78 72.3329 1190.41 70.9151 L1190.41 63.2184 Q1194.54 65.3654 1198.55 66.4591 Q1202.56 67.5124 1206.49 67.5124 Q1211.75 67.5124 1214.59 65.73 Q1217.43 63.9071 1217.43 60.6258 Q1217.43 57.5877 1215.36 55.9673 Q1213.33 54.3469 1206.41 52.8481 L1203.82 52.2405 Q1196.89 50.7821 1193.81 47.7845 Q1190.73 44.7463 1190.73 39.4801 Q1190.73 33.0797 1195.27 29.5959 Q1199.8 26.1121 1208.15 26.1121 Q1212.28 26.1121 1215.93 26.7198 Q1219.57 27.3274 1222.65 28.5427 Z\" fill=\"#000000\" fill-rule=\"evenodd\" fill-opacity=\"1\" /><path clip-path=\"url(#clip680)\" d=\"M1286.29 9.54393 L1286.29 15.7418 L1279.16 15.7418 Q1275.15 15.7418 1273.57 17.3622 Q1272.03 18.9825 1272.03 23.1955 L1272.03 27.2059 L1284.31 27.2059 L1284.31 32.9987 L1272.03 32.9987 L1272.03 72.576 L1264.54 72.576 L1264.54 32.9987 L1257.41 32.9987 L1257.41 27.2059 L1264.54 27.2059 L1264.54 24.0462 Q1264.54 16.471 1268.06 13.0277 Q1271.59 9.54393 1279.24 9.54393 L1286.29 9.54393 Z\" fill=\"#000000\" fill-rule=\"evenodd\" fill-opacity=\"1\" /><path clip-path=\"url(#clip680)\" d=\"M1310.11 32.4315 Q1304.12 32.4315 1300.63 37.1306 Q1297.15 41.7891 1297.15 49.9314 Q1297.15 58.0738 1300.59 62.7728 Q1304.07 67.4314 1310.11 67.4314 Q1316.07 67.4314 1319.55 62.7323 Q1323.03 58.0333 1323.03 49.9314 Q1323.03 41.8701 1319.55 37.1711 Q1316.07 32.4315 1310.11 32.4315 M1310.11 26.1121 Q1319.83 26.1121 1325.38 32.4315 Q1330.93 38.7509 1330.93 49.9314 Q1330.93 61.0714 1325.38 67.4314 Q1319.83 73.7508 1310.11 73.7508 Q1300.35 73.7508 1294.8 67.4314 Q1289.29 61.0714 1289.29 49.9314 Q1289.29 38.7509 1294.8 32.4315 Q1300.35 26.1121 1310.11 26.1121 Z\" fill=\"#000000\" fill-rule=\"evenodd\" fill-opacity=\"1\" /><path clip-path=\"url(#clip680)\" d=\"M1369.58 34.1734 Q1368.32 33.4443 1366.82 33.1202 Q1365.37 32.7556 1363.58 32.7556 Q1357.26 32.7556 1353.86 36.8875 Q1350.5 40.9789 1350.5 48.6757 L1350.5 72.576 L1343 72.576 L1343 27.2059 L1350.5 27.2059 L1350.5 34.2544 Q1352.85 30.1225 1356.62 28.1376 Q1360.38 26.1121 1365.77 26.1121 Q1366.54 26.1121 1367.47 26.2337 Q1368.4 26.3147 1369.54 26.5172 L1369.58 34.1734 Z\" fill=\"#000000\" fill-rule=\"evenodd\" fill-opacity=\"1\" /><path clip-path=\"url(#clip680)\" d=\"M1404.09 12.096 L1412.27 12.096 L1412.27 37.6572 L1439.42 12.096 L1449.95 12.096 L1419.93 40.2903 L1452.09 72.576 L1441.32 72.576 L1412.27 43.45 L1412.27 72.576 L1404.09 72.576 L1404.09 12.096 Z\" fill=\"#000000\" fill-rule=\"evenodd\" fill-opacity=\"1\" /><path clip-path=\"url(#clip680)\" d=\"M1485.51 34.9026 L1537.45 34.9026 L1537.45 41.7081 L1485.51 41.7081 L1485.51 34.9026 M1485.51 51.4303 L1537.45 51.4303 L1537.45 58.3168 L1485.51 58.3168 L1485.51 51.4303 Z\" fill=\"#000000\" fill-rule=\"evenodd\" fill-opacity=\"1\" /><path clip-path=\"url(#clip680)\" d=\"M1588.53 65.6895 L1617.09 65.6895 L1617.09 72.576 L1578.69 72.576 L1578.69 65.6895 Q1583.34 60.8689 1591.37 52.7671 Q1599.43 44.6248 1601.49 42.2752 Q1605.42 37.8598 1606.96 34.8216 Q1608.54 31.7429 1608.54 28.7857 Q1608.54 23.9651 1605.14 20.927 Q1601.78 17.8888 1596.35 17.8888 Q1592.5 17.8888 1588.21 19.2256 Q1583.95 20.5624 1579.09 23.2765 L1579.09 15.0127 Q1584.03 13.0277 1588.33 12.015 Q1592.62 11.0023 1596.19 11.0023 Q1605.58 11.0023 1611.17 15.7013 Q1616.76 20.4004 1616.76 28.2591 Q1616.76 31.9859 1615.35 35.3482 Q1613.97 38.6699 1610.28 43.2069 Q1609.27 44.3817 1603.84 50.0125 Q1598.41 55.6027 1588.53 65.6895 Z\" fill=\"#000000\" fill-rule=\"evenodd\" fill-opacity=\"1\" /><circle clip-path=\"url(#clip682)\" cx=\"1218.99\" cy=\"286.057\" r=\"14\" fill=\"#fcfea4\" fill-rule=\"evenodd\" fill-opacity=\"1\" stroke=\"#000000\" stroke-opacity=\"1\" stroke-width=\"3.2\"/>\n<circle clip-path=\"url(#clip682)\" cx=\"807.55\" cy=\"581.295\" r=\"14\" fill=\"#fcfea4\" fill-rule=\"evenodd\" fill-opacity=\"1\" stroke=\"#000000\" stroke-opacity=\"1\" stroke-width=\"3.2\"/>\n<circle clip-path=\"url(#clip682)\" cx=\"1076.46\" cy=\"471.45\" r=\"14\" fill=\"#fcfea4\" fill-rule=\"evenodd\" fill-opacity=\"1\" stroke=\"#000000\" stroke-opacity=\"1\" stroke-width=\"3.2\"/>\n<circle clip-path=\"url(#clip682)\" cx=\"718.651\" cy=\"836.087\" r=\"14\" fill=\"#fcfea4\" fill-rule=\"evenodd\" fill-opacity=\"1\" stroke=\"#000000\" stroke-opacity=\"1\" stroke-width=\"3.2\"/>\n<circle clip-path=\"url(#clip682)\" cx=\"1474.67\" cy=\"1083.8\" r=\"14\" fill=\"#000003\" fill-rule=\"evenodd\" fill-opacity=\"1\" stroke=\"#000000\" stroke-opacity=\"1\" stroke-width=\"3.2\"/>\n<circle clip-path=\"url(#clip682)\" cx=\"683.246\" cy=\"1003.28\" r=\"14\" fill=\"#fcfea4\" fill-rule=\"evenodd\" fill-opacity=\"1\" stroke=\"#000000\" stroke-opacity=\"1\" stroke-width=\"3.2\"/>\n<circle clip-path=\"url(#clip682)\" cx=\"1768.5\" cy=\"662.125\" r=\"14\" fill=\"#000003\" fill-rule=\"evenodd\" fill-opacity=\"1\" stroke=\"#000000\" stroke-opacity=\"1\" stroke-width=\"3.2\"/>\n<circle clip-path=\"url(#clip682)\" cx=\"1595.51\" cy=\"748.888\" r=\"14\" fill=\"#000003\" fill-rule=\"evenodd\" fill-opacity=\"1\" stroke=\"#000000\" stroke-opacity=\"1\" stroke-width=\"3.2\"/>\n<circle clip-path=\"url(#clip682)\" cx=\"1842.77\" cy=\"394.659\" r=\"14\" fill=\"#000003\" fill-rule=\"evenodd\" fill-opacity=\"1\" stroke=\"#000000\" stroke-opacity=\"1\" stroke-width=\"3.2\"/>\n<circle clip-path=\"url(#clip682)\" cx=\"852.576\" cy=\"162.047\" r=\"14\" fill=\"#fcfea4\" fill-rule=\"evenodd\" fill-opacity=\"1\" stroke=\"#000000\" stroke-opacity=\"1\" stroke-width=\"3.2\"/>\n<circle clip-path=\"url(#clip682)\" cx=\"627.059\" cy=\"971.094\" r=\"14\" fill=\"#fcfea4\" fill-rule=\"evenodd\" fill-opacity=\"1\" stroke=\"#000000\" stroke-opacity=\"1\" stroke-width=\"3.2\"/>\n<circle clip-path=\"url(#clip682)\" cx=\"635.526\" cy=\"693.966\" r=\"14\" fill=\"#fcfea4\" fill-rule=\"evenodd\" fill-opacity=\"1\" stroke=\"#000000\" stroke-opacity=\"1\" stroke-width=\"3.2\"/>\n<circle clip-path=\"url(#clip682)\" cx=\"921.463\" cy=\"777.965\" r=\"14\" fill=\"#fcfea4\" fill-rule=\"evenodd\" fill-opacity=\"1\" stroke=\"#000000\" stroke-opacity=\"1\" stroke-width=\"3.2\"/>\n<circle clip-path=\"url(#clip682)\" cx=\"1427.53\" cy=\"844.101\" r=\"14\" fill=\"#000003\" fill-rule=\"evenodd\" fill-opacity=\"1\" stroke=\"#000000\" stroke-opacity=\"1\" stroke-width=\"3.2\"/>\n<circle clip-path=\"url(#clip682)\" cx=\"1652.66\" cy=\"416.528\" r=\"14\" fill=\"#000003\" fill-rule=\"evenodd\" fill-opacity=\"1\" stroke=\"#000000\" stroke-opacity=\"1\" stroke-width=\"3.2\"/>\n<circle clip-path=\"url(#clip682)\" cx=\"1105.32\" cy=\"580.922\" r=\"14\" fill=\"#fcfea4\" fill-rule=\"evenodd\" fill-opacity=\"1\" stroke=\"#000000\" stroke-opacity=\"1\" stroke-width=\"3.2\"/>\n<circle clip-path=\"url(#clip682)\" cx=\"1364.22\" cy=\"885.604\" r=\"14\" fill=\"#000003\" fill-rule=\"evenodd\" fill-opacity=\"1\" stroke=\"#000000\" stroke-opacity=\"1\" stroke-width=\"3.2\"/>\n<circle clip-path=\"url(#clip682)\" cx=\"1249.68\" cy=\"759.606\" r=\"14\" fill=\"#000003\" fill-rule=\"evenodd\" fill-opacity=\"1\" stroke=\"#000000\" stroke-opacity=\"1\" stroke-width=\"3.2\"/>\n<circle clip-path=\"url(#clip682)\" cx=\"1636.11\" cy=\"536.562\" r=\"14\" fill=\"#000003\" fill-rule=\"evenodd\" fill-opacity=\"1\" stroke=\"#000000\" stroke-opacity=\"1\" stroke-width=\"3.2\"/>\n<circle clip-path=\"url(#clip682)\" cx=\"1056.16\" cy=\"928.1\" r=\"14\" fill=\"#000003\" fill-rule=\"evenodd\" fill-opacity=\"1\" stroke=\"#000000\" stroke-opacity=\"1\" stroke-width=\"3.2\"/>\n<circle clip-path=\"url(#clip682)\" cx=\"1490.26\" cy=\"237.596\" r=\"14\" fill=\"#fcfea4\" fill-rule=\"evenodd\" fill-opacity=\"1\" stroke=\"#000000\" stroke-opacity=\"1\" stroke-width=\"3.2\"/>\n<circle clip-path=\"url(#clip682)\" cx=\"1334.11\" cy=\"392.671\" r=\"14\" fill=\"#fcfea4\" fill-rule=\"evenodd\" fill-opacity=\"1\" stroke=\"#000000\" stroke-opacity=\"1\" stroke-width=\"3.2\"/>\n<circle clip-path=\"url(#clip682)\" cx=\"1745.41\" cy=\"702.649\" r=\"14\" fill=\"#000003\" fill-rule=\"evenodd\" fill-opacity=\"1\" stroke=\"#000000\" stroke-opacity=\"1\" stroke-width=\"3.2\"/>\n<circle clip-path=\"url(#clip682)\" cx=\"1167.86\" cy=\"641.995\" r=\"14\" fill=\"#fcfea4\" fill-rule=\"evenodd\" fill-opacity=\"1\" stroke=\"#000000\" stroke-opacity=\"1\" stroke-width=\"3.2\"/>\n<circle clip-path=\"url(#clip682)\" cx=\"2290.34\" cy=\"1447.87\" r=\"14\" fill=\"#000003\" fill-rule=\"evenodd\" fill-opacity=\"1\" stroke=\"#000000\" stroke-opacity=\"1\" stroke-width=\"3.2\"/>\n<circle clip-path=\"url(#clip682)\" cx=\"1586.47\" cy=\"774.361\" r=\"14\" fill=\"#000003\" fill-rule=\"evenodd\" fill-opacity=\"1\" stroke=\"#000000\" stroke-opacity=\"1\" stroke-width=\"3.2\"/>\n<circle clip-path=\"url(#clip682)\" cx=\"1408.58\" cy=\"466.232\" r=\"14\" fill=\"#fcfea4\" fill-rule=\"evenodd\" fill-opacity=\"1\" stroke=\"#000000\" stroke-opacity=\"1\" stroke-width=\"3.2\"/>\n<circle clip-path=\"url(#clip682)\" cx=\"209.891\" cy=\"899.645\" r=\"14\" fill=\"#fcfea4\" fill-rule=\"evenodd\" fill-opacity=\"1\" stroke=\"#000000\" stroke-opacity=\"1\" stroke-width=\"3.2\"/>\n<circle clip-path=\"url(#clip682)\" cx=\"1284.08\" cy=\"685.734\" r=\"14\" fill=\"#000003\" fill-rule=\"evenodd\" fill-opacity=\"1\" stroke=\"#000000\" stroke-opacity=\"1\" stroke-width=\"3.2\"/>\n<circle clip-path=\"url(#clip682)\" cx=\"1254.16\" cy=\"1275.4\" r=\"14\" fill=\"#000003\" fill-rule=\"evenodd\" fill-opacity=\"1\" stroke=\"#000000\" stroke-opacity=\"1\" stroke-width=\"3.2\"/>\n<circle clip-path=\"url(#clip682)\" cx=\"1431.95\" cy=\"1085.54\" r=\"14\" fill=\"#000003\" fill-rule=\"evenodd\" fill-opacity=\"1\" stroke=\"#000000\" stroke-opacity=\"1\" stroke-width=\"3.2\"/>\n<circle clip-path=\"url(#clip682)\" cx=\"1490.64\" cy=\"898.278\" r=\"14\" fill=\"#000003\" fill-rule=\"evenodd\" fill-opacity=\"1\" stroke=\"#000000\" stroke-opacity=\"1\" stroke-width=\"3.2\"/>\n<circle clip-path=\"url(#clip682)\" cx=\"882.016\" cy=\"787.533\" r=\"14\" fill=\"#fcfea4\" fill-rule=\"evenodd\" fill-opacity=\"1\" stroke=\"#000000\" stroke-opacity=\"1\" stroke-width=\"3.2\"/>\n<circle clip-path=\"url(#clip682)\" cx=\"732.121\" cy=\"407.085\" r=\"14\" fill=\"#fcfea4\" fill-rule=\"evenodd\" fill-opacity=\"1\" stroke=\"#000000\" stroke-opacity=\"1\" stroke-width=\"3.2\"/>\n<circle clip-path=\"url(#clip682)\" cx=\"1415.79\" cy=\"754.682\" r=\"14\" fill=\"#000003\" fill-rule=\"evenodd\" fill-opacity=\"1\" stroke=\"#000000\" stroke-opacity=\"1\" stroke-width=\"3.2\"/>\n<circle clip-path=\"url(#clip682)\" cx=\"596.657\" cy=\"602.978\" r=\"14\" fill=\"#fcfea4\" fill-rule=\"evenodd\" fill-opacity=\"1\" stroke=\"#000000\" stroke-opacity=\"1\" stroke-width=\"3.2\"/>\n<circle clip-path=\"url(#clip682)\" cx=\"1735.79\" cy=\"912.941\" r=\"14\" fill=\"#000003\" fill-rule=\"evenodd\" fill-opacity=\"1\" stroke=\"#000000\" stroke-opacity=\"1\" stroke-width=\"3.2\"/>\n<circle clip-path=\"url(#clip682)\" cx=\"1664.59\" cy=\"559.55\" r=\"14\" fill=\"#000003\" fill-rule=\"evenodd\" fill-opacity=\"1\" stroke=\"#000000\" stroke-opacity=\"1\" stroke-width=\"3.2\"/>\n<circle clip-path=\"url(#clip682)\" cx=\"1143.18\" cy=\"308.423\" r=\"14\" fill=\"#fcfea4\" fill-rule=\"evenodd\" fill-opacity=\"1\" stroke=\"#000000\" stroke-opacity=\"1\" stroke-width=\"3.2\"/>\n<circle clip-path=\"url(#clip682)\" cx=\"1410.5\" cy=\"374.28\" r=\"14\" fill=\"#fcfea4\" fill-rule=\"evenodd\" fill-opacity=\"1\" stroke=\"#000000\" stroke-opacity=\"1\" stroke-width=\"3.2\"/>\n<circle clip-path=\"url(#clip682)\" cx=\"1576.46\" cy=\"593.099\" r=\"14\" fill=\"#000003\" fill-rule=\"evenodd\" fill-opacity=\"1\" stroke=\"#000000\" stroke-opacity=\"1\" stroke-width=\"3.2\"/>\n<circle clip-path=\"url(#clip682)\" cx=\"1745.41\" cy=\"962.271\" r=\"14\" fill=\"#000003\" fill-rule=\"evenodd\" fill-opacity=\"1\" stroke=\"#000000\" stroke-opacity=\"1\" stroke-width=\"3.2\"/>\n<circle clip-path=\"url(#clip682)\" cx=\"1745.02\" cy=\"593.721\" r=\"14\" fill=\"#000003\" fill-rule=\"evenodd\" fill-opacity=\"1\" stroke=\"#000000\" stroke-opacity=\"1\" stroke-width=\"3.2\"/>\n<circle clip-path=\"url(#clip682)\" cx=\"1187.72\" cy=\"482.385\" r=\"14\" fill=\"#fcfea4\" fill-rule=\"evenodd\" fill-opacity=\"1\" stroke=\"#000000\" stroke-opacity=\"1\" stroke-width=\"3.2\"/>\n<circle clip-path=\"url(#clip682)\" cx=\"1803.9\" cy=\"382.233\" r=\"14\" fill=\"#000003\" fill-rule=\"evenodd\" fill-opacity=\"1\" stroke=\"#000000\" stroke-opacity=\"1\" stroke-width=\"3.2\"/>\n<circle clip-path=\"url(#clip682)\" cx=\"1773.12\" cy=\"1146.42\" r=\"14\" fill=\"#000003\" fill-rule=\"evenodd\" fill-opacity=\"1\" stroke=\"#000000\" stroke-opacity=\"1\" stroke-width=\"3.2\"/>\n<circle clip-path=\"url(#clip682)\" cx=\"1482.37\" cy=\"995.821\" r=\"14\" fill=\"#000003\" fill-rule=\"evenodd\" fill-opacity=\"1\" stroke=\"#000000\" stroke-opacity=\"1\" stroke-width=\"3.2\"/>\n<circle clip-path=\"url(#clip682)\" cx=\"1689.22\" cy=\"715.315\" r=\"14\" fill=\"#000003\" fill-rule=\"evenodd\" fill-opacity=\"1\" stroke=\"#000000\" stroke-opacity=\"1\" stroke-width=\"3.2\"/>\n<circle clip-path=\"url(#clip682)\" cx=\"1560.3\" cy=\"450.078\" r=\"14\" fill=\"#000003\" fill-rule=\"evenodd\" fill-opacity=\"1\" stroke=\"#000000\" stroke-opacity=\"1\" stroke-width=\"3.2\"/>\n<circle clip-path=\"url(#clip682)\" cx=\"1310.87\" cy=\"452.812\" r=\"14\" fill=\"#fcfea4\" fill-rule=\"evenodd\" fill-opacity=\"1\" stroke=\"#000000\" stroke-opacity=\"1\" stroke-width=\"3.2\"/>\n</svg>\n"
     },
     "execution_count": 90,
     "metadata": {},
     "output_type": "execute_result"
    }
   ],
   "source": [
    "scatter(X[1, :], X[2, :], title=\"K-means for K = 2\", marker_z=km1.assignments, legend = false)"
   ]
  },
  {
   "cell_type": "code",
   "execution_count": 91,
   "metadata": {},
   "outputs": [
    {
     "data": {
      "text/plain": [
       "KmeansResult{Matrix{Float16}, Float16, Int64}(Float16[0.7407 0.931 -1.057; 0.7754 -1.263 0.1493], [1, 3, 3, 3, 2, 3, 1, 1, 1, 3  …  1, 2, 1, 1, 1, 2, 2, 1, 1, 1], Float16[1.48, 0.1816, 1.21, 0.379, 0.10156, 1.615, 0.6875, 0.7803, 0.9844, 4.312  …  0.0879, 0.2734, 0.4082, 0.717, 0.883, 0.3633, 0.1133, 0.7285, 0.11523, 0.3574], [24, 11, 15], [24, 11, 15], Float16(44.3), 5, true)"
      ]
     },
     "execution_count": 91,
     "metadata": {},
     "output_type": "execute_result"
    }
   ],
   "source": [
    "Random.seed!(4)\n",
    "seed = initseeds(:kmpp, X, 20)\n",
    "km2 = kmeans(X, 3) "
   ]
  },
  {
   "cell_type": "code",
   "execution_count": 92,
   "metadata": {},
   "outputs": [
    {
     "data": {
      "image/svg+xml": "<?xml version=\"1.0\" encoding=\"utf-8\"?>\n<svg xmlns=\"http://www.w3.org/2000/svg\" xmlns:xlink=\"http://www.w3.org/1999/xlink\" width=\"600\" height=\"400\" viewBox=\"0 0 2400 1600\">\n<defs>\n  <clipPath id=\"clip720\">\n    <rect x=\"0\" y=\"0\" width=\"2400\" height=\"1600\"/>\n  </clipPath>\n</defs>\n<path clip-path=\"url(#clip720)\" d=\"\nM0 1600 L2400 1600 L2400 0 L0 0  Z\n  \" fill=\"#ffffff\" fill-rule=\"evenodd\" fill-opacity=\"1\"/>\n<defs>\n  <clipPath id=\"clip721\">\n    <rect x=\"480\" y=\"0\" width=\"1681\" height=\"1600\"/>\n  </clipPath>\n</defs>\n<path clip-path=\"url(#clip720)\" d=\"\nM147.478 1486.45 L2352.76 1486.45 L2352.76 123.472 L147.478 123.472  Z\n  \" fill=\"#ffffff\" fill-rule=\"evenodd\" fill-opacity=\"1\"/>\n<defs>\n  <clipPath id=\"clip722\">\n    <rect x=\"147\" y=\"123\" width=\"2206\" height=\"1364\"/>\n  </clipPath>\n</defs>\n<polyline clip-path=\"url(#clip722)\" style=\"stroke:#000000; stroke-linecap:butt; stroke-linejoin:round; stroke-width:2; stroke-opacity:0.1; fill:none\" points=\"\n  433.099,1486.45 433.099,123.472 \n  \"/>\n<polyline clip-path=\"url(#clip722)\" style=\"stroke:#000000; stroke-linecap:butt; stroke-linejoin:round; stroke-width:2; stroke-opacity:0.1; fill:none\" points=\"\n  827.177,1486.45 827.177,123.472 \n  \"/>\n<polyline clip-path=\"url(#clip722)\" style=\"stroke:#000000; stroke-linecap:butt; stroke-linejoin:round; stroke-width:2; stroke-opacity:0.1; fill:none\" points=\"\n  1221.25,1486.45 1221.25,123.472 \n  \"/>\n<polyline clip-path=\"url(#clip722)\" style=\"stroke:#000000; stroke-linecap:butt; stroke-linejoin:round; stroke-width:2; stroke-opacity:0.1; fill:none\" points=\"\n  1615.33,1486.45 1615.33,123.472 \n  \"/>\n<polyline clip-path=\"url(#clip722)\" style=\"stroke:#000000; stroke-linecap:butt; stroke-linejoin:round; stroke-width:2; stroke-opacity:0.1; fill:none\" points=\"\n  2009.41,1486.45 2009.41,123.472 \n  \"/>\n<polyline clip-path=\"url(#clip720)\" style=\"stroke:#000000; stroke-linecap:butt; stroke-linejoin:round; stroke-width:4; stroke-opacity:1; fill:none\" points=\"\n  147.478,1486.45 2352.76,1486.45 \n  \"/>\n<polyline clip-path=\"url(#clip720)\" style=\"stroke:#000000; stroke-linecap:butt; stroke-linejoin:round; stroke-width:4; stroke-opacity:1; fill:none\" points=\"\n  433.099,1486.45 433.099,1467.55 \n  \"/>\n<polyline clip-path=\"url(#clip720)\" style=\"stroke:#000000; stroke-linecap:butt; stroke-linejoin:round; stroke-width:4; stroke-opacity:1; fill:none\" points=\"\n  827.177,1486.45 827.177,1467.55 \n  \"/>\n<polyline clip-path=\"url(#clip720)\" style=\"stroke:#000000; stroke-linecap:butt; stroke-linejoin:round; stroke-width:4; stroke-opacity:1; fill:none\" points=\"\n  1221.25,1486.45 1221.25,1467.55 \n  \"/>\n<polyline clip-path=\"url(#clip720)\" style=\"stroke:#000000; stroke-linecap:butt; stroke-linejoin:round; stroke-width:4; stroke-opacity:1; fill:none\" points=\"\n  1615.33,1486.45 1615.33,1467.55 \n  \"/>\n<polyline clip-path=\"url(#clip720)\" style=\"stroke:#000000; stroke-linecap:butt; stroke-linejoin:round; stroke-width:4; stroke-opacity:1; fill:none\" points=\"\n  2009.41,1486.45 2009.41,1467.55 \n  \"/>\n<path clip-path=\"url(#clip720)\" d=\"M403.042 1532.02 L432.717 1532.02 L432.717 1535.95 L403.042 1535.95 L403.042 1532.02 Z\" fill=\"#000000\" fill-rule=\"evenodd\" fill-opacity=\"1\" /><path clip-path=\"url(#clip720)\" d=\"M446.838 1544.91 L463.157 1544.91 L463.157 1548.85 L441.213 1548.85 L441.213 1544.91 Q443.875 1542.16 448.458 1537.53 Q453.064 1532.88 454.245 1531.53 Q456.49 1529.01 457.37 1527.27 Q458.273 1525.51 458.273 1523.82 Q458.273 1521.07 456.328 1519.33 Q454.407 1517.6 451.305 1517.6 Q449.106 1517.6 446.652 1518.36 Q444.222 1519.13 441.444 1520.68 L441.444 1515.95 Q444.268 1514.82 446.722 1514.24 Q449.176 1513.66 451.213 1513.66 Q456.583 1513.66 459.777 1516.35 Q462.972 1519.03 462.972 1523.52 Q462.972 1525.65 462.162 1527.57 Q461.375 1529.47 459.268 1532.07 Q458.689 1532.74 455.588 1535.95 Q452.486 1539.15 446.838 1544.91 Z\" fill=\"#000000\" fill-rule=\"evenodd\" fill-opacity=\"1\" /><path clip-path=\"url(#clip720)\" d=\"M796.934 1532.02 L826.609 1532.02 L826.609 1535.95 L796.934 1535.95 L796.934 1532.02 Z\" fill=\"#000000\" fill-rule=\"evenodd\" fill-opacity=\"1\" /><path clip-path=\"url(#clip720)\" d=\"M837.512 1544.91 L845.151 1544.91 L845.151 1518.55 L836.841 1520.21 L836.841 1515.95 L845.105 1514.29 L849.781 1514.29 L849.781 1544.91 L857.419 1544.91 L857.419 1548.85 L837.512 1548.85 L837.512 1544.91 Z\" fill=\"#000000\" fill-rule=\"evenodd\" fill-opacity=\"1\" /><path clip-path=\"url(#clip720)\" d=\"M1221.25 1517.37 Q1217.64 1517.37 1215.81 1520.93 Q1214.01 1524.47 1214.01 1531.6 Q1214.01 1538.71 1215.81 1542.27 Q1217.64 1545.82 1221.25 1545.82 Q1224.89 1545.82 1226.69 1542.27 Q1228.52 1538.71 1228.52 1531.6 Q1228.52 1524.47 1226.69 1520.93 Q1224.89 1517.37 1221.25 1517.37 M1221.25 1513.66 Q1227.06 1513.66 1230.12 1518.27 Q1233.2 1522.85 1233.2 1531.6 Q1233.2 1540.33 1230.12 1544.94 Q1227.06 1549.52 1221.25 1549.52 Q1215.44 1549.52 1212.36 1544.94 Q1209.31 1540.33 1209.31 1531.6 Q1209.31 1522.85 1212.36 1518.27 Q1215.44 1513.66 1221.25 1513.66 Z\" fill=\"#000000\" fill-rule=\"evenodd\" fill-opacity=\"1\" /><path clip-path=\"url(#clip720)\" d=\"M1605.71 1544.91 L1613.35 1544.91 L1613.35 1518.55 L1605.04 1520.21 L1605.04 1515.95 L1613.31 1514.29 L1617.98 1514.29 L1617.98 1544.91 L1625.62 1544.91 L1625.62 1548.85 L1605.71 1548.85 L1605.71 1544.91 Z\" fill=\"#000000\" fill-rule=\"evenodd\" fill-opacity=\"1\" /><path clip-path=\"url(#clip720)\" d=\"M2004.06 1544.91 L2020.38 1544.91 L2020.38 1548.85 L1998.44 1548.85 L1998.44 1544.91 Q2001.1 1542.16 2005.68 1537.53 Q2010.29 1532.88 2011.47 1531.53 Q2013.71 1529.01 2014.59 1527.27 Q2015.5 1525.51 2015.5 1523.82 Q2015.5 1521.07 2013.55 1519.33 Q2011.63 1517.6 2008.53 1517.6 Q2006.33 1517.6 2003.88 1518.36 Q2001.45 1519.13 1998.67 1520.68 L1998.67 1515.95 Q2001.49 1514.82 2003.95 1514.24 Q2006.4 1513.66 2008.44 1513.66 Q2013.81 1513.66 2017 1516.35 Q2020.2 1519.03 2020.2 1523.52 Q2020.2 1525.65 2019.39 1527.57 Q2018.6 1529.47 2016.49 1532.07 Q2015.91 1532.74 2012.81 1535.95 Q2009.71 1539.15 2004.06 1544.91 Z\" fill=\"#000000\" fill-rule=\"evenodd\" fill-opacity=\"1\" /><polyline clip-path=\"url(#clip722)\" style=\"stroke:#000000; stroke-linecap:butt; stroke-linejoin:round; stroke-width:2; stroke-opacity:0.1; fill:none\" points=\"\n  147.478,1236.63 2352.76,1236.63 \n  \"/>\n<polyline clip-path=\"url(#clip722)\" style=\"stroke:#000000; stroke-linecap:butt; stroke-linejoin:round; stroke-width:2; stroke-opacity:0.1; fill:none\" points=\"\n  147.478,982.153 2352.76,982.153 \n  \"/>\n<polyline clip-path=\"url(#clip722)\" style=\"stroke:#000000; stroke-linecap:butt; stroke-linejoin:round; stroke-width:2; stroke-opacity:0.1; fill:none\" points=\"\n  147.478,727.671 2352.76,727.671 \n  \"/>\n<polyline clip-path=\"url(#clip722)\" style=\"stroke:#000000; stroke-linecap:butt; stroke-linejoin:round; stroke-width:2; stroke-opacity:0.1; fill:none\" points=\"\n  147.478,473.19 2352.76,473.19 \n  \"/>\n<polyline clip-path=\"url(#clip722)\" style=\"stroke:#000000; stroke-linecap:butt; stroke-linejoin:round; stroke-width:2; stroke-opacity:0.1; fill:none\" points=\"\n  147.478,218.709 2352.76,218.709 \n  \"/>\n<polyline clip-path=\"url(#clip720)\" style=\"stroke:#000000; stroke-linecap:butt; stroke-linejoin:round; stroke-width:4; stroke-opacity:1; fill:none\" points=\"\n  147.478,1486.45 147.478,123.472 \n  \"/>\n<polyline clip-path=\"url(#clip720)\" style=\"stroke:#000000; stroke-linecap:butt; stroke-linejoin:round; stroke-width:4; stroke-opacity:1; fill:none\" points=\"\n  147.478,1236.63 166.376,1236.63 \n  \"/>\n<polyline clip-path=\"url(#clip720)\" style=\"stroke:#000000; stroke-linecap:butt; stroke-linejoin:round; stroke-width:4; stroke-opacity:1; fill:none\" points=\"\n  147.478,982.153 166.376,982.153 \n  \"/>\n<polyline clip-path=\"url(#clip720)\" style=\"stroke:#000000; stroke-linecap:butt; stroke-linejoin:round; stroke-width:4; stroke-opacity:1; fill:none\" points=\"\n  147.478,727.671 166.376,727.671 \n  \"/>\n<polyline clip-path=\"url(#clip720)\" style=\"stroke:#000000; stroke-linecap:butt; stroke-linejoin:round; stroke-width:4; stroke-opacity:1; fill:none\" points=\"\n  147.478,473.19 166.376,473.19 \n  \"/>\n<polyline clip-path=\"url(#clip720)\" style=\"stroke:#000000; stroke-linecap:butt; stroke-linejoin:round; stroke-width:4; stroke-opacity:1; fill:none\" points=\"\n  147.478,218.709 166.376,218.709 \n  \"/>\n<path clip-path=\"url(#clip720)\" d=\"M51.3625 1237.09 L81.0383 1237.09 L81.0383 1241.02 L51.3625 1241.02 L51.3625 1237.09 Z\" fill=\"#000000\" fill-rule=\"evenodd\" fill-opacity=\"1\" /><path clip-path=\"url(#clip720)\" d=\"M95.1586 1249.98 L111.478 1249.98 L111.478 1253.91 L89.5336 1253.91 L89.5336 1249.98 Q92.1956 1247.22 96.7789 1242.59 Q101.385 1237.94 102.566 1236.6 Q104.811 1234.08 105.691 1232.34 Q106.594 1230.58 106.594 1228.89 Q106.594 1226.14 104.649 1224.4 Q102.728 1222.66 99.6261 1222.66 Q97.4271 1222.66 94.9734 1223.43 Q92.5428 1224.19 89.7651 1225.74 L89.7651 1221.02 Q92.5891 1219.89 95.0428 1219.31 Q97.4965 1218.73 99.5335 1218.73 Q104.904 1218.73 108.098 1221.41 Q111.293 1224.1 111.293 1228.59 Q111.293 1230.72 110.483 1232.64 Q109.696 1234.54 107.589 1237.13 Q107.01 1237.8 103.909 1241.02 Q100.807 1244.21 95.1586 1249.98 Z\" fill=\"#000000\" fill-rule=\"evenodd\" fill-opacity=\"1\" /><path clip-path=\"url(#clip720)\" d=\"M50.9921 982.604 L80.6679 982.604 L80.6679 986.539 L50.9921 986.539 L50.9921 982.604 Z\" fill=\"#000000\" fill-rule=\"evenodd\" fill-opacity=\"1\" /><path clip-path=\"url(#clip720)\" d=\"M91.5706 995.497 L99.2095 995.497 L99.2095 969.132 L90.8993 970.798 L90.8993 966.539 L99.1632 964.873 L103.839 964.873 L103.839 995.497 L111.478 995.497 L111.478 999.433 L91.5706 999.433 L91.5706 995.497 Z\" fill=\"#000000\" fill-rule=\"evenodd\" fill-opacity=\"1\" /><path clip-path=\"url(#clip720)\" d=\"M99.5335 713.47 Q95.9224 713.47 94.0937 717.035 Q92.2882 720.576 92.2882 727.706 Q92.2882 734.812 94.0937 738.377 Q95.9224 741.919 99.5335 741.919 Q103.168 741.919 104.973 738.377 Q106.802 734.812 106.802 727.706 Q106.802 720.576 104.973 717.035 Q103.168 713.47 99.5335 713.47 M99.5335 709.766 Q105.344 709.766 108.399 714.373 Q111.478 718.956 111.478 727.706 Q111.478 736.433 108.399 741.039 Q105.344 745.623 99.5335 745.623 Q93.7234 745.623 90.6447 741.039 Q87.5892 736.433 87.5892 727.706 Q87.5892 718.956 90.6447 714.373 Q93.7234 709.766 99.5335 709.766 Z\" fill=\"#000000\" fill-rule=\"evenodd\" fill-opacity=\"1\" /><path clip-path=\"url(#clip720)\" d=\"M91.5706 486.535 L99.2095 486.535 L99.2095 460.169 L90.8993 461.836 L90.8993 457.577 L99.1632 455.91 L103.839 455.91 L103.839 486.535 L111.478 486.535 L111.478 490.47 L91.5706 490.47 L91.5706 486.535 Z\" fill=\"#000000\" fill-rule=\"evenodd\" fill-opacity=\"1\" /><path clip-path=\"url(#clip720)\" d=\"M95.1586 232.054 L111.478 232.054 L111.478 235.989 L89.5336 235.989 L89.5336 232.054 Q92.1956 229.299 96.7789 224.669 Q101.385 220.017 102.566 218.674 Q104.811 216.151 105.691 214.415 Q106.594 212.656 106.594 210.966 Q106.594 208.211 104.649 206.475 Q102.728 204.739 99.6261 204.739 Q97.4271 204.739 94.9734 205.503 Q92.5428 206.267 89.7651 207.818 L89.7651 203.095 Q92.5891 201.961 95.0428 201.382 Q97.4965 200.804 99.5335 200.804 Q104.904 200.804 108.098 203.489 Q111.293 206.174 111.293 210.665 Q111.293 212.794 110.483 214.716 Q109.696 216.614 107.589 219.206 Q107.01 219.878 103.909 223.095 Q100.807 226.29 95.1586 232.054 Z\" fill=\"#000000\" fill-rule=\"evenodd\" fill-opacity=\"1\" /><path clip-path=\"url(#clip720)\" d=\"M908.686 12.096 L916.869 12.096 L916.869 37.6572 L944.01 12.096 L954.543 12.096 L924.525 40.2903 L956.69 72.576 L945.914 72.576 L916.869 43.45 L916.869 72.576 L908.686 72.576 L908.686 12.096 Z\" fill=\"#000000\" fill-rule=\"evenodd\" fill-opacity=\"1\" /><path clip-path=\"url(#clip720)\" d=\"M950.289 46.5287 L972.124 46.5287 L972.124 53.1722 L950.289 53.1722 L950.289 46.5287 Z\" fill=\"#000000\" fill-rule=\"evenodd\" fill-opacity=\"1\" /><path clip-path=\"url(#clip720)\" d=\"M1019.32 35.9153 Q1022.11 30.8922 1026 28.5022 Q1029.89 26.1121 1035.16 26.1121 Q1042.24 26.1121 1046.09 31.0947 Q1049.94 36.0368 1049.94 45.1919 L1049.94 72.576 L1042.45 72.576 L1042.45 45.4349 Q1042.45 38.913 1040.14 35.7533 Q1037.83 32.5936 1033.09 32.5936 Q1027.3 32.5936 1023.93 36.4419 Q1020.57 40.2903 1020.57 46.9338 L1020.57 72.576 L1013.08 72.576 L1013.08 45.4349 Q1013.08 38.8725 1010.77 35.7533 Q1008.46 32.5936 1003.64 32.5936 Q997.928 32.5936 994.566 36.4824 Q991.203 40.3308 991.203 46.9338 L991.203 72.576 L983.709 72.576 L983.709 27.2059 L991.203 27.2059 L991.203 34.2544 Q993.755 30.082 997.32 28.0971 Q1000.89 26.1121 1005.79 26.1121 Q1010.73 26.1121 1014.17 28.6237 Q1017.66 31.1352 1019.32 35.9153 Z\" fill=\"#000000\" fill-rule=\"evenodd\" fill-opacity=\"1\" /><path clip-path=\"url(#clip720)\" d=\"M1103.62 48.0275 L1103.62 51.6733 L1069.35 51.6733 Q1069.83 59.3701 1073.96 63.421 Q1078.14 67.4314 1085.55 67.4314 Q1089.84 67.4314 1093.85 66.3781 Q1097.9 65.3249 1101.87 63.2184 L1101.87 70.267 Q1097.86 71.9684 1093.65 72.8596 Q1089.44 73.7508 1085.1 73.7508 Q1074.25 73.7508 1067.89 67.4314 Q1061.57 61.1119 1061.57 50.3365 Q1061.57 39.1965 1067.56 32.6746 Q1073.6 26.1121 1083.81 26.1121 Q1092.96 26.1121 1098.27 32.0264 Q1103.62 37.9003 1103.62 48.0275 M1096.16 45.84 Q1096.08 39.7232 1092.72 36.0774 Q1089.4 32.4315 1083.89 32.4315 Q1077.65 32.4315 1073.88 35.9558 Q1070.16 39.4801 1069.59 45.8805 L1096.16 45.84 Z\" fill=\"#000000\" fill-rule=\"evenodd\" fill-opacity=\"1\" /><path clip-path=\"url(#clip720)\" d=\"M1136.47 49.7694 Q1127.44 49.7694 1123.95 51.8354 Q1120.47 53.9013 1120.47 58.8839 Q1120.47 62.8538 1123.06 65.2034 Q1125.69 67.5124 1130.19 67.5124 Q1136.39 67.5124 1140.11 63.1374 Q1143.88 58.7219 1143.88 51.4303 L1143.88 49.7694 L1136.47 49.7694 M1151.34 46.6907 L1151.34 72.576 L1143.88 72.576 L1143.88 65.6895 Q1141.33 69.8214 1137.52 71.8063 Q1133.71 73.7508 1128.2 73.7508 Q1121.24 73.7508 1117.11 69.8619 Q1113.01 65.9325 1113.01 59.3701 Q1113.01 51.7138 1118.12 47.825 Q1123.26 43.9361 1133.43 43.9361 L1143.88 43.9361 L1143.88 43.2069 Q1143.88 38.0623 1140.48 35.2672 Q1137.12 32.4315 1131 32.4315 Q1127.11 32.4315 1123.42 33.3632 Q1119.74 34.295 1116.34 36.1584 L1116.34 29.2718 Q1120.43 27.692 1124.28 26.9223 Q1128.12 26.1121 1131.77 26.1121 Q1141.61 26.1121 1146.47 31.2163 Q1151.34 36.3204 1151.34 46.6907 Z\" fill=\"#000000\" fill-rule=\"evenodd\" fill-opacity=\"1\" /><path clip-path=\"url(#clip720)\" d=\"M1204.4 45.1919 L1204.4 72.576 L1196.95 72.576 L1196.95 45.4349 Q1196.95 38.994 1194.44 35.7938 Q1191.93 32.5936 1186.9 32.5936 Q1180.87 32.5936 1177.38 36.4419 Q1173.9 40.2903 1173.9 46.9338 L1173.9 72.576 L1166.4 72.576 L1166.4 27.2059 L1173.9 27.2059 L1173.9 34.2544 Q1176.57 30.163 1180.18 28.1376 Q1183.82 26.1121 1188.56 26.1121 Q1196.38 26.1121 1200.39 30.9732 Q1204.4 35.7938 1204.4 45.1919 Z\" fill=\"#000000\" fill-rule=\"evenodd\" fill-opacity=\"1\" /><path clip-path=\"url(#clip720)\" d=\"M1248.19 28.5427 L1248.19 35.5912 Q1245.03 33.9709 1241.63 33.1607 Q1238.23 32.3505 1234.58 32.3505 Q1229.03 32.3505 1226.24 34.0519 Q1223.48 35.7533 1223.48 39.156 Q1223.48 41.7486 1225.47 43.2475 Q1227.45 44.7058 1233.45 46.0426 L1236 46.6097 Q1243.94 48.3111 1247.26 51.4303 Q1250.62 54.509 1250.62 60.0587 Q1250.62 66.3781 1245.6 70.0644 Q1240.62 73.7508 1231.87 73.7508 Q1228.22 73.7508 1224.25 73.0216 Q1220.32 72.3329 1215.95 70.9151 L1215.95 63.2184 Q1220.08 65.3654 1224.09 66.4591 Q1228.1 67.5124 1232.03 67.5124 Q1237.3 67.5124 1240.13 65.73 Q1242.97 63.9071 1242.97 60.6258 Q1242.97 57.5877 1240.9 55.9673 Q1238.88 54.3469 1231.95 52.8481 L1229.36 52.2405 Q1222.43 50.7821 1219.35 47.7845 Q1216.27 44.7463 1216.27 39.4801 Q1216.27 33.0797 1220.81 29.5959 Q1225.35 26.1121 1233.69 26.1121 Q1237.82 26.1121 1241.47 26.7198 Q1245.11 27.3274 1248.19 28.5427 Z\" fill=\"#000000\" fill-rule=\"evenodd\" fill-opacity=\"1\" /><path clip-path=\"url(#clip720)\" d=\"M1311.83 9.54393 L1311.83 15.7418 L1304.7 15.7418 Q1300.69 15.7418 1299.11 17.3622 Q1297.57 18.9825 1297.57 23.1955 L1297.57 27.2059 L1309.85 27.2059 L1309.85 32.9987 L1297.57 32.9987 L1297.57 72.576 L1290.08 72.576 L1290.08 32.9987 L1282.95 32.9987 L1282.95 27.2059 L1290.08 27.2059 L1290.08 24.0462 Q1290.08 16.471 1293.6 13.0277 Q1297.13 9.54393 1304.78 9.54393 L1311.83 9.54393 Z\" fill=\"#000000\" fill-rule=\"evenodd\" fill-opacity=\"1\" /><path clip-path=\"url(#clip720)\" d=\"M1335.65 32.4315 Q1329.66 32.4315 1326.17 37.1306 Q1322.69 41.7891 1322.69 49.9314 Q1322.69 58.0738 1326.13 62.7728 Q1329.62 67.4314 1335.65 67.4314 Q1341.61 67.4314 1345.09 62.7323 Q1348.57 58.0333 1348.57 49.9314 Q1348.57 41.8701 1345.09 37.1711 Q1341.61 32.4315 1335.65 32.4315 M1335.65 26.1121 Q1345.37 26.1121 1350.92 32.4315 Q1356.47 38.7509 1356.47 49.9314 Q1356.47 61.0714 1350.92 67.4314 Q1345.37 73.7508 1335.65 73.7508 Q1325.89 73.7508 1320.34 67.4314 Q1314.83 61.0714 1314.83 49.9314 Q1314.83 38.7509 1320.34 32.4315 Q1325.89 26.1121 1335.65 26.1121 Z\" fill=\"#000000\" fill-rule=\"evenodd\" fill-opacity=\"1\" /><path clip-path=\"url(#clip720)\" d=\"M1395.12 34.1734 Q1393.86 33.4443 1392.36 33.1202 Q1390.91 32.7556 1389.12 32.7556 Q1382.8 32.7556 1379.4 36.8875 Q1376.04 40.9789 1376.04 48.6757 L1376.04 72.576 L1368.55 72.576 L1368.55 27.2059 L1376.04 27.2059 L1376.04 34.2544 Q1378.39 30.1225 1382.16 28.1376 Q1385.92 26.1121 1391.31 26.1121 Q1392.08 26.1121 1393.01 26.2337 Q1393.94 26.3147 1395.08 26.5172 L1395.12 34.1734 Z\" fill=\"#000000\" fill-rule=\"evenodd\" fill-opacity=\"1\" /><path clip-path=\"url(#clip720)\" d=\"M1429.63 12.096 L1437.82 12.096 L1437.82 37.6572 L1464.96 12.096 L1475.49 12.096 L1445.47 40.2903 L1477.64 72.576 L1466.86 72.576 L1437.82 43.45 L1437.82 72.576 L1429.63 72.576 L1429.63 12.096 Z\" fill=\"#000000\" fill-rule=\"evenodd\" fill-opacity=\"1\" /><path clip-path=\"url(#clip720)\" d=\"M1484.68 34.9026 L1536.62 34.9026 L1536.62 41.7081 L1484.68 41.7081 L1484.68 34.9026 M1484.68 51.4303 L1536.62 51.4303 L1536.62 58.3168 L1484.68 58.3168 L1484.68 51.4303 Z\" fill=\"#000000\" fill-rule=\"evenodd\" fill-opacity=\"1\" /><path clip-path=\"url(#clip720)\" d=\"M1579.07 39.9662 Q1584.94 41.222 1588.23 45.1919 Q1591.55 49.1618 1591.55 54.9951 Q1591.55 63.9476 1585.39 68.8492 Q1579.23 73.7508 1567.89 73.7508 Q1564.08 73.7508 1560.03 72.9811 Q1556.02 72.2519 1551.73 70.7531 L1551.73 62.8538 Q1555.13 64.8388 1559.18 65.8515 Q1563.23 66.8642 1567.65 66.8642 Q1575.34 66.8642 1579.35 63.826 Q1583.41 60.7879 1583.41 54.9951 Q1583.41 49.6479 1579.64 46.6502 Q1575.91 43.612 1569.23 43.612 L1562.18 43.612 L1562.18 36.8875 L1569.55 36.8875 Q1575.59 36.8875 1578.79 34.4975 Q1581.99 32.067 1581.99 27.5299 Q1581.99 22.8714 1578.67 20.4004 Q1575.38 17.8888 1569.23 17.8888 Q1565.86 17.8888 1562.02 18.618 Q1558.17 19.3471 1553.55 20.8865 L1553.55 13.5948 Q1558.21 12.2985 1562.26 11.6504 Q1566.35 11.0023 1569.96 11.0023 Q1579.27 11.0023 1584.7 15.2557 Q1590.13 19.4686 1590.13 26.6793 Q1590.13 31.7024 1587.25 35.1862 Q1584.38 38.6294 1579.07 39.9662 Z\" fill=\"#000000\" fill-rule=\"evenodd\" fill-opacity=\"1\" /><circle clip-path=\"url(#clip722)\" cx=\"1218.99\" cy=\"286.057\" r=\"14\" fill=\"#000003\" fill-rule=\"evenodd\" fill-opacity=\"1\" stroke=\"#000000\" stroke-opacity=\"1\" stroke-width=\"3.2\"/>\n<circle clip-path=\"url(#clip722)\" cx=\"807.55\" cy=\"581.295\" r=\"14\" fill=\"#fcfea4\" fill-rule=\"evenodd\" fill-opacity=\"1\" stroke=\"#000000\" stroke-opacity=\"1\" stroke-width=\"3.2\"/>\n<circle clip-path=\"url(#clip722)\" cx=\"1076.46\" cy=\"471.45\" r=\"14\" fill=\"#fcfea4\" fill-rule=\"evenodd\" fill-opacity=\"1\" stroke=\"#000000\" stroke-opacity=\"1\" stroke-width=\"3.2\"/>\n<circle clip-path=\"url(#clip722)\" cx=\"718.651\" cy=\"836.087\" r=\"14\" fill=\"#fcfea4\" fill-rule=\"evenodd\" fill-opacity=\"1\" stroke=\"#000000\" stroke-opacity=\"1\" stroke-width=\"3.2\"/>\n<circle clip-path=\"url(#clip722)\" cx=\"1474.67\" cy=\"1083.8\" r=\"14\" fill=\"#ba3654\" fill-rule=\"evenodd\" fill-opacity=\"1\" stroke=\"#000000\" stroke-opacity=\"1\" stroke-width=\"3.2\"/>\n<circle clip-path=\"url(#clip722)\" cx=\"683.246\" cy=\"1003.28\" r=\"14\" fill=\"#fcfea4\" fill-rule=\"evenodd\" fill-opacity=\"1\" stroke=\"#000000\" stroke-opacity=\"1\" stroke-width=\"3.2\"/>\n<circle clip-path=\"url(#clip722)\" cx=\"1768.5\" cy=\"662.125\" r=\"14\" fill=\"#000003\" fill-rule=\"evenodd\" fill-opacity=\"1\" stroke=\"#000000\" stroke-opacity=\"1\" stroke-width=\"3.2\"/>\n<circle clip-path=\"url(#clip722)\" cx=\"1595.51\" cy=\"748.888\" r=\"14\" fill=\"#000003\" fill-rule=\"evenodd\" fill-opacity=\"1\" stroke=\"#000000\" stroke-opacity=\"1\" stroke-width=\"3.2\"/>\n<circle clip-path=\"url(#clip722)\" cx=\"1842.77\" cy=\"394.659\" r=\"14\" fill=\"#000003\" fill-rule=\"evenodd\" fill-opacity=\"1\" stroke=\"#000000\" stroke-opacity=\"1\" stroke-width=\"3.2\"/>\n<circle clip-path=\"url(#clip722)\" cx=\"852.576\" cy=\"162.047\" r=\"14\" fill=\"#fcfea4\" fill-rule=\"evenodd\" fill-opacity=\"1\" stroke=\"#000000\" stroke-opacity=\"1\" stroke-width=\"3.2\"/>\n<circle clip-path=\"url(#clip722)\" cx=\"627.059\" cy=\"971.094\" r=\"14\" fill=\"#fcfea4\" fill-rule=\"evenodd\" fill-opacity=\"1\" stroke=\"#000000\" stroke-opacity=\"1\" stroke-width=\"3.2\"/>\n<circle clip-path=\"url(#clip722)\" cx=\"635.526\" cy=\"693.966\" r=\"14\" fill=\"#fcfea4\" fill-rule=\"evenodd\" fill-opacity=\"1\" stroke=\"#000000\" stroke-opacity=\"1\" stroke-width=\"3.2\"/>\n<circle clip-path=\"url(#clip722)\" cx=\"921.463\" cy=\"777.965\" r=\"14\" fill=\"#fcfea4\" fill-rule=\"evenodd\" fill-opacity=\"1\" stroke=\"#000000\" stroke-opacity=\"1\" stroke-width=\"3.2\"/>\n<circle clip-path=\"url(#clip722)\" cx=\"1427.53\" cy=\"844.101\" r=\"14\" fill=\"#ba3654\" fill-rule=\"evenodd\" fill-opacity=\"1\" stroke=\"#000000\" stroke-opacity=\"1\" stroke-width=\"3.2\"/>\n<circle clip-path=\"url(#clip722)\" cx=\"1652.66\" cy=\"416.528\" r=\"14\" fill=\"#000003\" fill-rule=\"evenodd\" fill-opacity=\"1\" stroke=\"#000000\" stroke-opacity=\"1\" stroke-width=\"3.2\"/>\n<circle clip-path=\"url(#clip722)\" cx=\"1105.32\" cy=\"580.922\" r=\"14\" fill=\"#fcfea4\" fill-rule=\"evenodd\" fill-opacity=\"1\" stroke=\"#000000\" stroke-opacity=\"1\" stroke-width=\"3.2\"/>\n<circle clip-path=\"url(#clip722)\" cx=\"1364.22\" cy=\"885.604\" r=\"14\" fill=\"#ba3654\" fill-rule=\"evenodd\" fill-opacity=\"1\" stroke=\"#000000\" stroke-opacity=\"1\" stroke-width=\"3.2\"/>\n<circle clip-path=\"url(#clip722)\" cx=\"1249.68\" cy=\"759.606\" r=\"14\" fill=\"#000003\" fill-rule=\"evenodd\" fill-opacity=\"1\" stroke=\"#000000\" stroke-opacity=\"1\" stroke-width=\"3.2\"/>\n<circle clip-path=\"url(#clip722)\" cx=\"1636.11\" cy=\"536.562\" r=\"14\" fill=\"#000003\" fill-rule=\"evenodd\" fill-opacity=\"1\" stroke=\"#000000\" stroke-opacity=\"1\" stroke-width=\"3.2\"/>\n<circle clip-path=\"url(#clip722)\" cx=\"1056.16\" cy=\"928.1\" r=\"14\" fill=\"#fcfea4\" fill-rule=\"evenodd\" fill-opacity=\"1\" stroke=\"#000000\" stroke-opacity=\"1\" stroke-width=\"3.2\"/>\n<circle clip-path=\"url(#clip722)\" cx=\"1490.26\" cy=\"237.596\" r=\"14\" fill=\"#000003\" fill-rule=\"evenodd\" fill-opacity=\"1\" stroke=\"#000000\" stroke-opacity=\"1\" stroke-width=\"3.2\"/>\n<circle clip-path=\"url(#clip722)\" cx=\"1334.11\" cy=\"392.671\" r=\"14\" fill=\"#000003\" fill-rule=\"evenodd\" fill-opacity=\"1\" stroke=\"#000000\" stroke-opacity=\"1\" stroke-width=\"3.2\"/>\n<circle clip-path=\"url(#clip722)\" cx=\"1745.41\" cy=\"702.649\" r=\"14\" fill=\"#000003\" fill-rule=\"evenodd\" fill-opacity=\"1\" stroke=\"#000000\" stroke-opacity=\"1\" stroke-width=\"3.2\"/>\n<circle clip-path=\"url(#clip722)\" cx=\"1167.86\" cy=\"641.995\" r=\"14\" fill=\"#fcfea4\" fill-rule=\"evenodd\" fill-opacity=\"1\" stroke=\"#000000\" stroke-opacity=\"1\" stroke-width=\"3.2\"/>\n<circle clip-path=\"url(#clip722)\" cx=\"2290.34\" cy=\"1447.87\" r=\"14\" fill=\"#ba3654\" fill-rule=\"evenodd\" fill-opacity=\"1\" stroke=\"#000000\" stroke-opacity=\"1\" stroke-width=\"3.2\"/>\n<circle clip-path=\"url(#clip722)\" cx=\"1586.47\" cy=\"774.361\" r=\"14\" fill=\"#000003\" fill-rule=\"evenodd\" fill-opacity=\"1\" stroke=\"#000000\" stroke-opacity=\"1\" stroke-width=\"3.2\"/>\n<circle clip-path=\"url(#clip722)\" cx=\"1408.58\" cy=\"466.232\" r=\"14\" fill=\"#000003\" fill-rule=\"evenodd\" fill-opacity=\"1\" stroke=\"#000000\" stroke-opacity=\"1\" stroke-width=\"3.2\"/>\n<circle clip-path=\"url(#clip722)\" cx=\"209.891\" cy=\"899.645\" r=\"14\" fill=\"#fcfea4\" fill-rule=\"evenodd\" fill-opacity=\"1\" stroke=\"#000000\" stroke-opacity=\"1\" stroke-width=\"3.2\"/>\n<circle clip-path=\"url(#clip722)\" cx=\"1284.08\" cy=\"685.734\" r=\"14\" fill=\"#000003\" fill-rule=\"evenodd\" fill-opacity=\"1\" stroke=\"#000000\" stroke-opacity=\"1\" stroke-width=\"3.2\"/>\n<circle clip-path=\"url(#clip722)\" cx=\"1254.16\" cy=\"1275.4\" r=\"14\" fill=\"#ba3654\" fill-rule=\"evenodd\" fill-opacity=\"1\" stroke=\"#000000\" stroke-opacity=\"1\" stroke-width=\"3.2\"/>\n<circle clip-path=\"url(#clip722)\" cx=\"1431.95\" cy=\"1085.54\" r=\"14\" fill=\"#ba3654\" fill-rule=\"evenodd\" fill-opacity=\"1\" stroke=\"#000000\" stroke-opacity=\"1\" stroke-width=\"3.2\"/>\n<circle clip-path=\"url(#clip722)\" cx=\"1490.64\" cy=\"898.278\" r=\"14\" fill=\"#ba3654\" fill-rule=\"evenodd\" fill-opacity=\"1\" stroke=\"#000000\" stroke-opacity=\"1\" stroke-width=\"3.2\"/>\n<circle clip-path=\"url(#clip722)\" cx=\"882.016\" cy=\"787.533\" r=\"14\" fill=\"#fcfea4\" fill-rule=\"evenodd\" fill-opacity=\"1\" stroke=\"#000000\" stroke-opacity=\"1\" stroke-width=\"3.2\"/>\n<circle clip-path=\"url(#clip722)\" cx=\"732.121\" cy=\"407.085\" r=\"14\" fill=\"#fcfea4\" fill-rule=\"evenodd\" fill-opacity=\"1\" stroke=\"#000000\" stroke-opacity=\"1\" stroke-width=\"3.2\"/>\n<circle clip-path=\"url(#clip722)\" cx=\"1415.79\" cy=\"754.682\" r=\"14\" fill=\"#000003\" fill-rule=\"evenodd\" fill-opacity=\"1\" stroke=\"#000000\" stroke-opacity=\"1\" stroke-width=\"3.2\"/>\n<circle clip-path=\"url(#clip722)\" cx=\"596.657\" cy=\"602.978\" r=\"14\" fill=\"#fcfea4\" fill-rule=\"evenodd\" fill-opacity=\"1\" stroke=\"#000000\" stroke-opacity=\"1\" stroke-width=\"3.2\"/>\n<circle clip-path=\"url(#clip722)\" cx=\"1735.79\" cy=\"912.941\" r=\"14\" fill=\"#ba3654\" fill-rule=\"evenodd\" fill-opacity=\"1\" stroke=\"#000000\" stroke-opacity=\"1\" stroke-width=\"3.2\"/>\n<circle clip-path=\"url(#clip722)\" cx=\"1664.59\" cy=\"559.55\" r=\"14\" fill=\"#000003\" fill-rule=\"evenodd\" fill-opacity=\"1\" stroke=\"#000000\" stroke-opacity=\"1\" stroke-width=\"3.2\"/>\n<circle clip-path=\"url(#clip722)\" cx=\"1143.18\" cy=\"308.423\" r=\"14\" fill=\"#000003\" fill-rule=\"evenodd\" fill-opacity=\"1\" stroke=\"#000000\" stroke-opacity=\"1\" stroke-width=\"3.2\"/>\n<circle clip-path=\"url(#clip722)\" cx=\"1410.5\" cy=\"374.28\" r=\"14\" fill=\"#000003\" fill-rule=\"evenodd\" fill-opacity=\"1\" stroke=\"#000000\" stroke-opacity=\"1\" stroke-width=\"3.2\"/>\n<circle clip-path=\"url(#clip722)\" cx=\"1576.46\" cy=\"593.099\" r=\"14\" fill=\"#000003\" fill-rule=\"evenodd\" fill-opacity=\"1\" stroke=\"#000000\" stroke-opacity=\"1\" stroke-width=\"3.2\"/>\n<circle clip-path=\"url(#clip722)\" cx=\"1745.41\" cy=\"962.271\" r=\"14\" fill=\"#ba3654\" fill-rule=\"evenodd\" fill-opacity=\"1\" stroke=\"#000000\" stroke-opacity=\"1\" stroke-width=\"3.2\"/>\n<circle clip-path=\"url(#clip722)\" cx=\"1745.02\" cy=\"593.721\" r=\"14\" fill=\"#000003\" fill-rule=\"evenodd\" fill-opacity=\"1\" stroke=\"#000000\" stroke-opacity=\"1\" stroke-width=\"3.2\"/>\n<circle clip-path=\"url(#clip722)\" cx=\"1187.72\" cy=\"482.385\" r=\"14\" fill=\"#000003\" fill-rule=\"evenodd\" fill-opacity=\"1\" stroke=\"#000000\" stroke-opacity=\"1\" stroke-width=\"3.2\"/>\n<circle clip-path=\"url(#clip722)\" cx=\"1803.9\" cy=\"382.233\" r=\"14\" fill=\"#000003\" fill-rule=\"evenodd\" fill-opacity=\"1\" stroke=\"#000000\" stroke-opacity=\"1\" stroke-width=\"3.2\"/>\n<circle clip-path=\"url(#clip722)\" cx=\"1773.12\" cy=\"1146.42\" r=\"14\" fill=\"#ba3654\" fill-rule=\"evenodd\" fill-opacity=\"1\" stroke=\"#000000\" stroke-opacity=\"1\" stroke-width=\"3.2\"/>\n<circle clip-path=\"url(#clip722)\" cx=\"1482.37\" cy=\"995.821\" r=\"14\" fill=\"#ba3654\" fill-rule=\"evenodd\" fill-opacity=\"1\" stroke=\"#000000\" stroke-opacity=\"1\" stroke-width=\"3.2\"/>\n<circle clip-path=\"url(#clip722)\" cx=\"1689.22\" cy=\"715.315\" r=\"14\" fill=\"#000003\" fill-rule=\"evenodd\" fill-opacity=\"1\" stroke=\"#000000\" stroke-opacity=\"1\" stroke-width=\"3.2\"/>\n<circle clip-path=\"url(#clip722)\" cx=\"1560.3\" cy=\"450.078\" r=\"14\" fill=\"#000003\" fill-rule=\"evenodd\" fill-opacity=\"1\" stroke=\"#000000\" stroke-opacity=\"1\" stroke-width=\"3.2\"/>\n<circle clip-path=\"url(#clip722)\" cx=\"1310.87\" cy=\"452.812\" r=\"14\" fill=\"#000003\" fill-rule=\"evenodd\" fill-opacity=\"1\" stroke=\"#000000\" stroke-opacity=\"1\" stroke-width=\"3.2\"/>\n</svg>\n"
     },
     "execution_count": 92,
     "metadata": {},
     "output_type": "execute_result"
    }
   ],
   "source": [
    "scatter(X[1, :], X[2, :], title= \"K-means for K=3\", marker_z=km2.assignments, legend = false)"
   ]
  },
  {
   "cell_type": "code",
   "execution_count": 93,
   "metadata": {},
   "outputs": [
    {
     "name": "stdout",
     "output_type": "stream",
     "text": [
      "Size of each cluster: \n"
     ]
    },
    {
     "data": {
      "text/plain": [
       "3-element Vector{Int64}:\n",
       " 24\n",
       " 11\n",
       " 15"
      ]
     },
     "execution_count": 93,
     "metadata": {},
     "output_type": "execute_result"
    }
   ],
   "source": [
    "print(\"Size of each cluster: \\n\")\n",
    "km2.counts"
   ]
  },
  {
   "cell_type": "code",
   "execution_count": 95,
   "metadata": {},
   "outputs": [
    {
     "name": "stdout",
     "output_type": "stream",
     "text": [
      "Centers of the clusters: \n",
      "( 0.7407, 0.7754) \n",
      "( 0.931, -1.263) \n",
      "( -1.057, 0.1493) \n"
     ]
    }
   ],
   "source": [
    "print(\"Centers of the clusters: \\n\")\n",
    "for i in 1:3 \n",
    "    print(\"( \", km2.centers'[i,1], \", \", km2.centers'[i,2], \") \\n\")\n",
    "end"
   ]
  },
  {
   "cell_type": "code",
   "execution_count": 96,
   "metadata": {},
   "outputs": [
    {
     "name": "stdout",
     "output_type": "stream",
     "text": [
      "Labels are: \n",
      " \n",
      "[1, 3, 3, 3, 2, 3, 1, 1, 1, 3, 3, 3, 3, 2, 1, 3, 2, 1, 1, 3, 1, 1, 1, 3, 2, 1, 1, 3, 1, 2, 2, 2, 3, 3, 1, 3, 2, 1, 1, 1, 1, 2, 1, 1, 1, 2, 2, 1, 1, 1]"
     ]
    }
   ],
   "source": [
    "print(\"Labels are: \\n \\n\")\n",
    "print(km2.assignments)"
   ]
  },
  {
   "cell_type": "code",
   "execution_count": 119,
   "metadata": {},
   "outputs": [
    {
     "data": {
      "text/plain": [
       "SS (generic function with 2 methods)"
      ]
     },
     "execution_count": 119,
     "metadata": {},
     "output_type": "execute_result"
    }
   ],
   "source": [
    "# No native function in Julia for sum of squares \n",
    "# we build a custom function that returns all kinds of sum of squares\n",
    "function SS(km, X)\n",
    "    num_clust = size(km.counts)[1]\n",
    "    num_data = size(km.assignments)[1]\n",
    "    ss = zeros((num_clust, num_clust))\n",
    "    for cluster in 1:num_clust \n",
    "        for other_cluster in 1:num_clust\n",
    "            x_center = km.centers[1, other_cluster]\n",
    "            y_center = km.centers[2, other_cluster]\n",
    "            for element in 1:num_data\n",
    "                x = X[1, element]\n",
    "                y = X[2, element] \n",
    "                label = km.assignments[element] \n",
    "                if(label == cluster)\n",
    "                    ss[cluster, other_cluster]+= (x-x_center)^2 + (y-y_center)^2\n",
    "                end\n",
    "            end\n",
    "        end\n",
    "    end\n",
    "    return ss\n",
    "end"
   ]
  },
  {
   "cell_type": "code",
   "execution_count": 123,
   "metadata": {},
   "outputs": [
    {
     "name": "stdout",
     "output_type": "stream",
     "text": [
      "Within_SS: \n",
      "16.4215087890625\n",
      "10.5643310546875\n",
      "17.2607421875\n",
      "------------------------\n",
      "Between_SS: \n",
      "530.970703125\n",
      "------------------------\n",
      "Tot.within_SS: \n",
      "44.24658203125\n",
      "------------------------\n",
      "Total_SS: \n",
      "575.21728515625\n",
      "------------------------\n",
      "Between_SS/Total_SS: \n",
      "92.30784902104759 % \n"
     ]
    }
   ],
   "source": [
    "ss = SS(km2, X) \n",
    "# \"within_ss\" in R corresponds to diagonal elements of ss\"\n",
    "print(\"Within_SS: \\n\")\n",
    "for i in 1:3 \n",
    "    print(ss[i,i], \"\\n\") \n",
    "end\n",
    "print(\"------------------------\\n\")\n",
    "\n",
    "# \"between_ss\" in R corresponds to sum of off-diagonal elements of ss\"\n",
    "print(\"Between_SS: \\n\")\n",
    "bss=0\n",
    "for i in 1:3 \n",
    "    for j in 1:3\n",
    "        if(i!=j)\n",
    "            bss+=ss[i,j]\n",
    "        end\n",
    "    end\n",
    "end\n",
    "print(bss, \"\\n\")\n",
    "print(\"------------------------\\n\")\n",
    "\n",
    "# \"tot.within_ss\" in R corresponds sum of diagonal elements os ss\"\n",
    "print(\"Tot.within_SS: \\n\")\n",
    "twss=0\n",
    "for i in 1:3 \n",
    "    twss+=ss[i,i]\n",
    "end\n",
    "print(twss, \"\\n\")\n",
    "print(\"------------------------\\n\")\n",
    "\n",
    "# \"total_ss\" in R corresponds sum of all elements os ss\"\n",
    "print(\"Total_SS: \\n\")\n",
    "tss=twss+bss\n",
    "print(tss, \"\\n\")\n",
    "print(\"------------------------\\n\")\n",
    "\n",
    "print(\"Between_SS/Total_SS: \\n\")\n",
    "print(bss/tss*100, \" % \\n\")\n",
    "\n",
    "\n"
   ]
  },
  {
   "cell_type": "code",
   "execution_count": 124,
   "metadata": {},
   "outputs": [
    {
     "data": {
      "text/plain": [
       "KmeansResult{Matrix{Float16}, Float16, Int64}(Float16[-0.9863 0.931 0.7705; 0.1321 -1.263 0.8145], [3, 1, 1, 1, 2, 1, 3, 3, 3, 1  …  3, 2, 3, 3, 3, 2, 2, 3, 3, 3], Float16[1.453, 0.2012, 1.148, 0.3965, 0.10156, 1.621, 0.6934, 0.838, 0.8984, 4.37  …  0.0996, 0.2734, 0.3945, 0.756, 0.793, 0.3633, 0.1133, 0.7607, 0.08594, 0.3672], [16, 11, 23], [16, 11, 23], Float16(44.25), 6, true)"
      ]
     },
     "execution_count": 124,
     "metadata": {},
     "output_type": "execute_result"
    }
   ],
   "source": [
    "Random.seed!(3) \n",
    "seed = initseeds(:kmpp, X, 1)\n",
    "km3a = kmeans(X, 3) \n",
    "seed = initseeds(:kmpp, X, 20)\n",
    "km3b = kmeans(X, 3) "
   ]
  },
  {
   "cell_type": "code",
   "execution_count": 125,
   "metadata": {},
   "outputs": [
    {
     "name": "stdout",
     "output_type": "stream",
     "text": [
      "Total_within_SS for n_init = 1: 57.17201232910156\n",
      "Total_within_SS for n_init = 20: 44.1976318359375\n"
     ]
    }
   ],
   "source": [
    "ssa = SS(km3a, X) \n",
    "ssb = SS(km3b, X) \n",
    "twssa = 0\n",
    "twssb = 0\n",
    "for i in 1:3\n",
    "    twssa+=ssa[i,i]\n",
    "    twssb+=ssb[i,i]\n",
    "end\n",
    "print(\"Total_within_SS for n_init = 1: \", twssa, \"\\n\")\n",
    "print(\"Total_within_SS for n_init = 20: \", twssb, \"\\n\")"
   ]
  }
 ],
 "metadata": {
  "kernelspec": {
   "display_name": "Julia 1.7.3",
   "language": "julia",
   "name": "julia-1.7"
  },
  "language_info": {
   "file_extension": ".jl",
   "mimetype": "application/julia",
   "name": "julia",
   "version": "1.7.3"
  },
  "orig_nbformat": 4,
  "vscode": {
   "interpreter": {
    "hash": "b0fa6594d8f4cbf19f97940f81e996739fb7646882a419484c72d19e05852a7e"
   }
  }
 },
 "nbformat": 4,
 "nbformat_minor": 2
}
