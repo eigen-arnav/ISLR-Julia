{
 "cells": [
  {
   "cell_type": "code",
   "execution_count": 82,
   "id": "40624935",
   "metadata": {},
   "outputs": [
    {
     "name": "stderr",
     "output_type": "stream",
     "text": [
      "\u001b[32m\u001b[1m   Resolving\u001b[22m\u001b[39m package versions...\n",
      "\u001b[32m\u001b[1m    Updating\u001b[22m\u001b[39m `~/.julia/environments/v1.8/Project.toml`\n",
      " \u001b[90m [0f1e0344] \u001b[39m\u001b[92m+ WebIO v0.8.20\u001b[39m\n",
      "\u001b[32m\u001b[1m  No Changes\u001b[22m\u001b[39m to `~/.julia/environments/v1.8/Manifest.toml`\n"
     ]
    }
   ],
   "source": [
    "using Pkg\n",
    "Pkg.add(\"WebIO\")"
   ]
  },
  {
   "cell_type": "code",
   "execution_count": 85,
   "id": "8c73c6ef",
   "metadata": {},
   "outputs": [
    {
     "ename": "LoadError",
     "evalue": "The WebIO Jupyter extension must be installed using Python or Conda. See https://juliagizmos.github.io/WebIO.jl/latest/providers/ijulia/ for more information.",
     "output_type": "error",
     "traceback": [
      "The WebIO Jupyter extension must be installed using Python or Conda. See https://juliagizmos.github.io/WebIO.jl/latest/providers/ijulia/ for more information.",
      "",
      "Stacktrace:",
      " [1] error(s::String)",
      "   @ Base ./error.jl:35",
      " [2] _error()",
      "   @ WebIO ~/.julia/packages/WebIO/rv35l/deps/jupyter.jl:1",
      " [3] find_jupyter_cmd(; kwargs::Base.Pairs{Symbol, Bool, Tuple{Symbol}, NamedTuple{(:force_conda_jupyter,), Tuple{Bool}}})",
      "   @ WebIO ~/.julia/packages/WebIO/rv35l/deps/jupyter.jl:7",
      " [4] top-level scope",
      "   @ In[85]:2",
      " [5] eval",
      "   @ ./boot.jl:368 [inlined]",
      " [6] include_string(mapexpr::typeof(REPL.softscope), mod::Module, code::String, filename::String)",
      "   @ Base ./loading.jl:1428"
     ]
    }
   ],
   "source": [
    "using WebIO\n",
    "WebIO.install_jupyter_nbextension(WebIO.find_jupyter_cmd(force_conda_jupyter=true))"
   ]
  },
  {
   "cell_type": "code",
   "execution_count": 1,
   "id": "f0bf6c05",
   "metadata": {},
   "outputs": [
    {
     "name": "stderr",
     "output_type": "stream",
     "text": [
      "┌ Info: Precompiling CSV [336ed68f-0bac-5ca0-87d4-7b16caf5d00b]\n",
      "└ @ Base loading.jl:1662\n",
      "┌ Info: Precompiling PlotlyJS [f0f68f2c-4968-5e81-91da-67840de0976a]\n",
      "└ @ Base loading.jl:1662\n"
     ]
    },
    {
     "data": {
      "application/vnd.webio.node+json": {
       "children": [],
       "instanceArgs": {
        "namespace": "html",
        "tag": "div"
       },
       "nodeType": "DOM",
       "props": {},
       "type": "node"
      },
      "text/html": [
       "<div style=\"padding: 1em; background-color: #f8d6da; border: 1px solid #f5c6cb; font-weight: bold;\">\n",
       "<p>The WebIO Jupyter extension was not detected. See the\n",
       "<a href=\"https://juliagizmos.github.io/WebIO.jl/latest/providers/ijulia/\" target=\"_blank\">\n",
       "    WebIO Jupyter integration documentation\n",
       "</a>\n",
       "for more information.\n",
       "</div>\n"
      ],
      "text/plain": [
       "WebIO._IJuliaInit()"
      ]
     },
     "metadata": {
      "application/vnd.webio.node+json": {
       "kernelId": "f698e010-9cc1-49a0-b695-2b9a1b20489b"
      }
     },
     "output_type": "display_data"
    },
    {
     "name": "stderr",
     "output_type": "stream",
     "text": [
      "┌ Info: Precompiling MLJ [add582a8-e3ab-11e8-2d5e-e98b27df1bc7]\n",
      "└ @ Base loading.jl:1662\n"
     ]
    }
   ],
   "source": [
    "using CSV\n",
    "using DataFrames\n",
    "using StatsBase\n",
    "using MultivariateStats \n",
    "using PlotlyJS,MLJ\n"
   ]
  },
  {
   "cell_type": "code",
   "execution_count": 104,
   "id": "b3a4164b",
   "metadata": {},
   "outputs": [
    {
     "name": "stdout",
     "output_type": "stream",
     "text": [
      "CSV.File\n"
     ]
    }
   ],
   "source": [
    "# read from csv file\n",
    "csv_reader = CSV.File(\"./Data/USArrests.csv\")\n",
    "println(typeof(csv_reader))"
   ]
  },
  {
   "cell_type": "code",
   "execution_count": 105,
   "id": "d7a92f2c",
   "metadata": {},
   "outputs": [
    {
     "data": {
      "text/html": [
       "<div><div style = \"float: left;\"><span>5×5 DataFrame</span></div><div style = \"clear: both;\"></div></div><div class = \"data-frame\" style = \"overflow-x: scroll;\"><table class = \"data-frame\" style = \"margin-bottom: 6px;\"><thead><tr class = \"header\"><th class = \"rowNumber\" style = \"font-weight: bold; text-align: right;\">Row</th><th style = \"text-align: left;\">Column1</th><th style = \"text-align: left;\">Murder</th><th style = \"text-align: left;\">Assault</th><th style = \"text-align: left;\">UrbanPop</th><th style = \"text-align: left;\">Rape</th></tr><tr class = \"subheader headerLastRow\"><th class = \"rowNumber\" style = \"font-weight: bold; text-align: right;\"></th><th title = \"String15\" style = \"text-align: left;\">String15</th><th title = \"Float64\" style = \"text-align: left;\">Float64</th><th title = \"Int64\" style = \"text-align: left;\">Int64</th><th title = \"Int64\" style = \"text-align: left;\">Int64</th><th title = \"Float64\" style = \"text-align: left;\">Float64</th></tr></thead><tbody><tr><td class = \"rowNumber\" style = \"font-weight: bold; text-align: right;\">1</td><td style = \"text-align: left;\">Alabama</td><td style = \"text-align: right;\">13.2</td><td style = \"text-align: right;\">236</td><td style = \"text-align: right;\">58</td><td style = \"text-align: right;\">21.2</td></tr><tr><td class = \"rowNumber\" style = \"font-weight: bold; text-align: right;\">2</td><td style = \"text-align: left;\">Alaska</td><td style = \"text-align: right;\">10.0</td><td style = \"text-align: right;\">263</td><td style = \"text-align: right;\">48</td><td style = \"text-align: right;\">44.5</td></tr><tr><td class = \"rowNumber\" style = \"font-weight: bold; text-align: right;\">3</td><td style = \"text-align: left;\">Arizona</td><td style = \"text-align: right;\">8.1</td><td style = \"text-align: right;\">294</td><td style = \"text-align: right;\">80</td><td style = \"text-align: right;\">31.0</td></tr><tr><td class = \"rowNumber\" style = \"font-weight: bold; text-align: right;\">4</td><td style = \"text-align: left;\">Arkansas</td><td style = \"text-align: right;\">8.8</td><td style = \"text-align: right;\">190</td><td style = \"text-align: right;\">50</td><td style = \"text-align: right;\">19.5</td></tr><tr><td class = \"rowNumber\" style = \"font-weight: bold; text-align: right;\">5</td><td style = \"text-align: left;\">California</td><td style = \"text-align: right;\">9.0</td><td style = \"text-align: right;\">276</td><td style = \"text-align: right;\">91</td><td style = \"text-align: right;\">40.6</td></tr></tbody></table></div>"
      ],
      "text/latex": [
       "\\begin{tabular}{r|ccccc}\n",
       "\t& Column1 & Murder & Assault & UrbanPop & Rape\\\\\n",
       "\t\\hline\n",
       "\t& String15 & Float64 & Int64 & Int64 & Float64\\\\\n",
       "\t\\hline\n",
       "\t1 & Alabama & 13.2 & 236 & 58 & 21.2 \\\\\n",
       "\t2 & Alaska & 10.0 & 263 & 48 & 44.5 \\\\\n",
       "\t3 & Arizona & 8.1 & 294 & 80 & 31.0 \\\\\n",
       "\t4 & Arkansas & 8.8 & 190 & 50 & 19.5 \\\\\n",
       "\t5 & California & 9.0 & 276 & 91 & 40.6 \\\\\n",
       "\\end{tabular}\n"
      ],
      "text/plain": [
       "\u001b[1m5×5 DataFrame\u001b[0m\n",
       "\u001b[1m Row \u001b[0m│\u001b[1m Column1    \u001b[0m\u001b[1m Murder  \u001b[0m\u001b[1m Assault \u001b[0m\u001b[1m UrbanPop \u001b[0m\u001b[1m Rape    \u001b[0m\n",
       "     │\u001b[90m String15   \u001b[0m\u001b[90m Float64 \u001b[0m\u001b[90m Int64   \u001b[0m\u001b[90m Int64    \u001b[0m\u001b[90m Float64 \u001b[0m\n",
       "─────┼─────────────────────────────────────────────────\n",
       "   1 │ Alabama        13.2      236        58     21.2\n",
       "   2 │ Alaska         10.0      263        48     44.5\n",
       "   3 │ Arizona         8.1      294        80     31.0\n",
       "   4 │ Arkansas        8.8      190        50     19.5\n",
       "   5 │ California      9.0      276        91     40.6"
      ]
     },
     "execution_count": 105,
     "metadata": {},
     "output_type": "execute_result"
    }
   ],
   "source": [
    "df = DataFrame(csv_reader)\n",
    "first(df,5)"
   ]
  },
  {
   "cell_type": "code",
   "execution_count": 106,
   "id": "835bcbc1",
   "metadata": {},
   "outputs": [
    {
     "data": {
      "text/html": [
       "<div><div style = \"float: left;\"><span>5×7 DataFrame</span></div><div style = \"clear: both;\"></div></div><div class = \"data-frame\" style = \"overflow-x: scroll;\"><table class = \"data-frame\" style = \"margin-bottom: 6px;\"><thead><tr class = \"header\"><th class = \"rowNumber\" style = \"font-weight: bold; text-align: right;\">Row</th><th style = \"text-align: left;\">variable</th><th style = \"text-align: left;\">mean</th><th style = \"text-align: left;\">min</th><th style = \"text-align: left;\">median</th><th style = \"text-align: left;\">max</th><th style = \"text-align: left;\">nmissing</th><th style = \"text-align: left;\">eltype</th></tr><tr class = \"subheader headerLastRow\"><th class = \"rowNumber\" style = \"font-weight: bold; text-align: right;\"></th><th title = \"Symbol\" style = \"text-align: left;\">Symbol</th><th title = \"Union{Nothing, Float64}\" style = \"text-align: left;\">Union…</th><th title = \"Any\" style = \"text-align: left;\">Any</th><th title = \"Union{Nothing, Float64}\" style = \"text-align: left;\">Union…</th><th title = \"Any\" style = \"text-align: left;\">Any</th><th title = \"Int64\" style = \"text-align: left;\">Int64</th><th title = \"DataType\" style = \"text-align: left;\">DataType</th></tr></thead><tbody><tr><td class = \"rowNumber\" style = \"font-weight: bold; text-align: right;\">1</td><td style = \"text-align: left;\">Column1</td><td style = \"font-style: italic; text-align: left;\"></td><td style = \"text-align: left;\">Alabama</td><td style = \"font-style: italic; text-align: left;\"></td><td style = \"text-align: left;\">Wyoming</td><td style = \"text-align: right;\">0</td><td style = \"text-align: left;\">String15</td></tr><tr><td class = \"rowNumber\" style = \"font-weight: bold; text-align: right;\">2</td><td style = \"text-align: left;\">Murder</td><td style = \"text-align: left;\">7.788</td><td style = \"text-align: left;\">0.8</td><td style = \"text-align: left;\">7.25</td><td style = \"text-align: left;\">17.4</td><td style = \"text-align: right;\">0</td><td style = \"text-align: left;\">Float64</td></tr><tr><td class = \"rowNumber\" style = \"font-weight: bold; text-align: right;\">3</td><td style = \"text-align: left;\">Assault</td><td style = \"text-align: left;\">170.76</td><td style = \"text-align: left;\">45</td><td style = \"text-align: left;\">159.0</td><td style = \"text-align: left;\">337</td><td style = \"text-align: right;\">0</td><td style = \"text-align: left;\">Int64</td></tr><tr><td class = \"rowNumber\" style = \"font-weight: bold; text-align: right;\">4</td><td style = \"text-align: left;\">UrbanPop</td><td style = \"text-align: left;\">65.54</td><td style = \"text-align: left;\">32</td><td style = \"text-align: left;\">66.0</td><td style = \"text-align: left;\">91</td><td style = \"text-align: right;\">0</td><td style = \"text-align: left;\">Int64</td></tr><tr><td class = \"rowNumber\" style = \"font-weight: bold; text-align: right;\">5</td><td style = \"text-align: left;\">Rape</td><td style = \"text-align: left;\">21.232</td><td style = \"text-align: left;\">7.3</td><td style = \"text-align: left;\">20.1</td><td style = \"text-align: left;\">46.0</td><td style = \"text-align: right;\">0</td><td style = \"text-align: left;\">Float64</td></tr></tbody></table></div>"
      ],
      "text/latex": [
       "\\begin{tabular}{r|ccccccc}\n",
       "\t& variable & mean & min & median & max & nmissing & eltype\\\\\n",
       "\t\\hline\n",
       "\t& Symbol & Union… & Any & Union… & Any & Int64 & DataType\\\\\n",
       "\t\\hline\n",
       "\t1 & Column1 &  & Alabama &  & Wyoming & 0 & String15 \\\\\n",
       "\t2 & Murder & 7.788 & 0.8 & 7.25 & 17.4 & 0 & Float64 \\\\\n",
       "\t3 & Assault & 170.76 & 45 & 159.0 & 337 & 0 & Int64 \\\\\n",
       "\t4 & UrbanPop & 65.54 & 32 & 66.0 & 91 & 0 & Int64 \\\\\n",
       "\t5 & Rape & 21.232 & 7.3 & 20.1 & 46.0 & 0 & Float64 \\\\\n",
       "\\end{tabular}\n"
      ],
      "text/plain": [
       "\u001b[1m5×7 DataFrame\u001b[0m\n",
       "\u001b[1m Row \u001b[0m│\u001b[1m variable \u001b[0m\u001b[1m mean   \u001b[0m\u001b[1m min     \u001b[0m\u001b[1m median \u001b[0m\u001b[1m max     \u001b[0m\u001b[1m nmissing \u001b[0m\u001b[1m eltype   \u001b[0m\n",
       "     │\u001b[90m Symbol   \u001b[0m\u001b[90m Union… \u001b[0m\u001b[90m Any     \u001b[0m\u001b[90m Union… \u001b[0m\u001b[90m Any     \u001b[0m\u001b[90m Int64    \u001b[0m\u001b[90m DataType \u001b[0m\n",
       "─────┼────────────────────────────────────────────────────────────────\n",
       "   1 │ Column1  \u001b[90m        \u001b[0m Alabama \u001b[90m        \u001b[0m Wyoming         0  String15\n",
       "   2 │ Murder    7.788   0.8      7.25    17.4            0  Float64\n",
       "   3 │ Assault   170.76  45       159.0   337             0  Int64\n",
       "   4 │ UrbanPop  65.54   32       66.0    91              0  Int64\n",
       "   5 │ Rape      21.232  7.3      20.1    46.0            0  Float64"
      ]
     },
     "execution_count": 106,
     "metadata": {},
     "output_type": "execute_result"
    }
   ],
   "source": [
    "describe(df)"
   ]
  },
  {
   "cell_type": "code",
   "execution_count": 107,
   "id": "32615c9d",
   "metadata": {},
   "outputs": [
    {
     "data": {
      "text/html": [
       "<div><div style = \"float: left;\"><span>50×4 DataFrame</span></div><div style = \"float: right;\"><span style = \"font-style: italic;\">25 rows omitted</span></div><div style = \"clear: both;\"></div></div><div class = \"data-frame\" style = \"overflow-x: scroll;\"><table class = \"data-frame\" style = \"margin-bottom: 6px;\"><thead><tr class = \"header\"><th class = \"rowNumber\" style = \"font-weight: bold; text-align: right;\">Row</th><th style = \"text-align: left;\">Murder</th><th style = \"text-align: left;\">Assault</th><th style = \"text-align: left;\">UrbanPop</th><th style = \"text-align: left;\">Rape</th></tr><tr class = \"subheader headerLastRow\"><th class = \"rowNumber\" style = \"font-weight: bold; text-align: right;\"></th><th title = \"Float64\" style = \"text-align: left;\">Float64</th><th title = \"Int64\" style = \"text-align: left;\">Int64</th><th title = \"Int64\" style = \"text-align: left;\">Int64</th><th title = \"Float64\" style = \"text-align: left;\">Float64</th></tr></thead><tbody><tr><td class = \"rowNumber\" style = \"font-weight: bold; text-align: right;\">1</td><td style = \"text-align: right;\">13.2</td><td style = \"text-align: right;\">236</td><td style = \"text-align: right;\">58</td><td style = \"text-align: right;\">21.2</td></tr><tr><td class = \"rowNumber\" style = \"font-weight: bold; text-align: right;\">2</td><td style = \"text-align: right;\">10.0</td><td style = \"text-align: right;\">263</td><td style = \"text-align: right;\">48</td><td style = \"text-align: right;\">44.5</td></tr><tr><td class = \"rowNumber\" style = \"font-weight: bold; text-align: right;\">3</td><td style = \"text-align: right;\">8.1</td><td style = \"text-align: right;\">294</td><td style = \"text-align: right;\">80</td><td style = \"text-align: right;\">31.0</td></tr><tr><td class = \"rowNumber\" style = \"font-weight: bold; text-align: right;\">4</td><td style = \"text-align: right;\">8.8</td><td style = \"text-align: right;\">190</td><td style = \"text-align: right;\">50</td><td style = \"text-align: right;\">19.5</td></tr><tr><td class = \"rowNumber\" style = \"font-weight: bold; text-align: right;\">5</td><td style = \"text-align: right;\">9.0</td><td style = \"text-align: right;\">276</td><td style = \"text-align: right;\">91</td><td style = \"text-align: right;\">40.6</td></tr><tr><td class = \"rowNumber\" style = \"font-weight: bold; text-align: right;\">6</td><td style = \"text-align: right;\">7.9</td><td style = \"text-align: right;\">204</td><td style = \"text-align: right;\">78</td><td style = \"text-align: right;\">38.7</td></tr><tr><td class = \"rowNumber\" style = \"font-weight: bold; text-align: right;\">7</td><td style = \"text-align: right;\">3.3</td><td style = \"text-align: right;\">110</td><td style = \"text-align: right;\">77</td><td style = \"text-align: right;\">11.1</td></tr><tr><td class = \"rowNumber\" style = \"font-weight: bold; text-align: right;\">8</td><td style = \"text-align: right;\">5.9</td><td style = \"text-align: right;\">238</td><td style = \"text-align: right;\">72</td><td style = \"text-align: right;\">15.8</td></tr><tr><td class = \"rowNumber\" style = \"font-weight: bold; text-align: right;\">9</td><td style = \"text-align: right;\">15.4</td><td style = \"text-align: right;\">335</td><td style = \"text-align: right;\">80</td><td style = \"text-align: right;\">31.9</td></tr><tr><td class = \"rowNumber\" style = \"font-weight: bold; text-align: right;\">10</td><td style = \"text-align: right;\">17.4</td><td style = \"text-align: right;\">211</td><td style = \"text-align: right;\">60</td><td style = \"text-align: right;\">25.8</td></tr><tr><td class = \"rowNumber\" style = \"font-weight: bold; text-align: right;\">11</td><td style = \"text-align: right;\">5.3</td><td style = \"text-align: right;\">46</td><td style = \"text-align: right;\">83</td><td style = \"text-align: right;\">20.2</td></tr><tr><td class = \"rowNumber\" style = \"font-weight: bold; text-align: right;\">12</td><td style = \"text-align: right;\">2.6</td><td style = \"text-align: right;\">120</td><td style = \"text-align: right;\">54</td><td style = \"text-align: right;\">14.2</td></tr><tr><td class = \"rowNumber\" style = \"font-weight: bold; text-align: right;\">13</td><td style = \"text-align: right;\">10.4</td><td style = \"text-align: right;\">249</td><td style = \"text-align: right;\">83</td><td style = \"text-align: right;\">24.0</td></tr><tr><td style = \"text-align: right;\">&vellip;</td><td style = \"text-align: right;\">&vellip;</td><td style = \"text-align: right;\">&vellip;</td><td style = \"text-align: right;\">&vellip;</td><td style = \"text-align: right;\">&vellip;</td></tr><tr><td class = \"rowNumber\" style = \"font-weight: bold; text-align: right;\">39</td><td style = \"text-align: right;\">3.4</td><td style = \"text-align: right;\">174</td><td style = \"text-align: right;\">87</td><td style = \"text-align: right;\">8.3</td></tr><tr><td class = \"rowNumber\" style = \"font-weight: bold; text-align: right;\">40</td><td style = \"text-align: right;\">14.4</td><td style = \"text-align: right;\">279</td><td style = \"text-align: right;\">48</td><td style = \"text-align: right;\">22.5</td></tr><tr><td class = \"rowNumber\" style = \"font-weight: bold; text-align: right;\">41</td><td style = \"text-align: right;\">3.8</td><td style = \"text-align: right;\">86</td><td style = \"text-align: right;\">45</td><td style = \"text-align: right;\">12.8</td></tr><tr><td class = \"rowNumber\" style = \"font-weight: bold; text-align: right;\">42</td><td style = \"text-align: right;\">13.2</td><td style = \"text-align: right;\">188</td><td style = \"text-align: right;\">59</td><td style = \"text-align: right;\">26.9</td></tr><tr><td class = \"rowNumber\" style = \"font-weight: bold; text-align: right;\">43</td><td style = \"text-align: right;\">12.7</td><td style = \"text-align: right;\">201</td><td style = \"text-align: right;\">80</td><td style = \"text-align: right;\">25.5</td></tr><tr><td class = \"rowNumber\" style = \"font-weight: bold; text-align: right;\">44</td><td style = \"text-align: right;\">3.2</td><td style = \"text-align: right;\">120</td><td style = \"text-align: right;\">80</td><td style = \"text-align: right;\">22.9</td></tr><tr><td class = \"rowNumber\" style = \"font-weight: bold; text-align: right;\">45</td><td style = \"text-align: right;\">2.2</td><td style = \"text-align: right;\">48</td><td style = \"text-align: right;\">32</td><td style = \"text-align: right;\">11.2</td></tr><tr><td class = \"rowNumber\" style = \"font-weight: bold; text-align: right;\">46</td><td style = \"text-align: right;\">8.5</td><td style = \"text-align: right;\">156</td><td style = \"text-align: right;\">63</td><td style = \"text-align: right;\">20.7</td></tr><tr><td class = \"rowNumber\" style = \"font-weight: bold; text-align: right;\">47</td><td style = \"text-align: right;\">4.0</td><td style = \"text-align: right;\">145</td><td style = \"text-align: right;\">73</td><td style = \"text-align: right;\">26.2</td></tr><tr><td class = \"rowNumber\" style = \"font-weight: bold; text-align: right;\">48</td><td style = \"text-align: right;\">5.7</td><td style = \"text-align: right;\">81</td><td style = \"text-align: right;\">39</td><td style = \"text-align: right;\">9.3</td></tr><tr><td class = \"rowNumber\" style = \"font-weight: bold; text-align: right;\">49</td><td style = \"text-align: right;\">2.6</td><td style = \"text-align: right;\">53</td><td style = \"text-align: right;\">66</td><td style = \"text-align: right;\">10.8</td></tr><tr><td class = \"rowNumber\" style = \"font-weight: bold; text-align: right;\">50</td><td style = \"text-align: right;\">6.8</td><td style = \"text-align: right;\">161</td><td style = \"text-align: right;\">60</td><td style = \"text-align: right;\">15.6</td></tr></tbody></table></div>"
      ],
      "text/latex": [
       "\\begin{tabular}{r|cccc}\n",
       "\t& Murder & Assault & UrbanPop & Rape\\\\\n",
       "\t\\hline\n",
       "\t& Float64 & Int64 & Int64 & Float64\\\\\n",
       "\t\\hline\n",
       "\t1 & 13.2 & 236 & 58 & 21.2 \\\\\n",
       "\t2 & 10.0 & 263 & 48 & 44.5 \\\\\n",
       "\t3 & 8.1 & 294 & 80 & 31.0 \\\\\n",
       "\t4 & 8.8 & 190 & 50 & 19.5 \\\\\n",
       "\t5 & 9.0 & 276 & 91 & 40.6 \\\\\n",
       "\t6 & 7.9 & 204 & 78 & 38.7 \\\\\n",
       "\t7 & 3.3 & 110 & 77 & 11.1 \\\\\n",
       "\t8 & 5.9 & 238 & 72 & 15.8 \\\\\n",
       "\t9 & 15.4 & 335 & 80 & 31.9 \\\\\n",
       "\t10 & 17.4 & 211 & 60 & 25.8 \\\\\n",
       "\t11 & 5.3 & 46 & 83 & 20.2 \\\\\n",
       "\t12 & 2.6 & 120 & 54 & 14.2 \\\\\n",
       "\t13 & 10.4 & 249 & 83 & 24.0 \\\\\n",
       "\t14 & 7.2 & 113 & 65 & 21.0 \\\\\n",
       "\t15 & 2.2 & 56 & 57 & 11.3 \\\\\n",
       "\t16 & 6.0 & 115 & 66 & 18.0 \\\\\n",
       "\t17 & 9.7 & 109 & 52 & 16.3 \\\\\n",
       "\t18 & 15.4 & 249 & 66 & 22.2 \\\\\n",
       "\t19 & 2.1 & 83 & 51 & 7.8 \\\\\n",
       "\t20 & 11.3 & 300 & 67 & 27.8 \\\\\n",
       "\t21 & 4.4 & 149 & 85 & 16.3 \\\\\n",
       "\t22 & 12.1 & 255 & 74 & 35.1 \\\\\n",
       "\t23 & 2.7 & 72 & 66 & 14.9 \\\\\n",
       "\t24 & 16.1 & 259 & 44 & 17.1 \\\\\n",
       "\t25 & 9.0 & 178 & 70 & 28.2 \\\\\n",
       "\t26 & 6.0 & 109 & 53 & 16.4 \\\\\n",
       "\t27 & 4.3 & 102 & 62 & 16.5 \\\\\n",
       "\t28 & 12.2 & 252 & 81 & 46.0 \\\\\n",
       "\t29 & 2.1 & 57 & 56 & 9.5 \\\\\n",
       "\t30 & 7.4 & 159 & 89 & 18.8 \\\\\n",
       "\t$\\dots$ & $\\dots$ & $\\dots$ & $\\dots$ & $\\dots$ \\\\\n",
       "\\end{tabular}\n"
      ],
      "text/plain": [
       "\u001b[1m50×4 DataFrame\u001b[0m\n",
       "\u001b[1m Row \u001b[0m│\u001b[1m Murder  \u001b[0m\u001b[1m Assault \u001b[0m\u001b[1m UrbanPop \u001b[0m\u001b[1m Rape    \u001b[0m\n",
       "     │\u001b[90m Float64 \u001b[0m\u001b[90m Int64   \u001b[0m\u001b[90m Int64    \u001b[0m\u001b[90m Float64 \u001b[0m\n",
       "─────┼─────────────────────────────────────\n",
       "   1 │    13.2      236        58     21.2\n",
       "   2 │    10.0      263        48     44.5\n",
       "   3 │     8.1      294        80     31.0\n",
       "   4 │     8.8      190        50     19.5\n",
       "   5 │     9.0      276        91     40.6\n",
       "   6 │     7.9      204        78     38.7\n",
       "   7 │     3.3      110        77     11.1\n",
       "   8 │     5.9      238        72     15.8\n",
       "   9 │    15.4      335        80     31.9\n",
       "  10 │    17.4      211        60     25.8\n",
       "  11 │     5.3       46        83     20.2\n",
       "  ⋮  │    ⋮        ⋮        ⋮         ⋮\n",
       "  41 │     3.8       86        45     12.8\n",
       "  42 │    13.2      188        59     26.9\n",
       "  43 │    12.7      201        80     25.5\n",
       "  44 │     3.2      120        80     22.9\n",
       "  45 │     2.2       48        32     11.2\n",
       "  46 │     8.5      156        63     20.7\n",
       "  47 │     4.0      145        73     26.2\n",
       "  48 │     5.7       81        39      9.3\n",
       "  49 │     2.6       53        66     10.8\n",
       "  50 │     6.8      161        60     15.6\n",
       "\u001b[36m                            29 rows omitted\u001b[0m"
      ]
     },
     "execution_count": 107,
     "metadata": {},
     "output_type": "execute_result"
    }
   ],
   "source": [
    "newdf = df[!, Not(\"Column1\")]"
   ]
  },
  {
   "cell_type": "code",
   "execution_count": 126,
   "id": "7416c555",
   "metadata": {
    "scrolled": true
   },
   "outputs": [
    {
     "data": {
      "text/plain": [
       "4×50 adjoint(::Matrix{Float64}) with eltype Float64:\n",
       "  1.24256      0.507862  0.0716334  …  -0.479393  -1.19113    -0.226839\n",
       "  0.782839     1.10682   1.4788        -1.07706   -1.41305    -0.117114\n",
       " -0.520907    -1.21176   0.99898       -1.83354    0.0317794  -0.382735\n",
       " -0.00341647   2.4842    1.04288       -1.27392   -1.11377    -0.601299"
      ]
     },
     "execution_count": 126,
     "metadata": {},
     "output_type": "execute_result"
    }
   ],
   "source": [
    "df1 = Matrix(newdf) #convert dataframe to matrix\n",
    "dt_std = standardize(ZScoreTransform, df1, dims=1)\n",
    "dt_std = dt_std' #take transpose because julia fit function needs transpose"
   ]
  },
  {
   "cell_type": "code",
   "execution_count": 139,
   "id": "60cab4ce",
   "metadata": {
    "scrolled": true
   },
   "outputs": [
    {
     "data": {
      "text/plain": [
       "PCA(indim = 4, outdim = 4, principalratio = 1.0)\n",
       "\n",
       "Pattern matrix (unstandardized loadings):\n",
       "─────────────────────────────────────────────\n",
       "        PC1        PC2        PC3         PC4\n",
       "─────────────────────────────────────────────\n",
       "1  0.843976  -0.416035   0.20376    0.270371\n",
       "2  0.918443  -0.187021   0.160119  -0.309592\n",
       "3  0.438117   0.868328   0.225724   0.0557533\n",
       "4  0.855839   0.16646   -0.488319   0.0370741\n",
       "─────────────────────────────────────────────\n",
       "\n",
       "Importance of components:\n",
       "──────────────────────────────────────────────────────────────────\n",
       "                               PC1       PC2        PC3        PC4\n",
       "──────────────────────────────────────────────────────────────────\n",
       "SS Loadings (Eigenvalues)  2.48024  0.989765  0.356563   0.17343\n",
       "Variance explained         0.62006  0.247441  0.0891408  0.0433575\n",
       "Cumulative variance        0.62006  0.867502  0.956642   1.0\n",
       "Proportion explained       0.62006  0.247441  0.0891408  0.0433575\n",
       "Cumulative proportion      0.62006  0.867502  0.956642   1.0\n",
       "──────────────────────────────────────────────────────────────────"
      ]
     },
     "execution_count": 139,
     "metadata": {},
     "output_type": "execute_result"
    }
   ],
   "source": [
    "M = fit(PCA,dt_std;maxoutdim=4)"
   ]
  },
  {
   "cell_type": "code",
   "execution_count": 140,
   "id": "af29b5bf",
   "metadata": {},
   "outputs": [
    {
     "data": {
      "text/plain": [
       "50×4 adjoint(::Matrix{Float64}) with eltype Float64:\n",
       "  0.97566     1.122      -0.439804    0.154697\n",
       "  1.93054     1.06243     2.0195     -0.434175\n",
       "  1.74544    -0.73846     0.0542302  -0.826264\n",
       " -0.139999    1.10854     0.113422   -0.180974\n",
       "  2.49861    -1.52743     0.592541   -0.338559\n",
       "  1.49934    -0.97763     1.084       0.00145016\n",
       " -1.34499    -1.07798    -0.636793   -0.117279\n",
       "  0.0472298  -0.322089   -0.71141    -0.873113\n",
       "  2.98276     0.0388342  -0.571032   -0.095317\n",
       "  1.62281     1.26609    -0.339018    1.06597\n",
       " -0.903484   -1.55468     0.0502715   0.893733\n",
       " -1.62332     0.208853    0.25719    -0.494088\n",
       "  1.36505    -0.674988   -0.670686   -0.120795\n",
       "  ⋮                                  \n",
       " -0.855091   -1.47698    -1.35618    -0.607403\n",
       "  1.30745     1.91397    -0.297517   -0.130145\n",
       " -1.9678      0.815068    0.385381   -0.108471\n",
       "  0.989694    0.851605    0.186193    0.646303\n",
       "  1.34152    -0.408335   -0.487123    0.636731\n",
       " -0.545032   -1.45672     0.290776   -0.0814867\n",
       " -2.77326     1.38819     0.832808   -0.143434\n",
       " -0.0953667   0.197728    0.0115948   0.209246\n",
       " -0.214723   -0.960374    0.618591   -0.218628\n",
       " -2.08739     1.41053     0.103722    0.130583\n",
       " -2.05881    -0.605125   -0.137469    0.182253\n",
       " -0.623101    0.317787   -0.23824    -0.164977"
      ]
     },
     "execution_count": 140,
     "metadata": {},
     "output_type": "execute_result"
    }
   ],
   "source": [
    "dt_transformed = MultivariateStats.transform(M, dt_std)\n",
    "pca_mat = dt_transformed'\n",
    "pca_mat[:,1] = -pca_mat[:,1]\n",
    "pca_mat[:,2] = -pca_mat[:,2]\n",
    "pca_mat"
   ]
  },
  {
   "cell_type": "code",
   "execution_count": 142,
   "id": "bc61f5d3",
   "metadata": {
    "scrolled": true
   },
   "outputs": [
    {
     "data": {
      "text/html": [
       "<div><div style = \"float: left;\"><span>50×3 DataFrame</span></div><div style = \"float: right;\"><span style = \"font-style: italic;\">25 rows omitted</span></div><div style = \"clear: both;\"></div></div><div class = \"data-frame\" style = \"overflow-x: scroll;\"><table class = \"data-frame\" style = \"margin-bottom: 6px;\"><thead><tr class = \"header\"><th class = \"rowNumber\" style = \"font-weight: bold; text-align: right;\">Row</th><th style = \"text-align: left;\">city</th><th style = \"text-align: left;\">PC1</th><th style = \"text-align: left;\">PC2</th></tr><tr class = \"subheader headerLastRow\"><th class = \"rowNumber\" style = \"font-weight: bold; text-align: right;\"></th><th title = \"String15\" style = \"text-align: left;\">String15</th><th title = \"Float64\" style = \"text-align: left;\">Float64</th><th title = \"Float64\" style = \"text-align: left;\">Float64</th></tr></thead><tbody><tr><td class = \"rowNumber\" style = \"font-weight: bold; text-align: right;\">1</td><td style = \"text-align: left;\">Alabama</td><td style = \"text-align: right;\">0.97566</td><td style = \"text-align: right;\">1.122</td></tr><tr><td class = \"rowNumber\" style = \"font-weight: bold; text-align: right;\">2</td><td style = \"text-align: left;\">Alaska</td><td style = \"text-align: right;\">1.93054</td><td style = \"text-align: right;\">1.06243</td></tr><tr><td class = \"rowNumber\" style = \"font-weight: bold; text-align: right;\">3</td><td style = \"text-align: left;\">Arizona</td><td style = \"text-align: right;\">1.74544</td><td style = \"text-align: right;\">-0.73846</td></tr><tr><td class = \"rowNumber\" style = \"font-weight: bold; text-align: right;\">4</td><td style = \"text-align: left;\">Arkansas</td><td style = \"text-align: right;\">-0.139999</td><td style = \"text-align: right;\">1.10854</td></tr><tr><td class = \"rowNumber\" style = \"font-weight: bold; text-align: right;\">5</td><td style = \"text-align: left;\">California</td><td style = \"text-align: right;\">2.49861</td><td style = \"text-align: right;\">-1.52743</td></tr><tr><td class = \"rowNumber\" style = \"font-weight: bold; text-align: right;\">6</td><td style = \"text-align: left;\">Colorado</td><td style = \"text-align: right;\">1.49934</td><td style = \"text-align: right;\">-0.97763</td></tr><tr><td class = \"rowNumber\" style = \"font-weight: bold; text-align: right;\">7</td><td style = \"text-align: left;\">Connecticut</td><td style = \"text-align: right;\">-1.34499</td><td style = \"text-align: right;\">-1.07798</td></tr><tr><td class = \"rowNumber\" style = \"font-weight: bold; text-align: right;\">8</td><td style = \"text-align: left;\">Delaware</td><td style = \"text-align: right;\">0.0472298</td><td style = \"text-align: right;\">-0.322089</td></tr><tr><td class = \"rowNumber\" style = \"font-weight: bold; text-align: right;\">9</td><td style = \"text-align: left;\">Florida</td><td style = \"text-align: right;\">2.98276</td><td style = \"text-align: right;\">0.0388342</td></tr><tr><td class = \"rowNumber\" style = \"font-weight: bold; text-align: right;\">10</td><td style = \"text-align: left;\">Georgia</td><td style = \"text-align: right;\">1.62281</td><td style = \"text-align: right;\">1.26609</td></tr><tr><td class = \"rowNumber\" style = \"font-weight: bold; text-align: right;\">11</td><td style = \"text-align: left;\">Hawaii</td><td style = \"text-align: right;\">-0.903484</td><td style = \"text-align: right;\">-1.55468</td></tr><tr><td class = \"rowNumber\" style = \"font-weight: bold; text-align: right;\">12</td><td style = \"text-align: left;\">Idaho</td><td style = \"text-align: right;\">-1.62332</td><td style = \"text-align: right;\">0.208853</td></tr><tr><td class = \"rowNumber\" style = \"font-weight: bold; text-align: right;\">13</td><td style = \"text-align: left;\">Illinois</td><td style = \"text-align: right;\">1.36505</td><td style = \"text-align: right;\">-0.674988</td></tr><tr><td style = \"text-align: right;\">&vellip;</td><td style = \"text-align: right;\">&vellip;</td><td style = \"text-align: right;\">&vellip;</td><td style = \"text-align: right;\">&vellip;</td></tr><tr><td class = \"rowNumber\" style = \"font-weight: bold; text-align: right;\">39</td><td style = \"text-align: left;\">Rhode Island</td><td style = \"text-align: right;\">-0.855091</td><td style = \"text-align: right;\">-1.47698</td></tr><tr><td class = \"rowNumber\" style = \"font-weight: bold; text-align: right;\">40</td><td style = \"text-align: left;\">South Carolina</td><td style = \"text-align: right;\">1.30745</td><td style = \"text-align: right;\">1.91397</td></tr><tr><td class = \"rowNumber\" style = \"font-weight: bold; text-align: right;\">41</td><td style = \"text-align: left;\">South Dakota</td><td style = \"text-align: right;\">-1.9678</td><td style = \"text-align: right;\">0.815068</td></tr><tr><td class = \"rowNumber\" style = \"font-weight: bold; text-align: right;\">42</td><td style = \"text-align: left;\">Tennessee</td><td style = \"text-align: right;\">0.989694</td><td style = \"text-align: right;\">0.851605</td></tr><tr><td class = \"rowNumber\" style = \"font-weight: bold; text-align: right;\">43</td><td style = \"text-align: left;\">Texas</td><td style = \"text-align: right;\">1.34152</td><td style = \"text-align: right;\">-0.408335</td></tr><tr><td class = \"rowNumber\" style = \"font-weight: bold; text-align: right;\">44</td><td style = \"text-align: left;\">Utah</td><td style = \"text-align: right;\">-0.545032</td><td style = \"text-align: right;\">-1.45672</td></tr><tr><td class = \"rowNumber\" style = \"font-weight: bold; text-align: right;\">45</td><td style = \"text-align: left;\">Vermont</td><td style = \"text-align: right;\">-2.77326</td><td style = \"text-align: right;\">1.38819</td></tr><tr><td class = \"rowNumber\" style = \"font-weight: bold; text-align: right;\">46</td><td style = \"text-align: left;\">Virginia</td><td style = \"text-align: right;\">-0.0953667</td><td style = \"text-align: right;\">0.197728</td></tr><tr><td class = \"rowNumber\" style = \"font-weight: bold; text-align: right;\">47</td><td style = \"text-align: left;\">Washington</td><td style = \"text-align: right;\">-0.214723</td><td style = \"text-align: right;\">-0.960374</td></tr><tr><td class = \"rowNumber\" style = \"font-weight: bold; text-align: right;\">48</td><td style = \"text-align: left;\">West Virginia</td><td style = \"text-align: right;\">-2.08739</td><td style = \"text-align: right;\">1.41053</td></tr><tr><td class = \"rowNumber\" style = \"font-weight: bold; text-align: right;\">49</td><td style = \"text-align: left;\">Wisconsin</td><td style = \"text-align: right;\">-2.05881</td><td style = \"text-align: right;\">-0.605125</td></tr><tr><td class = \"rowNumber\" style = \"font-weight: bold; text-align: right;\">50</td><td style = \"text-align: left;\">Wyoming</td><td style = \"text-align: right;\">-0.623101</td><td style = \"text-align: right;\">0.317787</td></tr></tbody></table></div>"
      ],
      "text/latex": [
       "\\begin{tabular}{r|ccc}\n",
       "\t& city & PC1 & PC2\\\\\n",
       "\t\\hline\n",
       "\t& String15 & Float64 & Float64\\\\\n",
       "\t\\hline\n",
       "\t1 & Alabama & 0.97566 & 1.122 \\\\\n",
       "\t2 & Alaska & 1.93054 & 1.06243 \\\\\n",
       "\t3 & Arizona & 1.74544 & -0.73846 \\\\\n",
       "\t4 & Arkansas & -0.139999 & 1.10854 \\\\\n",
       "\t5 & California & 2.49861 & -1.52743 \\\\\n",
       "\t6 & Colorado & 1.49934 & -0.97763 \\\\\n",
       "\t7 & Connecticut & -1.34499 & -1.07798 \\\\\n",
       "\t8 & Delaware & 0.0472298 & -0.322089 \\\\\n",
       "\t9 & Florida & 2.98276 & 0.0388342 \\\\\n",
       "\t10 & Georgia & 1.62281 & 1.26609 \\\\\n",
       "\t11 & Hawaii & -0.903484 & -1.55468 \\\\\n",
       "\t12 & Idaho & -1.62332 & 0.208853 \\\\\n",
       "\t13 & Illinois & 1.36505 & -0.674988 \\\\\n",
       "\t14 & Indiana & -0.500381 & -0.150039 \\\\\n",
       "\t15 & Iowa & -2.231 & -0.103008 \\\\\n",
       "\t16 & Kansas & -0.788872 & -0.267449 \\\\\n",
       "\t17 & Kentucky & -0.743313 & 0.948807 \\\\\n",
       "\t18 & Louisiana & 1.54909 & 0.8623 \\\\\n",
       "\t19 & Maine & -2.37274 & 0.372609 \\\\\n",
       "\t20 & Maryland & 1.74565 & 0.423357 \\\\\n",
       "\t21 & Massachusetts & -0.48128 & -1.45968 \\\\\n",
       "\t22 & Michigan & 2.08725 & -0.153835 \\\\\n",
       "\t23 & Minnesota & -1.67567 & -0.625907 \\\\\n",
       "\t24 & Mississippi & 0.986479 & 2.36974 \\\\\n",
       "\t25 & Missouri & 0.689784 & -0.260708 \\\\\n",
       "\t26 & Montana & -1.17354 & 0.531479 \\\\\n",
       "\t27 & Nebraska & -1.25292 & -0.192004 \\\\\n",
       "\t28 & Nevada & 2.84551 & -0.767805 \\\\\n",
       "\t29 & New Hampshire & -2.35996 & -0.0179006 \\\\\n",
       "\t30 & New Jersey & 0.179741 & -1.43494 \\\\\n",
       "\t$\\dots$ & $\\dots$ & $\\dots$ & $\\dots$ \\\\\n",
       "\\end{tabular}\n"
      ],
      "text/plain": [
       "\u001b[1m50×3 DataFrame\u001b[0m\n",
       "\u001b[1m Row \u001b[0m│\u001b[1m city           \u001b[0m\u001b[1m PC1        \u001b[0m\u001b[1m PC2        \u001b[0m\n",
       "     │\u001b[90m String15       \u001b[0m\u001b[90m Float64    \u001b[0m\u001b[90m Float64    \u001b[0m\n",
       "─────┼────────────────────────────────────────\n",
       "   1 │ Alabama          0.97566     1.122\n",
       "   2 │ Alaska           1.93054     1.06243\n",
       "   3 │ Arizona          1.74544    -0.73846\n",
       "   4 │ Arkansas        -0.139999    1.10854\n",
       "   5 │ California       2.49861    -1.52743\n",
       "   6 │ Colorado         1.49934    -0.97763\n",
       "   7 │ Connecticut     -1.34499    -1.07798\n",
       "   8 │ Delaware         0.0472298  -0.322089\n",
       "   9 │ Florida          2.98276     0.0388342\n",
       "  10 │ Georgia          1.62281     1.26609\n",
       "  11 │ Hawaii          -0.903484   -1.55468\n",
       "  ⋮  │       ⋮             ⋮           ⋮\n",
       "  41 │ South Dakota    -1.9678      0.815068\n",
       "  42 │ Tennessee        0.989694    0.851605\n",
       "  43 │ Texas            1.34152    -0.408335\n",
       "  44 │ Utah            -0.545032   -1.45672\n",
       "  45 │ Vermont         -2.77326     1.38819\n",
       "  46 │ Virginia        -0.0953667   0.197728\n",
       "  47 │ Washington      -0.214723   -0.960374\n",
       "  48 │ West Virginia   -2.08739     1.41053\n",
       "  49 │ Wisconsin       -2.05881    -0.605125\n",
       "  50 │ Wyoming         -0.623101    0.317787\n",
       "\u001b[36m                               29 rows omitted\u001b[0m"
      ]
     },
     "execution_count": 142,
     "metadata": {},
     "output_type": "execute_result"
    }
   ],
   "source": [
    "load = MultivariateStats.loadings(M::PCA)\n",
    "pca_df = DataFrame(pca_mat[:,1:2], :auto)\n",
    "pca_df = rename!(pca_df,[:PC1,:PC2])\n",
    "pca_df = insertcols!(pca_df, 1, :city => df[:,\"Column1\"])\n",
    "proj = MultivariateStats.projection(M::PCA)\n",
    "pca_df"
   ]
  },
  {
   "cell_type": "code",
   "execution_count": 143,
   "id": "e829e61e",
   "metadata": {},
   "outputs": [
    {
     "data": {
      "text/plain": [
       "4×4 Matrix{Float64}:\n",
       " 0.535899   0.418181  -0.341233   0.649228\n",
       " 0.583184   0.187986  -0.268148  -0.743407\n",
       " 0.278191  -0.872806  -0.378016   0.133878\n",
       " 0.543432  -0.167319   0.817778   0.0890243"
      ]
     },
     "execution_count": 143,
     "metadata": {},
     "output_type": "execute_result"
    }
   ],
   "source": [
    "proj[:,1] = -1 * proj[:,1]\n",
    "proj[:,2] = -1 * proj[:,2]\n",
    "proj"
   ]
  },
  {
   "cell_type": "code",
   "execution_count": 77,
   "id": "414d0c05",
   "metadata": {},
   "outputs": [
    {
     "data": {
      "text/plain": [
       "4×4 Matrix{Float64}:\n",
       "  1.0        -6.5611e-8    3.8341e-8   -2.8685e-7\n",
       " -6.5611e-8   1.0         -3.91387e-7  -2.22358e-7\n",
       "  3.8341e-8  -3.91387e-7   1.0         -1.07526e-6\n",
       " -2.8685e-7  -2.22358e-7  -1.07526e-6   1.0"
      ]
     },
     "execution_count": 77,
     "metadata": {},
     "output_type": "execute_result"
    }
   ],
   "source": [
    "matrx  = [[0.535899,0.583184,0.278191,0.543432] [0.418181,0.187986,-0.872806,-0.167319] [-0.341233,-0.268148,-0.378016,0.817778] [0.649228,-0.743407,0.133878,0.089024]]\n",
    "matrx' * matrx"
   ]
  },
  {
   "cell_type": "code",
   "execution_count": 144,
   "id": "cf8a2861",
   "metadata": {},
   "outputs": [
    {
     "data": {
      "application/vnd.plotly.v1+json": {
       "config": {
        "editable": false,
        "responsive": true,
        "scrollZoom": true,
        "showLink": false,
        "staticPlot": false
       },
       "data": [
        {
         "mode": "markers",
         "text": [
          "Alabama",
          "Alaska",
          "Arizona",
          "Arkansas",
          "California",
          "Colorado",
          "Connecticut",
          "Delaware",
          "Florida",
          "Georgia",
          "Hawaii",
          "Idaho",
          "Illinois",
          "Indiana",
          "Iowa",
          "Kansas",
          "Kentucky",
          "Louisiana",
          "Maine",
          "Maryland",
          "Massachusetts",
          "Michigan",
          "Minnesota",
          "Mississippi",
          "Missouri",
          "Montana",
          "Nebraska",
          "Nevada",
          "New Hampshire",
          "New Jersey",
          "New Mexico",
          "New York",
          "North Carolina",
          "North Dakota",
          "Ohio",
          "Oklahoma",
          "Oregon",
          "Pennsylvania",
          "Rhode Island",
          "South Carolina",
          "South Dakota",
          "Tennessee",
          "Texas",
          "Utah",
          "Vermont",
          "Virginia",
          "Washington",
          "West Virginia",
          "Wisconsin",
          "Wyoming"
         ],
         "type": "scatter",
         "x": [
          0.9756604483336051,
          1.9305378785136846,
          1.745442853390599,
          -0.13999894434859467,
          2.498612848258581,
          1.499340737465524,
          -1.3449923649468496,
          0.047229806346894485,
          2.9827596698505277,
          1.622807418222746,
          -0.9034844794674851,
          -1.6233190333549075,
          1.365051973447636,
          -0.5003812184673619,
          -2.2309957855600246,
          -0.7888720624575069,
          -0.7433125605025752,
          1.5490907634214186,
          -2.372740138111474,
          1.745646633314265,
          -0.481280070041076,
          2.087250248902095,
          -1.6756695050968446,
          0.9864791853362918,
          0.6897842639943722,
          -1.1735375139692663,
          -1.2529162530451288,
          2.8455054179847705,
          -2.3599558521098043,
          0.17974127831177295,
          1.9601235131682238,
          1.665666621722479,
          1.1120880825676005,
          -2.9621522325069076,
          -0.22369435549765643,
          -0.308649279454715,
          0.05852786998113066,
          -0.8794867951994911,
          -0.8550907170076977,
          1.307449860853714,
          -1.9677966936869937,
          0.9896937743255932,
          1.3415183816678147,
          -0.5450318025550063,
          -2.7732561335497175,
          -0.09536669660002177,
          -0.2147233898343467,
          -2.0873930566766115,
          -2.05881198847966,
          -0.6231006068536146
         ],
         "xaxis": "x",
         "y": [
          1.1220012104334105,
          1.0624269195344436,
          -0.7384595372849996,
          1.10854225950591,
          -1.5274267208247936,
          -0.9776296565249839,
          -1.0779836152260318,
          -0.3220889026605659,
          0.038834246859399214,
          1.2660883840552655,
          -1.5546760937371955,
          0.20885253273339763,
          -0.6749883397629851,
          -0.1500392615172705,
          -0.10300827640612174,
          -0.2674494127422898,
          0.948807476193182,
          0.862300114746538,
          0.3726086500178088,
          0.42335704082903,
          -1.4596770604989306,
          -0.1538350021147518,
          -0.6259067048852619,
          2.369737124906746,
          -0.2607079413472625,
          0.5314785122670808,
          -0.19200439646708173,
          -0.7678050213538238,
          -0.017900553527079983,
          -1.4349374455975772,
          0.14141307772202596,
          -0.8149107245170952,
          2.205610814459266,
          0.5930973769175417,
          -0.7347783670247322,
          -0.2849611251679634,
          -0.5359699945368165,
          -0.5653605046070161,
          -1.4769832840952604,
          1.913972966720078,
          0.8150682245643797,
          0.8516053434826716,
          -0.4083351779699479,
          -1.4567152419227571,
          1.3881943501900351,
          0.1977278483532986,
          -0.9603739438193805,
          1.410526272184464,
          -0.6051250651368577,
          0.3177866246008613
         ],
         "yaxis": "y"
        }
       ],
       "frames": [],
       "layout": {
        "annotations": [
         {
          "text": "Murder",
          "x": 0.535899474938155,
          "xanchor": "center",
          "y": 0.5831836349096702,
          "yanchor": "bottom"
         },
         {
          "text": "Assault",
          "x": 0.41818086542095456,
          "xanchor": "center",
          "y": 0.18798560423193877,
          "yanchor": "bottom"
         },
         {
          "text": "UrbanPop",
          "x": -0.3412327279528282,
          "xanchor": "center",
          "y": -0.2681484278328857,
          "yanchor": "bottom"
         },
         {
          "text": "Rape",
          "x": 0.6492278043419445,
          "xanchor": "center",
          "y": -0.7434074799367093,
          "yanchor": "bottom"
         }
        ],
        "legend": {
         "tracegroupgap": 0
        },
        "margin": {
         "b": 50,
         "l": 50,
         "r": 50,
         "t": 60
        },
        "shapes": [
         {
          "type": "line",
          "x0": 0,
          "x1": 0.535899474938155,
          "y0": 0,
          "y1": 0.5831836349096702
         },
         {
          "type": "line",
          "x0": 0,
          "x1": 0.41818086542095456,
          "y0": 0,
          "y1": 0.18798560423193877
         },
         {
          "type": "line",
          "x0": 0,
          "x1": -0.3412327279528282,
          "y0": 0,
          "y1": -0.2681484278328857
         },
         {
          "type": "line",
          "x0": 0,
          "x1": 0.6492278043419445,
          "y0": 0,
          "y1": -0.7434074799367093
         }
        ],
        "template": {
         "data": {
          "bar": [
           {
            "error_x": {
             "color": "#2a3f5f"
            },
            "error_y": {
             "color": "#2a3f5f"
            },
            "marker": {
             "line": {
              "color": "#E5ECF6",
              "width": 0.5
             }
            },
            "type": "bar"
           }
          ],
          "barpolar": [
           {
            "marker": {
             "line": {
              "color": "#E5ECF6",
              "width": 0.5
             }
            },
            "type": "barpolar"
           }
          ],
          "carpet": [
           {
            "aaxis": {
             "endlinecolor": "#2a3f5f",
             "gridcolor": "white",
             "linecolor": "white",
             "minorgridcolor": "white",
             "startlinecolor": "#2a3f5f"
            },
            "baxis": {
             "endlinecolor": "#2a3f5f",
             "gridcolor": "white",
             "linecolor": "white",
             "minorgridcolor": "white",
             "startlinecolor": "#2a3f5f"
            },
            "type": "carpet"
           }
          ],
          "choropleth": [
           {
            "colorbar": {
             "outlinewidth": 0,
             "ticks": ""
            },
            "type": "choropleth"
           }
          ],
          "contour": [
           {
            "colorbar": {
             "outlinewidth": 0,
             "ticks": ""
            },
            "colorscale": [
             [
              0,
              "#0d0887"
             ],
             [
              0.1111111111111111,
              "#46039f"
             ],
             [
              0.2222222222222222,
              "#7201a8"
             ],
             [
              0.3333333333333333,
              "#9c179e"
             ],
             [
              0.4444444444444444,
              "#bd3786"
             ],
             [
              0.5555555555555556,
              "#d8576b"
             ],
             [
              0.6666666666666666,
              "#ed7953"
             ],
             [
              0.7777777777777778,
              "#fb9f3a"
             ],
             [
              0.8888888888888888,
              "#fdca26"
             ],
             [
              1,
              "#f0f921"
             ]
            ],
            "type": "contour"
           }
          ],
          "contourcarpet": [
           {
            "colorbar": {
             "outlinewidth": 0,
             "ticks": ""
            },
            "type": "contourcarpet"
           }
          ],
          "heatmap": [
           {
            "colorbar": {
             "outlinewidth": 0,
             "ticks": ""
            },
            "colorscale": [
             [
              0,
              "#0d0887"
             ],
             [
              0.1111111111111111,
              "#46039f"
             ],
             [
              0.2222222222222222,
              "#7201a8"
             ],
             [
              0.3333333333333333,
              "#9c179e"
             ],
             [
              0.4444444444444444,
              "#bd3786"
             ],
             [
              0.5555555555555556,
              "#d8576b"
             ],
             [
              0.6666666666666666,
              "#ed7953"
             ],
             [
              0.7777777777777778,
              "#fb9f3a"
             ],
             [
              0.8888888888888888,
              "#fdca26"
             ],
             [
              1,
              "#f0f921"
             ]
            ],
            "type": "heatmap"
           }
          ],
          "heatmapgl": [
           {
            "colorbar": {
             "outlinewidth": 0,
             "ticks": ""
            },
            "colorscale": [
             [
              0,
              "#0d0887"
             ],
             [
              0.1111111111111111,
              "#46039f"
             ],
             [
              0.2222222222222222,
              "#7201a8"
             ],
             [
              0.3333333333333333,
              "#9c179e"
             ],
             [
              0.4444444444444444,
              "#bd3786"
             ],
             [
              0.5555555555555556,
              "#d8576b"
             ],
             [
              0.6666666666666666,
              "#ed7953"
             ],
             [
              0.7777777777777778,
              "#fb9f3a"
             ],
             [
              0.8888888888888888,
              "#fdca26"
             ],
             [
              1,
              "#f0f921"
             ]
            ],
            "type": "heatmapgl"
           }
          ],
          "histogram": [
           {
            "marker": {
             "colorbar": {
              "outlinewidth": 0,
              "ticks": ""
             }
            },
            "type": "histogram"
           }
          ],
          "histogram2d": [
           {
            "colorbar": {
             "outlinewidth": 0,
             "ticks": ""
            },
            "colorscale": [
             [
              0,
              "#0d0887"
             ],
             [
              0.1111111111111111,
              "#46039f"
             ],
             [
              0.2222222222222222,
              "#7201a8"
             ],
             [
              0.3333333333333333,
              "#9c179e"
             ],
             [
              0.4444444444444444,
              "#bd3786"
             ],
             [
              0.5555555555555556,
              "#d8576b"
             ],
             [
              0.6666666666666666,
              "#ed7953"
             ],
             [
              0.7777777777777778,
              "#fb9f3a"
             ],
             [
              0.8888888888888888,
              "#fdca26"
             ],
             [
              1,
              "#f0f921"
             ]
            ],
            "type": "histogram2d"
           }
          ],
          "histogram2dcontour": [
           {
            "colorbar": {
             "outlinewidth": 0,
             "ticks": ""
            },
            "colorscale": [
             [
              0,
              "#0d0887"
             ],
             [
              0.1111111111111111,
              "#46039f"
             ],
             [
              0.2222222222222222,
              "#7201a8"
             ],
             [
              0.3333333333333333,
              "#9c179e"
             ],
             [
              0.4444444444444444,
              "#bd3786"
             ],
             [
              0.5555555555555556,
              "#d8576b"
             ],
             [
              0.6666666666666666,
              "#ed7953"
             ],
             [
              0.7777777777777778,
              "#fb9f3a"
             ],
             [
              0.8888888888888888,
              "#fdca26"
             ],
             [
              1,
              "#f0f921"
             ]
            ],
            "type": "histogram2dcontour"
           }
          ],
          "mesh3d": [
           {
            "colorbar": {
             "outlinewidth": 0,
             "ticks": ""
            },
            "type": "mesh3d"
           }
          ],
          "parcoords": [
           {
            "line": {
             "colorbar": {
              "outlinewidth": 0,
              "ticks": ""
             }
            },
            "type": "parcoords"
           }
          ],
          "pie": [
           {
            "automargin": true,
            "type": "pie"
           }
          ],
          "scatter": [
           {
            "marker": {
             "colorbar": {
              "outlinewidth": 0,
              "ticks": ""
             }
            },
            "type": "scatter"
           }
          ],
          "scatter3d": [
           {
            "line": {
             "colorbar": {
              "outlinewidth": 0,
              "ticks": ""
             }
            },
            "marker": {
             "colorbar": {
              "outlinewidth": 0,
              "ticks": ""
             }
            },
            "type": "scatter3d"
           }
          ],
          "scattercarpet": [
           {
            "marker": {
             "colorbar": {
              "outlinewidth": 0,
              "ticks": ""
             }
            },
            "type": "scattercarpet"
           }
          ],
          "scattergeo": [
           {
            "marker": {
             "colorbar": {
              "outlinewidth": 0,
              "ticks": ""
             }
            },
            "type": "scattergeo"
           }
          ],
          "scattergl": [
           {
            "marker": {
             "colorbar": {
              "outlinewidth": 0,
              "ticks": ""
             }
            },
            "type": "scattergl"
           }
          ],
          "scattermapbox": [
           {
            "marker": {
             "colorbar": {
              "outlinewidth": 0,
              "ticks": ""
             }
            },
            "type": "scattermapbox"
           }
          ],
          "scatterpolar": [
           {
            "marker": {
             "colorbar": {
              "outlinewidth": 0,
              "ticks": ""
             }
            },
            "type": "scatterpolar"
           }
          ],
          "scatterpolargl": [
           {
            "marker": {
             "colorbar": {
              "outlinewidth": 0,
              "ticks": ""
             }
            },
            "type": "scatterpolargl"
           }
          ],
          "scatterternary": [
           {
            "marker": {
             "colorbar": {
              "outlinewidth": 0,
              "ticks": ""
             }
            },
            "type": "scatterternary"
           }
          ],
          "surface": [
           {
            "colorbar": {
             "outlinewidth": 0,
             "ticks": ""
            },
            "colorscale": [
             [
              0,
              "#0d0887"
             ],
             [
              0.1111111111111111,
              "#46039f"
             ],
             [
              0.2222222222222222,
              "#7201a8"
             ],
             [
              0.3333333333333333,
              "#9c179e"
             ],
             [
              0.4444444444444444,
              "#bd3786"
             ],
             [
              0.5555555555555556,
              "#d8576b"
             ],
             [
              0.6666666666666666,
              "#ed7953"
             ],
             [
              0.7777777777777778,
              "#fb9f3a"
             ],
             [
              0.8888888888888888,
              "#fdca26"
             ],
             [
              1,
              "#f0f921"
             ]
            ],
            "type": "surface"
           }
          ],
          "table": [
           {
            "cells": {
             "fill": {
              "color": "#EBF0F8"
             },
             "line": {
              "color": "white"
             }
            },
            "header": {
             "fill": {
              "color": "#C8D4E3"
             },
             "line": {
              "color": "white"
             }
            },
            "type": "table"
           }
          ]
         },
         "layout": {
          "annotationdefaults": {
           "arrowcolor": "#2a3f5f",
           "arrowhead": 0,
           "arrowwidth": 1
          },
          "autotypenumbers": "strict",
          "coloraxis": {
           "colorbar": {
            "outlinewidth": 0,
            "ticks": ""
           }
          },
          "colorscale": {
           "diverging": [
            [
             0,
             "#8e0152"
            ],
            [
             0.1,
             "#c51b7d"
            ],
            [
             0.2,
             "#de77ae"
            ],
            [
             0.3,
             "#f1b6da"
            ],
            [
             0.4,
             "#fde0ef"
            ],
            [
             0.5,
             "#f7f7f7"
            ],
            [
             0.6,
             "#e6f5d0"
            ],
            [
             0.7,
             "#b8e186"
            ],
            [
             0.8,
             "#7fbc41"
            ],
            [
             0.9,
             "#4d9221"
            ],
            [
             1,
             "#276419"
            ]
           ],
           "sequential": [
            [
             0,
             "#0d0887"
            ],
            [
             0.1111111111111111,
             "#46039f"
            ],
            [
             0.2222222222222222,
             "#7201a8"
            ],
            [
             0.3333333333333333,
             "#9c179e"
            ],
            [
             0.4444444444444444,
             "#bd3786"
            ],
            [
             0.5555555555555556,
             "#d8576b"
            ],
            [
             0.6666666666666666,
             "#ed7953"
            ],
            [
             0.7777777777777778,
             "#fb9f3a"
            ],
            [
             0.8888888888888888,
             "#fdca26"
            ],
            [
             1,
             "#f0f921"
            ]
           ],
           "sequentialminus": [
            [
             0,
             "#0d0887"
            ],
            [
             0.1111111111111111,
             "#46039f"
            ],
            [
             0.2222222222222222,
             "#7201a8"
            ],
            [
             0.3333333333333333,
             "#9c179e"
            ],
            [
             0.4444444444444444,
             "#bd3786"
            ],
            [
             0.5555555555555556,
             "#d8576b"
            ],
            [
             0.6666666666666666,
             "#ed7953"
            ],
            [
             0.7777777777777778,
             "#fb9f3a"
            ],
            [
             0.8888888888888888,
             "#fdca26"
            ],
            [
             1,
             "#f0f921"
            ]
           ]
          },
          "colorway": [
           "#636efa",
           "#EF553B",
           "#00cc96",
           "#ab63fa",
           "#FFA15A",
           "#19d3f3",
           "#FF6692",
           "#B6E880",
           "#FF97FF",
           "#FECB52"
          ],
          "font": {
           "color": "#2a3f5f"
          },
          "geo": {
           "bgcolor": "white",
           "lakecolor": "white",
           "landcolor": "#E5ECF6",
           "showlakes": true,
           "showland": true,
           "subunitcolor": "white"
          },
          "hoverlabel": {
           "align": "left"
          },
          "hovermode": "closest",
          "mapbox": {
           "style": "light"
          },
          "paper_bgcolor": "white",
          "plot_bgcolor": "#E5ECF6",
          "polar": {
           "angularaxis": {
            "gridcolor": "white",
            "linecolor": "white",
            "ticks": ""
           },
           "bgcolor": "#E5ECF6",
           "radialaxis": {
            "gridcolor": "white",
            "linecolor": "white",
            "ticks": ""
           }
          },
          "scene": {
           "xaxis": {
            "backgroundcolor": "#E5ECF6",
            "gridcolor": "white",
            "gridwidth": 2,
            "linecolor": "white",
            "showbackground": true,
            "ticks": "",
            "zerolinecolor": "white"
           },
           "yaxis": {
            "backgroundcolor": "#E5ECF6",
            "gridcolor": "white",
            "gridwidth": 2,
            "linecolor": "white",
            "showbackground": true,
            "ticks": "",
            "zerolinecolor": "white"
           },
           "zaxis": {
            "backgroundcolor": "#E5ECF6",
            "gridcolor": "white",
            "gridwidth": 2,
            "linecolor": "white",
            "showbackground": true,
            "ticks": "",
            "zerolinecolor": "white"
           }
          },
          "shapedefaults": {
           "line": {
            "color": "#2a3f5f"
           }
          },
          "ternary": {
           "aaxis": {
            "gridcolor": "white",
            "linecolor": "white",
            "ticks": ""
           },
           "baxis": {
            "gridcolor": "white",
            "linecolor": "white",
            "ticks": ""
           },
           "bgcolor": "#E5ECF6",
           "caxis": {
            "gridcolor": "white",
            "linecolor": "white",
            "ticks": ""
           }
          },
          "title": {
           "x": 0.05
          },
          "xaxis": {
           "automargin": true,
           "gridcolor": "white",
           "linecolor": "white",
           "ticks": "",
           "title": {
            "standoff": 15
           },
           "zerolinecolor": "white",
           "zerolinewidth": 2
          },
          "yaxis": {
           "automargin": true,
           "gridcolor": "white",
           "linecolor": "white",
           "ticks": "",
           "title": {
            "standoff": 15
           },
           "zerolinecolor": "white",
           "zerolinewidth": 2
          }
         }
        },
        "xaxis": {
         "title": {
          "text": "PC1"
         }
        },
        "yaxis": {
         "title": {
          "text": "PC2"
         }
        }
       }
      },
      "text/html": [
       "<div\n",
       "    class=\"webio-mountpoint\"\n",
       "    data-webio-mountpoint=\"5612843552315062607\"\n",
       ">\n",
       "    <script>\n",
       "    (function(){\n",
       "    // Some integrations (namely, IJulia/Jupyter) use an alternate render pathway than\n",
       "    // just putting the html on the page. If WebIO isn't defined, then it's pretty likely\n",
       "    // that we're in one of those situations and the integration just isn't installed\n",
       "    // correctly.\n",
       "    if (typeof window.WebIO === \"undefined\") {\n",
       "        document\n",
       "            .querySelector('[data-webio-mountpoint=\"5612843552315062607\"]')\n",
       "            .innerHTML = (\n",
       "                '<div style=\"padding: 1em; background-color: #f8d6da; border: 1px solid #f5c6cb; font-weight: bold;\">' +\n",
       "                '<p><strong>WebIO not detected.</strong></p>' +\n",
       "                '<p>Please read ' +\n",
       "                '<a href=\"https://juliagizmos.github.io/WebIO.jl/latest/troubleshooting/not-detected/\" target=\"_blank\">the troubleshooting guide</a> ' +\n",
       "                'for more information on how to resolve this issue.</p>' +\n",
       "                '<p><a href=\"https://juliagizmos.github.io/WebIO.jl/latest/troubleshooting/not-detected/\" target=\"_blank\">https://juliagizmos.github.io/WebIO.jl/latest/troubleshooting/not-detected/</a></p>' +\n",
       "                '</div>'\n",
       "            );\n",
       "        return;\n",
       "    }\n",
       "    WebIO.mount(\n",
       "        document.querySelector('[data-webio-mountpoint=\"5612843552315062607\"]'),\n",
       "        {\"props\":{},\"nodeType\":\"Scope\",\"type\":\"node\",\"instanceArgs\":{\"imports\":{\"data\":[{\"name\":\"Plotly\",\"type\":\"js\",\"url\":\"\\/assetserver\\/597d3e3981791f3da20e7b96cab90ffffca4599e-plotly.min.js\"},{\"name\":null,\"type\":\"js\",\"url\":\"\\/assetserver\\/d21cc61a8b26f5a8d90707d16621e32300c2e5ed-plotly_webio.bundle.js\"}],\"type\":\"async_block\"},\"id\":\"11417662907554718607\",\"handlers\":{\"_toImage\":[\"(function (options){return this.Plotly.toImage(this.plotElem,options).then((function (data){return WebIO.setval({\\\"name\\\":\\\"image\\\",\\\"scope\\\":\\\"11417662907554718607\\\",\\\"id\\\":\\\"9738966391001795491\\\",\\\"type\\\":\\\"observable\\\"},data)}))})\"],\"__get_gd_contents\":[\"(function (prop){prop==\\\"data\\\" ? (WebIO.setval({\\\"name\\\":\\\"__gd_contents\\\",\\\"scope\\\":\\\"11417662907554718607\\\",\\\"id\\\":\\\"5134472827890855376\\\",\\\"type\\\":\\\"observable\\\"},this.plotElem.data)) : undefined; return prop==\\\"layout\\\" ? (WebIO.setval({\\\"name\\\":\\\"__gd_contents\\\",\\\"scope\\\":\\\"11417662907554718607\\\",\\\"id\\\":\\\"5134472827890855376\\\",\\\"type\\\":\\\"observable\\\"},this.plotElem.layout)) : undefined})\"],\"_downloadImage\":[\"(function (options){return this.Plotly.downloadImage(this.plotElem,options)})\"],\"_commands\":[\"(function (args){var fn=args.shift(); var elem=this.plotElem; var Plotly=this.Plotly; args.unshift(elem); return Plotly[fn].apply(this,args)})\"]},\"systemjs_options\":null,\"mount_callbacks\":[\"function () {\\n    var handler = ((function (Plotly,PlotlyWebIO){PlotlyWebIO.init(WebIO); var gd=this.dom.querySelector(\\\"#plot-d7adbb54-987a-4c16-b675-2c60292b23fd\\\"); this.plotElem=gd; this.Plotly=Plotly; (window.Blink!==undefined) ? (gd.style.width=\\\"100%\\\", gd.style.height=\\\"100vh\\\", gd.style.marginLeft=\\\"0%\\\", gd.style.marginTop=\\\"0vh\\\") : undefined; window.onresize=(function (){return Plotly.Plots.resize(gd)}); Plotly.newPlot(gd,[{\\\"mode\\\":\\\"markers\\\",\\\"xaxis\\\":\\\"x\\\",\\\"y\\\":[1.1220012104334105,1.0624269195344436,-0.7384595372849996,1.10854225950591,-1.5274267208247936,-0.9776296565249839,-1.0779836152260318,-0.3220889026605659,0.038834246859399214,1.2660883840552655,-1.5546760937371955,0.20885253273339763,-0.6749883397629851,-0.1500392615172705,-0.10300827640612174,-0.2674494127422898,0.948807476193182,0.862300114746538,0.3726086500178088,0.42335704082903,-1.4596770604989306,-0.1538350021147518,-0.6259067048852619,2.369737124906746,-0.2607079413472625,0.5314785122670808,-0.19200439646708173,-0.7678050213538238,-0.017900553527079983,-1.4349374455975772,0.14141307772202596,-0.8149107245170952,2.205610814459266,0.5930973769175417,-0.7347783670247322,-0.2849611251679634,-0.5359699945368165,-0.5653605046070161,-1.4769832840952604,1.913972966720078,0.8150682245643797,0.8516053434826716,-0.4083351779699479,-1.4567152419227571,1.3881943501900351,0.1977278483532986,-0.9603739438193805,1.410526272184464,-0.6051250651368577,0.3177866246008613],\\\"type\\\":\\\"scatter\\\",\\\"text\\\":[\\\"Alabama\\\",\\\"Alaska\\\",\\\"Arizona\\\",\\\"Arkansas\\\",\\\"California\\\",\\\"Colorado\\\",\\\"Connecticut\\\",\\\"Delaware\\\",\\\"Florida\\\",\\\"Georgia\\\",\\\"Hawaii\\\",\\\"Idaho\\\",\\\"Illinois\\\",\\\"Indiana\\\",\\\"Iowa\\\",\\\"Kansas\\\",\\\"Kentucky\\\",\\\"Louisiana\\\",\\\"Maine\\\",\\\"Maryland\\\",\\\"Massachusetts\\\",\\\"Michigan\\\",\\\"Minnesota\\\",\\\"Mississippi\\\",\\\"Missouri\\\",\\\"Montana\\\",\\\"Nebraska\\\",\\\"Nevada\\\",\\\"New Hampshire\\\",\\\"New Jersey\\\",\\\"New Mexico\\\",\\\"New York\\\",\\\"North Carolina\\\",\\\"North Dakota\\\",\\\"Ohio\\\",\\\"Oklahoma\\\",\\\"Oregon\\\",\\\"Pennsylvania\\\",\\\"Rhode Island\\\",\\\"South Carolina\\\",\\\"South Dakota\\\",\\\"Tennessee\\\",\\\"Texas\\\",\\\"Utah\\\",\\\"Vermont\\\",\\\"Virginia\\\",\\\"Washington\\\",\\\"West Virginia\\\",\\\"Wisconsin\\\",\\\"Wyoming\\\"],\\\"yaxis\\\":\\\"y\\\",\\\"x\\\":[0.9756604483336051,1.9305378785136846,1.745442853390599,-0.13999894434859467,2.498612848258581,1.499340737465524,-1.3449923649468496,0.047229806346894485,2.9827596698505277,1.622807418222746,-0.9034844794674851,-1.6233190333549075,1.365051973447636,-0.5003812184673619,-2.2309957855600246,-0.7888720624575069,-0.7433125605025752,1.5490907634214186,-2.372740138111474,1.745646633314265,-0.481280070041076,2.087250248902095,-1.6756695050968446,0.9864791853362918,0.6897842639943722,-1.1735375139692663,-1.2529162530451288,2.8455054179847705,-2.3599558521098043,0.17974127831177295,1.9601235131682238,1.665666621722479,1.1120880825676005,-2.9621522325069076,-0.22369435549765643,-0.308649279454715,0.05852786998113066,-0.8794867951994911,-0.8550907170076977,1.307449860853714,-1.9677966936869937,0.9896937743255932,1.3415183816678147,-0.5450318025550063,-2.7732561335497175,-0.09536669660002177,-0.2147233898343467,-2.0873930566766115,-2.05881198847966,-0.6231006068536146]}],{\\\"shapes\\\":[{\\\"x0\\\":0,\\\"type\\\":\\\"line\\\",\\\"y0\\\":0,\\\"y1\\\":0.5831836349096702,\\\"x1\\\":0.535899474938155},{\\\"x0\\\":0,\\\"type\\\":\\\"line\\\",\\\"y0\\\":0,\\\"y1\\\":0.18798560423193877,\\\"x1\\\":0.41818086542095456},{\\\"x0\\\":0,\\\"type\\\":\\\"line\\\",\\\"y0\\\":0,\\\"y1\\\":-0.2681484278328857,\\\"x1\\\":-0.3412327279528282},{\\\"x0\\\":0,\\\"type\\\":\\\"line\\\",\\\"y0\\\":0,\\\"y1\\\":-0.7434074799367093,\\\"x1\\\":0.6492278043419445}],\\\"xaxis\\\":{\\\"title\\\":{\\\"text\\\":\\\"PC1\\\"}},\\\"template\\\":{\\\"layout\\\":{\\\"coloraxis\\\":{\\\"colorbar\\\":{\\\"ticks\\\":\\\"\\\",\\\"outlinewidth\\\":0}},\\\"xaxis\\\":{\\\"gridcolor\\\":\\\"white\\\",\\\"zerolinewidth\\\":2,\\\"title\\\":{\\\"standoff\\\":15},\\\"ticks\\\":\\\"\\\",\\\"zerolinecolor\\\":\\\"white\\\",\\\"automargin\\\":true,\\\"linecolor\\\":\\\"white\\\"},\\\"hovermode\\\":\\\"closest\\\",\\\"paper_bgcolor\\\":\\\"white\\\",\\\"geo\\\":{\\\"showlakes\\\":true,\\\"showland\\\":true,\\\"landcolor\\\":\\\"#E5ECF6\\\",\\\"bgcolor\\\":\\\"white\\\",\\\"subunitcolor\\\":\\\"white\\\",\\\"lakecolor\\\":\\\"white\\\"},\\\"colorscale\\\":{\\\"sequential\\\":[[0.0,\\\"#0d0887\\\"],[0.1111111111111111,\\\"#46039f\\\"],[0.2222222222222222,\\\"#7201a8\\\"],[0.3333333333333333,\\\"#9c179e\\\"],[0.4444444444444444,\\\"#bd3786\\\"],[0.5555555555555556,\\\"#d8576b\\\"],[0.6666666666666666,\\\"#ed7953\\\"],[0.7777777777777778,\\\"#fb9f3a\\\"],[0.8888888888888888,\\\"#fdca26\\\"],[1.0,\\\"#f0f921\\\"]],\\\"diverging\\\":[[0,\\\"#8e0152\\\"],[0.1,\\\"#c51b7d\\\"],[0.2,\\\"#de77ae\\\"],[0.3,\\\"#f1b6da\\\"],[0.4,\\\"#fde0ef\\\"],[0.5,\\\"#f7f7f7\\\"],[0.6,\\\"#e6f5d0\\\"],[0.7,\\\"#b8e186\\\"],[0.8,\\\"#7fbc41\\\"],[0.9,\\\"#4d9221\\\"],[1,\\\"#276419\\\"]],\\\"sequentialminus\\\":[[0.0,\\\"#0d0887\\\"],[0.1111111111111111,\\\"#46039f\\\"],[0.2222222222222222,\\\"#7201a8\\\"],[0.3333333333333333,\\\"#9c179e\\\"],[0.4444444444444444,\\\"#bd3786\\\"],[0.5555555555555556,\\\"#d8576b\\\"],[0.6666666666666666,\\\"#ed7953\\\"],[0.7777777777777778,\\\"#fb9f3a\\\"],[0.8888888888888888,\\\"#fdca26\\\"],[1.0,\\\"#f0f921\\\"]]},\\\"yaxis\\\":{\\\"gridcolor\\\":\\\"white\\\",\\\"zerolinewidth\\\":2,\\\"title\\\":{\\\"standoff\\\":15},\\\"ticks\\\":\\\"\\\",\\\"zerolinecolor\\\":\\\"white\\\",\\\"automargin\\\":true,\\\"linecolor\\\":\\\"white\\\"},\\\"shapedefaults\\\":{\\\"line\\\":{\\\"color\\\":\\\"#2a3f5f\\\"}},\\\"hoverlabel\\\":{\\\"align\\\":\\\"left\\\"},\\\"mapbox\\\":{\\\"style\\\":\\\"light\\\"},\\\"polar\\\":{\\\"angularaxis\\\":{\\\"gridcolor\\\":\\\"white\\\",\\\"ticks\\\":\\\"\\\",\\\"linecolor\\\":\\\"white\\\"},\\\"bgcolor\\\":\\\"#E5ECF6\\\",\\\"radialaxis\\\":{\\\"gridcolor\\\":\\\"white\\\",\\\"ticks\\\":\\\"\\\",\\\"linecolor\\\":\\\"white\\\"}},\\\"autotypenumbers\\\":\\\"strict\\\",\\\"font\\\":{\\\"color\\\":\\\"#2a3f5f\\\"},\\\"ternary\\\":{\\\"baxis\\\":{\\\"gridcolor\\\":\\\"white\\\",\\\"ticks\\\":\\\"\\\",\\\"linecolor\\\":\\\"white\\\"},\\\"bgcolor\\\":\\\"#E5ECF6\\\",\\\"caxis\\\":{\\\"gridcolor\\\":\\\"white\\\",\\\"ticks\\\":\\\"\\\",\\\"linecolor\\\":\\\"white\\\"},\\\"aaxis\\\":{\\\"gridcolor\\\":\\\"white\\\",\\\"ticks\\\":\\\"\\\",\\\"linecolor\\\":\\\"white\\\"}},\\\"annotationdefaults\\\":{\\\"arrowhead\\\":0,\\\"arrowwidth\\\":1,\\\"arrowcolor\\\":\\\"#2a3f5f\\\"},\\\"plot_bgcolor\\\":\\\"#E5ECF6\\\",\\\"title\\\":{\\\"x\\\":0.05},\\\"scene\\\":{\\\"xaxis\\\":{\\\"gridcolor\\\":\\\"white\\\",\\\"gridwidth\\\":2,\\\"backgroundcolor\\\":\\\"#E5ECF6\\\",\\\"ticks\\\":\\\"\\\",\\\"showbackground\\\":true,\\\"zerolinecolor\\\":\\\"white\\\",\\\"linecolor\\\":\\\"white\\\"},\\\"zaxis\\\":{\\\"gridcolor\\\":\\\"white\\\",\\\"gridwidth\\\":2,\\\"backgroundcolor\\\":\\\"#E5ECF6\\\",\\\"ticks\\\":\\\"\\\",\\\"showbackground\\\":true,\\\"zerolinecolor\\\":\\\"white\\\",\\\"linecolor\\\":\\\"white\\\"},\\\"yaxis\\\":{\\\"gridcolor\\\":\\\"white\\\",\\\"gridwidth\\\":2,\\\"backgroundcolor\\\":\\\"#E5ECF6\\\",\\\"ticks\\\":\\\"\\\",\\\"showbackground\\\":true,\\\"zerolinecolor\\\":\\\"white\\\",\\\"linecolor\\\":\\\"white\\\"}},\\\"colorway\\\":[\\\"#636efa\\\",\\\"#EF553B\\\",\\\"#00cc96\\\",\\\"#ab63fa\\\",\\\"#FFA15A\\\",\\\"#19d3f3\\\",\\\"#FF6692\\\",\\\"#B6E880\\\",\\\"#FF97FF\\\",\\\"#FECB52\\\"]},\\\"data\\\":{\\\"barpolar\\\":[{\\\"type\\\":\\\"barpolar\\\",\\\"marker\\\":{\\\"line\\\":{\\\"color\\\":\\\"#E5ECF6\\\",\\\"width\\\":0.5}}}],\\\"carpet\\\":[{\\\"aaxis\\\":{\\\"gridcolor\\\":\\\"white\\\",\\\"endlinecolor\\\":\\\"#2a3f5f\\\",\\\"minorgridcolor\\\":\\\"white\\\",\\\"startlinecolor\\\":\\\"#2a3f5f\\\",\\\"linecolor\\\":\\\"white\\\"},\\\"type\\\":\\\"carpet\\\",\\\"baxis\\\":{\\\"gridcolor\\\":\\\"white\\\",\\\"endlinecolor\\\":\\\"#2a3f5f\\\",\\\"minorgridcolor\\\":\\\"white\\\",\\\"startlinecolor\\\":\\\"#2a3f5f\\\",\\\"linecolor\\\":\\\"white\\\"}}],\\\"scatterpolar\\\":[{\\\"type\\\":\\\"scatterpolar\\\",\\\"marker\\\":{\\\"colorbar\\\":{\\\"ticks\\\":\\\"\\\",\\\"outlinewidth\\\":0}}}],\\\"parcoords\\\":[{\\\"line\\\":{\\\"colorbar\\\":{\\\"ticks\\\":\\\"\\\",\\\"outlinewidth\\\":0}},\\\"type\\\":\\\"parcoords\\\"}],\\\"scatter\\\":[{\\\"type\\\":\\\"scatter\\\",\\\"marker\\\":{\\\"colorbar\\\":{\\\"ticks\\\":\\\"\\\",\\\"outlinewidth\\\":0}}}],\\\"histogram2dcontour\\\":[{\\\"colorbar\\\":{\\\"ticks\\\":\\\"\\\",\\\"outlinewidth\\\":0},\\\"type\\\":\\\"histogram2dcontour\\\",\\\"colorscale\\\":[[0.0,\\\"#0d0887\\\"],[0.1111111111111111,\\\"#46039f\\\"],[0.2222222222222222,\\\"#7201a8\\\"],[0.3333333333333333,\\\"#9c179e\\\"],[0.4444444444444444,\\\"#bd3786\\\"],[0.5555555555555556,\\\"#d8576b\\\"],[0.6666666666666666,\\\"#ed7953\\\"],[0.7777777777777778,\\\"#fb9f3a\\\"],[0.8888888888888888,\\\"#fdca26\\\"],[1.0,\\\"#f0f921\\\"]]}],\\\"contour\\\":[{\\\"colorbar\\\":{\\\"ticks\\\":\\\"\\\",\\\"outlinewidth\\\":0},\\\"type\\\":\\\"contour\\\",\\\"colorscale\\\":[[0.0,\\\"#0d0887\\\"],[0.1111111111111111,\\\"#46039f\\\"],[0.2222222222222222,\\\"#7201a8\\\"],[0.3333333333333333,\\\"#9c179e\\\"],[0.4444444444444444,\\\"#bd3786\\\"],[0.5555555555555556,\\\"#d8576b\\\"],[0.6666666666666666,\\\"#ed7953\\\"],[0.7777777777777778,\\\"#fb9f3a\\\"],[0.8888888888888888,\\\"#fdca26\\\"],[1.0,\\\"#f0f921\\\"]]}],\\\"scattercarpet\\\":[{\\\"type\\\":\\\"scattercarpet\\\",\\\"marker\\\":{\\\"colorbar\\\":{\\\"ticks\\\":\\\"\\\",\\\"outlinewidth\\\":0}}}],\\\"mesh3d\\\":[{\\\"colorbar\\\":{\\\"ticks\\\":\\\"\\\",\\\"outlinewidth\\\":0},\\\"type\\\":\\\"mesh3d\\\"}],\\\"surface\\\":[{\\\"colorbar\\\":{\\\"ticks\\\":\\\"\\\",\\\"outlinewidth\\\":0},\\\"type\\\":\\\"surface\\\",\\\"colorscale\\\":[[0.0,\\\"#0d0887\\\"],[0.1111111111111111,\\\"#46039f\\\"],[0.2222222222222222,\\\"#7201a8\\\"],[0.3333333333333333,\\\"#9c179e\\\"],[0.4444444444444444,\\\"#bd3786\\\"],[0.5555555555555556,\\\"#d8576b\\\"],[0.6666666666666666,\\\"#ed7953\\\"],[0.7777777777777778,\\\"#fb9f3a\\\"],[0.8888888888888888,\\\"#fdca26\\\"],[1.0,\\\"#f0f921\\\"]]}],\\\"scattermapbox\\\":[{\\\"type\\\":\\\"scattermapbox\\\",\\\"marker\\\":{\\\"colorbar\\\":{\\\"ticks\\\":\\\"\\\",\\\"outlinewidth\\\":0}}}],\\\"scattergeo\\\":[{\\\"type\\\":\\\"scattergeo\\\",\\\"marker\\\":{\\\"colorbar\\\":{\\\"ticks\\\":\\\"\\\",\\\"outlinewidth\\\":0}}}],\\\"histogram\\\":[{\\\"type\\\":\\\"histogram\\\",\\\"marker\\\":{\\\"colorbar\\\":{\\\"ticks\\\":\\\"\\\",\\\"outlinewidth\\\":0}}}],\\\"pie\\\":[{\\\"type\\\":\\\"pie\\\",\\\"automargin\\\":true}],\\\"choropleth\\\":[{\\\"colorbar\\\":{\\\"ticks\\\":\\\"\\\",\\\"outlinewidth\\\":0},\\\"type\\\":\\\"choropleth\\\"}],\\\"heatmapgl\\\":[{\\\"colorbar\\\":{\\\"ticks\\\":\\\"\\\",\\\"outlinewidth\\\":0},\\\"type\\\":\\\"heatmapgl\\\",\\\"colorscale\\\":[[0.0,\\\"#0d0887\\\"],[0.1111111111111111,\\\"#46039f\\\"],[0.2222222222222222,\\\"#7201a8\\\"],[0.3333333333333333,\\\"#9c179e\\\"],[0.4444444444444444,\\\"#bd3786\\\"],[0.5555555555555556,\\\"#d8576b\\\"],[0.6666666666666666,\\\"#ed7953\\\"],[0.7777777777777778,\\\"#fb9f3a\\\"],[0.8888888888888888,\\\"#fdca26\\\"],[1.0,\\\"#f0f921\\\"]]}],\\\"bar\\\":[{\\\"type\\\":\\\"bar\\\",\\\"error_y\\\":{\\\"color\\\":\\\"#2a3f5f\\\"},\\\"error_x\\\":{\\\"color\\\":\\\"#2a3f5f\\\"},\\\"marker\\\":{\\\"line\\\":{\\\"color\\\":\\\"#E5ECF6\\\",\\\"width\\\":0.5}}}],\\\"heatmap\\\":[{\\\"colorbar\\\":{\\\"ticks\\\":\\\"\\\",\\\"outlinewidth\\\":0},\\\"type\\\":\\\"heatmap\\\",\\\"colorscale\\\":[[0.0,\\\"#0d0887\\\"],[0.1111111111111111,\\\"#46039f\\\"],[0.2222222222222222,\\\"#7201a8\\\"],[0.3333333333333333,\\\"#9c179e\\\"],[0.4444444444444444,\\\"#bd3786\\\"],[0.5555555555555556,\\\"#d8576b\\\"],[0.6666666666666666,\\\"#ed7953\\\"],[0.7777777777777778,\\\"#fb9f3a\\\"],[0.8888888888888888,\\\"#fdca26\\\"],[1.0,\\\"#f0f921\\\"]]}],\\\"contourcarpet\\\":[{\\\"colorbar\\\":{\\\"ticks\\\":\\\"\\\",\\\"outlinewidth\\\":0},\\\"type\\\":\\\"contourcarpet\\\"}],\\\"table\\\":[{\\\"type\\\":\\\"table\\\",\\\"header\\\":{\\\"line\\\":{\\\"color\\\":\\\"white\\\"},\\\"fill\\\":{\\\"color\\\":\\\"#C8D4E3\\\"}},\\\"cells\\\":{\\\"line\\\":{\\\"color\\\":\\\"white\\\"},\\\"fill\\\":{\\\"color\\\":\\\"#EBF0F8\\\"}}}],\\\"scatter3d\\\":[{\\\"line\\\":{\\\"colorbar\\\":{\\\"ticks\\\":\\\"\\\",\\\"outlinewidth\\\":0}},\\\"type\\\":\\\"scatter3d\\\",\\\"marker\\\":{\\\"colorbar\\\":{\\\"ticks\\\":\\\"\\\",\\\"outlinewidth\\\":0}}}],\\\"scattergl\\\":[{\\\"type\\\":\\\"scattergl\\\",\\\"marker\\\":{\\\"colorbar\\\":{\\\"ticks\\\":\\\"\\\",\\\"outlinewidth\\\":0}}}],\\\"histogram2d\\\":[{\\\"colorbar\\\":{\\\"ticks\\\":\\\"\\\",\\\"outlinewidth\\\":0},\\\"type\\\":\\\"histogram2d\\\",\\\"colorscale\\\":[[0.0,\\\"#0d0887\\\"],[0.1111111111111111,\\\"#46039f\\\"],[0.2222222222222222,\\\"#7201a8\\\"],[0.3333333333333333,\\\"#9c179e\\\"],[0.4444444444444444,\\\"#bd3786\\\"],[0.5555555555555556,\\\"#d8576b\\\"],[0.6666666666666666,\\\"#ed7953\\\"],[0.7777777777777778,\\\"#fb9f3a\\\"],[0.8888888888888888,\\\"#fdca26\\\"],[1.0,\\\"#f0f921\\\"]]}],\\\"scatterternary\\\":[{\\\"type\\\":\\\"scatterternary\\\",\\\"marker\\\":{\\\"colorbar\\\":{\\\"ticks\\\":\\\"\\\",\\\"outlinewidth\\\":0}}}],\\\"scatterpolargl\\\":[{\\\"type\\\":\\\"scatterpolargl\\\",\\\"marker\\\":{\\\"colorbar\\\":{\\\"ticks\\\":\\\"\\\",\\\"outlinewidth\\\":0}}}]}},\\\"annotations\\\":[{\\\"yanchor\\\":\\\"bottom\\\",\\\"xanchor\\\":\\\"center\\\",\\\"y\\\":0.5831836349096702,\\\"text\\\":\\\"Murder\\\",\\\"x\\\":0.535899474938155},{\\\"yanchor\\\":\\\"bottom\\\",\\\"xanchor\\\":\\\"center\\\",\\\"y\\\":0.18798560423193877,\\\"text\\\":\\\"Assault\\\",\\\"x\\\":0.41818086542095456},{\\\"yanchor\\\":\\\"bottom\\\",\\\"xanchor\\\":\\\"center\\\",\\\"y\\\":-0.2681484278328857,\\\"text\\\":\\\"UrbanPop\\\",\\\"x\\\":-0.3412327279528282},{\\\"yanchor\\\":\\\"bottom\\\",\\\"xanchor\\\":\\\"center\\\",\\\"y\\\":-0.7434074799367093,\\\"text\\\":\\\"Rape\\\",\\\"x\\\":0.6492278043419445}],\\\"margin\\\":{\\\"l\\\":50,\\\"b\\\":50,\\\"r\\\":50,\\\"t\\\":60},\\\"legend\\\":{\\\"tracegroupgap\\\":0},\\\"yaxis\\\":{\\\"title\\\":{\\\"text\\\":\\\"PC2\\\"}}},{\\\"showLink\\\":false,\\\"editable\\\":false,\\\"responsive\\\":true,\\\"staticPlot\\\":false,\\\"scrollZoom\\\":true}); gd.on(\\\"plotly_hover\\\",(function (data){var filtered_data=WebIO.PlotlyCommands.filterEventData(gd,data,\\\"hover\\\"); return !(filtered_data.isnil) ? (WebIO.setval({\\\"name\\\":\\\"hover\\\",\\\"scope\\\":\\\"11417662907554718607\\\",\\\"id\\\":\\\"14641179122193235449\\\",\\\"type\\\":\\\"observable\\\"},filtered_data.out)) : undefined})); gd.on(\\\"plotly_unhover\\\",(function (){return WebIO.setval({\\\"name\\\":\\\"hover\\\",\\\"scope\\\":\\\"11417662907554718607\\\",\\\"id\\\":\\\"14641179122193235449\\\",\\\"type\\\":\\\"observable\\\"},{})})); gd.on(\\\"plotly_selected\\\",(function (data){var filtered_data=WebIO.PlotlyCommands.filterEventData(gd,data,\\\"selected\\\"); return !(filtered_data.isnil) ? (WebIO.setval({\\\"name\\\":\\\"selected\\\",\\\"scope\\\":\\\"11417662907554718607\\\",\\\"id\\\":\\\"569262680659894243\\\",\\\"type\\\":\\\"observable\\\"},filtered_data.out)) : undefined})); gd.on(\\\"plotly_deselect\\\",(function (){return WebIO.setval({\\\"name\\\":\\\"selected\\\",\\\"scope\\\":\\\"11417662907554718607\\\",\\\"id\\\":\\\"569262680659894243\\\",\\\"type\\\":\\\"observable\\\"},{})})); gd.on(\\\"plotly_relayout\\\",(function (data){var filtered_data=WebIO.PlotlyCommands.filterEventData(gd,data,\\\"relayout\\\"); return !(filtered_data.isnil) ? (WebIO.setval({\\\"name\\\":\\\"relayout\\\",\\\"scope\\\":\\\"11417662907554718607\\\",\\\"id\\\":\\\"16176441592617259375\\\",\\\"type\\\":\\\"observable\\\"},filtered_data.out)) : undefined})); return gd.on(\\\"plotly_click\\\",(function (data){var filtered_data=WebIO.PlotlyCommands.filterEventData(gd,data,\\\"click\\\"); return !(filtered_data.isnil) ? (WebIO.setval({\\\"name\\\":\\\"click\\\",\\\"scope\\\":\\\"11417662907554718607\\\",\\\"id\\\":\\\"14450949512269262404\\\",\\\"type\\\":\\\"observable\\\"},filtered_data.out)) : undefined}))}));\\n    (WebIO.importBlock({\\\"data\\\":[{\\\"name\\\":\\\"Plotly\\\",\\\"type\\\":\\\"js\\\",\\\"url\\\":\\\"\\/assetserver\\/597d3e3981791f3da20e7b96cab90ffffca4599e-plotly.min.js\\\"},{\\\"name\\\":null,\\\"type\\\":\\\"js\\\",\\\"url\\\":\\\"\\/assetserver\\/d21cc61a8b26f5a8d90707d16621e32300c2e5ed-plotly_webio.bundle.js\\\"}],\\\"type\\\":\\\"async_block\\\"})).then((imports) => handler.apply(this, imports));\\n}\\n\"],\"observables\":{\"_toImage\":{\"sync\":false,\"id\":\"16922024557370404882\",\"value\":{}},\"hover\":{\"sync\":false,\"id\":\"14641179122193235449\",\"value\":{}},\"selected\":{\"sync\":false,\"id\":\"569262680659894243\",\"value\":{}},\"__gd_contents\":{\"sync\":false,\"id\":\"5134472827890855376\",\"value\":{}},\"click\":{\"sync\":false,\"id\":\"14450949512269262404\",\"value\":{}},\"image\":{\"sync\":true,\"id\":\"9738966391001795491\",\"value\":\"\"},\"__get_gd_contents\":{\"sync\":false,\"id\":\"4860291936029257713\",\"value\":\"\"},\"_downloadImage\":{\"sync\":false,\"id\":\"9416192823246181128\",\"value\":{}},\"relayout\":{\"sync\":false,\"id\":\"16176441592617259375\",\"value\":{}},\"_commands\":{\"sync\":false,\"id\":\"3005466766009490377\",\"value\":[]}}},\"children\":[{\"props\":{\"id\":\"plot-d7adbb54-987a-4c16-b675-2c60292b23fd\"},\"nodeType\":\"DOM\",\"type\":\"node\",\"instanceArgs\":{\"namespace\":\"html\",\"tag\":\"div\"},\"children\":[]}]},\n",
       "        window,\n",
       "    );\n",
       "    })()\n",
       "    </script>\n",
       "</div>\n"
      ],
      "text/plain": [
       "data: [\n",
       "  \"scatter with fields mode, text, type, x, xaxis, y, and yaxis\"\n",
       "]\n",
       "\n",
       "layout: \"layout with fields annotations, legend, margin, shapes, template, xaxis, and yaxis\"\n",
       "\n"
      ]
     },
     "execution_count": 144,
     "metadata": {},
     "output_type": "execute_result"
    }
   ],
   "source": [
    "features = [:Murder, :Assault, :UrbanPop, :Rape]\n",
    "plot(pca_df, x=:PC1, y=:PC2, mode=\"markers\",text=:city,\n",
    "    Layout(\n",
    "        shapes=[\n",
    "            line(x0=0, y0=0, x1=proj[1, i], y1=proj[2, i])\n",
    "            for i in 1:length(features)\n",
    "        ],\n",
    "        annotations=[\n",
    "            attr(\n",
    "                x=proj[1, i], y=proj[2, i], text=features[i],\n",
    "                xanchor=\"center\", yanchor=\"bottom\"\n",
    "            )\n",
    "            for i in 1:length(features)\n",
    "        ]\n",
    "        )) \n",
    "#Hover over the dots to see the corresponding city label\n"
   ]
  },
  {
   "cell_type": "code",
   "execution_count": 159,
   "id": "c2ec0580",
   "metadata": {},
   "outputs": [
    {
     "data": {
      "text/plain": [
       "4-element Vector{Float64}:\n",
       " 2.4802415791494927\n",
       " 0.9897651525398412\n",
       " 0.3565631805808296\n",
       " 0.1734300877298358"
      ]
     },
     "execution_count": 159,
     "metadata": {},
     "output_type": "execute_result"
    }
   ],
   "source": [
    "p = principalvars(M::PCA)"
   ]
  },
  {
   "cell_type": "code",
   "execution_count": 160,
   "id": "0ada8cee",
   "metadata": {},
   "outputs": [
    {
     "data": {
      "text/plain": [
       "4-element Vector{Float64}:\n",
       " 1.5748782743912282\n",
       " 0.9948694148177645\n",
       " 0.5971291155025265\n",
       " 0.41644938195396064"
      ]
     },
     "execution_count": 160,
     "metadata": {},
     "output_type": "execute_result"
    }
   ],
   "source": [
    "# Standard deviation of the four principal components\n",
    "sqrt.(p)"
   ]
  },
  {
   "cell_type": "code",
   "execution_count": 162,
   "id": "fa5eb44b",
   "metadata": {},
   "outputs": [
    {
     "data": {
      "text/plain": [
       "1×4 Matrix{Float64}:\n",
       " 0.62006  0.247441  0.0891408  0.0433575"
      ]
     },
     "execution_count": 162,
     "metadata": {},
     "output_type": "execute_result"
    }
   ],
   "source": [
    "var_expl = [[p[1]/sum(p)] [p[2]/sum(p)] [p[3]/sum(p)] [p[4]/sum(p)] ]"
   ]
  },
  {
   "cell_type": "code",
   "execution_count": null,
   "id": "32b93c35",
   "metadata": {},
   "outputs": [],
   "source": [
    "plot()"
   ]
  }
 ],
 "metadata": {
  "@webio": {
   "lastCommId": "76a4b063f9974f9f9d8c1dc460671dc9",
   "lastKernelId": "f698e010-9cc1-49a0-b695-2b9a1b20489b"
  },
  "kernelspec": {
   "display_name": "Julia 1.8.1",
   "language": "julia",
   "name": "julia-1.8"
  },
  "language_info": {
   "file_extension": ".jl",
   "mimetype": "application/julia",
   "name": "julia",
   "version": "1.8.1"
  }
 },
 "nbformat": 4,
 "nbformat_minor": 5
}
