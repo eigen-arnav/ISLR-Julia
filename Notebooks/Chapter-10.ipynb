{
 "cells": [
  {
   "cell_type": "code",
   "execution_count": 59,
   "id": "40624935",
   "metadata": {},
   "outputs": [
    {
     "name": "stderr",
     "output_type": "stream",
     "text": [
      "\u001b[32m\u001b[1m   Resolving\u001b[22m\u001b[39m package versions...\n",
      "\u001b[32m\u001b[1m   Installed\u001b[22m\u001b[39m IntelOpenMP_jll ── v2018.0.3+2\n",
      "\u001b[32m\u001b[1m   Installed\u001b[22m\u001b[39m FFTW ───────────── v1.5.0\n",
      "\u001b[32m\u001b[1m   Installed\u001b[22m\u001b[39m OffsetArrays ───── v1.12.8\n",
      "\u001b[32m\u001b[1m   Installed\u001b[22m\u001b[39m MKL_jll ────────── v2022.2.0+0\n",
      "\u001b[32m\u001b[1m   Installed\u001b[22m\u001b[39m Ratios ─────────── v0.4.3\n",
      "\u001b[32m\u001b[1m   Installed\u001b[22m\u001b[39m StatsPlots ─────── v0.15.4\n",
      "\u001b[32m\u001b[1m   Installed\u001b[22m\u001b[39m AbstractFFTs ───── v1.2.1\n",
      "\u001b[32m\u001b[1m   Installed\u001b[22m\u001b[39m DataValues ─────── v0.4.13\n",
      "\u001b[32m\u001b[1m   Installed\u001b[22m\u001b[39m FFTW_jll ───────── v3.3.10+0\n",
      "\u001b[32m\u001b[1m   Installed\u001b[22m\u001b[39m KernelDensity ──── v0.6.5\n",
      "\u001b[32m\u001b[1m   Installed\u001b[22m\u001b[39m AxisAlgorithms ─── v1.0.1\n",
      "\u001b[32m\u001b[1m   Installed\u001b[22m\u001b[39m Adapt ──────────── v3.4.0\n",
      "\u001b[32m\u001b[1m   Installed\u001b[22m\u001b[39m TableOperations ── v1.2.0\n",
      "\u001b[32m\u001b[1m   Installed\u001b[22m\u001b[39m WoodburyMatrices ─ v0.5.5\n",
      "\u001b[32m\u001b[1m   Installed\u001b[22m\u001b[39m Interpolations ─── v0.14.7\n",
      "\u001b[32m\u001b[1m    Updating\u001b[22m\u001b[39m `~/.julia/environments/v1.8/Project.toml`\n",
      " \u001b[90m [f3b207a7] \u001b[39m\u001b[92m+ StatsPlots v0.15.4\u001b[39m\n",
      "\u001b[32m\u001b[1m    Updating\u001b[22m\u001b[39m `~/.julia/environments/v1.8/Manifest.toml`\n",
      " \u001b[90m [621f4979] \u001b[39m\u001b[92m+ AbstractFFTs v1.2.1\u001b[39m\n",
      " \u001b[90m [79e6a3ab] \u001b[39m\u001b[92m+ Adapt v3.4.0\u001b[39m\n",
      " \u001b[90m [13072b0f] \u001b[39m\u001b[92m+ AxisAlgorithms v1.0.1\u001b[39m\n",
      " \u001b[90m [e7dc6d0d] \u001b[39m\u001b[92m+ DataValues v0.4.13\u001b[39m\n",
      " \u001b[90m [7a1cc6ca] \u001b[39m\u001b[92m+ FFTW v1.5.0\u001b[39m\n",
      " \u001b[90m [a98d9a8b] \u001b[39m\u001b[92m+ Interpolations v0.14.7\u001b[39m\n",
      " \u001b[90m [5ab0869b] \u001b[39m\u001b[92m+ KernelDensity v0.6.5\u001b[39m\n",
      " \u001b[90m [6fe1bfb0] \u001b[39m\u001b[92m+ OffsetArrays v1.12.8\u001b[39m\n",
      " \u001b[90m [c84ed2f1] \u001b[39m\u001b[92m+ Ratios v0.4.3\u001b[39m\n",
      " \u001b[90m [f3b207a7] \u001b[39m\u001b[92m+ StatsPlots v0.15.4\u001b[39m\n",
      " \u001b[90m [ab02a1b2] \u001b[39m\u001b[92m+ TableOperations v1.2.0\u001b[39m\n",
      " \u001b[90m [efce3f68] \u001b[39m\u001b[92m+ WoodburyMatrices v0.5.5\u001b[39m\n",
      " \u001b[90m [f5851436] \u001b[39m\u001b[92m+ FFTW_jll v3.3.10+0\u001b[39m\n",
      " \u001b[90m [1d5cc7b8] \u001b[39m\u001b[92m+ IntelOpenMP_jll v2018.0.3+2\u001b[39m\n",
      " \u001b[90m [856f044c] \u001b[39m\u001b[92m+ MKL_jll v2022.2.0+0\u001b[39m\n",
      " \u001b[90m [4af54fe1] \u001b[39m\u001b[92m+ LazyArtifacts\u001b[39m\n",
      " \u001b[90m [1a1011a3] \u001b[39m\u001b[92m+ SharedArrays\u001b[39m\n",
      "\u001b[32m\u001b[1mPrecompiling\u001b[22m\u001b[39m project...\n",
      "\u001b[32m  ✓ \u001b[39m\u001b[90mWoodburyMatrices\u001b[39m\n",
      "\u001b[32m  ✓ \u001b[39m\u001b[90mAdapt\u001b[39m\n",
      "\u001b[32m  ✓ \u001b[39m\u001b[90mRatios\u001b[39m\n",
      "\u001b[32m  ✓ \u001b[39m\u001b[90mIntelOpenMP_jll\u001b[39m\n",
      "\u001b[32m  ✓ \u001b[39m\u001b[90mAbstractFFTs\u001b[39m\n",
      "\u001b[32m  ✓ \u001b[39m\u001b[90mFFTW_jll\u001b[39m\n",
      "\u001b[32m  ✓ \u001b[39m\u001b[90mAxisAlgorithms\u001b[39m\n",
      "\u001b[32m  ✓ \u001b[39m\u001b[90mTableOperations\u001b[39m\n",
      "\u001b[32m  ✓ \u001b[39m\u001b[90mMKL_jll\u001b[39m\n",
      "\u001b[32m  ✓ \u001b[39m\u001b[90mDataValues\u001b[39m\n",
      "\u001b[32m  ✓ \u001b[39m\u001b[90mOffsetArrays\u001b[39m\n",
      "\u001b[32m  ✓ \u001b[39m\u001b[90mInterpolations\u001b[39m\n",
      "\u001b[32m  ✓ \u001b[39m\u001b[90mFFTW\u001b[39m\n",
      "\u001b[32m  ✓ \u001b[39m\u001b[90mKernelDensity\u001b[39m\n",
      "\u001b[32m  ✓ \u001b[39mStatsPlots\n",
      "  15 dependencies successfully precompiled in 88 seconds. 222 already precompiled.\n"
     ]
    }
   ],
   "source": [
    "using Pkg\n",
    "Pkg.add(\"StatsPlots\")"
   ]
  },
  {
   "cell_type": "code",
   "execution_count": 1,
   "id": "f0bf6c05",
   "metadata": {},
   "outputs": [
    {
     "data": {
      "application/vnd.webio.node+json": {
       "children": [],
       "instanceArgs": {
        "namespace": "html",
        "tag": "div"
       },
       "nodeType": "DOM",
       "props": {},
       "type": "node"
      },
      "text/html": [
       "<div style=\"padding: 1em; background-color: #f8d6da; border: 1px solid #f5c6cb; font-weight: bold;\">\n",
       "<p>The WebIO Jupyter extension was not detected. See the\n",
       "<a href=\"https://juliagizmos.github.io/WebIO.jl/latest/providers/ijulia/\" target=\"_blank\">\n",
       "    WebIO Jupyter integration documentation\n",
       "</a>\n",
       "for more information.\n",
       "</div>\n"
      ],
      "text/plain": [
       "WebIO._IJuliaInit()"
      ]
     },
     "metadata": {
      "application/vnd.webio.node+json": {
       "kernelId": "fe7c58aa-575d-4af6-aba9-0abb76754262"
      }
     },
     "output_type": "display_data"
    }
   ],
   "source": [
    "using CSV\n",
    "using DataFrames\n",
    "using StatsBase\n",
    "using MultivariateStats \n",
    "using PlotlyJS,MLJ\n",
    "using Distances\n",
    "using Clustering"
   ]
  },
  {
   "cell_type": "code",
   "execution_count": 2,
   "id": "b3a4164b",
   "metadata": {},
   "outputs": [
    {
     "data": {
      "text/plain": [
       "50-element CSV.File:\n",
       " CSV.Row: (Column1 = String15(\"Alabama\"), Murder = 13.2, Assault = 236, UrbanPop = 58, Rape = 21.2)\n",
       " CSV.Row: (Column1 = String15(\"Alaska\"), Murder = 10.0, Assault = 263, UrbanPop = 48, Rape = 44.5)\n",
       " CSV.Row: (Column1 = String15(\"Arizona\"), Murder = 8.1, Assault = 294, UrbanPop = 80, Rape = 31.0)\n",
       " CSV.Row: (Column1 = String15(\"Arkansas\"), Murder = 8.8, Assault = 190, UrbanPop = 50, Rape = 19.5)\n",
       " CSV.Row: (Column1 = String15(\"California\"), Murder = 9.0, Assault = 276, UrbanPop = 91, Rape = 40.6)\n",
       " CSV.Row: (Column1 = String15(\"Colorado\"), Murder = 7.9, Assault = 204, UrbanPop = 78, Rape = 38.7)\n",
       " CSV.Row: (Column1 = String15(\"Connecticut\"), Murder = 3.3, Assault = 110, UrbanPop = 77, Rape = 11.1)\n",
       " CSV.Row: (Column1 = String15(\"Delaware\"), Murder = 5.9, Assault = 238, UrbanPop = 72, Rape = 15.8)\n",
       " CSV.Row: (Column1 = String15(\"Florida\"), Murder = 15.4, Assault = 335, UrbanPop = 80, Rape = 31.9)\n",
       " CSV.Row: (Column1 = String15(\"Georgia\"), Murder = 17.4, Assault = 211, UrbanPop = 60, Rape = 25.8)\n",
       " CSV.Row: (Column1 = String15(\"Hawaii\"), Murder = 5.3, Assault = 46, UrbanPop = 83, Rape = 20.2)\n",
       " CSV.Row: (Column1 = String15(\"Idaho\"), Murder = 2.6, Assault = 120, UrbanPop = 54, Rape = 14.2)\n",
       " CSV.Row: (Column1 = String15(\"Illinois\"), Murder = 10.4, Assault = 249, UrbanPop = 83, Rape = 24.0)\n",
       " ⋮\n",
       " CSV.Row: (Column1 = String15(\"Rhode Island\"), Murder = 3.4, Assault = 174, UrbanPop = 87, Rape = 8.3)\n",
       " CSV.Row: (Column1 = String15(\"South Carolina\"), Murder = 14.4, Assault = 279, UrbanPop = 48, Rape = 22.5)\n",
       " CSV.Row: (Column1 = String15(\"South Dakota\"), Murder = 3.8, Assault = 86, UrbanPop = 45, Rape = 12.8)\n",
       " CSV.Row: (Column1 = String15(\"Tennessee\"), Murder = 13.2, Assault = 188, UrbanPop = 59, Rape = 26.9)\n",
       " CSV.Row: (Column1 = String15(\"Texas\"), Murder = 12.7, Assault = 201, UrbanPop = 80, Rape = 25.5)\n",
       " CSV.Row: (Column1 = String15(\"Utah\"), Murder = 3.2, Assault = 120, UrbanPop = 80, Rape = 22.9)\n",
       " CSV.Row: (Column1 = String15(\"Vermont\"), Murder = 2.2, Assault = 48, UrbanPop = 32, Rape = 11.2)\n",
       " CSV.Row: (Column1 = String15(\"Virginia\"), Murder = 8.5, Assault = 156, UrbanPop = 63, Rape = 20.7)\n",
       " CSV.Row: (Column1 = String15(\"Washington\"), Murder = 4.0, Assault = 145, UrbanPop = 73, Rape = 26.2)\n",
       " CSV.Row: (Column1 = String15(\"West Virginia\"), Murder = 5.7, Assault = 81, UrbanPop = 39, Rape = 9.3)\n",
       " CSV.Row: (Column1 = String15(\"Wisconsin\"), Murder = 2.6, Assault = 53, UrbanPop = 66, Rape = 10.8)\n",
       " CSV.Row: (Column1 = String15(\"Wyoming\"), Murder = 6.8, Assault = 161, UrbanPop = 60, Rape = 15.6)"
      ]
     },
     "execution_count": 2,
     "metadata": {},
     "output_type": "execute_result"
    }
   ],
   "source": [
    "# read from csv file\n",
    "csv_reader = CSV.File(\"./Data/USArrests.csv\")"
   ]
  },
  {
   "cell_type": "code",
   "execution_count": 3,
   "id": "d7a92f2c",
   "metadata": {},
   "outputs": [
    {
     "data": {
      "text/html": [
       "<div><div style = \"float: left;\"><span>5×5 DataFrame</span></div><div style = \"clear: both;\"></div></div><div class = \"data-frame\" style = \"overflow-x: scroll;\"><table class = \"data-frame\" style = \"margin-bottom: 6px;\"><thead><tr class = \"header\"><th class = \"rowNumber\" style = \"font-weight: bold; text-align: right;\">Row</th><th style = \"text-align: left;\">Column1</th><th style = \"text-align: left;\">Murder</th><th style = \"text-align: left;\">Assault</th><th style = \"text-align: left;\">UrbanPop</th><th style = \"text-align: left;\">Rape</th></tr><tr class = \"subheader headerLastRow\"><th class = \"rowNumber\" style = \"font-weight: bold; text-align: right;\"></th><th title = \"String15\" style = \"text-align: left;\">String15</th><th title = \"Float64\" style = \"text-align: left;\">Float64</th><th title = \"Int64\" style = \"text-align: left;\">Int64</th><th title = \"Int64\" style = \"text-align: left;\">Int64</th><th title = \"Float64\" style = \"text-align: left;\">Float64</th></tr></thead><tbody><tr><td class = \"rowNumber\" style = \"font-weight: bold; text-align: right;\">1</td><td style = \"text-align: left;\">Alabama</td><td style = \"text-align: right;\">13.2</td><td style = \"text-align: right;\">236</td><td style = \"text-align: right;\">58</td><td style = \"text-align: right;\">21.2</td></tr><tr><td class = \"rowNumber\" style = \"font-weight: bold; text-align: right;\">2</td><td style = \"text-align: left;\">Alaska</td><td style = \"text-align: right;\">10.0</td><td style = \"text-align: right;\">263</td><td style = \"text-align: right;\">48</td><td style = \"text-align: right;\">44.5</td></tr><tr><td class = \"rowNumber\" style = \"font-weight: bold; text-align: right;\">3</td><td style = \"text-align: left;\">Arizona</td><td style = \"text-align: right;\">8.1</td><td style = \"text-align: right;\">294</td><td style = \"text-align: right;\">80</td><td style = \"text-align: right;\">31.0</td></tr><tr><td class = \"rowNumber\" style = \"font-weight: bold; text-align: right;\">4</td><td style = \"text-align: left;\">Arkansas</td><td style = \"text-align: right;\">8.8</td><td style = \"text-align: right;\">190</td><td style = \"text-align: right;\">50</td><td style = \"text-align: right;\">19.5</td></tr><tr><td class = \"rowNumber\" style = \"font-weight: bold; text-align: right;\">5</td><td style = \"text-align: left;\">California</td><td style = \"text-align: right;\">9.0</td><td style = \"text-align: right;\">276</td><td style = \"text-align: right;\">91</td><td style = \"text-align: right;\">40.6</td></tr></tbody></table></div>"
      ],
      "text/latex": [
       "\\begin{tabular}{r|ccccc}\n",
       "\t& Column1 & Murder & Assault & UrbanPop & Rape\\\\\n",
       "\t\\hline\n",
       "\t& String15 & Float64 & Int64 & Int64 & Float64\\\\\n",
       "\t\\hline\n",
       "\t1 & Alabama & 13.2 & 236 & 58 & 21.2 \\\\\n",
       "\t2 & Alaska & 10.0 & 263 & 48 & 44.5 \\\\\n",
       "\t3 & Arizona & 8.1 & 294 & 80 & 31.0 \\\\\n",
       "\t4 & Arkansas & 8.8 & 190 & 50 & 19.5 \\\\\n",
       "\t5 & California & 9.0 & 276 & 91 & 40.6 \\\\\n",
       "\\end{tabular}\n"
      ],
      "text/plain": [
       "\u001b[1m5×5 DataFrame\u001b[0m\n",
       "\u001b[1m Row \u001b[0m│\u001b[1m Column1    \u001b[0m\u001b[1m Murder  \u001b[0m\u001b[1m Assault \u001b[0m\u001b[1m UrbanPop \u001b[0m\u001b[1m Rape    \u001b[0m\n",
       "     │\u001b[90m String15   \u001b[0m\u001b[90m Float64 \u001b[0m\u001b[90m Int64   \u001b[0m\u001b[90m Int64    \u001b[0m\u001b[90m Float64 \u001b[0m\n",
       "─────┼─────────────────────────────────────────────────\n",
       "   1 │ Alabama        13.2      236        58     21.2\n",
       "   2 │ Alaska         10.0      263        48     44.5\n",
       "   3 │ Arizona         8.1      294        80     31.0\n",
       "   4 │ Arkansas        8.8      190        50     19.5\n",
       "   5 │ California      9.0      276        91     40.6"
      ]
     },
     "execution_count": 3,
     "metadata": {},
     "output_type": "execute_result"
    }
   ],
   "source": [
    "df = DataFrame(csv_reader)\n",
    "first(df,5)"
   ]
  },
  {
   "cell_type": "code",
   "execution_count": 4,
   "id": "835bcbc1",
   "metadata": {},
   "outputs": [
    {
     "data": {
      "text/html": [
       "<div><div style = \"float: left;\"><span>5×7 DataFrame</span></div><div style = \"clear: both;\"></div></div><div class = \"data-frame\" style = \"overflow-x: scroll;\"><table class = \"data-frame\" style = \"margin-bottom: 6px;\"><thead><tr class = \"header\"><th class = \"rowNumber\" style = \"font-weight: bold; text-align: right;\">Row</th><th style = \"text-align: left;\">variable</th><th style = \"text-align: left;\">mean</th><th style = \"text-align: left;\">min</th><th style = \"text-align: left;\">median</th><th style = \"text-align: left;\">max</th><th style = \"text-align: left;\">nmissing</th><th style = \"text-align: left;\">eltype</th></tr><tr class = \"subheader headerLastRow\"><th class = \"rowNumber\" style = \"font-weight: bold; text-align: right;\"></th><th title = \"Symbol\" style = \"text-align: left;\">Symbol</th><th title = \"Union{Nothing, Float64}\" style = \"text-align: left;\">Union…</th><th title = \"Any\" style = \"text-align: left;\">Any</th><th title = \"Union{Nothing, Float64}\" style = \"text-align: left;\">Union…</th><th title = \"Any\" style = \"text-align: left;\">Any</th><th title = \"Int64\" style = \"text-align: left;\">Int64</th><th title = \"DataType\" style = \"text-align: left;\">DataType</th></tr></thead><tbody><tr><td class = \"rowNumber\" style = \"font-weight: bold; text-align: right;\">1</td><td style = \"text-align: left;\">Column1</td><td style = \"font-style: italic; text-align: left;\"></td><td style = \"text-align: left;\">Alabama</td><td style = \"font-style: italic; text-align: left;\"></td><td style = \"text-align: left;\">Wyoming</td><td style = \"text-align: right;\">0</td><td style = \"text-align: left;\">String15</td></tr><tr><td class = \"rowNumber\" style = \"font-weight: bold; text-align: right;\">2</td><td style = \"text-align: left;\">Murder</td><td style = \"text-align: left;\">7.788</td><td style = \"text-align: left;\">0.8</td><td style = \"text-align: left;\">7.25</td><td style = \"text-align: left;\">17.4</td><td style = \"text-align: right;\">0</td><td style = \"text-align: left;\">Float64</td></tr><tr><td class = \"rowNumber\" style = \"font-weight: bold; text-align: right;\">3</td><td style = \"text-align: left;\">Assault</td><td style = \"text-align: left;\">170.76</td><td style = \"text-align: left;\">45</td><td style = \"text-align: left;\">159.0</td><td style = \"text-align: left;\">337</td><td style = \"text-align: right;\">0</td><td style = \"text-align: left;\">Int64</td></tr><tr><td class = \"rowNumber\" style = \"font-weight: bold; text-align: right;\">4</td><td style = \"text-align: left;\">UrbanPop</td><td style = \"text-align: left;\">65.54</td><td style = \"text-align: left;\">32</td><td style = \"text-align: left;\">66.0</td><td style = \"text-align: left;\">91</td><td style = \"text-align: right;\">0</td><td style = \"text-align: left;\">Int64</td></tr><tr><td class = \"rowNumber\" style = \"font-weight: bold; text-align: right;\">5</td><td style = \"text-align: left;\">Rape</td><td style = \"text-align: left;\">21.232</td><td style = \"text-align: left;\">7.3</td><td style = \"text-align: left;\">20.1</td><td style = \"text-align: left;\">46.0</td><td style = \"text-align: right;\">0</td><td style = \"text-align: left;\">Float64</td></tr></tbody></table></div>"
      ],
      "text/latex": [
       "\\begin{tabular}{r|ccccccc}\n",
       "\t& variable & mean & min & median & max & nmissing & eltype\\\\\n",
       "\t\\hline\n",
       "\t& Symbol & Union… & Any & Union… & Any & Int64 & DataType\\\\\n",
       "\t\\hline\n",
       "\t1 & Column1 &  & Alabama &  & Wyoming & 0 & String15 \\\\\n",
       "\t2 & Murder & 7.788 & 0.8 & 7.25 & 17.4 & 0 & Float64 \\\\\n",
       "\t3 & Assault & 170.76 & 45 & 159.0 & 337 & 0 & Int64 \\\\\n",
       "\t4 & UrbanPop & 65.54 & 32 & 66.0 & 91 & 0 & Int64 \\\\\n",
       "\t5 & Rape & 21.232 & 7.3 & 20.1 & 46.0 & 0 & Float64 \\\\\n",
       "\\end{tabular}\n"
      ],
      "text/plain": [
       "\u001b[1m5×7 DataFrame\u001b[0m\n",
       "\u001b[1m Row \u001b[0m│\u001b[1m variable \u001b[0m\u001b[1m mean   \u001b[0m\u001b[1m min     \u001b[0m\u001b[1m median \u001b[0m\u001b[1m max     \u001b[0m\u001b[1m nmissing \u001b[0m\u001b[1m eltype   \u001b[0m\n",
       "     │\u001b[90m Symbol   \u001b[0m\u001b[90m Union… \u001b[0m\u001b[90m Any     \u001b[0m\u001b[90m Union… \u001b[0m\u001b[90m Any     \u001b[0m\u001b[90m Int64    \u001b[0m\u001b[90m DataType \u001b[0m\n",
       "─────┼────────────────────────────────────────────────────────────────\n",
       "   1 │ Column1  \u001b[90m        \u001b[0m Alabama \u001b[90m        \u001b[0m Wyoming         0  String15\n",
       "   2 │ Murder    7.788   0.8      7.25    17.4            0  Float64\n",
       "   3 │ Assault   170.76  45       159.0   337             0  Int64\n",
       "   4 │ UrbanPop  65.54   32       66.0    91              0  Int64\n",
       "   5 │ Rape      21.232  7.3      20.1    46.0            0  Float64"
      ]
     },
     "execution_count": 4,
     "metadata": {},
     "output_type": "execute_result"
    }
   ],
   "source": [
    "describe(df)"
   ]
  },
  {
   "cell_type": "code",
   "execution_count": 5,
   "id": "32615c9d",
   "metadata": {},
   "outputs": [
    {
     "data": {
      "text/html": [
       "<div><div style = \"float: left;\"><span>50×4 DataFrame</span></div><div style = \"float: right;\"><span style = \"font-style: italic;\">25 rows omitted</span></div><div style = \"clear: both;\"></div></div><div class = \"data-frame\" style = \"overflow-x: scroll;\"><table class = \"data-frame\" style = \"margin-bottom: 6px;\"><thead><tr class = \"header\"><th class = \"rowNumber\" style = \"font-weight: bold; text-align: right;\">Row</th><th style = \"text-align: left;\">Murder</th><th style = \"text-align: left;\">Assault</th><th style = \"text-align: left;\">UrbanPop</th><th style = \"text-align: left;\">Rape</th></tr><tr class = \"subheader headerLastRow\"><th class = \"rowNumber\" style = \"font-weight: bold; text-align: right;\"></th><th title = \"Float64\" style = \"text-align: left;\">Float64</th><th title = \"Int64\" style = \"text-align: left;\">Int64</th><th title = \"Int64\" style = \"text-align: left;\">Int64</th><th title = \"Float64\" style = \"text-align: left;\">Float64</th></tr></thead><tbody><tr><td class = \"rowNumber\" style = \"font-weight: bold; text-align: right;\">1</td><td style = \"text-align: right;\">13.2</td><td style = \"text-align: right;\">236</td><td style = \"text-align: right;\">58</td><td style = \"text-align: right;\">21.2</td></tr><tr><td class = \"rowNumber\" style = \"font-weight: bold; text-align: right;\">2</td><td style = \"text-align: right;\">10.0</td><td style = \"text-align: right;\">263</td><td style = \"text-align: right;\">48</td><td style = \"text-align: right;\">44.5</td></tr><tr><td class = \"rowNumber\" style = \"font-weight: bold; text-align: right;\">3</td><td style = \"text-align: right;\">8.1</td><td style = \"text-align: right;\">294</td><td style = \"text-align: right;\">80</td><td style = \"text-align: right;\">31.0</td></tr><tr><td class = \"rowNumber\" style = \"font-weight: bold; text-align: right;\">4</td><td style = \"text-align: right;\">8.8</td><td style = \"text-align: right;\">190</td><td style = \"text-align: right;\">50</td><td style = \"text-align: right;\">19.5</td></tr><tr><td class = \"rowNumber\" style = \"font-weight: bold; text-align: right;\">5</td><td style = \"text-align: right;\">9.0</td><td style = \"text-align: right;\">276</td><td style = \"text-align: right;\">91</td><td style = \"text-align: right;\">40.6</td></tr><tr><td class = \"rowNumber\" style = \"font-weight: bold; text-align: right;\">6</td><td style = \"text-align: right;\">7.9</td><td style = \"text-align: right;\">204</td><td style = \"text-align: right;\">78</td><td style = \"text-align: right;\">38.7</td></tr><tr><td class = \"rowNumber\" style = \"font-weight: bold; text-align: right;\">7</td><td style = \"text-align: right;\">3.3</td><td style = \"text-align: right;\">110</td><td style = \"text-align: right;\">77</td><td style = \"text-align: right;\">11.1</td></tr><tr><td class = \"rowNumber\" style = \"font-weight: bold; text-align: right;\">8</td><td style = \"text-align: right;\">5.9</td><td style = \"text-align: right;\">238</td><td style = \"text-align: right;\">72</td><td style = \"text-align: right;\">15.8</td></tr><tr><td class = \"rowNumber\" style = \"font-weight: bold; text-align: right;\">9</td><td style = \"text-align: right;\">15.4</td><td style = \"text-align: right;\">335</td><td style = \"text-align: right;\">80</td><td style = \"text-align: right;\">31.9</td></tr><tr><td class = \"rowNumber\" style = \"font-weight: bold; text-align: right;\">10</td><td style = \"text-align: right;\">17.4</td><td style = \"text-align: right;\">211</td><td style = \"text-align: right;\">60</td><td style = \"text-align: right;\">25.8</td></tr><tr><td class = \"rowNumber\" style = \"font-weight: bold; text-align: right;\">11</td><td style = \"text-align: right;\">5.3</td><td style = \"text-align: right;\">46</td><td style = \"text-align: right;\">83</td><td style = \"text-align: right;\">20.2</td></tr><tr><td class = \"rowNumber\" style = \"font-weight: bold; text-align: right;\">12</td><td style = \"text-align: right;\">2.6</td><td style = \"text-align: right;\">120</td><td style = \"text-align: right;\">54</td><td style = \"text-align: right;\">14.2</td></tr><tr><td class = \"rowNumber\" style = \"font-weight: bold; text-align: right;\">13</td><td style = \"text-align: right;\">10.4</td><td style = \"text-align: right;\">249</td><td style = \"text-align: right;\">83</td><td style = \"text-align: right;\">24.0</td></tr><tr><td style = \"text-align: right;\">&vellip;</td><td style = \"text-align: right;\">&vellip;</td><td style = \"text-align: right;\">&vellip;</td><td style = \"text-align: right;\">&vellip;</td><td style = \"text-align: right;\">&vellip;</td></tr><tr><td class = \"rowNumber\" style = \"font-weight: bold; text-align: right;\">39</td><td style = \"text-align: right;\">3.4</td><td style = \"text-align: right;\">174</td><td style = \"text-align: right;\">87</td><td style = \"text-align: right;\">8.3</td></tr><tr><td class = \"rowNumber\" style = \"font-weight: bold; text-align: right;\">40</td><td style = \"text-align: right;\">14.4</td><td style = \"text-align: right;\">279</td><td style = \"text-align: right;\">48</td><td style = \"text-align: right;\">22.5</td></tr><tr><td class = \"rowNumber\" style = \"font-weight: bold; text-align: right;\">41</td><td style = \"text-align: right;\">3.8</td><td style = \"text-align: right;\">86</td><td style = \"text-align: right;\">45</td><td style = \"text-align: right;\">12.8</td></tr><tr><td class = \"rowNumber\" style = \"font-weight: bold; text-align: right;\">42</td><td style = \"text-align: right;\">13.2</td><td style = \"text-align: right;\">188</td><td style = \"text-align: right;\">59</td><td style = \"text-align: right;\">26.9</td></tr><tr><td class = \"rowNumber\" style = \"font-weight: bold; text-align: right;\">43</td><td style = \"text-align: right;\">12.7</td><td style = \"text-align: right;\">201</td><td style = \"text-align: right;\">80</td><td style = \"text-align: right;\">25.5</td></tr><tr><td class = \"rowNumber\" style = \"font-weight: bold; text-align: right;\">44</td><td style = \"text-align: right;\">3.2</td><td style = \"text-align: right;\">120</td><td style = \"text-align: right;\">80</td><td style = \"text-align: right;\">22.9</td></tr><tr><td class = \"rowNumber\" style = \"font-weight: bold; text-align: right;\">45</td><td style = \"text-align: right;\">2.2</td><td style = \"text-align: right;\">48</td><td style = \"text-align: right;\">32</td><td style = \"text-align: right;\">11.2</td></tr><tr><td class = \"rowNumber\" style = \"font-weight: bold; text-align: right;\">46</td><td style = \"text-align: right;\">8.5</td><td style = \"text-align: right;\">156</td><td style = \"text-align: right;\">63</td><td style = \"text-align: right;\">20.7</td></tr><tr><td class = \"rowNumber\" style = \"font-weight: bold; text-align: right;\">47</td><td style = \"text-align: right;\">4.0</td><td style = \"text-align: right;\">145</td><td style = \"text-align: right;\">73</td><td style = \"text-align: right;\">26.2</td></tr><tr><td class = \"rowNumber\" style = \"font-weight: bold; text-align: right;\">48</td><td style = \"text-align: right;\">5.7</td><td style = \"text-align: right;\">81</td><td style = \"text-align: right;\">39</td><td style = \"text-align: right;\">9.3</td></tr><tr><td class = \"rowNumber\" style = \"font-weight: bold; text-align: right;\">49</td><td style = \"text-align: right;\">2.6</td><td style = \"text-align: right;\">53</td><td style = \"text-align: right;\">66</td><td style = \"text-align: right;\">10.8</td></tr><tr><td class = \"rowNumber\" style = \"font-weight: bold; text-align: right;\">50</td><td style = \"text-align: right;\">6.8</td><td style = \"text-align: right;\">161</td><td style = \"text-align: right;\">60</td><td style = \"text-align: right;\">15.6</td></tr></tbody></table></div>"
      ],
      "text/latex": [
       "\\begin{tabular}{r|cccc}\n",
       "\t& Murder & Assault & UrbanPop & Rape\\\\\n",
       "\t\\hline\n",
       "\t& Float64 & Int64 & Int64 & Float64\\\\\n",
       "\t\\hline\n",
       "\t1 & 13.2 & 236 & 58 & 21.2 \\\\\n",
       "\t2 & 10.0 & 263 & 48 & 44.5 \\\\\n",
       "\t3 & 8.1 & 294 & 80 & 31.0 \\\\\n",
       "\t4 & 8.8 & 190 & 50 & 19.5 \\\\\n",
       "\t5 & 9.0 & 276 & 91 & 40.6 \\\\\n",
       "\t6 & 7.9 & 204 & 78 & 38.7 \\\\\n",
       "\t7 & 3.3 & 110 & 77 & 11.1 \\\\\n",
       "\t8 & 5.9 & 238 & 72 & 15.8 \\\\\n",
       "\t9 & 15.4 & 335 & 80 & 31.9 \\\\\n",
       "\t10 & 17.4 & 211 & 60 & 25.8 \\\\\n",
       "\t11 & 5.3 & 46 & 83 & 20.2 \\\\\n",
       "\t12 & 2.6 & 120 & 54 & 14.2 \\\\\n",
       "\t13 & 10.4 & 249 & 83 & 24.0 \\\\\n",
       "\t14 & 7.2 & 113 & 65 & 21.0 \\\\\n",
       "\t15 & 2.2 & 56 & 57 & 11.3 \\\\\n",
       "\t16 & 6.0 & 115 & 66 & 18.0 \\\\\n",
       "\t17 & 9.7 & 109 & 52 & 16.3 \\\\\n",
       "\t18 & 15.4 & 249 & 66 & 22.2 \\\\\n",
       "\t19 & 2.1 & 83 & 51 & 7.8 \\\\\n",
       "\t20 & 11.3 & 300 & 67 & 27.8 \\\\\n",
       "\t21 & 4.4 & 149 & 85 & 16.3 \\\\\n",
       "\t22 & 12.1 & 255 & 74 & 35.1 \\\\\n",
       "\t23 & 2.7 & 72 & 66 & 14.9 \\\\\n",
       "\t24 & 16.1 & 259 & 44 & 17.1 \\\\\n",
       "\t25 & 9.0 & 178 & 70 & 28.2 \\\\\n",
       "\t26 & 6.0 & 109 & 53 & 16.4 \\\\\n",
       "\t27 & 4.3 & 102 & 62 & 16.5 \\\\\n",
       "\t28 & 12.2 & 252 & 81 & 46.0 \\\\\n",
       "\t29 & 2.1 & 57 & 56 & 9.5 \\\\\n",
       "\t30 & 7.4 & 159 & 89 & 18.8 \\\\\n",
       "\t$\\dots$ & $\\dots$ & $\\dots$ & $\\dots$ & $\\dots$ \\\\\n",
       "\\end{tabular}\n"
      ],
      "text/plain": [
       "\u001b[1m50×4 DataFrame\u001b[0m\n",
       "\u001b[1m Row \u001b[0m│\u001b[1m Murder  \u001b[0m\u001b[1m Assault \u001b[0m\u001b[1m UrbanPop \u001b[0m\u001b[1m Rape    \u001b[0m\n",
       "     │\u001b[90m Float64 \u001b[0m\u001b[90m Int64   \u001b[0m\u001b[90m Int64    \u001b[0m\u001b[90m Float64 \u001b[0m\n",
       "─────┼─────────────────────────────────────\n",
       "   1 │    13.2      236        58     21.2\n",
       "   2 │    10.0      263        48     44.5\n",
       "   3 │     8.1      294        80     31.0\n",
       "   4 │     8.8      190        50     19.5\n",
       "   5 │     9.0      276        91     40.6\n",
       "   6 │     7.9      204        78     38.7\n",
       "   7 │     3.3      110        77     11.1\n",
       "   8 │     5.9      238        72     15.8\n",
       "   9 │    15.4      335        80     31.9\n",
       "  10 │    17.4      211        60     25.8\n",
       "  11 │     5.3       46        83     20.2\n",
       "  ⋮  │    ⋮        ⋮        ⋮         ⋮\n",
       "  41 │     3.8       86        45     12.8\n",
       "  42 │    13.2      188        59     26.9\n",
       "  43 │    12.7      201        80     25.5\n",
       "  44 │     3.2      120        80     22.9\n",
       "  45 │     2.2       48        32     11.2\n",
       "  46 │     8.5      156        63     20.7\n",
       "  47 │     4.0      145        73     26.2\n",
       "  48 │     5.7       81        39      9.3\n",
       "  49 │     2.6       53        66     10.8\n",
       "  50 │     6.8      161        60     15.6\n",
       "\u001b[36m                            29 rows omitted\u001b[0m"
      ]
     },
     "execution_count": 5,
     "metadata": {},
     "output_type": "execute_result"
    }
   ],
   "source": [
    "newdf = df[!, Not(\"Column1\")]"
   ]
  },
  {
   "cell_type": "code",
   "execution_count": 6,
   "id": "7416c555",
   "metadata": {
    "scrolled": true
   },
   "outputs": [
    {
     "data": {
      "text/plain": [
       "4×50 adjoint(::Matrix{Float64}) with eltype Float64:\n",
       "  1.24256      0.507862  0.0716334  …  -0.479393  -1.19113    -0.226839\n",
       "  0.782839     1.10682   1.4788        -1.07706   -1.41305    -0.117114\n",
       " -0.520907    -1.21176   0.99898       -1.83354    0.0317794  -0.382735\n",
       " -0.00341647   2.4842    1.04288       -1.27392   -1.11377    -0.601299"
      ]
     },
     "execution_count": 6,
     "metadata": {},
     "output_type": "execute_result"
    }
   ],
   "source": [
    "df1 = Matrix(newdf) #convert dataframe to matrix\n",
    "dt_std = standardize(ZScoreTransform, df1, dims=1)\n",
    "dt_std = dt_std' #take transpose because julia fit function needs transpose"
   ]
  },
  {
   "cell_type": "code",
   "execution_count": 7,
   "id": "60cab4ce",
   "metadata": {
    "scrolled": true
   },
   "outputs": [
    {
     "data": {
      "text/plain": [
       "PCA(indim = 4, outdim = 4, principalratio = 1.0)\n",
       "\n",
       "Pattern matrix (unstandardized loadings):\n",
       "─────────────────────────────────────────────\n",
       "        PC1        PC2        PC3         PC4\n",
       "─────────────────────────────────────────────\n",
       "1  0.843976  -0.416035   0.20376    0.270371\n",
       "2  0.918443  -0.187021   0.160119  -0.309592\n",
       "3  0.438117   0.868328   0.225724   0.0557533\n",
       "4  0.855839   0.16646   -0.488319   0.0370741\n",
       "─────────────────────────────────────────────\n",
       "\n",
       "Importance of components:\n",
       "──────────────────────────────────────────────────────────────────\n",
       "                               PC1       PC2        PC3        PC4\n",
       "──────────────────────────────────────────────────────────────────\n",
       "SS Loadings (Eigenvalues)  2.48024  0.989765  0.356563   0.17343\n",
       "Variance explained         0.62006  0.247441  0.0891408  0.0433575\n",
       "Cumulative variance        0.62006  0.867502  0.956642   1.0\n",
       "Proportion explained       0.62006  0.247441  0.0891408  0.0433575\n",
       "Cumulative proportion      0.62006  0.867502  0.956642   1.0\n",
       "──────────────────────────────────────────────────────────────────"
      ]
     },
     "execution_count": 7,
     "metadata": {},
     "output_type": "execute_result"
    }
   ],
   "source": [
    "M = fit(PCA,dt_std;maxoutdim=4)"
   ]
  },
  {
   "cell_type": "code",
   "execution_count": 8,
   "id": "af29b5bf",
   "metadata": {},
   "outputs": [
    {
     "data": {
      "text/plain": [
       "50×4 adjoint(::Matrix{Float64}) with eltype Float64:\n",
       "  0.97566     1.122      -0.439804    0.154697\n",
       "  1.93054     1.06243     2.0195     -0.434175\n",
       "  1.74544    -0.73846     0.0542302  -0.826264\n",
       " -0.139999    1.10854     0.113422   -0.180974\n",
       "  2.49861    -1.52743     0.592541   -0.338559\n",
       "  1.49934    -0.97763     1.084       0.00145016\n",
       " -1.34499    -1.07798    -0.636793   -0.117279\n",
       "  0.0472298  -0.322089   -0.71141    -0.873113\n",
       "  2.98276     0.0388342  -0.571032   -0.095317\n",
       "  1.62281     1.26609    -0.339018    1.06597\n",
       " -0.903484   -1.55468     0.0502715   0.893733\n",
       " -1.62332     0.208853    0.25719    -0.494088\n",
       "  1.36505    -0.674988   -0.670686   -0.120795\n",
       "  ⋮                                  \n",
       " -0.855091   -1.47698    -1.35618    -0.607403\n",
       "  1.30745     1.91397    -0.297517   -0.130145\n",
       " -1.9678      0.815068    0.385381   -0.108471\n",
       "  0.989694    0.851605    0.186193    0.646303\n",
       "  1.34152    -0.408335   -0.487123    0.636731\n",
       " -0.545032   -1.45672     0.290776   -0.0814867\n",
       " -2.77326     1.38819     0.832808   -0.143434\n",
       " -0.0953667   0.197728    0.0115948   0.209246\n",
       " -0.214723   -0.960374    0.618591   -0.218628\n",
       " -2.08739     1.41053     0.103722    0.130583\n",
       " -2.05881    -0.605125   -0.137469    0.182253\n",
       " -0.623101    0.317787   -0.23824    -0.164977"
      ]
     },
     "execution_count": 8,
     "metadata": {},
     "output_type": "execute_result"
    }
   ],
   "source": [
    "dt_transformed = MultivariateStats.transform(M, dt_std)\n",
    "pca_mat = dt_transformed'\n",
    "pca_mat[:,1] = -pca_mat[:,1]\n",
    "pca_mat[:,2] = -pca_mat[:,2]\n",
    "pca_mat"
   ]
  },
  {
   "cell_type": "code",
   "execution_count": 9,
   "id": "bc61f5d3",
   "metadata": {
    "scrolled": true
   },
   "outputs": [
    {
     "data": {
      "text/html": [
       "<div><div style = \"float: left;\"><span>50×3 DataFrame</span></div><div style = \"float: right;\"><span style = \"font-style: italic;\">25 rows omitted</span></div><div style = \"clear: both;\"></div></div><div class = \"data-frame\" style = \"overflow-x: scroll;\"><table class = \"data-frame\" style = \"margin-bottom: 6px;\"><thead><tr class = \"header\"><th class = \"rowNumber\" style = \"font-weight: bold; text-align: right;\">Row</th><th style = \"text-align: left;\">city</th><th style = \"text-align: left;\">PC1</th><th style = \"text-align: left;\">PC2</th></tr><tr class = \"subheader headerLastRow\"><th class = \"rowNumber\" style = \"font-weight: bold; text-align: right;\"></th><th title = \"String15\" style = \"text-align: left;\">String15</th><th title = \"Float64\" style = \"text-align: left;\">Float64</th><th title = \"Float64\" style = \"text-align: left;\">Float64</th></tr></thead><tbody><tr><td class = \"rowNumber\" style = \"font-weight: bold; text-align: right;\">1</td><td style = \"text-align: left;\">Alabama</td><td style = \"text-align: right;\">0.97566</td><td style = \"text-align: right;\">1.122</td></tr><tr><td class = \"rowNumber\" style = \"font-weight: bold; text-align: right;\">2</td><td style = \"text-align: left;\">Alaska</td><td style = \"text-align: right;\">1.93054</td><td style = \"text-align: right;\">1.06243</td></tr><tr><td class = \"rowNumber\" style = \"font-weight: bold; text-align: right;\">3</td><td style = \"text-align: left;\">Arizona</td><td style = \"text-align: right;\">1.74544</td><td style = \"text-align: right;\">-0.73846</td></tr><tr><td class = \"rowNumber\" style = \"font-weight: bold; text-align: right;\">4</td><td style = \"text-align: left;\">Arkansas</td><td style = \"text-align: right;\">-0.139999</td><td style = \"text-align: right;\">1.10854</td></tr><tr><td class = \"rowNumber\" style = \"font-weight: bold; text-align: right;\">5</td><td style = \"text-align: left;\">California</td><td style = \"text-align: right;\">2.49861</td><td style = \"text-align: right;\">-1.52743</td></tr><tr><td class = \"rowNumber\" style = \"font-weight: bold; text-align: right;\">6</td><td style = \"text-align: left;\">Colorado</td><td style = \"text-align: right;\">1.49934</td><td style = \"text-align: right;\">-0.97763</td></tr><tr><td class = \"rowNumber\" style = \"font-weight: bold; text-align: right;\">7</td><td style = \"text-align: left;\">Connecticut</td><td style = \"text-align: right;\">-1.34499</td><td style = \"text-align: right;\">-1.07798</td></tr><tr><td class = \"rowNumber\" style = \"font-weight: bold; text-align: right;\">8</td><td style = \"text-align: left;\">Delaware</td><td style = \"text-align: right;\">0.0472298</td><td style = \"text-align: right;\">-0.322089</td></tr><tr><td class = \"rowNumber\" style = \"font-weight: bold; text-align: right;\">9</td><td style = \"text-align: left;\">Florida</td><td style = \"text-align: right;\">2.98276</td><td style = \"text-align: right;\">0.0388342</td></tr><tr><td class = \"rowNumber\" style = \"font-weight: bold; text-align: right;\">10</td><td style = \"text-align: left;\">Georgia</td><td style = \"text-align: right;\">1.62281</td><td style = \"text-align: right;\">1.26609</td></tr><tr><td class = \"rowNumber\" style = \"font-weight: bold; text-align: right;\">11</td><td style = \"text-align: left;\">Hawaii</td><td style = \"text-align: right;\">-0.903484</td><td style = \"text-align: right;\">-1.55468</td></tr><tr><td class = \"rowNumber\" style = \"font-weight: bold; text-align: right;\">12</td><td style = \"text-align: left;\">Idaho</td><td style = \"text-align: right;\">-1.62332</td><td style = \"text-align: right;\">0.208853</td></tr><tr><td class = \"rowNumber\" style = \"font-weight: bold; text-align: right;\">13</td><td style = \"text-align: left;\">Illinois</td><td style = \"text-align: right;\">1.36505</td><td style = \"text-align: right;\">-0.674988</td></tr><tr><td style = \"text-align: right;\">&vellip;</td><td style = \"text-align: right;\">&vellip;</td><td style = \"text-align: right;\">&vellip;</td><td style = \"text-align: right;\">&vellip;</td></tr><tr><td class = \"rowNumber\" style = \"font-weight: bold; text-align: right;\">39</td><td style = \"text-align: left;\">Rhode Island</td><td style = \"text-align: right;\">-0.855091</td><td style = \"text-align: right;\">-1.47698</td></tr><tr><td class = \"rowNumber\" style = \"font-weight: bold; text-align: right;\">40</td><td style = \"text-align: left;\">South Carolina</td><td style = \"text-align: right;\">1.30745</td><td style = \"text-align: right;\">1.91397</td></tr><tr><td class = \"rowNumber\" style = \"font-weight: bold; text-align: right;\">41</td><td style = \"text-align: left;\">South Dakota</td><td style = \"text-align: right;\">-1.9678</td><td style = \"text-align: right;\">0.815068</td></tr><tr><td class = \"rowNumber\" style = \"font-weight: bold; text-align: right;\">42</td><td style = \"text-align: left;\">Tennessee</td><td style = \"text-align: right;\">0.989694</td><td style = \"text-align: right;\">0.851605</td></tr><tr><td class = \"rowNumber\" style = \"font-weight: bold; text-align: right;\">43</td><td style = \"text-align: left;\">Texas</td><td style = \"text-align: right;\">1.34152</td><td style = \"text-align: right;\">-0.408335</td></tr><tr><td class = \"rowNumber\" style = \"font-weight: bold; text-align: right;\">44</td><td style = \"text-align: left;\">Utah</td><td style = \"text-align: right;\">-0.545032</td><td style = \"text-align: right;\">-1.45672</td></tr><tr><td class = \"rowNumber\" style = \"font-weight: bold; text-align: right;\">45</td><td style = \"text-align: left;\">Vermont</td><td style = \"text-align: right;\">-2.77326</td><td style = \"text-align: right;\">1.38819</td></tr><tr><td class = \"rowNumber\" style = \"font-weight: bold; text-align: right;\">46</td><td style = \"text-align: left;\">Virginia</td><td style = \"text-align: right;\">-0.0953667</td><td style = \"text-align: right;\">0.197728</td></tr><tr><td class = \"rowNumber\" style = \"font-weight: bold; text-align: right;\">47</td><td style = \"text-align: left;\">Washington</td><td style = \"text-align: right;\">-0.214723</td><td style = \"text-align: right;\">-0.960374</td></tr><tr><td class = \"rowNumber\" style = \"font-weight: bold; text-align: right;\">48</td><td style = \"text-align: left;\">West Virginia</td><td style = \"text-align: right;\">-2.08739</td><td style = \"text-align: right;\">1.41053</td></tr><tr><td class = \"rowNumber\" style = \"font-weight: bold; text-align: right;\">49</td><td style = \"text-align: left;\">Wisconsin</td><td style = \"text-align: right;\">-2.05881</td><td style = \"text-align: right;\">-0.605125</td></tr><tr><td class = \"rowNumber\" style = \"font-weight: bold; text-align: right;\">50</td><td style = \"text-align: left;\">Wyoming</td><td style = \"text-align: right;\">-0.623101</td><td style = \"text-align: right;\">0.317787</td></tr></tbody></table></div>"
      ],
      "text/latex": [
       "\\begin{tabular}{r|ccc}\n",
       "\t& city & PC1 & PC2\\\\\n",
       "\t\\hline\n",
       "\t& String15 & Float64 & Float64\\\\\n",
       "\t\\hline\n",
       "\t1 & Alabama & 0.97566 & 1.122 \\\\\n",
       "\t2 & Alaska & 1.93054 & 1.06243 \\\\\n",
       "\t3 & Arizona & 1.74544 & -0.73846 \\\\\n",
       "\t4 & Arkansas & -0.139999 & 1.10854 \\\\\n",
       "\t5 & California & 2.49861 & -1.52743 \\\\\n",
       "\t6 & Colorado & 1.49934 & -0.97763 \\\\\n",
       "\t7 & Connecticut & -1.34499 & -1.07798 \\\\\n",
       "\t8 & Delaware & 0.0472298 & -0.322089 \\\\\n",
       "\t9 & Florida & 2.98276 & 0.0388342 \\\\\n",
       "\t10 & Georgia & 1.62281 & 1.26609 \\\\\n",
       "\t11 & Hawaii & -0.903484 & -1.55468 \\\\\n",
       "\t12 & Idaho & -1.62332 & 0.208853 \\\\\n",
       "\t13 & Illinois & 1.36505 & -0.674988 \\\\\n",
       "\t14 & Indiana & -0.500381 & -0.150039 \\\\\n",
       "\t15 & Iowa & -2.231 & -0.103008 \\\\\n",
       "\t16 & Kansas & -0.788872 & -0.267449 \\\\\n",
       "\t17 & Kentucky & -0.743313 & 0.948807 \\\\\n",
       "\t18 & Louisiana & 1.54909 & 0.8623 \\\\\n",
       "\t19 & Maine & -2.37274 & 0.372609 \\\\\n",
       "\t20 & Maryland & 1.74565 & 0.423357 \\\\\n",
       "\t21 & Massachusetts & -0.48128 & -1.45968 \\\\\n",
       "\t22 & Michigan & 2.08725 & -0.153835 \\\\\n",
       "\t23 & Minnesota & -1.67567 & -0.625907 \\\\\n",
       "\t24 & Mississippi & 0.986479 & 2.36974 \\\\\n",
       "\t25 & Missouri & 0.689784 & -0.260708 \\\\\n",
       "\t26 & Montana & -1.17354 & 0.531479 \\\\\n",
       "\t27 & Nebraska & -1.25292 & -0.192004 \\\\\n",
       "\t28 & Nevada & 2.84551 & -0.767805 \\\\\n",
       "\t29 & New Hampshire & -2.35996 & -0.0179006 \\\\\n",
       "\t30 & New Jersey & 0.179741 & -1.43494 \\\\\n",
       "\t$\\dots$ & $\\dots$ & $\\dots$ & $\\dots$ \\\\\n",
       "\\end{tabular}\n"
      ],
      "text/plain": [
       "\u001b[1m50×3 DataFrame\u001b[0m\n",
       "\u001b[1m Row \u001b[0m│\u001b[1m city           \u001b[0m\u001b[1m PC1        \u001b[0m\u001b[1m PC2        \u001b[0m\n",
       "     │\u001b[90m String15       \u001b[0m\u001b[90m Float64    \u001b[0m\u001b[90m Float64    \u001b[0m\n",
       "─────┼────────────────────────────────────────\n",
       "   1 │ Alabama          0.97566     1.122\n",
       "   2 │ Alaska           1.93054     1.06243\n",
       "   3 │ Arizona          1.74544    -0.73846\n",
       "   4 │ Arkansas        -0.139999    1.10854\n",
       "   5 │ California       2.49861    -1.52743\n",
       "   6 │ Colorado         1.49934    -0.97763\n",
       "   7 │ Connecticut     -1.34499    -1.07798\n",
       "   8 │ Delaware         0.0472298  -0.322089\n",
       "   9 │ Florida          2.98276     0.0388342\n",
       "  10 │ Georgia          1.62281     1.26609\n",
       "  11 │ Hawaii          -0.903484   -1.55468\n",
       "  ⋮  │       ⋮             ⋮           ⋮\n",
       "  41 │ South Dakota    -1.9678      0.815068\n",
       "  42 │ Tennessee        0.989694    0.851605\n",
       "  43 │ Texas            1.34152    -0.408335\n",
       "  44 │ Utah            -0.545032   -1.45672\n",
       "  45 │ Vermont         -2.77326     1.38819\n",
       "  46 │ Virginia        -0.0953667   0.197728\n",
       "  47 │ Washington      -0.214723   -0.960374\n",
       "  48 │ West Virginia   -2.08739     1.41053\n",
       "  49 │ Wisconsin       -2.05881    -0.605125\n",
       "  50 │ Wyoming         -0.623101    0.317787\n",
       "\u001b[36m                               29 rows omitted\u001b[0m"
      ]
     },
     "execution_count": 9,
     "metadata": {},
     "output_type": "execute_result"
    }
   ],
   "source": [
    "load = MultivariateStats.loadings(M::PCA)\n",
    "pca_df = DataFrame(pca_mat[:,1:2], :auto)\n",
    "pca_df = rename!(pca_df,[:PC1,:PC2])\n",
    "pca_df = insertcols!(pca_df, 1, :city => df[:,\"Column1\"])\n",
    "proj = MultivariateStats.projection(M::PCA)\n",
    "pca_df"
   ]
  },
  {
   "cell_type": "code",
   "execution_count": 10,
   "id": "e829e61e",
   "metadata": {},
   "outputs": [
    {
     "data": {
      "text/plain": [
       "4×4 Matrix{Float64}:\n",
       " 0.535899   0.418181  -0.341233   0.649228\n",
       " 0.583184   0.187986  -0.268148  -0.743407\n",
       " 0.278191  -0.872806  -0.378016   0.133878\n",
       " 0.543432  -0.167319   0.817778   0.0890243"
      ]
     },
     "execution_count": 10,
     "metadata": {},
     "output_type": "execute_result"
    }
   ],
   "source": [
    "proj[:,1] = -1 * proj[:,1]\n",
    "proj[:,2] = -1 * proj[:,2]\n",
    "proj"
   ]
  },
  {
   "cell_type": "code",
   "execution_count": 11,
   "id": "414d0c05",
   "metadata": {},
   "outputs": [
    {
     "data": {
      "text/plain": [
       "4×4 Matrix{Float64}:\n",
       "  1.0        -6.5611e-8    3.8341e-8   -2.8685e-7\n",
       " -6.5611e-8   1.0         -3.91387e-7  -2.22358e-7\n",
       "  3.8341e-8  -3.91387e-7   1.0         -1.07526e-6\n",
       " -2.8685e-7  -2.22358e-7  -1.07526e-6   1.0"
      ]
     },
     "execution_count": 11,
     "metadata": {},
     "output_type": "execute_result"
    }
   ],
   "source": [
    "matrx  = [[0.535899,0.583184,0.278191,0.543432] [0.418181,0.187986,-0.872806,-0.167319] [-0.341233,-0.268148,-0.378016,0.817778] [0.649228,-0.743407,0.133878,0.089024]]\n",
    "matrx' * matrx"
   ]
  },
  {
   "cell_type": "code",
   "execution_count": 12,
   "id": "cf8a2861",
   "metadata": {},
   "outputs": [
    {
     "data": {
      "application/vnd.plotly.v1+json": {
       "config": {
        "editable": false,
        "responsive": true,
        "scrollZoom": true,
        "showLink": false,
        "staticPlot": false
       },
       "data": [
        {
         "mode": "markers",
         "text": [
          "Alabama",
          "Alaska",
          "Arizona",
          "Arkansas",
          "California",
          "Colorado",
          "Connecticut",
          "Delaware",
          "Florida",
          "Georgia",
          "Hawaii",
          "Idaho",
          "Illinois",
          "Indiana",
          "Iowa",
          "Kansas",
          "Kentucky",
          "Louisiana",
          "Maine",
          "Maryland",
          "Massachusetts",
          "Michigan",
          "Minnesota",
          "Mississippi",
          "Missouri",
          "Montana",
          "Nebraska",
          "Nevada",
          "New Hampshire",
          "New Jersey",
          "New Mexico",
          "New York",
          "North Carolina",
          "North Dakota",
          "Ohio",
          "Oklahoma",
          "Oregon",
          "Pennsylvania",
          "Rhode Island",
          "South Carolina",
          "South Dakota",
          "Tennessee",
          "Texas",
          "Utah",
          "Vermont",
          "Virginia",
          "Washington",
          "West Virginia",
          "Wisconsin",
          "Wyoming"
         ],
         "type": "scatter",
         "x": [
          0.9756604483336051,
          1.9305378785136846,
          1.745442853390599,
          -0.13999894434859467,
          2.498612848258581,
          1.499340737465524,
          -1.3449923649468496,
          0.047229806346894485,
          2.9827596698505277,
          1.622807418222746,
          -0.9034844794674851,
          -1.6233190333549075,
          1.365051973447636,
          -0.5003812184673619,
          -2.2309957855600246,
          -0.7888720624575069,
          -0.7433125605025752,
          1.5490907634214186,
          -2.372740138111474,
          1.745646633314265,
          -0.481280070041076,
          2.087250248902095,
          -1.6756695050968446,
          0.9864791853362918,
          0.6897842639943722,
          -1.1735375139692663,
          -1.2529162530451288,
          2.8455054179847705,
          -2.3599558521098043,
          0.17974127831177295,
          1.9601235131682238,
          1.665666621722479,
          1.1120880825676005,
          -2.9621522325069076,
          -0.22369435549765643,
          -0.308649279454715,
          0.05852786998113066,
          -0.8794867951994911,
          -0.8550907170076977,
          1.307449860853714,
          -1.9677966936869937,
          0.9896937743255932,
          1.3415183816678147,
          -0.5450318025550063,
          -2.7732561335497175,
          -0.09536669660002177,
          -0.2147233898343467,
          -2.0873930566766115,
          -2.05881198847966,
          -0.6231006068536146
         ],
         "xaxis": "x",
         "y": [
          1.1220012104334105,
          1.0624269195344436,
          -0.7384595372849996,
          1.10854225950591,
          -1.5274267208247936,
          -0.9776296565249839,
          -1.0779836152260318,
          -0.3220889026605659,
          0.038834246859399214,
          1.2660883840552655,
          -1.5546760937371955,
          0.20885253273339763,
          -0.6749883397629851,
          -0.1500392615172705,
          -0.10300827640612174,
          -0.2674494127422898,
          0.948807476193182,
          0.862300114746538,
          0.3726086500178088,
          0.42335704082903,
          -1.4596770604989306,
          -0.1538350021147518,
          -0.6259067048852619,
          2.369737124906746,
          -0.2607079413472625,
          0.5314785122670808,
          -0.19200439646708173,
          -0.7678050213538238,
          -0.017900553527079983,
          -1.4349374455975772,
          0.14141307772202596,
          -0.8149107245170952,
          2.205610814459266,
          0.5930973769175417,
          -0.7347783670247322,
          -0.2849611251679634,
          -0.5359699945368165,
          -0.5653605046070161,
          -1.4769832840952604,
          1.913972966720078,
          0.8150682245643797,
          0.8516053434826716,
          -0.4083351779699479,
          -1.4567152419227571,
          1.3881943501900351,
          0.1977278483532986,
          -0.9603739438193805,
          1.410526272184464,
          -0.6051250651368577,
          0.3177866246008613
         ],
         "yaxis": "y"
        }
       ],
       "frames": [],
       "layout": {
        "annotations": [
         {
          "text": "Murder",
          "x": 0.535899474938155,
          "xanchor": "center",
          "y": 0.5831836349096702,
          "yanchor": "bottom"
         },
         {
          "text": "Assault",
          "x": 0.41818086542095456,
          "xanchor": "center",
          "y": 0.18798560423193877,
          "yanchor": "bottom"
         },
         {
          "text": "UrbanPop",
          "x": -0.3412327279528282,
          "xanchor": "center",
          "y": -0.2681484278328857,
          "yanchor": "bottom"
         },
         {
          "text": "Rape",
          "x": 0.6492278043419445,
          "xanchor": "center",
          "y": -0.7434074799367093,
          "yanchor": "bottom"
         }
        ],
        "legend": {
         "tracegroupgap": 0
        },
        "margin": {
         "b": 50,
         "l": 50,
         "r": 50,
         "t": 60
        },
        "shapes": [
         {
          "type": "line",
          "x0": 0,
          "x1": 0.535899474938155,
          "y0": 0,
          "y1": 0.5831836349096702
         },
         {
          "type": "line",
          "x0": 0,
          "x1": 0.41818086542095456,
          "y0": 0,
          "y1": 0.18798560423193877
         },
         {
          "type": "line",
          "x0": 0,
          "x1": -0.3412327279528282,
          "y0": 0,
          "y1": -0.2681484278328857
         },
         {
          "type": "line",
          "x0": 0,
          "x1": 0.6492278043419445,
          "y0": 0,
          "y1": -0.7434074799367093
         }
        ],
        "template": {
         "data": {
          "bar": [
           {
            "error_x": {
             "color": "#2a3f5f"
            },
            "error_y": {
             "color": "#2a3f5f"
            },
            "marker": {
             "line": {
              "color": "#E5ECF6",
              "width": 0.5
             }
            },
            "type": "bar"
           }
          ],
          "barpolar": [
           {
            "marker": {
             "line": {
              "color": "#E5ECF6",
              "width": 0.5
             }
            },
            "type": "barpolar"
           }
          ],
          "carpet": [
           {
            "aaxis": {
             "endlinecolor": "#2a3f5f",
             "gridcolor": "white",
             "linecolor": "white",
             "minorgridcolor": "white",
             "startlinecolor": "#2a3f5f"
            },
            "baxis": {
             "endlinecolor": "#2a3f5f",
             "gridcolor": "white",
             "linecolor": "white",
             "minorgridcolor": "white",
             "startlinecolor": "#2a3f5f"
            },
            "type": "carpet"
           }
          ],
          "choropleth": [
           {
            "colorbar": {
             "outlinewidth": 0,
             "ticks": ""
            },
            "type": "choropleth"
           }
          ],
          "contour": [
           {
            "colorbar": {
             "outlinewidth": 0,
             "ticks": ""
            },
            "colorscale": [
             [
              0,
              "#0d0887"
             ],
             [
              0.1111111111111111,
              "#46039f"
             ],
             [
              0.2222222222222222,
              "#7201a8"
             ],
             [
              0.3333333333333333,
              "#9c179e"
             ],
             [
              0.4444444444444444,
              "#bd3786"
             ],
             [
              0.5555555555555556,
              "#d8576b"
             ],
             [
              0.6666666666666666,
              "#ed7953"
             ],
             [
              0.7777777777777778,
              "#fb9f3a"
             ],
             [
              0.8888888888888888,
              "#fdca26"
             ],
             [
              1,
              "#f0f921"
             ]
            ],
            "type": "contour"
           }
          ],
          "contourcarpet": [
           {
            "colorbar": {
             "outlinewidth": 0,
             "ticks": ""
            },
            "type": "contourcarpet"
           }
          ],
          "heatmap": [
           {
            "colorbar": {
             "outlinewidth": 0,
             "ticks": ""
            },
            "colorscale": [
             [
              0,
              "#0d0887"
             ],
             [
              0.1111111111111111,
              "#46039f"
             ],
             [
              0.2222222222222222,
              "#7201a8"
             ],
             [
              0.3333333333333333,
              "#9c179e"
             ],
             [
              0.4444444444444444,
              "#bd3786"
             ],
             [
              0.5555555555555556,
              "#d8576b"
             ],
             [
              0.6666666666666666,
              "#ed7953"
             ],
             [
              0.7777777777777778,
              "#fb9f3a"
             ],
             [
              0.8888888888888888,
              "#fdca26"
             ],
             [
              1,
              "#f0f921"
             ]
            ],
            "type": "heatmap"
           }
          ],
          "heatmapgl": [
           {
            "colorbar": {
             "outlinewidth": 0,
             "ticks": ""
            },
            "colorscale": [
             [
              0,
              "#0d0887"
             ],
             [
              0.1111111111111111,
              "#46039f"
             ],
             [
              0.2222222222222222,
              "#7201a8"
             ],
             [
              0.3333333333333333,
              "#9c179e"
             ],
             [
              0.4444444444444444,
              "#bd3786"
             ],
             [
              0.5555555555555556,
              "#d8576b"
             ],
             [
              0.6666666666666666,
              "#ed7953"
             ],
             [
              0.7777777777777778,
              "#fb9f3a"
             ],
             [
              0.8888888888888888,
              "#fdca26"
             ],
             [
              1,
              "#f0f921"
             ]
            ],
            "type": "heatmapgl"
           }
          ],
          "histogram": [
           {
            "marker": {
             "colorbar": {
              "outlinewidth": 0,
              "ticks": ""
             }
            },
            "type": "histogram"
           }
          ],
          "histogram2d": [
           {
            "colorbar": {
             "outlinewidth": 0,
             "ticks": ""
            },
            "colorscale": [
             [
              0,
              "#0d0887"
             ],
             [
              0.1111111111111111,
              "#46039f"
             ],
             [
              0.2222222222222222,
              "#7201a8"
             ],
             [
              0.3333333333333333,
              "#9c179e"
             ],
             [
              0.4444444444444444,
              "#bd3786"
             ],
             [
              0.5555555555555556,
              "#d8576b"
             ],
             [
              0.6666666666666666,
              "#ed7953"
             ],
             [
              0.7777777777777778,
              "#fb9f3a"
             ],
             [
              0.8888888888888888,
              "#fdca26"
             ],
             [
              1,
              "#f0f921"
             ]
            ],
            "type": "histogram2d"
           }
          ],
          "histogram2dcontour": [
           {
            "colorbar": {
             "outlinewidth": 0,
             "ticks": ""
            },
            "colorscale": [
             [
              0,
              "#0d0887"
             ],
             [
              0.1111111111111111,
              "#46039f"
             ],
             [
              0.2222222222222222,
              "#7201a8"
             ],
             [
              0.3333333333333333,
              "#9c179e"
             ],
             [
              0.4444444444444444,
              "#bd3786"
             ],
             [
              0.5555555555555556,
              "#d8576b"
             ],
             [
              0.6666666666666666,
              "#ed7953"
             ],
             [
              0.7777777777777778,
              "#fb9f3a"
             ],
             [
              0.8888888888888888,
              "#fdca26"
             ],
             [
              1,
              "#f0f921"
             ]
            ],
            "type": "histogram2dcontour"
           }
          ],
          "mesh3d": [
           {
            "colorbar": {
             "outlinewidth": 0,
             "ticks": ""
            },
            "type": "mesh3d"
           }
          ],
          "parcoords": [
           {
            "line": {
             "colorbar": {
              "outlinewidth": 0,
              "ticks": ""
             }
            },
            "type": "parcoords"
           }
          ],
          "pie": [
           {
            "automargin": true,
            "type": "pie"
           }
          ],
          "scatter": [
           {
            "marker": {
             "colorbar": {
              "outlinewidth": 0,
              "ticks": ""
             }
            },
            "type": "scatter"
           }
          ],
          "scatter3d": [
           {
            "line": {
             "colorbar": {
              "outlinewidth": 0,
              "ticks": ""
             }
            },
            "marker": {
             "colorbar": {
              "outlinewidth": 0,
              "ticks": ""
             }
            },
            "type": "scatter3d"
           }
          ],
          "scattercarpet": [
           {
            "marker": {
             "colorbar": {
              "outlinewidth": 0,
              "ticks": ""
             }
            },
            "type": "scattercarpet"
           }
          ],
          "scattergeo": [
           {
            "marker": {
             "colorbar": {
              "outlinewidth": 0,
              "ticks": ""
             }
            },
            "type": "scattergeo"
           }
          ],
          "scattergl": [
           {
            "marker": {
             "colorbar": {
              "outlinewidth": 0,
              "ticks": ""
             }
            },
            "type": "scattergl"
           }
          ],
          "scattermapbox": [
           {
            "marker": {
             "colorbar": {
              "outlinewidth": 0,
              "ticks": ""
             }
            },
            "type": "scattermapbox"
           }
          ],
          "scatterpolar": [
           {
            "marker": {
             "colorbar": {
              "outlinewidth": 0,
              "ticks": ""
             }
            },
            "type": "scatterpolar"
           }
          ],
          "scatterpolargl": [
           {
            "marker": {
             "colorbar": {
              "outlinewidth": 0,
              "ticks": ""
             }
            },
            "type": "scatterpolargl"
           }
          ],
          "scatterternary": [
           {
            "marker": {
             "colorbar": {
              "outlinewidth": 0,
              "ticks": ""
             }
            },
            "type": "scatterternary"
           }
          ],
          "surface": [
           {
            "colorbar": {
             "outlinewidth": 0,
             "ticks": ""
            },
            "colorscale": [
             [
              0,
              "#0d0887"
             ],
             [
              0.1111111111111111,
              "#46039f"
             ],
             [
              0.2222222222222222,
              "#7201a8"
             ],
             [
              0.3333333333333333,
              "#9c179e"
             ],
             [
              0.4444444444444444,
              "#bd3786"
             ],
             [
              0.5555555555555556,
              "#d8576b"
             ],
             [
              0.6666666666666666,
              "#ed7953"
             ],
             [
              0.7777777777777778,
              "#fb9f3a"
             ],
             [
              0.8888888888888888,
              "#fdca26"
             ],
             [
              1,
              "#f0f921"
             ]
            ],
            "type": "surface"
           }
          ],
          "table": [
           {
            "cells": {
             "fill": {
              "color": "#EBF0F8"
             },
             "line": {
              "color": "white"
             }
            },
            "header": {
             "fill": {
              "color": "#C8D4E3"
             },
             "line": {
              "color": "white"
             }
            },
            "type": "table"
           }
          ]
         },
         "layout": {
          "annotationdefaults": {
           "arrowcolor": "#2a3f5f",
           "arrowhead": 0,
           "arrowwidth": 1
          },
          "autotypenumbers": "strict",
          "coloraxis": {
           "colorbar": {
            "outlinewidth": 0,
            "ticks": ""
           }
          },
          "colorscale": {
           "diverging": [
            [
             0,
             "#8e0152"
            ],
            [
             0.1,
             "#c51b7d"
            ],
            [
             0.2,
             "#de77ae"
            ],
            [
             0.3,
             "#f1b6da"
            ],
            [
             0.4,
             "#fde0ef"
            ],
            [
             0.5,
             "#f7f7f7"
            ],
            [
             0.6,
             "#e6f5d0"
            ],
            [
             0.7,
             "#b8e186"
            ],
            [
             0.8,
             "#7fbc41"
            ],
            [
             0.9,
             "#4d9221"
            ],
            [
             1,
             "#276419"
            ]
           ],
           "sequential": [
            [
             0,
             "#0d0887"
            ],
            [
             0.1111111111111111,
             "#46039f"
            ],
            [
             0.2222222222222222,
             "#7201a8"
            ],
            [
             0.3333333333333333,
             "#9c179e"
            ],
            [
             0.4444444444444444,
             "#bd3786"
            ],
            [
             0.5555555555555556,
             "#d8576b"
            ],
            [
             0.6666666666666666,
             "#ed7953"
            ],
            [
             0.7777777777777778,
             "#fb9f3a"
            ],
            [
             0.8888888888888888,
             "#fdca26"
            ],
            [
             1,
             "#f0f921"
            ]
           ],
           "sequentialminus": [
            [
             0,
             "#0d0887"
            ],
            [
             0.1111111111111111,
             "#46039f"
            ],
            [
             0.2222222222222222,
             "#7201a8"
            ],
            [
             0.3333333333333333,
             "#9c179e"
            ],
            [
             0.4444444444444444,
             "#bd3786"
            ],
            [
             0.5555555555555556,
             "#d8576b"
            ],
            [
             0.6666666666666666,
             "#ed7953"
            ],
            [
             0.7777777777777778,
             "#fb9f3a"
            ],
            [
             0.8888888888888888,
             "#fdca26"
            ],
            [
             1,
             "#f0f921"
            ]
           ]
          },
          "colorway": [
           "#636efa",
           "#EF553B",
           "#00cc96",
           "#ab63fa",
           "#FFA15A",
           "#19d3f3",
           "#FF6692",
           "#B6E880",
           "#FF97FF",
           "#FECB52"
          ],
          "font": {
           "color": "#2a3f5f"
          },
          "geo": {
           "bgcolor": "white",
           "lakecolor": "white",
           "landcolor": "#E5ECF6",
           "showlakes": true,
           "showland": true,
           "subunitcolor": "white"
          },
          "hoverlabel": {
           "align": "left"
          },
          "hovermode": "closest",
          "mapbox": {
           "style": "light"
          },
          "paper_bgcolor": "white",
          "plot_bgcolor": "#E5ECF6",
          "polar": {
           "angularaxis": {
            "gridcolor": "white",
            "linecolor": "white",
            "ticks": ""
           },
           "bgcolor": "#E5ECF6",
           "radialaxis": {
            "gridcolor": "white",
            "linecolor": "white",
            "ticks": ""
           }
          },
          "scene": {
           "xaxis": {
            "backgroundcolor": "#E5ECF6",
            "gridcolor": "white",
            "gridwidth": 2,
            "linecolor": "white",
            "showbackground": true,
            "ticks": "",
            "zerolinecolor": "white"
           },
           "yaxis": {
            "backgroundcolor": "#E5ECF6",
            "gridcolor": "white",
            "gridwidth": 2,
            "linecolor": "white",
            "showbackground": true,
            "ticks": "",
            "zerolinecolor": "white"
           },
           "zaxis": {
            "backgroundcolor": "#E5ECF6",
            "gridcolor": "white",
            "gridwidth": 2,
            "linecolor": "white",
            "showbackground": true,
            "ticks": "",
            "zerolinecolor": "white"
           }
          },
          "shapedefaults": {
           "line": {
            "color": "#2a3f5f"
           }
          },
          "ternary": {
           "aaxis": {
            "gridcolor": "white",
            "linecolor": "white",
            "ticks": ""
           },
           "baxis": {
            "gridcolor": "white",
            "linecolor": "white",
            "ticks": ""
           },
           "bgcolor": "#E5ECF6",
           "caxis": {
            "gridcolor": "white",
            "linecolor": "white",
            "ticks": ""
           }
          },
          "title": {
           "x": 0.05
          },
          "xaxis": {
           "automargin": true,
           "gridcolor": "white",
           "linecolor": "white",
           "ticks": "",
           "title": {
            "standoff": 15
           },
           "zerolinecolor": "white",
           "zerolinewidth": 2
          },
          "yaxis": {
           "automargin": true,
           "gridcolor": "white",
           "linecolor": "white",
           "ticks": "",
           "title": {
            "standoff": 15
           },
           "zerolinecolor": "white",
           "zerolinewidth": 2
          }
         }
        },
        "xaxis": {
         "title": {
          "text": "PC1"
         }
        },
        "yaxis": {
         "title": {
          "text": "PC2"
         }
        }
       }
      },
      "text/html": [
       "<div\n",
       "    class=\"webio-mountpoint\"\n",
       "    data-webio-mountpoint=\"220138830926317890\"\n",
       ">\n",
       "    <script>\n",
       "    (function(){\n",
       "    // Some integrations (namely, IJulia/Jupyter) use an alternate render pathway than\n",
       "    // just putting the html on the page. If WebIO isn't defined, then it's pretty likely\n",
       "    // that we're in one of those situations and the integration just isn't installed\n",
       "    // correctly.\n",
       "    if (typeof window.WebIO === \"undefined\") {\n",
       "        document\n",
       "            .querySelector('[data-webio-mountpoint=\"220138830926317890\"]')\n",
       "            .innerHTML = (\n",
       "                '<div style=\"padding: 1em; background-color: #f8d6da; border: 1px solid #f5c6cb; font-weight: bold;\">' +\n",
       "                '<p><strong>WebIO not detected.</strong></p>' +\n",
       "                '<p>Please read ' +\n",
       "                '<a href=\"https://juliagizmos.github.io/WebIO.jl/latest/troubleshooting/not-detected/\" target=\"_blank\">the troubleshooting guide</a> ' +\n",
       "                'for more information on how to resolve this issue.</p>' +\n",
       "                '<p><a href=\"https://juliagizmos.github.io/WebIO.jl/latest/troubleshooting/not-detected/\" target=\"_blank\">https://juliagizmos.github.io/WebIO.jl/latest/troubleshooting/not-detected/</a></p>' +\n",
       "                '</div>'\n",
       "            );\n",
       "        return;\n",
       "    }\n",
       "    WebIO.mount(\n",
       "        document.querySelector('[data-webio-mountpoint=\"220138830926317890\"]'),\n",
       "        {\"props\":{},\"nodeType\":\"Scope\",\"type\":\"node\",\"instanceArgs\":{\"imports\":{\"data\":[{\"name\":\"Plotly\",\"type\":\"js\",\"url\":\"\\/assetserver\\/597d3e3981791f3da20e7b96cab90ffffca4599e-plotly.min.js\"},{\"name\":null,\"type\":\"js\",\"url\":\"\\/assetserver\\/d21cc61a8b26f5a8d90707d16621e32300c2e5ed-plotly_webio.bundle.js\"}],\"type\":\"async_block\"},\"id\":\"1019050669592883002\",\"handlers\":{\"_toImage\":[\"(function (options){return this.Plotly.toImage(this.plotElem,options).then((function (data){return WebIO.setval({\\\"name\\\":\\\"image\\\",\\\"scope\\\":\\\"1019050669592883002\\\",\\\"id\\\":\\\"9253208151959976158\\\",\\\"type\\\":\\\"observable\\\"},data)}))})\"],\"__get_gd_contents\":[\"(function (prop){prop==\\\"data\\\" ? (WebIO.setval({\\\"name\\\":\\\"__gd_contents\\\",\\\"scope\\\":\\\"1019050669592883002\\\",\\\"id\\\":\\\"12025199128631970260\\\",\\\"type\\\":\\\"observable\\\"},this.plotElem.data)) : undefined; return prop==\\\"layout\\\" ? (WebIO.setval({\\\"name\\\":\\\"__gd_contents\\\",\\\"scope\\\":\\\"1019050669592883002\\\",\\\"id\\\":\\\"12025199128631970260\\\",\\\"type\\\":\\\"observable\\\"},this.plotElem.layout)) : undefined})\"],\"_downloadImage\":[\"(function (options){return this.Plotly.downloadImage(this.plotElem,options)})\"],\"_commands\":[\"(function (args){var fn=args.shift(); var elem=this.plotElem; var Plotly=this.Plotly; args.unshift(elem); return Plotly[fn].apply(this,args)})\"]},\"systemjs_options\":null,\"mount_callbacks\":[\"function () {\\n    var handler = ((function (Plotly,PlotlyWebIO){PlotlyWebIO.init(WebIO); var gd=this.dom.querySelector(\\\"#plot-d8d2c915-b008-4551-a28f-1ccea3acbdff\\\"); this.plotElem=gd; this.Plotly=Plotly; (window.Blink!==undefined) ? (gd.style.width=\\\"100%\\\", gd.style.height=\\\"100vh\\\", gd.style.marginLeft=\\\"0%\\\", gd.style.marginTop=\\\"0vh\\\") : undefined; window.onresize=(function (){return Plotly.Plots.resize(gd)}); Plotly.newPlot(gd,[{\\\"mode\\\":\\\"markers\\\",\\\"xaxis\\\":\\\"x\\\",\\\"y\\\":[1.1220012104334105,1.0624269195344436,-0.7384595372849996,1.10854225950591,-1.5274267208247936,-0.9776296565249839,-1.0779836152260318,-0.3220889026605659,0.038834246859399214,1.2660883840552655,-1.5546760937371955,0.20885253273339763,-0.6749883397629851,-0.1500392615172705,-0.10300827640612174,-0.2674494127422898,0.948807476193182,0.862300114746538,0.3726086500178088,0.42335704082903,-1.4596770604989306,-0.1538350021147518,-0.6259067048852619,2.369737124906746,-0.2607079413472625,0.5314785122670808,-0.19200439646708173,-0.7678050213538238,-0.017900553527079983,-1.4349374455975772,0.14141307772202596,-0.8149107245170952,2.205610814459266,0.5930973769175417,-0.7347783670247322,-0.2849611251679634,-0.5359699945368165,-0.5653605046070161,-1.4769832840952604,1.913972966720078,0.8150682245643797,0.8516053434826716,-0.4083351779699479,-1.4567152419227571,1.3881943501900351,0.1977278483532986,-0.9603739438193805,1.410526272184464,-0.6051250651368577,0.3177866246008613],\\\"type\\\":\\\"scatter\\\",\\\"text\\\":[\\\"Alabama\\\",\\\"Alaska\\\",\\\"Arizona\\\",\\\"Arkansas\\\",\\\"California\\\",\\\"Colorado\\\",\\\"Connecticut\\\",\\\"Delaware\\\",\\\"Florida\\\",\\\"Georgia\\\",\\\"Hawaii\\\",\\\"Idaho\\\",\\\"Illinois\\\",\\\"Indiana\\\",\\\"Iowa\\\",\\\"Kansas\\\",\\\"Kentucky\\\",\\\"Louisiana\\\",\\\"Maine\\\",\\\"Maryland\\\",\\\"Massachusetts\\\",\\\"Michigan\\\",\\\"Minnesota\\\",\\\"Mississippi\\\",\\\"Missouri\\\",\\\"Montana\\\",\\\"Nebraska\\\",\\\"Nevada\\\",\\\"New Hampshire\\\",\\\"New Jersey\\\",\\\"New Mexico\\\",\\\"New York\\\",\\\"North Carolina\\\",\\\"North Dakota\\\",\\\"Ohio\\\",\\\"Oklahoma\\\",\\\"Oregon\\\",\\\"Pennsylvania\\\",\\\"Rhode Island\\\",\\\"South Carolina\\\",\\\"South Dakota\\\",\\\"Tennessee\\\",\\\"Texas\\\",\\\"Utah\\\",\\\"Vermont\\\",\\\"Virginia\\\",\\\"Washington\\\",\\\"West Virginia\\\",\\\"Wisconsin\\\",\\\"Wyoming\\\"],\\\"yaxis\\\":\\\"y\\\",\\\"x\\\":[0.9756604483336051,1.9305378785136846,1.745442853390599,-0.13999894434859467,2.498612848258581,1.499340737465524,-1.3449923649468496,0.047229806346894485,2.9827596698505277,1.622807418222746,-0.9034844794674851,-1.6233190333549075,1.365051973447636,-0.5003812184673619,-2.2309957855600246,-0.7888720624575069,-0.7433125605025752,1.5490907634214186,-2.372740138111474,1.745646633314265,-0.481280070041076,2.087250248902095,-1.6756695050968446,0.9864791853362918,0.6897842639943722,-1.1735375139692663,-1.2529162530451288,2.8455054179847705,-2.3599558521098043,0.17974127831177295,1.9601235131682238,1.665666621722479,1.1120880825676005,-2.9621522325069076,-0.22369435549765643,-0.308649279454715,0.05852786998113066,-0.8794867951994911,-0.8550907170076977,1.307449860853714,-1.9677966936869937,0.9896937743255932,1.3415183816678147,-0.5450318025550063,-2.7732561335497175,-0.09536669660002177,-0.2147233898343467,-2.0873930566766115,-2.05881198847966,-0.6231006068536146]}],{\\\"shapes\\\":[{\\\"x0\\\":0,\\\"type\\\":\\\"line\\\",\\\"y0\\\":0,\\\"y1\\\":0.5831836349096702,\\\"x1\\\":0.535899474938155},{\\\"x0\\\":0,\\\"type\\\":\\\"line\\\",\\\"y0\\\":0,\\\"y1\\\":0.18798560423193877,\\\"x1\\\":0.41818086542095456},{\\\"x0\\\":0,\\\"type\\\":\\\"line\\\",\\\"y0\\\":0,\\\"y1\\\":-0.2681484278328857,\\\"x1\\\":-0.3412327279528282},{\\\"x0\\\":0,\\\"type\\\":\\\"line\\\",\\\"y0\\\":0,\\\"y1\\\":-0.7434074799367093,\\\"x1\\\":0.6492278043419445}],\\\"xaxis\\\":{\\\"title\\\":{\\\"text\\\":\\\"PC1\\\"}},\\\"template\\\":{\\\"layout\\\":{\\\"coloraxis\\\":{\\\"colorbar\\\":{\\\"ticks\\\":\\\"\\\",\\\"outlinewidth\\\":0}},\\\"xaxis\\\":{\\\"gridcolor\\\":\\\"white\\\",\\\"zerolinewidth\\\":2,\\\"title\\\":{\\\"standoff\\\":15},\\\"ticks\\\":\\\"\\\",\\\"zerolinecolor\\\":\\\"white\\\",\\\"automargin\\\":true,\\\"linecolor\\\":\\\"white\\\"},\\\"hovermode\\\":\\\"closest\\\",\\\"paper_bgcolor\\\":\\\"white\\\",\\\"geo\\\":{\\\"showlakes\\\":true,\\\"showland\\\":true,\\\"landcolor\\\":\\\"#E5ECF6\\\",\\\"bgcolor\\\":\\\"white\\\",\\\"subunitcolor\\\":\\\"white\\\",\\\"lakecolor\\\":\\\"white\\\"},\\\"colorscale\\\":{\\\"sequential\\\":[[0.0,\\\"#0d0887\\\"],[0.1111111111111111,\\\"#46039f\\\"],[0.2222222222222222,\\\"#7201a8\\\"],[0.3333333333333333,\\\"#9c179e\\\"],[0.4444444444444444,\\\"#bd3786\\\"],[0.5555555555555556,\\\"#d8576b\\\"],[0.6666666666666666,\\\"#ed7953\\\"],[0.7777777777777778,\\\"#fb9f3a\\\"],[0.8888888888888888,\\\"#fdca26\\\"],[1.0,\\\"#f0f921\\\"]],\\\"diverging\\\":[[0,\\\"#8e0152\\\"],[0.1,\\\"#c51b7d\\\"],[0.2,\\\"#de77ae\\\"],[0.3,\\\"#f1b6da\\\"],[0.4,\\\"#fde0ef\\\"],[0.5,\\\"#f7f7f7\\\"],[0.6,\\\"#e6f5d0\\\"],[0.7,\\\"#b8e186\\\"],[0.8,\\\"#7fbc41\\\"],[0.9,\\\"#4d9221\\\"],[1,\\\"#276419\\\"]],\\\"sequentialminus\\\":[[0.0,\\\"#0d0887\\\"],[0.1111111111111111,\\\"#46039f\\\"],[0.2222222222222222,\\\"#7201a8\\\"],[0.3333333333333333,\\\"#9c179e\\\"],[0.4444444444444444,\\\"#bd3786\\\"],[0.5555555555555556,\\\"#d8576b\\\"],[0.6666666666666666,\\\"#ed7953\\\"],[0.7777777777777778,\\\"#fb9f3a\\\"],[0.8888888888888888,\\\"#fdca26\\\"],[1.0,\\\"#f0f921\\\"]]},\\\"yaxis\\\":{\\\"gridcolor\\\":\\\"white\\\",\\\"zerolinewidth\\\":2,\\\"title\\\":{\\\"standoff\\\":15},\\\"ticks\\\":\\\"\\\",\\\"zerolinecolor\\\":\\\"white\\\",\\\"automargin\\\":true,\\\"linecolor\\\":\\\"white\\\"},\\\"shapedefaults\\\":{\\\"line\\\":{\\\"color\\\":\\\"#2a3f5f\\\"}},\\\"hoverlabel\\\":{\\\"align\\\":\\\"left\\\"},\\\"mapbox\\\":{\\\"style\\\":\\\"light\\\"},\\\"polar\\\":{\\\"angularaxis\\\":{\\\"gridcolor\\\":\\\"white\\\",\\\"ticks\\\":\\\"\\\",\\\"linecolor\\\":\\\"white\\\"},\\\"bgcolor\\\":\\\"#E5ECF6\\\",\\\"radialaxis\\\":{\\\"gridcolor\\\":\\\"white\\\",\\\"ticks\\\":\\\"\\\",\\\"linecolor\\\":\\\"white\\\"}},\\\"autotypenumbers\\\":\\\"strict\\\",\\\"font\\\":{\\\"color\\\":\\\"#2a3f5f\\\"},\\\"ternary\\\":{\\\"baxis\\\":{\\\"gridcolor\\\":\\\"white\\\",\\\"ticks\\\":\\\"\\\",\\\"linecolor\\\":\\\"white\\\"},\\\"bgcolor\\\":\\\"#E5ECF6\\\",\\\"caxis\\\":{\\\"gridcolor\\\":\\\"white\\\",\\\"ticks\\\":\\\"\\\",\\\"linecolor\\\":\\\"white\\\"},\\\"aaxis\\\":{\\\"gridcolor\\\":\\\"white\\\",\\\"ticks\\\":\\\"\\\",\\\"linecolor\\\":\\\"white\\\"}},\\\"annotationdefaults\\\":{\\\"arrowhead\\\":0,\\\"arrowwidth\\\":1,\\\"arrowcolor\\\":\\\"#2a3f5f\\\"},\\\"plot_bgcolor\\\":\\\"#E5ECF6\\\",\\\"title\\\":{\\\"x\\\":0.05},\\\"scene\\\":{\\\"xaxis\\\":{\\\"gridcolor\\\":\\\"white\\\",\\\"gridwidth\\\":2,\\\"backgroundcolor\\\":\\\"#E5ECF6\\\",\\\"ticks\\\":\\\"\\\",\\\"showbackground\\\":true,\\\"zerolinecolor\\\":\\\"white\\\",\\\"linecolor\\\":\\\"white\\\"},\\\"zaxis\\\":{\\\"gridcolor\\\":\\\"white\\\",\\\"gridwidth\\\":2,\\\"backgroundcolor\\\":\\\"#E5ECF6\\\",\\\"ticks\\\":\\\"\\\",\\\"showbackground\\\":true,\\\"zerolinecolor\\\":\\\"white\\\",\\\"linecolor\\\":\\\"white\\\"},\\\"yaxis\\\":{\\\"gridcolor\\\":\\\"white\\\",\\\"gridwidth\\\":2,\\\"backgroundcolor\\\":\\\"#E5ECF6\\\",\\\"ticks\\\":\\\"\\\",\\\"showbackground\\\":true,\\\"zerolinecolor\\\":\\\"white\\\",\\\"linecolor\\\":\\\"white\\\"}},\\\"colorway\\\":[\\\"#636efa\\\",\\\"#EF553B\\\",\\\"#00cc96\\\",\\\"#ab63fa\\\",\\\"#FFA15A\\\",\\\"#19d3f3\\\",\\\"#FF6692\\\",\\\"#B6E880\\\",\\\"#FF97FF\\\",\\\"#FECB52\\\"]},\\\"data\\\":{\\\"barpolar\\\":[{\\\"type\\\":\\\"barpolar\\\",\\\"marker\\\":{\\\"line\\\":{\\\"color\\\":\\\"#E5ECF6\\\",\\\"width\\\":0.5}}}],\\\"carpet\\\":[{\\\"aaxis\\\":{\\\"gridcolor\\\":\\\"white\\\",\\\"endlinecolor\\\":\\\"#2a3f5f\\\",\\\"minorgridcolor\\\":\\\"white\\\",\\\"startlinecolor\\\":\\\"#2a3f5f\\\",\\\"linecolor\\\":\\\"white\\\"},\\\"type\\\":\\\"carpet\\\",\\\"baxis\\\":{\\\"gridcolor\\\":\\\"white\\\",\\\"endlinecolor\\\":\\\"#2a3f5f\\\",\\\"minorgridcolor\\\":\\\"white\\\",\\\"startlinecolor\\\":\\\"#2a3f5f\\\",\\\"linecolor\\\":\\\"white\\\"}}],\\\"scatterpolar\\\":[{\\\"type\\\":\\\"scatterpolar\\\",\\\"marker\\\":{\\\"colorbar\\\":{\\\"ticks\\\":\\\"\\\",\\\"outlinewidth\\\":0}}}],\\\"parcoords\\\":[{\\\"line\\\":{\\\"colorbar\\\":{\\\"ticks\\\":\\\"\\\",\\\"outlinewidth\\\":0}},\\\"type\\\":\\\"parcoords\\\"}],\\\"scatter\\\":[{\\\"type\\\":\\\"scatter\\\",\\\"marker\\\":{\\\"colorbar\\\":{\\\"ticks\\\":\\\"\\\",\\\"outlinewidth\\\":0}}}],\\\"histogram2dcontour\\\":[{\\\"colorbar\\\":{\\\"ticks\\\":\\\"\\\",\\\"outlinewidth\\\":0},\\\"type\\\":\\\"histogram2dcontour\\\",\\\"colorscale\\\":[[0.0,\\\"#0d0887\\\"],[0.1111111111111111,\\\"#46039f\\\"],[0.2222222222222222,\\\"#7201a8\\\"],[0.3333333333333333,\\\"#9c179e\\\"],[0.4444444444444444,\\\"#bd3786\\\"],[0.5555555555555556,\\\"#d8576b\\\"],[0.6666666666666666,\\\"#ed7953\\\"],[0.7777777777777778,\\\"#fb9f3a\\\"],[0.8888888888888888,\\\"#fdca26\\\"],[1.0,\\\"#f0f921\\\"]]}],\\\"contour\\\":[{\\\"colorbar\\\":{\\\"ticks\\\":\\\"\\\",\\\"outlinewidth\\\":0},\\\"type\\\":\\\"contour\\\",\\\"colorscale\\\":[[0.0,\\\"#0d0887\\\"],[0.1111111111111111,\\\"#46039f\\\"],[0.2222222222222222,\\\"#7201a8\\\"],[0.3333333333333333,\\\"#9c179e\\\"],[0.4444444444444444,\\\"#bd3786\\\"],[0.5555555555555556,\\\"#d8576b\\\"],[0.6666666666666666,\\\"#ed7953\\\"],[0.7777777777777778,\\\"#fb9f3a\\\"],[0.8888888888888888,\\\"#fdca26\\\"],[1.0,\\\"#f0f921\\\"]]}],\\\"scattercarpet\\\":[{\\\"type\\\":\\\"scattercarpet\\\",\\\"marker\\\":{\\\"colorbar\\\":{\\\"ticks\\\":\\\"\\\",\\\"outlinewidth\\\":0}}}],\\\"mesh3d\\\":[{\\\"colorbar\\\":{\\\"ticks\\\":\\\"\\\",\\\"outlinewidth\\\":0},\\\"type\\\":\\\"mesh3d\\\"}],\\\"surface\\\":[{\\\"colorbar\\\":{\\\"ticks\\\":\\\"\\\",\\\"outlinewidth\\\":0},\\\"type\\\":\\\"surface\\\",\\\"colorscale\\\":[[0.0,\\\"#0d0887\\\"],[0.1111111111111111,\\\"#46039f\\\"],[0.2222222222222222,\\\"#7201a8\\\"],[0.3333333333333333,\\\"#9c179e\\\"],[0.4444444444444444,\\\"#bd3786\\\"],[0.5555555555555556,\\\"#d8576b\\\"],[0.6666666666666666,\\\"#ed7953\\\"],[0.7777777777777778,\\\"#fb9f3a\\\"],[0.8888888888888888,\\\"#fdca26\\\"],[1.0,\\\"#f0f921\\\"]]}],\\\"scattermapbox\\\":[{\\\"type\\\":\\\"scattermapbox\\\",\\\"marker\\\":{\\\"colorbar\\\":{\\\"ticks\\\":\\\"\\\",\\\"outlinewidth\\\":0}}}],\\\"scattergeo\\\":[{\\\"type\\\":\\\"scattergeo\\\",\\\"marker\\\":{\\\"colorbar\\\":{\\\"ticks\\\":\\\"\\\",\\\"outlinewidth\\\":0}}}],\\\"histogram\\\":[{\\\"type\\\":\\\"histogram\\\",\\\"marker\\\":{\\\"colorbar\\\":{\\\"ticks\\\":\\\"\\\",\\\"outlinewidth\\\":0}}}],\\\"pie\\\":[{\\\"type\\\":\\\"pie\\\",\\\"automargin\\\":true}],\\\"choropleth\\\":[{\\\"colorbar\\\":{\\\"ticks\\\":\\\"\\\",\\\"outlinewidth\\\":0},\\\"type\\\":\\\"choropleth\\\"}],\\\"heatmapgl\\\":[{\\\"colorbar\\\":{\\\"ticks\\\":\\\"\\\",\\\"outlinewidth\\\":0},\\\"type\\\":\\\"heatmapgl\\\",\\\"colorscale\\\":[[0.0,\\\"#0d0887\\\"],[0.1111111111111111,\\\"#46039f\\\"],[0.2222222222222222,\\\"#7201a8\\\"],[0.3333333333333333,\\\"#9c179e\\\"],[0.4444444444444444,\\\"#bd3786\\\"],[0.5555555555555556,\\\"#d8576b\\\"],[0.6666666666666666,\\\"#ed7953\\\"],[0.7777777777777778,\\\"#fb9f3a\\\"],[0.8888888888888888,\\\"#fdca26\\\"],[1.0,\\\"#f0f921\\\"]]}],\\\"bar\\\":[{\\\"type\\\":\\\"bar\\\",\\\"error_y\\\":{\\\"color\\\":\\\"#2a3f5f\\\"},\\\"error_x\\\":{\\\"color\\\":\\\"#2a3f5f\\\"},\\\"marker\\\":{\\\"line\\\":{\\\"color\\\":\\\"#E5ECF6\\\",\\\"width\\\":0.5}}}],\\\"heatmap\\\":[{\\\"colorbar\\\":{\\\"ticks\\\":\\\"\\\",\\\"outlinewidth\\\":0},\\\"type\\\":\\\"heatmap\\\",\\\"colorscale\\\":[[0.0,\\\"#0d0887\\\"],[0.1111111111111111,\\\"#46039f\\\"],[0.2222222222222222,\\\"#7201a8\\\"],[0.3333333333333333,\\\"#9c179e\\\"],[0.4444444444444444,\\\"#bd3786\\\"],[0.5555555555555556,\\\"#d8576b\\\"],[0.6666666666666666,\\\"#ed7953\\\"],[0.7777777777777778,\\\"#fb9f3a\\\"],[0.8888888888888888,\\\"#fdca26\\\"],[1.0,\\\"#f0f921\\\"]]}],\\\"contourcarpet\\\":[{\\\"colorbar\\\":{\\\"ticks\\\":\\\"\\\",\\\"outlinewidth\\\":0},\\\"type\\\":\\\"contourcarpet\\\"}],\\\"table\\\":[{\\\"type\\\":\\\"table\\\",\\\"header\\\":{\\\"line\\\":{\\\"color\\\":\\\"white\\\"},\\\"fill\\\":{\\\"color\\\":\\\"#C8D4E3\\\"}},\\\"cells\\\":{\\\"line\\\":{\\\"color\\\":\\\"white\\\"},\\\"fill\\\":{\\\"color\\\":\\\"#EBF0F8\\\"}}}],\\\"scatter3d\\\":[{\\\"line\\\":{\\\"colorbar\\\":{\\\"ticks\\\":\\\"\\\",\\\"outlinewidth\\\":0}},\\\"type\\\":\\\"scatter3d\\\",\\\"marker\\\":{\\\"colorbar\\\":{\\\"ticks\\\":\\\"\\\",\\\"outlinewidth\\\":0}}}],\\\"scattergl\\\":[{\\\"type\\\":\\\"scattergl\\\",\\\"marker\\\":{\\\"colorbar\\\":{\\\"ticks\\\":\\\"\\\",\\\"outlinewidth\\\":0}}}],\\\"histogram2d\\\":[{\\\"colorbar\\\":{\\\"ticks\\\":\\\"\\\",\\\"outlinewidth\\\":0},\\\"type\\\":\\\"histogram2d\\\",\\\"colorscale\\\":[[0.0,\\\"#0d0887\\\"],[0.1111111111111111,\\\"#46039f\\\"],[0.2222222222222222,\\\"#7201a8\\\"],[0.3333333333333333,\\\"#9c179e\\\"],[0.4444444444444444,\\\"#bd3786\\\"],[0.5555555555555556,\\\"#d8576b\\\"],[0.6666666666666666,\\\"#ed7953\\\"],[0.7777777777777778,\\\"#fb9f3a\\\"],[0.8888888888888888,\\\"#fdca26\\\"],[1.0,\\\"#f0f921\\\"]]}],\\\"scatterternary\\\":[{\\\"type\\\":\\\"scatterternary\\\",\\\"marker\\\":{\\\"colorbar\\\":{\\\"ticks\\\":\\\"\\\",\\\"outlinewidth\\\":0}}}],\\\"scatterpolargl\\\":[{\\\"type\\\":\\\"scatterpolargl\\\",\\\"marker\\\":{\\\"colorbar\\\":{\\\"ticks\\\":\\\"\\\",\\\"outlinewidth\\\":0}}}]}},\\\"annotations\\\":[{\\\"yanchor\\\":\\\"bottom\\\",\\\"xanchor\\\":\\\"center\\\",\\\"y\\\":0.5831836349096702,\\\"text\\\":\\\"Murder\\\",\\\"x\\\":0.535899474938155},{\\\"yanchor\\\":\\\"bottom\\\",\\\"xanchor\\\":\\\"center\\\",\\\"y\\\":0.18798560423193877,\\\"text\\\":\\\"Assault\\\",\\\"x\\\":0.41818086542095456},{\\\"yanchor\\\":\\\"bottom\\\",\\\"xanchor\\\":\\\"center\\\",\\\"y\\\":-0.2681484278328857,\\\"text\\\":\\\"UrbanPop\\\",\\\"x\\\":-0.3412327279528282},{\\\"yanchor\\\":\\\"bottom\\\",\\\"xanchor\\\":\\\"center\\\",\\\"y\\\":-0.7434074799367093,\\\"text\\\":\\\"Rape\\\",\\\"x\\\":0.6492278043419445}],\\\"margin\\\":{\\\"l\\\":50,\\\"b\\\":50,\\\"r\\\":50,\\\"t\\\":60},\\\"legend\\\":{\\\"tracegroupgap\\\":0},\\\"yaxis\\\":{\\\"title\\\":{\\\"text\\\":\\\"PC2\\\"}}},{\\\"showLink\\\":false,\\\"editable\\\":false,\\\"responsive\\\":true,\\\"staticPlot\\\":false,\\\"scrollZoom\\\":true}); gd.on(\\\"plotly_hover\\\",(function (data){var filtered_data=WebIO.PlotlyCommands.filterEventData(gd,data,\\\"hover\\\"); return !(filtered_data.isnil) ? (WebIO.setval({\\\"name\\\":\\\"hover\\\",\\\"scope\\\":\\\"1019050669592883002\\\",\\\"id\\\":\\\"8937670395068145844\\\",\\\"type\\\":\\\"observable\\\"},filtered_data.out)) : undefined})); gd.on(\\\"plotly_unhover\\\",(function (){return WebIO.setval({\\\"name\\\":\\\"hover\\\",\\\"scope\\\":\\\"1019050669592883002\\\",\\\"id\\\":\\\"8937670395068145844\\\",\\\"type\\\":\\\"observable\\\"},{})})); gd.on(\\\"plotly_selected\\\",(function (data){var filtered_data=WebIO.PlotlyCommands.filterEventData(gd,data,\\\"selected\\\"); return !(filtered_data.isnil) ? (WebIO.setval({\\\"name\\\":\\\"selected\\\",\\\"scope\\\":\\\"1019050669592883002\\\",\\\"id\\\":\\\"15378470614336886656\\\",\\\"type\\\":\\\"observable\\\"},filtered_data.out)) : undefined})); gd.on(\\\"plotly_deselect\\\",(function (){return WebIO.setval({\\\"name\\\":\\\"selected\\\",\\\"scope\\\":\\\"1019050669592883002\\\",\\\"id\\\":\\\"15378470614336886656\\\",\\\"type\\\":\\\"observable\\\"},{})})); gd.on(\\\"plotly_relayout\\\",(function (data){var filtered_data=WebIO.PlotlyCommands.filterEventData(gd,data,\\\"relayout\\\"); return !(filtered_data.isnil) ? (WebIO.setval({\\\"name\\\":\\\"relayout\\\",\\\"scope\\\":\\\"1019050669592883002\\\",\\\"id\\\":\\\"10984999362343721326\\\",\\\"type\\\":\\\"observable\\\"},filtered_data.out)) : undefined})); return gd.on(\\\"plotly_click\\\",(function (data){var filtered_data=WebIO.PlotlyCommands.filterEventData(gd,data,\\\"click\\\"); return !(filtered_data.isnil) ? (WebIO.setval({\\\"name\\\":\\\"click\\\",\\\"scope\\\":\\\"1019050669592883002\\\",\\\"id\\\":\\\"15610412066190753795\\\",\\\"type\\\":\\\"observable\\\"},filtered_data.out)) : undefined}))}));\\n    (WebIO.importBlock({\\\"data\\\":[{\\\"name\\\":\\\"Plotly\\\",\\\"type\\\":\\\"js\\\",\\\"url\\\":\\\"\\/assetserver\\/597d3e3981791f3da20e7b96cab90ffffca4599e-plotly.min.js\\\"},{\\\"name\\\":null,\\\"type\\\":\\\"js\\\",\\\"url\\\":\\\"\\/assetserver\\/d21cc61a8b26f5a8d90707d16621e32300c2e5ed-plotly_webio.bundle.js\\\"}],\\\"type\\\":\\\"async_block\\\"})).then((imports) => handler.apply(this, imports));\\n}\\n\"],\"observables\":{\"_toImage\":{\"sync\":false,\"id\":\"2804062628693860045\",\"value\":{}},\"hover\":{\"sync\":false,\"id\":\"8937670395068145844\",\"value\":{}},\"selected\":{\"sync\":false,\"id\":\"15378470614336886656\",\"value\":{}},\"__gd_contents\":{\"sync\":false,\"id\":\"12025199128631970260\",\"value\":{}},\"click\":{\"sync\":false,\"id\":\"15610412066190753795\",\"value\":{}},\"image\":{\"sync\":true,\"id\":\"9253208151959976158\",\"value\":\"\"},\"__get_gd_contents\":{\"sync\":false,\"id\":\"4411223622633029350\",\"value\":\"\"},\"_downloadImage\":{\"sync\":false,\"id\":\"12518064853914296160\",\"value\":{}},\"relayout\":{\"sync\":false,\"id\":\"10984999362343721326\",\"value\":{}},\"_commands\":{\"sync\":false,\"id\":\"5740797907988441207\",\"value\":[]}}},\"children\":[{\"props\":{\"id\":\"plot-d8d2c915-b008-4551-a28f-1ccea3acbdff\"},\"nodeType\":\"DOM\",\"type\":\"node\",\"instanceArgs\":{\"namespace\":\"html\",\"tag\":\"div\"},\"children\":[]}]},\n",
       "        window,\n",
       "    );\n",
       "    })()\n",
       "    </script>\n",
       "</div>\n"
      ],
      "text/plain": [
       "data: [\n",
       "  \"scatter with fields mode, text, type, x, xaxis, y, and yaxis\"\n",
       "]\n",
       "\n",
       "layout: \"layout with fields annotations, legend, margin, shapes, template, xaxis, and yaxis\"\n",
       "\n"
      ]
     },
     "execution_count": 12,
     "metadata": {},
     "output_type": "execute_result"
    }
   ],
   "source": [
    "features = [:Murder, :Assault, :UrbanPop, :Rape]\n",
    "plot(pca_df, x=:PC1, y=:PC2, mode=\"markers\",text=:city,\n",
    "    Layout(\n",
    "        shapes=[\n",
    "            line(x0=0, y0=0, x1=proj[1, i], y1=proj[2, i])\n",
    "            for i in 1:length(features)\n",
    "        ],\n",
    "        annotations=[\n",
    "            attr(\n",
    "                x=proj[1, i], y=proj[2, i], text=features[i],\n",
    "                xanchor=\"center\", yanchor=\"bottom\"\n",
    "            )\n",
    "            for i in 1:length(features)\n",
    "        ]\n",
    "        )) \n",
    "#Hover over the dots to see the corresponding city label\n"
   ]
  },
  {
   "cell_type": "code",
   "execution_count": 13,
   "id": "c2ec0580",
   "metadata": {},
   "outputs": [
    {
     "data": {
      "text/plain": [
       "4-element Vector{Float64}:\n",
       " 2.4802415791494927\n",
       " 0.9897651525398412\n",
       " 0.3565631805808296\n",
       " 0.1734300877298358"
      ]
     },
     "execution_count": 13,
     "metadata": {},
     "output_type": "execute_result"
    }
   ],
   "source": [
    "p = principalvars(M::PCA)"
   ]
  },
  {
   "cell_type": "code",
   "execution_count": 14,
   "id": "0ada8cee",
   "metadata": {},
   "outputs": [
    {
     "data": {
      "text/plain": [
       "4-element Vector{Float64}:\n",
       " 1.5748782743912282\n",
       " 0.9948694148177645\n",
       " 0.5971291155025265\n",
       " 0.41644938195396064"
      ]
     },
     "execution_count": 14,
     "metadata": {},
     "output_type": "execute_result"
    }
   ],
   "source": [
    "# Standard deviation of the four principal components\n",
    "sqrt.(p)"
   ]
  },
  {
   "cell_type": "code",
   "execution_count": 15,
   "id": "fa5eb44b",
   "metadata": {},
   "outputs": [
    {
     "data": {
      "text/plain": [
       "1×4 Matrix{Float64}:\n",
       " 0.62006  0.247441  0.0891408  0.0433575"
      ]
     },
     "execution_count": 15,
     "metadata": {},
     "output_type": "execute_result"
    }
   ],
   "source": [
    "explained_variance_ratio = [[p[1]/sum(p)] [p[2]/sum(p)] [p[3]/sum(p)] [p[4]/sum(p)] ]\n"
   ]
  },
  {
   "cell_type": "code",
   "execution_count": 16,
   "id": "32b93c35",
   "metadata": {},
   "outputs": [
    {
     "data": {
      "application/vnd.plotly.v1+json": {
       "config": {
        "editable": false,
        "responsive": true,
        "scrollZoom": true,
        "showLink": false,
        "staticPlot": false
       },
       "data": [
        {
         "type": "scatter",
         "x": [
          1,
          2,
          3,
          4
         ],
         "xaxis": "x",
         "y": [
          0.6200603947873733,
          0.24744128813496036,
          0.08914079514520741,
          0.04335752193245896
         ],
         "yaxis": "y"
        }
       ],
       "frames": [],
       "layout": {
        "legend": {
         "tracegroupgap": 0
        },
        "margin": {
         "b": 50,
         "l": 50,
         "r": 50,
         "t": 60
        },
        "template": {
         "data": {
          "bar": [
           {
            "error_x": {
             "color": "#2a3f5f"
            },
            "error_y": {
             "color": "#2a3f5f"
            },
            "marker": {
             "line": {
              "color": "#E5ECF6",
              "width": 0.5
             }
            },
            "type": "bar"
           }
          ],
          "barpolar": [
           {
            "marker": {
             "line": {
              "color": "#E5ECF6",
              "width": 0.5
             }
            },
            "type": "barpolar"
           }
          ],
          "carpet": [
           {
            "aaxis": {
             "endlinecolor": "#2a3f5f",
             "gridcolor": "white",
             "linecolor": "white",
             "minorgridcolor": "white",
             "startlinecolor": "#2a3f5f"
            },
            "baxis": {
             "endlinecolor": "#2a3f5f",
             "gridcolor": "white",
             "linecolor": "white",
             "minorgridcolor": "white",
             "startlinecolor": "#2a3f5f"
            },
            "type": "carpet"
           }
          ],
          "choropleth": [
           {
            "colorbar": {
             "outlinewidth": 0,
             "ticks": ""
            },
            "type": "choropleth"
           }
          ],
          "contour": [
           {
            "colorbar": {
             "outlinewidth": 0,
             "ticks": ""
            },
            "colorscale": [
             [
              0,
              "#0d0887"
             ],
             [
              0.1111111111111111,
              "#46039f"
             ],
             [
              0.2222222222222222,
              "#7201a8"
             ],
             [
              0.3333333333333333,
              "#9c179e"
             ],
             [
              0.4444444444444444,
              "#bd3786"
             ],
             [
              0.5555555555555556,
              "#d8576b"
             ],
             [
              0.6666666666666666,
              "#ed7953"
             ],
             [
              0.7777777777777778,
              "#fb9f3a"
             ],
             [
              0.8888888888888888,
              "#fdca26"
             ],
             [
              1,
              "#f0f921"
             ]
            ],
            "type": "contour"
           }
          ],
          "contourcarpet": [
           {
            "colorbar": {
             "outlinewidth": 0,
             "ticks": ""
            },
            "type": "contourcarpet"
           }
          ],
          "heatmap": [
           {
            "colorbar": {
             "outlinewidth": 0,
             "ticks": ""
            },
            "colorscale": [
             [
              0,
              "#0d0887"
             ],
             [
              0.1111111111111111,
              "#46039f"
             ],
             [
              0.2222222222222222,
              "#7201a8"
             ],
             [
              0.3333333333333333,
              "#9c179e"
             ],
             [
              0.4444444444444444,
              "#bd3786"
             ],
             [
              0.5555555555555556,
              "#d8576b"
             ],
             [
              0.6666666666666666,
              "#ed7953"
             ],
             [
              0.7777777777777778,
              "#fb9f3a"
             ],
             [
              0.8888888888888888,
              "#fdca26"
             ],
             [
              1,
              "#f0f921"
             ]
            ],
            "type": "heatmap"
           }
          ],
          "heatmapgl": [
           {
            "colorbar": {
             "outlinewidth": 0,
             "ticks": ""
            },
            "colorscale": [
             [
              0,
              "#0d0887"
             ],
             [
              0.1111111111111111,
              "#46039f"
             ],
             [
              0.2222222222222222,
              "#7201a8"
             ],
             [
              0.3333333333333333,
              "#9c179e"
             ],
             [
              0.4444444444444444,
              "#bd3786"
             ],
             [
              0.5555555555555556,
              "#d8576b"
             ],
             [
              0.6666666666666666,
              "#ed7953"
             ],
             [
              0.7777777777777778,
              "#fb9f3a"
             ],
             [
              0.8888888888888888,
              "#fdca26"
             ],
             [
              1,
              "#f0f921"
             ]
            ],
            "type": "heatmapgl"
           }
          ],
          "histogram": [
           {
            "marker": {
             "colorbar": {
              "outlinewidth": 0,
              "ticks": ""
             }
            },
            "type": "histogram"
           }
          ],
          "histogram2d": [
           {
            "colorbar": {
             "outlinewidth": 0,
             "ticks": ""
            },
            "colorscale": [
             [
              0,
              "#0d0887"
             ],
             [
              0.1111111111111111,
              "#46039f"
             ],
             [
              0.2222222222222222,
              "#7201a8"
             ],
             [
              0.3333333333333333,
              "#9c179e"
             ],
             [
              0.4444444444444444,
              "#bd3786"
             ],
             [
              0.5555555555555556,
              "#d8576b"
             ],
             [
              0.6666666666666666,
              "#ed7953"
             ],
             [
              0.7777777777777778,
              "#fb9f3a"
             ],
             [
              0.8888888888888888,
              "#fdca26"
             ],
             [
              1,
              "#f0f921"
             ]
            ],
            "type": "histogram2d"
           }
          ],
          "histogram2dcontour": [
           {
            "colorbar": {
             "outlinewidth": 0,
             "ticks": ""
            },
            "colorscale": [
             [
              0,
              "#0d0887"
             ],
             [
              0.1111111111111111,
              "#46039f"
             ],
             [
              0.2222222222222222,
              "#7201a8"
             ],
             [
              0.3333333333333333,
              "#9c179e"
             ],
             [
              0.4444444444444444,
              "#bd3786"
             ],
             [
              0.5555555555555556,
              "#d8576b"
             ],
             [
              0.6666666666666666,
              "#ed7953"
             ],
             [
              0.7777777777777778,
              "#fb9f3a"
             ],
             [
              0.8888888888888888,
              "#fdca26"
             ],
             [
              1,
              "#f0f921"
             ]
            ],
            "type": "histogram2dcontour"
           }
          ],
          "mesh3d": [
           {
            "colorbar": {
             "outlinewidth": 0,
             "ticks": ""
            },
            "type": "mesh3d"
           }
          ],
          "parcoords": [
           {
            "line": {
             "colorbar": {
              "outlinewidth": 0,
              "ticks": ""
             }
            },
            "type": "parcoords"
           }
          ],
          "pie": [
           {
            "automargin": true,
            "type": "pie"
           }
          ],
          "scatter": [
           {
            "marker": {
             "colorbar": {
              "outlinewidth": 0,
              "ticks": ""
             }
            },
            "type": "scatter"
           }
          ],
          "scatter3d": [
           {
            "line": {
             "colorbar": {
              "outlinewidth": 0,
              "ticks": ""
             }
            },
            "marker": {
             "colorbar": {
              "outlinewidth": 0,
              "ticks": ""
             }
            },
            "type": "scatter3d"
           }
          ],
          "scattercarpet": [
           {
            "marker": {
             "colorbar": {
              "outlinewidth": 0,
              "ticks": ""
             }
            },
            "type": "scattercarpet"
           }
          ],
          "scattergeo": [
           {
            "marker": {
             "colorbar": {
              "outlinewidth": 0,
              "ticks": ""
             }
            },
            "type": "scattergeo"
           }
          ],
          "scattergl": [
           {
            "marker": {
             "colorbar": {
              "outlinewidth": 0,
              "ticks": ""
             }
            },
            "type": "scattergl"
           }
          ],
          "scattermapbox": [
           {
            "marker": {
             "colorbar": {
              "outlinewidth": 0,
              "ticks": ""
             }
            },
            "type": "scattermapbox"
           }
          ],
          "scatterpolar": [
           {
            "marker": {
             "colorbar": {
              "outlinewidth": 0,
              "ticks": ""
             }
            },
            "type": "scatterpolar"
           }
          ],
          "scatterpolargl": [
           {
            "marker": {
             "colorbar": {
              "outlinewidth": 0,
              "ticks": ""
             }
            },
            "type": "scatterpolargl"
           }
          ],
          "scatterternary": [
           {
            "marker": {
             "colorbar": {
              "outlinewidth": 0,
              "ticks": ""
             }
            },
            "type": "scatterternary"
           }
          ],
          "surface": [
           {
            "colorbar": {
             "outlinewidth": 0,
             "ticks": ""
            },
            "colorscale": [
             [
              0,
              "#0d0887"
             ],
             [
              0.1111111111111111,
              "#46039f"
             ],
             [
              0.2222222222222222,
              "#7201a8"
             ],
             [
              0.3333333333333333,
              "#9c179e"
             ],
             [
              0.4444444444444444,
              "#bd3786"
             ],
             [
              0.5555555555555556,
              "#d8576b"
             ],
             [
              0.6666666666666666,
              "#ed7953"
             ],
             [
              0.7777777777777778,
              "#fb9f3a"
             ],
             [
              0.8888888888888888,
              "#fdca26"
             ],
             [
              1,
              "#f0f921"
             ]
            ],
            "type": "surface"
           }
          ],
          "table": [
           {
            "cells": {
             "fill": {
              "color": "#EBF0F8"
             },
             "line": {
              "color": "white"
             }
            },
            "header": {
             "fill": {
              "color": "#C8D4E3"
             },
             "line": {
              "color": "white"
             }
            },
            "type": "table"
           }
          ]
         },
         "layout": {
          "annotationdefaults": {
           "arrowcolor": "#2a3f5f",
           "arrowhead": 0,
           "arrowwidth": 1
          },
          "autotypenumbers": "strict",
          "coloraxis": {
           "colorbar": {
            "outlinewidth": 0,
            "ticks": ""
           }
          },
          "colorscale": {
           "diverging": [
            [
             0,
             "#8e0152"
            ],
            [
             0.1,
             "#c51b7d"
            ],
            [
             0.2,
             "#de77ae"
            ],
            [
             0.3,
             "#f1b6da"
            ],
            [
             0.4,
             "#fde0ef"
            ],
            [
             0.5,
             "#f7f7f7"
            ],
            [
             0.6,
             "#e6f5d0"
            ],
            [
             0.7,
             "#b8e186"
            ],
            [
             0.8,
             "#7fbc41"
            ],
            [
             0.9,
             "#4d9221"
            ],
            [
             1,
             "#276419"
            ]
           ],
           "sequential": [
            [
             0,
             "#0d0887"
            ],
            [
             0.1111111111111111,
             "#46039f"
            ],
            [
             0.2222222222222222,
             "#7201a8"
            ],
            [
             0.3333333333333333,
             "#9c179e"
            ],
            [
             0.4444444444444444,
             "#bd3786"
            ],
            [
             0.5555555555555556,
             "#d8576b"
            ],
            [
             0.6666666666666666,
             "#ed7953"
            ],
            [
             0.7777777777777778,
             "#fb9f3a"
            ],
            [
             0.8888888888888888,
             "#fdca26"
            ],
            [
             1,
             "#f0f921"
            ]
           ],
           "sequentialminus": [
            [
             0,
             "#0d0887"
            ],
            [
             0.1111111111111111,
             "#46039f"
            ],
            [
             0.2222222222222222,
             "#7201a8"
            ],
            [
             0.3333333333333333,
             "#9c179e"
            ],
            [
             0.4444444444444444,
             "#bd3786"
            ],
            [
             0.5555555555555556,
             "#d8576b"
            ],
            [
             0.6666666666666666,
             "#ed7953"
            ],
            [
             0.7777777777777778,
             "#fb9f3a"
            ],
            [
             0.8888888888888888,
             "#fdca26"
            ],
            [
             1,
             "#f0f921"
            ]
           ]
          },
          "colorway": [
           "#636efa",
           "#EF553B",
           "#00cc96",
           "#ab63fa",
           "#FFA15A",
           "#19d3f3",
           "#FF6692",
           "#B6E880",
           "#FF97FF",
           "#FECB52"
          ],
          "font": {
           "color": "#2a3f5f"
          },
          "geo": {
           "bgcolor": "white",
           "lakecolor": "white",
           "landcolor": "#E5ECF6",
           "showlakes": true,
           "showland": true,
           "subunitcolor": "white"
          },
          "hoverlabel": {
           "align": "left"
          },
          "hovermode": "closest",
          "mapbox": {
           "style": "light"
          },
          "paper_bgcolor": "white",
          "plot_bgcolor": "#E5ECF6",
          "polar": {
           "angularaxis": {
            "gridcolor": "white",
            "linecolor": "white",
            "ticks": ""
           },
           "bgcolor": "#E5ECF6",
           "radialaxis": {
            "gridcolor": "white",
            "linecolor": "white",
            "ticks": ""
           }
          },
          "scene": {
           "xaxis": {
            "backgroundcolor": "#E5ECF6",
            "gridcolor": "white",
            "gridwidth": 2,
            "linecolor": "white",
            "showbackground": true,
            "ticks": "",
            "zerolinecolor": "white"
           },
           "yaxis": {
            "backgroundcolor": "#E5ECF6",
            "gridcolor": "white",
            "gridwidth": 2,
            "linecolor": "white",
            "showbackground": true,
            "ticks": "",
            "zerolinecolor": "white"
           },
           "zaxis": {
            "backgroundcolor": "#E5ECF6",
            "gridcolor": "white",
            "gridwidth": 2,
            "linecolor": "white",
            "showbackground": true,
            "ticks": "",
            "zerolinecolor": "white"
           }
          },
          "shapedefaults": {
           "line": {
            "color": "#2a3f5f"
           }
          },
          "ternary": {
           "aaxis": {
            "gridcolor": "white",
            "linecolor": "white",
            "ticks": ""
           },
           "baxis": {
            "gridcolor": "white",
            "linecolor": "white",
            "ticks": ""
           },
           "bgcolor": "#E5ECF6",
           "caxis": {
            "gridcolor": "white",
            "linecolor": "white",
            "ticks": ""
           }
          },
          "title": {
           "x": 0.05
          },
          "xaxis": {
           "automargin": true,
           "gridcolor": "white",
           "linecolor": "white",
           "ticks": "",
           "title": {
            "standoff": 15
           },
           "zerolinecolor": "white",
           "zerolinewidth": 2
          },
          "yaxis": {
           "automargin": true,
           "gridcolor": "white",
           "linecolor": "white",
           "ticks": "",
           "title": {
            "standoff": 15
           },
           "zerolinecolor": "white",
           "zerolinewidth": 2
          }
         }
        },
        "title": "Indivdual component of variation explained by Principal Compoenents",
        "xaxis": {
         "title": {
          "text": "x"
         }
        },
        "yaxis": {
         "title": {
          "text": "y"
         }
        }
       }
      },
      "text/html": [
       "<div\n",
       "    class=\"webio-mountpoint\"\n",
       "    data-webio-mountpoint=\"13791507882024407069\"\n",
       ">\n",
       "    <script>\n",
       "    (function(){\n",
       "    // Some integrations (namely, IJulia/Jupyter) use an alternate render pathway than\n",
       "    // just putting the html on the page. If WebIO isn't defined, then it's pretty likely\n",
       "    // that we're in one of those situations and the integration just isn't installed\n",
       "    // correctly.\n",
       "    if (typeof window.WebIO === \"undefined\") {\n",
       "        document\n",
       "            .querySelector('[data-webio-mountpoint=\"13791507882024407069\"]')\n",
       "            .innerHTML = (\n",
       "                '<div style=\"padding: 1em; background-color: #f8d6da; border: 1px solid #f5c6cb; font-weight: bold;\">' +\n",
       "                '<p><strong>WebIO not detected.</strong></p>' +\n",
       "                '<p>Please read ' +\n",
       "                '<a href=\"https://juliagizmos.github.io/WebIO.jl/latest/troubleshooting/not-detected/\" target=\"_blank\">the troubleshooting guide</a> ' +\n",
       "                'for more information on how to resolve this issue.</p>' +\n",
       "                '<p><a href=\"https://juliagizmos.github.io/WebIO.jl/latest/troubleshooting/not-detected/\" target=\"_blank\">https://juliagizmos.github.io/WebIO.jl/latest/troubleshooting/not-detected/</a></p>' +\n",
       "                '</div>'\n",
       "            );\n",
       "        return;\n",
       "    }\n",
       "    WebIO.mount(\n",
       "        document.querySelector('[data-webio-mountpoint=\"13791507882024407069\"]'),\n",
       "        {\"props\":{},\"nodeType\":\"Scope\",\"type\":\"node\",\"instanceArgs\":{\"imports\":{\"data\":[{\"name\":\"Plotly\",\"type\":\"js\",\"url\":\"\\/assetserver\\/597d3e3981791f3da20e7b96cab90ffffca4599e-plotly.min.js\"},{\"name\":null,\"type\":\"js\",\"url\":\"\\/assetserver\\/d21cc61a8b26f5a8d90707d16621e32300c2e5ed-plotly_webio.bundle.js\"}],\"type\":\"async_block\"},\"id\":\"411347284718819093\",\"handlers\":{\"_toImage\":[\"(function (options){return this.Plotly.toImage(this.plotElem,options).then((function (data){return WebIO.setval({\\\"name\\\":\\\"image\\\",\\\"scope\\\":\\\"411347284718819093\\\",\\\"id\\\":\\\"12627938323347291792\\\",\\\"type\\\":\\\"observable\\\"},data)}))})\"],\"__get_gd_contents\":[\"(function (prop){prop==\\\"data\\\" ? (WebIO.setval({\\\"name\\\":\\\"__gd_contents\\\",\\\"scope\\\":\\\"411347284718819093\\\",\\\"id\\\":\\\"3109152199443559814\\\",\\\"type\\\":\\\"observable\\\"},this.plotElem.data)) : undefined; return prop==\\\"layout\\\" ? (WebIO.setval({\\\"name\\\":\\\"__gd_contents\\\",\\\"scope\\\":\\\"411347284718819093\\\",\\\"id\\\":\\\"3109152199443559814\\\",\\\"type\\\":\\\"observable\\\"},this.plotElem.layout)) : undefined})\"],\"_downloadImage\":[\"(function (options){return this.Plotly.downloadImage(this.plotElem,options)})\"],\"_commands\":[\"(function (args){var fn=args.shift(); var elem=this.plotElem; var Plotly=this.Plotly; args.unshift(elem); return Plotly[fn].apply(this,args)})\"]},\"systemjs_options\":null,\"mount_callbacks\":[\"function () {\\n    var handler = ((function (Plotly,PlotlyWebIO){PlotlyWebIO.init(WebIO); var gd=this.dom.querySelector(\\\"#plot-1f4fb232-4c4d-4b7d-9c60-603c3ee506c9\\\"); this.plotElem=gd; this.Plotly=Plotly; (window.Blink!==undefined) ? (gd.style.width=\\\"100%\\\", gd.style.height=\\\"100vh\\\", gd.style.marginLeft=\\\"0%\\\", gd.style.marginTop=\\\"0vh\\\") : undefined; window.onresize=(function (){return Plotly.Plots.resize(gd)}); Plotly.newPlot(gd,[{\\\"xaxis\\\":\\\"x\\\",\\\"y\\\":[0.6200603947873733,0.24744128813496036,0.08914079514520741,0.04335752193245896],\\\"type\\\":\\\"scatter\\\",\\\"yaxis\\\":\\\"y\\\",\\\"x\\\":[1,2,3,4]}],{\\\"xaxis\\\":{\\\"title\\\":{\\\"text\\\":\\\"x\\\"}},\\\"template\\\":{\\\"layout\\\":{\\\"coloraxis\\\":{\\\"colorbar\\\":{\\\"ticks\\\":\\\"\\\",\\\"outlinewidth\\\":0}},\\\"xaxis\\\":{\\\"gridcolor\\\":\\\"white\\\",\\\"zerolinewidth\\\":2,\\\"title\\\":{\\\"standoff\\\":15},\\\"ticks\\\":\\\"\\\",\\\"zerolinecolor\\\":\\\"white\\\",\\\"automargin\\\":true,\\\"linecolor\\\":\\\"white\\\"},\\\"hovermode\\\":\\\"closest\\\",\\\"paper_bgcolor\\\":\\\"white\\\",\\\"geo\\\":{\\\"showlakes\\\":true,\\\"showland\\\":true,\\\"landcolor\\\":\\\"#E5ECF6\\\",\\\"bgcolor\\\":\\\"white\\\",\\\"subunitcolor\\\":\\\"white\\\",\\\"lakecolor\\\":\\\"white\\\"},\\\"colorscale\\\":{\\\"sequential\\\":[[0.0,\\\"#0d0887\\\"],[0.1111111111111111,\\\"#46039f\\\"],[0.2222222222222222,\\\"#7201a8\\\"],[0.3333333333333333,\\\"#9c179e\\\"],[0.4444444444444444,\\\"#bd3786\\\"],[0.5555555555555556,\\\"#d8576b\\\"],[0.6666666666666666,\\\"#ed7953\\\"],[0.7777777777777778,\\\"#fb9f3a\\\"],[0.8888888888888888,\\\"#fdca26\\\"],[1.0,\\\"#f0f921\\\"]],\\\"diverging\\\":[[0,\\\"#8e0152\\\"],[0.1,\\\"#c51b7d\\\"],[0.2,\\\"#de77ae\\\"],[0.3,\\\"#f1b6da\\\"],[0.4,\\\"#fde0ef\\\"],[0.5,\\\"#f7f7f7\\\"],[0.6,\\\"#e6f5d0\\\"],[0.7,\\\"#b8e186\\\"],[0.8,\\\"#7fbc41\\\"],[0.9,\\\"#4d9221\\\"],[1,\\\"#276419\\\"]],\\\"sequentialminus\\\":[[0.0,\\\"#0d0887\\\"],[0.1111111111111111,\\\"#46039f\\\"],[0.2222222222222222,\\\"#7201a8\\\"],[0.3333333333333333,\\\"#9c179e\\\"],[0.4444444444444444,\\\"#bd3786\\\"],[0.5555555555555556,\\\"#d8576b\\\"],[0.6666666666666666,\\\"#ed7953\\\"],[0.7777777777777778,\\\"#fb9f3a\\\"],[0.8888888888888888,\\\"#fdca26\\\"],[1.0,\\\"#f0f921\\\"]]},\\\"yaxis\\\":{\\\"gridcolor\\\":\\\"white\\\",\\\"zerolinewidth\\\":2,\\\"title\\\":{\\\"standoff\\\":15},\\\"ticks\\\":\\\"\\\",\\\"zerolinecolor\\\":\\\"white\\\",\\\"automargin\\\":true,\\\"linecolor\\\":\\\"white\\\"},\\\"shapedefaults\\\":{\\\"line\\\":{\\\"color\\\":\\\"#2a3f5f\\\"}},\\\"hoverlabel\\\":{\\\"align\\\":\\\"left\\\"},\\\"mapbox\\\":{\\\"style\\\":\\\"light\\\"},\\\"polar\\\":{\\\"angularaxis\\\":{\\\"gridcolor\\\":\\\"white\\\",\\\"ticks\\\":\\\"\\\",\\\"linecolor\\\":\\\"white\\\"},\\\"bgcolor\\\":\\\"#E5ECF6\\\",\\\"radialaxis\\\":{\\\"gridcolor\\\":\\\"white\\\",\\\"ticks\\\":\\\"\\\",\\\"linecolor\\\":\\\"white\\\"}},\\\"autotypenumbers\\\":\\\"strict\\\",\\\"font\\\":{\\\"color\\\":\\\"#2a3f5f\\\"},\\\"ternary\\\":{\\\"baxis\\\":{\\\"gridcolor\\\":\\\"white\\\",\\\"ticks\\\":\\\"\\\",\\\"linecolor\\\":\\\"white\\\"},\\\"bgcolor\\\":\\\"#E5ECF6\\\",\\\"caxis\\\":{\\\"gridcolor\\\":\\\"white\\\",\\\"ticks\\\":\\\"\\\",\\\"linecolor\\\":\\\"white\\\"},\\\"aaxis\\\":{\\\"gridcolor\\\":\\\"white\\\",\\\"ticks\\\":\\\"\\\",\\\"linecolor\\\":\\\"white\\\"}},\\\"annotationdefaults\\\":{\\\"arrowhead\\\":0,\\\"arrowwidth\\\":1,\\\"arrowcolor\\\":\\\"#2a3f5f\\\"},\\\"plot_bgcolor\\\":\\\"#E5ECF6\\\",\\\"title\\\":{\\\"x\\\":0.05},\\\"scene\\\":{\\\"xaxis\\\":{\\\"gridcolor\\\":\\\"white\\\",\\\"gridwidth\\\":2,\\\"backgroundcolor\\\":\\\"#E5ECF6\\\",\\\"ticks\\\":\\\"\\\",\\\"showbackground\\\":true,\\\"zerolinecolor\\\":\\\"white\\\",\\\"linecolor\\\":\\\"white\\\"},\\\"zaxis\\\":{\\\"gridcolor\\\":\\\"white\\\",\\\"gridwidth\\\":2,\\\"backgroundcolor\\\":\\\"#E5ECF6\\\",\\\"ticks\\\":\\\"\\\",\\\"showbackground\\\":true,\\\"zerolinecolor\\\":\\\"white\\\",\\\"linecolor\\\":\\\"white\\\"},\\\"yaxis\\\":{\\\"gridcolor\\\":\\\"white\\\",\\\"gridwidth\\\":2,\\\"backgroundcolor\\\":\\\"#E5ECF6\\\",\\\"ticks\\\":\\\"\\\",\\\"showbackground\\\":true,\\\"zerolinecolor\\\":\\\"white\\\",\\\"linecolor\\\":\\\"white\\\"}},\\\"colorway\\\":[\\\"#636efa\\\",\\\"#EF553B\\\",\\\"#00cc96\\\",\\\"#ab63fa\\\",\\\"#FFA15A\\\",\\\"#19d3f3\\\",\\\"#FF6692\\\",\\\"#B6E880\\\",\\\"#FF97FF\\\",\\\"#FECB52\\\"]},\\\"data\\\":{\\\"barpolar\\\":[{\\\"type\\\":\\\"barpolar\\\",\\\"marker\\\":{\\\"line\\\":{\\\"color\\\":\\\"#E5ECF6\\\",\\\"width\\\":0.5}}}],\\\"carpet\\\":[{\\\"aaxis\\\":{\\\"gridcolor\\\":\\\"white\\\",\\\"endlinecolor\\\":\\\"#2a3f5f\\\",\\\"minorgridcolor\\\":\\\"white\\\",\\\"startlinecolor\\\":\\\"#2a3f5f\\\",\\\"linecolor\\\":\\\"white\\\"},\\\"type\\\":\\\"carpet\\\",\\\"baxis\\\":{\\\"gridcolor\\\":\\\"white\\\",\\\"endlinecolor\\\":\\\"#2a3f5f\\\",\\\"minorgridcolor\\\":\\\"white\\\",\\\"startlinecolor\\\":\\\"#2a3f5f\\\",\\\"linecolor\\\":\\\"white\\\"}}],\\\"scatterpolar\\\":[{\\\"type\\\":\\\"scatterpolar\\\",\\\"marker\\\":{\\\"colorbar\\\":{\\\"ticks\\\":\\\"\\\",\\\"outlinewidth\\\":0}}}],\\\"parcoords\\\":[{\\\"line\\\":{\\\"colorbar\\\":{\\\"ticks\\\":\\\"\\\",\\\"outlinewidth\\\":0}},\\\"type\\\":\\\"parcoords\\\"}],\\\"scatter\\\":[{\\\"type\\\":\\\"scatter\\\",\\\"marker\\\":{\\\"colorbar\\\":{\\\"ticks\\\":\\\"\\\",\\\"outlinewidth\\\":0}}}],\\\"histogram2dcontour\\\":[{\\\"colorbar\\\":{\\\"ticks\\\":\\\"\\\",\\\"outlinewidth\\\":0},\\\"type\\\":\\\"histogram2dcontour\\\",\\\"colorscale\\\":[[0.0,\\\"#0d0887\\\"],[0.1111111111111111,\\\"#46039f\\\"],[0.2222222222222222,\\\"#7201a8\\\"],[0.3333333333333333,\\\"#9c179e\\\"],[0.4444444444444444,\\\"#bd3786\\\"],[0.5555555555555556,\\\"#d8576b\\\"],[0.6666666666666666,\\\"#ed7953\\\"],[0.7777777777777778,\\\"#fb9f3a\\\"],[0.8888888888888888,\\\"#fdca26\\\"],[1.0,\\\"#f0f921\\\"]]}],\\\"contour\\\":[{\\\"colorbar\\\":{\\\"ticks\\\":\\\"\\\",\\\"outlinewidth\\\":0},\\\"type\\\":\\\"contour\\\",\\\"colorscale\\\":[[0.0,\\\"#0d0887\\\"],[0.1111111111111111,\\\"#46039f\\\"],[0.2222222222222222,\\\"#7201a8\\\"],[0.3333333333333333,\\\"#9c179e\\\"],[0.4444444444444444,\\\"#bd3786\\\"],[0.5555555555555556,\\\"#d8576b\\\"],[0.6666666666666666,\\\"#ed7953\\\"],[0.7777777777777778,\\\"#fb9f3a\\\"],[0.8888888888888888,\\\"#fdca26\\\"],[1.0,\\\"#f0f921\\\"]]}],\\\"scattercarpet\\\":[{\\\"type\\\":\\\"scattercarpet\\\",\\\"marker\\\":{\\\"colorbar\\\":{\\\"ticks\\\":\\\"\\\",\\\"outlinewidth\\\":0}}}],\\\"mesh3d\\\":[{\\\"colorbar\\\":{\\\"ticks\\\":\\\"\\\",\\\"outlinewidth\\\":0},\\\"type\\\":\\\"mesh3d\\\"}],\\\"surface\\\":[{\\\"colorbar\\\":{\\\"ticks\\\":\\\"\\\",\\\"outlinewidth\\\":0},\\\"type\\\":\\\"surface\\\",\\\"colorscale\\\":[[0.0,\\\"#0d0887\\\"],[0.1111111111111111,\\\"#46039f\\\"],[0.2222222222222222,\\\"#7201a8\\\"],[0.3333333333333333,\\\"#9c179e\\\"],[0.4444444444444444,\\\"#bd3786\\\"],[0.5555555555555556,\\\"#d8576b\\\"],[0.6666666666666666,\\\"#ed7953\\\"],[0.7777777777777778,\\\"#fb9f3a\\\"],[0.8888888888888888,\\\"#fdca26\\\"],[1.0,\\\"#f0f921\\\"]]}],\\\"scattermapbox\\\":[{\\\"type\\\":\\\"scattermapbox\\\",\\\"marker\\\":{\\\"colorbar\\\":{\\\"ticks\\\":\\\"\\\",\\\"outlinewidth\\\":0}}}],\\\"scattergeo\\\":[{\\\"type\\\":\\\"scattergeo\\\",\\\"marker\\\":{\\\"colorbar\\\":{\\\"ticks\\\":\\\"\\\",\\\"outlinewidth\\\":0}}}],\\\"histogram\\\":[{\\\"type\\\":\\\"histogram\\\",\\\"marker\\\":{\\\"colorbar\\\":{\\\"ticks\\\":\\\"\\\",\\\"outlinewidth\\\":0}}}],\\\"pie\\\":[{\\\"type\\\":\\\"pie\\\",\\\"automargin\\\":true}],\\\"choropleth\\\":[{\\\"colorbar\\\":{\\\"ticks\\\":\\\"\\\",\\\"outlinewidth\\\":0},\\\"type\\\":\\\"choropleth\\\"}],\\\"heatmapgl\\\":[{\\\"colorbar\\\":{\\\"ticks\\\":\\\"\\\",\\\"outlinewidth\\\":0},\\\"type\\\":\\\"heatmapgl\\\",\\\"colorscale\\\":[[0.0,\\\"#0d0887\\\"],[0.1111111111111111,\\\"#46039f\\\"],[0.2222222222222222,\\\"#7201a8\\\"],[0.3333333333333333,\\\"#9c179e\\\"],[0.4444444444444444,\\\"#bd3786\\\"],[0.5555555555555556,\\\"#d8576b\\\"],[0.6666666666666666,\\\"#ed7953\\\"],[0.7777777777777778,\\\"#fb9f3a\\\"],[0.8888888888888888,\\\"#fdca26\\\"],[1.0,\\\"#f0f921\\\"]]}],\\\"bar\\\":[{\\\"type\\\":\\\"bar\\\",\\\"error_y\\\":{\\\"color\\\":\\\"#2a3f5f\\\"},\\\"error_x\\\":{\\\"color\\\":\\\"#2a3f5f\\\"},\\\"marker\\\":{\\\"line\\\":{\\\"color\\\":\\\"#E5ECF6\\\",\\\"width\\\":0.5}}}],\\\"heatmap\\\":[{\\\"colorbar\\\":{\\\"ticks\\\":\\\"\\\",\\\"outlinewidth\\\":0},\\\"type\\\":\\\"heatmap\\\",\\\"colorscale\\\":[[0.0,\\\"#0d0887\\\"],[0.1111111111111111,\\\"#46039f\\\"],[0.2222222222222222,\\\"#7201a8\\\"],[0.3333333333333333,\\\"#9c179e\\\"],[0.4444444444444444,\\\"#bd3786\\\"],[0.5555555555555556,\\\"#d8576b\\\"],[0.6666666666666666,\\\"#ed7953\\\"],[0.7777777777777778,\\\"#fb9f3a\\\"],[0.8888888888888888,\\\"#fdca26\\\"],[1.0,\\\"#f0f921\\\"]]}],\\\"contourcarpet\\\":[{\\\"colorbar\\\":{\\\"ticks\\\":\\\"\\\",\\\"outlinewidth\\\":0},\\\"type\\\":\\\"contourcarpet\\\"}],\\\"table\\\":[{\\\"type\\\":\\\"table\\\",\\\"header\\\":{\\\"line\\\":{\\\"color\\\":\\\"white\\\"},\\\"fill\\\":{\\\"color\\\":\\\"#C8D4E3\\\"}},\\\"cells\\\":{\\\"line\\\":{\\\"color\\\":\\\"white\\\"},\\\"fill\\\":{\\\"color\\\":\\\"#EBF0F8\\\"}}}],\\\"scatter3d\\\":[{\\\"line\\\":{\\\"colorbar\\\":{\\\"ticks\\\":\\\"\\\",\\\"outlinewidth\\\":0}},\\\"type\\\":\\\"scatter3d\\\",\\\"marker\\\":{\\\"colorbar\\\":{\\\"ticks\\\":\\\"\\\",\\\"outlinewidth\\\":0}}}],\\\"scattergl\\\":[{\\\"type\\\":\\\"scattergl\\\",\\\"marker\\\":{\\\"colorbar\\\":{\\\"ticks\\\":\\\"\\\",\\\"outlinewidth\\\":0}}}],\\\"histogram2d\\\":[{\\\"colorbar\\\":{\\\"ticks\\\":\\\"\\\",\\\"outlinewidth\\\":0},\\\"type\\\":\\\"histogram2d\\\",\\\"colorscale\\\":[[0.0,\\\"#0d0887\\\"],[0.1111111111111111,\\\"#46039f\\\"],[0.2222222222222222,\\\"#7201a8\\\"],[0.3333333333333333,\\\"#9c179e\\\"],[0.4444444444444444,\\\"#bd3786\\\"],[0.5555555555555556,\\\"#d8576b\\\"],[0.6666666666666666,\\\"#ed7953\\\"],[0.7777777777777778,\\\"#fb9f3a\\\"],[0.8888888888888888,\\\"#fdca26\\\"],[1.0,\\\"#f0f921\\\"]]}],\\\"scatterternary\\\":[{\\\"type\\\":\\\"scatterternary\\\",\\\"marker\\\":{\\\"colorbar\\\":{\\\"ticks\\\":\\\"\\\",\\\"outlinewidth\\\":0}}}],\\\"scatterpolargl\\\":[{\\\"type\\\":\\\"scatterpolargl\\\",\\\"marker\\\":{\\\"colorbar\\\":{\\\"ticks\\\":\\\"\\\",\\\"outlinewidth\\\":0}}}]}},\\\"legend\\\":{\\\"tracegroupgap\\\":0},\\\"margin\\\":{\\\"l\\\":50,\\\"b\\\":50,\\\"r\\\":50,\\\"t\\\":60},\\\"title\\\":\\\"Indivdual component of variation explained by Principal Compoenents\\\",\\\"yaxis\\\":{\\\"title\\\":{\\\"text\\\":\\\"y\\\"}}},{\\\"showLink\\\":false,\\\"editable\\\":false,\\\"responsive\\\":true,\\\"staticPlot\\\":false,\\\"scrollZoom\\\":true}); gd.on(\\\"plotly_hover\\\",(function (data){var filtered_data=WebIO.PlotlyCommands.filterEventData(gd,data,\\\"hover\\\"); return !(filtered_data.isnil) ? (WebIO.setval({\\\"name\\\":\\\"hover\\\",\\\"scope\\\":\\\"411347284718819093\\\",\\\"id\\\":\\\"1219277839267671479\\\",\\\"type\\\":\\\"observable\\\"},filtered_data.out)) : undefined})); gd.on(\\\"plotly_unhover\\\",(function (){return WebIO.setval({\\\"name\\\":\\\"hover\\\",\\\"scope\\\":\\\"411347284718819093\\\",\\\"id\\\":\\\"1219277839267671479\\\",\\\"type\\\":\\\"observable\\\"},{})})); gd.on(\\\"plotly_selected\\\",(function (data){var filtered_data=WebIO.PlotlyCommands.filterEventData(gd,data,\\\"selected\\\"); return !(filtered_data.isnil) ? (WebIO.setval({\\\"name\\\":\\\"selected\\\",\\\"scope\\\":\\\"411347284718819093\\\",\\\"id\\\":\\\"4390175908171926531\\\",\\\"type\\\":\\\"observable\\\"},filtered_data.out)) : undefined})); gd.on(\\\"plotly_deselect\\\",(function (){return WebIO.setval({\\\"name\\\":\\\"selected\\\",\\\"scope\\\":\\\"411347284718819093\\\",\\\"id\\\":\\\"4390175908171926531\\\",\\\"type\\\":\\\"observable\\\"},{})})); gd.on(\\\"plotly_relayout\\\",(function (data){var filtered_data=WebIO.PlotlyCommands.filterEventData(gd,data,\\\"relayout\\\"); return !(filtered_data.isnil) ? (WebIO.setval({\\\"name\\\":\\\"relayout\\\",\\\"scope\\\":\\\"411347284718819093\\\",\\\"id\\\":\\\"15807259572594715673\\\",\\\"type\\\":\\\"observable\\\"},filtered_data.out)) : undefined})); return gd.on(\\\"plotly_click\\\",(function (data){var filtered_data=WebIO.PlotlyCommands.filterEventData(gd,data,\\\"click\\\"); return !(filtered_data.isnil) ? (WebIO.setval({\\\"name\\\":\\\"click\\\",\\\"scope\\\":\\\"411347284718819093\\\",\\\"id\\\":\\\"1862443275825749384\\\",\\\"type\\\":\\\"observable\\\"},filtered_data.out)) : undefined}))}));\\n    (WebIO.importBlock({\\\"data\\\":[{\\\"name\\\":\\\"Plotly\\\",\\\"type\\\":\\\"js\\\",\\\"url\\\":\\\"\\/assetserver\\/597d3e3981791f3da20e7b96cab90ffffca4599e-plotly.min.js\\\"},{\\\"name\\\":null,\\\"type\\\":\\\"js\\\",\\\"url\\\":\\\"\\/assetserver\\/d21cc61a8b26f5a8d90707d16621e32300c2e5ed-plotly_webio.bundle.js\\\"}],\\\"type\\\":\\\"async_block\\\"})).then((imports) => handler.apply(this, imports));\\n}\\n\"],\"observables\":{\"_toImage\":{\"sync\":false,\"id\":\"15445749407015629176\",\"value\":{}},\"hover\":{\"sync\":false,\"id\":\"1219277839267671479\",\"value\":{}},\"selected\":{\"sync\":false,\"id\":\"4390175908171926531\",\"value\":{}},\"__gd_contents\":{\"sync\":false,\"id\":\"3109152199443559814\",\"value\":{}},\"click\":{\"sync\":false,\"id\":\"1862443275825749384\",\"value\":{}},\"image\":{\"sync\":true,\"id\":\"12627938323347291792\",\"value\":\"\"},\"__get_gd_contents\":{\"sync\":false,\"id\":\"4600013761792707080\",\"value\":\"\"},\"_downloadImage\":{\"sync\":false,\"id\":\"12054253869849111755\",\"value\":{}},\"relayout\":{\"sync\":false,\"id\":\"15807259572594715673\",\"value\":{}},\"_commands\":{\"sync\":false,\"id\":\"15143642556178060831\",\"value\":[]}}},\"children\":[{\"props\":{\"id\":\"plot-1f4fb232-4c4d-4b7d-9c60-603c3ee506c9\"},\"nodeType\":\"DOM\",\"type\":\"node\",\"instanceArgs\":{\"namespace\":\"html\",\"tag\":\"div\"},\"children\":[]}]},\n",
       "        window,\n",
       "    );\n",
       "    })()\n",
       "    </script>\n",
       "</div>\n"
      ],
      "text/plain": [
       "data: [\n",
       "  \"scatter with fields type, x, xaxis, y, and yaxis\"\n",
       "]\n",
       "\n",
       "layout: \"layout with fields legend, margin, template, title, xaxis, and yaxis\"\n",
       "\n"
      ]
     },
     "execution_count": 16,
     "metadata": {},
     "output_type": "execute_result"
    }
   ],
   "source": [
    "plot_df = DataFrame(\n",
    "    x=[1,2,3,4],\n",
    "    y=[explained_variance_ratio[1], explained_variance_ratio[2], explained_variance_ratio[3], explained_variance_ratio[4]]\n",
    ", )\n",
    "PlotlyJS.plot(plot_df, x=:x, y=:y, Layout(title=\"Indivdual component of variation explained by Principal Compoenents\"))"
   ]
  },
  {
   "cell_type": "markdown",
   "id": "b8d502e3",
   "metadata": {},
   "source": [
    "### Lab 3: NCI60 Data Example\n",
    "##### 10.6.1 PCA"
   ]
  },
  {
   "cell_type": "code",
   "execution_count": 17,
   "id": "c896410b",
   "metadata": {},
   "outputs": [
    {
     "name": "stdout",
     "output_type": "stream",
     "text": [
      "CSV.File\n"
     ]
    },
    {
     "data": {
      "text/html": [
       "<div><div style = \"float: left;\"><span>5×6831 DataFrame</span></div><div style = \"float: right;\"><span style = \"font-style: italic;\">6731 columns omitted</span></div><div style = \"clear: both;\"></div></div><div class = \"data-frame\" style = \"overflow-x: scroll;\"><table class = \"data-frame\" style = \"margin-bottom: 6px;\"><thead><tr class = \"header\"><th class = \"rowNumber\" style = \"font-weight: bold; text-align: right;\">Row</th><th style = \"text-align: left;\">Column1</th><th style = \"text-align: left;\">1</th><th style = \"text-align: left;\">2</th><th style = \"text-align: left;\">3</th><th style = \"text-align: left;\">4</th><th style = \"text-align: left;\">5</th><th style = \"text-align: left;\">6</th><th style = \"text-align: left;\">7</th><th style = \"text-align: left;\">8</th><th style = \"text-align: left;\">9</th><th style = \"text-align: left;\">10</th><th style = \"text-align: left;\">11</th><th style = \"text-align: left;\">12</th><th style = \"text-align: left;\">13</th><th style = \"text-align: left;\">14</th><th style = \"text-align: left;\">15</th><th style = \"text-align: left;\">16</th><th style = \"text-align: left;\">17</th><th style = \"text-align: left;\">18</th><th style = \"text-align: left;\">19</th><th style = \"text-align: left;\">20</th><th style = \"text-align: left;\">21</th><th style = \"text-align: left;\">22</th><th style = \"text-align: left;\">23</th><th style = \"text-align: left;\">24</th><th style = \"text-align: left;\">25</th><th style = \"text-align: left;\">26</th><th style = \"text-align: left;\">27</th><th style = \"text-align: left;\">28</th><th style = \"text-align: left;\">29</th><th style = \"text-align: left;\">30</th><th style = \"text-align: left;\">31</th><th style = \"text-align: left;\">32</th><th style = \"text-align: left;\">33</th><th style = \"text-align: left;\">34</th><th style = \"text-align: left;\">35</th><th style = \"text-align: left;\">36</th><th style = \"text-align: left;\">37</th><th style = \"text-align: left;\">38</th><th style = \"text-align: left;\">39</th><th style = \"text-align: left;\">40</th><th style = \"text-align: left;\">41</th><th style = \"text-align: left;\">42</th><th style = \"text-align: left;\">43</th><th style = \"text-align: left;\">44</th><th style = \"text-align: left;\">45</th><th style = \"text-align: left;\">46</th><th style = \"text-align: left;\">47</th><th style = \"text-align: left;\">48</th><th style = \"text-align: left;\">49</th><th style = \"text-align: left;\">50</th><th style = \"text-align: left;\">51</th><th style = \"text-align: left;\">52</th><th style = \"text-align: left;\">53</th><th style = \"text-align: left;\">54</th><th style = \"text-align: left;\">55</th><th style = \"text-align: left;\">56</th><th style = \"text-align: left;\">57</th><th style = \"text-align: left;\">58</th><th style = \"text-align: left;\">59</th><th style = \"text-align: left;\">60</th><th style = \"text-align: left;\">61</th><th style = \"text-align: left;\">62</th><th style = \"text-align: left;\">63</th><th style = \"text-align: left;\">64</th><th style = \"text-align: left;\">65</th><th style = \"text-align: left;\">66</th><th style = \"text-align: left;\">67</th><th style = \"text-align: left;\">68</th><th style = \"text-align: left;\">69</th><th style = \"text-align: left;\">70</th><th style = \"text-align: left;\">71</th><th style = \"text-align: left;\">72</th><th style = \"text-align: left;\">73</th><th style = \"text-align: left;\">74</th><th style = \"text-align: left;\">75</th><th style = \"text-align: left;\">76</th><th style = \"text-align: left;\">77</th><th style = \"text-align: left;\">78</th><th style = \"text-align: left;\">79</th><th style = \"text-align: left;\">80</th><th style = \"text-align: left;\">81</th><th style = \"text-align: left;\">82</th><th style = \"text-align: left;\">83</th><th style = \"text-align: left;\">84</th><th style = \"text-align: left;\">85</th><th style = \"text-align: left;\">86</th><th style = \"text-align: left;\">87</th><th style = \"text-align: left;\">88</th><th style = \"text-align: left;\">89</th><th style = \"text-align: left;\">90</th><th style = \"text-align: left;\">91</th><th style = \"text-align: left;\">92</th><th style = \"text-align: left;\">93</th><th style = \"text-align: left;\">94</th><th style = \"text-align: left;\">95</th><th style = \"text-align: left;\">96</th><th style = \"text-align: left;\">97</th><th style = \"text-align: left;\">98</th><th style = \"text-align: left;\">99</th><th style = \"text-align: right;\">&ctdot;</th></tr><tr class = \"subheader headerLastRow\"><th class = \"rowNumber\" style = \"font-weight: bold; text-align: right;\"></th><th title = \"String3\" style = \"text-align: left;\">String3</th><th title = \"Float64\" style = \"text-align: left;\">Float64</th><th title = \"Float64\" style = \"text-align: left;\">Float64</th><th title = \"Float64\" style = \"text-align: left;\">Float64</th><th title = \"Float64\" style = \"text-align: left;\">Float64</th><th title = \"Float64\" style = \"text-align: left;\">Float64</th><th title = \"Float64\" style = \"text-align: left;\">Float64</th><th title = \"Float64\" style = \"text-align: left;\">Float64</th><th title = \"Float64\" style = \"text-align: left;\">Float64</th><th title = \"Float64\" style = \"text-align: left;\">Float64</th><th title = \"Float64\" style = \"text-align: left;\">Float64</th><th title = \"Float64\" style = \"text-align: left;\">Float64</th><th title = \"Float64\" style = \"text-align: left;\">Float64</th><th title = \"Float64\" style = \"text-align: left;\">Float64</th><th title = \"Float64\" style = \"text-align: left;\">Float64</th><th title = \"Float64\" style = \"text-align: left;\">Float64</th><th title = \"Float64\" style = \"text-align: left;\">Float64</th><th title = \"Float64\" style = \"text-align: left;\">Float64</th><th title = \"Float64\" style = \"text-align: left;\">Float64</th><th title = \"Float64\" style = \"text-align: left;\">Float64</th><th title = \"Float64\" style = \"text-align: left;\">Float64</th><th title = \"Float64\" style = \"text-align: left;\">Float64</th><th title = \"Float64\" style = \"text-align: left;\">Float64</th><th title = \"Float64\" style = \"text-align: left;\">Float64</th><th title = \"Float64\" style = \"text-align: left;\">Float64</th><th title = \"Float64\" style = \"text-align: left;\">Float64</th><th title = \"Float64\" style = \"text-align: left;\">Float64</th><th title = \"Float64\" style = \"text-align: left;\">Float64</th><th title = \"Float64\" style = \"text-align: left;\">Float64</th><th title = \"Float64\" style = \"text-align: left;\">Float64</th><th title = \"Float64\" style = \"text-align: left;\">Float64</th><th title = \"Float64\" style = \"text-align: left;\">Float64</th><th title = \"Float64\" style = \"text-align: left;\">Float64</th><th title = \"Float64\" style = \"text-align: left;\">Float64</th><th title = \"Float64\" style = \"text-align: left;\">Float64</th><th title = \"Float64\" style = \"text-align: left;\">Float64</th><th title = \"Float64\" style = \"text-align: left;\">Float64</th><th title = \"Float64\" style = \"text-align: left;\">Float64</th><th title = \"Float64\" style = \"text-align: left;\">Float64</th><th title = \"Float64\" style = \"text-align: left;\">Float64</th><th title = \"Float64\" style = \"text-align: left;\">Float64</th><th title = \"Float64\" style = \"text-align: left;\">Float64</th><th title = \"Float64\" style = \"text-align: left;\">Float64</th><th title = \"Float64\" style = \"text-align: left;\">Float64</th><th title = \"Float64\" style = \"text-align: left;\">Float64</th><th title = \"Float64\" style = \"text-align: left;\">Float64</th><th title = \"Float64\" style = \"text-align: left;\">Float64</th><th title = \"Float64\" style = \"text-align: left;\">Float64</th><th title = \"Float64\" style = \"text-align: left;\">Float64</th><th title = \"Float64\" style = \"text-align: left;\">Float64</th><th title = \"Float64\" style = \"text-align: left;\">Float64</th><th title = \"Float64\" style = \"text-align: left;\">Float64</th><th title = \"Float64\" style = \"text-align: left;\">Float64</th><th title = \"Float64\" style = \"text-align: left;\">Float64</th><th title = \"Float64\" style = \"text-align: left;\">Float64</th><th title = \"Float64\" style = \"text-align: left;\">Float64</th><th title = \"Float64\" style = \"text-align: left;\">Float64</th><th title = \"Float64\" style = \"text-align: left;\">Float64</th><th title = \"Float64\" style = \"text-align: left;\">Float64</th><th title = \"Float64\" style = \"text-align: left;\">Float64</th><th title = \"Float64\" style = \"text-align: left;\">Float64</th><th title = \"Float64\" style = \"text-align: left;\">Float64</th><th title = \"Float64\" style = \"text-align: left;\">Float64</th><th title = \"Float64\" style = \"text-align: left;\">Float64</th><th title = \"Float64\" style = \"text-align: left;\">Float64</th><th title = \"Float64\" style = \"text-align: left;\">Float64</th><th title = \"Float64\" style = \"text-align: left;\">Float64</th><th title = \"Float64\" style = \"text-align: left;\">Float64</th><th title = \"Float64\" style = \"text-align: left;\">Float64</th><th title = \"Float64\" style = \"text-align: left;\">Float64</th><th title = \"Float64\" style = \"text-align: left;\">Float64</th><th title = \"Float64\" style = \"text-align: left;\">Float64</th><th title = \"Float64\" style = \"text-align: left;\">Float64</th><th title = \"Float64\" style = \"text-align: left;\">Float64</th><th title = \"Float64\" style = \"text-align: left;\">Float64</th><th title = \"Float64\" style = \"text-align: left;\">Float64</th><th title = \"Float64\" style = \"text-align: left;\">Float64</th><th title = \"Float64\" style = \"text-align: left;\">Float64</th><th title = \"Float64\" style = \"text-align: left;\">Float64</th><th title = \"Float64\" style = \"text-align: left;\">Float64</th><th title = \"Float64\" style = \"text-align: left;\">Float64</th><th title = \"Float64\" style = \"text-align: left;\">Float64</th><th title = \"Float64\" style = \"text-align: left;\">Float64</th><th title = \"Float64\" style = \"text-align: left;\">Float64</th><th title = \"Float64\" style = \"text-align: left;\">Float64</th><th title = \"Float64\" style = \"text-align: left;\">Float64</th><th title = \"Float64\" style = \"text-align: left;\">Float64</th><th title = \"Float64\" style = \"text-align: left;\">Float64</th><th title = \"Float64\" style = \"text-align: left;\">Float64</th><th title = \"Float64\" style = \"text-align: left;\">Float64</th><th title = \"Float64\" style = \"text-align: left;\">Float64</th><th title = \"Float64\" style = \"text-align: left;\">Float64</th><th title = \"Float64\" style = \"text-align: left;\">Float64</th><th title = \"Float64\" style = \"text-align: left;\">Float64</th><th title = \"Float64\" style = \"text-align: left;\">Float64</th><th title = \"Float64\" style = \"text-align: left;\">Float64</th><th title = \"Float64\" style = \"text-align: left;\">Float64</th><th title = \"Float64\" style = \"text-align: left;\">Float64</th><th title = \"Float64\" style = \"text-align: left;\">Float64</th><th title = \"Float64\" style = \"text-align: left;\">Float64</th><th title = \"Float64\" style = \"text-align: right;\">&ctdot;</th></tr></thead><tbody><tr><td class = \"rowNumber\" style = \"font-weight: bold; text-align: right;\">1</td><td style = \"text-align: left;\">V1</td><td style = \"text-align: right;\">0.3</td><td style = \"text-align: right;\">1.18</td><td style = \"text-align: right;\">0.55</td><td style = \"text-align: right;\">1.14</td><td style = \"text-align: right;\">-0.265</td><td style = \"text-align: right;\">-0.07</td><td style = \"text-align: right;\">0.35</td><td style = \"text-align: right;\">-0.315</td><td style = \"text-align: right;\">-0.45</td><td style = \"text-align: right;\">-0.65498</td><td style = \"text-align: right;\">-0.65</td><td style = \"text-align: right;\">-0.94</td><td style = \"text-align: right;\">0.31</td><td style = \"text-align: right;\">0.0150098</td><td style = \"text-align: right;\">-0.08</td><td style = \"text-align: right;\">-2.37</td><td style = \"text-align: right;\">-0.54</td><td style = \"text-align: right;\">-0.615</td><td style = \"text-align: right;\">0.0</td><td style = \"text-align: right;\">-0.51999</td><td style = \"text-align: right;\">-0.37</td><td style = \"text-align: right;\">-0.29</td><td style = \"text-align: right;\">-0.17499</td><td style = \"text-align: right;\">0.07</td><td style = \"text-align: right;\">-0.04</td><td style = \"text-align: right;\">0.025</td><td style = \"text-align: right;\">-0.74</td><td style = \"text-align: right;\">-0.47999</td><td style = \"text-align: right;\">-0.45</td><td style = \"text-align: right;\">-0.93</td><td style = \"text-align: right;\">0.16</td><td style = \"text-align: right;\">-0.55</td><td style = \"text-align: right;\">-0.55001</td><td style = \"text-align: right;\">0.055</td><td style = \"text-align: right;\">-0.37</td><td style = \"text-align: right;\">-0.165</td><td style = \"text-align: right;\">0.21</td><td style = \"text-align: right;\">0.47</td><td style = \"text-align: right;\">0.0</td><td style = \"text-align: right;\">-2.60208e-18</td><td style = \"text-align: right;\">0.139981</td><td style = \"text-align: right;\">-0.215</td><td style = \"text-align: right;\">-0.065</td><td style = \"text-align: right;\">-0.225</td><td style = \"text-align: right;\">-0.35</td><td style = \"text-align: right;\">-1.335</td><td style = \"text-align: right;\">0.0</td><td style = \"text-align: right;\">0.2175</td><td style = \"text-align: right;\">0.25</td><td style = \"text-align: right;\">0.13</td><td style = \"text-align: right;\">-0.48</td><td style = \"text-align: right;\">-0.42</td><td style = \"text-align: right;\">-0.7</td><td style = \"text-align: right;\">-0.275</td><td style = \"text-align: right;\">-0.34499</td><td style = \"text-align: right;\">-0.16</td><td style = \"text-align: right;\">-0.35</td><td style = \"text-align: right;\">0.555</td><td style = \"text-align: right;\">0.29</td><td style = \"text-align: right;\">-0.27</td><td style = \"text-align: right;\">-0.339981</td><td style = \"text-align: right;\">0.305</td><td style = \"text-align: right;\">-0.005</td><td style = \"text-align: right;\">0.7</td><td style = \"text-align: right;\">0.45002</td><td style = \"text-align: right;\">0.21</td><td style = \"text-align: right;\">0.29</td><td style = \"text-align: right;\">0.0849902</td><td style = \"text-align: right;\">-0.45501</td><td style = \"text-align: right;\">0.12</td><td style = \"text-align: right;\">-0.66</td><td style = \"text-align: right;\">0.1</td><td style = \"text-align: right;\">0.1</td><td style = \"text-align: right;\">-0.099961</td><td style = \"text-align: right;\">-0.399981</td><td style = \"text-align: right;\">-0.195</td><td style = \"text-align: right;\">0.28</td><td style = \"text-align: right;\">2.36</td><td style = \"text-align: right;\">0.47</td><td style = \"text-align: right;\">0.18</td><td style = \"text-align: right;\">-0.64499</td><td style = \"text-align: right;\">1.3</td><td style = \"text-align: right;\">0.0</td><td style = \"text-align: right;\">-0.48</td><td style = \"text-align: right;\">0.595</td><td style = \"text-align: right;\">-0.0599805</td><td style = \"text-align: right;\">0.055</td><td style = \"text-align: right;\">0.0975</td><td style = \"text-align: right;\">0.4</td><td style = \"text-align: right;\">0.28</td><td style = \"text-align: right;\">0.76</td><td style = \"text-align: right;\">1.425</td><td style = \"text-align: right;\">-0.51</td><td style = \"text-align: right;\">0.94</td><td style = \"text-align: right;\">0.94</td><td style = \"text-align: right;\">0.68</td><td style = \"text-align: right;\">-0.21</td><td style = \"text-align: right;\">-1.19</td><td style = \"text-align: right;\">0.0</td><td style = \"text-align: right;\">&ctdot;</td></tr><tr><td class = \"rowNumber\" style = \"font-weight: bold; text-align: right;\">2</td><td style = \"text-align: left;\">V2</td><td style = \"text-align: right;\">0.679961</td><td style = \"text-align: right;\">1.28996</td><td style = \"text-align: right;\">0.169961</td><td style = \"text-align: right;\">0.379961</td><td style = \"text-align: right;\">0.464961</td><td style = \"text-align: right;\">0.579961</td><td style = \"text-align: right;\">0.699961</td><td style = \"text-align: right;\">0.724961</td><td style = \"text-align: right;\">-0.040039</td><td style = \"text-align: right;\">-0.285019</td><td style = \"text-align: right;\">-0.310039</td><td style = \"text-align: right;\">-0.720039</td><td style = \"text-align: right;\">-0.010039</td><td style = \"text-align: right;\">0.0</td><td style = \"text-align: right;\">-0.570039</td><td style = \"text-align: right;\">0.0</td><td style = \"text-align: right;\">-0.470039</td><td style = \"text-align: right;\">-0.355039</td><td style = \"text-align: right;\">0.00498051</td><td style = \"text-align: right;\">-0.480029</td><td style = \"text-align: right;\">-0.140039</td><td style = \"text-align: right;\">-0.090039</td><td style = \"text-align: right;\">0.00497074</td><td style = \"text-align: right;\">-0.220039</td><td style = \"text-align: right;\">-0.370039</td><td style = \"text-align: right;\">0.0</td><td style = \"text-align: right;\">-0.320039</td><td style = \"text-align: right;\">0.159971</td><td style = \"text-align: right;\">0.179961</td><td style = \"text-align: right;\">-0.320039</td><td style = \"text-align: right;\">-0.440039</td><td style = \"text-align: right;\">0.349961</td><td style = \"text-align: right;\">0.449951</td><td style = \"text-align: right;\">0.104961</td><td style = \"text-align: right;\">0.489961</td><td style = \"text-align: right;\">0.204961</td><td style = \"text-align: right;\">-0.050039</td><td style = \"text-align: right;\">-0.010039</td><td style = \"text-align: right;\">0.269961</td><td style = \"text-align: right;\">0.019961</td><td style = \"text-align: right;\">0.0499415</td><td style = \"text-align: right;\">-0.315039</td><td style = \"text-align: right;\">-0.325039</td><td style = \"text-align: right;\">-0.055039</td><td style = \"text-align: right;\">-0.280039</td><td style = \"text-align: right;\">-0.255039</td><td style = \"text-align: right;\">0.229961</td><td style = \"text-align: right;\">-0.342539</td><td style = \"text-align: right;\">-0.560039</td><td style = \"text-align: right;\">-0.900039</td><td style = \"text-align: right;\">-0.060039</td><td style = \"text-align: right;\">-0.200039</td><td style = \"text-align: right;\">-0.670039</td><td style = \"text-align: right;\">0.324961</td><td style = \"text-align: right;\">0.134971</td><td style = \"text-align: right;\">0.539961</td><td style = \"text-align: right;\">0.229961</td><td style = \"text-align: right;\">0.084961</td><td style = \"text-align: right;\">-0.080039</td><td style = \"text-align: right;\">0.949961</td><td style = \"text-align: right;\">0.93998</td><td style = \"text-align: right;\">0.194961</td><td style = \"text-align: right;\">1.90496</td><td style = \"text-align: right;\">0.499961</td><td style = \"text-align: right;\">0.349981</td><td style = \"text-align: right;\">0.899961</td><td style = \"text-align: right;\">1.21996</td><td style = \"text-align: right;\">0.0</td><td style = \"text-align: right;\">0.374951</td><td style = \"text-align: right;\">0.279961</td><td style = \"text-align: right;\">-3.89862e-5</td><td style = \"text-align: right;\">-0.090039</td><td style = \"text-align: right;\">-0.050039</td><td style = \"text-align: right;\">0.0</td><td style = \"text-align: right;\">0.90998</td><td style = \"text-align: right;\">0.274961</td><td style = \"text-align: right;\">-0.040039</td><td style = \"text-align: right;\">0.869961</td><td style = \"text-align: right;\">-0.100039</td><td style = \"text-align: right;\">1.40996</td><td style = \"text-align: right;\">1.00497</td><td style = \"text-align: right;\">0.779961</td><td style = \"text-align: right;\">-0.110039</td><td style = \"text-align: right;\">-0.350039</td><td style = \"text-align: right;\">-0.215039</td><td style = \"text-align: right;\">-0.0600195</td><td style = \"text-align: right;\">0.324961</td><td style = \"text-align: right;\">0.267461</td><td style = \"text-align: right;\">0.129961</td><td style = \"text-align: right;\">0.229961</td><td style = \"text-align: right;\">0.079961</td><td style = \"text-align: right;\">0.514961</td><td style = \"text-align: right;\">-0.420039</td><td style = \"text-align: right;\">-0.350039</td><td style = \"text-align: right;\">-0.790039</td><td style = \"text-align: right;\">-0.290039</td><td style = \"text-align: right;\">-0.010039</td><td style = \"text-align: right;\">-1.05004</td><td style = \"text-align: right;\">-2.04004</td><td style = \"text-align: right;\">&ctdot;</td></tr><tr><td class = \"rowNumber\" style = \"font-weight: bold; text-align: right;\">3</td><td style = \"text-align: left;\">V3</td><td style = \"text-align: right;\">0.94</td><td style = \"text-align: right;\">-0.04</td><td style = \"text-align: right;\">-0.17</td><td style = \"text-align: right;\">-0.04</td><td style = \"text-align: right;\">-0.605</td><td style = \"text-align: right;\">0.0</td><td style = \"text-align: right;\">0.09</td><td style = \"text-align: right;\">0.645</td><td style = \"text-align: right;\">0.43</td><td style = \"text-align: right;\">0.475019</td><td style = \"text-align: right;\">0.41</td><td style = \"text-align: right;\">0.13</td><td style = \"text-align: right;\">-0.35</td><td style = \"text-align: right;\">0.0</td><td style = \"text-align: right;\">0.0</td><td style = \"text-align: right;\">0.0</td><td style = \"text-align: right;\">-0.8</td><td style = \"text-align: right;\">0.0</td><td style = \"text-align: right;\">-0.00498051</td><td style = \"text-align: right;\">0.0</td><td style = \"text-align: right;\">-0.14</td><td style = \"text-align: right;\">0.05</td><td style = \"text-align: right;\">-0.0649903</td><td style = \"text-align: right;\">-0.06</td><td style = \"text-align: right;\">0.29</td><td style = \"text-align: right;\">0.715</td><td style = \"text-align: right;\">-0.07</td><td style = \"text-align: right;\">-0.0899903</td><td style = \"text-align: right;\">-0.31</td><td style = \"text-align: right;\">0.58</td><td style = \"text-align: right;\">-0.48</td><td style = \"text-align: right;\">0.23</td><td style = \"text-align: right;\">-0.0400098</td><td style = \"text-align: right;\">-0.935</td><td style = \"text-align: right;\">-0.75</td><td style = \"text-align: right;\">-0.385</td><td style = \"text-align: right;\">-0.34</td><td style = \"text-align: right;\">0.12</td><td style = \"text-align: right;\">-0.47</td><td style = \"text-align: right;\">0.17</td><td style = \"text-align: right;\">-0.86002</td><td style = \"text-align: right;\">-0.175</td><td style = \"text-align: right;\">-0.715</td><td style = \"text-align: right;\">-0.965</td><td style = \"text-align: right;\">-0.54</td><td style = \"text-align: right;\">-0.005</td><td style = \"text-align: right;\">-0.06</td><td style = \"text-align: right;\">-0.7225</td><td style = \"text-align: right;\">-0.92</td><td style = \"text-align: right;\">0.47</td><td style = \"text-align: right;\">0.7</td><td style = \"text-align: right;\">0.67</td><td style = \"text-align: right;\">-0.9</td><td style = \"text-align: right;\">-0.265</td><td style = \"text-align: right;\">-0.42499</td><td style = \"text-align: right;\">-0.24</td><td style = \"text-align: right;\">-0.03</td><td style = \"text-align: right;\">0.215</td><td style = \"text-align: right;\">0.29</td><td style = \"text-align: right;\">0.07</td><td style = \"text-align: right;\">0.12002</td><td style = \"text-align: right;\">0.515</td><td style = \"text-align: right;\">0.545</td><td style = \"text-align: right;\">-0.03</td><td style = \"text-align: right;\">0.19002</td><td style = \"text-align: right;\">-0.07</td><td style = \"text-align: right;\">0.4</td><td style = \"text-align: right;\">0.0</td><td style = \"text-align: right;\">-0.0950098</td><td style = \"text-align: right;\">0.27</td><td style = \"text-align: right;\">0.08</td><td style = \"text-align: right;\">0.0</td><td style = \"text-align: right;\">0.0</td><td style = \"text-align: right;\">-0.319961</td><td style = \"text-align: right;\">0.0900195</td><td style = \"text-align: right;\">0.105</td><td style = \"text-align: right;\">-0.28</td><td style = \"text-align: right;\">1.99</td><td style = \"text-align: right;\">0.0</td><td style = \"text-align: right;\">0.87</td><td style = \"text-align: right;\">0.0</td><td style = \"text-align: right;\">0.74</td><td style = \"text-align: right;\">0.0</td><td style = \"text-align: right;\">-1.2</td><td style = \"text-align: right;\">-0.335</td><td style = \"text-align: right;\">0.630019</td><td style = \"text-align: right;\">0.345</td><td style = \"text-align: right;\">0.6975</td><td style = \"text-align: right;\">0.27</td><td style = \"text-align: right;\">-0.02</td><td style = \"text-align: right;\">0.0</td><td style = \"text-align: right;\">-0.115</td><td style = \"text-align: right;\">-0.44</td><td style = \"text-align: right;\">0.54</td><td style = \"text-align: right;\">0.49</td><td style = \"text-align: right;\">0.64</td><td style = \"text-align: right;\">0.66</td><td style = \"text-align: right;\">0.0</td><td style = \"text-align: right;\">0.0</td><td style = \"text-align: right;\">&ctdot;</td></tr><tr><td class = \"rowNumber\" style = \"font-weight: bold; text-align: right;\">4</td><td style = \"text-align: left;\">V4</td><td style = \"text-align: right;\">0.28</td><td style = \"text-align: right;\">-0.31</td><td style = \"text-align: right;\">0.68</td><td style = \"text-align: right;\">-0.81</td><td style = \"text-align: right;\">0.625</td><td style = \"text-align: right;\">-1.38778e-17</td><td style = \"text-align: right;\">0.17</td><td style = \"text-align: right;\">0.245</td><td style = \"text-align: right;\">0.02</td><td style = \"text-align: right;\">0.0950195</td><td style = \"text-align: right;\">-0.01</td><td style = \"text-align: right;\">-0.12</td><td style = \"text-align: right;\">-0.21</td><td style = \"text-align: right;\">0.0</td><td style = \"text-align: right;\">0.61</td><td style = \"text-align: right;\">-1.02</td><td style = \"text-align: right;\">-0.47</td><td style = \"text-align: right;\">0.0</td><td style = \"text-align: right;\">-0.76498</td><td style = \"text-align: right;\">0.0</td><td style = \"text-align: right;\">-0.31</td><td style = \"text-align: right;\">-0.62</td><td style = \"text-align: right;\">-0.28499</td><td style = \"text-align: right;\">-0.54</td><td style = \"text-align: right;\">-0.52</td><td style = \"text-align: right;\">-0.135</td><td style = \"text-align: right;\">-0.89</td><td style = \"text-align: right;\">-0.26999</td><td style = \"text-align: right;\">-0.84</td><td style = \"text-align: right;\">-0.23</td><td style = \"text-align: right;\">0.32</td><td style = \"text-align: right;\">0.0</td><td style = \"text-align: right;\">0.10999</td><td style = \"text-align: right;\">0.455</td><td style = \"text-align: right;\">-0.34</td><td style = \"text-align: right;\">-0.895</td><td style = \"text-align: right;\">-1.08</td><td style = \"text-align: right;\">-0.43</td><td style = \"text-align: right;\">-0.03</td><td style = \"text-align: right;\">-0.13</td><td style = \"text-align: right;\">-0.540019</td><td style = \"text-align: right;\">-1.225</td><td style = \"text-align: right;\">-1.265</td><td style = \"text-align: right;\">-1.415</td><td style = \"text-align: right;\">-0.27</td><td style = \"text-align: right;\">-0.705</td><td style = \"text-align: right;\">-0.22</td><td style = \"text-align: right;\">-0.5025</td><td style = \"text-align: right;\">-0.04</td><td style = \"text-align: right;\">-0.15</td><td style = \"text-align: right;\">-0.16</td><td style = \"text-align: right;\">-0.29</td><td style = \"text-align: right;\">-0.18</td><td style = \"text-align: right;\">-0.665</td><td style = \"text-align: right;\">-0.77499</td><td style = \"text-align: right;\">0.21</td><td style = \"text-align: right;\">-0.77</td><td style = \"text-align: right;\">-0.605</td><td style = \"text-align: right;\">-0.19</td><td style = \"text-align: right;\">0.17</td><td style = \"text-align: right;\">-0.20998</td><td style = \"text-align: right;\">-0.615</td><td style = \"text-align: right;\">0.165</td><td style = \"text-align: right;\">-0.19</td><td style = \"text-align: right;\">0.0</td><td style = \"text-align: right;\">-0.06</td><td style = \"text-align: right;\">-0.01</td><td style = \"text-align: right;\">-0.50501</td><td style = \"text-align: right;\">-0.77501</td><td style = \"text-align: right;\">-0.29</td><td style = \"text-align: right;\">-0.71</td><td style = \"text-align: right;\">-0.45</td><td style = \"text-align: right;\">-0.61</td><td style = \"text-align: right;\">-0.809961</td><td style = \"text-align: right;\">-1.53998</td><td style = \"text-align: right;\">-1.035</td><td style = \"text-align: right;\">0.0</td><td style = \"text-align: right;\">3.6</td><td style = \"text-align: right;\">0.0</td><td style = \"text-align: right;\">0.85</td><td style = \"text-align: right;\">-0.19499</td><td style = \"text-align: right;\">-1.21</td><td style = \"text-align: right;\">1.02</td><td style = \"text-align: right;\">0.66</td><td style = \"text-align: right;\">0.775</td><td style = \"text-align: right;\">-0.279981</td><td style = \"text-align: right;\">-0.245</td><td style = \"text-align: right;\">-0.5025</td><td style = \"text-align: right;\">-0.8</td><td style = \"text-align: right;\">-0.75</td><td style = \"text-align: right;\">0.06</td><td style = \"text-align: right;\">-1.075</td><td style = \"text-align: right;\">0.54</td><td style = \"text-align: right;\">0.16</td><td style = \"text-align: right;\">0.0</td><td style = \"text-align: right;\">0.23</td><td style = \"text-align: right;\">-0.74</td><td style = \"text-align: right;\">0.0</td><td style = \"text-align: right;\">-2.5</td><td style = \"text-align: right;\">&ctdot;</td></tr><tr><td class = \"rowNumber\" style = \"font-weight: bold; text-align: right;\">5</td><td style = \"text-align: left;\">V5</td><td style = \"text-align: right;\">0.485</td><td style = \"text-align: right;\">-0.465</td><td style = \"text-align: right;\">0.395</td><td style = \"text-align: right;\">0.905</td><td style = \"text-align: right;\">0.2</td><td style = \"text-align: right;\">-0.005</td><td style = \"text-align: right;\">0.085</td><td style = \"text-align: right;\">0.11</td><td style = \"text-align: right;\">0.235</td><td style = \"text-align: right;\">1.49002</td><td style = \"text-align: right;\">0.685</td><td style = \"text-align: right;\">0.605</td><td style = \"text-align: right;\">0.355</td><td style = \"text-align: right;\">1.22001</td><td style = \"text-align: right;\">2.425</td><td style = \"text-align: right;\">0.0</td><td style = \"text-align: right;\">-0.315</td><td style = \"text-align: right;\">0.31</td><td style = \"text-align: right;\">-0.519981</td><td style = \"text-align: right;\">-0.0749902</td><td style = \"text-align: right;\">-0.865</td><td style = \"text-align: right;\">-0.455</td><td style = \"text-align: right;\">-0.49999</td><td style = \"text-align: right;\">-0.245</td><td style = \"text-align: right;\">-0.235</td><td style = \"text-align: right;\">-0.33</td><td style = \"text-align: right;\">0.0</td><td style = \"text-align: right;\">0.0150097</td><td style = \"text-align: right;\">-0.105</td><td style = \"text-align: right;\">-0.225</td><td style = \"text-align: right;\">-0.105</td><td style = \"text-align: right;\">-0.275</td><td style = \"text-align: right;\">-0.57501</td><td style = \"text-align: right;\">-0.45</td><td style = \"text-align: right;\">-0.465</td><td style = \"text-align: right;\">-0.39</td><td style = \"text-align: right;\">-0.995</td><td style = \"text-align: right;\">-0.355</td><td style = \"text-align: right;\">0.0</td><td style = \"text-align: right;\">-0.475</td><td style = \"text-align: right;\">-0.38502</td><td style = \"text-align: right;\">-0.77</td><td style = \"text-align: right;\">-0.96</td><td style = \"text-align: right;\">-0.97</td><td style = \"text-align: right;\">-0.895</td><td style = \"text-align: right;\">-0.63</td><td style = \"text-align: right;\">-0.535</td><td style = \"text-align: right;\">-0.8875</td><td style = \"text-align: right;\">-0.945</td><td style = \"text-align: right;\">-0.535</td><td style = \"text-align: right;\">0.005</td><td style = \"text-align: right;\">0.185</td><td style = \"text-align: right;\">-0.105</td><td style = \"text-align: right;\">-0.34</td><td style = \"text-align: right;\">-0.19999</td><td style = \"text-align: right;\">-0.665</td><td style = \"text-align: right;\">-0.225</td><td style = \"text-align: right;\">-0.41</td><td style = \"text-align: right;\">-0.215</td><td style = \"text-align: right;\">-0.175</td><td style = \"text-align: right;\">-0.784981</td><td style = \"text-align: right;\">-0.33</td><td style = \"text-align: right;\">-0.39</td><td style = \"text-align: right;\">-0.075</td><td style = \"text-align: right;\">-0.20498</td><td style = \"text-align: right;\">-0.325</td><td style = \"text-align: right;\">-0.485</td><td style = \"text-align: right;\">-0.35001</td><td style = \"text-align: right;\">-0.23001</td><td style = \"text-align: right;\">-0.155</td><td style = \"text-align: right;\">-0.575</td><td style = \"text-align: right;\">-0.615</td><td style = \"text-align: right;\">-0.695</td><td style = \"text-align: right;\">-0.634961</td><td style = \"text-align: right;\">-1.09498</td><td style = \"text-align: right;\">-1.0</td><td style = \"text-align: right;\">-0.335</td><td style = \"text-align: right;\">-1.385</td><td style = \"text-align: right;\">0.345</td><td style = \"text-align: right;\">0.815</td><td style = \"text-align: right;\">0.56001</td><td style = \"text-align: right;\">-0.155</td><td style = \"text-align: right;\">0.0</td><td style = \"text-align: right;\">-1.195</td><td style = \"text-align: right;\">-0.16</td><td style = \"text-align: right;\">-0.10498</td><td style = \"text-align: right;\">0.0</td><td style = \"text-align: right;\">-0.0075</td><td style = \"text-align: right;\">-0.945</td><td style = \"text-align: right;\">-0.965</td><td style = \"text-align: right;\">-0.225</td><td style = \"text-align: right;\">-0.46</td><td style = \"text-align: right;\">0.045</td><td style = \"text-align: right;\">0.795</td><td style = \"text-align: right;\">1.305</td><td style = \"text-align: right;\">0.705</td><td style = \"text-align: right;\">0.055</td><td style = \"text-align: right;\">0.715</td><td style = \"text-align: right;\">0.925</td><td style = \"text-align: right;\">&ctdot;</td></tr></tbody></table></div>"
      ],
      "text/latex": [
       "\\begin{tabular}{r|ccccccccc}\n",
       "\t& Column1 & 1 & 2 & 3 & 4 & 5 & 6 & 7 & \\\\\n",
       "\t\\hline\n",
       "\t& String3 & Float64 & Float64 & Float64 & Float64 & Float64 & Float64 & Float64 & \\\\\n",
       "\t\\hline\n",
       "\t1 & V1 & 0.3 & 1.18 & 0.55 & 1.14 & -0.265 & -0.07 & 0.35 & $\\dots$ \\\\\n",
       "\t2 & V2 & 0.679961 & 1.28996 & 0.169961 & 0.379961 & 0.464961 & 0.579961 & 0.699961 & $\\dots$ \\\\\n",
       "\t3 & V3 & 0.94 & -0.04 & -0.17 & -0.04 & -0.605 & 0.0 & 0.09 & $\\dots$ \\\\\n",
       "\t4 & V4 & 0.28 & -0.31 & 0.68 & -0.81 & 0.625 & -1.38778e-17 & 0.17 & $\\dots$ \\\\\n",
       "\t5 & V5 & 0.485 & -0.465 & 0.395 & 0.905 & 0.2 & -0.005 & 0.085 & $\\dots$ \\\\\n",
       "\\end{tabular}\n"
      ],
      "text/plain": [
       "\u001b[1m5×6831 DataFrame\u001b[0m\n",
       "\u001b[1m Row \u001b[0m│\u001b[1m Column1 \u001b[0m\u001b[1m 1        \u001b[0m\u001b[1m 2        \u001b[0m\u001b[1m 3         \u001b[0m\u001b[1m 4         \u001b[0m\u001b[1m 5         \u001b[0m\u001b[1m 6        \u001b[0m ⋯\n",
       "     │\u001b[90m String3 \u001b[0m\u001b[90m Float64  \u001b[0m\u001b[90m Float64  \u001b[0m\u001b[90m Float64   \u001b[0m\u001b[90m Float64   \u001b[0m\u001b[90m Float64   \u001b[0m\u001b[90m Float64  \u001b[0m ⋯\n",
       "─────┼──────────────────────────────────────────────────────────────────────────\n",
       "   1 │ V1       0.3        1.18      0.55       1.14      -0.265     -0.07     ⋯\n",
       "   2 │ V2       0.679961   1.28996   0.169961   0.379961   0.464961   0.579961\n",
       "   3 │ V3       0.94      -0.04     -0.17      -0.04      -0.605      0.0\n",
       "   4 │ V4       0.28      -0.31      0.68      -0.81       0.625     -1.38778e\n",
       "   5 │ V5       0.485     -0.465     0.395      0.905      0.2       -0.005    ⋯\n",
       "\u001b[36m                                                            6825 columns omitted\u001b[0m"
      ]
     },
     "execution_count": 17,
     "metadata": {},
     "output_type": "execute_result"
    }
   ],
   "source": [
    "# There is one file for the features and another file for the classes/types\n",
    "csv_reader_lab3_x = CSV.File(\"./Data/NCI60_X.csv\")\n",
    "println(typeof(csv_reader_lab3_x));\n",
    "df3_temp = DataFrame(csv_reader_lab3_x)\n",
    "first(df3_temp,5)"
   ]
  },
  {
   "cell_type": "code",
   "execution_count": 18,
   "id": "987c863a",
   "metadata": {},
   "outputs": [
    {
     "data": {
      "text/html": [
       "<div><div style = \"float: left;\"><span>5×6831 DataFrame</span></div><div style = \"float: right;\"><span style = \"font-style: italic;\">6731 columns omitted</span></div><div style = \"clear: both;\"></div></div><div class = \"data-frame\" style = \"overflow-x: scroll;\"><table class = \"data-frame\" style = \"margin-bottom: 6px;\"><thead><tr class = \"header\"><th class = \"rowNumber\" style = \"font-weight: bold; text-align: right;\">Row</th><th style = \"text-align: left;\">Column1</th><th style = \"text-align: left;\">x1</th><th style = \"text-align: left;\">x2</th><th style = \"text-align: left;\">x3</th><th style = \"text-align: left;\">x4</th><th style = \"text-align: left;\">x5</th><th style = \"text-align: left;\">x6</th><th style = \"text-align: left;\">x7</th><th style = \"text-align: left;\">x8</th><th style = \"text-align: left;\">x9</th><th style = \"text-align: left;\">x10</th><th style = \"text-align: left;\">x11</th><th style = \"text-align: left;\">x12</th><th style = \"text-align: left;\">x13</th><th style = \"text-align: left;\">x14</th><th style = \"text-align: left;\">x15</th><th style = \"text-align: left;\">x16</th><th style = \"text-align: left;\">x17</th><th style = \"text-align: left;\">x18</th><th style = \"text-align: left;\">x19</th><th style = \"text-align: left;\">x20</th><th style = \"text-align: left;\">x21</th><th style = \"text-align: left;\">x22</th><th style = \"text-align: left;\">x23</th><th style = \"text-align: left;\">x24</th><th style = \"text-align: left;\">x25</th><th style = \"text-align: left;\">x26</th><th style = \"text-align: left;\">x27</th><th style = \"text-align: left;\">x28</th><th style = \"text-align: left;\">x29</th><th style = \"text-align: left;\">x30</th><th style = \"text-align: left;\">x31</th><th style = \"text-align: left;\">x32</th><th style = \"text-align: left;\">x33</th><th style = \"text-align: left;\">x34</th><th style = \"text-align: left;\">x35</th><th style = \"text-align: left;\">x36</th><th style = \"text-align: left;\">x37</th><th style = \"text-align: left;\">x38</th><th style = \"text-align: left;\">x39</th><th style = \"text-align: left;\">x40</th><th style = \"text-align: left;\">x41</th><th style = \"text-align: left;\">x42</th><th style = \"text-align: left;\">x43</th><th style = \"text-align: left;\">x44</th><th style = \"text-align: left;\">x45</th><th style = \"text-align: left;\">x46</th><th style = \"text-align: left;\">x47</th><th style = \"text-align: left;\">x48</th><th style = \"text-align: left;\">x49</th><th style = \"text-align: left;\">x50</th><th style = \"text-align: left;\">x51</th><th style = \"text-align: left;\">x52</th><th style = \"text-align: left;\">x53</th><th style = \"text-align: left;\">x54</th><th style = \"text-align: left;\">x55</th><th style = \"text-align: left;\">x56</th><th style = \"text-align: left;\">x57</th><th style = \"text-align: left;\">x58</th><th style = \"text-align: left;\">x59</th><th style = \"text-align: left;\">x60</th><th style = \"text-align: left;\">x61</th><th style = \"text-align: left;\">x62</th><th style = \"text-align: left;\">x63</th><th style = \"text-align: left;\">x64</th><th style = \"text-align: left;\">x65</th><th style = \"text-align: left;\">x66</th><th style = \"text-align: left;\">x67</th><th style = \"text-align: left;\">x68</th><th style = \"text-align: left;\">x69</th><th style = \"text-align: left;\">x70</th><th style = \"text-align: left;\">x71</th><th style = \"text-align: left;\">x72</th><th style = \"text-align: left;\">x73</th><th style = \"text-align: left;\">x74</th><th style = \"text-align: left;\">x75</th><th style = \"text-align: left;\">x76</th><th style = \"text-align: left;\">x77</th><th style = \"text-align: left;\">x78</th><th style = \"text-align: left;\">x79</th><th style = \"text-align: left;\">x80</th><th style = \"text-align: left;\">x81</th><th style = \"text-align: left;\">x82</th><th style = \"text-align: left;\">x83</th><th style = \"text-align: left;\">x84</th><th style = \"text-align: left;\">x85</th><th style = \"text-align: left;\">x86</th><th style = \"text-align: left;\">x87</th><th style = \"text-align: left;\">x88</th><th style = \"text-align: left;\">x89</th><th style = \"text-align: left;\">x90</th><th style = \"text-align: left;\">x91</th><th style = \"text-align: left;\">x92</th><th style = \"text-align: left;\">x93</th><th style = \"text-align: left;\">x94</th><th style = \"text-align: left;\">x95</th><th style = \"text-align: left;\">x96</th><th style = \"text-align: left;\">x97</th><th style = \"text-align: left;\">x98</th><th style = \"text-align: left;\">x99</th><th style = \"text-align: right;\">&ctdot;</th></tr><tr class = \"subheader headerLastRow\"><th class = \"rowNumber\" style = \"font-weight: bold; text-align: right;\"></th><th title = \"String3\" style = \"text-align: left;\">String3</th><th title = \"Float64\" style = \"text-align: left;\">Float64</th><th title = \"Float64\" style = \"text-align: left;\">Float64</th><th title = \"Float64\" style = \"text-align: left;\">Float64</th><th title = \"Float64\" style = \"text-align: left;\">Float64</th><th title = \"Float64\" style = \"text-align: left;\">Float64</th><th title = \"Float64\" style = \"text-align: left;\">Float64</th><th title = \"Float64\" style = \"text-align: left;\">Float64</th><th title = \"Float64\" style = \"text-align: left;\">Float64</th><th title = \"Float64\" style = \"text-align: left;\">Float64</th><th title = \"Float64\" style = \"text-align: left;\">Float64</th><th title = \"Float64\" style = \"text-align: left;\">Float64</th><th title = \"Float64\" style = \"text-align: left;\">Float64</th><th title = \"Float64\" style = \"text-align: left;\">Float64</th><th title = \"Float64\" style = \"text-align: left;\">Float64</th><th title = \"Float64\" style = \"text-align: left;\">Float64</th><th title = \"Float64\" style = \"text-align: left;\">Float64</th><th title = \"Float64\" style = \"text-align: left;\">Float64</th><th title = \"Float64\" style = \"text-align: left;\">Float64</th><th title = \"Float64\" style = \"text-align: left;\">Float64</th><th title = \"Float64\" style = \"text-align: left;\">Float64</th><th title = \"Float64\" style = \"text-align: left;\">Float64</th><th title = \"Float64\" style = \"text-align: left;\">Float64</th><th title = \"Float64\" style = \"text-align: left;\">Float64</th><th title = \"Float64\" style = \"text-align: left;\">Float64</th><th title = \"Float64\" style = \"text-align: left;\">Float64</th><th title = \"Float64\" style = \"text-align: left;\">Float64</th><th title = \"Float64\" style = \"text-align: left;\">Float64</th><th title = \"Float64\" style = \"text-align: left;\">Float64</th><th title = \"Float64\" style = \"text-align: left;\">Float64</th><th title = \"Float64\" style = \"text-align: left;\">Float64</th><th title = \"Float64\" style = \"text-align: left;\">Float64</th><th title = \"Float64\" style = \"text-align: left;\">Float64</th><th title = \"Float64\" style = \"text-align: left;\">Float64</th><th title = \"Float64\" style = \"text-align: left;\">Float64</th><th title = \"Float64\" style = \"text-align: left;\">Float64</th><th title = \"Float64\" style = \"text-align: left;\">Float64</th><th title = \"Float64\" style = \"text-align: left;\">Float64</th><th title = \"Float64\" style = \"text-align: left;\">Float64</th><th title = \"Float64\" style = \"text-align: left;\">Float64</th><th title = \"Float64\" style = \"text-align: left;\">Float64</th><th title = \"Float64\" style = \"text-align: left;\">Float64</th><th title = \"Float64\" style = \"text-align: left;\">Float64</th><th title = \"Float64\" style = \"text-align: left;\">Float64</th><th title = \"Float64\" style = \"text-align: left;\">Float64</th><th title = \"Float64\" style = \"text-align: left;\">Float64</th><th title = \"Float64\" style = \"text-align: left;\">Float64</th><th title = \"Float64\" style = \"text-align: left;\">Float64</th><th title = \"Float64\" style = \"text-align: left;\">Float64</th><th title = \"Float64\" style = \"text-align: left;\">Float64</th><th title = \"Float64\" style = \"text-align: left;\">Float64</th><th title = \"Float64\" style = \"text-align: left;\">Float64</th><th title = \"Float64\" style = \"text-align: left;\">Float64</th><th title = \"Float64\" style = \"text-align: left;\">Float64</th><th title = \"Float64\" style = \"text-align: left;\">Float64</th><th title = \"Float64\" style = \"text-align: left;\">Float64</th><th title = \"Float64\" style = \"text-align: left;\">Float64</th><th title = \"Float64\" style = \"text-align: left;\">Float64</th><th title = \"Float64\" style = \"text-align: left;\">Float64</th><th title = \"Float64\" style = \"text-align: left;\">Float64</th><th title = \"Float64\" style = \"text-align: left;\">Float64</th><th title = \"Float64\" style = \"text-align: left;\">Float64</th><th title = \"Float64\" style = \"text-align: left;\">Float64</th><th title = \"Float64\" style = \"text-align: left;\">Float64</th><th title = \"Float64\" style = \"text-align: left;\">Float64</th><th title = \"Float64\" style = \"text-align: left;\">Float64</th><th title = \"Float64\" style = \"text-align: left;\">Float64</th><th title = \"Float64\" style = \"text-align: left;\">Float64</th><th title = \"Float64\" style = \"text-align: left;\">Float64</th><th title = \"Float64\" style = \"text-align: left;\">Float64</th><th title = \"Float64\" style = \"text-align: left;\">Float64</th><th title = \"Float64\" style = \"text-align: left;\">Float64</th><th title = \"Float64\" style = \"text-align: left;\">Float64</th><th title = \"Float64\" style = \"text-align: left;\">Float64</th><th title = \"Float64\" style = \"text-align: left;\">Float64</th><th title = \"Float64\" style = \"text-align: left;\">Float64</th><th title = \"Float64\" style = \"text-align: left;\">Float64</th><th title = \"Float64\" style = \"text-align: left;\">Float64</th><th title = \"Float64\" style = \"text-align: left;\">Float64</th><th title = \"Float64\" style = \"text-align: left;\">Float64</th><th title = \"Float64\" style = \"text-align: left;\">Float64</th><th title = \"Float64\" style = \"text-align: left;\">Float64</th><th title = \"Float64\" style = \"text-align: left;\">Float64</th><th title = \"Float64\" style = \"text-align: left;\">Float64</th><th title = \"Float64\" style = \"text-align: left;\">Float64</th><th title = \"Float64\" style = \"text-align: left;\">Float64</th><th title = \"Float64\" style = \"text-align: left;\">Float64</th><th title = \"Float64\" style = \"text-align: left;\">Float64</th><th title = \"Float64\" style = \"text-align: left;\">Float64</th><th title = \"Float64\" style = \"text-align: left;\">Float64</th><th title = \"Float64\" style = \"text-align: left;\">Float64</th><th title = \"Float64\" style = \"text-align: left;\">Float64</th><th title = \"Float64\" style = \"text-align: left;\">Float64</th><th title = \"Float64\" style = \"text-align: left;\">Float64</th><th title = \"Float64\" style = \"text-align: left;\">Float64</th><th title = \"Float64\" style = \"text-align: left;\">Float64</th><th title = \"Float64\" style = \"text-align: left;\">Float64</th><th title = \"Float64\" style = \"text-align: left;\">Float64</th><th title = \"Float64\" style = \"text-align: left;\">Float64</th><th title = \"Float64\" style = \"text-align: left;\">Float64</th><th title = \"Float64\" style = \"text-align: right;\">&ctdot;</th></tr></thead><tbody><tr><td class = \"rowNumber\" style = \"font-weight: bold; text-align: right;\">1</td><td style = \"text-align: left;\">V1</td><td style = \"text-align: right;\">0.722955</td><td style = \"text-align: right;\">1.59461</td><td style = \"text-align: right;\">1.31529</td><td style = \"text-align: right;\">1.34506</td><td style = \"text-align: right;\">-0.600101</td><td style = \"text-align: right;\">-0.218923</td><td style = \"text-align: right;\">0.891093</td><td style = \"text-align: right;\">-0.861928</td><td style = \"text-align: right;\">-1.05031</td><td style = \"text-align: right;\">-1.05087</td><td style = \"text-align: right;\">-1.12309</td><td style = \"text-align: right;\">-1.40447</td><td style = \"text-align: right;\">0.8138</td><td style = \"text-align: right;\">0.0484224</td><td style = \"text-align: right;\">-0.318195</td><td style = \"text-align: right;\">-1.20896</td><td style = \"text-align: right;\">-0.779486</td><td style = \"text-align: right;\">-1.0159</td><td style = \"text-align: right;\">-0.0430071</td><td style = \"text-align: right;\">-1.1453</td><td style = \"text-align: right;\">-0.887642</td><td style = \"text-align: right;\">-1.01535</td><td style = \"text-align: right;\">-0.628895</td><td style = \"text-align: right;\">0.252355</td><td style = \"text-align: right;\">-0.143908</td><td style = \"text-align: right;\">0.00796696</td><td style = \"text-align: right;\">-1.1453</td><td style = \"text-align: right;\">-0.602472</td><td style = \"text-align: right;\">-1.08536</td><td style = \"text-align: right;\">-1.65508</td><td style = \"text-align: right;\">0.114376</td><td style = \"text-align: right;\">-1.39545</td><td style = \"text-align: right;\">-0.942353</td><td style = \"text-align: right;\">0.00615987</td><td style = \"text-align: right;\">-0.5445</td><td style = \"text-align: right;\">-0.310102</td><td style = \"text-align: right;\">0.599185</td><td style = \"text-align: right;\">1.241</td><td style = \"text-align: right;\">0.196218</td><td style = \"text-align: right;\">-0.00553447</td><td style = \"text-align: right;\">0.394593</td><td style = \"text-align: right;\">-0.490895</td><td style = \"text-align: right;\">-0.174963</td><td style = \"text-align: right;\">-0.45011</td><td style = \"text-align: right;\">-0.736363</td><td style = \"text-align: right;\">-2.86076</td><td style = \"text-align: right;\">-0.00730074</td><td style = \"text-align: right;\">0.226403</td><td style = \"text-align: right;\">0.359428</td><td style = \"text-align: right;\">0.27091</td><td style = \"text-align: right;\">-0.771044</td><td style = \"text-align: right;\">-0.771035</td><td style = \"text-align: right;\">-1.25273</td><td style = \"text-align: right;\">-0.78352</td><td style = \"text-align: right;\">-0.747262</td><td style = \"text-align: right;\">-0.406822</td><td style = \"text-align: right;\">-0.792269</td><td style = \"text-align: right;\">1.50034</td><td style = \"text-align: right;\">0.600187</td><td style = \"text-align: right;\">-0.384149</td><td style = \"text-align: right;\">-0.616774</td><td style = \"text-align: right;\">1.05472</td><td style = \"text-align: right;\">0.0416638</td><td style = \"text-align: right;\">1.70583</td><td style = \"text-align: right;\">1.19446</td><td style = \"text-align: right;\">0.415721</td><td style = \"text-align: right;\">0.462051</td><td style = \"text-align: right;\">0.311206</td><td style = \"text-align: right;\">-0.59266</td><td style = \"text-align: right;\">0.345646</td><td style = \"text-align: right;\">-1.40903</td><td style = \"text-align: right;\">0.286575</td><td style = \"text-align: right;\">0.275563</td><td style = \"text-align: right;\">-0.15391</td><td style = \"text-align: right;\">-0.706792</td><td style = \"text-align: right;\">-0.360738</td><td style = \"text-align: right;\">0.706164</td><td style = \"text-align: right;\">1.23248</td><td style = \"text-align: right;\">1.88179</td><td style = \"text-align: right;\">0.218978</td><td style = \"text-align: right;\">-0.846614</td><td style = \"text-align: right;\">1.17377</td><td style = \"text-align: right;\">-0.0711048</td><td style = \"text-align: right;\">-0.422798</td><td style = \"text-align: right;\">0.633741</td><td style = \"text-align: right;\">-0.0772158</td><td style = \"text-align: right;\">0.136081</td><td style = \"text-align: right;\">0.363253</td><td style = \"text-align: right;\">0.656434</td><td style = \"text-align: right;\">0.27288</td><td style = \"text-align: right;\">1.11122</td><td style = \"text-align: right;\">1.15597</td><td style = \"text-align: right;\">-0.597162</td><td style = \"text-align: right;\">1.01236</td><td style = \"text-align: right;\">0.804738</td><td style = \"text-align: right;\">1.17723</td><td style = \"text-align: right;\">-0.543646</td><td style = \"text-align: right;\">-1.67655</td><td style = \"text-align: right;\">-0.0164562</td><td style = \"text-align: right;\">&ctdot;</td></tr><tr><td class = \"rowNumber\" style = \"font-weight: bold; text-align: right;\">2</td><td style = \"text-align: left;\">V2</td><td style = \"text-align: right;\">1.5839</td><td style = \"text-align: right;\">1.73979</td><td style = \"text-align: right;\">0.438221</td><td style = \"text-align: right;\">0.648988</td><td style = \"text-align: right;\">0.904746</td><td style = \"text-align: right;\">1.63582</td><td style = \"text-align: right;\">1.83519</td><td style = \"text-align: right;\">2.20916</td><td style = \"text-align: right;\">-0.0951082</td><td style = \"text-align: right;\">-0.474228</td><td style = \"text-align: right;\">-0.611667</td><td style = \"text-align: right;\">-1.10791</td><td style = \"text-align: right;\">0.105402</td><td style = \"text-align: right;\">0.0187043</td><td style = \"text-align: right;\">-0.81052</td><td style = \"text-align: right;\">-0.345389</td><td style = \"text-align: right;\">-0.71724</td><td style = \"text-align: right;\">-0.534425</td><td style = \"text-align: right;\">-0.0338137</td><td style = \"text-align: right;\">-1.04991</td><td style = \"text-align: right;\">-0.342176</td><td style = \"text-align: right;\">-0.3724</td><td style = \"text-align: right;\">-0.0351789</td><td style = \"text-align: right;\">-0.812254</td><td style = \"text-align: right;\">-0.919353</td><td style = \"text-align: right;\">-0.0486821</td><td style = \"text-align: right;\">-0.514117</td><td style = \"text-align: right;\">0.291903</td><td style = \"text-align: right;\">0.315829</td><td style = \"text-align: right;\">-0.448991</td><td style = \"text-align: right;\">-0.831215</td><td style = \"text-align: right;\">0.72134</td><td style = \"text-align: right;\">0.814882</td><td style = \"text-align: right;\">0.0790931</td><td style = \"text-align: right;\">0.757325</td><td style = \"text-align: right;\">0.334541</td><td style = \"text-align: right;\">0.0170543</td><td style = \"text-align: right;\">-0.128488</td><td style = \"text-align: right;\">0.799981</td><td style = \"text-align: right;\">0.0316891</td><td style = \"text-align: right;\">0.181488</td><td style = \"text-align: right;\">-0.692367</td><td style = \"text-align: right;\">-0.577153</td><td style = \"text-align: right;\">-0.166607</td><td style = \"text-align: right;\">-0.583508</td><td style = \"text-align: right;\">-0.454569</td><td style = \"text-align: right;\">0.606897</td><td style = \"text-align: right;\">-0.634127</td><td style = \"text-align: right;\">-1.04054</td><td style = \"text-align: right;\">-1.24</td><td style = \"text-align: right;\">-0.162416</td><td style = \"text-align: right;\">-0.416552</td><td style = \"text-align: right;\">-1.20611</td><td style = \"text-align: right;\">0.645031</td><td style = \"text-align: right;\">0.279307</td><td style = \"text-align: right;\">1.28222</td><td style = \"text-align: right;\">0.458566</td><td style = \"text-align: right;\">0.331673</td><td style = \"text-align: right;\">-0.192777</td><td style = \"text-align: right;\">2.15553</td><td style = \"text-align: right;\">1.68504</td><td style = \"text-align: right;\">0.728652</td><td style = \"text-align: right;\">2.98543</td><td style = \"text-align: right;\">1.2109</td><td style = \"text-align: right;\">0.924085</td><td style = \"text-align: right;\">1.67048</td><td style = \"text-align: right;\">1.77564</td><td style = \"text-align: right;\">0.148204</td><td style = \"text-align: right;\">0.664055</td><td style = \"text-align: right;\">0.660742</td><td style = \"text-align: right;\">0.0829228</td><td style = \"text-align: right;\">-0.216737</td><td style = \"text-align: right;\">-0.0574849</td><td style = \"text-align: right;\">0.0482787</td><td style = \"text-align: right;\">2.11223</td><td style = \"text-align: right;\">0.917257</td><td style = \"text-align: right;\">0.047513</td><td style = \"text-align: right;\">0.376329</td><td style = \"text-align: right;\">-0.347542</td><td style = \"text-align: right;\">1.18196</td><td style = \"text-align: right;\">1.29729</td><td style = \"text-align: right;\">0.7273</td><td style = \"text-align: right;\">-0.206812</td><td style = \"text-align: right;\">-0.303306</td><td style = \"text-align: right;\">-0.3055</td><td style = \"text-align: right;\">-0.0772958</td><td style = \"text-align: right;\">0.563947</td><td style = \"text-align: right;\">0.653787</td><td style = \"text-align: right;\">0.194513</td><td style = \"text-align: right;\">0.197415</td><td style = \"text-align: right;\">0.129927</td><td style = \"text-align: right;\">0.288527</td><td style = \"text-align: right;\">-0.479376</td><td style = \"text-align: right;\">-0.274421</td><td style = \"text-align: right;\">-0.421725</td><td style = \"text-align: right;\">-0.460167</td><td style = \"text-align: right;\">0.00525606</td><td style = \"text-align: right;\">-1.49315</td><td style = \"text-align: right;\">-1.74924</td><td style = \"text-align: right;\">&ctdot;</td></tr><tr><td class = \"rowNumber\" style = \"font-weight: bold; text-align: right;\">3</td><td style = \"text-align: left;\">V3</td><td style = \"text-align: right;\">2.17311</td><td style = \"text-align: right;\">-0.0160897</td><td style = \"text-align: right;\">-0.346354</td><td style = \"text-align: right;\">0.264375</td><td style = \"text-align: right;\">-1.30103</td><td style = \"text-align: right;\">-0.0191701</td><td style = \"text-align: right;\">0.189686</td><td style = \"text-align: right;\">1.97303</td><td style = \"text-align: right;\">1.00007</td><td style = \"text-align: right;\">0.710403</td><td style = \"text-align: right;\">0.471519</td><td style = \"text-align: right;\">0.0381307</td><td style = \"text-align: right;\">-0.647093</td><td style = \"text-align: right;\">0.0187043</td><td style = \"text-align: right;\">-0.237822</td><td style = \"text-align: right;\">-0.345389</td><td style = \"text-align: right;\">-1.01082</td><td style = \"text-align: right;\">0.123137</td><td style = \"text-align: right;\">-0.0522005</td><td style = \"text-align: right;\">0.0960309</td><td style = \"text-align: right;\">-0.342084</td><td style = \"text-align: right;\">0.0778748</td><td style = \"text-align: right;\">-0.26599</td><td style = \"text-align: right;\">-0.224819</td><td style = \"text-align: right;\">0.631445</td><td style = \"text-align: right;\">1.57148</td><td style = \"text-align: right;\">-0.138318</td><td style = \"text-align: right;\">-0.0574291</td><td style = \"text-align: right;\">-0.773968</td><td style = \"text-align: right;\">1.33068</td><td style = \"text-align: right;\">-0.894189</td><td style = \"text-align: right;\">0.439181</td><td style = \"text-align: right;\">-0.0461281</td><td style = \"text-align: right;\">-1.43904</td><td style = \"text-align: right;\">-1.11975</td><td style = \"text-align: right;\">-0.693444</td><td style = \"text-align: right;\">-0.63206</td><td style = \"text-align: right;\">0.242496</td><td style = \"text-align: right;\">-0.854927</td><td style = \"text-align: right;\">0.311484</td><td style = \"text-align: right;\">-1.97222</td><td style = \"text-align: right;\">-0.410337</td><td style = \"text-align: right;\">-1.18029</td><td style = \"text-align: right;\">-1.68446</td><td style = \"text-align: right;\">-1.15149</td><td style = \"text-align: right;\">0.102526</td><td style = \"text-align: right;\">-0.167553</td><td style = \"text-align: right;\">-1.21796</td><td style = \"text-align: right;\">-1.66265</td><td style = \"text-align: right;\">0.769638</td><td style = \"text-align: right;\">0.939069</td><td style = \"text-align: right;\">0.985578</td><td style = \"text-align: right;\">-1.56391</td><td style = \"text-align: right;\">-0.759709</td><td style = \"text-align: right;\">-0.918371</td><td style = \"text-align: right;\">-0.599866</td><td style = \"text-align: right;\">-0.102106</td><td style = \"text-align: right;\">0.654991</td><td style = \"text-align: right;\">0.600187</td><td style = \"text-align: right;\">0.323652</td><td style = \"text-align: right;\">0.210464</td><td style = \"text-align: right;\">1.67699</td><td style = \"text-align: right;\">0.889362</td><td style = \"text-align: right;\">-0.100318</td><td style = \"text-align: right;\">0.491764</td><td style = \"text-align: right;\">-0.0934868</td><td style = \"text-align: right;\">0.617428</td><td style = \"text-align: right;\">0.148204</td><td style = \"text-align: right;\">-0.0475535</td><td style = \"text-align: right;\">0.64112</td><td style = \"text-align: right;\">0.263864</td><td style = \"text-align: right;\">0.0217281</td><td style = \"text-align: right;\">0.0535886</td><td style = \"text-align: right;\">-0.598897</td><td style = \"text-align: right;\">0.347683</td><td style = \"text-align: right;\">0.455071</td><td style = \"text-align: right;\">-0.446335</td><td style = \"text-align: right;\">1.01988</td><td style = \"text-align: right;\">0.043695</td><td style = \"text-align: right;\">0.759203</td><td style = \"text-align: right;\">-0.00853628</td><td style = \"text-align: right;\">0.692992</td><td style = \"text-align: right;\">-0.0711048</td><td style = \"text-align: right;\">-1.08479</td><td style = \"text-align: right;\">-0.444595</td><td style = \"text-align: right;\">1.33771</td><td style = \"text-align: right;\">0.595707</td><td style = \"text-align: right;\">1.3889</td><td style = \"text-align: right;\">0.434059</td><td style = \"text-align: right;\">-0.179562</td><td style = \"text-align: right;\">0.0145436</td><td style = \"text-align: right;\">-0.311946</td><td style = \"text-align: right;\">-0.505511</td><td style = \"text-align: right;\">0.613368</td><td style = \"text-align: right;\">0.485723</td><td style = \"text-align: right;\">1.10971</td><td style = \"text-align: right;\">1.84454</td><td style = \"text-align: right;\">-0.117215</td><td style = \"text-align: right;\">-0.0164562</td><td style = \"text-align: right;\">&ctdot;</td></tr><tr><td class = \"rowNumber\" style = \"font-weight: bold; text-align: right;\">4</td><td style = \"text-align: left;\">V4</td><td style = \"text-align: right;\">0.677638</td><td style = \"text-align: right;\">-0.372557</td><td style = \"text-align: right;\">1.61531</td><td style = \"text-align: right;\">-0.440814</td><td style = \"text-align: right;\">1.23467</td><td style = \"text-align: right;\">-0.0191701</td><td style = \"text-align: right;\">0.405503</td><td style = \"text-align: right;\">0.791797</td><td style = \"text-align: right;\">0.0447814</td><td style = \"text-align: right;\">0.118118</td><td style = \"text-align: right;\">-0.160305</td><td style = \"text-align: right;\">-0.298925</td><td style = \"text-align: right;\">-0.337207</td><td style = \"text-align: right;\">0.0187043</td><td style = \"text-align: right;\">0.375023</td><td style = \"text-align: right;\">-0.717053</td><td style = \"text-align: right;\">-0.717205</td><td style = \"text-align: right;\">0.123137</td><td style = \"text-align: right;\">-1.45507</td><td style = \"text-align: right;\">0.0960309</td><td style = \"text-align: right;\">-0.745323</td><td style = \"text-align: right;\">-2.07641</td><td style = \"text-align: right;\">-0.9918</td><td style = \"text-align: right;\">-1.98669</td><td style = \"text-align: right;\">-1.27169</td><td style = \"text-align: right;\">-0.354587</td><td style = \"text-align: right;\">-1.37075</td><td style = \"text-align: right;\">-0.308988</td><td style = \"text-align: right;\">-1.95282</td><td style = \"text-align: right;\">-0.270954</td><td style = \"text-align: right;\">0.366517</td><td style = \"text-align: right;\">-0.101799</td><td style = \"text-align: right;\">0.217467</td><td style = \"text-align: right;\">0.590081</td><td style = \"text-align: right;\">-0.499086</td><td style = \"text-align: right;\">-1.5821</td><td style = \"text-align: right;\">-2.28864</td><td style = \"text-align: right;\">-1.32658</td><td style = \"text-align: right;\">0.129124</td><td style = \"text-align: right;\">-0.24796</td><td style = \"text-align: right;\">-1.21484</td><td style = \"text-align: right;\">-2.52497</td><td style = \"text-align: right;\">-2.03094</td><td style = \"text-align: right;\">-2.43508</td><td style = \"text-align: right;\">-0.561574</td><td style = \"text-align: right;\">-1.4571</td><td style = \"text-align: right;\">-0.594894</td><td style = \"text-align: right;\">-0.879916</td><td style = \"text-align: right;\">-0.141771</td><td style = \"text-align: right;\">-0.139807</td><td style = \"text-align: right;\">-0.307285</td><td style = \"text-align: right;\">-0.56153</td><td style = \"text-align: right;\">-0.443669</td><td style = \"text-align: right;\">-1.71214</td><td style = \"text-align: right;\">-1.66697</td><td style = \"text-align: right;\">0.486005</td><td style = \"text-align: right;\">-1.69811</td><td style = \"text-align: right;\">-1.38379</td><td style = \"text-align: right;\">-0.428415</td><td style = \"text-align: right;\">0.531828</td><td style = \"text-align: right;\">-0.382989</td><td style = \"text-align: right;\">-1.67143</td><td style = \"text-align: right;\">0.30368</td><td style = \"text-align: right;\">-0.496186</td><td style = \"text-align: right;\">-0.0217959</td><td style = \"text-align: right;\">-0.0753008</td><td style = \"text-align: right;\">0.0382939</td><td style = \"text-align: right;\">-0.820344</td><td style = \"text-align: right;\">-1.0772</td><td style = \"text-align: right;\">-0.461985</td><td style = \"text-align: right;\">-1.52206</td><td style = \"text-align: right;\">-1.17008</td><td style = \"text-align: right;\">-1.30045</td><td style = \"text-align: right;\">-1.59001</td><td style = \"text-align: right;\">-3.16006</td><td style = \"text-align: right;\">-2.645</td><td style = \"text-align: right;\">0.129915</td><td style = \"text-align: right;\">1.94496</td><td style = \"text-align: right;\">0.043695</td><td style = \"text-align: right;\">0.743544</td><td style = \"text-align: right;\">-0.2619</td><td style = \"text-align: right;\">-0.981134</td><td style = \"text-align: right;\">1.18683</td><td style = \"text-align: right;\">0.625363</td><td style = \"text-align: right;\">0.842451</td><td style = \"text-align: right;\">-0.52835</td><td style = \"text-align: right;\">-0.339393</td><td style = \"text-align: right;\">-0.662397</td><td style = \"text-align: right;\">-1.39625</td><td style = \"text-align: right;\">-1.2805</td><td style = \"text-align: right;\">0.101124</td><td style = \"text-align: right;\">-1.22701</td><td style = \"text-align: right;\">0.777603</td><td style = \"text-align: right;\">0.234329</td><td style = \"text-align: right;\">0.138351</td><td style = \"text-align: right;\">0.417641</td><td style = \"text-align: right;\">-1.99852</td><td style = \"text-align: right;\">-0.117215</td><td style = \"text-align: right;\">-2.13993</td><td style = \"text-align: right;\">&ctdot;</td></tr><tr><td class = \"rowNumber\" style = \"font-weight: bold; text-align: right;\">5</td><td style = \"text-align: left;\">V5</td><td style = \"text-align: right;\">1.14214</td><td style = \"text-align: right;\">-0.577196</td><td style = \"text-align: right;\">0.957575</td><td style = \"text-align: right;\">1.12984</td><td style = \"text-align: right;\">0.358517</td><td style = \"text-align: right;\">-0.0334382</td><td style = \"text-align: right;\">0.176197</td><td style = \"text-align: right;\">0.393131</td><td style = \"text-align: right;\">0.545727</td><td style = \"text-align: right;\">2.29243</td><td style = \"text-align: right;\">0.885214</td><td style = \"text-align: right;\">0.678537</td><td style = \"text-align: right;\">0.913406</td><td style = \"text-align: right;\">2.43422</td><td style = \"text-align: right;\">2.19849</td><td style = \"text-align: right;\">-0.345389</td><td style = \"text-align: right;\">-0.579297</td><td style = \"text-align: right;\">0.697283</td><td style = \"text-align: right;\">-1.00283</td><td style = \"text-align: right;\">-0.0829876</td><td style = \"text-align: right;\">-2.06178</td><td style = \"text-align: right;\">-1.54588</td><td style = \"text-align: right;\">-1.70111</td><td style = \"text-align: right;\">-0.903875</td><td style = \"text-align: right;\">-0.602071</td><td style = \"text-align: right;\">-0.796449</td><td style = \"text-align: right;\">-0.0331107</td><td style = \"text-align: right;\">0.0893132</td><td style = \"text-align: right;\">-0.317997</td><td style = \"text-align: right;\">-0.261067</td><td style = \"text-align: right;\">-0.303233</td><td style = \"text-align: right;\">-0.748624</td><td style = \"text-align: right;\">-0.986286</td><td style = \"text-align: right;\">-0.73104</td><td style = \"text-align: right;\">-0.688313</td><td style = \"text-align: right;\">-0.702156</td><td style = \"text-align: right;\">-2.09836</td><td style = \"text-align: right;\">-1.11262</td><td style = \"text-align: right;\">0.196218</td><td style = \"text-align: right;\">-0.891321</td><td style = \"text-align: right;\">-0.847983</td><td style = \"text-align: right;\">-1.60863</td><td style = \"text-align: right;\">-1.55922</td><td style = \"text-align: right;\">-1.6928</td><td style = \"text-align: right;\">-1.92711</td><td style = \"text-align: right;\">-1.28999</td><td style = \"text-align: right;\">-1.43622</td><td style = \"text-align: right;\">-1.47149</td><td style = \"text-align: right;\">-1.70586</td><td style = \"text-align: right;\">-0.704544</td><td style = \"text-align: right;\">-0.0681586</td><td style = \"text-align: right;\">0.203966</td><td style = \"text-align: right;\">-0.326978</td><td style = \"text-align: right;\">-0.93829</td><td style = \"text-align: right;\">-0.437128</td><td style = \"text-align: right;\">-1.62541</td><td style = \"text-align: right;\">-0.522674</td><td style = \"text-align: right;\">-0.898956</td><td style = \"text-align: right;\">-0.481988</td><td style = \"text-align: right;\">-0.186381</td><td style = \"text-align: right;\">-1.41704</td><td style = \"text-align: right;\">-0.826918</td><td style = \"text-align: right;\">-0.551725</td><td style = \"text-align: right;\">-0.211656</td><td style = \"text-align: right;\">-0.57579</td><td style = \"text-align: right;\">-0.557229</td><td style = \"text-align: right;\">-0.632654</td><td style = \"text-align: right;\">-0.523073</td><td style = \"text-align: right;\">-0.251969</td><td style = \"text-align: right;\">-0.196058</td><td style = \"text-align: right;\">-1.21687</td><td style = \"text-align: right;\">-1.60708</td><td style = \"text-align: right;\">-1.48913</td><td style = \"text-align: right;\">-1.23604</td><td style = \"text-align: right;\">-2.20242</td><td style = \"text-align: right;\">-2.54983</td><td style = \"text-align: right;\">-0.559526</td><td style = \"text-align: right;\">-0.919331</td><td style = \"text-align: right;\">1.39294</td><td style = \"text-align: right;\">0.716141</td><td style = \"text-align: right;\">0.719121</td><td style = \"text-align: right;\">-0.0753888</td><td style = \"text-align: right;\">-0.0711048</td><td style = \"text-align: right;\">-1.0802</td><td style = \"text-align: right;\">-0.241682</td><td style = \"text-align: right;\">-0.169493</td><td style = \"text-align: right;\">0.048911</td><td style = \"text-align: right;\">0.183764</td><td style = \"text-align: right;\">-1.64429</td><td style = \"text-align: right;\">-1.60475</td><td style = \"text-align: right;\">-0.310131</td><td style = \"text-align: right;\">-0.640797</td><td style = \"text-align: right;\">0.129499</td><td style = \"text-align: right;\">0.867724</td><td style = \"text-align: right;\">1.06349</td><td style = \"text-align: right;\">1.21943</td><td style = \"text-align: right;\">0.183791</td><td style = \"text-align: right;\">0.819698</td><td style = \"text-align: right;\">0.769229</td><td style = \"text-align: right;\">&ctdot;</td></tr></tbody></table></div>"
      ],
      "text/latex": [
       "\\begin{tabular}{r|ccccccccc}\n",
       "\t& Column1 & x1 & x2 & x3 & x4 & x5 & x6 & x7 & \\\\\n",
       "\t\\hline\n",
       "\t& String3 & Float64 & Float64 & Float64 & Float64 & Float64 & Float64 & Float64 & \\\\\n",
       "\t\\hline\n",
       "\t1 & V1 & 0.722955 & 1.59461 & 1.31529 & 1.34506 & -0.600101 & -0.218923 & 0.891093 & $\\dots$ \\\\\n",
       "\t2 & V2 & 1.5839 & 1.73979 & 0.438221 & 0.648988 & 0.904746 & 1.63582 & 1.83519 & $\\dots$ \\\\\n",
       "\t3 & V3 & 2.17311 & -0.0160897 & -0.346354 & 0.264375 & -1.30103 & -0.0191701 & 0.189686 & $\\dots$ \\\\\n",
       "\t4 & V4 & 0.677638 & -0.372557 & 1.61531 & -0.440814 & 1.23467 & -0.0191701 & 0.405503 & $\\dots$ \\\\\n",
       "\t5 & V5 & 1.14214 & -0.577196 & 0.957575 & 1.12984 & 0.358517 & -0.0334382 & 0.176197 & $\\dots$ \\\\\n",
       "\\end{tabular}\n"
      ],
      "text/plain": [
       "\u001b[1m5×6831 DataFrame\u001b[0m\n",
       "\u001b[1m Row \u001b[0m│\u001b[1m Column1 \u001b[0m\u001b[1m x1       \u001b[0m\u001b[1m x2         \u001b[0m\u001b[1m x3        \u001b[0m\u001b[1m x4        \u001b[0m\u001b[1m x5        \u001b[0m\u001b[1m x6     \u001b[0m ⋯\n",
       "     │\u001b[90m String3 \u001b[0m\u001b[90m Float64  \u001b[0m\u001b[90m Float64    \u001b[0m\u001b[90m Float64   \u001b[0m\u001b[90m Float64   \u001b[0m\u001b[90m Float64   \u001b[0m\u001b[90m Float64\u001b[0m ⋯\n",
       "─────┼──────────────────────────────────────────────────────────────────────────\n",
       "   1 │ V1       0.722955   1.59461     1.31529    1.34506   -0.600101  -0.2189 ⋯\n",
       "   2 │ V2       1.5839     1.73979     0.438221   0.648988   0.904746   1.6358\n",
       "   3 │ V3       2.17311   -0.0160897  -0.346354   0.264375  -1.30103   -0.0191\n",
       "   4 │ V4       0.677638  -0.372557    1.61531   -0.440814   1.23467   -0.0191\n",
       "   5 │ V5       1.14214   -0.577196    0.957575   1.12984    0.358517  -0.0334 ⋯\n",
       "\u001b[36m                                                            6825 columns omitted\u001b[0m"
      ]
     },
     "execution_count": 18,
     "metadata": {},
     "output_type": "execute_result"
    }
   ],
   "source": [
    "# standardize datafram\n",
    "newdf3 = df3_temp[!, Not(\"Column1\")]\n",
    "df3_temp_mat = Matrix(newdf3) #convert dataframe to matrix\n",
    "dt_std3 = standardize(ZScoreTransform, df3_temp_mat, dims=1)\n",
    "df3 = DataFrame(dt_std3[:,:], :auto)\n",
    "df3 = insertcols!(df3, 1, :Column1 => df3_temp[:,\"Column1\"])\n",
    "first(df3,5)"
   ]
  },
  {
   "cell_type": "code",
   "execution_count": 19,
   "id": "5422d978",
   "metadata": {},
   "outputs": [
    {
     "name": "stdout",
     "output_type": "stream",
     "text": [
      "CSV.File\n"
     ]
    },
    {
     "data": {
      "text/html": [
       "<div><div style = \"float: left;\"><span>14×2 DataFrame</span></div><div style = \"clear: both;\"></div></div><div class = \"data-frame\" style = \"overflow-x: scroll;\"><table class = \"data-frame\" style = \"margin-bottom: 6px;\"><thead><tr class = \"header\"><th class = \"rowNumber\" style = \"font-weight: bold; text-align: right;\">Row</th><th style = \"text-align: left;\">x</th><th style = \"text-align: left;\">nrow</th></tr><tr class = \"subheader headerLastRow\"><th class = \"rowNumber\" style = \"font-weight: bold; text-align: right;\"></th><th title = \"String15\" style = \"text-align: left;\">String15</th><th title = \"Int64\" style = \"text-align: left;\">Int64</th></tr></thead><tbody><tr><td class = \"rowNumber\" style = \"font-weight: bold; text-align: right;\">1</td><td style = \"text-align: left;\">CNS</td><td style = \"text-align: right;\">5</td></tr><tr><td class = \"rowNumber\" style = \"font-weight: bold; text-align: right;\">2</td><td style = \"text-align: left;\">RENAL</td><td style = \"text-align: right;\">9</td></tr><tr><td class = \"rowNumber\" style = \"font-weight: bold; text-align: right;\">3</td><td style = \"text-align: left;\">BREAST</td><td style = \"text-align: right;\">7</td></tr><tr><td class = \"rowNumber\" style = \"font-weight: bold; text-align: right;\">4</td><td style = \"text-align: left;\">NSCLC</td><td style = \"text-align: right;\">9</td></tr><tr><td class = \"rowNumber\" style = \"font-weight: bold; text-align: right;\">5</td><td style = \"text-align: left;\">UNKNOWN</td><td style = \"text-align: right;\">1</td></tr><tr><td class = \"rowNumber\" style = \"font-weight: bold; text-align: right;\">6</td><td style = \"text-align: left;\">OVARIAN</td><td style = \"text-align: right;\">6</td></tr><tr><td class = \"rowNumber\" style = \"font-weight: bold; text-align: right;\">7</td><td style = \"text-align: left;\">MELANOMA</td><td style = \"text-align: right;\">8</td></tr><tr><td class = \"rowNumber\" style = \"font-weight: bold; text-align: right;\">8</td><td style = \"text-align: left;\">PROSTATE</td><td style = \"text-align: right;\">2</td></tr><tr><td class = \"rowNumber\" style = \"font-weight: bold; text-align: right;\">9</td><td style = \"text-align: left;\">LEUKEMIA</td><td style = \"text-align: right;\">6</td></tr><tr><td class = \"rowNumber\" style = \"font-weight: bold; text-align: right;\">10</td><td style = \"text-align: left;\">K562B-repro</td><td style = \"text-align: right;\">1</td></tr><tr><td class = \"rowNumber\" style = \"font-weight: bold; text-align: right;\">11</td><td style = \"text-align: left;\">K562A-repro</td><td style = \"text-align: right;\">1</td></tr><tr><td class = \"rowNumber\" style = \"font-weight: bold; text-align: right;\">12</td><td style = \"text-align: left;\">COLON</td><td style = \"text-align: right;\">7</td></tr><tr><td class = \"rowNumber\" style = \"font-weight: bold; text-align: right;\">13</td><td style = \"text-align: left;\">MCF7A-repro</td><td style = \"text-align: right;\">1</td></tr><tr><td class = \"rowNumber\" style = \"font-weight: bold; text-align: right;\">14</td><td style = \"text-align: left;\">MCF7D-repro</td><td style = \"text-align: right;\">1</td></tr></tbody></table></div>"
      ],
      "text/latex": [
       "\\begin{tabular}{r|cc}\n",
       "\t& x & nrow\\\\\n",
       "\t\\hline\n",
       "\t& String15 & Int64\\\\\n",
       "\t\\hline\n",
       "\t1 & CNS & 5 \\\\\n",
       "\t2 & RENAL & 9 \\\\\n",
       "\t3 & BREAST & 7 \\\\\n",
       "\t4 & NSCLC & 9 \\\\\n",
       "\t5 & UNKNOWN & 1 \\\\\n",
       "\t6 & OVARIAN & 6 \\\\\n",
       "\t7 & MELANOMA & 8 \\\\\n",
       "\t8 & PROSTATE & 2 \\\\\n",
       "\t9 & LEUKEMIA & 6 \\\\\n",
       "\t10 & K562B-repro & 1 \\\\\n",
       "\t11 & K562A-repro & 1 \\\\\n",
       "\t12 & COLON & 7 \\\\\n",
       "\t13 & MCF7A-repro & 1 \\\\\n",
       "\t14 & MCF7D-repro & 1 \\\\\n",
       "\\end{tabular}\n"
      ],
      "text/plain": [
       "\u001b[1m14×2 DataFrame\u001b[0m\n",
       "\u001b[1m Row \u001b[0m│\u001b[1m x           \u001b[0m\u001b[1m nrow  \u001b[0m\n",
       "     │\u001b[90m String15    \u001b[0m\u001b[90m Int64 \u001b[0m\n",
       "─────┼────────────────────\n",
       "   1 │ CNS              5\n",
       "   2 │ RENAL            9\n",
       "   3 │ BREAST           7\n",
       "   4 │ NSCLC            9\n",
       "   5 │ UNKNOWN          1\n",
       "   6 │ OVARIAN          6\n",
       "   7 │ MELANOMA         8\n",
       "   8 │ PROSTATE         2\n",
       "   9 │ LEUKEMIA         6\n",
       "  10 │ K562B-repro      1\n",
       "  11 │ K562A-repro      1\n",
       "  12 │ COLON            7\n",
       "  13 │ MCF7A-repro      1\n",
       "  14 │ MCF7D-repro      1"
      ]
     },
     "execution_count": 19,
     "metadata": {},
     "output_type": "execute_result"
    }
   ],
   "source": [
    "csv_reader_lab3_y = CSV.File(\"./Data/NCI60_y.csv\")\n",
    "println(typeof(csv_reader_lab3_y));\n",
    "df3_y = DataFrame(csv_reader_lab3_y)\n",
    "df3_y = df3_y[!, Not(\"Column1\")]\n",
    "combine(nrow,groupby(df3_y,:x))"
   ]
  },
  {
   "cell_type": "code",
   "execution_count": 20,
   "id": "f807144e",
   "metadata": {},
   "outputs": [
    {
     "data": {
      "text/plain": [
       "64×60 adjoint(::Matrix{Float64}) with eltype Float64:\n",
       " -19.6824      3.52775   -9.73544   …   9.0067     -3.86203     3.21537\n",
       " -22.9081      6.39094  -13.3725       -7.60547     3.90791    -3.98678\n",
       " -27.2408      2.44581   -3.50534      -0.0446248   2.01193     1.08127\n",
       " -42.481      -9.69174   -0.883092      6.33994    -3.40267     0.700202\n",
       " -54.9839     -5.15812  -20.9291       -1.85565     2.27768    -0.60956\n",
       " -26.9649      6.72712  -21.6423    …  -2.92109     1.95763     0.136023\n",
       " -31.1993      3.83376  -30.1165       -3.04889    -0.749343   -0.200938\n",
       " -22.1572     10.3149   -18.61          2.26542     1.09468    -0.360548\n",
       " -14.1778     15.9831   -19.6025        0.82574     2.86069     1.15218\n",
       " -29.5148     23.805     -5.83971       0.270472    2.77853    -0.0916602\n",
       " -30.5058      9.80446    7.92032   …  -2.35452    -0.24965     0.786951\n",
       " -34.1444      9.66801   -6.70945      -3.53148    -4.03298    -1.50764\n",
       " -16.9027     14.8327    -9.7081        3.37962     1.428       0.516624\n",
       "   ⋮                                ⋱                          \n",
       "   0.235026   17.4493    25.6813        0.235546    0.38442    -1.45481\n",
       "   7.40355     2.71447    4.24984      -3.31934    -0.0558194   1.84757\n",
       "  14.6102      3.11436   -9.83021       0.848206    0.121242   -0.591266\n",
       "  -2.55242   -52.931     17.2027    …   1.25681     0.910246    0.676401\n",
       "  -8.87467   -58.4462     1.11849       2.41825    -3.7448     -1.22511\n",
       "  -5.28448   -60.5766     6.09364      -0.0581053   4.39379     1.05146\n",
       " -17.7978    -39.9871     8.96605      -8.11724     3.00646     0.929025\n",
       " -17.8551    -46.8719     5.3566        8.46305     4.23014     3.4825\n",
       "  -4.38088   -41.9777     8.64683   …  -9.08296    -3.73387    -3.0429\n",
       " -22.7869    -35.8189    17.9745        3.59498    -1.14639    -0.0693475\n",
       " -19.0256    -50.0032     4.17812      -1.01825    -5.42337    -1.4875\n",
       " -13.1291    -34.8498     3.40662      -0.0791587   0.209908   -1.29681"
      ]
     },
     "execution_count": 20,
     "metadata": {},
     "output_type": "execute_result"
    }
   ],
   "source": [
    "dt_std3 = dt_std3'\n",
    "M3 = fit(PCA,dt_std3;maxoutdim=6830)\n",
    "dt_transformed3 = MultivariateStats.transform(M3, dt_std3)\n",
    "pca_mat3 = dt_transformed3'"
   ]
  },
  {
   "cell_type": "code",
   "execution_count": 21,
   "id": "55b1544e",
   "metadata": {},
   "outputs": [
    {
     "data": {
      "text/html": [
       "<div><div style = \"float: left;\"><span>10×6 DataFrame</span></div><div style = \"clear: both;\"></div></div><div class = \"data-frame\" style = \"overflow-x: scroll;\"><table class = \"data-frame\" style = \"margin-bottom: 6px;\"><thead><tr class = \"header\"><th class = \"rowNumber\" style = \"font-weight: bold; text-align: right;\">Row</th><th style = \"text-align: left;\">y</th><th style = \"text-align: left;\">x1</th><th style = \"text-align: left;\">x2</th><th style = \"text-align: left;\">x3</th><th style = \"text-align: left;\">x4</th><th style = \"text-align: left;\">x5</th></tr><tr class = \"subheader headerLastRow\"><th class = \"rowNumber\" style = \"font-weight: bold; text-align: right;\"></th><th title = \"String15\" style = \"text-align: left;\">String15</th><th title = \"Float64\" style = \"text-align: left;\">Float64</th><th title = \"Float64\" style = \"text-align: left;\">Float64</th><th title = \"Float64\" style = \"text-align: left;\">Float64</th><th title = \"Float64\" style = \"text-align: left;\">Float64</th><th title = \"Float64\" style = \"text-align: left;\">Float64</th></tr></thead><tbody><tr><td class = \"rowNumber\" style = \"font-weight: bold; text-align: right;\">1</td><td style = \"text-align: left;\">CNS</td><td style = \"text-align: right;\">-19.6824</td><td style = \"text-align: right;\">3.52775</td><td style = \"text-align: right;\">-9.73544</td><td style = \"text-align: right;\">-0.817782</td><td style = \"text-align: right;\">12.5111</td></tr><tr><td class = \"rowNumber\" style = \"font-weight: bold; text-align: right;\">2</td><td style = \"text-align: left;\">CNS</td><td style = \"text-align: right;\">-22.9081</td><td style = \"text-align: right;\">6.39094</td><td style = \"text-align: right;\">-13.3725</td><td style = \"text-align: right;\">5.59111</td><td style = \"text-align: right;\">7.97247</td></tr><tr><td class = \"rowNumber\" style = \"font-weight: bold; text-align: right;\">3</td><td style = \"text-align: left;\">CNS</td><td style = \"text-align: right;\">-27.2408</td><td style = \"text-align: right;\">2.44581</td><td style = \"text-align: right;\">-3.50534</td><td style = \"text-align: right;\">-1.33115</td><td style = \"text-align: right;\">12.4663</td></tr><tr><td class = \"rowNumber\" style = \"font-weight: bold; text-align: right;\">4</td><td style = \"text-align: left;\">RENAL</td><td style = \"text-align: right;\">-42.481</td><td style = \"text-align: right;\">-9.69174</td><td style = \"text-align: right;\">-0.883092</td><td style = \"text-align: right;\">3.41802</td><td style = \"text-align: right;\">41.9384</td></tr><tr><td class = \"rowNumber\" style = \"font-weight: bold; text-align: right;\">5</td><td style = \"text-align: left;\">BREAST</td><td style = \"text-align: right;\">-54.9839</td><td style = \"text-align: right;\">-5.15812</td><td style = \"text-align: right;\">-20.9291</td><td style = \"text-align: right;\">15.7254</td><td style = \"text-align: right;\">10.3614</td></tr><tr><td class = \"rowNumber\" style = \"font-weight: bold; text-align: right;\">6</td><td style = \"text-align: left;\">CNS</td><td style = \"text-align: right;\">-26.9649</td><td style = \"text-align: right;\">6.72712</td><td style = \"text-align: right;\">-21.6423</td><td style = \"text-align: right;\">13.7323</td><td style = \"text-align: right;\">-7.93483</td></tr><tr><td class = \"rowNumber\" style = \"font-weight: bold; text-align: right;\">7</td><td style = \"text-align: left;\">CNS</td><td style = \"text-align: right;\">-31.1993</td><td style = \"text-align: right;\">3.83376</td><td style = \"text-align: right;\">-30.1165</td><td style = \"text-align: right;\">41.3381</td><td style = \"text-align: right;\">-10.3438</td></tr><tr><td class = \"rowNumber\" style = \"font-weight: bold; text-align: right;\">8</td><td style = \"text-align: left;\">BREAST</td><td style = \"text-align: right;\">-22.1572</td><td style = \"text-align: right;\">10.3149</td><td style = \"text-align: right;\">-18.61</td><td style = \"text-align: right;\">6.89723</td><td style = \"text-align: right;\">5.48486</td></tr><tr><td class = \"rowNumber\" style = \"font-weight: bold; text-align: right;\">9</td><td style = \"text-align: left;\">NSCLC</td><td style = \"text-align: right;\">-14.1778</td><td style = \"text-align: right;\">15.9831</td><td style = \"text-align: right;\">-19.6025</td><td style = \"text-align: right;\">6.51409</td><td style = \"text-align: right;\">3.77311</td></tr><tr><td class = \"rowNumber\" style = \"font-weight: bold; text-align: right;\">10</td><td style = \"text-align: left;\">NSCLC</td><td style = \"text-align: right;\">-29.5148</td><td style = \"text-align: right;\">23.805</td><td style = \"text-align: right;\">-5.83971</td><td style = \"text-align: right;\">-9.94217</td><td style = \"text-align: right;\">-3.42482</td></tr></tbody></table></div>"
      ],
      "text/latex": [
       "\\begin{tabular}{r|cccccc}\n",
       "\t& y & x1 & x2 & x3 & x4 & x5\\\\\n",
       "\t\\hline\n",
       "\t& String15 & Float64 & Float64 & Float64 & Float64 & Float64\\\\\n",
       "\t\\hline\n",
       "\t1 & CNS & -19.6824 & 3.52775 & -9.73544 & -0.817782 & 12.5111 \\\\\n",
       "\t2 & CNS & -22.9081 & 6.39094 & -13.3725 & 5.59111 & 7.97247 \\\\\n",
       "\t3 & CNS & -27.2408 & 2.44581 & -3.50534 & -1.33115 & 12.4663 \\\\\n",
       "\t4 & RENAL & -42.481 & -9.69174 & -0.883092 & 3.41802 & 41.9384 \\\\\n",
       "\t5 & BREAST & -54.9839 & -5.15812 & -20.9291 & 15.7254 & 10.3614 \\\\\n",
       "\t6 & CNS & -26.9649 & 6.72712 & -21.6423 & 13.7323 & -7.93483 \\\\\n",
       "\t7 & CNS & -31.1993 & 3.83376 & -30.1165 & 41.3381 & -10.3438 \\\\\n",
       "\t8 & BREAST & -22.1572 & 10.3149 & -18.61 & 6.89723 & 5.48486 \\\\\n",
       "\t9 & NSCLC & -14.1778 & 15.9831 & -19.6025 & 6.51409 & 3.77311 \\\\\n",
       "\t10 & NSCLC & -29.5148 & 23.805 & -5.83971 & -9.94217 & -3.42482 \\\\\n",
       "\\end{tabular}\n"
      ],
      "text/plain": [
       "\u001b[1m10×6 DataFrame\u001b[0m\n",
       "\u001b[1m Row \u001b[0m│\u001b[1m y        \u001b[0m\u001b[1m x1       \u001b[0m\u001b[1m x2       \u001b[0m\u001b[1m x3         \u001b[0m\u001b[1m x4        \u001b[0m\u001b[1m x5        \u001b[0m\n",
       "     │\u001b[90m String15 \u001b[0m\u001b[90m Float64  \u001b[0m\u001b[90m Float64  \u001b[0m\u001b[90m Float64    \u001b[0m\u001b[90m Float64   \u001b[0m\u001b[90m Float64   \u001b[0m\n",
       "─────┼────────────────────────────────────────────────────────────────\n",
       "   1 │ CNS       -19.6824   3.52775   -9.73544   -0.817782   12.5111\n",
       "   2 │ CNS       -22.9081   6.39094  -13.3725     5.59111     7.97247\n",
       "   3 │ CNS       -27.2408   2.44581   -3.50534   -1.33115    12.4663\n",
       "   4 │ RENAL     -42.481   -9.69174   -0.883092   3.41802    41.9384\n",
       "   5 │ BREAST    -54.9839  -5.15812  -20.9291    15.7254     10.3614\n",
       "   6 │ CNS       -26.9649   6.72712  -21.6423    13.7323     -7.93483\n",
       "   7 │ CNS       -31.1993   3.83376  -30.1165    41.3381    -10.3438\n",
       "   8 │ BREAST    -22.1572  10.3149   -18.61       6.89723     5.48486\n",
       "   9 │ NSCLC     -14.1778  15.9831   -19.6025     6.51409     3.77311\n",
       "  10 │ NSCLC     -29.5148  23.805     -5.83971   -9.94217    -3.42482"
      ]
     },
     "execution_count": 21,
     "metadata": {},
     "output_type": "execute_result"
    }
   ],
   "source": [
    "df3_pca = DataFrame(pca_mat3[:,1:5], :auto)\n",
    "df3_pca = insertcols!(df3_pca, 1, :y => df3_y[:,\"x\"])\n",
    "first(df3_pca,10)"
   ]
  },
  {
   "cell_type": "code",
   "execution_count": 22,
   "id": "04a7a4cd",
   "metadata": {},
   "outputs": [
    {
     "data": {
      "application/vnd.plotly.v1+json": {
       "config": {
        "editable": false,
        "responsive": true,
        "scrollZoom": true,
        "showLink": false,
        "staticPlot": false
       },
       "data": [
        {
         "legendgroup": "BREAST",
         "marker": {
          "color": "#00cc96"
         },
         "mode": "markers",
         "name": "BREAST",
         "showlegend": true,
         "type": "scatter",
         "x": [
          -54.98386798047831,
          -22.157176644688956,
          -17.578659532214736,
          35.51563653257484,
          11.593386950152919,
          -8.874666996687203,
          -5.284475477028772
         ],
         "xaxis": "x",
         "y": [
          -5.158120849858874,
          10.314872309253042,
          14.268541890200876,
          6.077147555370984,
          1.958431860042862,
          -58.44624694956236,
          -60.57657123073532
         ],
         "yaxis": "y"
        },
        {
         "legendgroup": "CNS",
         "marker": {
          "color": "#636efa"
         },
         "mode": "markers",
         "name": "CNS",
         "showlegend": true,
         "type": "scatter",
         "x": [
          -19.682446802574514,
          -22.908120228531548,
          -27.240769014348853,
          -26.964881646047406,
          -31.19929954046203
         ],
         "xaxis": "x",
         "y": [
          3.527748240267727,
          6.39093774592994,
          2.445808506256666,
          6.7271224385015955,
          3.8337630321831413
         ],
         "yaxis": "y"
        },
        {
         "legendgroup": "COLON",
         "marker": {
          "color": "#EF553B"
         },
         "mode": "markers",
         "name": "COLON",
         "showlegend": true,
         "type": "scatter",
         "x": [
          14.851402509542073,
          36.91681485555582,
          26.57337081248241,
          19.797371890473325,
          18.063521622301607,
          28.840217455213033,
          20.931875685302682
         ],
         "xaxis": "x",
         "y": [
          9.060200942946393,
          10.174258755163715,
          15.744009817288111,
          17.81842163335978,
          9.492887220363242,
          7.523387025034785,
          21.198937748974238
         ],
         "yaxis": "y"
        },
        {
         "legendgroup": "K562A-repro",
         "marker": {
          "color": "#636efa"
         },
         "mode": "markers",
         "name": "K562A-repro",
         "showlegend": true,
         "type": "scatter",
         "x": [
          55.215240045161806
         ],
         "xaxis": "x",
         "y": [
          -9.853918410114291
         ],
         "yaxis": "y"
        },
        {
         "legendgroup": "K562B-repro",
         "marker": {
          "color": "#FECB52"
         },
         "mode": "markers",
         "name": "K562B-repro",
         "showlegend": true,
         "type": "scatter",
         "x": [
          51.53209899820959
         ],
         "xaxis": "x",
         "y": [
          -8.169478187769995
         ],
         "yaxis": "y"
        },
        {
         "legendgroup": "LEUKEMIA",
         "marker": {
          "color": "#FF97FF"
         },
         "mode": "markers",
         "name": "LEUKEMIA",
         "showlegend": true,
         "type": "scatter",
         "x": [
          26.536088498352832,
          58.00527058293026,
          55.181144189979804,
          69.23064534455159,
          59.46304046454735,
          25.52831328103651
         ],
         "xaxis": "x",
         "y": [
          -17.490229789579388,
          -12.678121714859273,
          -9.917345104372082,
          -1.283325178419248,
          0.5614815249982571,
          -6.758703026478998
         ],
         "yaxis": "y"
        },
        {
         "legendgroup": "MCF7A-repro",
         "marker": {
          "color": "#00cc96"
         },
         "mode": "markers",
         "name": "MCF7A-repro",
         "showlegend": true,
         "type": "scatter",
         "x": [
          38.28460163023954
         ],
         "xaxis": "x",
         "y": [
          12.704882907115945
         ],
         "yaxis": "y"
        },
        {
         "legendgroup": "MCF7D-repro",
         "marker": {
          "color": "#ab63fa"
         },
         "mode": "markers",
         "name": "MCF7D-repro",
         "showlegend": true,
         "type": "scatter",
         "x": [
          30.48200389967615
         ],
         "xaxis": "x",
         "y": [
          7.608483681568173
         ],
         "yaxis": "y"
        },
        {
         "legendgroup": "MELANOMA",
         "marker": {
          "color": "#FF6692"
         },
         "mode": "markers",
         "name": "MELANOMA",
         "showlegend": true,
         "type": "scatter",
         "x": [
          -2.8978540130434376,
          -2.552418991643252,
          -17.797820517094657,
          -17.85509266378033,
          -4.38087819383377,
          -22.786851524860552,
          -19.02560482532551,
          -13.129080987274357
         ],
         "xaxis": "x",
         "y": [
          2.8597761364232834,
          -52.93097568322607,
          -39.987112224158565,
          -46.87187942847119,
          -41.977718516357136,
          -35.81888081679257,
          -50.00315286639525,
          -34.849752759865275
         ],
         "yaxis": "y"
        },
        {
         "legendgroup": "NSCLC",
         "marker": {
          "color": "#ab63fa"
         },
         "mode": "markers",
         "name": "NSCLC",
         "showlegend": true,
         "type": "scatter",
         "x": [
          -14.1778411790914,
          -29.5147954305687,
          -33.76781954543095,
          -19.88560011926893,
          -4.2157125570161,
          0.8420951909436538,
          0.2350255824904675,
          7.403549771601731,
          14.610210899462915
         ],
         "xaxis": "x",
         "y": [
          15.983079825896581,
          23.80501522192393,
          4.5015872702052135,
          4.934883164819074,
          12.017892425489345,
          4.016747048562943,
          17.449253027001586,
          2.7144724770279147,
          3.1143624812656725
         ],
         "yaxis": "y"
        },
        {
         "legendgroup": "OVARIAN",
         "marker": {
          "color": "#19d3f3"
         },
         "mode": "markers",
         "name": "OVARIAN",
         "showlegend": true,
         "type": "scatter",
         "x": [
          -9.785373387753747,
          3.973930438809984,
          -13.003228410975584,
          3.9985577270870527,
          -11.99620716169582,
          -4.888730131476876
         ],
         "xaxis": "x",
         "y": [
          25.588347447257718,
          8.715029434819932,
          6.763873835819412,
          7.516467529672916,
          24.561708676379865,
          15.345036616816076
         ],
         "yaxis": "y"
        },
        {
         "legendgroup": "PROSTATE",
         "marker": {
          "color": "#B6E880"
         },
         "mode": "markers",
         "name": "PROSTATE",
         "showlegend": true,
         "type": "scatter",
         "x": [
          4.4607879282501965,
          -5.321520794430998
         ],
         "xaxis": "x",
         "y": [
          2.2719939046124304,
          14.846335853515317
         ],
         "yaxis": "y"
        },
        {
         "legendgroup": "RENAL",
         "marker": {
          "color": "#EF553B"
         },
         "mode": "markers",
         "name": "RENAL",
         "showlegend": true,
         "type": "scatter",
         "x": [
          -42.4809775873898,
          -30.505768998990934,
          -34.14441087797285,
          -16.902721053364065,
          -25.023692790405075,
          -28.901035238489943,
          -21.73867591747836,
          -13.295126914105682,
          -16.601644294575088
         ],
         "xaxis": "x",
         "y": [
          -9.69174249480422,
          9.804459028350754,
          9.668012777735914,
          14.83271776799413,
          16.720194793034192,
          18.034590465193144,
          23.697856529060303,
          24.257701773642832,
          5.245299851455773
         ],
         "yaxis": "y"
        },
        {
         "legendgroup": "UNKNOWN",
         "marker": {
          "color": "#FFA15A"
         },
         "mode": "markers",
         "name": "UNKNOWN",
         "showlegend": true,
         "type": "scatter",
         "x": [
          -4.615354816531049
         ],
         "xaxis": "x",
         "y": [
          15.765255033024333
         ],
         "yaxis": "y"
        }
       ],
       "frames": [],
       "layout": {
        "legend": {
         "title": {
          "text": "x2"
         },
         "tracegroupgap": 0
        },
        "margin": {
         "b": 50,
         "l": 50,
         "r": 50,
         "t": 60
        },
        "template": {
         "data": {
          "bar": [
           {
            "error_x": {
             "color": "#2a3f5f"
            },
            "error_y": {
             "color": "#2a3f5f"
            },
            "marker": {
             "line": {
              "color": "#E5ECF6",
              "width": 0.5
             }
            },
            "type": "bar"
           }
          ],
          "barpolar": [
           {
            "marker": {
             "line": {
              "color": "#E5ECF6",
              "width": 0.5
             }
            },
            "type": "barpolar"
           }
          ],
          "carpet": [
           {
            "aaxis": {
             "endlinecolor": "#2a3f5f",
             "gridcolor": "white",
             "linecolor": "white",
             "minorgridcolor": "white",
             "startlinecolor": "#2a3f5f"
            },
            "baxis": {
             "endlinecolor": "#2a3f5f",
             "gridcolor": "white",
             "linecolor": "white",
             "minorgridcolor": "white",
             "startlinecolor": "#2a3f5f"
            },
            "type": "carpet"
           }
          ],
          "choropleth": [
           {
            "colorbar": {
             "outlinewidth": 0,
             "ticks": ""
            },
            "type": "choropleth"
           }
          ],
          "contour": [
           {
            "colorbar": {
             "outlinewidth": 0,
             "ticks": ""
            },
            "colorscale": [
             [
              0,
              "#0d0887"
             ],
             [
              0.1111111111111111,
              "#46039f"
             ],
             [
              0.2222222222222222,
              "#7201a8"
             ],
             [
              0.3333333333333333,
              "#9c179e"
             ],
             [
              0.4444444444444444,
              "#bd3786"
             ],
             [
              0.5555555555555556,
              "#d8576b"
             ],
             [
              0.6666666666666666,
              "#ed7953"
             ],
             [
              0.7777777777777778,
              "#fb9f3a"
             ],
             [
              0.8888888888888888,
              "#fdca26"
             ],
             [
              1,
              "#f0f921"
             ]
            ],
            "type": "contour"
           }
          ],
          "contourcarpet": [
           {
            "colorbar": {
             "outlinewidth": 0,
             "ticks": ""
            },
            "type": "contourcarpet"
           }
          ],
          "heatmap": [
           {
            "colorbar": {
             "outlinewidth": 0,
             "ticks": ""
            },
            "colorscale": [
             [
              0,
              "#0d0887"
             ],
             [
              0.1111111111111111,
              "#46039f"
             ],
             [
              0.2222222222222222,
              "#7201a8"
             ],
             [
              0.3333333333333333,
              "#9c179e"
             ],
             [
              0.4444444444444444,
              "#bd3786"
             ],
             [
              0.5555555555555556,
              "#d8576b"
             ],
             [
              0.6666666666666666,
              "#ed7953"
             ],
             [
              0.7777777777777778,
              "#fb9f3a"
             ],
             [
              0.8888888888888888,
              "#fdca26"
             ],
             [
              1,
              "#f0f921"
             ]
            ],
            "type": "heatmap"
           }
          ],
          "heatmapgl": [
           {
            "colorbar": {
             "outlinewidth": 0,
             "ticks": ""
            },
            "colorscale": [
             [
              0,
              "#0d0887"
             ],
             [
              0.1111111111111111,
              "#46039f"
             ],
             [
              0.2222222222222222,
              "#7201a8"
             ],
             [
              0.3333333333333333,
              "#9c179e"
             ],
             [
              0.4444444444444444,
              "#bd3786"
             ],
             [
              0.5555555555555556,
              "#d8576b"
             ],
             [
              0.6666666666666666,
              "#ed7953"
             ],
             [
              0.7777777777777778,
              "#fb9f3a"
             ],
             [
              0.8888888888888888,
              "#fdca26"
             ],
             [
              1,
              "#f0f921"
             ]
            ],
            "type": "heatmapgl"
           }
          ],
          "histogram": [
           {
            "marker": {
             "colorbar": {
              "outlinewidth": 0,
              "ticks": ""
             }
            },
            "type": "histogram"
           }
          ],
          "histogram2d": [
           {
            "colorbar": {
             "outlinewidth": 0,
             "ticks": ""
            },
            "colorscale": [
             [
              0,
              "#0d0887"
             ],
             [
              0.1111111111111111,
              "#46039f"
             ],
             [
              0.2222222222222222,
              "#7201a8"
             ],
             [
              0.3333333333333333,
              "#9c179e"
             ],
             [
              0.4444444444444444,
              "#bd3786"
             ],
             [
              0.5555555555555556,
              "#d8576b"
             ],
             [
              0.6666666666666666,
              "#ed7953"
             ],
             [
              0.7777777777777778,
              "#fb9f3a"
             ],
             [
              0.8888888888888888,
              "#fdca26"
             ],
             [
              1,
              "#f0f921"
             ]
            ],
            "type": "histogram2d"
           }
          ],
          "histogram2dcontour": [
           {
            "colorbar": {
             "outlinewidth": 0,
             "ticks": ""
            },
            "colorscale": [
             [
              0,
              "#0d0887"
             ],
             [
              0.1111111111111111,
              "#46039f"
             ],
             [
              0.2222222222222222,
              "#7201a8"
             ],
             [
              0.3333333333333333,
              "#9c179e"
             ],
             [
              0.4444444444444444,
              "#bd3786"
             ],
             [
              0.5555555555555556,
              "#d8576b"
             ],
             [
              0.6666666666666666,
              "#ed7953"
             ],
             [
              0.7777777777777778,
              "#fb9f3a"
             ],
             [
              0.8888888888888888,
              "#fdca26"
             ],
             [
              1,
              "#f0f921"
             ]
            ],
            "type": "histogram2dcontour"
           }
          ],
          "mesh3d": [
           {
            "colorbar": {
             "outlinewidth": 0,
             "ticks": ""
            },
            "type": "mesh3d"
           }
          ],
          "parcoords": [
           {
            "line": {
             "colorbar": {
              "outlinewidth": 0,
              "ticks": ""
             }
            },
            "type": "parcoords"
           }
          ],
          "pie": [
           {
            "automargin": true,
            "type": "pie"
           }
          ],
          "scatter": [
           {
            "marker": {
             "colorbar": {
              "outlinewidth": 0,
              "ticks": ""
             }
            },
            "type": "scatter"
           }
          ],
          "scatter3d": [
           {
            "line": {
             "colorbar": {
              "outlinewidth": 0,
              "ticks": ""
             }
            },
            "marker": {
             "colorbar": {
              "outlinewidth": 0,
              "ticks": ""
             }
            },
            "type": "scatter3d"
           }
          ],
          "scattercarpet": [
           {
            "marker": {
             "colorbar": {
              "outlinewidth": 0,
              "ticks": ""
             }
            },
            "type": "scattercarpet"
           }
          ],
          "scattergeo": [
           {
            "marker": {
             "colorbar": {
              "outlinewidth": 0,
              "ticks": ""
             }
            },
            "type": "scattergeo"
           }
          ],
          "scattergl": [
           {
            "marker": {
             "colorbar": {
              "outlinewidth": 0,
              "ticks": ""
             }
            },
            "type": "scattergl"
           }
          ],
          "scattermapbox": [
           {
            "marker": {
             "colorbar": {
              "outlinewidth": 0,
              "ticks": ""
             }
            },
            "type": "scattermapbox"
           }
          ],
          "scatterpolar": [
           {
            "marker": {
             "colorbar": {
              "outlinewidth": 0,
              "ticks": ""
             }
            },
            "type": "scatterpolar"
           }
          ],
          "scatterpolargl": [
           {
            "marker": {
             "colorbar": {
              "outlinewidth": 0,
              "ticks": ""
             }
            },
            "type": "scatterpolargl"
           }
          ],
          "scatterternary": [
           {
            "marker": {
             "colorbar": {
              "outlinewidth": 0,
              "ticks": ""
             }
            },
            "type": "scatterternary"
           }
          ],
          "surface": [
           {
            "colorbar": {
             "outlinewidth": 0,
             "ticks": ""
            },
            "colorscale": [
             [
              0,
              "#0d0887"
             ],
             [
              0.1111111111111111,
              "#46039f"
             ],
             [
              0.2222222222222222,
              "#7201a8"
             ],
             [
              0.3333333333333333,
              "#9c179e"
             ],
             [
              0.4444444444444444,
              "#bd3786"
             ],
             [
              0.5555555555555556,
              "#d8576b"
             ],
             [
              0.6666666666666666,
              "#ed7953"
             ],
             [
              0.7777777777777778,
              "#fb9f3a"
             ],
             [
              0.8888888888888888,
              "#fdca26"
             ],
             [
              1,
              "#f0f921"
             ]
            ],
            "type": "surface"
           }
          ],
          "table": [
           {
            "cells": {
             "fill": {
              "color": "#EBF0F8"
             },
             "line": {
              "color": "white"
             }
            },
            "header": {
             "fill": {
              "color": "#C8D4E3"
             },
             "line": {
              "color": "white"
             }
            },
            "type": "table"
           }
          ]
         },
         "layout": {
          "annotationdefaults": {
           "arrowcolor": "#2a3f5f",
           "arrowhead": 0,
           "arrowwidth": 1
          },
          "autotypenumbers": "strict",
          "coloraxis": {
           "colorbar": {
            "outlinewidth": 0,
            "ticks": ""
           }
          },
          "colorscale": {
           "diverging": [
            [
             0,
             "#8e0152"
            ],
            [
             0.1,
             "#c51b7d"
            ],
            [
             0.2,
             "#de77ae"
            ],
            [
             0.3,
             "#f1b6da"
            ],
            [
             0.4,
             "#fde0ef"
            ],
            [
             0.5,
             "#f7f7f7"
            ],
            [
             0.6,
             "#e6f5d0"
            ],
            [
             0.7,
             "#b8e186"
            ],
            [
             0.8,
             "#7fbc41"
            ],
            [
             0.9,
             "#4d9221"
            ],
            [
             1,
             "#276419"
            ]
           ],
           "sequential": [
            [
             0,
             "#0d0887"
            ],
            [
             0.1111111111111111,
             "#46039f"
            ],
            [
             0.2222222222222222,
             "#7201a8"
            ],
            [
             0.3333333333333333,
             "#9c179e"
            ],
            [
             0.4444444444444444,
             "#bd3786"
            ],
            [
             0.5555555555555556,
             "#d8576b"
            ],
            [
             0.6666666666666666,
             "#ed7953"
            ],
            [
             0.7777777777777778,
             "#fb9f3a"
            ],
            [
             0.8888888888888888,
             "#fdca26"
            ],
            [
             1,
             "#f0f921"
            ]
           ],
           "sequentialminus": [
            [
             0,
             "#0d0887"
            ],
            [
             0.1111111111111111,
             "#46039f"
            ],
            [
             0.2222222222222222,
             "#7201a8"
            ],
            [
             0.3333333333333333,
             "#9c179e"
            ],
            [
             0.4444444444444444,
             "#bd3786"
            ],
            [
             0.5555555555555556,
             "#d8576b"
            ],
            [
             0.6666666666666666,
             "#ed7953"
            ],
            [
             0.7777777777777778,
             "#fb9f3a"
            ],
            [
             0.8888888888888888,
             "#fdca26"
            ],
            [
             1,
             "#f0f921"
            ]
           ]
          },
          "colorway": [
           "#636efa",
           "#EF553B",
           "#00cc96",
           "#ab63fa",
           "#FFA15A",
           "#19d3f3",
           "#FF6692",
           "#B6E880",
           "#FF97FF",
           "#FECB52"
          ],
          "font": {
           "color": "#2a3f5f"
          },
          "geo": {
           "bgcolor": "white",
           "lakecolor": "white",
           "landcolor": "#E5ECF6",
           "showlakes": true,
           "showland": true,
           "subunitcolor": "white"
          },
          "hoverlabel": {
           "align": "left"
          },
          "hovermode": "closest",
          "mapbox": {
           "style": "light"
          },
          "paper_bgcolor": "white",
          "plot_bgcolor": "#E5ECF6",
          "polar": {
           "angularaxis": {
            "gridcolor": "white",
            "linecolor": "white",
            "ticks": ""
           },
           "bgcolor": "#E5ECF6",
           "radialaxis": {
            "gridcolor": "white",
            "linecolor": "white",
            "ticks": ""
           }
          },
          "scene": {
           "xaxis": {
            "backgroundcolor": "#E5ECF6",
            "gridcolor": "white",
            "gridwidth": 2,
            "linecolor": "white",
            "showbackground": true,
            "ticks": "",
            "zerolinecolor": "white"
           },
           "yaxis": {
            "backgroundcolor": "#E5ECF6",
            "gridcolor": "white",
            "gridwidth": 2,
            "linecolor": "white",
            "showbackground": true,
            "ticks": "",
            "zerolinecolor": "white"
           },
           "zaxis": {
            "backgroundcolor": "#E5ECF6",
            "gridcolor": "white",
            "gridwidth": 2,
            "linecolor": "white",
            "showbackground": true,
            "ticks": "",
            "zerolinecolor": "white"
           }
          },
          "shapedefaults": {
           "line": {
            "color": "#2a3f5f"
           }
          },
          "ternary": {
           "aaxis": {
            "gridcolor": "white",
            "linecolor": "white",
            "ticks": ""
           },
           "baxis": {
            "gridcolor": "white",
            "linecolor": "white",
            "ticks": ""
           },
           "bgcolor": "#E5ECF6",
           "caxis": {
            "gridcolor": "white",
            "linecolor": "white",
            "ticks": ""
           }
          },
          "title": {
           "x": 0.05
          },
          "xaxis": {
           "automargin": true,
           "gridcolor": "white",
           "linecolor": "white",
           "ticks": "",
           "title": {
            "standoff": 15
           },
           "zerolinecolor": "white",
           "zerolinewidth": 2
          },
          "yaxis": {
           "automargin": true,
           "gridcolor": "white",
           "linecolor": "white",
           "ticks": "",
           "title": {
            "standoff": 15
           },
           "zerolinecolor": "white",
           "zerolinewidth": 2
          }
         }
        },
        "xaxis": {
         "title": {
          "text": "Principal Component 1"
         }
        },
        "yaxis": {
         "title": {
          "text": "Principal Component 2"
         }
        }
       }
      },
      "text/html": [
       "<div\n",
       "    class=\"webio-mountpoint\"\n",
       "    data-webio-mountpoint=\"1368473554765830192\"\n",
       ">\n",
       "    <script>\n",
       "    (function(){\n",
       "    // Some integrations (namely, IJulia/Jupyter) use an alternate render pathway than\n",
       "    // just putting the html on the page. If WebIO isn't defined, then it's pretty likely\n",
       "    // that we're in one of those situations and the integration just isn't installed\n",
       "    // correctly.\n",
       "    if (typeof window.WebIO === \"undefined\") {\n",
       "        document\n",
       "            .querySelector('[data-webio-mountpoint=\"1368473554765830192\"]')\n",
       "            .innerHTML = (\n",
       "                '<div style=\"padding: 1em; background-color: #f8d6da; border: 1px solid #f5c6cb; font-weight: bold;\">' +\n",
       "                '<p><strong>WebIO not detected.</strong></p>' +\n",
       "                '<p>Please read ' +\n",
       "                '<a href=\"https://juliagizmos.github.io/WebIO.jl/latest/troubleshooting/not-detected/\" target=\"_blank\">the troubleshooting guide</a> ' +\n",
       "                'for more information on how to resolve this issue.</p>' +\n",
       "                '<p><a href=\"https://juliagizmos.github.io/WebIO.jl/latest/troubleshooting/not-detected/\" target=\"_blank\">https://juliagizmos.github.io/WebIO.jl/latest/troubleshooting/not-detected/</a></p>' +\n",
       "                '</div>'\n",
       "            );\n",
       "        return;\n",
       "    }\n",
       "    WebIO.mount(\n",
       "        document.querySelector('[data-webio-mountpoint=\"1368473554765830192\"]'),\n",
       "        {\"props\":{},\"nodeType\":\"Scope\",\"type\":\"node\",\"instanceArgs\":{\"imports\":{\"data\":[{\"name\":\"Plotly\",\"type\":\"js\",\"url\":\"\\/assetserver\\/597d3e3981791f3da20e7b96cab90ffffca4599e-plotly.min.js\"},{\"name\":null,\"type\":\"js\",\"url\":\"\\/assetserver\\/d21cc61a8b26f5a8d90707d16621e32300c2e5ed-plotly_webio.bundle.js\"}],\"type\":\"async_block\"},\"id\":\"13222546810420754118\",\"handlers\":{\"_toImage\":[\"(function (options){return this.Plotly.toImage(this.plotElem,options).then((function (data){return WebIO.setval({\\\"name\\\":\\\"image\\\",\\\"scope\\\":\\\"13222546810420754118\\\",\\\"id\\\":\\\"2642821952119577092\\\",\\\"type\\\":\\\"observable\\\"},data)}))})\"],\"__get_gd_contents\":[\"(function (prop){prop==\\\"data\\\" ? (WebIO.setval({\\\"name\\\":\\\"__gd_contents\\\",\\\"scope\\\":\\\"13222546810420754118\\\",\\\"id\\\":\\\"15945214213881353082\\\",\\\"type\\\":\\\"observable\\\"},this.plotElem.data)) : undefined; return prop==\\\"layout\\\" ? (WebIO.setval({\\\"name\\\":\\\"__gd_contents\\\",\\\"scope\\\":\\\"13222546810420754118\\\",\\\"id\\\":\\\"15945214213881353082\\\",\\\"type\\\":\\\"observable\\\"},this.plotElem.layout)) : undefined})\"],\"_downloadImage\":[\"(function (options){return this.Plotly.downloadImage(this.plotElem,options)})\"],\"_commands\":[\"(function (args){var fn=args.shift(); var elem=this.plotElem; var Plotly=this.Plotly; args.unshift(elem); return Plotly[fn].apply(this,args)})\"]},\"systemjs_options\":null,\"mount_callbacks\":[\"function () {\\n    var handler = ((function (Plotly,PlotlyWebIO){PlotlyWebIO.init(WebIO); var gd=this.dom.querySelector(\\\"#plot-4b4b27aa-b357-45c9-8dbb-2928ec1525b7\\\"); this.plotElem=gd; this.Plotly=Plotly; (window.Blink!==undefined) ? (gd.style.width=\\\"100%\\\", gd.style.height=\\\"100vh\\\", gd.style.marginLeft=\\\"0%\\\", gd.style.marginTop=\\\"0vh\\\") : undefined; window.onresize=(function (){return Plotly.Plots.resize(gd)}); Plotly.newPlot(gd,[{\\\"showlegend\\\":true,\\\"mode\\\":\\\"markers\\\",\\\"xaxis\\\":\\\"x\\\",\\\"marker\\\":{\\\"color\\\":\\\"#00cc96\\\"},\\\"y\\\":[-5.158120849858874,10.314872309253042,14.268541890200876,6.077147555370984,1.958431860042862,-58.44624694956236,-60.57657123073532],\\\"type\\\":\\\"scatter\\\",\\\"name\\\":\\\"BREAST\\\",\\\"yaxis\\\":\\\"y\\\",\\\"legendgroup\\\":\\\"BREAST\\\",\\\"x\\\":[-54.98386798047831,-22.157176644688956,-17.578659532214736,35.51563653257484,11.593386950152919,-8.874666996687203,-5.284475477028772]},{\\\"showlegend\\\":true,\\\"mode\\\":\\\"markers\\\",\\\"xaxis\\\":\\\"x\\\",\\\"marker\\\":{\\\"color\\\":\\\"#636efa\\\"},\\\"y\\\":[3.527748240267727,6.39093774592994,2.445808506256666,6.7271224385015955,3.8337630321831413],\\\"type\\\":\\\"scatter\\\",\\\"name\\\":\\\"CNS\\\",\\\"yaxis\\\":\\\"y\\\",\\\"legendgroup\\\":\\\"CNS\\\",\\\"x\\\":[-19.682446802574514,-22.908120228531548,-27.240769014348853,-26.964881646047406,-31.19929954046203]},{\\\"showlegend\\\":true,\\\"mode\\\":\\\"markers\\\",\\\"xaxis\\\":\\\"x\\\",\\\"marker\\\":{\\\"color\\\":\\\"#EF553B\\\"},\\\"y\\\":[9.060200942946393,10.174258755163715,15.744009817288111,17.81842163335978,9.492887220363242,7.523387025034785,21.198937748974238],\\\"type\\\":\\\"scatter\\\",\\\"name\\\":\\\"COLON\\\",\\\"yaxis\\\":\\\"y\\\",\\\"legendgroup\\\":\\\"COLON\\\",\\\"x\\\":[14.851402509542073,36.91681485555582,26.57337081248241,19.797371890473325,18.063521622301607,28.840217455213033,20.931875685302682]},{\\\"showlegend\\\":true,\\\"mode\\\":\\\"markers\\\",\\\"xaxis\\\":\\\"x\\\",\\\"marker\\\":{\\\"color\\\":\\\"#636efa\\\"},\\\"y\\\":[-9.853918410114291],\\\"type\\\":\\\"scatter\\\",\\\"name\\\":\\\"K562A-repro\\\",\\\"yaxis\\\":\\\"y\\\",\\\"legendgroup\\\":\\\"K562A-repro\\\",\\\"x\\\":[55.215240045161806]},{\\\"showlegend\\\":true,\\\"mode\\\":\\\"markers\\\",\\\"xaxis\\\":\\\"x\\\",\\\"marker\\\":{\\\"color\\\":\\\"#FECB52\\\"},\\\"y\\\":[-8.169478187769995],\\\"type\\\":\\\"scatter\\\",\\\"name\\\":\\\"K562B-repro\\\",\\\"yaxis\\\":\\\"y\\\",\\\"legendgroup\\\":\\\"K562B-repro\\\",\\\"x\\\":[51.53209899820959]},{\\\"showlegend\\\":true,\\\"mode\\\":\\\"markers\\\",\\\"xaxis\\\":\\\"x\\\",\\\"marker\\\":{\\\"color\\\":\\\"#FF97FF\\\"},\\\"y\\\":[-17.490229789579388,-12.678121714859273,-9.917345104372082,-1.283325178419248,0.5614815249982571,-6.758703026478998],\\\"type\\\":\\\"scatter\\\",\\\"name\\\":\\\"LEUKEMIA\\\",\\\"yaxis\\\":\\\"y\\\",\\\"legendgroup\\\":\\\"LEUKEMIA\\\",\\\"x\\\":[26.536088498352832,58.00527058293026,55.181144189979804,69.23064534455159,59.46304046454735,25.52831328103651]},{\\\"showlegend\\\":true,\\\"mode\\\":\\\"markers\\\",\\\"xaxis\\\":\\\"x\\\",\\\"marker\\\":{\\\"color\\\":\\\"#00cc96\\\"},\\\"y\\\":[12.704882907115945],\\\"type\\\":\\\"scatter\\\",\\\"name\\\":\\\"MCF7A-repro\\\",\\\"yaxis\\\":\\\"y\\\",\\\"legendgroup\\\":\\\"MCF7A-repro\\\",\\\"x\\\":[38.28460163023954]},{\\\"showlegend\\\":true,\\\"mode\\\":\\\"markers\\\",\\\"xaxis\\\":\\\"x\\\",\\\"marker\\\":{\\\"color\\\":\\\"#ab63fa\\\"},\\\"y\\\":[7.608483681568173],\\\"type\\\":\\\"scatter\\\",\\\"name\\\":\\\"MCF7D-repro\\\",\\\"yaxis\\\":\\\"y\\\",\\\"legendgroup\\\":\\\"MCF7D-repro\\\",\\\"x\\\":[30.48200389967615]},{\\\"showlegend\\\":true,\\\"mode\\\":\\\"markers\\\",\\\"xaxis\\\":\\\"x\\\",\\\"marker\\\":{\\\"color\\\":\\\"#FF6692\\\"},\\\"y\\\":[2.8597761364232834,-52.93097568322607,-39.987112224158565,-46.87187942847119,-41.977718516357136,-35.81888081679257,-50.00315286639525,-34.849752759865275],\\\"type\\\":\\\"scatter\\\",\\\"name\\\":\\\"MELANOMA\\\",\\\"yaxis\\\":\\\"y\\\",\\\"legendgroup\\\":\\\"MELANOMA\\\",\\\"x\\\":[-2.8978540130434376,-2.552418991643252,-17.797820517094657,-17.85509266378033,-4.38087819383377,-22.786851524860552,-19.02560482532551,-13.129080987274357]},{\\\"showlegend\\\":true,\\\"mode\\\":\\\"markers\\\",\\\"xaxis\\\":\\\"x\\\",\\\"marker\\\":{\\\"color\\\":\\\"#ab63fa\\\"},\\\"y\\\":[15.983079825896581,23.80501522192393,4.5015872702052135,4.934883164819074,12.017892425489345,4.016747048562943,17.449253027001586,2.7144724770279147,3.1143624812656725],\\\"type\\\":\\\"scatter\\\",\\\"name\\\":\\\"NSCLC\\\",\\\"yaxis\\\":\\\"y\\\",\\\"legendgroup\\\":\\\"NSCLC\\\",\\\"x\\\":[-14.1778411790914,-29.5147954305687,-33.76781954543095,-19.88560011926893,-4.2157125570161,0.8420951909436538,0.2350255824904675,7.403549771601731,14.610210899462915]},{\\\"showlegend\\\":true,\\\"mode\\\":\\\"markers\\\",\\\"xaxis\\\":\\\"x\\\",\\\"marker\\\":{\\\"color\\\":\\\"#19d3f3\\\"},\\\"y\\\":[25.588347447257718,8.715029434819932,6.763873835819412,7.516467529672916,24.561708676379865,15.345036616816076],\\\"type\\\":\\\"scatter\\\",\\\"name\\\":\\\"OVARIAN\\\",\\\"yaxis\\\":\\\"y\\\",\\\"legendgroup\\\":\\\"OVARIAN\\\",\\\"x\\\":[-9.785373387753747,3.973930438809984,-13.003228410975584,3.9985577270870527,-11.99620716169582,-4.888730131476876]},{\\\"showlegend\\\":true,\\\"mode\\\":\\\"markers\\\",\\\"xaxis\\\":\\\"x\\\",\\\"marker\\\":{\\\"color\\\":\\\"#B6E880\\\"},\\\"y\\\":[2.2719939046124304,14.846335853515317],\\\"type\\\":\\\"scatter\\\",\\\"name\\\":\\\"PROSTATE\\\",\\\"yaxis\\\":\\\"y\\\",\\\"legendgroup\\\":\\\"PROSTATE\\\",\\\"x\\\":[4.4607879282501965,-5.321520794430998]},{\\\"showlegend\\\":true,\\\"mode\\\":\\\"markers\\\",\\\"xaxis\\\":\\\"x\\\",\\\"marker\\\":{\\\"color\\\":\\\"#EF553B\\\"},\\\"y\\\":[-9.69174249480422,9.804459028350754,9.668012777735914,14.83271776799413,16.720194793034192,18.034590465193144,23.697856529060303,24.257701773642832,5.245299851455773],\\\"type\\\":\\\"scatter\\\",\\\"name\\\":\\\"RENAL\\\",\\\"yaxis\\\":\\\"y\\\",\\\"legendgroup\\\":\\\"RENAL\\\",\\\"x\\\":[-42.4809775873898,-30.505768998990934,-34.14441087797285,-16.902721053364065,-25.023692790405075,-28.901035238489943,-21.73867591747836,-13.295126914105682,-16.601644294575088]},{\\\"showlegend\\\":true,\\\"mode\\\":\\\"markers\\\",\\\"xaxis\\\":\\\"x\\\",\\\"marker\\\":{\\\"color\\\":\\\"#FFA15A\\\"},\\\"y\\\":[15.765255033024333],\\\"type\\\":\\\"scatter\\\",\\\"name\\\":\\\"UNKNOWN\\\",\\\"yaxis\\\":\\\"y\\\",\\\"legendgroup\\\":\\\"UNKNOWN\\\",\\\"x\\\":[-4.615354816531049]}],{\\\"xaxis\\\":{\\\"title\\\":{\\\"text\\\":\\\"Principal Component 1\\\"}},\\\"template\\\":{\\\"layout\\\":{\\\"coloraxis\\\":{\\\"colorbar\\\":{\\\"ticks\\\":\\\"\\\",\\\"outlinewidth\\\":0}},\\\"xaxis\\\":{\\\"gridcolor\\\":\\\"white\\\",\\\"zerolinewidth\\\":2,\\\"title\\\":{\\\"standoff\\\":15},\\\"ticks\\\":\\\"\\\",\\\"zerolinecolor\\\":\\\"white\\\",\\\"automargin\\\":true,\\\"linecolor\\\":\\\"white\\\"},\\\"hovermode\\\":\\\"closest\\\",\\\"paper_bgcolor\\\":\\\"white\\\",\\\"geo\\\":{\\\"showlakes\\\":true,\\\"showland\\\":true,\\\"landcolor\\\":\\\"#E5ECF6\\\",\\\"bgcolor\\\":\\\"white\\\",\\\"subunitcolor\\\":\\\"white\\\",\\\"lakecolor\\\":\\\"white\\\"},\\\"colorscale\\\":{\\\"sequential\\\":[[0.0,\\\"#0d0887\\\"],[0.1111111111111111,\\\"#46039f\\\"],[0.2222222222222222,\\\"#7201a8\\\"],[0.3333333333333333,\\\"#9c179e\\\"],[0.4444444444444444,\\\"#bd3786\\\"],[0.5555555555555556,\\\"#d8576b\\\"],[0.6666666666666666,\\\"#ed7953\\\"],[0.7777777777777778,\\\"#fb9f3a\\\"],[0.8888888888888888,\\\"#fdca26\\\"],[1.0,\\\"#f0f921\\\"]],\\\"diverging\\\":[[0,\\\"#8e0152\\\"],[0.1,\\\"#c51b7d\\\"],[0.2,\\\"#de77ae\\\"],[0.3,\\\"#f1b6da\\\"],[0.4,\\\"#fde0ef\\\"],[0.5,\\\"#f7f7f7\\\"],[0.6,\\\"#e6f5d0\\\"],[0.7,\\\"#b8e186\\\"],[0.8,\\\"#7fbc41\\\"],[0.9,\\\"#4d9221\\\"],[1,\\\"#276419\\\"]],\\\"sequentialminus\\\":[[0.0,\\\"#0d0887\\\"],[0.1111111111111111,\\\"#46039f\\\"],[0.2222222222222222,\\\"#7201a8\\\"],[0.3333333333333333,\\\"#9c179e\\\"],[0.4444444444444444,\\\"#bd3786\\\"],[0.5555555555555556,\\\"#d8576b\\\"],[0.6666666666666666,\\\"#ed7953\\\"],[0.7777777777777778,\\\"#fb9f3a\\\"],[0.8888888888888888,\\\"#fdca26\\\"],[1.0,\\\"#f0f921\\\"]]},\\\"yaxis\\\":{\\\"gridcolor\\\":\\\"white\\\",\\\"zerolinewidth\\\":2,\\\"title\\\":{\\\"standoff\\\":15},\\\"ticks\\\":\\\"\\\",\\\"zerolinecolor\\\":\\\"white\\\",\\\"automargin\\\":true,\\\"linecolor\\\":\\\"white\\\"},\\\"shapedefaults\\\":{\\\"line\\\":{\\\"color\\\":\\\"#2a3f5f\\\"}},\\\"hoverlabel\\\":{\\\"align\\\":\\\"left\\\"},\\\"mapbox\\\":{\\\"style\\\":\\\"light\\\"},\\\"polar\\\":{\\\"angularaxis\\\":{\\\"gridcolor\\\":\\\"white\\\",\\\"ticks\\\":\\\"\\\",\\\"linecolor\\\":\\\"white\\\"},\\\"bgcolor\\\":\\\"#E5ECF6\\\",\\\"radialaxis\\\":{\\\"gridcolor\\\":\\\"white\\\",\\\"ticks\\\":\\\"\\\",\\\"linecolor\\\":\\\"white\\\"}},\\\"autotypenumbers\\\":\\\"strict\\\",\\\"font\\\":{\\\"color\\\":\\\"#2a3f5f\\\"},\\\"ternary\\\":{\\\"baxis\\\":{\\\"gridcolor\\\":\\\"white\\\",\\\"ticks\\\":\\\"\\\",\\\"linecolor\\\":\\\"white\\\"},\\\"bgcolor\\\":\\\"#E5ECF6\\\",\\\"caxis\\\":{\\\"gridcolor\\\":\\\"white\\\",\\\"ticks\\\":\\\"\\\",\\\"linecolor\\\":\\\"white\\\"},\\\"aaxis\\\":{\\\"gridcolor\\\":\\\"white\\\",\\\"ticks\\\":\\\"\\\",\\\"linecolor\\\":\\\"white\\\"}},\\\"annotationdefaults\\\":{\\\"arrowhead\\\":0,\\\"arrowwidth\\\":1,\\\"arrowcolor\\\":\\\"#2a3f5f\\\"},\\\"plot_bgcolor\\\":\\\"#E5ECF6\\\",\\\"title\\\":{\\\"x\\\":0.05},\\\"scene\\\":{\\\"xaxis\\\":{\\\"gridcolor\\\":\\\"white\\\",\\\"gridwidth\\\":2,\\\"backgroundcolor\\\":\\\"#E5ECF6\\\",\\\"ticks\\\":\\\"\\\",\\\"showbackground\\\":true,\\\"zerolinecolor\\\":\\\"white\\\",\\\"linecolor\\\":\\\"white\\\"},\\\"zaxis\\\":{\\\"gridcolor\\\":\\\"white\\\",\\\"gridwidth\\\":2,\\\"backgroundcolor\\\":\\\"#E5ECF6\\\",\\\"ticks\\\":\\\"\\\",\\\"showbackground\\\":true,\\\"zerolinecolor\\\":\\\"white\\\",\\\"linecolor\\\":\\\"white\\\"},\\\"yaxis\\\":{\\\"gridcolor\\\":\\\"white\\\",\\\"gridwidth\\\":2,\\\"backgroundcolor\\\":\\\"#E5ECF6\\\",\\\"ticks\\\":\\\"\\\",\\\"showbackground\\\":true,\\\"zerolinecolor\\\":\\\"white\\\",\\\"linecolor\\\":\\\"white\\\"}},\\\"colorway\\\":[\\\"#636efa\\\",\\\"#EF553B\\\",\\\"#00cc96\\\",\\\"#ab63fa\\\",\\\"#FFA15A\\\",\\\"#19d3f3\\\",\\\"#FF6692\\\",\\\"#B6E880\\\",\\\"#FF97FF\\\",\\\"#FECB52\\\"]},\\\"data\\\":{\\\"barpolar\\\":[{\\\"type\\\":\\\"barpolar\\\",\\\"marker\\\":{\\\"line\\\":{\\\"color\\\":\\\"#E5ECF6\\\",\\\"width\\\":0.5}}}],\\\"carpet\\\":[{\\\"aaxis\\\":{\\\"gridcolor\\\":\\\"white\\\",\\\"endlinecolor\\\":\\\"#2a3f5f\\\",\\\"minorgridcolor\\\":\\\"white\\\",\\\"startlinecolor\\\":\\\"#2a3f5f\\\",\\\"linecolor\\\":\\\"white\\\"},\\\"type\\\":\\\"carpet\\\",\\\"baxis\\\":{\\\"gridcolor\\\":\\\"white\\\",\\\"endlinecolor\\\":\\\"#2a3f5f\\\",\\\"minorgridcolor\\\":\\\"white\\\",\\\"startlinecolor\\\":\\\"#2a3f5f\\\",\\\"linecolor\\\":\\\"white\\\"}}],\\\"scatterpolar\\\":[{\\\"type\\\":\\\"scatterpolar\\\",\\\"marker\\\":{\\\"colorbar\\\":{\\\"ticks\\\":\\\"\\\",\\\"outlinewidth\\\":0}}}],\\\"parcoords\\\":[{\\\"line\\\":{\\\"colorbar\\\":{\\\"ticks\\\":\\\"\\\",\\\"outlinewidth\\\":0}},\\\"type\\\":\\\"parcoords\\\"}],\\\"scatter\\\":[{\\\"type\\\":\\\"scatter\\\",\\\"marker\\\":{\\\"colorbar\\\":{\\\"ticks\\\":\\\"\\\",\\\"outlinewidth\\\":0}}}],\\\"histogram2dcontour\\\":[{\\\"colorbar\\\":{\\\"ticks\\\":\\\"\\\",\\\"outlinewidth\\\":0},\\\"type\\\":\\\"histogram2dcontour\\\",\\\"colorscale\\\":[[0.0,\\\"#0d0887\\\"],[0.1111111111111111,\\\"#46039f\\\"],[0.2222222222222222,\\\"#7201a8\\\"],[0.3333333333333333,\\\"#9c179e\\\"],[0.4444444444444444,\\\"#bd3786\\\"],[0.5555555555555556,\\\"#d8576b\\\"],[0.6666666666666666,\\\"#ed7953\\\"],[0.7777777777777778,\\\"#fb9f3a\\\"],[0.8888888888888888,\\\"#fdca26\\\"],[1.0,\\\"#f0f921\\\"]]}],\\\"contour\\\":[{\\\"colorbar\\\":{\\\"ticks\\\":\\\"\\\",\\\"outlinewidth\\\":0},\\\"type\\\":\\\"contour\\\",\\\"colorscale\\\":[[0.0,\\\"#0d0887\\\"],[0.1111111111111111,\\\"#46039f\\\"],[0.2222222222222222,\\\"#7201a8\\\"],[0.3333333333333333,\\\"#9c179e\\\"],[0.4444444444444444,\\\"#bd3786\\\"],[0.5555555555555556,\\\"#d8576b\\\"],[0.6666666666666666,\\\"#ed7953\\\"],[0.7777777777777778,\\\"#fb9f3a\\\"],[0.8888888888888888,\\\"#fdca26\\\"],[1.0,\\\"#f0f921\\\"]]}],\\\"scattercarpet\\\":[{\\\"type\\\":\\\"scattercarpet\\\",\\\"marker\\\":{\\\"colorbar\\\":{\\\"ticks\\\":\\\"\\\",\\\"outlinewidth\\\":0}}}],\\\"mesh3d\\\":[{\\\"colorbar\\\":{\\\"ticks\\\":\\\"\\\",\\\"outlinewidth\\\":0},\\\"type\\\":\\\"mesh3d\\\"}],\\\"surface\\\":[{\\\"colorbar\\\":{\\\"ticks\\\":\\\"\\\",\\\"outlinewidth\\\":0},\\\"type\\\":\\\"surface\\\",\\\"colorscale\\\":[[0.0,\\\"#0d0887\\\"],[0.1111111111111111,\\\"#46039f\\\"],[0.2222222222222222,\\\"#7201a8\\\"],[0.3333333333333333,\\\"#9c179e\\\"],[0.4444444444444444,\\\"#bd3786\\\"],[0.5555555555555556,\\\"#d8576b\\\"],[0.6666666666666666,\\\"#ed7953\\\"],[0.7777777777777778,\\\"#fb9f3a\\\"],[0.8888888888888888,\\\"#fdca26\\\"],[1.0,\\\"#f0f921\\\"]]}],\\\"scattermapbox\\\":[{\\\"type\\\":\\\"scattermapbox\\\",\\\"marker\\\":{\\\"colorbar\\\":{\\\"ticks\\\":\\\"\\\",\\\"outlinewidth\\\":0}}}],\\\"scattergeo\\\":[{\\\"type\\\":\\\"scattergeo\\\",\\\"marker\\\":{\\\"colorbar\\\":{\\\"ticks\\\":\\\"\\\",\\\"outlinewidth\\\":0}}}],\\\"histogram\\\":[{\\\"type\\\":\\\"histogram\\\",\\\"marker\\\":{\\\"colorbar\\\":{\\\"ticks\\\":\\\"\\\",\\\"outlinewidth\\\":0}}}],\\\"pie\\\":[{\\\"type\\\":\\\"pie\\\",\\\"automargin\\\":true}],\\\"choropleth\\\":[{\\\"colorbar\\\":{\\\"ticks\\\":\\\"\\\",\\\"outlinewidth\\\":0},\\\"type\\\":\\\"choropleth\\\"}],\\\"heatmapgl\\\":[{\\\"colorbar\\\":{\\\"ticks\\\":\\\"\\\",\\\"outlinewidth\\\":0},\\\"type\\\":\\\"heatmapgl\\\",\\\"colorscale\\\":[[0.0,\\\"#0d0887\\\"],[0.1111111111111111,\\\"#46039f\\\"],[0.2222222222222222,\\\"#7201a8\\\"],[0.3333333333333333,\\\"#9c179e\\\"],[0.4444444444444444,\\\"#bd3786\\\"],[0.5555555555555556,\\\"#d8576b\\\"],[0.6666666666666666,\\\"#ed7953\\\"],[0.7777777777777778,\\\"#fb9f3a\\\"],[0.8888888888888888,\\\"#fdca26\\\"],[1.0,\\\"#f0f921\\\"]]}],\\\"bar\\\":[{\\\"type\\\":\\\"bar\\\",\\\"error_y\\\":{\\\"color\\\":\\\"#2a3f5f\\\"},\\\"error_x\\\":{\\\"color\\\":\\\"#2a3f5f\\\"},\\\"marker\\\":{\\\"line\\\":{\\\"color\\\":\\\"#E5ECF6\\\",\\\"width\\\":0.5}}}],\\\"heatmap\\\":[{\\\"colorbar\\\":{\\\"ticks\\\":\\\"\\\",\\\"outlinewidth\\\":0},\\\"type\\\":\\\"heatmap\\\",\\\"colorscale\\\":[[0.0,\\\"#0d0887\\\"],[0.1111111111111111,\\\"#46039f\\\"],[0.2222222222222222,\\\"#7201a8\\\"],[0.3333333333333333,\\\"#9c179e\\\"],[0.4444444444444444,\\\"#bd3786\\\"],[0.5555555555555556,\\\"#d8576b\\\"],[0.6666666666666666,\\\"#ed7953\\\"],[0.7777777777777778,\\\"#fb9f3a\\\"],[0.8888888888888888,\\\"#fdca26\\\"],[1.0,\\\"#f0f921\\\"]]}],\\\"contourcarpet\\\":[{\\\"colorbar\\\":{\\\"ticks\\\":\\\"\\\",\\\"outlinewidth\\\":0},\\\"type\\\":\\\"contourcarpet\\\"}],\\\"table\\\":[{\\\"type\\\":\\\"table\\\",\\\"header\\\":{\\\"line\\\":{\\\"color\\\":\\\"white\\\"},\\\"fill\\\":{\\\"color\\\":\\\"#C8D4E3\\\"}},\\\"cells\\\":{\\\"line\\\":{\\\"color\\\":\\\"white\\\"},\\\"fill\\\":{\\\"color\\\":\\\"#EBF0F8\\\"}}}],\\\"scatter3d\\\":[{\\\"line\\\":{\\\"colorbar\\\":{\\\"ticks\\\":\\\"\\\",\\\"outlinewidth\\\":0}},\\\"type\\\":\\\"scatter3d\\\",\\\"marker\\\":{\\\"colorbar\\\":{\\\"ticks\\\":\\\"\\\",\\\"outlinewidth\\\":0}}}],\\\"scattergl\\\":[{\\\"type\\\":\\\"scattergl\\\",\\\"marker\\\":{\\\"colorbar\\\":{\\\"ticks\\\":\\\"\\\",\\\"outlinewidth\\\":0}}}],\\\"histogram2d\\\":[{\\\"colorbar\\\":{\\\"ticks\\\":\\\"\\\",\\\"outlinewidth\\\":0},\\\"type\\\":\\\"histogram2d\\\",\\\"colorscale\\\":[[0.0,\\\"#0d0887\\\"],[0.1111111111111111,\\\"#46039f\\\"],[0.2222222222222222,\\\"#7201a8\\\"],[0.3333333333333333,\\\"#9c179e\\\"],[0.4444444444444444,\\\"#bd3786\\\"],[0.5555555555555556,\\\"#d8576b\\\"],[0.6666666666666666,\\\"#ed7953\\\"],[0.7777777777777778,\\\"#fb9f3a\\\"],[0.8888888888888888,\\\"#fdca26\\\"],[1.0,\\\"#f0f921\\\"]]}],\\\"scatterternary\\\":[{\\\"type\\\":\\\"scatterternary\\\",\\\"marker\\\":{\\\"colorbar\\\":{\\\"ticks\\\":\\\"\\\",\\\"outlinewidth\\\":0}}}],\\\"scatterpolargl\\\":[{\\\"type\\\":\\\"scatterpolargl\\\",\\\"marker\\\":{\\\"colorbar\\\":{\\\"ticks\\\":\\\"\\\",\\\"outlinewidth\\\":0}}}]}},\\\"legend\\\":{\\\"tracegroupgap\\\":0,\\\"title\\\":{\\\"text\\\":\\\"x2\\\"}},\\\"margin\\\":{\\\"l\\\":50,\\\"b\\\":50,\\\"r\\\":50,\\\"t\\\":60},\\\"yaxis\\\":{\\\"title\\\":{\\\"text\\\":\\\"Principal Component 2\\\"}}},{\\\"showLink\\\":false,\\\"editable\\\":false,\\\"responsive\\\":true,\\\"staticPlot\\\":false,\\\"scrollZoom\\\":true}); gd.on(\\\"plotly_hover\\\",(function (data){var filtered_data=WebIO.PlotlyCommands.filterEventData(gd,data,\\\"hover\\\"); return !(filtered_data.isnil) ? (WebIO.setval({\\\"name\\\":\\\"hover\\\",\\\"scope\\\":\\\"13222546810420754118\\\",\\\"id\\\":\\\"10711564843487667216\\\",\\\"type\\\":\\\"observable\\\"},filtered_data.out)) : undefined})); gd.on(\\\"plotly_unhover\\\",(function (){return WebIO.setval({\\\"name\\\":\\\"hover\\\",\\\"scope\\\":\\\"13222546810420754118\\\",\\\"id\\\":\\\"10711564843487667216\\\",\\\"type\\\":\\\"observable\\\"},{})})); gd.on(\\\"plotly_selected\\\",(function (data){var filtered_data=WebIO.PlotlyCommands.filterEventData(gd,data,\\\"selected\\\"); return !(filtered_data.isnil) ? (WebIO.setval({\\\"name\\\":\\\"selected\\\",\\\"scope\\\":\\\"13222546810420754118\\\",\\\"id\\\":\\\"9751489201827702401\\\",\\\"type\\\":\\\"observable\\\"},filtered_data.out)) : undefined})); gd.on(\\\"plotly_deselect\\\",(function (){return WebIO.setval({\\\"name\\\":\\\"selected\\\",\\\"scope\\\":\\\"13222546810420754118\\\",\\\"id\\\":\\\"9751489201827702401\\\",\\\"type\\\":\\\"observable\\\"},{})})); gd.on(\\\"plotly_relayout\\\",(function (data){var filtered_data=WebIO.PlotlyCommands.filterEventData(gd,data,\\\"relayout\\\"); return !(filtered_data.isnil) ? (WebIO.setval({\\\"name\\\":\\\"relayout\\\",\\\"scope\\\":\\\"13222546810420754118\\\",\\\"id\\\":\\\"16284407475976954781\\\",\\\"type\\\":\\\"observable\\\"},filtered_data.out)) : undefined})); return gd.on(\\\"plotly_click\\\",(function (data){var filtered_data=WebIO.PlotlyCommands.filterEventData(gd,data,\\\"click\\\"); return !(filtered_data.isnil) ? (WebIO.setval({\\\"name\\\":\\\"click\\\",\\\"scope\\\":\\\"13222546810420754118\\\",\\\"id\\\":\\\"1483733702864632094\\\",\\\"type\\\":\\\"observable\\\"},filtered_data.out)) : undefined}))}));\\n    (WebIO.importBlock({\\\"data\\\":[{\\\"name\\\":\\\"Plotly\\\",\\\"type\\\":\\\"js\\\",\\\"url\\\":\\\"\\/assetserver\\/597d3e3981791f3da20e7b96cab90ffffca4599e-plotly.min.js\\\"},{\\\"name\\\":null,\\\"type\\\":\\\"js\\\",\\\"url\\\":\\\"\\/assetserver\\/d21cc61a8b26f5a8d90707d16621e32300c2e5ed-plotly_webio.bundle.js\\\"}],\\\"type\\\":\\\"async_block\\\"})).then((imports) => handler.apply(this, imports));\\n}\\n\"],\"observables\":{\"_toImage\":{\"sync\":false,\"id\":\"423858352084906126\",\"value\":{}},\"hover\":{\"sync\":false,\"id\":\"10711564843487667216\",\"value\":{}},\"selected\":{\"sync\":false,\"id\":\"9751489201827702401\",\"value\":{}},\"__gd_contents\":{\"sync\":false,\"id\":\"15945214213881353082\",\"value\":{}},\"click\":{\"sync\":false,\"id\":\"1483733702864632094\",\"value\":{}},\"image\":{\"sync\":true,\"id\":\"2642821952119577092\",\"value\":\"\"},\"__get_gd_contents\":{\"sync\":false,\"id\":\"9870147515352506512\",\"value\":\"\"},\"_downloadImage\":{\"sync\":false,\"id\":\"5614482992797584817\",\"value\":{}},\"relayout\":{\"sync\":false,\"id\":\"16284407475976954781\",\"value\":{}},\"_commands\":{\"sync\":false,\"id\":\"2267207856963207773\",\"value\":[]}}},\"children\":[{\"props\":{\"id\":\"plot-4b4b27aa-b357-45c9-8dbb-2928ec1525b7\"},\"nodeType\":\"DOM\",\"type\":\"node\",\"instanceArgs\":{\"namespace\":\"html\",\"tag\":\"div\"},\"children\":[]}]},\n",
       "        window,\n",
       "    );\n",
       "    })()\n",
       "    </script>\n",
       "</div>\n"
      ],
      "text/plain": [
       "data: [\n",
       "  \"scatter with fields legendgroup, marker, mode, name, showlegend, type, x, xaxis, y, and yaxis\",\n",
       "  \"scatter with fields legendgroup, marker, mode, name, showlegend, type, x, xaxis, y, and yaxis\",\n",
       "  \"scatter with fields legendgroup, marker, mode, name, showlegend, type, x, xaxis, y, and yaxis\",\n",
       "  \"scatter with fields legendgroup, marker, mode, name, showlegend, type, x, xaxis, y, and yaxis\",\n",
       "  \"scatter with fields legendgroup, marker, mode, name, showlegend, type, x, xaxis, y, and yaxis\",\n",
       "  \"scatter with fields legendgroup, marker, mode, name, showlegend, type, x, xaxis, y, and yaxis\",\n",
       "  \"scatter with fields legendgroup, marker, mode, name, showlegend, type, x, xaxis, y, and yaxis\",\n",
       "  \"scatter with fields legendgroup, marker, mode, name, showlegend, type, x, xaxis, y, and yaxis\",\n",
       "  \"scatter with fields legendgroup, marker, mode, name, showlegend, type, x, xaxis, y, and yaxis\",\n",
       "  \"scatter with fields legendgroup, marker, mode, name, showlegend, type, x, xaxis, y, and yaxis\",\n",
       "  \"scatter with fields legendgroup, marker, mode, name, showlegend, type, x, xaxis, y, and yaxis\",\n",
       "  \"scatter with fields legendgroup, marker, mode, name, showlegend, type, x, xaxis, y, and yaxis\",\n",
       "  \"scatter with fields legendgroup, marker, mode, name, showlegend, type, x, xaxis, y, and yaxis\",\n",
       "  \"scatter with fields legendgroup, marker, mode, name, showlegend, type, x, xaxis, y, and yaxis\"\n",
       "]\n",
       "\n",
       "layout: \"layout with fields legend, margin, template, xaxis, and yaxis\"\n",
       "\n"
      ]
     },
     "execution_count": 22,
     "metadata": {},
     "output_type": "execute_result"
    }
   ],
   "source": [
    "PlotlyJS.plot(\n",
    "    df3_pca, x=:x1, y=:x2, color=:y,\n",
    "    mode=\"markers\",\n",
    "    Layout(yaxis_title=\"Principal Component 2\", xaxis_title=\"Principal Component 1\")\n",
    ")"
   ]
  },
  {
   "cell_type": "code",
   "execution_count": 23,
   "id": "4425985a",
   "metadata": {},
   "outputs": [
    {
     "data": {
      "application/vnd.plotly.v1+json": {
       "config": {
        "editable": false,
        "responsive": true,
        "scrollZoom": true,
        "showLink": false,
        "staticPlot": false
       },
       "data": [
        {
         "legendgroup": "BREAST",
         "marker": {
          "color": "#00cc96"
         },
         "mode": "markers",
         "name": "BREAST",
         "showlegend": true,
         "type": "scatter",
         "x": [
          -54.98386798047831,
          -22.157176644688956,
          -17.578659532214736,
          35.51563653257484,
          11.593386950152919,
          -8.874666996687203,
          -5.284475477028772
         ],
         "xaxis": "x",
         "y": [
          -20.92910760044913,
          -18.61003627471605,
          -24.79545060217915,
          46.52209917808839,
          39.05114603311826,
          1.1184903194521776,
          6.093636772534747
         ],
         "yaxis": "y"
        },
        {
         "legendgroup": "CNS",
         "marker": {
          "color": "#636efa"
         },
         "mode": "markers",
         "name": "CNS",
         "showlegend": true,
         "type": "scatter",
         "x": [
          -19.682446802574514,
          -22.908120228531548,
          -27.240769014348853,
          -26.964881646047406,
          -31.19929954046203
         ],
         "xaxis": "x",
         "y": [
          -9.735438213904631,
          -13.37253777370609,
          -3.505343682403598,
          -21.64229241433766,
          -30.116457313876097
         ],
         "yaxis": "y"
        },
        {
         "legendgroup": "COLON",
         "marker": {
          "color": "#EF553B"
         },
         "mode": "markers",
         "name": "COLON",
         "showlegend": true,
         "type": "scatter",
         "x": [
          14.851402509542073,
          36.91681485555582,
          26.57337081248241,
          19.797371890473325,
          18.063521622301607,
          28.840217455213033,
          20.931875685302682
         ],
         "xaxis": "x",
         "y": [
          6.555086825281568,
          7.406759884218081,
          13.274090457560604,
          19.33927300867544,
          19.262186718156975,
          35.10928406405945,
          18.282654706735826
         ],
         "yaxis": "y"
        },
        {
         "legendgroup": "K562A-repro",
         "marker": {
          "color": "#636efa"
         },
         "mode": "markers",
         "name": "K562A-repro",
         "showlegend": true,
         "type": "scatter",
         "x": [
          55.215240045161806
         ],
         "xaxis": "x",
         "y": [
          -36.551642480766475
         ],
         "yaxis": "y"
        },
        {
         "legendgroup": "K562B-repro",
         "marker": {
          "color": "#FECB52"
         },
         "mode": "markers",
         "name": "K562B-repro",
         "showlegend": true,
         "type": "scatter",
         "x": [
          51.53209899820959
         ],
         "xaxis": "x",
         "y": [
          -35.65861572018338
         ],
         "yaxis": "y"
        },
        {
         "legendgroup": "LEUKEMIA",
         "marker": {
          "color": "#FF97FF"
         },
         "mode": "markers",
         "name": "LEUKEMIA",
         "showlegend": true,
         "type": "scatter",
         "x": [
          26.536088498352832,
          58.00527058293026,
          55.181144189979804,
          69.23064534455159,
          59.46304046454735,
          25.52831328103651
         ],
         "xaxis": "x",
         "y": [
          -4.7133110379950125,
          -39.79869604792751,
          -20.459825688135528,
          -30.989102687454213,
          -25.605274440031717,
          -24.499769326352105
         ],
         "yaxis": "y"
        },
        {
         "legendgroup": "MCF7A-repro",
         "marker": {
          "color": "#00cc96"
         },
         "mode": "markers",
         "name": "MCF7A-repro",
         "showlegend": true,
         "type": "scatter",
         "x": [
          38.28460163023954
         ],
         "xaxis": "x",
         "y": [
          44.987221240672156
         ],
         "yaxis": "y"
        },
        {
         "legendgroup": "MCF7D-repro",
         "marker": {
          "color": "#ab63fa"
         },
         "mode": "markers",
         "name": "MCF7D-repro",
         "showlegend": true,
         "type": "scatter",
         "x": [
          30.48200389967615
         ],
         "xaxis": "x",
         "y": [
          41.35899689000781
         ],
         "yaxis": "y"
        },
        {
         "legendgroup": "MELANOMA",
         "marker": {
          "color": "#FF6692"
         },
         "mode": "markers",
         "name": "MELANOMA",
         "showlegend": true,
         "type": "scatter",
         "x": [
          -2.8978540130434376,
          -2.552418991643252,
          -17.797820517094657,
          -17.85509266378033,
          -4.38087819383377,
          -22.786851524860552,
          -19.02560482532551,
          -13.129080987274357
         ],
         "xaxis": "x",
         "y": [
          -13.271722201361284,
          17.20266134494462,
          8.96604990038395,
          5.356595250581851,
          8.646827955827108,
          17.974485641499307,
          4.178123372393644,
          3.406624173034565
         ],
         "yaxis": "y"
        },
        {
         "legendgroup": "NSCLC",
         "marker": {
          "color": "#ab63fa"
         },
         "mode": "markers",
         "name": "NSCLC",
         "showlegend": true,
         "type": "scatter",
         "x": [
          -14.1778411790914,
          -29.5147954305687,
          -33.76781954543095,
          -19.88560011926893,
          -4.2157125570161,
          0.8420951909436538,
          0.2350255824904675,
          7.403549771601731,
          14.610210899462915
         ],
         "xaxis": "x",
         "y": [
          -19.602475563099482,
          -5.839705907932526,
          0.05418248158504699,
          14.005169704062032,
          7.426100387808434,
          8.280319621892877,
          25.68126967623035,
          4.249840125464499,
          -9.830206586878232
         ],
         "yaxis": "y"
        },
        {
         "legendgroup": "OVARIAN",
         "marker": {
          "color": "#19d3f3"
         },
         "mode": "markers",
         "name": "OVARIAN",
         "showlegend": true,
         "type": "scatter",
         "x": [
          -9.785373387753747,
          3.973930438809984,
          -13.003228410975584,
          3.9985577270870527,
          -11.99620716169582,
          -4.888730131476876
         ],
         "xaxis": "x",
         "y": [
          -23.23213409643155,
          12.025918209913302,
          14.636870126670418,
          5.513022956352767,
          1.3482543791731043,
          15.80773445674439
         ],
         "yaxis": "y"
        },
        {
         "legendgroup": "PROSTATE",
         "marker": {
          "color": "#B6E880"
         },
         "mode": "markers",
         "name": "PROSTATE",
         "showlegend": true,
         "type": "scatter",
         "x": [
          4.4607879282501965,
          -5.321520794430998
         ],
         "xaxis": "x",
         "y": [
          -1.5715622451945488,
          4.611264875516775
         ],
         "yaxis": "y"
        },
        {
         "legendgroup": "RENAL",
         "marker": {
          "color": "#EF553B"
         },
         "mode": "markers",
         "name": "RENAL",
         "showlegend": true,
         "type": "scatter",
         "x": [
          -42.4809775873898,
          -30.505768998990934,
          -34.14441087797285,
          -16.902721053364065,
          -25.023692790405075,
          -28.901035238489943,
          -21.73867591747836,
          -13.295126914105682,
          -16.601644294575088
         ],
         "xaxis": "x",
         "y": [
          -0.8830921064176769,
          7.920315060142637,
          -6.709445701409049,
          -9.708102506549963,
          6.16719888581523,
          -0.6424377874201411,
          3.1621870853798772,
          -4.128616812226333,
          -24.541826427006967
         ],
         "yaxis": "y"
        },
        {
         "legendgroup": "UNKNOWN",
         "marker": {
          "color": "#FFA15A"
         },
         "mode": "markers",
         "name": "UNKNOWN",
         "showlegend": true,
         "type": "scatter",
         "x": [
          -4.615354816531049
         ],
         "xaxis": "x",
         "y": [
          -14.03771252363215
         ],
         "yaxis": "y"
        }
       ],
       "frames": [],
       "layout": {
        "legend": {
         "title": {
          "text": "x3"
         },
         "tracegroupgap": 0
        },
        "margin": {
         "b": 50,
         "l": 50,
         "r": 50,
         "t": 60
        },
        "template": {
         "data": {
          "bar": [
           {
            "error_x": {
             "color": "#2a3f5f"
            },
            "error_y": {
             "color": "#2a3f5f"
            },
            "marker": {
             "line": {
              "color": "#E5ECF6",
              "width": 0.5
             }
            },
            "type": "bar"
           }
          ],
          "barpolar": [
           {
            "marker": {
             "line": {
              "color": "#E5ECF6",
              "width": 0.5
             }
            },
            "type": "barpolar"
           }
          ],
          "carpet": [
           {
            "aaxis": {
             "endlinecolor": "#2a3f5f",
             "gridcolor": "white",
             "linecolor": "white",
             "minorgridcolor": "white",
             "startlinecolor": "#2a3f5f"
            },
            "baxis": {
             "endlinecolor": "#2a3f5f",
             "gridcolor": "white",
             "linecolor": "white",
             "minorgridcolor": "white",
             "startlinecolor": "#2a3f5f"
            },
            "type": "carpet"
           }
          ],
          "choropleth": [
           {
            "colorbar": {
             "outlinewidth": 0,
             "ticks": ""
            },
            "type": "choropleth"
           }
          ],
          "contour": [
           {
            "colorbar": {
             "outlinewidth": 0,
             "ticks": ""
            },
            "colorscale": [
             [
              0,
              "#0d0887"
             ],
             [
              0.1111111111111111,
              "#46039f"
             ],
             [
              0.2222222222222222,
              "#7201a8"
             ],
             [
              0.3333333333333333,
              "#9c179e"
             ],
             [
              0.4444444444444444,
              "#bd3786"
             ],
             [
              0.5555555555555556,
              "#d8576b"
             ],
             [
              0.6666666666666666,
              "#ed7953"
             ],
             [
              0.7777777777777778,
              "#fb9f3a"
             ],
             [
              0.8888888888888888,
              "#fdca26"
             ],
             [
              1,
              "#f0f921"
             ]
            ],
            "type": "contour"
           }
          ],
          "contourcarpet": [
           {
            "colorbar": {
             "outlinewidth": 0,
             "ticks": ""
            },
            "type": "contourcarpet"
           }
          ],
          "heatmap": [
           {
            "colorbar": {
             "outlinewidth": 0,
             "ticks": ""
            },
            "colorscale": [
             [
              0,
              "#0d0887"
             ],
             [
              0.1111111111111111,
              "#46039f"
             ],
             [
              0.2222222222222222,
              "#7201a8"
             ],
             [
              0.3333333333333333,
              "#9c179e"
             ],
             [
              0.4444444444444444,
              "#bd3786"
             ],
             [
              0.5555555555555556,
              "#d8576b"
             ],
             [
              0.6666666666666666,
              "#ed7953"
             ],
             [
              0.7777777777777778,
              "#fb9f3a"
             ],
             [
              0.8888888888888888,
              "#fdca26"
             ],
             [
              1,
              "#f0f921"
             ]
            ],
            "type": "heatmap"
           }
          ],
          "heatmapgl": [
           {
            "colorbar": {
             "outlinewidth": 0,
             "ticks": ""
            },
            "colorscale": [
             [
              0,
              "#0d0887"
             ],
             [
              0.1111111111111111,
              "#46039f"
             ],
             [
              0.2222222222222222,
              "#7201a8"
             ],
             [
              0.3333333333333333,
              "#9c179e"
             ],
             [
              0.4444444444444444,
              "#bd3786"
             ],
             [
              0.5555555555555556,
              "#d8576b"
             ],
             [
              0.6666666666666666,
              "#ed7953"
             ],
             [
              0.7777777777777778,
              "#fb9f3a"
             ],
             [
              0.8888888888888888,
              "#fdca26"
             ],
             [
              1,
              "#f0f921"
             ]
            ],
            "type": "heatmapgl"
           }
          ],
          "histogram": [
           {
            "marker": {
             "colorbar": {
              "outlinewidth": 0,
              "ticks": ""
             }
            },
            "type": "histogram"
           }
          ],
          "histogram2d": [
           {
            "colorbar": {
             "outlinewidth": 0,
             "ticks": ""
            },
            "colorscale": [
             [
              0,
              "#0d0887"
             ],
             [
              0.1111111111111111,
              "#46039f"
             ],
             [
              0.2222222222222222,
              "#7201a8"
             ],
             [
              0.3333333333333333,
              "#9c179e"
             ],
             [
              0.4444444444444444,
              "#bd3786"
             ],
             [
              0.5555555555555556,
              "#d8576b"
             ],
             [
              0.6666666666666666,
              "#ed7953"
             ],
             [
              0.7777777777777778,
              "#fb9f3a"
             ],
             [
              0.8888888888888888,
              "#fdca26"
             ],
             [
              1,
              "#f0f921"
             ]
            ],
            "type": "histogram2d"
           }
          ],
          "histogram2dcontour": [
           {
            "colorbar": {
             "outlinewidth": 0,
             "ticks": ""
            },
            "colorscale": [
             [
              0,
              "#0d0887"
             ],
             [
              0.1111111111111111,
              "#46039f"
             ],
             [
              0.2222222222222222,
              "#7201a8"
             ],
             [
              0.3333333333333333,
              "#9c179e"
             ],
             [
              0.4444444444444444,
              "#bd3786"
             ],
             [
              0.5555555555555556,
              "#d8576b"
             ],
             [
              0.6666666666666666,
              "#ed7953"
             ],
             [
              0.7777777777777778,
              "#fb9f3a"
             ],
             [
              0.8888888888888888,
              "#fdca26"
             ],
             [
              1,
              "#f0f921"
             ]
            ],
            "type": "histogram2dcontour"
           }
          ],
          "mesh3d": [
           {
            "colorbar": {
             "outlinewidth": 0,
             "ticks": ""
            },
            "type": "mesh3d"
           }
          ],
          "parcoords": [
           {
            "line": {
             "colorbar": {
              "outlinewidth": 0,
              "ticks": ""
             }
            },
            "type": "parcoords"
           }
          ],
          "pie": [
           {
            "automargin": true,
            "type": "pie"
           }
          ],
          "scatter": [
           {
            "marker": {
             "colorbar": {
              "outlinewidth": 0,
              "ticks": ""
             }
            },
            "type": "scatter"
           }
          ],
          "scatter3d": [
           {
            "line": {
             "colorbar": {
              "outlinewidth": 0,
              "ticks": ""
             }
            },
            "marker": {
             "colorbar": {
              "outlinewidth": 0,
              "ticks": ""
             }
            },
            "type": "scatter3d"
           }
          ],
          "scattercarpet": [
           {
            "marker": {
             "colorbar": {
              "outlinewidth": 0,
              "ticks": ""
             }
            },
            "type": "scattercarpet"
           }
          ],
          "scattergeo": [
           {
            "marker": {
             "colorbar": {
              "outlinewidth": 0,
              "ticks": ""
             }
            },
            "type": "scattergeo"
           }
          ],
          "scattergl": [
           {
            "marker": {
             "colorbar": {
              "outlinewidth": 0,
              "ticks": ""
             }
            },
            "type": "scattergl"
           }
          ],
          "scattermapbox": [
           {
            "marker": {
             "colorbar": {
              "outlinewidth": 0,
              "ticks": ""
             }
            },
            "type": "scattermapbox"
           }
          ],
          "scatterpolar": [
           {
            "marker": {
             "colorbar": {
              "outlinewidth": 0,
              "ticks": ""
             }
            },
            "type": "scatterpolar"
           }
          ],
          "scatterpolargl": [
           {
            "marker": {
             "colorbar": {
              "outlinewidth": 0,
              "ticks": ""
             }
            },
            "type": "scatterpolargl"
           }
          ],
          "scatterternary": [
           {
            "marker": {
             "colorbar": {
              "outlinewidth": 0,
              "ticks": ""
             }
            },
            "type": "scatterternary"
           }
          ],
          "surface": [
           {
            "colorbar": {
             "outlinewidth": 0,
             "ticks": ""
            },
            "colorscale": [
             [
              0,
              "#0d0887"
             ],
             [
              0.1111111111111111,
              "#46039f"
             ],
             [
              0.2222222222222222,
              "#7201a8"
             ],
             [
              0.3333333333333333,
              "#9c179e"
             ],
             [
              0.4444444444444444,
              "#bd3786"
             ],
             [
              0.5555555555555556,
              "#d8576b"
             ],
             [
              0.6666666666666666,
              "#ed7953"
             ],
             [
              0.7777777777777778,
              "#fb9f3a"
             ],
             [
              0.8888888888888888,
              "#fdca26"
             ],
             [
              1,
              "#f0f921"
             ]
            ],
            "type": "surface"
           }
          ],
          "table": [
           {
            "cells": {
             "fill": {
              "color": "#EBF0F8"
             },
             "line": {
              "color": "white"
             }
            },
            "header": {
             "fill": {
              "color": "#C8D4E3"
             },
             "line": {
              "color": "white"
             }
            },
            "type": "table"
           }
          ]
         },
         "layout": {
          "annotationdefaults": {
           "arrowcolor": "#2a3f5f",
           "arrowhead": 0,
           "arrowwidth": 1
          },
          "autotypenumbers": "strict",
          "coloraxis": {
           "colorbar": {
            "outlinewidth": 0,
            "ticks": ""
           }
          },
          "colorscale": {
           "diverging": [
            [
             0,
             "#8e0152"
            ],
            [
             0.1,
             "#c51b7d"
            ],
            [
             0.2,
             "#de77ae"
            ],
            [
             0.3,
             "#f1b6da"
            ],
            [
             0.4,
             "#fde0ef"
            ],
            [
             0.5,
             "#f7f7f7"
            ],
            [
             0.6,
             "#e6f5d0"
            ],
            [
             0.7,
             "#b8e186"
            ],
            [
             0.8,
             "#7fbc41"
            ],
            [
             0.9,
             "#4d9221"
            ],
            [
             1,
             "#276419"
            ]
           ],
           "sequential": [
            [
             0,
             "#0d0887"
            ],
            [
             0.1111111111111111,
             "#46039f"
            ],
            [
             0.2222222222222222,
             "#7201a8"
            ],
            [
             0.3333333333333333,
             "#9c179e"
            ],
            [
             0.4444444444444444,
             "#bd3786"
            ],
            [
             0.5555555555555556,
             "#d8576b"
            ],
            [
             0.6666666666666666,
             "#ed7953"
            ],
            [
             0.7777777777777778,
             "#fb9f3a"
            ],
            [
             0.8888888888888888,
             "#fdca26"
            ],
            [
             1,
             "#f0f921"
            ]
           ],
           "sequentialminus": [
            [
             0,
             "#0d0887"
            ],
            [
             0.1111111111111111,
             "#46039f"
            ],
            [
             0.2222222222222222,
             "#7201a8"
            ],
            [
             0.3333333333333333,
             "#9c179e"
            ],
            [
             0.4444444444444444,
             "#bd3786"
            ],
            [
             0.5555555555555556,
             "#d8576b"
            ],
            [
             0.6666666666666666,
             "#ed7953"
            ],
            [
             0.7777777777777778,
             "#fb9f3a"
            ],
            [
             0.8888888888888888,
             "#fdca26"
            ],
            [
             1,
             "#f0f921"
            ]
           ]
          },
          "colorway": [
           "#636efa",
           "#EF553B",
           "#00cc96",
           "#ab63fa",
           "#FFA15A",
           "#19d3f3",
           "#FF6692",
           "#B6E880",
           "#FF97FF",
           "#FECB52"
          ],
          "font": {
           "color": "#2a3f5f"
          },
          "geo": {
           "bgcolor": "white",
           "lakecolor": "white",
           "landcolor": "#E5ECF6",
           "showlakes": true,
           "showland": true,
           "subunitcolor": "white"
          },
          "hoverlabel": {
           "align": "left"
          },
          "hovermode": "closest",
          "mapbox": {
           "style": "light"
          },
          "paper_bgcolor": "white",
          "plot_bgcolor": "#E5ECF6",
          "polar": {
           "angularaxis": {
            "gridcolor": "white",
            "linecolor": "white",
            "ticks": ""
           },
           "bgcolor": "#E5ECF6",
           "radialaxis": {
            "gridcolor": "white",
            "linecolor": "white",
            "ticks": ""
           }
          },
          "scene": {
           "xaxis": {
            "backgroundcolor": "#E5ECF6",
            "gridcolor": "white",
            "gridwidth": 2,
            "linecolor": "white",
            "showbackground": true,
            "ticks": "",
            "zerolinecolor": "white"
           },
           "yaxis": {
            "backgroundcolor": "#E5ECF6",
            "gridcolor": "white",
            "gridwidth": 2,
            "linecolor": "white",
            "showbackground": true,
            "ticks": "",
            "zerolinecolor": "white"
           },
           "zaxis": {
            "backgroundcolor": "#E5ECF6",
            "gridcolor": "white",
            "gridwidth": 2,
            "linecolor": "white",
            "showbackground": true,
            "ticks": "",
            "zerolinecolor": "white"
           }
          },
          "shapedefaults": {
           "line": {
            "color": "#2a3f5f"
           }
          },
          "ternary": {
           "aaxis": {
            "gridcolor": "white",
            "linecolor": "white",
            "ticks": ""
           },
           "baxis": {
            "gridcolor": "white",
            "linecolor": "white",
            "ticks": ""
           },
           "bgcolor": "#E5ECF6",
           "caxis": {
            "gridcolor": "white",
            "linecolor": "white",
            "ticks": ""
           }
          },
          "title": {
           "x": 0.05
          },
          "xaxis": {
           "automargin": true,
           "gridcolor": "white",
           "linecolor": "white",
           "ticks": "",
           "title": {
            "standoff": 15
           },
           "zerolinecolor": "white",
           "zerolinewidth": 2
          },
          "yaxis": {
           "automargin": true,
           "gridcolor": "white",
           "linecolor": "white",
           "ticks": "",
           "title": {
            "standoff": 15
           },
           "zerolinecolor": "white",
           "zerolinewidth": 2
          }
         }
        },
        "xaxis": {
         "title": {
          "text": "Principal Component 1"
         }
        },
        "yaxis": {
         "title": {
          "text": "Principal Component 3"
         }
        }
       }
      },
      "text/html": [
       "<div\n",
       "    class=\"webio-mountpoint\"\n",
       "    data-webio-mountpoint=\"11654909633435058810\"\n",
       ">\n",
       "    <script>\n",
       "    (function(){\n",
       "    // Some integrations (namely, IJulia/Jupyter) use an alternate render pathway than\n",
       "    // just putting the html on the page. If WebIO isn't defined, then it's pretty likely\n",
       "    // that we're in one of those situations and the integration just isn't installed\n",
       "    // correctly.\n",
       "    if (typeof window.WebIO === \"undefined\") {\n",
       "        document\n",
       "            .querySelector('[data-webio-mountpoint=\"11654909633435058810\"]')\n",
       "            .innerHTML = (\n",
       "                '<div style=\"padding: 1em; background-color: #f8d6da; border: 1px solid #f5c6cb; font-weight: bold;\">' +\n",
       "                '<p><strong>WebIO not detected.</strong></p>' +\n",
       "                '<p>Please read ' +\n",
       "                '<a href=\"https://juliagizmos.github.io/WebIO.jl/latest/troubleshooting/not-detected/\" target=\"_blank\">the troubleshooting guide</a> ' +\n",
       "                'for more information on how to resolve this issue.</p>' +\n",
       "                '<p><a href=\"https://juliagizmos.github.io/WebIO.jl/latest/troubleshooting/not-detected/\" target=\"_blank\">https://juliagizmos.github.io/WebIO.jl/latest/troubleshooting/not-detected/</a></p>' +\n",
       "                '</div>'\n",
       "            );\n",
       "        return;\n",
       "    }\n",
       "    WebIO.mount(\n",
       "        document.querySelector('[data-webio-mountpoint=\"11654909633435058810\"]'),\n",
       "        {\"props\":{},\"nodeType\":\"Scope\",\"type\":\"node\",\"instanceArgs\":{\"imports\":{\"data\":[{\"name\":\"Plotly\",\"type\":\"js\",\"url\":\"\\/assetserver\\/597d3e3981791f3da20e7b96cab90ffffca4599e-plotly.min.js\"},{\"name\":null,\"type\":\"js\",\"url\":\"\\/assetserver\\/d21cc61a8b26f5a8d90707d16621e32300c2e5ed-plotly_webio.bundle.js\"}],\"type\":\"async_block\"},\"id\":\"18131904200386845743\",\"handlers\":{\"_toImage\":[\"(function (options){return this.Plotly.toImage(this.plotElem,options).then((function (data){return WebIO.setval({\\\"name\\\":\\\"image\\\",\\\"scope\\\":\\\"18131904200386845743\\\",\\\"id\\\":\\\"4988055471146412999\\\",\\\"type\\\":\\\"observable\\\"},data)}))})\"],\"__get_gd_contents\":[\"(function (prop){prop==\\\"data\\\" ? (WebIO.setval({\\\"name\\\":\\\"__gd_contents\\\",\\\"scope\\\":\\\"18131904200386845743\\\",\\\"id\\\":\\\"4133406909986735286\\\",\\\"type\\\":\\\"observable\\\"},this.plotElem.data)) : undefined; return prop==\\\"layout\\\" ? (WebIO.setval({\\\"name\\\":\\\"__gd_contents\\\",\\\"scope\\\":\\\"18131904200386845743\\\",\\\"id\\\":\\\"4133406909986735286\\\",\\\"type\\\":\\\"observable\\\"},this.plotElem.layout)) : undefined})\"],\"_downloadImage\":[\"(function (options){return this.Plotly.downloadImage(this.plotElem,options)})\"],\"_commands\":[\"(function (args){var fn=args.shift(); var elem=this.plotElem; var Plotly=this.Plotly; args.unshift(elem); return Plotly[fn].apply(this,args)})\"]},\"systemjs_options\":null,\"mount_callbacks\":[\"function () {\\n    var handler = ((function (Plotly,PlotlyWebIO){PlotlyWebIO.init(WebIO); var gd=this.dom.querySelector(\\\"#plot-b1cfa7a2-913a-4534-b972-21e78512c42a\\\"); this.plotElem=gd; this.Plotly=Plotly; (window.Blink!==undefined) ? (gd.style.width=\\\"100%\\\", gd.style.height=\\\"100vh\\\", gd.style.marginLeft=\\\"0%\\\", gd.style.marginTop=\\\"0vh\\\") : undefined; window.onresize=(function (){return Plotly.Plots.resize(gd)}); Plotly.newPlot(gd,[{\\\"showlegend\\\":true,\\\"mode\\\":\\\"markers\\\",\\\"xaxis\\\":\\\"x\\\",\\\"marker\\\":{\\\"color\\\":\\\"#00cc96\\\"},\\\"y\\\":[-20.92910760044913,-18.61003627471605,-24.79545060217915,46.52209917808839,39.05114603311826,1.1184903194521776,6.093636772534747],\\\"type\\\":\\\"scatter\\\",\\\"name\\\":\\\"BREAST\\\",\\\"yaxis\\\":\\\"y\\\",\\\"legendgroup\\\":\\\"BREAST\\\",\\\"x\\\":[-54.98386798047831,-22.157176644688956,-17.578659532214736,35.51563653257484,11.593386950152919,-8.874666996687203,-5.284475477028772]},{\\\"showlegend\\\":true,\\\"mode\\\":\\\"markers\\\",\\\"xaxis\\\":\\\"x\\\",\\\"marker\\\":{\\\"color\\\":\\\"#636efa\\\"},\\\"y\\\":[-9.735438213904631,-13.37253777370609,-3.505343682403598,-21.64229241433766,-30.116457313876097],\\\"type\\\":\\\"scatter\\\",\\\"name\\\":\\\"CNS\\\",\\\"yaxis\\\":\\\"y\\\",\\\"legendgroup\\\":\\\"CNS\\\",\\\"x\\\":[-19.682446802574514,-22.908120228531548,-27.240769014348853,-26.964881646047406,-31.19929954046203]},{\\\"showlegend\\\":true,\\\"mode\\\":\\\"markers\\\",\\\"xaxis\\\":\\\"x\\\",\\\"marker\\\":{\\\"color\\\":\\\"#EF553B\\\"},\\\"y\\\":[6.555086825281568,7.406759884218081,13.274090457560604,19.33927300867544,19.262186718156975,35.10928406405945,18.282654706735826],\\\"type\\\":\\\"scatter\\\",\\\"name\\\":\\\"COLON\\\",\\\"yaxis\\\":\\\"y\\\",\\\"legendgroup\\\":\\\"COLON\\\",\\\"x\\\":[14.851402509542073,36.91681485555582,26.57337081248241,19.797371890473325,18.063521622301607,28.840217455213033,20.931875685302682]},{\\\"showlegend\\\":true,\\\"mode\\\":\\\"markers\\\",\\\"xaxis\\\":\\\"x\\\",\\\"marker\\\":{\\\"color\\\":\\\"#636efa\\\"},\\\"y\\\":[-36.551642480766475],\\\"type\\\":\\\"scatter\\\",\\\"name\\\":\\\"K562A-repro\\\",\\\"yaxis\\\":\\\"y\\\",\\\"legendgroup\\\":\\\"K562A-repro\\\",\\\"x\\\":[55.215240045161806]},{\\\"showlegend\\\":true,\\\"mode\\\":\\\"markers\\\",\\\"xaxis\\\":\\\"x\\\",\\\"marker\\\":{\\\"color\\\":\\\"#FECB52\\\"},\\\"y\\\":[-35.65861572018338],\\\"type\\\":\\\"scatter\\\",\\\"name\\\":\\\"K562B-repro\\\",\\\"yaxis\\\":\\\"y\\\",\\\"legendgroup\\\":\\\"K562B-repro\\\",\\\"x\\\":[51.53209899820959]},{\\\"showlegend\\\":true,\\\"mode\\\":\\\"markers\\\",\\\"xaxis\\\":\\\"x\\\",\\\"marker\\\":{\\\"color\\\":\\\"#FF97FF\\\"},\\\"y\\\":[-4.7133110379950125,-39.79869604792751,-20.459825688135528,-30.989102687454213,-25.605274440031717,-24.499769326352105],\\\"type\\\":\\\"scatter\\\",\\\"name\\\":\\\"LEUKEMIA\\\",\\\"yaxis\\\":\\\"y\\\",\\\"legendgroup\\\":\\\"LEUKEMIA\\\",\\\"x\\\":[26.536088498352832,58.00527058293026,55.181144189979804,69.23064534455159,59.46304046454735,25.52831328103651]},{\\\"showlegend\\\":true,\\\"mode\\\":\\\"markers\\\",\\\"xaxis\\\":\\\"x\\\",\\\"marker\\\":{\\\"color\\\":\\\"#00cc96\\\"},\\\"y\\\":[44.987221240672156],\\\"type\\\":\\\"scatter\\\",\\\"name\\\":\\\"MCF7A-repro\\\",\\\"yaxis\\\":\\\"y\\\",\\\"legendgroup\\\":\\\"MCF7A-repro\\\",\\\"x\\\":[38.28460163023954]},{\\\"showlegend\\\":true,\\\"mode\\\":\\\"markers\\\",\\\"xaxis\\\":\\\"x\\\",\\\"marker\\\":{\\\"color\\\":\\\"#ab63fa\\\"},\\\"y\\\":[41.35899689000781],\\\"type\\\":\\\"scatter\\\",\\\"name\\\":\\\"MCF7D-repro\\\",\\\"yaxis\\\":\\\"y\\\",\\\"legendgroup\\\":\\\"MCF7D-repro\\\",\\\"x\\\":[30.48200389967615]},{\\\"showlegend\\\":true,\\\"mode\\\":\\\"markers\\\",\\\"xaxis\\\":\\\"x\\\",\\\"marker\\\":{\\\"color\\\":\\\"#FF6692\\\"},\\\"y\\\":[-13.271722201361284,17.20266134494462,8.96604990038395,5.356595250581851,8.646827955827108,17.974485641499307,4.178123372393644,3.406624173034565],\\\"type\\\":\\\"scatter\\\",\\\"name\\\":\\\"MELANOMA\\\",\\\"yaxis\\\":\\\"y\\\",\\\"legendgroup\\\":\\\"MELANOMA\\\",\\\"x\\\":[-2.8978540130434376,-2.552418991643252,-17.797820517094657,-17.85509266378033,-4.38087819383377,-22.786851524860552,-19.02560482532551,-13.129080987274357]},{\\\"showlegend\\\":true,\\\"mode\\\":\\\"markers\\\",\\\"xaxis\\\":\\\"x\\\",\\\"marker\\\":{\\\"color\\\":\\\"#ab63fa\\\"},\\\"y\\\":[-19.602475563099482,-5.839705907932526,0.05418248158504699,14.005169704062032,7.426100387808434,8.280319621892877,25.68126967623035,4.249840125464499,-9.830206586878232],\\\"type\\\":\\\"scatter\\\",\\\"name\\\":\\\"NSCLC\\\",\\\"yaxis\\\":\\\"y\\\",\\\"legendgroup\\\":\\\"NSCLC\\\",\\\"x\\\":[-14.1778411790914,-29.5147954305687,-33.76781954543095,-19.88560011926893,-4.2157125570161,0.8420951909436538,0.2350255824904675,7.403549771601731,14.610210899462915]},{\\\"showlegend\\\":true,\\\"mode\\\":\\\"markers\\\",\\\"xaxis\\\":\\\"x\\\",\\\"marker\\\":{\\\"color\\\":\\\"#19d3f3\\\"},\\\"y\\\":[-23.23213409643155,12.025918209913302,14.636870126670418,5.513022956352767,1.3482543791731043,15.80773445674439],\\\"type\\\":\\\"scatter\\\",\\\"name\\\":\\\"OVARIAN\\\",\\\"yaxis\\\":\\\"y\\\",\\\"legendgroup\\\":\\\"OVARIAN\\\",\\\"x\\\":[-9.785373387753747,3.973930438809984,-13.003228410975584,3.9985577270870527,-11.99620716169582,-4.888730131476876]},{\\\"showlegend\\\":true,\\\"mode\\\":\\\"markers\\\",\\\"xaxis\\\":\\\"x\\\",\\\"marker\\\":{\\\"color\\\":\\\"#B6E880\\\"},\\\"y\\\":[-1.5715622451945488,4.611264875516775],\\\"type\\\":\\\"scatter\\\",\\\"name\\\":\\\"PROSTATE\\\",\\\"yaxis\\\":\\\"y\\\",\\\"legendgroup\\\":\\\"PROSTATE\\\",\\\"x\\\":[4.4607879282501965,-5.321520794430998]},{\\\"showlegend\\\":true,\\\"mode\\\":\\\"markers\\\",\\\"xaxis\\\":\\\"x\\\",\\\"marker\\\":{\\\"color\\\":\\\"#EF553B\\\"},\\\"y\\\":[-0.8830921064176769,7.920315060142637,-6.709445701409049,-9.708102506549963,6.16719888581523,-0.6424377874201411,3.1621870853798772,-4.128616812226333,-24.541826427006967],\\\"type\\\":\\\"scatter\\\",\\\"name\\\":\\\"RENAL\\\",\\\"yaxis\\\":\\\"y\\\",\\\"legendgroup\\\":\\\"RENAL\\\",\\\"x\\\":[-42.4809775873898,-30.505768998990934,-34.14441087797285,-16.902721053364065,-25.023692790405075,-28.901035238489943,-21.73867591747836,-13.295126914105682,-16.601644294575088]},{\\\"showlegend\\\":true,\\\"mode\\\":\\\"markers\\\",\\\"xaxis\\\":\\\"x\\\",\\\"marker\\\":{\\\"color\\\":\\\"#FFA15A\\\"},\\\"y\\\":[-14.03771252363215],\\\"type\\\":\\\"scatter\\\",\\\"name\\\":\\\"UNKNOWN\\\",\\\"yaxis\\\":\\\"y\\\",\\\"legendgroup\\\":\\\"UNKNOWN\\\",\\\"x\\\":[-4.615354816531049]}],{\\\"xaxis\\\":{\\\"title\\\":{\\\"text\\\":\\\"Principal Component 1\\\"}},\\\"template\\\":{\\\"layout\\\":{\\\"coloraxis\\\":{\\\"colorbar\\\":{\\\"ticks\\\":\\\"\\\",\\\"outlinewidth\\\":0}},\\\"xaxis\\\":{\\\"gridcolor\\\":\\\"white\\\",\\\"zerolinewidth\\\":2,\\\"title\\\":{\\\"standoff\\\":15},\\\"ticks\\\":\\\"\\\",\\\"zerolinecolor\\\":\\\"white\\\",\\\"automargin\\\":true,\\\"linecolor\\\":\\\"white\\\"},\\\"hovermode\\\":\\\"closest\\\",\\\"paper_bgcolor\\\":\\\"white\\\",\\\"geo\\\":{\\\"showlakes\\\":true,\\\"showland\\\":true,\\\"landcolor\\\":\\\"#E5ECF6\\\",\\\"bgcolor\\\":\\\"white\\\",\\\"subunitcolor\\\":\\\"white\\\",\\\"lakecolor\\\":\\\"white\\\"},\\\"colorscale\\\":{\\\"sequential\\\":[[0.0,\\\"#0d0887\\\"],[0.1111111111111111,\\\"#46039f\\\"],[0.2222222222222222,\\\"#7201a8\\\"],[0.3333333333333333,\\\"#9c179e\\\"],[0.4444444444444444,\\\"#bd3786\\\"],[0.5555555555555556,\\\"#d8576b\\\"],[0.6666666666666666,\\\"#ed7953\\\"],[0.7777777777777778,\\\"#fb9f3a\\\"],[0.8888888888888888,\\\"#fdca26\\\"],[1.0,\\\"#f0f921\\\"]],\\\"diverging\\\":[[0,\\\"#8e0152\\\"],[0.1,\\\"#c51b7d\\\"],[0.2,\\\"#de77ae\\\"],[0.3,\\\"#f1b6da\\\"],[0.4,\\\"#fde0ef\\\"],[0.5,\\\"#f7f7f7\\\"],[0.6,\\\"#e6f5d0\\\"],[0.7,\\\"#b8e186\\\"],[0.8,\\\"#7fbc41\\\"],[0.9,\\\"#4d9221\\\"],[1,\\\"#276419\\\"]],\\\"sequentialminus\\\":[[0.0,\\\"#0d0887\\\"],[0.1111111111111111,\\\"#46039f\\\"],[0.2222222222222222,\\\"#7201a8\\\"],[0.3333333333333333,\\\"#9c179e\\\"],[0.4444444444444444,\\\"#bd3786\\\"],[0.5555555555555556,\\\"#d8576b\\\"],[0.6666666666666666,\\\"#ed7953\\\"],[0.7777777777777778,\\\"#fb9f3a\\\"],[0.8888888888888888,\\\"#fdca26\\\"],[1.0,\\\"#f0f921\\\"]]},\\\"yaxis\\\":{\\\"gridcolor\\\":\\\"white\\\",\\\"zerolinewidth\\\":2,\\\"title\\\":{\\\"standoff\\\":15},\\\"ticks\\\":\\\"\\\",\\\"zerolinecolor\\\":\\\"white\\\",\\\"automargin\\\":true,\\\"linecolor\\\":\\\"white\\\"},\\\"shapedefaults\\\":{\\\"line\\\":{\\\"color\\\":\\\"#2a3f5f\\\"}},\\\"hoverlabel\\\":{\\\"align\\\":\\\"left\\\"},\\\"mapbox\\\":{\\\"style\\\":\\\"light\\\"},\\\"polar\\\":{\\\"angularaxis\\\":{\\\"gridcolor\\\":\\\"white\\\",\\\"ticks\\\":\\\"\\\",\\\"linecolor\\\":\\\"white\\\"},\\\"bgcolor\\\":\\\"#E5ECF6\\\",\\\"radialaxis\\\":{\\\"gridcolor\\\":\\\"white\\\",\\\"ticks\\\":\\\"\\\",\\\"linecolor\\\":\\\"white\\\"}},\\\"autotypenumbers\\\":\\\"strict\\\",\\\"font\\\":{\\\"color\\\":\\\"#2a3f5f\\\"},\\\"ternary\\\":{\\\"baxis\\\":{\\\"gridcolor\\\":\\\"white\\\",\\\"ticks\\\":\\\"\\\",\\\"linecolor\\\":\\\"white\\\"},\\\"bgcolor\\\":\\\"#E5ECF6\\\",\\\"caxis\\\":{\\\"gridcolor\\\":\\\"white\\\",\\\"ticks\\\":\\\"\\\",\\\"linecolor\\\":\\\"white\\\"},\\\"aaxis\\\":{\\\"gridcolor\\\":\\\"white\\\",\\\"ticks\\\":\\\"\\\",\\\"linecolor\\\":\\\"white\\\"}},\\\"annotationdefaults\\\":{\\\"arrowhead\\\":0,\\\"arrowwidth\\\":1,\\\"arrowcolor\\\":\\\"#2a3f5f\\\"},\\\"plot_bgcolor\\\":\\\"#E5ECF6\\\",\\\"title\\\":{\\\"x\\\":0.05},\\\"scene\\\":{\\\"xaxis\\\":{\\\"gridcolor\\\":\\\"white\\\",\\\"gridwidth\\\":2,\\\"backgroundcolor\\\":\\\"#E5ECF6\\\",\\\"ticks\\\":\\\"\\\",\\\"showbackground\\\":true,\\\"zerolinecolor\\\":\\\"white\\\",\\\"linecolor\\\":\\\"white\\\"},\\\"zaxis\\\":{\\\"gridcolor\\\":\\\"white\\\",\\\"gridwidth\\\":2,\\\"backgroundcolor\\\":\\\"#E5ECF6\\\",\\\"ticks\\\":\\\"\\\",\\\"showbackground\\\":true,\\\"zerolinecolor\\\":\\\"white\\\",\\\"linecolor\\\":\\\"white\\\"},\\\"yaxis\\\":{\\\"gridcolor\\\":\\\"white\\\",\\\"gridwidth\\\":2,\\\"backgroundcolor\\\":\\\"#E5ECF6\\\",\\\"ticks\\\":\\\"\\\",\\\"showbackground\\\":true,\\\"zerolinecolor\\\":\\\"white\\\",\\\"linecolor\\\":\\\"white\\\"}},\\\"colorway\\\":[\\\"#636efa\\\",\\\"#EF553B\\\",\\\"#00cc96\\\",\\\"#ab63fa\\\",\\\"#FFA15A\\\",\\\"#19d3f3\\\",\\\"#FF6692\\\",\\\"#B6E880\\\",\\\"#FF97FF\\\",\\\"#FECB52\\\"]},\\\"data\\\":{\\\"barpolar\\\":[{\\\"type\\\":\\\"barpolar\\\",\\\"marker\\\":{\\\"line\\\":{\\\"color\\\":\\\"#E5ECF6\\\",\\\"width\\\":0.5}}}],\\\"carpet\\\":[{\\\"aaxis\\\":{\\\"gridcolor\\\":\\\"white\\\",\\\"endlinecolor\\\":\\\"#2a3f5f\\\",\\\"minorgridcolor\\\":\\\"white\\\",\\\"startlinecolor\\\":\\\"#2a3f5f\\\",\\\"linecolor\\\":\\\"white\\\"},\\\"type\\\":\\\"carpet\\\",\\\"baxis\\\":{\\\"gridcolor\\\":\\\"white\\\",\\\"endlinecolor\\\":\\\"#2a3f5f\\\",\\\"minorgridcolor\\\":\\\"white\\\",\\\"startlinecolor\\\":\\\"#2a3f5f\\\",\\\"linecolor\\\":\\\"white\\\"}}],\\\"scatterpolar\\\":[{\\\"type\\\":\\\"scatterpolar\\\",\\\"marker\\\":{\\\"colorbar\\\":{\\\"ticks\\\":\\\"\\\",\\\"outlinewidth\\\":0}}}],\\\"parcoords\\\":[{\\\"line\\\":{\\\"colorbar\\\":{\\\"ticks\\\":\\\"\\\",\\\"outlinewidth\\\":0}},\\\"type\\\":\\\"parcoords\\\"}],\\\"scatter\\\":[{\\\"type\\\":\\\"scatter\\\",\\\"marker\\\":{\\\"colorbar\\\":{\\\"ticks\\\":\\\"\\\",\\\"outlinewidth\\\":0}}}],\\\"histogram2dcontour\\\":[{\\\"colorbar\\\":{\\\"ticks\\\":\\\"\\\",\\\"outlinewidth\\\":0},\\\"type\\\":\\\"histogram2dcontour\\\",\\\"colorscale\\\":[[0.0,\\\"#0d0887\\\"],[0.1111111111111111,\\\"#46039f\\\"],[0.2222222222222222,\\\"#7201a8\\\"],[0.3333333333333333,\\\"#9c179e\\\"],[0.4444444444444444,\\\"#bd3786\\\"],[0.5555555555555556,\\\"#d8576b\\\"],[0.6666666666666666,\\\"#ed7953\\\"],[0.7777777777777778,\\\"#fb9f3a\\\"],[0.8888888888888888,\\\"#fdca26\\\"],[1.0,\\\"#f0f921\\\"]]}],\\\"contour\\\":[{\\\"colorbar\\\":{\\\"ticks\\\":\\\"\\\",\\\"outlinewidth\\\":0},\\\"type\\\":\\\"contour\\\",\\\"colorscale\\\":[[0.0,\\\"#0d0887\\\"],[0.1111111111111111,\\\"#46039f\\\"],[0.2222222222222222,\\\"#7201a8\\\"],[0.3333333333333333,\\\"#9c179e\\\"],[0.4444444444444444,\\\"#bd3786\\\"],[0.5555555555555556,\\\"#d8576b\\\"],[0.6666666666666666,\\\"#ed7953\\\"],[0.7777777777777778,\\\"#fb9f3a\\\"],[0.8888888888888888,\\\"#fdca26\\\"],[1.0,\\\"#f0f921\\\"]]}],\\\"scattercarpet\\\":[{\\\"type\\\":\\\"scattercarpet\\\",\\\"marker\\\":{\\\"colorbar\\\":{\\\"ticks\\\":\\\"\\\",\\\"outlinewidth\\\":0}}}],\\\"mesh3d\\\":[{\\\"colorbar\\\":{\\\"ticks\\\":\\\"\\\",\\\"outlinewidth\\\":0},\\\"type\\\":\\\"mesh3d\\\"}],\\\"surface\\\":[{\\\"colorbar\\\":{\\\"ticks\\\":\\\"\\\",\\\"outlinewidth\\\":0},\\\"type\\\":\\\"surface\\\",\\\"colorscale\\\":[[0.0,\\\"#0d0887\\\"],[0.1111111111111111,\\\"#46039f\\\"],[0.2222222222222222,\\\"#7201a8\\\"],[0.3333333333333333,\\\"#9c179e\\\"],[0.4444444444444444,\\\"#bd3786\\\"],[0.5555555555555556,\\\"#d8576b\\\"],[0.6666666666666666,\\\"#ed7953\\\"],[0.7777777777777778,\\\"#fb9f3a\\\"],[0.8888888888888888,\\\"#fdca26\\\"],[1.0,\\\"#f0f921\\\"]]}],\\\"scattermapbox\\\":[{\\\"type\\\":\\\"scattermapbox\\\",\\\"marker\\\":{\\\"colorbar\\\":{\\\"ticks\\\":\\\"\\\",\\\"outlinewidth\\\":0}}}],\\\"scattergeo\\\":[{\\\"type\\\":\\\"scattergeo\\\",\\\"marker\\\":{\\\"colorbar\\\":{\\\"ticks\\\":\\\"\\\",\\\"outlinewidth\\\":0}}}],\\\"histogram\\\":[{\\\"type\\\":\\\"histogram\\\",\\\"marker\\\":{\\\"colorbar\\\":{\\\"ticks\\\":\\\"\\\",\\\"outlinewidth\\\":0}}}],\\\"pie\\\":[{\\\"type\\\":\\\"pie\\\",\\\"automargin\\\":true}],\\\"choropleth\\\":[{\\\"colorbar\\\":{\\\"ticks\\\":\\\"\\\",\\\"outlinewidth\\\":0},\\\"type\\\":\\\"choropleth\\\"}],\\\"heatmapgl\\\":[{\\\"colorbar\\\":{\\\"ticks\\\":\\\"\\\",\\\"outlinewidth\\\":0},\\\"type\\\":\\\"heatmapgl\\\",\\\"colorscale\\\":[[0.0,\\\"#0d0887\\\"],[0.1111111111111111,\\\"#46039f\\\"],[0.2222222222222222,\\\"#7201a8\\\"],[0.3333333333333333,\\\"#9c179e\\\"],[0.4444444444444444,\\\"#bd3786\\\"],[0.5555555555555556,\\\"#d8576b\\\"],[0.6666666666666666,\\\"#ed7953\\\"],[0.7777777777777778,\\\"#fb9f3a\\\"],[0.8888888888888888,\\\"#fdca26\\\"],[1.0,\\\"#f0f921\\\"]]}],\\\"bar\\\":[{\\\"type\\\":\\\"bar\\\",\\\"error_y\\\":{\\\"color\\\":\\\"#2a3f5f\\\"},\\\"error_x\\\":{\\\"color\\\":\\\"#2a3f5f\\\"},\\\"marker\\\":{\\\"line\\\":{\\\"color\\\":\\\"#E5ECF6\\\",\\\"width\\\":0.5}}}],\\\"heatmap\\\":[{\\\"colorbar\\\":{\\\"ticks\\\":\\\"\\\",\\\"outlinewidth\\\":0},\\\"type\\\":\\\"heatmap\\\",\\\"colorscale\\\":[[0.0,\\\"#0d0887\\\"],[0.1111111111111111,\\\"#46039f\\\"],[0.2222222222222222,\\\"#7201a8\\\"],[0.3333333333333333,\\\"#9c179e\\\"],[0.4444444444444444,\\\"#bd3786\\\"],[0.5555555555555556,\\\"#d8576b\\\"],[0.6666666666666666,\\\"#ed7953\\\"],[0.7777777777777778,\\\"#fb9f3a\\\"],[0.8888888888888888,\\\"#fdca26\\\"],[1.0,\\\"#f0f921\\\"]]}],\\\"contourcarpet\\\":[{\\\"colorbar\\\":{\\\"ticks\\\":\\\"\\\",\\\"outlinewidth\\\":0},\\\"type\\\":\\\"contourcarpet\\\"}],\\\"table\\\":[{\\\"type\\\":\\\"table\\\",\\\"header\\\":{\\\"line\\\":{\\\"color\\\":\\\"white\\\"},\\\"fill\\\":{\\\"color\\\":\\\"#C8D4E3\\\"}},\\\"cells\\\":{\\\"line\\\":{\\\"color\\\":\\\"white\\\"},\\\"fill\\\":{\\\"color\\\":\\\"#EBF0F8\\\"}}}],\\\"scatter3d\\\":[{\\\"line\\\":{\\\"colorbar\\\":{\\\"ticks\\\":\\\"\\\",\\\"outlinewidth\\\":0}},\\\"type\\\":\\\"scatter3d\\\",\\\"marker\\\":{\\\"colorbar\\\":{\\\"ticks\\\":\\\"\\\",\\\"outlinewidth\\\":0}}}],\\\"scattergl\\\":[{\\\"type\\\":\\\"scattergl\\\",\\\"marker\\\":{\\\"colorbar\\\":{\\\"ticks\\\":\\\"\\\",\\\"outlinewidth\\\":0}}}],\\\"histogram2d\\\":[{\\\"colorbar\\\":{\\\"ticks\\\":\\\"\\\",\\\"outlinewidth\\\":0},\\\"type\\\":\\\"histogram2d\\\",\\\"colorscale\\\":[[0.0,\\\"#0d0887\\\"],[0.1111111111111111,\\\"#46039f\\\"],[0.2222222222222222,\\\"#7201a8\\\"],[0.3333333333333333,\\\"#9c179e\\\"],[0.4444444444444444,\\\"#bd3786\\\"],[0.5555555555555556,\\\"#d8576b\\\"],[0.6666666666666666,\\\"#ed7953\\\"],[0.7777777777777778,\\\"#fb9f3a\\\"],[0.8888888888888888,\\\"#fdca26\\\"],[1.0,\\\"#f0f921\\\"]]}],\\\"scatterternary\\\":[{\\\"type\\\":\\\"scatterternary\\\",\\\"marker\\\":{\\\"colorbar\\\":{\\\"ticks\\\":\\\"\\\",\\\"outlinewidth\\\":0}}}],\\\"scatterpolargl\\\":[{\\\"type\\\":\\\"scatterpolargl\\\",\\\"marker\\\":{\\\"colorbar\\\":{\\\"ticks\\\":\\\"\\\",\\\"outlinewidth\\\":0}}}]}},\\\"legend\\\":{\\\"tracegroupgap\\\":0,\\\"title\\\":{\\\"text\\\":\\\"x3\\\"}},\\\"margin\\\":{\\\"l\\\":50,\\\"b\\\":50,\\\"r\\\":50,\\\"t\\\":60},\\\"yaxis\\\":{\\\"title\\\":{\\\"text\\\":\\\"Principal Component 3\\\"}}},{\\\"showLink\\\":false,\\\"editable\\\":false,\\\"responsive\\\":true,\\\"staticPlot\\\":false,\\\"scrollZoom\\\":true}); gd.on(\\\"plotly_hover\\\",(function (data){var filtered_data=WebIO.PlotlyCommands.filterEventData(gd,data,\\\"hover\\\"); return !(filtered_data.isnil) ? (WebIO.setval({\\\"name\\\":\\\"hover\\\",\\\"scope\\\":\\\"18131904200386845743\\\",\\\"id\\\":\\\"7784591816556213033\\\",\\\"type\\\":\\\"observable\\\"},filtered_data.out)) : undefined})); gd.on(\\\"plotly_unhover\\\",(function (){return WebIO.setval({\\\"name\\\":\\\"hover\\\",\\\"scope\\\":\\\"18131904200386845743\\\",\\\"id\\\":\\\"7784591816556213033\\\",\\\"type\\\":\\\"observable\\\"},{})})); gd.on(\\\"plotly_selected\\\",(function (data){var filtered_data=WebIO.PlotlyCommands.filterEventData(gd,data,\\\"selected\\\"); return !(filtered_data.isnil) ? (WebIO.setval({\\\"name\\\":\\\"selected\\\",\\\"scope\\\":\\\"18131904200386845743\\\",\\\"id\\\":\\\"13919453135707152639\\\",\\\"type\\\":\\\"observable\\\"},filtered_data.out)) : undefined})); gd.on(\\\"plotly_deselect\\\",(function (){return WebIO.setval({\\\"name\\\":\\\"selected\\\",\\\"scope\\\":\\\"18131904200386845743\\\",\\\"id\\\":\\\"13919453135707152639\\\",\\\"type\\\":\\\"observable\\\"},{})})); gd.on(\\\"plotly_relayout\\\",(function (data){var filtered_data=WebIO.PlotlyCommands.filterEventData(gd,data,\\\"relayout\\\"); return !(filtered_data.isnil) ? (WebIO.setval({\\\"name\\\":\\\"relayout\\\",\\\"scope\\\":\\\"18131904200386845743\\\",\\\"id\\\":\\\"1929869176776586597\\\",\\\"type\\\":\\\"observable\\\"},filtered_data.out)) : undefined})); return gd.on(\\\"plotly_click\\\",(function (data){var filtered_data=WebIO.PlotlyCommands.filterEventData(gd,data,\\\"click\\\"); return !(filtered_data.isnil) ? (WebIO.setval({\\\"name\\\":\\\"click\\\",\\\"scope\\\":\\\"18131904200386845743\\\",\\\"id\\\":\\\"7581381106060683536\\\",\\\"type\\\":\\\"observable\\\"},filtered_data.out)) : undefined}))}));\\n    (WebIO.importBlock({\\\"data\\\":[{\\\"name\\\":\\\"Plotly\\\",\\\"type\\\":\\\"js\\\",\\\"url\\\":\\\"\\/assetserver\\/597d3e3981791f3da20e7b96cab90ffffca4599e-plotly.min.js\\\"},{\\\"name\\\":null,\\\"type\\\":\\\"js\\\",\\\"url\\\":\\\"\\/assetserver\\/d21cc61a8b26f5a8d90707d16621e32300c2e5ed-plotly_webio.bundle.js\\\"}],\\\"type\\\":\\\"async_block\\\"})).then((imports) => handler.apply(this, imports));\\n}\\n\"],\"observables\":{\"_toImage\":{\"sync\":false,\"id\":\"1749056037840432214\",\"value\":{}},\"hover\":{\"sync\":false,\"id\":\"7784591816556213033\",\"value\":{}},\"selected\":{\"sync\":false,\"id\":\"13919453135707152639\",\"value\":{}},\"__gd_contents\":{\"sync\":false,\"id\":\"4133406909986735286\",\"value\":{}},\"click\":{\"sync\":false,\"id\":\"7581381106060683536\",\"value\":{}},\"image\":{\"sync\":true,\"id\":\"4988055471146412999\",\"value\":\"\"},\"__get_gd_contents\":{\"sync\":false,\"id\":\"6362942857640856505\",\"value\":\"\"},\"_downloadImage\":{\"sync\":false,\"id\":\"1939291115257781797\",\"value\":{}},\"relayout\":{\"sync\":false,\"id\":\"1929869176776586597\",\"value\":{}},\"_commands\":{\"sync\":false,\"id\":\"11920499274167233035\",\"value\":[]}}},\"children\":[{\"props\":{\"id\":\"plot-b1cfa7a2-913a-4534-b972-21e78512c42a\"},\"nodeType\":\"DOM\",\"type\":\"node\",\"instanceArgs\":{\"namespace\":\"html\",\"tag\":\"div\"},\"children\":[]}]},\n",
       "        window,\n",
       "    );\n",
       "    })()\n",
       "    </script>\n",
       "</div>\n"
      ],
      "text/plain": [
       "data: [\n",
       "  \"scatter with fields legendgroup, marker, mode, name, showlegend, type, x, xaxis, y, and yaxis\",\n",
       "  \"scatter with fields legendgroup, marker, mode, name, showlegend, type, x, xaxis, y, and yaxis\",\n",
       "  \"scatter with fields legendgroup, marker, mode, name, showlegend, type, x, xaxis, y, and yaxis\",\n",
       "  \"scatter with fields legendgroup, marker, mode, name, showlegend, type, x, xaxis, y, and yaxis\",\n",
       "  \"scatter with fields legendgroup, marker, mode, name, showlegend, type, x, xaxis, y, and yaxis\",\n",
       "  \"scatter with fields legendgroup, marker, mode, name, showlegend, type, x, xaxis, y, and yaxis\",\n",
       "  \"scatter with fields legendgroup, marker, mode, name, showlegend, type, x, xaxis, y, and yaxis\",\n",
       "  \"scatter with fields legendgroup, marker, mode, name, showlegend, type, x, xaxis, y, and yaxis\",\n",
       "  \"scatter with fields legendgroup, marker, mode, name, showlegend, type, x, xaxis, y, and yaxis\",\n",
       "  \"scatter with fields legendgroup, marker, mode, name, showlegend, type, x, xaxis, y, and yaxis\",\n",
       "  \"scatter with fields legendgroup, marker, mode, name, showlegend, type, x, xaxis, y, and yaxis\",\n",
       "  \"scatter with fields legendgroup, marker, mode, name, showlegend, type, x, xaxis, y, and yaxis\",\n",
       "  \"scatter with fields legendgroup, marker, mode, name, showlegend, type, x, xaxis, y, and yaxis\",\n",
       "  \"scatter with fields legendgroup, marker, mode, name, showlegend, type, x, xaxis, y, and yaxis\"\n",
       "]\n",
       "\n",
       "layout: \"layout with fields legend, margin, template, xaxis, and yaxis\"\n",
       "\n"
      ]
     },
     "execution_count": 23,
     "metadata": {},
     "output_type": "execute_result"
    }
   ],
   "source": [
    "PlotlyJS.plot(\n",
    "    df3_pca, x=:x1, y=:x3, color=:y,\n",
    "    mode=\"markers\",\n",
    "    Layout(yaxis_title=\"Principal Component 3\", xaxis_title=\"Principal Component 1\")\n",
    ")"
   ]
  },
  {
   "cell_type": "code",
   "execution_count": 24,
   "id": "4a0dd06c",
   "metadata": {},
   "outputs": [
    {
     "data": {
      "text/plain": [
       "3×60 adjoint(::Matrix{Float64}) with eltype Float64:\n",
       " 27.8535    21.4814     19.8205     …  5.29215     5.02117     4.68398\n",
       "  0.114434   0.0680646   0.0579463     0.00413106  0.00371885  0.00323614\n",
       "  0.114434   0.182499    0.240445      0.993045    0.996764    1.0"
      ]
     },
     "execution_count": 24,
     "metadata": {},
     "output_type": "execute_result"
    }
   ],
   "source": [
    "var3 = principalvars(M3::PCA)\n",
    "std_dev3 = sqrt.(principalvars(M3::PCA))[1:60]\n",
    "prop_std_dev3 = [var3[i]/tprincipalvar(M3::PCA) for i in 1:60]\n",
    "cumulative_prop_std_dev3 = [prop_std_dev3[1]]\n",
    "for i in 2:60\n",
    "    push!(cumulative_prop_std_dev3, cumulative_prop_std_dev3[i-1]+prop_std_dev3[i]) \n",
    "end\n",
    "\n",
    "pca_info_mat = [std_dev3,prop_std_dev3,cumulative_prop_std_dev3]\n",
    "#convert array of arrays to a 3x60 matrix\n",
    "pca_info_mat = reduce(hcat,pca_info_mat)'  \n"
   ]
  },
  {
   "cell_type": "code",
   "execution_count": 25,
   "id": "0e18257c",
   "metadata": {},
   "outputs": [
    {
     "data": {
      "text/html": [
       "<div><div style = \"float: left;\"><span>3×6 DataFrame</span></div><div style = \"clear: both;\"></div></div><div class = \"data-frame\" style = \"overflow-x: scroll;\"><table class = \"data-frame\" style = \"margin-bottom: 6px;\"><thead><tr class = \"header\"><th class = \"rowNumber\" style = \"font-weight: bold; text-align: right;\">Row</th><th style = \"text-align: left;\">Info</th><th style = \"text-align: left;\">PC1</th><th style = \"text-align: left;\">PC2</th><th style = \"text-align: left;\">PC3</th><th style = \"text-align: left;\">PC4</th><th style = \"text-align: left;\">PC5</th></tr><tr class = \"subheader headerLastRow\"><th class = \"rowNumber\" style = \"font-weight: bold; text-align: right;\"></th><th title = \"String\" style = \"text-align: left;\">String</th><th title = \"Float64\" style = \"text-align: left;\">Float64</th><th title = \"Float64\" style = \"text-align: left;\">Float64</th><th title = \"Float64\" style = \"text-align: left;\">Float64</th><th title = \"Float64\" style = \"text-align: left;\">Float64</th><th title = \"Float64\" style = \"text-align: left;\">Float64</th></tr></thead><tbody><tr><td class = \"rowNumber\" style = \"font-weight: bold; text-align: right;\">1</td><td style = \"text-align: left;\">Standard Deviation</td><td style = \"text-align: right;\">27.8535</td><td style = \"text-align: right;\">21.4814</td><td style = \"text-align: right;\">19.8205</td><td style = \"text-align: right;\">17.0326</td><td style = \"text-align: right;\">15.9718</td></tr><tr><td class = \"rowNumber\" style = \"font-weight: bold; text-align: right;\">2</td><td style = \"text-align: left;\">Proportion of Variance</td><td style = \"text-align: right;\">0.114434</td><td style = \"text-align: right;\">0.0680646</td><td style = \"text-align: right;\">0.0579463</td><td style = \"text-align: right;\">0.0427915</td><td style = \"text-align: right;\">0.0376276</td></tr><tr><td class = \"rowNumber\" style = \"font-weight: bold; text-align: right;\">3</td><td style = \"text-align: left;\">Cumulative Proportion</td><td style = \"text-align: right;\">0.114434</td><td style = \"text-align: right;\">0.182499</td><td style = \"text-align: right;\">0.240445</td><td style = \"text-align: right;\">0.283237</td><td style = \"text-align: right;\">0.320864</td></tr></tbody></table></div>"
      ],
      "text/latex": [
       "\\begin{tabular}{r|cccccc}\n",
       "\t& Info & PC1 & PC2 & PC3 & PC4 & PC5\\\\\n",
       "\t\\hline\n",
       "\t& String & Float64 & Float64 & Float64 & Float64 & Float64\\\\\n",
       "\t\\hline\n",
       "\t1 & Standard Deviation & 27.8535 & 21.4814 & 19.8205 & 17.0326 & 15.9718 \\\\\n",
       "\t2 & Proportion of Variance & 0.114434 & 0.0680646 & 0.0579463 & 0.0427915 & 0.0376276 \\\\\n",
       "\t3 & Cumulative Proportion & 0.114434 & 0.182499 & 0.240445 & 0.283237 & 0.320864 \\\\\n",
       "\\end{tabular}\n"
      ],
      "text/plain": [
       "\u001b[1m3×6 DataFrame\u001b[0m\n",
       "\u001b[1m Row \u001b[0m│\u001b[1m Info                   \u001b[0m\u001b[1m PC1       \u001b[0m\u001b[1m PC2        \u001b[0m\u001b[1m PC3        \u001b[0m\u001b[1m PC4        \u001b[0m\u001b[1m \u001b[0m ⋯\n",
       "     │\u001b[90m String                 \u001b[0m\u001b[90m Float64   \u001b[0m\u001b[90m Float64    \u001b[0m\u001b[90m Float64    \u001b[0m\u001b[90m Float64    \u001b[0m\u001b[90m \u001b[0m ⋯\n",
       "─────┼──────────────────────────────────────────────────────────────────────────\n",
       "   1 │ Standard Deviation      27.8535    21.4814     19.8205     17.0326      ⋯\n",
       "   2 │ Proportion of Variance   0.114434   0.0680646   0.0579463   0.0427915\n",
       "   3 │ Cumulative Proportion    0.114434   0.182499    0.240445    0.283237\n",
       "\u001b[36m                                                                1 column omitted\u001b[0m"
      ]
     },
     "execution_count": 25,
     "metadata": {},
     "output_type": "execute_result"
    }
   ],
   "source": [
    "pca_info = DataFrame(pca_info_mat[:,1:5], :auto)\n",
    "pca_info = rename!(pca_info,:x1 => :PC1, :x2 => :PC2, :x3 => :PC3, :x4 => :PC4, :x5 => :PC5 )\n",
    "pca_info = insertcols!(pca_info, 1,:Info => [\"Standard Deviation\",\"Proportion of Variance\", \"Cumulative Proportion\"])"
   ]
  },
  {
   "cell_type": "code",
   "execution_count": 26,
   "id": "0b2de221",
   "metadata": {},
   "outputs": [
    {
     "data": {
      "application/vnd.plotly.v1+json": {
       "config": {
        "editable": false,
        "responsive": true,
        "scrollZoom": true,
        "showLink": false,
        "staticPlot": false
       },
       "data": [
        {
         "type": "bar",
         "x": [
          1,
          2,
          3,
          4,
          5,
          6,
          7,
          8,
          9,
          10
         ],
         "y": [
          775.8157288830972,
          461.448632884253,
          392.8508245809404,
          290.1079709333442,
          255.09861178357144,
          247.1524421449413,
          209.42298974186494,
          183.44718084147624,
          172.76471801359108,
          162.27184193472937
         ]
        }
       ],
       "frames": [],
       "layout": {
        "margin": {
         "b": 50,
         "l": 50,
         "r": 50,
         "t": 60
        },
        "template": {
         "data": {
          "bar": [
           {
            "error_x": {
             "color": "#2a3f5f"
            },
            "error_y": {
             "color": "#2a3f5f"
            },
            "marker": {
             "line": {
              "color": "#E5ECF6",
              "width": 0.5
             }
            },
            "type": "bar"
           }
          ],
          "barpolar": [
           {
            "marker": {
             "line": {
              "color": "#E5ECF6",
              "width": 0.5
             }
            },
            "type": "barpolar"
           }
          ],
          "carpet": [
           {
            "aaxis": {
             "endlinecolor": "#2a3f5f",
             "gridcolor": "white",
             "linecolor": "white",
             "minorgridcolor": "white",
             "startlinecolor": "#2a3f5f"
            },
            "baxis": {
             "endlinecolor": "#2a3f5f",
             "gridcolor": "white",
             "linecolor": "white",
             "minorgridcolor": "white",
             "startlinecolor": "#2a3f5f"
            },
            "type": "carpet"
           }
          ],
          "choropleth": [
           {
            "colorbar": {
             "outlinewidth": 0,
             "ticks": ""
            },
            "type": "choropleth"
           }
          ],
          "contour": [
           {
            "colorbar": {
             "outlinewidth": 0,
             "ticks": ""
            },
            "colorscale": [
             [
              0,
              "#0d0887"
             ],
             [
              0.1111111111111111,
              "#46039f"
             ],
             [
              0.2222222222222222,
              "#7201a8"
             ],
             [
              0.3333333333333333,
              "#9c179e"
             ],
             [
              0.4444444444444444,
              "#bd3786"
             ],
             [
              0.5555555555555556,
              "#d8576b"
             ],
             [
              0.6666666666666666,
              "#ed7953"
             ],
             [
              0.7777777777777778,
              "#fb9f3a"
             ],
             [
              0.8888888888888888,
              "#fdca26"
             ],
             [
              1,
              "#f0f921"
             ]
            ],
            "type": "contour"
           }
          ],
          "contourcarpet": [
           {
            "colorbar": {
             "outlinewidth": 0,
             "ticks": ""
            },
            "type": "contourcarpet"
           }
          ],
          "heatmap": [
           {
            "colorbar": {
             "outlinewidth": 0,
             "ticks": ""
            },
            "colorscale": [
             [
              0,
              "#0d0887"
             ],
             [
              0.1111111111111111,
              "#46039f"
             ],
             [
              0.2222222222222222,
              "#7201a8"
             ],
             [
              0.3333333333333333,
              "#9c179e"
             ],
             [
              0.4444444444444444,
              "#bd3786"
             ],
             [
              0.5555555555555556,
              "#d8576b"
             ],
             [
              0.6666666666666666,
              "#ed7953"
             ],
             [
              0.7777777777777778,
              "#fb9f3a"
             ],
             [
              0.8888888888888888,
              "#fdca26"
             ],
             [
              1,
              "#f0f921"
             ]
            ],
            "type": "heatmap"
           }
          ],
          "heatmapgl": [
           {
            "colorbar": {
             "outlinewidth": 0,
             "ticks": ""
            },
            "colorscale": [
             [
              0,
              "#0d0887"
             ],
             [
              0.1111111111111111,
              "#46039f"
             ],
             [
              0.2222222222222222,
              "#7201a8"
             ],
             [
              0.3333333333333333,
              "#9c179e"
             ],
             [
              0.4444444444444444,
              "#bd3786"
             ],
             [
              0.5555555555555556,
              "#d8576b"
             ],
             [
              0.6666666666666666,
              "#ed7953"
             ],
             [
              0.7777777777777778,
              "#fb9f3a"
             ],
             [
              0.8888888888888888,
              "#fdca26"
             ],
             [
              1,
              "#f0f921"
             ]
            ],
            "type": "heatmapgl"
           }
          ],
          "histogram": [
           {
            "marker": {
             "colorbar": {
              "outlinewidth": 0,
              "ticks": ""
             }
            },
            "type": "histogram"
           }
          ],
          "histogram2d": [
           {
            "colorbar": {
             "outlinewidth": 0,
             "ticks": ""
            },
            "colorscale": [
             [
              0,
              "#0d0887"
             ],
             [
              0.1111111111111111,
              "#46039f"
             ],
             [
              0.2222222222222222,
              "#7201a8"
             ],
             [
              0.3333333333333333,
              "#9c179e"
             ],
             [
              0.4444444444444444,
              "#bd3786"
             ],
             [
              0.5555555555555556,
              "#d8576b"
             ],
             [
              0.6666666666666666,
              "#ed7953"
             ],
             [
              0.7777777777777778,
              "#fb9f3a"
             ],
             [
              0.8888888888888888,
              "#fdca26"
             ],
             [
              1,
              "#f0f921"
             ]
            ],
            "type": "histogram2d"
           }
          ],
          "histogram2dcontour": [
           {
            "colorbar": {
             "outlinewidth": 0,
             "ticks": ""
            },
            "colorscale": [
             [
              0,
              "#0d0887"
             ],
             [
              0.1111111111111111,
              "#46039f"
             ],
             [
              0.2222222222222222,
              "#7201a8"
             ],
             [
              0.3333333333333333,
              "#9c179e"
             ],
             [
              0.4444444444444444,
              "#bd3786"
             ],
             [
              0.5555555555555556,
              "#d8576b"
             ],
             [
              0.6666666666666666,
              "#ed7953"
             ],
             [
              0.7777777777777778,
              "#fb9f3a"
             ],
             [
              0.8888888888888888,
              "#fdca26"
             ],
             [
              1,
              "#f0f921"
             ]
            ],
            "type": "histogram2dcontour"
           }
          ],
          "mesh3d": [
           {
            "colorbar": {
             "outlinewidth": 0,
             "ticks": ""
            },
            "type": "mesh3d"
           }
          ],
          "parcoords": [
           {
            "line": {
             "colorbar": {
              "outlinewidth": 0,
              "ticks": ""
             }
            },
            "type": "parcoords"
           }
          ],
          "pie": [
           {
            "automargin": true,
            "type": "pie"
           }
          ],
          "scatter": [
           {
            "marker": {
             "colorbar": {
              "outlinewidth": 0,
              "ticks": ""
             }
            },
            "type": "scatter"
           }
          ],
          "scatter3d": [
           {
            "line": {
             "colorbar": {
              "outlinewidth": 0,
              "ticks": ""
             }
            },
            "marker": {
             "colorbar": {
              "outlinewidth": 0,
              "ticks": ""
             }
            },
            "type": "scatter3d"
           }
          ],
          "scattercarpet": [
           {
            "marker": {
             "colorbar": {
              "outlinewidth": 0,
              "ticks": ""
             }
            },
            "type": "scattercarpet"
           }
          ],
          "scattergeo": [
           {
            "marker": {
             "colorbar": {
              "outlinewidth": 0,
              "ticks": ""
             }
            },
            "type": "scattergeo"
           }
          ],
          "scattergl": [
           {
            "marker": {
             "colorbar": {
              "outlinewidth": 0,
              "ticks": ""
             }
            },
            "type": "scattergl"
           }
          ],
          "scattermapbox": [
           {
            "marker": {
             "colorbar": {
              "outlinewidth": 0,
              "ticks": ""
             }
            },
            "type": "scattermapbox"
           }
          ],
          "scatterpolar": [
           {
            "marker": {
             "colorbar": {
              "outlinewidth": 0,
              "ticks": ""
             }
            },
            "type": "scatterpolar"
           }
          ],
          "scatterpolargl": [
           {
            "marker": {
             "colorbar": {
              "outlinewidth": 0,
              "ticks": ""
             }
            },
            "type": "scatterpolargl"
           }
          ],
          "scatterternary": [
           {
            "marker": {
             "colorbar": {
              "outlinewidth": 0,
              "ticks": ""
             }
            },
            "type": "scatterternary"
           }
          ],
          "surface": [
           {
            "colorbar": {
             "outlinewidth": 0,
             "ticks": ""
            },
            "colorscale": [
             [
              0,
              "#0d0887"
             ],
             [
              0.1111111111111111,
              "#46039f"
             ],
             [
              0.2222222222222222,
              "#7201a8"
             ],
             [
              0.3333333333333333,
              "#9c179e"
             ],
             [
              0.4444444444444444,
              "#bd3786"
             ],
             [
              0.5555555555555556,
              "#d8576b"
             ],
             [
              0.6666666666666666,
              "#ed7953"
             ],
             [
              0.7777777777777778,
              "#fb9f3a"
             ],
             [
              0.8888888888888888,
              "#fdca26"
             ],
             [
              1,
              "#f0f921"
             ]
            ],
            "type": "surface"
           }
          ],
          "table": [
           {
            "cells": {
             "fill": {
              "color": "#EBF0F8"
             },
             "line": {
              "color": "white"
             }
            },
            "header": {
             "fill": {
              "color": "#C8D4E3"
             },
             "line": {
              "color": "white"
             }
            },
            "type": "table"
           }
          ]
         },
         "layout": {
          "annotationdefaults": {
           "arrowcolor": "#2a3f5f",
           "arrowhead": 0,
           "arrowwidth": 1
          },
          "autotypenumbers": "strict",
          "coloraxis": {
           "colorbar": {
            "outlinewidth": 0,
            "ticks": ""
           }
          },
          "colorscale": {
           "diverging": [
            [
             0,
             "#8e0152"
            ],
            [
             0.1,
             "#c51b7d"
            ],
            [
             0.2,
             "#de77ae"
            ],
            [
             0.3,
             "#f1b6da"
            ],
            [
             0.4,
             "#fde0ef"
            ],
            [
             0.5,
             "#f7f7f7"
            ],
            [
             0.6,
             "#e6f5d0"
            ],
            [
             0.7,
             "#b8e186"
            ],
            [
             0.8,
             "#7fbc41"
            ],
            [
             0.9,
             "#4d9221"
            ],
            [
             1,
             "#276419"
            ]
           ],
           "sequential": [
            [
             0,
             "#0d0887"
            ],
            [
             0.1111111111111111,
             "#46039f"
            ],
            [
             0.2222222222222222,
             "#7201a8"
            ],
            [
             0.3333333333333333,
             "#9c179e"
            ],
            [
             0.4444444444444444,
             "#bd3786"
            ],
            [
             0.5555555555555556,
             "#d8576b"
            ],
            [
             0.6666666666666666,
             "#ed7953"
            ],
            [
             0.7777777777777778,
             "#fb9f3a"
            ],
            [
             0.8888888888888888,
             "#fdca26"
            ],
            [
             1,
             "#f0f921"
            ]
           ],
           "sequentialminus": [
            [
             0,
             "#0d0887"
            ],
            [
             0.1111111111111111,
             "#46039f"
            ],
            [
             0.2222222222222222,
             "#7201a8"
            ],
            [
             0.3333333333333333,
             "#9c179e"
            ],
            [
             0.4444444444444444,
             "#bd3786"
            ],
            [
             0.5555555555555556,
             "#d8576b"
            ],
            [
             0.6666666666666666,
             "#ed7953"
            ],
            [
             0.7777777777777778,
             "#fb9f3a"
            ],
            [
             0.8888888888888888,
             "#fdca26"
            ],
            [
             1,
             "#f0f921"
            ]
           ]
          },
          "colorway": [
           "#636efa",
           "#EF553B",
           "#00cc96",
           "#ab63fa",
           "#FFA15A",
           "#19d3f3",
           "#FF6692",
           "#B6E880",
           "#FF97FF",
           "#FECB52"
          ],
          "font": {
           "color": "#2a3f5f"
          },
          "geo": {
           "bgcolor": "white",
           "lakecolor": "white",
           "landcolor": "#E5ECF6",
           "showlakes": true,
           "showland": true,
           "subunitcolor": "white"
          },
          "hoverlabel": {
           "align": "left"
          },
          "hovermode": "closest",
          "mapbox": {
           "style": "light"
          },
          "paper_bgcolor": "white",
          "plot_bgcolor": "#E5ECF6",
          "polar": {
           "angularaxis": {
            "gridcolor": "white",
            "linecolor": "white",
            "ticks": ""
           },
           "bgcolor": "#E5ECF6",
           "radialaxis": {
            "gridcolor": "white",
            "linecolor": "white",
            "ticks": ""
           }
          },
          "scene": {
           "xaxis": {
            "backgroundcolor": "#E5ECF6",
            "gridcolor": "white",
            "gridwidth": 2,
            "linecolor": "white",
            "showbackground": true,
            "ticks": "",
            "zerolinecolor": "white"
           },
           "yaxis": {
            "backgroundcolor": "#E5ECF6",
            "gridcolor": "white",
            "gridwidth": 2,
            "linecolor": "white",
            "showbackground": true,
            "ticks": "",
            "zerolinecolor": "white"
           },
           "zaxis": {
            "backgroundcolor": "#E5ECF6",
            "gridcolor": "white",
            "gridwidth": 2,
            "linecolor": "white",
            "showbackground": true,
            "ticks": "",
            "zerolinecolor": "white"
           }
          },
          "shapedefaults": {
           "line": {
            "color": "#2a3f5f"
           }
          },
          "ternary": {
           "aaxis": {
            "gridcolor": "white",
            "linecolor": "white",
            "ticks": ""
           },
           "baxis": {
            "gridcolor": "white",
            "linecolor": "white",
            "ticks": ""
           },
           "bgcolor": "#E5ECF6",
           "caxis": {
            "gridcolor": "white",
            "linecolor": "white",
            "ticks": ""
           }
          },
          "title": {
           "x": 0.05
          },
          "xaxis": {
           "automargin": true,
           "gridcolor": "white",
           "linecolor": "white",
           "ticks": "",
           "title": {
            "standoff": 15
           },
           "zerolinecolor": "white",
           "zerolinewidth": 2
          },
          "yaxis": {
           "automargin": true,
           "gridcolor": "white",
           "linecolor": "white",
           "ticks": "",
           "title": {
            "standoff": 15
           },
           "zerolinecolor": "white",
           "zerolinewidth": 2
          }
         }
        }
       }
      },
      "text/html": [
       "<div\n",
       "    class=\"webio-mountpoint\"\n",
       "    data-webio-mountpoint=\"729970484834139513\"\n",
       ">\n",
       "    <script>\n",
       "    (function(){\n",
       "    // Some integrations (namely, IJulia/Jupyter) use an alternate render pathway than\n",
       "    // just putting the html on the page. If WebIO isn't defined, then it's pretty likely\n",
       "    // that we're in one of those situations and the integration just isn't installed\n",
       "    // correctly.\n",
       "    if (typeof window.WebIO === \"undefined\") {\n",
       "        document\n",
       "            .querySelector('[data-webio-mountpoint=\"729970484834139513\"]')\n",
       "            .innerHTML = (\n",
       "                '<div style=\"padding: 1em; background-color: #f8d6da; border: 1px solid #f5c6cb; font-weight: bold;\">' +\n",
       "                '<p><strong>WebIO not detected.</strong></p>' +\n",
       "                '<p>Please read ' +\n",
       "                '<a href=\"https://juliagizmos.github.io/WebIO.jl/latest/troubleshooting/not-detected/\" target=\"_blank\">the troubleshooting guide</a> ' +\n",
       "                'for more information on how to resolve this issue.</p>' +\n",
       "                '<p><a href=\"https://juliagizmos.github.io/WebIO.jl/latest/troubleshooting/not-detected/\" target=\"_blank\">https://juliagizmos.github.io/WebIO.jl/latest/troubleshooting/not-detected/</a></p>' +\n",
       "                '</div>'\n",
       "            );\n",
       "        return;\n",
       "    }\n",
       "    WebIO.mount(\n",
       "        document.querySelector('[data-webio-mountpoint=\"729970484834139513\"]'),\n",
       "        {\"props\":{},\"nodeType\":\"Scope\",\"type\":\"node\",\"instanceArgs\":{\"imports\":{\"data\":[{\"name\":\"Plotly\",\"type\":\"js\",\"url\":\"\\/assetserver\\/597d3e3981791f3da20e7b96cab90ffffca4599e-plotly.min.js\"},{\"name\":null,\"type\":\"js\",\"url\":\"\\/assetserver\\/d21cc61a8b26f5a8d90707d16621e32300c2e5ed-plotly_webio.bundle.js\"}],\"type\":\"async_block\"},\"id\":\"1128370542210953234\",\"handlers\":{\"_toImage\":[\"(function (options){return this.Plotly.toImage(this.plotElem,options).then((function (data){return WebIO.setval({\\\"name\\\":\\\"image\\\",\\\"scope\\\":\\\"1128370542210953234\\\",\\\"id\\\":\\\"3444195713209721588\\\",\\\"type\\\":\\\"observable\\\"},data)}))})\"],\"__get_gd_contents\":[\"(function (prop){prop==\\\"data\\\" ? (WebIO.setval({\\\"name\\\":\\\"__gd_contents\\\",\\\"scope\\\":\\\"1128370542210953234\\\",\\\"id\\\":\\\"1605850867435809997\\\",\\\"type\\\":\\\"observable\\\"},this.plotElem.data)) : undefined; return prop==\\\"layout\\\" ? (WebIO.setval({\\\"name\\\":\\\"__gd_contents\\\",\\\"scope\\\":\\\"1128370542210953234\\\",\\\"id\\\":\\\"1605850867435809997\\\",\\\"type\\\":\\\"observable\\\"},this.plotElem.layout)) : undefined})\"],\"_downloadImage\":[\"(function (options){return this.Plotly.downloadImage(this.plotElem,options)})\"],\"_commands\":[\"(function (args){var fn=args.shift(); var elem=this.plotElem; var Plotly=this.Plotly; args.unshift(elem); return Plotly[fn].apply(this,args)})\"]},\"systemjs_options\":null,\"mount_callbacks\":[\"function () {\\n    var handler = ((function (Plotly,PlotlyWebIO){PlotlyWebIO.init(WebIO); var gd=this.dom.querySelector(\\\"#plot-815a3778-2eee-4871-bdec-3b637fccbb6b\\\"); this.plotElem=gd; this.Plotly=Plotly; (window.Blink!==undefined) ? (gd.style.width=\\\"100%\\\", gd.style.height=\\\"100vh\\\", gd.style.marginLeft=\\\"0%\\\", gd.style.marginTop=\\\"0vh\\\") : undefined; window.onresize=(function (){return Plotly.Plots.resize(gd)}); Plotly.newPlot(gd,[{\\\"y\\\":[775.8157288830972,461.448632884253,392.8508245809404,290.1079709333442,255.09861178357144,247.1524421449413,209.42298974186494,183.44718084147624,172.76471801359108,162.27184193472937],\\\"type\\\":\\\"bar\\\",\\\"x\\\":[1,2,3,4,5,6,7,8,9,10]}],{\\\"template\\\":{\\\"layout\\\":{\\\"coloraxis\\\":{\\\"colorbar\\\":{\\\"ticks\\\":\\\"\\\",\\\"outlinewidth\\\":0}},\\\"xaxis\\\":{\\\"gridcolor\\\":\\\"white\\\",\\\"zerolinewidth\\\":2,\\\"title\\\":{\\\"standoff\\\":15},\\\"ticks\\\":\\\"\\\",\\\"zerolinecolor\\\":\\\"white\\\",\\\"automargin\\\":true,\\\"linecolor\\\":\\\"white\\\"},\\\"hovermode\\\":\\\"closest\\\",\\\"paper_bgcolor\\\":\\\"white\\\",\\\"geo\\\":{\\\"showlakes\\\":true,\\\"showland\\\":true,\\\"landcolor\\\":\\\"#E5ECF6\\\",\\\"bgcolor\\\":\\\"white\\\",\\\"subunitcolor\\\":\\\"white\\\",\\\"lakecolor\\\":\\\"white\\\"},\\\"colorscale\\\":{\\\"sequential\\\":[[0.0,\\\"#0d0887\\\"],[0.1111111111111111,\\\"#46039f\\\"],[0.2222222222222222,\\\"#7201a8\\\"],[0.3333333333333333,\\\"#9c179e\\\"],[0.4444444444444444,\\\"#bd3786\\\"],[0.5555555555555556,\\\"#d8576b\\\"],[0.6666666666666666,\\\"#ed7953\\\"],[0.7777777777777778,\\\"#fb9f3a\\\"],[0.8888888888888888,\\\"#fdca26\\\"],[1.0,\\\"#f0f921\\\"]],\\\"diverging\\\":[[0,\\\"#8e0152\\\"],[0.1,\\\"#c51b7d\\\"],[0.2,\\\"#de77ae\\\"],[0.3,\\\"#f1b6da\\\"],[0.4,\\\"#fde0ef\\\"],[0.5,\\\"#f7f7f7\\\"],[0.6,\\\"#e6f5d0\\\"],[0.7,\\\"#b8e186\\\"],[0.8,\\\"#7fbc41\\\"],[0.9,\\\"#4d9221\\\"],[1,\\\"#276419\\\"]],\\\"sequentialminus\\\":[[0.0,\\\"#0d0887\\\"],[0.1111111111111111,\\\"#46039f\\\"],[0.2222222222222222,\\\"#7201a8\\\"],[0.3333333333333333,\\\"#9c179e\\\"],[0.4444444444444444,\\\"#bd3786\\\"],[0.5555555555555556,\\\"#d8576b\\\"],[0.6666666666666666,\\\"#ed7953\\\"],[0.7777777777777778,\\\"#fb9f3a\\\"],[0.8888888888888888,\\\"#fdca26\\\"],[1.0,\\\"#f0f921\\\"]]},\\\"yaxis\\\":{\\\"gridcolor\\\":\\\"white\\\",\\\"zerolinewidth\\\":2,\\\"title\\\":{\\\"standoff\\\":15},\\\"ticks\\\":\\\"\\\",\\\"zerolinecolor\\\":\\\"white\\\",\\\"automargin\\\":true,\\\"linecolor\\\":\\\"white\\\"},\\\"shapedefaults\\\":{\\\"line\\\":{\\\"color\\\":\\\"#2a3f5f\\\"}},\\\"hoverlabel\\\":{\\\"align\\\":\\\"left\\\"},\\\"mapbox\\\":{\\\"style\\\":\\\"light\\\"},\\\"polar\\\":{\\\"angularaxis\\\":{\\\"gridcolor\\\":\\\"white\\\",\\\"ticks\\\":\\\"\\\",\\\"linecolor\\\":\\\"white\\\"},\\\"bgcolor\\\":\\\"#E5ECF6\\\",\\\"radialaxis\\\":{\\\"gridcolor\\\":\\\"white\\\",\\\"ticks\\\":\\\"\\\",\\\"linecolor\\\":\\\"white\\\"}},\\\"autotypenumbers\\\":\\\"strict\\\",\\\"font\\\":{\\\"color\\\":\\\"#2a3f5f\\\"},\\\"ternary\\\":{\\\"baxis\\\":{\\\"gridcolor\\\":\\\"white\\\",\\\"ticks\\\":\\\"\\\",\\\"linecolor\\\":\\\"white\\\"},\\\"bgcolor\\\":\\\"#E5ECF6\\\",\\\"caxis\\\":{\\\"gridcolor\\\":\\\"white\\\",\\\"ticks\\\":\\\"\\\",\\\"linecolor\\\":\\\"white\\\"},\\\"aaxis\\\":{\\\"gridcolor\\\":\\\"white\\\",\\\"ticks\\\":\\\"\\\",\\\"linecolor\\\":\\\"white\\\"}},\\\"annotationdefaults\\\":{\\\"arrowhead\\\":0,\\\"arrowwidth\\\":1,\\\"arrowcolor\\\":\\\"#2a3f5f\\\"},\\\"plot_bgcolor\\\":\\\"#E5ECF6\\\",\\\"title\\\":{\\\"x\\\":0.05},\\\"scene\\\":{\\\"xaxis\\\":{\\\"gridcolor\\\":\\\"white\\\",\\\"gridwidth\\\":2,\\\"backgroundcolor\\\":\\\"#E5ECF6\\\",\\\"ticks\\\":\\\"\\\",\\\"showbackground\\\":true,\\\"zerolinecolor\\\":\\\"white\\\",\\\"linecolor\\\":\\\"white\\\"},\\\"zaxis\\\":{\\\"gridcolor\\\":\\\"white\\\",\\\"gridwidth\\\":2,\\\"backgroundcolor\\\":\\\"#E5ECF6\\\",\\\"ticks\\\":\\\"\\\",\\\"showbackground\\\":true,\\\"zerolinecolor\\\":\\\"white\\\",\\\"linecolor\\\":\\\"white\\\"},\\\"yaxis\\\":{\\\"gridcolor\\\":\\\"white\\\",\\\"gridwidth\\\":2,\\\"backgroundcolor\\\":\\\"#E5ECF6\\\",\\\"ticks\\\":\\\"\\\",\\\"showbackground\\\":true,\\\"zerolinecolor\\\":\\\"white\\\",\\\"linecolor\\\":\\\"white\\\"}},\\\"colorway\\\":[\\\"#636efa\\\",\\\"#EF553B\\\",\\\"#00cc96\\\",\\\"#ab63fa\\\",\\\"#FFA15A\\\",\\\"#19d3f3\\\",\\\"#FF6692\\\",\\\"#B6E880\\\",\\\"#FF97FF\\\",\\\"#FECB52\\\"]},\\\"data\\\":{\\\"barpolar\\\":[{\\\"type\\\":\\\"barpolar\\\",\\\"marker\\\":{\\\"line\\\":{\\\"color\\\":\\\"#E5ECF6\\\",\\\"width\\\":0.5}}}],\\\"carpet\\\":[{\\\"aaxis\\\":{\\\"gridcolor\\\":\\\"white\\\",\\\"endlinecolor\\\":\\\"#2a3f5f\\\",\\\"minorgridcolor\\\":\\\"white\\\",\\\"startlinecolor\\\":\\\"#2a3f5f\\\",\\\"linecolor\\\":\\\"white\\\"},\\\"type\\\":\\\"carpet\\\",\\\"baxis\\\":{\\\"gridcolor\\\":\\\"white\\\",\\\"endlinecolor\\\":\\\"#2a3f5f\\\",\\\"minorgridcolor\\\":\\\"white\\\",\\\"startlinecolor\\\":\\\"#2a3f5f\\\",\\\"linecolor\\\":\\\"white\\\"}}],\\\"scatterpolar\\\":[{\\\"type\\\":\\\"scatterpolar\\\",\\\"marker\\\":{\\\"colorbar\\\":{\\\"ticks\\\":\\\"\\\",\\\"outlinewidth\\\":0}}}],\\\"parcoords\\\":[{\\\"line\\\":{\\\"colorbar\\\":{\\\"ticks\\\":\\\"\\\",\\\"outlinewidth\\\":0}},\\\"type\\\":\\\"parcoords\\\"}],\\\"scatter\\\":[{\\\"type\\\":\\\"scatter\\\",\\\"marker\\\":{\\\"colorbar\\\":{\\\"ticks\\\":\\\"\\\",\\\"outlinewidth\\\":0}}}],\\\"histogram2dcontour\\\":[{\\\"colorbar\\\":{\\\"ticks\\\":\\\"\\\",\\\"outlinewidth\\\":0},\\\"type\\\":\\\"histogram2dcontour\\\",\\\"colorscale\\\":[[0.0,\\\"#0d0887\\\"],[0.1111111111111111,\\\"#46039f\\\"],[0.2222222222222222,\\\"#7201a8\\\"],[0.3333333333333333,\\\"#9c179e\\\"],[0.4444444444444444,\\\"#bd3786\\\"],[0.5555555555555556,\\\"#d8576b\\\"],[0.6666666666666666,\\\"#ed7953\\\"],[0.7777777777777778,\\\"#fb9f3a\\\"],[0.8888888888888888,\\\"#fdca26\\\"],[1.0,\\\"#f0f921\\\"]]}],\\\"contour\\\":[{\\\"colorbar\\\":{\\\"ticks\\\":\\\"\\\",\\\"outlinewidth\\\":0},\\\"type\\\":\\\"contour\\\",\\\"colorscale\\\":[[0.0,\\\"#0d0887\\\"],[0.1111111111111111,\\\"#46039f\\\"],[0.2222222222222222,\\\"#7201a8\\\"],[0.3333333333333333,\\\"#9c179e\\\"],[0.4444444444444444,\\\"#bd3786\\\"],[0.5555555555555556,\\\"#d8576b\\\"],[0.6666666666666666,\\\"#ed7953\\\"],[0.7777777777777778,\\\"#fb9f3a\\\"],[0.8888888888888888,\\\"#fdca26\\\"],[1.0,\\\"#f0f921\\\"]]}],\\\"scattercarpet\\\":[{\\\"type\\\":\\\"scattercarpet\\\",\\\"marker\\\":{\\\"colorbar\\\":{\\\"ticks\\\":\\\"\\\",\\\"outlinewidth\\\":0}}}],\\\"mesh3d\\\":[{\\\"colorbar\\\":{\\\"ticks\\\":\\\"\\\",\\\"outlinewidth\\\":0},\\\"type\\\":\\\"mesh3d\\\"}],\\\"surface\\\":[{\\\"colorbar\\\":{\\\"ticks\\\":\\\"\\\",\\\"outlinewidth\\\":0},\\\"type\\\":\\\"surface\\\",\\\"colorscale\\\":[[0.0,\\\"#0d0887\\\"],[0.1111111111111111,\\\"#46039f\\\"],[0.2222222222222222,\\\"#7201a8\\\"],[0.3333333333333333,\\\"#9c179e\\\"],[0.4444444444444444,\\\"#bd3786\\\"],[0.5555555555555556,\\\"#d8576b\\\"],[0.6666666666666666,\\\"#ed7953\\\"],[0.7777777777777778,\\\"#fb9f3a\\\"],[0.8888888888888888,\\\"#fdca26\\\"],[1.0,\\\"#f0f921\\\"]]}],\\\"scattermapbox\\\":[{\\\"type\\\":\\\"scattermapbox\\\",\\\"marker\\\":{\\\"colorbar\\\":{\\\"ticks\\\":\\\"\\\",\\\"outlinewidth\\\":0}}}],\\\"scattergeo\\\":[{\\\"type\\\":\\\"scattergeo\\\",\\\"marker\\\":{\\\"colorbar\\\":{\\\"ticks\\\":\\\"\\\",\\\"outlinewidth\\\":0}}}],\\\"histogram\\\":[{\\\"type\\\":\\\"histogram\\\",\\\"marker\\\":{\\\"colorbar\\\":{\\\"ticks\\\":\\\"\\\",\\\"outlinewidth\\\":0}}}],\\\"pie\\\":[{\\\"type\\\":\\\"pie\\\",\\\"automargin\\\":true}],\\\"choropleth\\\":[{\\\"colorbar\\\":{\\\"ticks\\\":\\\"\\\",\\\"outlinewidth\\\":0},\\\"type\\\":\\\"choropleth\\\"}],\\\"heatmapgl\\\":[{\\\"colorbar\\\":{\\\"ticks\\\":\\\"\\\",\\\"outlinewidth\\\":0},\\\"type\\\":\\\"heatmapgl\\\",\\\"colorscale\\\":[[0.0,\\\"#0d0887\\\"],[0.1111111111111111,\\\"#46039f\\\"],[0.2222222222222222,\\\"#7201a8\\\"],[0.3333333333333333,\\\"#9c179e\\\"],[0.4444444444444444,\\\"#bd3786\\\"],[0.5555555555555556,\\\"#d8576b\\\"],[0.6666666666666666,\\\"#ed7953\\\"],[0.7777777777777778,\\\"#fb9f3a\\\"],[0.8888888888888888,\\\"#fdca26\\\"],[1.0,\\\"#f0f921\\\"]]}],\\\"bar\\\":[{\\\"type\\\":\\\"bar\\\",\\\"error_y\\\":{\\\"color\\\":\\\"#2a3f5f\\\"},\\\"error_x\\\":{\\\"color\\\":\\\"#2a3f5f\\\"},\\\"marker\\\":{\\\"line\\\":{\\\"color\\\":\\\"#E5ECF6\\\",\\\"width\\\":0.5}}}],\\\"heatmap\\\":[{\\\"colorbar\\\":{\\\"ticks\\\":\\\"\\\",\\\"outlinewidth\\\":0},\\\"type\\\":\\\"heatmap\\\",\\\"colorscale\\\":[[0.0,\\\"#0d0887\\\"],[0.1111111111111111,\\\"#46039f\\\"],[0.2222222222222222,\\\"#7201a8\\\"],[0.3333333333333333,\\\"#9c179e\\\"],[0.4444444444444444,\\\"#bd3786\\\"],[0.5555555555555556,\\\"#d8576b\\\"],[0.6666666666666666,\\\"#ed7953\\\"],[0.7777777777777778,\\\"#fb9f3a\\\"],[0.8888888888888888,\\\"#fdca26\\\"],[1.0,\\\"#f0f921\\\"]]}],\\\"contourcarpet\\\":[{\\\"colorbar\\\":{\\\"ticks\\\":\\\"\\\",\\\"outlinewidth\\\":0},\\\"type\\\":\\\"contourcarpet\\\"}],\\\"table\\\":[{\\\"type\\\":\\\"table\\\",\\\"header\\\":{\\\"line\\\":{\\\"color\\\":\\\"white\\\"},\\\"fill\\\":{\\\"color\\\":\\\"#C8D4E3\\\"}},\\\"cells\\\":{\\\"line\\\":{\\\"color\\\":\\\"white\\\"},\\\"fill\\\":{\\\"color\\\":\\\"#EBF0F8\\\"}}}],\\\"scatter3d\\\":[{\\\"line\\\":{\\\"colorbar\\\":{\\\"ticks\\\":\\\"\\\",\\\"outlinewidth\\\":0}},\\\"type\\\":\\\"scatter3d\\\",\\\"marker\\\":{\\\"colorbar\\\":{\\\"ticks\\\":\\\"\\\",\\\"outlinewidth\\\":0}}}],\\\"scattergl\\\":[{\\\"type\\\":\\\"scattergl\\\",\\\"marker\\\":{\\\"colorbar\\\":{\\\"ticks\\\":\\\"\\\",\\\"outlinewidth\\\":0}}}],\\\"histogram2d\\\":[{\\\"colorbar\\\":{\\\"ticks\\\":\\\"\\\",\\\"outlinewidth\\\":0},\\\"type\\\":\\\"histogram2d\\\",\\\"colorscale\\\":[[0.0,\\\"#0d0887\\\"],[0.1111111111111111,\\\"#46039f\\\"],[0.2222222222222222,\\\"#7201a8\\\"],[0.3333333333333333,\\\"#9c179e\\\"],[0.4444444444444444,\\\"#bd3786\\\"],[0.5555555555555556,\\\"#d8576b\\\"],[0.6666666666666666,\\\"#ed7953\\\"],[0.7777777777777778,\\\"#fb9f3a\\\"],[0.8888888888888888,\\\"#fdca26\\\"],[1.0,\\\"#f0f921\\\"]]}],\\\"scatterternary\\\":[{\\\"type\\\":\\\"scatterternary\\\",\\\"marker\\\":{\\\"colorbar\\\":{\\\"ticks\\\":\\\"\\\",\\\"outlinewidth\\\":0}}}],\\\"scatterpolargl\\\":[{\\\"type\\\":\\\"scatterpolargl\\\",\\\"marker\\\":{\\\"colorbar\\\":{\\\"ticks\\\":\\\"\\\",\\\"outlinewidth\\\":0}}}]}},\\\"margin\\\":{\\\"l\\\":50,\\\"b\\\":50,\\\"r\\\":50,\\\"t\\\":60}},{\\\"showLink\\\":false,\\\"editable\\\":false,\\\"responsive\\\":true,\\\"staticPlot\\\":false,\\\"scrollZoom\\\":true}); gd.on(\\\"plotly_hover\\\",(function (data){var filtered_data=WebIO.PlotlyCommands.filterEventData(gd,data,\\\"hover\\\"); return !(filtered_data.isnil) ? (WebIO.setval({\\\"name\\\":\\\"hover\\\",\\\"scope\\\":\\\"1128370542210953234\\\",\\\"id\\\":\\\"18050106912077191756\\\",\\\"type\\\":\\\"observable\\\"},filtered_data.out)) : undefined})); gd.on(\\\"plotly_unhover\\\",(function (){return WebIO.setval({\\\"name\\\":\\\"hover\\\",\\\"scope\\\":\\\"1128370542210953234\\\",\\\"id\\\":\\\"18050106912077191756\\\",\\\"type\\\":\\\"observable\\\"},{})})); gd.on(\\\"plotly_selected\\\",(function (data){var filtered_data=WebIO.PlotlyCommands.filterEventData(gd,data,\\\"selected\\\"); return !(filtered_data.isnil) ? (WebIO.setval({\\\"name\\\":\\\"selected\\\",\\\"scope\\\":\\\"1128370542210953234\\\",\\\"id\\\":\\\"5598795072903002459\\\",\\\"type\\\":\\\"observable\\\"},filtered_data.out)) : undefined})); gd.on(\\\"plotly_deselect\\\",(function (){return WebIO.setval({\\\"name\\\":\\\"selected\\\",\\\"scope\\\":\\\"1128370542210953234\\\",\\\"id\\\":\\\"5598795072903002459\\\",\\\"type\\\":\\\"observable\\\"},{})})); gd.on(\\\"plotly_relayout\\\",(function (data){var filtered_data=WebIO.PlotlyCommands.filterEventData(gd,data,\\\"relayout\\\"); return !(filtered_data.isnil) ? (WebIO.setval({\\\"name\\\":\\\"relayout\\\",\\\"scope\\\":\\\"1128370542210953234\\\",\\\"id\\\":\\\"6425364780693348313\\\",\\\"type\\\":\\\"observable\\\"},filtered_data.out)) : undefined})); return gd.on(\\\"plotly_click\\\",(function (data){var filtered_data=WebIO.PlotlyCommands.filterEventData(gd,data,\\\"click\\\"); return !(filtered_data.isnil) ? (WebIO.setval({\\\"name\\\":\\\"click\\\",\\\"scope\\\":\\\"1128370542210953234\\\",\\\"id\\\":\\\"9656491830999967398\\\",\\\"type\\\":\\\"observable\\\"},filtered_data.out)) : undefined}))}));\\n    (WebIO.importBlock({\\\"data\\\":[{\\\"name\\\":\\\"Plotly\\\",\\\"type\\\":\\\"js\\\",\\\"url\\\":\\\"\\/assetserver\\/597d3e3981791f3da20e7b96cab90ffffca4599e-plotly.min.js\\\"},{\\\"name\\\":null,\\\"type\\\":\\\"js\\\",\\\"url\\\":\\\"\\/assetserver\\/d21cc61a8b26f5a8d90707d16621e32300c2e5ed-plotly_webio.bundle.js\\\"}],\\\"type\\\":\\\"async_block\\\"})).then((imports) => handler.apply(this, imports));\\n}\\n\"],\"observables\":{\"_toImage\":{\"sync\":false,\"id\":\"1968046683741831567\",\"value\":{}},\"hover\":{\"sync\":false,\"id\":\"18050106912077191756\",\"value\":{}},\"selected\":{\"sync\":false,\"id\":\"5598795072903002459\",\"value\":{}},\"__gd_contents\":{\"sync\":false,\"id\":\"1605850867435809997\",\"value\":{}},\"click\":{\"sync\":false,\"id\":\"9656491830999967398\",\"value\":{}},\"image\":{\"sync\":true,\"id\":\"3444195713209721588\",\"value\":\"\"},\"__get_gd_contents\":{\"sync\":false,\"id\":\"8979960691879307265\",\"value\":\"\"},\"_downloadImage\":{\"sync\":false,\"id\":\"3118135578495622882\",\"value\":{}},\"relayout\":{\"sync\":false,\"id\":\"6425364780693348313\",\"value\":{}},\"_commands\":{\"sync\":false,\"id\":\"12441449124962975252\",\"value\":[]}}},\"children\":[{\"props\":{\"id\":\"plot-815a3778-2eee-4871-bdec-3b637fccbb6b\"},\"nodeType\":\"DOM\",\"type\":\"node\",\"instanceArgs\":{\"namespace\":\"html\",\"tag\":\"div\"},\"children\":[]}]},\n",
       "        window,\n",
       "    );\n",
       "    })()\n",
       "    </script>\n",
       "</div>\n"
      ],
      "text/plain": [
       "data: [\n",
       "  \"bar with fields type, x, and y\"\n",
       "]\n",
       "\n",
       "layout: \"layout with fields margin and template\"\n",
       "\n"
      ]
     },
     "execution_count": 26,
     "metadata": {},
     "output_type": "execute_result"
    }
   ],
   "source": [
    "using PlotlyJS\n",
    "x_plot = [i for i in 1:10]\n",
    "y_plot = [var3[i] for i in 1:10]\n",
    "plot(bar(x=x_plot, y=y_plot))"
   ]
  },
  {
   "cell_type": "code",
   "execution_count": 27,
   "id": "6a2294d2",
   "metadata": {},
   "outputs": [
    {
     "data": {
      "application/vnd.plotly.v1+json": {
       "config": {
        "editable": false,
        "responsive": true,
        "scrollZoom": true,
        "showLink": false,
        "staticPlot": false
       },
       "data": [
        {
         "mode": "lines+markers",
         "type": "scatter",
         "x": [
          1,
          2,
          3,
          4,
          5,
          6,
          7,
          8,
          9,
          10,
          11,
          12,
          13,
          14,
          15,
          16,
          17,
          18,
          19,
          20,
          21,
          22,
          23,
          24,
          25,
          26,
          27,
          28,
          29,
          30,
          31,
          32,
          33,
          34,
          35,
          36,
          37,
          38,
          39,
          40,
          41,
          42,
          43,
          44,
          45,
          46,
          47,
          48,
          49,
          50,
          51,
          52,
          53,
          54,
          55,
          56,
          57,
          58,
          59,
          60
         ],
         "y": [
          0.11443438338470809,
          0.06806460323232627,
          0.05794628827365283,
          0.0427915103197766,
          0.03762755929655403,
          0.03645548326224106,
          0.030890313002797504,
          0.02705882884519427,
          0.0254831440514624,
          0.02393542368525463,
          0.023740880299013473,
          0.021802203671159714,
          0.020643402229445794,
          0.019935378849074,
          0.019296657066402597,
          0.01784940529161131,
          0.01675098366817642,
          0.01622741033441836,
          0.016061930629393702,
          0.015715224742241084,
          0.015184285692179538,
          0.01491109021646975,
          0.014464426376169348,
          0.013729083730231417,
          0.01333347213707666,
          0.012846850730604214,
          0.012684027097848747,
          0.012187935004942096,
          0.0118977289653089,
          0.011293204157842017,
          0.010908289000768998,
          0.010525470681341952,
          0.01034106181739925,
          0.009956260757714046,
          0.009815044067982543,
          0.00938040843685865,
          0.00921600261598101,
          0.009023033549824026,
          0.008794442584715524,
          0.008488434721823547,
          0.00820034816940977,
          0.007956245667168087,
          0.007444982517980964,
          0.007254582513929374,
          0.0071419182843189466,
          0.006954071061578962,
          0.0068354241645156915,
          0.006518259313445862,
          0.006456511593430347,
          0.006056656476491935,
          0.005706320605723818,
          0.005675938083375435,
          0.005429442286515479,
          0.005166008303560237,
          0.005156033106587446,
          0.004852027834454688,
          0.0044176063397617675,
          0.00413106367324527,
          0.0037188491840425358,
          0.0032361443424770426
         ]
        }
       ],
       "frames": [],
       "layout": {
        "margin": {
         "b": 50,
         "l": 50,
         "r": 50,
         "t": 60
        },
        "template": {
         "data": {
          "bar": [
           {
            "error_x": {
             "color": "#2a3f5f"
            },
            "error_y": {
             "color": "#2a3f5f"
            },
            "marker": {
             "line": {
              "color": "#E5ECF6",
              "width": 0.5
             }
            },
            "type": "bar"
           }
          ],
          "barpolar": [
           {
            "marker": {
             "line": {
              "color": "#E5ECF6",
              "width": 0.5
             }
            },
            "type": "barpolar"
           }
          ],
          "carpet": [
           {
            "aaxis": {
             "endlinecolor": "#2a3f5f",
             "gridcolor": "white",
             "linecolor": "white",
             "minorgridcolor": "white",
             "startlinecolor": "#2a3f5f"
            },
            "baxis": {
             "endlinecolor": "#2a3f5f",
             "gridcolor": "white",
             "linecolor": "white",
             "minorgridcolor": "white",
             "startlinecolor": "#2a3f5f"
            },
            "type": "carpet"
           }
          ],
          "choropleth": [
           {
            "colorbar": {
             "outlinewidth": 0,
             "ticks": ""
            },
            "type": "choropleth"
           }
          ],
          "contour": [
           {
            "colorbar": {
             "outlinewidth": 0,
             "ticks": ""
            },
            "colorscale": [
             [
              0,
              "#0d0887"
             ],
             [
              0.1111111111111111,
              "#46039f"
             ],
             [
              0.2222222222222222,
              "#7201a8"
             ],
             [
              0.3333333333333333,
              "#9c179e"
             ],
             [
              0.4444444444444444,
              "#bd3786"
             ],
             [
              0.5555555555555556,
              "#d8576b"
             ],
             [
              0.6666666666666666,
              "#ed7953"
             ],
             [
              0.7777777777777778,
              "#fb9f3a"
             ],
             [
              0.8888888888888888,
              "#fdca26"
             ],
             [
              1,
              "#f0f921"
             ]
            ],
            "type": "contour"
           }
          ],
          "contourcarpet": [
           {
            "colorbar": {
             "outlinewidth": 0,
             "ticks": ""
            },
            "type": "contourcarpet"
           }
          ],
          "heatmap": [
           {
            "colorbar": {
             "outlinewidth": 0,
             "ticks": ""
            },
            "colorscale": [
             [
              0,
              "#0d0887"
             ],
             [
              0.1111111111111111,
              "#46039f"
             ],
             [
              0.2222222222222222,
              "#7201a8"
             ],
             [
              0.3333333333333333,
              "#9c179e"
             ],
             [
              0.4444444444444444,
              "#bd3786"
             ],
             [
              0.5555555555555556,
              "#d8576b"
             ],
             [
              0.6666666666666666,
              "#ed7953"
             ],
             [
              0.7777777777777778,
              "#fb9f3a"
             ],
             [
              0.8888888888888888,
              "#fdca26"
             ],
             [
              1,
              "#f0f921"
             ]
            ],
            "type": "heatmap"
           }
          ],
          "heatmapgl": [
           {
            "colorbar": {
             "outlinewidth": 0,
             "ticks": ""
            },
            "colorscale": [
             [
              0,
              "#0d0887"
             ],
             [
              0.1111111111111111,
              "#46039f"
             ],
             [
              0.2222222222222222,
              "#7201a8"
             ],
             [
              0.3333333333333333,
              "#9c179e"
             ],
             [
              0.4444444444444444,
              "#bd3786"
             ],
             [
              0.5555555555555556,
              "#d8576b"
             ],
             [
              0.6666666666666666,
              "#ed7953"
             ],
             [
              0.7777777777777778,
              "#fb9f3a"
             ],
             [
              0.8888888888888888,
              "#fdca26"
             ],
             [
              1,
              "#f0f921"
             ]
            ],
            "type": "heatmapgl"
           }
          ],
          "histogram": [
           {
            "marker": {
             "colorbar": {
              "outlinewidth": 0,
              "ticks": ""
             }
            },
            "type": "histogram"
           }
          ],
          "histogram2d": [
           {
            "colorbar": {
             "outlinewidth": 0,
             "ticks": ""
            },
            "colorscale": [
             [
              0,
              "#0d0887"
             ],
             [
              0.1111111111111111,
              "#46039f"
             ],
             [
              0.2222222222222222,
              "#7201a8"
             ],
             [
              0.3333333333333333,
              "#9c179e"
             ],
             [
              0.4444444444444444,
              "#bd3786"
             ],
             [
              0.5555555555555556,
              "#d8576b"
             ],
             [
              0.6666666666666666,
              "#ed7953"
             ],
             [
              0.7777777777777778,
              "#fb9f3a"
             ],
             [
              0.8888888888888888,
              "#fdca26"
             ],
             [
              1,
              "#f0f921"
             ]
            ],
            "type": "histogram2d"
           }
          ],
          "histogram2dcontour": [
           {
            "colorbar": {
             "outlinewidth": 0,
             "ticks": ""
            },
            "colorscale": [
             [
              0,
              "#0d0887"
             ],
             [
              0.1111111111111111,
              "#46039f"
             ],
             [
              0.2222222222222222,
              "#7201a8"
             ],
             [
              0.3333333333333333,
              "#9c179e"
             ],
             [
              0.4444444444444444,
              "#bd3786"
             ],
             [
              0.5555555555555556,
              "#d8576b"
             ],
             [
              0.6666666666666666,
              "#ed7953"
             ],
             [
              0.7777777777777778,
              "#fb9f3a"
             ],
             [
              0.8888888888888888,
              "#fdca26"
             ],
             [
              1,
              "#f0f921"
             ]
            ],
            "type": "histogram2dcontour"
           }
          ],
          "mesh3d": [
           {
            "colorbar": {
             "outlinewidth": 0,
             "ticks": ""
            },
            "type": "mesh3d"
           }
          ],
          "parcoords": [
           {
            "line": {
             "colorbar": {
              "outlinewidth": 0,
              "ticks": ""
             }
            },
            "type": "parcoords"
           }
          ],
          "pie": [
           {
            "automargin": true,
            "type": "pie"
           }
          ],
          "scatter": [
           {
            "marker": {
             "colorbar": {
              "outlinewidth": 0,
              "ticks": ""
             }
            },
            "type": "scatter"
           }
          ],
          "scatter3d": [
           {
            "line": {
             "colorbar": {
              "outlinewidth": 0,
              "ticks": ""
             }
            },
            "marker": {
             "colorbar": {
              "outlinewidth": 0,
              "ticks": ""
             }
            },
            "type": "scatter3d"
           }
          ],
          "scattercarpet": [
           {
            "marker": {
             "colorbar": {
              "outlinewidth": 0,
              "ticks": ""
             }
            },
            "type": "scattercarpet"
           }
          ],
          "scattergeo": [
           {
            "marker": {
             "colorbar": {
              "outlinewidth": 0,
              "ticks": ""
             }
            },
            "type": "scattergeo"
           }
          ],
          "scattergl": [
           {
            "marker": {
             "colorbar": {
              "outlinewidth": 0,
              "ticks": ""
             }
            },
            "type": "scattergl"
           }
          ],
          "scattermapbox": [
           {
            "marker": {
             "colorbar": {
              "outlinewidth": 0,
              "ticks": ""
             }
            },
            "type": "scattermapbox"
           }
          ],
          "scatterpolar": [
           {
            "marker": {
             "colorbar": {
              "outlinewidth": 0,
              "ticks": ""
             }
            },
            "type": "scatterpolar"
           }
          ],
          "scatterpolargl": [
           {
            "marker": {
             "colorbar": {
              "outlinewidth": 0,
              "ticks": ""
             }
            },
            "type": "scatterpolargl"
           }
          ],
          "scatterternary": [
           {
            "marker": {
             "colorbar": {
              "outlinewidth": 0,
              "ticks": ""
             }
            },
            "type": "scatterternary"
           }
          ],
          "surface": [
           {
            "colorbar": {
             "outlinewidth": 0,
             "ticks": ""
            },
            "colorscale": [
             [
              0,
              "#0d0887"
             ],
             [
              0.1111111111111111,
              "#46039f"
             ],
             [
              0.2222222222222222,
              "#7201a8"
             ],
             [
              0.3333333333333333,
              "#9c179e"
             ],
             [
              0.4444444444444444,
              "#bd3786"
             ],
             [
              0.5555555555555556,
              "#d8576b"
             ],
             [
              0.6666666666666666,
              "#ed7953"
             ],
             [
              0.7777777777777778,
              "#fb9f3a"
             ],
             [
              0.8888888888888888,
              "#fdca26"
             ],
             [
              1,
              "#f0f921"
             ]
            ],
            "type": "surface"
           }
          ],
          "table": [
           {
            "cells": {
             "fill": {
              "color": "#EBF0F8"
             },
             "line": {
              "color": "white"
             }
            },
            "header": {
             "fill": {
              "color": "#C8D4E3"
             },
             "line": {
              "color": "white"
             }
            },
            "type": "table"
           }
          ]
         },
         "layout": {
          "annotationdefaults": {
           "arrowcolor": "#2a3f5f",
           "arrowhead": 0,
           "arrowwidth": 1
          },
          "autotypenumbers": "strict",
          "coloraxis": {
           "colorbar": {
            "outlinewidth": 0,
            "ticks": ""
           }
          },
          "colorscale": {
           "diverging": [
            [
             0,
             "#8e0152"
            ],
            [
             0.1,
             "#c51b7d"
            ],
            [
             0.2,
             "#de77ae"
            ],
            [
             0.3,
             "#f1b6da"
            ],
            [
             0.4,
             "#fde0ef"
            ],
            [
             0.5,
             "#f7f7f7"
            ],
            [
             0.6,
             "#e6f5d0"
            ],
            [
             0.7,
             "#b8e186"
            ],
            [
             0.8,
             "#7fbc41"
            ],
            [
             0.9,
             "#4d9221"
            ],
            [
             1,
             "#276419"
            ]
           ],
           "sequential": [
            [
             0,
             "#0d0887"
            ],
            [
             0.1111111111111111,
             "#46039f"
            ],
            [
             0.2222222222222222,
             "#7201a8"
            ],
            [
             0.3333333333333333,
             "#9c179e"
            ],
            [
             0.4444444444444444,
             "#bd3786"
            ],
            [
             0.5555555555555556,
             "#d8576b"
            ],
            [
             0.6666666666666666,
             "#ed7953"
            ],
            [
             0.7777777777777778,
             "#fb9f3a"
            ],
            [
             0.8888888888888888,
             "#fdca26"
            ],
            [
             1,
             "#f0f921"
            ]
           ],
           "sequentialminus": [
            [
             0,
             "#0d0887"
            ],
            [
             0.1111111111111111,
             "#46039f"
            ],
            [
             0.2222222222222222,
             "#7201a8"
            ],
            [
             0.3333333333333333,
             "#9c179e"
            ],
            [
             0.4444444444444444,
             "#bd3786"
            ],
            [
             0.5555555555555556,
             "#d8576b"
            ],
            [
             0.6666666666666666,
             "#ed7953"
            ],
            [
             0.7777777777777778,
             "#fb9f3a"
            ],
            [
             0.8888888888888888,
             "#fdca26"
            ],
            [
             1,
             "#f0f921"
            ]
           ]
          },
          "colorway": [
           "#636efa",
           "#EF553B",
           "#00cc96",
           "#ab63fa",
           "#FFA15A",
           "#19d3f3",
           "#FF6692",
           "#B6E880",
           "#FF97FF",
           "#FECB52"
          ],
          "font": {
           "color": "#2a3f5f"
          },
          "geo": {
           "bgcolor": "white",
           "lakecolor": "white",
           "landcolor": "#E5ECF6",
           "showlakes": true,
           "showland": true,
           "subunitcolor": "white"
          },
          "hoverlabel": {
           "align": "left"
          },
          "hovermode": "closest",
          "mapbox": {
           "style": "light"
          },
          "paper_bgcolor": "white",
          "plot_bgcolor": "#E5ECF6",
          "polar": {
           "angularaxis": {
            "gridcolor": "white",
            "linecolor": "white",
            "ticks": ""
           },
           "bgcolor": "#E5ECF6",
           "radialaxis": {
            "gridcolor": "white",
            "linecolor": "white",
            "ticks": ""
           }
          },
          "scene": {
           "xaxis": {
            "backgroundcolor": "#E5ECF6",
            "gridcolor": "white",
            "gridwidth": 2,
            "linecolor": "white",
            "showbackground": true,
            "ticks": "",
            "zerolinecolor": "white"
           },
           "yaxis": {
            "backgroundcolor": "#E5ECF6",
            "gridcolor": "white",
            "gridwidth": 2,
            "linecolor": "white",
            "showbackground": true,
            "ticks": "",
            "zerolinecolor": "white"
           },
           "zaxis": {
            "backgroundcolor": "#E5ECF6",
            "gridcolor": "white",
            "gridwidth": 2,
            "linecolor": "white",
            "showbackground": true,
            "ticks": "",
            "zerolinecolor": "white"
           }
          },
          "shapedefaults": {
           "line": {
            "color": "#2a3f5f"
           }
          },
          "ternary": {
           "aaxis": {
            "gridcolor": "white",
            "linecolor": "white",
            "ticks": ""
           },
           "baxis": {
            "gridcolor": "white",
            "linecolor": "white",
            "ticks": ""
           },
           "bgcolor": "#E5ECF6",
           "caxis": {
            "gridcolor": "white",
            "linecolor": "white",
            "ticks": ""
           }
          },
          "title": {
           "x": 0.05
          },
          "xaxis": {
           "automargin": true,
           "gridcolor": "white",
           "linecolor": "white",
           "ticks": "",
           "title": {
            "standoff": 15
           },
           "zerolinecolor": "white",
           "zerolinewidth": 2
          },
          "yaxis": {
           "automargin": true,
           "gridcolor": "white",
           "linecolor": "white",
           "ticks": "",
           "title": {
            "standoff": 15
           },
           "zerolinecolor": "white",
           "zerolinewidth": 2
          }
         }
        },
        "xaxis": {
         "title": {
          "text": "Principal Component"
         }
        },
        "yaxis": {
         "title": {
          "text": "Proportion of Variance Explained"
         }
        }
       }
      },
      "text/html": [
       "<div\n",
       "    class=\"webio-mountpoint\"\n",
       "    data-webio-mountpoint=\"16916370553168106944\"\n",
       ">\n",
       "    <script>\n",
       "    (function(){\n",
       "    // Some integrations (namely, IJulia/Jupyter) use an alternate render pathway than\n",
       "    // just putting the html on the page. If WebIO isn't defined, then it's pretty likely\n",
       "    // that we're in one of those situations and the integration just isn't installed\n",
       "    // correctly.\n",
       "    if (typeof window.WebIO === \"undefined\") {\n",
       "        document\n",
       "            .querySelector('[data-webio-mountpoint=\"16916370553168106944\"]')\n",
       "            .innerHTML = (\n",
       "                '<div style=\"padding: 1em; background-color: #f8d6da; border: 1px solid #f5c6cb; font-weight: bold;\">' +\n",
       "                '<p><strong>WebIO not detected.</strong></p>' +\n",
       "                '<p>Please read ' +\n",
       "                '<a href=\"https://juliagizmos.github.io/WebIO.jl/latest/troubleshooting/not-detected/\" target=\"_blank\">the troubleshooting guide</a> ' +\n",
       "                'for more information on how to resolve this issue.</p>' +\n",
       "                '<p><a href=\"https://juliagizmos.github.io/WebIO.jl/latest/troubleshooting/not-detected/\" target=\"_blank\">https://juliagizmos.github.io/WebIO.jl/latest/troubleshooting/not-detected/</a></p>' +\n",
       "                '</div>'\n",
       "            );\n",
       "        return;\n",
       "    }\n",
       "    WebIO.mount(\n",
       "        document.querySelector('[data-webio-mountpoint=\"16916370553168106944\"]'),\n",
       "        {\"props\":{},\"nodeType\":\"Scope\",\"type\":\"node\",\"instanceArgs\":{\"imports\":{\"data\":[{\"name\":\"Plotly\",\"type\":\"js\",\"url\":\"\\/assetserver\\/597d3e3981791f3da20e7b96cab90ffffca4599e-plotly.min.js\"},{\"name\":null,\"type\":\"js\",\"url\":\"\\/assetserver\\/d21cc61a8b26f5a8d90707d16621e32300c2e5ed-plotly_webio.bundle.js\"}],\"type\":\"async_block\"},\"id\":\"7137027173080053199\",\"handlers\":{\"_toImage\":[\"(function (options){return this.Plotly.toImage(this.plotElem,options).then((function (data){return WebIO.setval({\\\"name\\\":\\\"image\\\",\\\"scope\\\":\\\"7137027173080053199\\\",\\\"id\\\":\\\"3057396747505714960\\\",\\\"type\\\":\\\"observable\\\"},data)}))})\"],\"__get_gd_contents\":[\"(function (prop){prop==\\\"data\\\" ? (WebIO.setval({\\\"name\\\":\\\"__gd_contents\\\",\\\"scope\\\":\\\"7137027173080053199\\\",\\\"id\\\":\\\"10140954175280741469\\\",\\\"type\\\":\\\"observable\\\"},this.plotElem.data)) : undefined; return prop==\\\"layout\\\" ? (WebIO.setval({\\\"name\\\":\\\"__gd_contents\\\",\\\"scope\\\":\\\"7137027173080053199\\\",\\\"id\\\":\\\"10140954175280741469\\\",\\\"type\\\":\\\"observable\\\"},this.plotElem.layout)) : undefined})\"],\"_downloadImage\":[\"(function (options){return this.Plotly.downloadImage(this.plotElem,options)})\"],\"_commands\":[\"(function (args){var fn=args.shift(); var elem=this.plotElem; var Plotly=this.Plotly; args.unshift(elem); return Plotly[fn].apply(this,args)})\"]},\"systemjs_options\":null,\"mount_callbacks\":[\"function () {\\n    var handler = ((function (Plotly,PlotlyWebIO){PlotlyWebIO.init(WebIO); var gd=this.dom.querySelector(\\\"#plot-e2dd5c67-1e3d-4282-b7ac-f5a70ffcfacd\\\"); this.plotElem=gd; this.Plotly=Plotly; (window.Blink!==undefined) ? (gd.style.width=\\\"100%\\\", gd.style.height=\\\"100vh\\\", gd.style.marginLeft=\\\"0%\\\", gd.style.marginTop=\\\"0vh\\\") : undefined; window.onresize=(function (){return Plotly.Plots.resize(gd)}); Plotly.newPlot(gd,[{\\\"mode\\\":\\\"lines+markers\\\",\\\"y\\\":[0.11443438338470809,0.06806460323232627,0.05794628827365283,0.0427915103197766,0.03762755929655403,0.03645548326224106,0.030890313002797504,0.02705882884519427,0.0254831440514624,0.02393542368525463,0.023740880299013473,0.021802203671159714,0.020643402229445794,0.019935378849074,0.019296657066402597,0.01784940529161131,0.01675098366817642,0.01622741033441836,0.016061930629393702,0.015715224742241084,0.015184285692179538,0.01491109021646975,0.014464426376169348,0.013729083730231417,0.01333347213707666,0.012846850730604214,0.012684027097848747,0.012187935004942096,0.0118977289653089,0.011293204157842017,0.010908289000768998,0.010525470681341952,0.01034106181739925,0.009956260757714046,0.009815044067982543,0.00938040843685865,0.00921600261598101,0.009023033549824026,0.008794442584715524,0.008488434721823547,0.00820034816940977,0.007956245667168087,0.007444982517980964,0.007254582513929374,0.0071419182843189466,0.006954071061578962,0.0068354241645156915,0.006518259313445862,0.006456511593430347,0.006056656476491935,0.005706320605723818,0.005675938083375435,0.005429442286515479,0.005166008303560237,0.005156033106587446,0.004852027834454688,0.0044176063397617675,0.00413106367324527,0.0037188491840425358,0.0032361443424770426],\\\"type\\\":\\\"scatter\\\",\\\"x\\\":[1,2,3,4,5,6,7,8,9,10,11,12,13,14,15,16,17,18,19,20,21,22,23,24,25,26,27,28,29,30,31,32,33,34,35,36,37,38,39,40,41,42,43,44,45,46,47,48,49,50,51,52,53,54,55,56,57,58,59,60]}],{\\\"xaxis\\\":{\\\"title\\\":{\\\"text\\\":\\\"Principal Component\\\"}},\\\"template\\\":{\\\"layout\\\":{\\\"coloraxis\\\":{\\\"colorbar\\\":{\\\"ticks\\\":\\\"\\\",\\\"outlinewidth\\\":0}},\\\"xaxis\\\":{\\\"gridcolor\\\":\\\"white\\\",\\\"zerolinewidth\\\":2,\\\"title\\\":{\\\"standoff\\\":15},\\\"ticks\\\":\\\"\\\",\\\"zerolinecolor\\\":\\\"white\\\",\\\"automargin\\\":true,\\\"linecolor\\\":\\\"white\\\"},\\\"hovermode\\\":\\\"closest\\\",\\\"paper_bgcolor\\\":\\\"white\\\",\\\"geo\\\":{\\\"showlakes\\\":true,\\\"showland\\\":true,\\\"landcolor\\\":\\\"#E5ECF6\\\",\\\"bgcolor\\\":\\\"white\\\",\\\"subunitcolor\\\":\\\"white\\\",\\\"lakecolor\\\":\\\"white\\\"},\\\"colorscale\\\":{\\\"sequential\\\":[[0.0,\\\"#0d0887\\\"],[0.1111111111111111,\\\"#46039f\\\"],[0.2222222222222222,\\\"#7201a8\\\"],[0.3333333333333333,\\\"#9c179e\\\"],[0.4444444444444444,\\\"#bd3786\\\"],[0.5555555555555556,\\\"#d8576b\\\"],[0.6666666666666666,\\\"#ed7953\\\"],[0.7777777777777778,\\\"#fb9f3a\\\"],[0.8888888888888888,\\\"#fdca26\\\"],[1.0,\\\"#f0f921\\\"]],\\\"diverging\\\":[[0,\\\"#8e0152\\\"],[0.1,\\\"#c51b7d\\\"],[0.2,\\\"#de77ae\\\"],[0.3,\\\"#f1b6da\\\"],[0.4,\\\"#fde0ef\\\"],[0.5,\\\"#f7f7f7\\\"],[0.6,\\\"#e6f5d0\\\"],[0.7,\\\"#b8e186\\\"],[0.8,\\\"#7fbc41\\\"],[0.9,\\\"#4d9221\\\"],[1,\\\"#276419\\\"]],\\\"sequentialminus\\\":[[0.0,\\\"#0d0887\\\"],[0.1111111111111111,\\\"#46039f\\\"],[0.2222222222222222,\\\"#7201a8\\\"],[0.3333333333333333,\\\"#9c179e\\\"],[0.4444444444444444,\\\"#bd3786\\\"],[0.5555555555555556,\\\"#d8576b\\\"],[0.6666666666666666,\\\"#ed7953\\\"],[0.7777777777777778,\\\"#fb9f3a\\\"],[0.8888888888888888,\\\"#fdca26\\\"],[1.0,\\\"#f0f921\\\"]]},\\\"yaxis\\\":{\\\"gridcolor\\\":\\\"white\\\",\\\"zerolinewidth\\\":2,\\\"title\\\":{\\\"standoff\\\":15},\\\"ticks\\\":\\\"\\\",\\\"zerolinecolor\\\":\\\"white\\\",\\\"automargin\\\":true,\\\"linecolor\\\":\\\"white\\\"},\\\"shapedefaults\\\":{\\\"line\\\":{\\\"color\\\":\\\"#2a3f5f\\\"}},\\\"hoverlabel\\\":{\\\"align\\\":\\\"left\\\"},\\\"mapbox\\\":{\\\"style\\\":\\\"light\\\"},\\\"polar\\\":{\\\"angularaxis\\\":{\\\"gridcolor\\\":\\\"white\\\",\\\"ticks\\\":\\\"\\\",\\\"linecolor\\\":\\\"white\\\"},\\\"bgcolor\\\":\\\"#E5ECF6\\\",\\\"radialaxis\\\":{\\\"gridcolor\\\":\\\"white\\\",\\\"ticks\\\":\\\"\\\",\\\"linecolor\\\":\\\"white\\\"}},\\\"autotypenumbers\\\":\\\"strict\\\",\\\"font\\\":{\\\"color\\\":\\\"#2a3f5f\\\"},\\\"ternary\\\":{\\\"baxis\\\":{\\\"gridcolor\\\":\\\"white\\\",\\\"ticks\\\":\\\"\\\",\\\"linecolor\\\":\\\"white\\\"},\\\"bgcolor\\\":\\\"#E5ECF6\\\",\\\"caxis\\\":{\\\"gridcolor\\\":\\\"white\\\",\\\"ticks\\\":\\\"\\\",\\\"linecolor\\\":\\\"white\\\"},\\\"aaxis\\\":{\\\"gridcolor\\\":\\\"white\\\",\\\"ticks\\\":\\\"\\\",\\\"linecolor\\\":\\\"white\\\"}},\\\"annotationdefaults\\\":{\\\"arrowhead\\\":0,\\\"arrowwidth\\\":1,\\\"arrowcolor\\\":\\\"#2a3f5f\\\"},\\\"plot_bgcolor\\\":\\\"#E5ECF6\\\",\\\"title\\\":{\\\"x\\\":0.05},\\\"scene\\\":{\\\"xaxis\\\":{\\\"gridcolor\\\":\\\"white\\\",\\\"gridwidth\\\":2,\\\"backgroundcolor\\\":\\\"#E5ECF6\\\",\\\"ticks\\\":\\\"\\\",\\\"showbackground\\\":true,\\\"zerolinecolor\\\":\\\"white\\\",\\\"linecolor\\\":\\\"white\\\"},\\\"zaxis\\\":{\\\"gridcolor\\\":\\\"white\\\",\\\"gridwidth\\\":2,\\\"backgroundcolor\\\":\\\"#E5ECF6\\\",\\\"ticks\\\":\\\"\\\",\\\"showbackground\\\":true,\\\"zerolinecolor\\\":\\\"white\\\",\\\"linecolor\\\":\\\"white\\\"},\\\"yaxis\\\":{\\\"gridcolor\\\":\\\"white\\\",\\\"gridwidth\\\":2,\\\"backgroundcolor\\\":\\\"#E5ECF6\\\",\\\"ticks\\\":\\\"\\\",\\\"showbackground\\\":true,\\\"zerolinecolor\\\":\\\"white\\\",\\\"linecolor\\\":\\\"white\\\"}},\\\"colorway\\\":[\\\"#636efa\\\",\\\"#EF553B\\\",\\\"#00cc96\\\",\\\"#ab63fa\\\",\\\"#FFA15A\\\",\\\"#19d3f3\\\",\\\"#FF6692\\\",\\\"#B6E880\\\",\\\"#FF97FF\\\",\\\"#FECB52\\\"]},\\\"data\\\":{\\\"barpolar\\\":[{\\\"type\\\":\\\"barpolar\\\",\\\"marker\\\":{\\\"line\\\":{\\\"color\\\":\\\"#E5ECF6\\\",\\\"width\\\":0.5}}}],\\\"carpet\\\":[{\\\"aaxis\\\":{\\\"gridcolor\\\":\\\"white\\\",\\\"endlinecolor\\\":\\\"#2a3f5f\\\",\\\"minorgridcolor\\\":\\\"white\\\",\\\"startlinecolor\\\":\\\"#2a3f5f\\\",\\\"linecolor\\\":\\\"white\\\"},\\\"type\\\":\\\"carpet\\\",\\\"baxis\\\":{\\\"gridcolor\\\":\\\"white\\\",\\\"endlinecolor\\\":\\\"#2a3f5f\\\",\\\"minorgridcolor\\\":\\\"white\\\",\\\"startlinecolor\\\":\\\"#2a3f5f\\\",\\\"linecolor\\\":\\\"white\\\"}}],\\\"scatterpolar\\\":[{\\\"type\\\":\\\"scatterpolar\\\",\\\"marker\\\":{\\\"colorbar\\\":{\\\"ticks\\\":\\\"\\\",\\\"outlinewidth\\\":0}}}],\\\"parcoords\\\":[{\\\"line\\\":{\\\"colorbar\\\":{\\\"ticks\\\":\\\"\\\",\\\"outlinewidth\\\":0}},\\\"type\\\":\\\"parcoords\\\"}],\\\"scatter\\\":[{\\\"type\\\":\\\"scatter\\\",\\\"marker\\\":{\\\"colorbar\\\":{\\\"ticks\\\":\\\"\\\",\\\"outlinewidth\\\":0}}}],\\\"histogram2dcontour\\\":[{\\\"colorbar\\\":{\\\"ticks\\\":\\\"\\\",\\\"outlinewidth\\\":0},\\\"type\\\":\\\"histogram2dcontour\\\",\\\"colorscale\\\":[[0.0,\\\"#0d0887\\\"],[0.1111111111111111,\\\"#46039f\\\"],[0.2222222222222222,\\\"#7201a8\\\"],[0.3333333333333333,\\\"#9c179e\\\"],[0.4444444444444444,\\\"#bd3786\\\"],[0.5555555555555556,\\\"#d8576b\\\"],[0.6666666666666666,\\\"#ed7953\\\"],[0.7777777777777778,\\\"#fb9f3a\\\"],[0.8888888888888888,\\\"#fdca26\\\"],[1.0,\\\"#f0f921\\\"]]}],\\\"contour\\\":[{\\\"colorbar\\\":{\\\"ticks\\\":\\\"\\\",\\\"outlinewidth\\\":0},\\\"type\\\":\\\"contour\\\",\\\"colorscale\\\":[[0.0,\\\"#0d0887\\\"],[0.1111111111111111,\\\"#46039f\\\"],[0.2222222222222222,\\\"#7201a8\\\"],[0.3333333333333333,\\\"#9c179e\\\"],[0.4444444444444444,\\\"#bd3786\\\"],[0.5555555555555556,\\\"#d8576b\\\"],[0.6666666666666666,\\\"#ed7953\\\"],[0.7777777777777778,\\\"#fb9f3a\\\"],[0.8888888888888888,\\\"#fdca26\\\"],[1.0,\\\"#f0f921\\\"]]}],\\\"scattercarpet\\\":[{\\\"type\\\":\\\"scattercarpet\\\",\\\"marker\\\":{\\\"colorbar\\\":{\\\"ticks\\\":\\\"\\\",\\\"outlinewidth\\\":0}}}],\\\"mesh3d\\\":[{\\\"colorbar\\\":{\\\"ticks\\\":\\\"\\\",\\\"outlinewidth\\\":0},\\\"type\\\":\\\"mesh3d\\\"}],\\\"surface\\\":[{\\\"colorbar\\\":{\\\"ticks\\\":\\\"\\\",\\\"outlinewidth\\\":0},\\\"type\\\":\\\"surface\\\",\\\"colorscale\\\":[[0.0,\\\"#0d0887\\\"],[0.1111111111111111,\\\"#46039f\\\"],[0.2222222222222222,\\\"#7201a8\\\"],[0.3333333333333333,\\\"#9c179e\\\"],[0.4444444444444444,\\\"#bd3786\\\"],[0.5555555555555556,\\\"#d8576b\\\"],[0.6666666666666666,\\\"#ed7953\\\"],[0.7777777777777778,\\\"#fb9f3a\\\"],[0.8888888888888888,\\\"#fdca26\\\"],[1.0,\\\"#f0f921\\\"]]}],\\\"scattermapbox\\\":[{\\\"type\\\":\\\"scattermapbox\\\",\\\"marker\\\":{\\\"colorbar\\\":{\\\"ticks\\\":\\\"\\\",\\\"outlinewidth\\\":0}}}],\\\"scattergeo\\\":[{\\\"type\\\":\\\"scattergeo\\\",\\\"marker\\\":{\\\"colorbar\\\":{\\\"ticks\\\":\\\"\\\",\\\"outlinewidth\\\":0}}}],\\\"histogram\\\":[{\\\"type\\\":\\\"histogram\\\",\\\"marker\\\":{\\\"colorbar\\\":{\\\"ticks\\\":\\\"\\\",\\\"outlinewidth\\\":0}}}],\\\"pie\\\":[{\\\"type\\\":\\\"pie\\\",\\\"automargin\\\":true}],\\\"choropleth\\\":[{\\\"colorbar\\\":{\\\"ticks\\\":\\\"\\\",\\\"outlinewidth\\\":0},\\\"type\\\":\\\"choropleth\\\"}],\\\"heatmapgl\\\":[{\\\"colorbar\\\":{\\\"ticks\\\":\\\"\\\",\\\"outlinewidth\\\":0},\\\"type\\\":\\\"heatmapgl\\\",\\\"colorscale\\\":[[0.0,\\\"#0d0887\\\"],[0.1111111111111111,\\\"#46039f\\\"],[0.2222222222222222,\\\"#7201a8\\\"],[0.3333333333333333,\\\"#9c179e\\\"],[0.4444444444444444,\\\"#bd3786\\\"],[0.5555555555555556,\\\"#d8576b\\\"],[0.6666666666666666,\\\"#ed7953\\\"],[0.7777777777777778,\\\"#fb9f3a\\\"],[0.8888888888888888,\\\"#fdca26\\\"],[1.0,\\\"#f0f921\\\"]]}],\\\"bar\\\":[{\\\"type\\\":\\\"bar\\\",\\\"error_y\\\":{\\\"color\\\":\\\"#2a3f5f\\\"},\\\"error_x\\\":{\\\"color\\\":\\\"#2a3f5f\\\"},\\\"marker\\\":{\\\"line\\\":{\\\"color\\\":\\\"#E5ECF6\\\",\\\"width\\\":0.5}}}],\\\"heatmap\\\":[{\\\"colorbar\\\":{\\\"ticks\\\":\\\"\\\",\\\"outlinewidth\\\":0},\\\"type\\\":\\\"heatmap\\\",\\\"colorscale\\\":[[0.0,\\\"#0d0887\\\"],[0.1111111111111111,\\\"#46039f\\\"],[0.2222222222222222,\\\"#7201a8\\\"],[0.3333333333333333,\\\"#9c179e\\\"],[0.4444444444444444,\\\"#bd3786\\\"],[0.5555555555555556,\\\"#d8576b\\\"],[0.6666666666666666,\\\"#ed7953\\\"],[0.7777777777777778,\\\"#fb9f3a\\\"],[0.8888888888888888,\\\"#fdca26\\\"],[1.0,\\\"#f0f921\\\"]]}],\\\"contourcarpet\\\":[{\\\"colorbar\\\":{\\\"ticks\\\":\\\"\\\",\\\"outlinewidth\\\":0},\\\"type\\\":\\\"contourcarpet\\\"}],\\\"table\\\":[{\\\"type\\\":\\\"table\\\",\\\"header\\\":{\\\"line\\\":{\\\"color\\\":\\\"white\\\"},\\\"fill\\\":{\\\"color\\\":\\\"#C8D4E3\\\"}},\\\"cells\\\":{\\\"line\\\":{\\\"color\\\":\\\"white\\\"},\\\"fill\\\":{\\\"color\\\":\\\"#EBF0F8\\\"}}}],\\\"scatter3d\\\":[{\\\"line\\\":{\\\"colorbar\\\":{\\\"ticks\\\":\\\"\\\",\\\"outlinewidth\\\":0}},\\\"type\\\":\\\"scatter3d\\\",\\\"marker\\\":{\\\"colorbar\\\":{\\\"ticks\\\":\\\"\\\",\\\"outlinewidth\\\":0}}}],\\\"scattergl\\\":[{\\\"type\\\":\\\"scattergl\\\",\\\"marker\\\":{\\\"colorbar\\\":{\\\"ticks\\\":\\\"\\\",\\\"outlinewidth\\\":0}}}],\\\"histogram2d\\\":[{\\\"colorbar\\\":{\\\"ticks\\\":\\\"\\\",\\\"outlinewidth\\\":0},\\\"type\\\":\\\"histogram2d\\\",\\\"colorscale\\\":[[0.0,\\\"#0d0887\\\"],[0.1111111111111111,\\\"#46039f\\\"],[0.2222222222222222,\\\"#7201a8\\\"],[0.3333333333333333,\\\"#9c179e\\\"],[0.4444444444444444,\\\"#bd3786\\\"],[0.5555555555555556,\\\"#d8576b\\\"],[0.6666666666666666,\\\"#ed7953\\\"],[0.7777777777777778,\\\"#fb9f3a\\\"],[0.8888888888888888,\\\"#fdca26\\\"],[1.0,\\\"#f0f921\\\"]]}],\\\"scatterternary\\\":[{\\\"type\\\":\\\"scatterternary\\\",\\\"marker\\\":{\\\"colorbar\\\":{\\\"ticks\\\":\\\"\\\",\\\"outlinewidth\\\":0}}}],\\\"scatterpolargl\\\":[{\\\"type\\\":\\\"scatterpolargl\\\",\\\"marker\\\":{\\\"colorbar\\\":{\\\"ticks\\\":\\\"\\\",\\\"outlinewidth\\\":0}}}]}},\\\"margin\\\":{\\\"l\\\":50,\\\"b\\\":50,\\\"r\\\":50,\\\"t\\\":60},\\\"yaxis\\\":{\\\"title\\\":{\\\"text\\\":\\\"Proportion of Variance Explained\\\"}}},{\\\"showLink\\\":false,\\\"editable\\\":false,\\\"responsive\\\":true,\\\"staticPlot\\\":false,\\\"scrollZoom\\\":true}); gd.on(\\\"plotly_hover\\\",(function (data){var filtered_data=WebIO.PlotlyCommands.filterEventData(gd,data,\\\"hover\\\"); return !(filtered_data.isnil) ? (WebIO.setval({\\\"name\\\":\\\"hover\\\",\\\"scope\\\":\\\"7137027173080053199\\\",\\\"id\\\":\\\"16810781064699016243\\\",\\\"type\\\":\\\"observable\\\"},filtered_data.out)) : undefined})); gd.on(\\\"plotly_unhover\\\",(function (){return WebIO.setval({\\\"name\\\":\\\"hover\\\",\\\"scope\\\":\\\"7137027173080053199\\\",\\\"id\\\":\\\"16810781064699016243\\\",\\\"type\\\":\\\"observable\\\"},{})})); gd.on(\\\"plotly_selected\\\",(function (data){var filtered_data=WebIO.PlotlyCommands.filterEventData(gd,data,\\\"selected\\\"); return !(filtered_data.isnil) ? (WebIO.setval({\\\"name\\\":\\\"selected\\\",\\\"scope\\\":\\\"7137027173080053199\\\",\\\"id\\\":\\\"9498709319865864847\\\",\\\"type\\\":\\\"observable\\\"},filtered_data.out)) : undefined})); gd.on(\\\"plotly_deselect\\\",(function (){return WebIO.setval({\\\"name\\\":\\\"selected\\\",\\\"scope\\\":\\\"7137027173080053199\\\",\\\"id\\\":\\\"9498709319865864847\\\",\\\"type\\\":\\\"observable\\\"},{})})); gd.on(\\\"plotly_relayout\\\",(function (data){var filtered_data=WebIO.PlotlyCommands.filterEventData(gd,data,\\\"relayout\\\"); return !(filtered_data.isnil) ? (WebIO.setval({\\\"name\\\":\\\"relayout\\\",\\\"scope\\\":\\\"7137027173080053199\\\",\\\"id\\\":\\\"13917188210077646478\\\",\\\"type\\\":\\\"observable\\\"},filtered_data.out)) : undefined})); return gd.on(\\\"plotly_click\\\",(function (data){var filtered_data=WebIO.PlotlyCommands.filterEventData(gd,data,\\\"click\\\"); return !(filtered_data.isnil) ? (WebIO.setval({\\\"name\\\":\\\"click\\\",\\\"scope\\\":\\\"7137027173080053199\\\",\\\"id\\\":\\\"696509756302209389\\\",\\\"type\\\":\\\"observable\\\"},filtered_data.out)) : undefined}))}));\\n    (WebIO.importBlock({\\\"data\\\":[{\\\"name\\\":\\\"Plotly\\\",\\\"type\\\":\\\"js\\\",\\\"url\\\":\\\"\\/assetserver\\/597d3e3981791f3da20e7b96cab90ffffca4599e-plotly.min.js\\\"},{\\\"name\\\":null,\\\"type\\\":\\\"js\\\",\\\"url\\\":\\\"\\/assetserver\\/d21cc61a8b26f5a8d90707d16621e32300c2e5ed-plotly_webio.bundle.js\\\"}],\\\"type\\\":\\\"async_block\\\"})).then((imports) => handler.apply(this, imports));\\n}\\n\"],\"observables\":{\"_toImage\":{\"sync\":false,\"id\":\"12457492356367314988\",\"value\":{}},\"hover\":{\"sync\":false,\"id\":\"16810781064699016243\",\"value\":{}},\"selected\":{\"sync\":false,\"id\":\"9498709319865864847\",\"value\":{}},\"__gd_contents\":{\"sync\":false,\"id\":\"10140954175280741469\",\"value\":{}},\"click\":{\"sync\":false,\"id\":\"696509756302209389\",\"value\":{}},\"image\":{\"sync\":true,\"id\":\"3057396747505714960\",\"value\":\"\"},\"__get_gd_contents\":{\"sync\":false,\"id\":\"11735497394964484949\",\"value\":\"\"},\"_downloadImage\":{\"sync\":false,\"id\":\"16610088197177535272\",\"value\":{}},\"relayout\":{\"sync\":false,\"id\":\"13917188210077646478\",\"value\":{}},\"_commands\":{\"sync\":false,\"id\":\"3421202528008421520\",\"value\":[]}}},\"children\":[{\"props\":{\"id\":\"plot-e2dd5c67-1e3d-4282-b7ac-f5a70ffcfacd\"},\"nodeType\":\"DOM\",\"type\":\"node\",\"instanceArgs\":{\"namespace\":\"html\",\"tag\":\"div\"},\"children\":[]}]},\n",
       "        window,\n",
       "    );\n",
       "    })()\n",
       "    </script>\n",
       "</div>\n"
      ],
      "text/plain": [
       "data: [\n",
       "  \"scatter with fields mode, type, x, and y\"\n",
       "]\n",
       "\n",
       "layout: \"layout with fields margin, template, xaxis, and yaxis\"\n",
       "\n"
      ]
     },
     "execution_count": 27,
     "metadata": {},
     "output_type": "execute_result"
    }
   ],
   "source": [
    "x_plot_new = [i for i in 1:60]\n",
    "plot([scatter(\n",
    "    x = x_plot_new,\n",
    "    y = pca_info_mat[2,:],\n",
    "    mode = \"lines+markers\",),\n",
    "   ],\n",
    "    Layout(yaxis_title=\"Proportion of Variance Explained\", xaxis_title=\"Principal Component\")\n",
    ")"
   ]
  },
  {
   "cell_type": "code",
   "execution_count": 28,
   "id": "3ae67fa3",
   "metadata": {},
   "outputs": [
    {
     "data": {
      "application/vnd.plotly.v1+json": {
       "config": {
        "editable": false,
        "responsive": true,
        "scrollZoom": true,
        "showLink": false,
        "staticPlot": false
       },
       "data": [
        {
         "mode": "lines+markers",
         "type": "scatter",
         "x": [
          1,
          2,
          3,
          4,
          5,
          6,
          7,
          8,
          9,
          10,
          11,
          12,
          13,
          14,
          15,
          16,
          17,
          18,
          19,
          20,
          21,
          22,
          23,
          24,
          25,
          26,
          27,
          28,
          29,
          30,
          31,
          32,
          33,
          34,
          35,
          36,
          37,
          38,
          39,
          40,
          41,
          42,
          43,
          44,
          45,
          46,
          47,
          48,
          49,
          50,
          51,
          52,
          53,
          54,
          55,
          56,
          57,
          58,
          59,
          60
         ],
         "y": [
          0.11443438338470809,
          0.18249898661703434,
          0.24044527489068718,
          0.2832367852104638,
          0.32086434450701784,
          0.3573198277692589,
          0.3882101407720564,
          0.4152689696172507,
          0.4407521136687131,
          0.46468753735396773,
          0.4884284176529812,
          0.5102306213241409,
          0.5308740235535867,
          0.5508094024026607,
          0.5701060594690633,
          0.5879554647606746,
          0.604706448428851,
          0.6209338587632693,
          0.636995789392663,
          0.6527110141349041,
          0.6678952998270836,
          0.6828063900435534,
          0.6972708164197228,
          0.7109999001499542,
          0.7243333722870309,
          0.7371802230176351,
          0.7498642501154839,
          0.7620521851204259,
          0.7739499140857349,
          0.7852431182435768,
          0.7961514072443459,
          0.8066768779256878,
          0.817017939743087,
          0.8269742005008011,
          0.8367892445687836,
          0.8461696530056422,
          0.8553856556216232,
          0.8644086891714472,
          0.8732031317561627,
          0.8816915664779863,
          0.889891914647396,
          0.8978481603145642,
          0.9052931428325451,
          0.9125477253464745,
          0.9196896436307935,
          0.9266437146923725,
          0.9334791388568882,
          0.939997398170334,
          0.9464539097637643,
          0.9525105662402562,
          0.95821688684598,
          0.9638928249293555,
          0.9693222672158709,
          0.9744882755194312,
          0.9796443086260186,
          0.9844963364604733,
          0.988913942800235,
          0.9930450064734803,
          0.9967638556575228,
          0.9999999999999998
         ]
        }
       ],
       "frames": [],
       "layout": {
        "margin": {
         "b": 50,
         "l": 50,
         "r": 50,
         "t": 60
        },
        "template": {
         "data": {
          "bar": [
           {
            "error_x": {
             "color": "#2a3f5f"
            },
            "error_y": {
             "color": "#2a3f5f"
            },
            "marker": {
             "line": {
              "color": "#E5ECF6",
              "width": 0.5
             }
            },
            "type": "bar"
           }
          ],
          "barpolar": [
           {
            "marker": {
             "line": {
              "color": "#E5ECF6",
              "width": 0.5
             }
            },
            "type": "barpolar"
           }
          ],
          "carpet": [
           {
            "aaxis": {
             "endlinecolor": "#2a3f5f",
             "gridcolor": "white",
             "linecolor": "white",
             "minorgridcolor": "white",
             "startlinecolor": "#2a3f5f"
            },
            "baxis": {
             "endlinecolor": "#2a3f5f",
             "gridcolor": "white",
             "linecolor": "white",
             "minorgridcolor": "white",
             "startlinecolor": "#2a3f5f"
            },
            "type": "carpet"
           }
          ],
          "choropleth": [
           {
            "colorbar": {
             "outlinewidth": 0,
             "ticks": ""
            },
            "type": "choropleth"
           }
          ],
          "contour": [
           {
            "colorbar": {
             "outlinewidth": 0,
             "ticks": ""
            },
            "colorscale": [
             [
              0,
              "#0d0887"
             ],
             [
              0.1111111111111111,
              "#46039f"
             ],
             [
              0.2222222222222222,
              "#7201a8"
             ],
             [
              0.3333333333333333,
              "#9c179e"
             ],
             [
              0.4444444444444444,
              "#bd3786"
             ],
             [
              0.5555555555555556,
              "#d8576b"
             ],
             [
              0.6666666666666666,
              "#ed7953"
             ],
             [
              0.7777777777777778,
              "#fb9f3a"
             ],
             [
              0.8888888888888888,
              "#fdca26"
             ],
             [
              1,
              "#f0f921"
             ]
            ],
            "type": "contour"
           }
          ],
          "contourcarpet": [
           {
            "colorbar": {
             "outlinewidth": 0,
             "ticks": ""
            },
            "type": "contourcarpet"
           }
          ],
          "heatmap": [
           {
            "colorbar": {
             "outlinewidth": 0,
             "ticks": ""
            },
            "colorscale": [
             [
              0,
              "#0d0887"
             ],
             [
              0.1111111111111111,
              "#46039f"
             ],
             [
              0.2222222222222222,
              "#7201a8"
             ],
             [
              0.3333333333333333,
              "#9c179e"
             ],
             [
              0.4444444444444444,
              "#bd3786"
             ],
             [
              0.5555555555555556,
              "#d8576b"
             ],
             [
              0.6666666666666666,
              "#ed7953"
             ],
             [
              0.7777777777777778,
              "#fb9f3a"
             ],
             [
              0.8888888888888888,
              "#fdca26"
             ],
             [
              1,
              "#f0f921"
             ]
            ],
            "type": "heatmap"
           }
          ],
          "heatmapgl": [
           {
            "colorbar": {
             "outlinewidth": 0,
             "ticks": ""
            },
            "colorscale": [
             [
              0,
              "#0d0887"
             ],
             [
              0.1111111111111111,
              "#46039f"
             ],
             [
              0.2222222222222222,
              "#7201a8"
             ],
             [
              0.3333333333333333,
              "#9c179e"
             ],
             [
              0.4444444444444444,
              "#bd3786"
             ],
             [
              0.5555555555555556,
              "#d8576b"
             ],
             [
              0.6666666666666666,
              "#ed7953"
             ],
             [
              0.7777777777777778,
              "#fb9f3a"
             ],
             [
              0.8888888888888888,
              "#fdca26"
             ],
             [
              1,
              "#f0f921"
             ]
            ],
            "type": "heatmapgl"
           }
          ],
          "histogram": [
           {
            "marker": {
             "colorbar": {
              "outlinewidth": 0,
              "ticks": ""
             }
            },
            "type": "histogram"
           }
          ],
          "histogram2d": [
           {
            "colorbar": {
             "outlinewidth": 0,
             "ticks": ""
            },
            "colorscale": [
             [
              0,
              "#0d0887"
             ],
             [
              0.1111111111111111,
              "#46039f"
             ],
             [
              0.2222222222222222,
              "#7201a8"
             ],
             [
              0.3333333333333333,
              "#9c179e"
             ],
             [
              0.4444444444444444,
              "#bd3786"
             ],
             [
              0.5555555555555556,
              "#d8576b"
             ],
             [
              0.6666666666666666,
              "#ed7953"
             ],
             [
              0.7777777777777778,
              "#fb9f3a"
             ],
             [
              0.8888888888888888,
              "#fdca26"
             ],
             [
              1,
              "#f0f921"
             ]
            ],
            "type": "histogram2d"
           }
          ],
          "histogram2dcontour": [
           {
            "colorbar": {
             "outlinewidth": 0,
             "ticks": ""
            },
            "colorscale": [
             [
              0,
              "#0d0887"
             ],
             [
              0.1111111111111111,
              "#46039f"
             ],
             [
              0.2222222222222222,
              "#7201a8"
             ],
             [
              0.3333333333333333,
              "#9c179e"
             ],
             [
              0.4444444444444444,
              "#bd3786"
             ],
             [
              0.5555555555555556,
              "#d8576b"
             ],
             [
              0.6666666666666666,
              "#ed7953"
             ],
             [
              0.7777777777777778,
              "#fb9f3a"
             ],
             [
              0.8888888888888888,
              "#fdca26"
             ],
             [
              1,
              "#f0f921"
             ]
            ],
            "type": "histogram2dcontour"
           }
          ],
          "mesh3d": [
           {
            "colorbar": {
             "outlinewidth": 0,
             "ticks": ""
            },
            "type": "mesh3d"
           }
          ],
          "parcoords": [
           {
            "line": {
             "colorbar": {
              "outlinewidth": 0,
              "ticks": ""
             }
            },
            "type": "parcoords"
           }
          ],
          "pie": [
           {
            "automargin": true,
            "type": "pie"
           }
          ],
          "scatter": [
           {
            "marker": {
             "colorbar": {
              "outlinewidth": 0,
              "ticks": ""
             }
            },
            "type": "scatter"
           }
          ],
          "scatter3d": [
           {
            "line": {
             "colorbar": {
              "outlinewidth": 0,
              "ticks": ""
             }
            },
            "marker": {
             "colorbar": {
              "outlinewidth": 0,
              "ticks": ""
             }
            },
            "type": "scatter3d"
           }
          ],
          "scattercarpet": [
           {
            "marker": {
             "colorbar": {
              "outlinewidth": 0,
              "ticks": ""
             }
            },
            "type": "scattercarpet"
           }
          ],
          "scattergeo": [
           {
            "marker": {
             "colorbar": {
              "outlinewidth": 0,
              "ticks": ""
             }
            },
            "type": "scattergeo"
           }
          ],
          "scattergl": [
           {
            "marker": {
             "colorbar": {
              "outlinewidth": 0,
              "ticks": ""
             }
            },
            "type": "scattergl"
           }
          ],
          "scattermapbox": [
           {
            "marker": {
             "colorbar": {
              "outlinewidth": 0,
              "ticks": ""
             }
            },
            "type": "scattermapbox"
           }
          ],
          "scatterpolar": [
           {
            "marker": {
             "colorbar": {
              "outlinewidth": 0,
              "ticks": ""
             }
            },
            "type": "scatterpolar"
           }
          ],
          "scatterpolargl": [
           {
            "marker": {
             "colorbar": {
              "outlinewidth": 0,
              "ticks": ""
             }
            },
            "type": "scatterpolargl"
           }
          ],
          "scatterternary": [
           {
            "marker": {
             "colorbar": {
              "outlinewidth": 0,
              "ticks": ""
             }
            },
            "type": "scatterternary"
           }
          ],
          "surface": [
           {
            "colorbar": {
             "outlinewidth": 0,
             "ticks": ""
            },
            "colorscale": [
             [
              0,
              "#0d0887"
             ],
             [
              0.1111111111111111,
              "#46039f"
             ],
             [
              0.2222222222222222,
              "#7201a8"
             ],
             [
              0.3333333333333333,
              "#9c179e"
             ],
             [
              0.4444444444444444,
              "#bd3786"
             ],
             [
              0.5555555555555556,
              "#d8576b"
             ],
             [
              0.6666666666666666,
              "#ed7953"
             ],
             [
              0.7777777777777778,
              "#fb9f3a"
             ],
             [
              0.8888888888888888,
              "#fdca26"
             ],
             [
              1,
              "#f0f921"
             ]
            ],
            "type": "surface"
           }
          ],
          "table": [
           {
            "cells": {
             "fill": {
              "color": "#EBF0F8"
             },
             "line": {
              "color": "white"
             }
            },
            "header": {
             "fill": {
              "color": "#C8D4E3"
             },
             "line": {
              "color": "white"
             }
            },
            "type": "table"
           }
          ]
         },
         "layout": {
          "annotationdefaults": {
           "arrowcolor": "#2a3f5f",
           "arrowhead": 0,
           "arrowwidth": 1
          },
          "autotypenumbers": "strict",
          "coloraxis": {
           "colorbar": {
            "outlinewidth": 0,
            "ticks": ""
           }
          },
          "colorscale": {
           "diverging": [
            [
             0,
             "#8e0152"
            ],
            [
             0.1,
             "#c51b7d"
            ],
            [
             0.2,
             "#de77ae"
            ],
            [
             0.3,
             "#f1b6da"
            ],
            [
             0.4,
             "#fde0ef"
            ],
            [
             0.5,
             "#f7f7f7"
            ],
            [
             0.6,
             "#e6f5d0"
            ],
            [
             0.7,
             "#b8e186"
            ],
            [
             0.8,
             "#7fbc41"
            ],
            [
             0.9,
             "#4d9221"
            ],
            [
             1,
             "#276419"
            ]
           ],
           "sequential": [
            [
             0,
             "#0d0887"
            ],
            [
             0.1111111111111111,
             "#46039f"
            ],
            [
             0.2222222222222222,
             "#7201a8"
            ],
            [
             0.3333333333333333,
             "#9c179e"
            ],
            [
             0.4444444444444444,
             "#bd3786"
            ],
            [
             0.5555555555555556,
             "#d8576b"
            ],
            [
             0.6666666666666666,
             "#ed7953"
            ],
            [
             0.7777777777777778,
             "#fb9f3a"
            ],
            [
             0.8888888888888888,
             "#fdca26"
            ],
            [
             1,
             "#f0f921"
            ]
           ],
           "sequentialminus": [
            [
             0,
             "#0d0887"
            ],
            [
             0.1111111111111111,
             "#46039f"
            ],
            [
             0.2222222222222222,
             "#7201a8"
            ],
            [
             0.3333333333333333,
             "#9c179e"
            ],
            [
             0.4444444444444444,
             "#bd3786"
            ],
            [
             0.5555555555555556,
             "#d8576b"
            ],
            [
             0.6666666666666666,
             "#ed7953"
            ],
            [
             0.7777777777777778,
             "#fb9f3a"
            ],
            [
             0.8888888888888888,
             "#fdca26"
            ],
            [
             1,
             "#f0f921"
            ]
           ]
          },
          "colorway": [
           "#636efa",
           "#EF553B",
           "#00cc96",
           "#ab63fa",
           "#FFA15A",
           "#19d3f3",
           "#FF6692",
           "#B6E880",
           "#FF97FF",
           "#FECB52"
          ],
          "font": {
           "color": "#2a3f5f"
          },
          "geo": {
           "bgcolor": "white",
           "lakecolor": "white",
           "landcolor": "#E5ECF6",
           "showlakes": true,
           "showland": true,
           "subunitcolor": "white"
          },
          "hoverlabel": {
           "align": "left"
          },
          "hovermode": "closest",
          "mapbox": {
           "style": "light"
          },
          "paper_bgcolor": "white",
          "plot_bgcolor": "#E5ECF6",
          "polar": {
           "angularaxis": {
            "gridcolor": "white",
            "linecolor": "white",
            "ticks": ""
           },
           "bgcolor": "#E5ECF6",
           "radialaxis": {
            "gridcolor": "white",
            "linecolor": "white",
            "ticks": ""
           }
          },
          "scene": {
           "xaxis": {
            "backgroundcolor": "#E5ECF6",
            "gridcolor": "white",
            "gridwidth": 2,
            "linecolor": "white",
            "showbackground": true,
            "ticks": "",
            "zerolinecolor": "white"
           },
           "yaxis": {
            "backgroundcolor": "#E5ECF6",
            "gridcolor": "white",
            "gridwidth": 2,
            "linecolor": "white",
            "showbackground": true,
            "ticks": "",
            "zerolinecolor": "white"
           },
           "zaxis": {
            "backgroundcolor": "#E5ECF6",
            "gridcolor": "white",
            "gridwidth": 2,
            "linecolor": "white",
            "showbackground": true,
            "ticks": "",
            "zerolinecolor": "white"
           }
          },
          "shapedefaults": {
           "line": {
            "color": "#2a3f5f"
           }
          },
          "ternary": {
           "aaxis": {
            "gridcolor": "white",
            "linecolor": "white",
            "ticks": ""
           },
           "baxis": {
            "gridcolor": "white",
            "linecolor": "white",
            "ticks": ""
           },
           "bgcolor": "#E5ECF6",
           "caxis": {
            "gridcolor": "white",
            "linecolor": "white",
            "ticks": ""
           }
          },
          "title": {
           "x": 0.05
          },
          "xaxis": {
           "automargin": true,
           "gridcolor": "white",
           "linecolor": "white",
           "ticks": "",
           "title": {
            "standoff": 15
           },
           "zerolinecolor": "white",
           "zerolinewidth": 2
          },
          "yaxis": {
           "automargin": true,
           "gridcolor": "white",
           "linecolor": "white",
           "ticks": "",
           "title": {
            "standoff": 15
           },
           "zerolinecolor": "white",
           "zerolinewidth": 2
          }
         }
        },
        "xaxis": {
         "title": {
          "text": "Principal Component"
         }
        },
        "yaxis": {
         "title": {
          "text": "Cumulative Proportion of Variance Explained"
         }
        }
       }
      },
      "text/html": [
       "<div\n",
       "    class=\"webio-mountpoint\"\n",
       "    data-webio-mountpoint=\"18442853376529965588\"\n",
       ">\n",
       "    <script>\n",
       "    (function(){\n",
       "    // Some integrations (namely, IJulia/Jupyter) use an alternate render pathway than\n",
       "    // just putting the html on the page. If WebIO isn't defined, then it's pretty likely\n",
       "    // that we're in one of those situations and the integration just isn't installed\n",
       "    // correctly.\n",
       "    if (typeof window.WebIO === \"undefined\") {\n",
       "        document\n",
       "            .querySelector('[data-webio-mountpoint=\"18442853376529965588\"]')\n",
       "            .innerHTML = (\n",
       "                '<div style=\"padding: 1em; background-color: #f8d6da; border: 1px solid #f5c6cb; font-weight: bold;\">' +\n",
       "                '<p><strong>WebIO not detected.</strong></p>' +\n",
       "                '<p>Please read ' +\n",
       "                '<a href=\"https://juliagizmos.github.io/WebIO.jl/latest/troubleshooting/not-detected/\" target=\"_blank\">the troubleshooting guide</a> ' +\n",
       "                'for more information on how to resolve this issue.</p>' +\n",
       "                '<p><a href=\"https://juliagizmos.github.io/WebIO.jl/latest/troubleshooting/not-detected/\" target=\"_blank\">https://juliagizmos.github.io/WebIO.jl/latest/troubleshooting/not-detected/</a></p>' +\n",
       "                '</div>'\n",
       "            );\n",
       "        return;\n",
       "    }\n",
       "    WebIO.mount(\n",
       "        document.querySelector('[data-webio-mountpoint=\"18442853376529965588\"]'),\n",
       "        {\"props\":{},\"nodeType\":\"Scope\",\"type\":\"node\",\"instanceArgs\":{\"imports\":{\"data\":[{\"name\":\"Plotly\",\"type\":\"js\",\"url\":\"\\/assetserver\\/597d3e3981791f3da20e7b96cab90ffffca4599e-plotly.min.js\"},{\"name\":null,\"type\":\"js\",\"url\":\"\\/assetserver\\/d21cc61a8b26f5a8d90707d16621e32300c2e5ed-plotly_webio.bundle.js\"}],\"type\":\"async_block\"},\"id\":\"16768939414995304611\",\"handlers\":{\"_toImage\":[\"(function (options){return this.Plotly.toImage(this.plotElem,options).then((function (data){return WebIO.setval({\\\"name\\\":\\\"image\\\",\\\"scope\\\":\\\"16768939414995304611\\\",\\\"id\\\":\\\"8153403780122403290\\\",\\\"type\\\":\\\"observable\\\"},data)}))})\"],\"__get_gd_contents\":[\"(function (prop){prop==\\\"data\\\" ? (WebIO.setval({\\\"name\\\":\\\"__gd_contents\\\",\\\"scope\\\":\\\"16768939414995304611\\\",\\\"id\\\":\\\"10848396356894259750\\\",\\\"type\\\":\\\"observable\\\"},this.plotElem.data)) : undefined; return prop==\\\"layout\\\" ? (WebIO.setval({\\\"name\\\":\\\"__gd_contents\\\",\\\"scope\\\":\\\"16768939414995304611\\\",\\\"id\\\":\\\"10848396356894259750\\\",\\\"type\\\":\\\"observable\\\"},this.plotElem.layout)) : undefined})\"],\"_downloadImage\":[\"(function (options){return this.Plotly.downloadImage(this.plotElem,options)})\"],\"_commands\":[\"(function (args){var fn=args.shift(); var elem=this.plotElem; var Plotly=this.Plotly; args.unshift(elem); return Plotly[fn].apply(this,args)})\"]},\"systemjs_options\":null,\"mount_callbacks\":[\"function () {\\n    var handler = ((function (Plotly,PlotlyWebIO){PlotlyWebIO.init(WebIO); var gd=this.dom.querySelector(\\\"#plot-a18c3416-3de4-4e70-8c74-140e9cc0c9c3\\\"); this.plotElem=gd; this.Plotly=Plotly; (window.Blink!==undefined) ? (gd.style.width=\\\"100%\\\", gd.style.height=\\\"100vh\\\", gd.style.marginLeft=\\\"0%\\\", gd.style.marginTop=\\\"0vh\\\") : undefined; window.onresize=(function (){return Plotly.Plots.resize(gd)}); Plotly.newPlot(gd,[{\\\"mode\\\":\\\"lines+markers\\\",\\\"y\\\":[0.11443438338470809,0.18249898661703434,0.24044527489068718,0.2832367852104638,0.32086434450701784,0.3573198277692589,0.3882101407720564,0.4152689696172507,0.4407521136687131,0.46468753735396773,0.4884284176529812,0.5102306213241409,0.5308740235535867,0.5508094024026607,0.5701060594690633,0.5879554647606746,0.604706448428851,0.6209338587632693,0.636995789392663,0.6527110141349041,0.6678952998270836,0.6828063900435534,0.6972708164197228,0.7109999001499542,0.7243333722870309,0.7371802230176351,0.7498642501154839,0.7620521851204259,0.7739499140857349,0.7852431182435768,0.7961514072443459,0.8066768779256878,0.817017939743087,0.8269742005008011,0.8367892445687836,0.8461696530056422,0.8553856556216232,0.8644086891714472,0.8732031317561627,0.8816915664779863,0.889891914647396,0.8978481603145642,0.9052931428325451,0.9125477253464745,0.9196896436307935,0.9266437146923725,0.9334791388568882,0.939997398170334,0.9464539097637643,0.9525105662402562,0.95821688684598,0.9638928249293555,0.9693222672158709,0.9744882755194312,0.9796443086260186,0.9844963364604733,0.988913942800235,0.9930450064734803,0.9967638556575228,0.9999999999999998],\\\"type\\\":\\\"scatter\\\",\\\"x\\\":[1,2,3,4,5,6,7,8,9,10,11,12,13,14,15,16,17,18,19,20,21,22,23,24,25,26,27,28,29,30,31,32,33,34,35,36,37,38,39,40,41,42,43,44,45,46,47,48,49,50,51,52,53,54,55,56,57,58,59,60]}],{\\\"xaxis\\\":{\\\"title\\\":{\\\"text\\\":\\\"Principal Component\\\"}},\\\"template\\\":{\\\"layout\\\":{\\\"coloraxis\\\":{\\\"colorbar\\\":{\\\"ticks\\\":\\\"\\\",\\\"outlinewidth\\\":0}},\\\"xaxis\\\":{\\\"gridcolor\\\":\\\"white\\\",\\\"zerolinewidth\\\":2,\\\"title\\\":{\\\"standoff\\\":15},\\\"ticks\\\":\\\"\\\",\\\"zerolinecolor\\\":\\\"white\\\",\\\"automargin\\\":true,\\\"linecolor\\\":\\\"white\\\"},\\\"hovermode\\\":\\\"closest\\\",\\\"paper_bgcolor\\\":\\\"white\\\",\\\"geo\\\":{\\\"showlakes\\\":true,\\\"showland\\\":true,\\\"landcolor\\\":\\\"#E5ECF6\\\",\\\"bgcolor\\\":\\\"white\\\",\\\"subunitcolor\\\":\\\"white\\\",\\\"lakecolor\\\":\\\"white\\\"},\\\"colorscale\\\":{\\\"sequential\\\":[[0.0,\\\"#0d0887\\\"],[0.1111111111111111,\\\"#46039f\\\"],[0.2222222222222222,\\\"#7201a8\\\"],[0.3333333333333333,\\\"#9c179e\\\"],[0.4444444444444444,\\\"#bd3786\\\"],[0.5555555555555556,\\\"#d8576b\\\"],[0.6666666666666666,\\\"#ed7953\\\"],[0.7777777777777778,\\\"#fb9f3a\\\"],[0.8888888888888888,\\\"#fdca26\\\"],[1.0,\\\"#f0f921\\\"]],\\\"diverging\\\":[[0,\\\"#8e0152\\\"],[0.1,\\\"#c51b7d\\\"],[0.2,\\\"#de77ae\\\"],[0.3,\\\"#f1b6da\\\"],[0.4,\\\"#fde0ef\\\"],[0.5,\\\"#f7f7f7\\\"],[0.6,\\\"#e6f5d0\\\"],[0.7,\\\"#b8e186\\\"],[0.8,\\\"#7fbc41\\\"],[0.9,\\\"#4d9221\\\"],[1,\\\"#276419\\\"]],\\\"sequentialminus\\\":[[0.0,\\\"#0d0887\\\"],[0.1111111111111111,\\\"#46039f\\\"],[0.2222222222222222,\\\"#7201a8\\\"],[0.3333333333333333,\\\"#9c179e\\\"],[0.4444444444444444,\\\"#bd3786\\\"],[0.5555555555555556,\\\"#d8576b\\\"],[0.6666666666666666,\\\"#ed7953\\\"],[0.7777777777777778,\\\"#fb9f3a\\\"],[0.8888888888888888,\\\"#fdca26\\\"],[1.0,\\\"#f0f921\\\"]]},\\\"yaxis\\\":{\\\"gridcolor\\\":\\\"white\\\",\\\"zerolinewidth\\\":2,\\\"title\\\":{\\\"standoff\\\":15},\\\"ticks\\\":\\\"\\\",\\\"zerolinecolor\\\":\\\"white\\\",\\\"automargin\\\":true,\\\"linecolor\\\":\\\"white\\\"},\\\"shapedefaults\\\":{\\\"line\\\":{\\\"color\\\":\\\"#2a3f5f\\\"}},\\\"hoverlabel\\\":{\\\"align\\\":\\\"left\\\"},\\\"mapbox\\\":{\\\"style\\\":\\\"light\\\"},\\\"polar\\\":{\\\"angularaxis\\\":{\\\"gridcolor\\\":\\\"white\\\",\\\"ticks\\\":\\\"\\\",\\\"linecolor\\\":\\\"white\\\"},\\\"bgcolor\\\":\\\"#E5ECF6\\\",\\\"radialaxis\\\":{\\\"gridcolor\\\":\\\"white\\\",\\\"ticks\\\":\\\"\\\",\\\"linecolor\\\":\\\"white\\\"}},\\\"autotypenumbers\\\":\\\"strict\\\",\\\"font\\\":{\\\"color\\\":\\\"#2a3f5f\\\"},\\\"ternary\\\":{\\\"baxis\\\":{\\\"gridcolor\\\":\\\"white\\\",\\\"ticks\\\":\\\"\\\",\\\"linecolor\\\":\\\"white\\\"},\\\"bgcolor\\\":\\\"#E5ECF6\\\",\\\"caxis\\\":{\\\"gridcolor\\\":\\\"white\\\",\\\"ticks\\\":\\\"\\\",\\\"linecolor\\\":\\\"white\\\"},\\\"aaxis\\\":{\\\"gridcolor\\\":\\\"white\\\",\\\"ticks\\\":\\\"\\\",\\\"linecolor\\\":\\\"white\\\"}},\\\"annotationdefaults\\\":{\\\"arrowhead\\\":0,\\\"arrowwidth\\\":1,\\\"arrowcolor\\\":\\\"#2a3f5f\\\"},\\\"plot_bgcolor\\\":\\\"#E5ECF6\\\",\\\"title\\\":{\\\"x\\\":0.05},\\\"scene\\\":{\\\"xaxis\\\":{\\\"gridcolor\\\":\\\"white\\\",\\\"gridwidth\\\":2,\\\"backgroundcolor\\\":\\\"#E5ECF6\\\",\\\"ticks\\\":\\\"\\\",\\\"showbackground\\\":true,\\\"zerolinecolor\\\":\\\"white\\\",\\\"linecolor\\\":\\\"white\\\"},\\\"zaxis\\\":{\\\"gridcolor\\\":\\\"white\\\",\\\"gridwidth\\\":2,\\\"backgroundcolor\\\":\\\"#E5ECF6\\\",\\\"ticks\\\":\\\"\\\",\\\"showbackground\\\":true,\\\"zerolinecolor\\\":\\\"white\\\",\\\"linecolor\\\":\\\"white\\\"},\\\"yaxis\\\":{\\\"gridcolor\\\":\\\"white\\\",\\\"gridwidth\\\":2,\\\"backgroundcolor\\\":\\\"#E5ECF6\\\",\\\"ticks\\\":\\\"\\\",\\\"showbackground\\\":true,\\\"zerolinecolor\\\":\\\"white\\\",\\\"linecolor\\\":\\\"white\\\"}},\\\"colorway\\\":[\\\"#636efa\\\",\\\"#EF553B\\\",\\\"#00cc96\\\",\\\"#ab63fa\\\",\\\"#FFA15A\\\",\\\"#19d3f3\\\",\\\"#FF6692\\\",\\\"#B6E880\\\",\\\"#FF97FF\\\",\\\"#FECB52\\\"]},\\\"data\\\":{\\\"barpolar\\\":[{\\\"type\\\":\\\"barpolar\\\",\\\"marker\\\":{\\\"line\\\":{\\\"color\\\":\\\"#E5ECF6\\\",\\\"width\\\":0.5}}}],\\\"carpet\\\":[{\\\"aaxis\\\":{\\\"gridcolor\\\":\\\"white\\\",\\\"endlinecolor\\\":\\\"#2a3f5f\\\",\\\"minorgridcolor\\\":\\\"white\\\",\\\"startlinecolor\\\":\\\"#2a3f5f\\\",\\\"linecolor\\\":\\\"white\\\"},\\\"type\\\":\\\"carpet\\\",\\\"baxis\\\":{\\\"gridcolor\\\":\\\"white\\\",\\\"endlinecolor\\\":\\\"#2a3f5f\\\",\\\"minorgridcolor\\\":\\\"white\\\",\\\"startlinecolor\\\":\\\"#2a3f5f\\\",\\\"linecolor\\\":\\\"white\\\"}}],\\\"scatterpolar\\\":[{\\\"type\\\":\\\"scatterpolar\\\",\\\"marker\\\":{\\\"colorbar\\\":{\\\"ticks\\\":\\\"\\\",\\\"outlinewidth\\\":0}}}],\\\"parcoords\\\":[{\\\"line\\\":{\\\"colorbar\\\":{\\\"ticks\\\":\\\"\\\",\\\"outlinewidth\\\":0}},\\\"type\\\":\\\"parcoords\\\"}],\\\"scatter\\\":[{\\\"type\\\":\\\"scatter\\\",\\\"marker\\\":{\\\"colorbar\\\":{\\\"ticks\\\":\\\"\\\",\\\"outlinewidth\\\":0}}}],\\\"histogram2dcontour\\\":[{\\\"colorbar\\\":{\\\"ticks\\\":\\\"\\\",\\\"outlinewidth\\\":0},\\\"type\\\":\\\"histogram2dcontour\\\",\\\"colorscale\\\":[[0.0,\\\"#0d0887\\\"],[0.1111111111111111,\\\"#46039f\\\"],[0.2222222222222222,\\\"#7201a8\\\"],[0.3333333333333333,\\\"#9c179e\\\"],[0.4444444444444444,\\\"#bd3786\\\"],[0.5555555555555556,\\\"#d8576b\\\"],[0.6666666666666666,\\\"#ed7953\\\"],[0.7777777777777778,\\\"#fb9f3a\\\"],[0.8888888888888888,\\\"#fdca26\\\"],[1.0,\\\"#f0f921\\\"]]}],\\\"contour\\\":[{\\\"colorbar\\\":{\\\"ticks\\\":\\\"\\\",\\\"outlinewidth\\\":0},\\\"type\\\":\\\"contour\\\",\\\"colorscale\\\":[[0.0,\\\"#0d0887\\\"],[0.1111111111111111,\\\"#46039f\\\"],[0.2222222222222222,\\\"#7201a8\\\"],[0.3333333333333333,\\\"#9c179e\\\"],[0.4444444444444444,\\\"#bd3786\\\"],[0.5555555555555556,\\\"#d8576b\\\"],[0.6666666666666666,\\\"#ed7953\\\"],[0.7777777777777778,\\\"#fb9f3a\\\"],[0.8888888888888888,\\\"#fdca26\\\"],[1.0,\\\"#f0f921\\\"]]}],\\\"scattercarpet\\\":[{\\\"type\\\":\\\"scattercarpet\\\",\\\"marker\\\":{\\\"colorbar\\\":{\\\"ticks\\\":\\\"\\\",\\\"outlinewidth\\\":0}}}],\\\"mesh3d\\\":[{\\\"colorbar\\\":{\\\"ticks\\\":\\\"\\\",\\\"outlinewidth\\\":0},\\\"type\\\":\\\"mesh3d\\\"}],\\\"surface\\\":[{\\\"colorbar\\\":{\\\"ticks\\\":\\\"\\\",\\\"outlinewidth\\\":0},\\\"type\\\":\\\"surface\\\",\\\"colorscale\\\":[[0.0,\\\"#0d0887\\\"],[0.1111111111111111,\\\"#46039f\\\"],[0.2222222222222222,\\\"#7201a8\\\"],[0.3333333333333333,\\\"#9c179e\\\"],[0.4444444444444444,\\\"#bd3786\\\"],[0.5555555555555556,\\\"#d8576b\\\"],[0.6666666666666666,\\\"#ed7953\\\"],[0.7777777777777778,\\\"#fb9f3a\\\"],[0.8888888888888888,\\\"#fdca26\\\"],[1.0,\\\"#f0f921\\\"]]}],\\\"scattermapbox\\\":[{\\\"type\\\":\\\"scattermapbox\\\",\\\"marker\\\":{\\\"colorbar\\\":{\\\"ticks\\\":\\\"\\\",\\\"outlinewidth\\\":0}}}],\\\"scattergeo\\\":[{\\\"type\\\":\\\"scattergeo\\\",\\\"marker\\\":{\\\"colorbar\\\":{\\\"ticks\\\":\\\"\\\",\\\"outlinewidth\\\":0}}}],\\\"histogram\\\":[{\\\"type\\\":\\\"histogram\\\",\\\"marker\\\":{\\\"colorbar\\\":{\\\"ticks\\\":\\\"\\\",\\\"outlinewidth\\\":0}}}],\\\"pie\\\":[{\\\"type\\\":\\\"pie\\\",\\\"automargin\\\":true}],\\\"choropleth\\\":[{\\\"colorbar\\\":{\\\"ticks\\\":\\\"\\\",\\\"outlinewidth\\\":0},\\\"type\\\":\\\"choropleth\\\"}],\\\"heatmapgl\\\":[{\\\"colorbar\\\":{\\\"ticks\\\":\\\"\\\",\\\"outlinewidth\\\":0},\\\"type\\\":\\\"heatmapgl\\\",\\\"colorscale\\\":[[0.0,\\\"#0d0887\\\"],[0.1111111111111111,\\\"#46039f\\\"],[0.2222222222222222,\\\"#7201a8\\\"],[0.3333333333333333,\\\"#9c179e\\\"],[0.4444444444444444,\\\"#bd3786\\\"],[0.5555555555555556,\\\"#d8576b\\\"],[0.6666666666666666,\\\"#ed7953\\\"],[0.7777777777777778,\\\"#fb9f3a\\\"],[0.8888888888888888,\\\"#fdca26\\\"],[1.0,\\\"#f0f921\\\"]]}],\\\"bar\\\":[{\\\"type\\\":\\\"bar\\\",\\\"error_y\\\":{\\\"color\\\":\\\"#2a3f5f\\\"},\\\"error_x\\\":{\\\"color\\\":\\\"#2a3f5f\\\"},\\\"marker\\\":{\\\"line\\\":{\\\"color\\\":\\\"#E5ECF6\\\",\\\"width\\\":0.5}}}],\\\"heatmap\\\":[{\\\"colorbar\\\":{\\\"ticks\\\":\\\"\\\",\\\"outlinewidth\\\":0},\\\"type\\\":\\\"heatmap\\\",\\\"colorscale\\\":[[0.0,\\\"#0d0887\\\"],[0.1111111111111111,\\\"#46039f\\\"],[0.2222222222222222,\\\"#7201a8\\\"],[0.3333333333333333,\\\"#9c179e\\\"],[0.4444444444444444,\\\"#bd3786\\\"],[0.5555555555555556,\\\"#d8576b\\\"],[0.6666666666666666,\\\"#ed7953\\\"],[0.7777777777777778,\\\"#fb9f3a\\\"],[0.8888888888888888,\\\"#fdca26\\\"],[1.0,\\\"#f0f921\\\"]]}],\\\"contourcarpet\\\":[{\\\"colorbar\\\":{\\\"ticks\\\":\\\"\\\",\\\"outlinewidth\\\":0},\\\"type\\\":\\\"contourcarpet\\\"}],\\\"table\\\":[{\\\"type\\\":\\\"table\\\",\\\"header\\\":{\\\"line\\\":{\\\"color\\\":\\\"white\\\"},\\\"fill\\\":{\\\"color\\\":\\\"#C8D4E3\\\"}},\\\"cells\\\":{\\\"line\\\":{\\\"color\\\":\\\"white\\\"},\\\"fill\\\":{\\\"color\\\":\\\"#EBF0F8\\\"}}}],\\\"scatter3d\\\":[{\\\"line\\\":{\\\"colorbar\\\":{\\\"ticks\\\":\\\"\\\",\\\"outlinewidth\\\":0}},\\\"type\\\":\\\"scatter3d\\\",\\\"marker\\\":{\\\"colorbar\\\":{\\\"ticks\\\":\\\"\\\",\\\"outlinewidth\\\":0}}}],\\\"scattergl\\\":[{\\\"type\\\":\\\"scattergl\\\",\\\"marker\\\":{\\\"colorbar\\\":{\\\"ticks\\\":\\\"\\\",\\\"outlinewidth\\\":0}}}],\\\"histogram2d\\\":[{\\\"colorbar\\\":{\\\"ticks\\\":\\\"\\\",\\\"outlinewidth\\\":0},\\\"type\\\":\\\"histogram2d\\\",\\\"colorscale\\\":[[0.0,\\\"#0d0887\\\"],[0.1111111111111111,\\\"#46039f\\\"],[0.2222222222222222,\\\"#7201a8\\\"],[0.3333333333333333,\\\"#9c179e\\\"],[0.4444444444444444,\\\"#bd3786\\\"],[0.5555555555555556,\\\"#d8576b\\\"],[0.6666666666666666,\\\"#ed7953\\\"],[0.7777777777777778,\\\"#fb9f3a\\\"],[0.8888888888888888,\\\"#fdca26\\\"],[1.0,\\\"#f0f921\\\"]]}],\\\"scatterternary\\\":[{\\\"type\\\":\\\"scatterternary\\\",\\\"marker\\\":{\\\"colorbar\\\":{\\\"ticks\\\":\\\"\\\",\\\"outlinewidth\\\":0}}}],\\\"scatterpolargl\\\":[{\\\"type\\\":\\\"scatterpolargl\\\",\\\"marker\\\":{\\\"colorbar\\\":{\\\"ticks\\\":\\\"\\\",\\\"outlinewidth\\\":0}}}]}},\\\"margin\\\":{\\\"l\\\":50,\\\"b\\\":50,\\\"r\\\":50,\\\"t\\\":60},\\\"yaxis\\\":{\\\"title\\\":{\\\"text\\\":\\\"Cumulative Proportion of Variance Explained\\\"}}},{\\\"showLink\\\":false,\\\"editable\\\":false,\\\"responsive\\\":true,\\\"staticPlot\\\":false,\\\"scrollZoom\\\":true}); gd.on(\\\"plotly_hover\\\",(function (data){var filtered_data=WebIO.PlotlyCommands.filterEventData(gd,data,\\\"hover\\\"); return !(filtered_data.isnil) ? (WebIO.setval({\\\"name\\\":\\\"hover\\\",\\\"scope\\\":\\\"16768939414995304611\\\",\\\"id\\\":\\\"131289070228552661\\\",\\\"type\\\":\\\"observable\\\"},filtered_data.out)) : undefined})); gd.on(\\\"plotly_unhover\\\",(function (){return WebIO.setval({\\\"name\\\":\\\"hover\\\",\\\"scope\\\":\\\"16768939414995304611\\\",\\\"id\\\":\\\"131289070228552661\\\",\\\"type\\\":\\\"observable\\\"},{})})); gd.on(\\\"plotly_selected\\\",(function (data){var filtered_data=WebIO.PlotlyCommands.filterEventData(gd,data,\\\"selected\\\"); return !(filtered_data.isnil) ? (WebIO.setval({\\\"name\\\":\\\"selected\\\",\\\"scope\\\":\\\"16768939414995304611\\\",\\\"id\\\":\\\"1955416532716523191\\\",\\\"type\\\":\\\"observable\\\"},filtered_data.out)) : undefined})); gd.on(\\\"plotly_deselect\\\",(function (){return WebIO.setval({\\\"name\\\":\\\"selected\\\",\\\"scope\\\":\\\"16768939414995304611\\\",\\\"id\\\":\\\"1955416532716523191\\\",\\\"type\\\":\\\"observable\\\"},{})})); gd.on(\\\"plotly_relayout\\\",(function (data){var filtered_data=WebIO.PlotlyCommands.filterEventData(gd,data,\\\"relayout\\\"); return !(filtered_data.isnil) ? (WebIO.setval({\\\"name\\\":\\\"relayout\\\",\\\"scope\\\":\\\"16768939414995304611\\\",\\\"id\\\":\\\"17529971115743932944\\\",\\\"type\\\":\\\"observable\\\"},filtered_data.out)) : undefined})); return gd.on(\\\"plotly_click\\\",(function (data){var filtered_data=WebIO.PlotlyCommands.filterEventData(gd,data,\\\"click\\\"); return !(filtered_data.isnil) ? (WebIO.setval({\\\"name\\\":\\\"click\\\",\\\"scope\\\":\\\"16768939414995304611\\\",\\\"id\\\":\\\"15087420335743241284\\\",\\\"type\\\":\\\"observable\\\"},filtered_data.out)) : undefined}))}));\\n    (WebIO.importBlock({\\\"data\\\":[{\\\"name\\\":\\\"Plotly\\\",\\\"type\\\":\\\"js\\\",\\\"url\\\":\\\"\\/assetserver\\/597d3e3981791f3da20e7b96cab90ffffca4599e-plotly.min.js\\\"},{\\\"name\\\":null,\\\"type\\\":\\\"js\\\",\\\"url\\\":\\\"\\/assetserver\\/d21cc61a8b26f5a8d90707d16621e32300c2e5ed-plotly_webio.bundle.js\\\"}],\\\"type\\\":\\\"async_block\\\"})).then((imports) => handler.apply(this, imports));\\n}\\n\"],\"observables\":{\"_toImage\":{\"sync\":false,\"id\":\"15036458184372968619\",\"value\":{}},\"hover\":{\"sync\":false,\"id\":\"131289070228552661\",\"value\":{}},\"selected\":{\"sync\":false,\"id\":\"1955416532716523191\",\"value\":{}},\"__gd_contents\":{\"sync\":false,\"id\":\"10848396356894259750\",\"value\":{}},\"click\":{\"sync\":false,\"id\":\"15087420335743241284\",\"value\":{}},\"image\":{\"sync\":true,\"id\":\"8153403780122403290\",\"value\":\"\"},\"__get_gd_contents\":{\"sync\":false,\"id\":\"12554360468626243634\",\"value\":\"\"},\"_downloadImage\":{\"sync\":false,\"id\":\"17565578844923191337\",\"value\":{}},\"relayout\":{\"sync\":false,\"id\":\"17529971115743932944\",\"value\":{}},\"_commands\":{\"sync\":false,\"id\":\"2130966728247457229\",\"value\":[]}}},\"children\":[{\"props\":{\"id\":\"plot-a18c3416-3de4-4e70-8c74-140e9cc0c9c3\"},\"nodeType\":\"DOM\",\"type\":\"node\",\"instanceArgs\":{\"namespace\":\"html\",\"tag\":\"div\"},\"children\":[]}]},\n",
       "        window,\n",
       "    );\n",
       "    })()\n",
       "    </script>\n",
       "</div>\n"
      ],
      "text/plain": [
       "data: [\n",
       "  \"scatter with fields mode, type, x, and y\"\n",
       "]\n",
       "\n",
       "layout: \"layout with fields margin, template, xaxis, and yaxis\"\n",
       "\n"
      ]
     },
     "execution_count": 28,
     "metadata": {},
     "output_type": "execute_result"
    }
   ],
   "source": [
    "plot(scatter(\n",
    "    x = x_plot_new,\n",
    "    y = pca_info_mat[3,:],\n",
    "    mode = \"lines+markers\"\n",
    "    ),\n",
    "    Layout(yaxis_title=\"Cumulative Proportion of Variance Explained\", xaxis_title=\"Principal Component\")\n",
    ") \n",
    "\n"
   ]
  },
  {
   "cell_type": "markdown",
   "id": "ca41d1ed",
   "metadata": {},
   "source": [
    "#### 10.6.2 Clustering"
   ]
  },
  {
   "cell_type": "code",
   "execution_count": 30,
   "id": "1c8c7b7e",
   "metadata": {},
   "outputs": [
    {
     "name": "stdout",
     "output_type": "stream",
     "text": [
      "5 : BREAST, 8 : BREAST, 6 : CNS, 7 : CNS, 20 : RENAL, 18 : BREAST, 19 : NSCLC, 4 : RENAL, 59 : MELANOMA, 25 : OVARIAN, 26 : OVARIAN, 53 : NSCLC, 27 : OVARIAN, 42 : COLON, 44 : COLON, 29 : OVARIAN, 30 : PROSTATE, 54 : NSCLC, 32 : NSCLC, 33 : NSCLC, 24 : PROSTATE, 9 : NSCLC, 23 : MELANOMA, 17 : RENAL, 15 : RENAL, 16 : RENAL, 28 : OVARIAN, 21 : UNKNOWN, 22 : OVARIAN, 10 : NSCLC, 3 : CNS, 1 : CNS, 2 : CNS, 31 : NSCLC, 12 : RENAL, 13 : RENAL, 11 : RENAL, 14 : RENAL, 55 : NSCLC, 62 : MELANOMA, 64 : MELANOMA, 63 : MELANOMA, 60 : MELANOMA, 61 : MELANOMA, 56 : MELANOMA, 57 : BREAST, 58 : BREAST, 47 : COLON, 45 : COLON, 46 : COLON, 43 : COLON, 48 : COLON, 52 : BREAST, 49 : MCF7A-repro, 50 : BREAST, 51 : MCF7D-repro, 39 : LEUKEMIA, 40 : LEUKEMIA, 41 : LEUKEMIA, 37 : LEUKEMIA, 35 : K562B-repro, 36 : K562A-repro, 34 : LEUKEMIA, 38 : LEUKEMIA, "
     ]
    },
    {
     "data": {
      "image/svg+xml": [
       "<?xml version=\"1.0\" encoding=\"utf-8\"?>\n",
       "<svg xmlns=\"http://www.w3.org/2000/svg\" xmlns:xlink=\"http://www.w3.org/1999/xlink\" width=\"1200\" height=\"500\" viewBox=\"0 0 4800 2000\">\n",
       "<defs>\n",
       "  <clipPath id=\"clip460\">\n",
       "    <rect x=\"0\" y=\"0\" width=\"4800\" height=\"2000\"/>\n",
       "  </clipPath>\n",
       "</defs>\n",
       "<path clip-path=\"url(#clip460)\" d=\"\n",
       "M0 2000 L4800 2000 L4800 0 L0 0  Z\n",
       "  \" fill=\"#ffffff\" fill-rule=\"evenodd\" fill-opacity=\"1\"/>\n",
       "<defs>\n",
       "  <clipPath id=\"clip461\">\n",
       "    <rect x=\"960\" y=\"0\" width=\"3361\" height=\"2000\"/>\n",
       "  </clipPath>\n",
       "</defs>\n",
       "<path clip-path=\"url(#clip460)\" d=\"\n",
       "M193.121 1895.41 L4752.76 1895.41 L4752.76 47.2441 L193.121 47.2441  Z\n",
       "  \" fill=\"#ffffff\" fill-rule=\"evenodd\" fill-opacity=\"1\"/>\n",
       "<defs>\n",
       "  <clipPath id=\"clip462\">\n",
       "    <rect x=\"193\" y=\"47\" width=\"4561\" height=\"1849\"/>\n",
       "  </clipPath>\n",
       "</defs>\n",
       "<polyline clip-path=\"url(#clip460)\" style=\"stroke:#000000; stroke-linecap:round; stroke-linejoin:round; stroke-width:4; stroke-opacity:1; fill:none\" points=\"\n",
       "  193.121,1895.41 4752.76,1895.41 \n",
       "  \"/>\n",
       "<polyline clip-path=\"url(#clip460)\" style=\"stroke:#ffffff; stroke-linecap:round; stroke-linejoin:round; stroke-width:4; stroke-opacity:1; fill:none\" points=\"\n",
       "  228.743,1895.41 228.743,1876.51 \n",
       "  \"/>\n",
       "<polyline clip-path=\"url(#clip460)\" style=\"stroke:#ffffff; stroke-linecap:round; stroke-linejoin:round; stroke-width:4; stroke-opacity:1; fill:none\" points=\"\n",
       "  299.988,1895.41 299.988,1876.51 \n",
       "  \"/>\n",
       "<polyline clip-path=\"url(#clip460)\" style=\"stroke:#ffffff; stroke-linecap:round; stroke-linejoin:round; stroke-width:4; stroke-opacity:1; fill:none\" points=\"\n",
       "  371.232,1895.41 371.232,1876.51 \n",
       "  \"/>\n",
       "<polyline clip-path=\"url(#clip460)\" style=\"stroke:#ffffff; stroke-linecap:round; stroke-linejoin:round; stroke-width:4; stroke-opacity:1; fill:none\" points=\"\n",
       "  442.476,1895.41 442.476,1876.51 \n",
       "  \"/>\n",
       "<polyline clip-path=\"url(#clip460)\" style=\"stroke:#ffffff; stroke-linecap:round; stroke-linejoin:round; stroke-width:4; stroke-opacity:1; fill:none\" points=\"\n",
       "  513.721,1895.41 513.721,1876.51 \n",
       "  \"/>\n",
       "<polyline clip-path=\"url(#clip460)\" style=\"stroke:#ffffff; stroke-linecap:round; stroke-linejoin:round; stroke-width:4; stroke-opacity:1; fill:none\" points=\"\n",
       "  584.965,1895.41 584.965,1876.51 \n",
       "  \"/>\n",
       "<polyline clip-path=\"url(#clip460)\" style=\"stroke:#ffffff; stroke-linecap:round; stroke-linejoin:round; stroke-width:4; stroke-opacity:1; fill:none\" points=\"\n",
       "  656.209,1895.41 656.209,1876.51 \n",
       "  \"/>\n",
       "<polyline clip-path=\"url(#clip460)\" style=\"stroke:#ffffff; stroke-linecap:round; stroke-linejoin:round; stroke-width:4; stroke-opacity:1; fill:none\" points=\"\n",
       "  727.453,1895.41 727.453,1876.51 \n",
       "  \"/>\n",
       "<polyline clip-path=\"url(#clip460)\" style=\"stroke:#ffffff; stroke-linecap:round; stroke-linejoin:round; stroke-width:4; stroke-opacity:1; fill:none\" points=\"\n",
       "  798.698,1895.41 798.698,1876.51 \n",
       "  \"/>\n",
       "<polyline clip-path=\"url(#clip460)\" style=\"stroke:#ffffff; stroke-linecap:round; stroke-linejoin:round; stroke-width:4; stroke-opacity:1; fill:none\" points=\"\n",
       "  869.942,1895.41 869.942,1876.51 \n",
       "  \"/>\n",
       "<polyline clip-path=\"url(#clip460)\" style=\"stroke:#ffffff; stroke-linecap:round; stroke-linejoin:round; stroke-width:4; stroke-opacity:1; fill:none\" points=\"\n",
       "  941.186,1895.41 941.186,1876.51 \n",
       "  \"/>\n",
       "<polyline clip-path=\"url(#clip460)\" style=\"stroke:#ffffff; stroke-linecap:round; stroke-linejoin:round; stroke-width:4; stroke-opacity:1; fill:none\" points=\"\n",
       "  1012.43,1895.41 1012.43,1876.51 \n",
       "  \"/>\n",
       "<polyline clip-path=\"url(#clip460)\" style=\"stroke:#ffffff; stroke-linecap:round; stroke-linejoin:round; stroke-width:4; stroke-opacity:1; fill:none\" points=\"\n",
       "  1083.67,1895.41 1083.67,1876.51 \n",
       "  \"/>\n",
       "<polyline clip-path=\"url(#clip460)\" style=\"stroke:#ffffff; stroke-linecap:round; stroke-linejoin:round; stroke-width:4; stroke-opacity:1; fill:none\" points=\"\n",
       "  1154.92,1895.41 1154.92,1876.51 \n",
       "  \"/>\n",
       "<polyline clip-path=\"url(#clip460)\" style=\"stroke:#ffffff; stroke-linecap:round; stroke-linejoin:round; stroke-width:4; stroke-opacity:1; fill:none\" points=\"\n",
       "  1226.16,1895.41 1226.16,1876.51 \n",
       "  \"/>\n",
       "<polyline clip-path=\"url(#clip460)\" style=\"stroke:#ffffff; stroke-linecap:round; stroke-linejoin:round; stroke-width:4; stroke-opacity:1; fill:none\" points=\"\n",
       "  1297.41,1895.41 1297.41,1876.51 \n",
       "  \"/>\n",
       "<polyline clip-path=\"url(#clip460)\" style=\"stroke:#ffffff; stroke-linecap:round; stroke-linejoin:round; stroke-width:4; stroke-opacity:1; fill:none\" points=\"\n",
       "  1368.65,1895.41 1368.65,1876.51 \n",
       "  \"/>\n",
       "<polyline clip-path=\"url(#clip460)\" style=\"stroke:#ffffff; stroke-linecap:round; stroke-linejoin:round; stroke-width:4; stroke-opacity:1; fill:none\" points=\"\n",
       "  1439.9,1895.41 1439.9,1876.51 \n",
       "  \"/>\n",
       "<polyline clip-path=\"url(#clip460)\" style=\"stroke:#ffffff; stroke-linecap:round; stroke-linejoin:round; stroke-width:4; stroke-opacity:1; fill:none\" points=\"\n",
       "  1511.14,1895.41 1511.14,1876.51 \n",
       "  \"/>\n",
       "<polyline clip-path=\"url(#clip460)\" style=\"stroke:#ffffff; stroke-linecap:round; stroke-linejoin:round; stroke-width:4; stroke-opacity:1; fill:none\" points=\"\n",
       "  1582.38,1895.41 1582.38,1876.51 \n",
       "  \"/>\n",
       "<polyline clip-path=\"url(#clip460)\" style=\"stroke:#ffffff; stroke-linecap:round; stroke-linejoin:round; stroke-width:4; stroke-opacity:1; fill:none\" points=\"\n",
       "  1653.63,1895.41 1653.63,1876.51 \n",
       "  \"/>\n",
       "<polyline clip-path=\"url(#clip460)\" style=\"stroke:#ffffff; stroke-linecap:round; stroke-linejoin:round; stroke-width:4; stroke-opacity:1; fill:none\" points=\"\n",
       "  1724.87,1895.41 1724.87,1876.51 \n",
       "  \"/>\n",
       "<polyline clip-path=\"url(#clip460)\" style=\"stroke:#ffffff; stroke-linecap:round; stroke-linejoin:round; stroke-width:4; stroke-opacity:1; fill:none\" points=\"\n",
       "  1796.12,1895.41 1796.12,1876.51 \n",
       "  \"/>\n",
       "<polyline clip-path=\"url(#clip460)\" style=\"stroke:#ffffff; stroke-linecap:round; stroke-linejoin:round; stroke-width:4; stroke-opacity:1; fill:none\" points=\"\n",
       "  1867.36,1895.41 1867.36,1876.51 \n",
       "  \"/>\n",
       "<polyline clip-path=\"url(#clip460)\" style=\"stroke:#ffffff; stroke-linecap:round; stroke-linejoin:round; stroke-width:4; stroke-opacity:1; fill:none\" points=\"\n",
       "  1938.61,1895.41 1938.61,1876.51 \n",
       "  \"/>\n",
       "<polyline clip-path=\"url(#clip460)\" style=\"stroke:#ffffff; stroke-linecap:round; stroke-linejoin:round; stroke-width:4; stroke-opacity:1; fill:none\" points=\"\n",
       "  2009.85,1895.41 2009.85,1876.51 \n",
       "  \"/>\n",
       "<polyline clip-path=\"url(#clip460)\" style=\"stroke:#ffffff; stroke-linecap:round; stroke-linejoin:round; stroke-width:4; stroke-opacity:1; fill:none\" points=\"\n",
       "  2081.1,1895.41 2081.1,1876.51 \n",
       "  \"/>\n",
       "<polyline clip-path=\"url(#clip460)\" style=\"stroke:#ffffff; stroke-linecap:round; stroke-linejoin:round; stroke-width:4; stroke-opacity:1; fill:none\" points=\"\n",
       "  2152.34,1895.41 2152.34,1876.51 \n",
       "  \"/>\n",
       "<polyline clip-path=\"url(#clip460)\" style=\"stroke:#ffffff; stroke-linecap:round; stroke-linejoin:round; stroke-width:4; stroke-opacity:1; fill:none\" points=\"\n",
       "  2223.58,1895.41 2223.58,1876.51 \n",
       "  \"/>\n",
       "<polyline clip-path=\"url(#clip460)\" style=\"stroke:#ffffff; stroke-linecap:round; stroke-linejoin:round; stroke-width:4; stroke-opacity:1; fill:none\" points=\"\n",
       "  2294.83,1895.41 2294.83,1876.51 \n",
       "  \"/>\n",
       "<polyline clip-path=\"url(#clip460)\" style=\"stroke:#ffffff; stroke-linecap:round; stroke-linejoin:round; stroke-width:4; stroke-opacity:1; fill:none\" points=\"\n",
       "  2366.07,1895.41 2366.07,1876.51 \n",
       "  \"/>\n",
       "<polyline clip-path=\"url(#clip460)\" style=\"stroke:#ffffff; stroke-linecap:round; stroke-linejoin:round; stroke-width:4; stroke-opacity:1; fill:none\" points=\"\n",
       "  2437.32,1895.41 2437.32,1876.51 \n",
       "  \"/>\n",
       "<polyline clip-path=\"url(#clip460)\" style=\"stroke:#ffffff; stroke-linecap:round; stroke-linejoin:round; stroke-width:4; stroke-opacity:1; fill:none\" points=\"\n",
       "  2508.56,1895.41 2508.56,1876.51 \n",
       "  \"/>\n",
       "<polyline clip-path=\"url(#clip460)\" style=\"stroke:#ffffff; stroke-linecap:round; stroke-linejoin:round; stroke-width:4; stroke-opacity:1; fill:none\" points=\"\n",
       "  2579.81,1895.41 2579.81,1876.51 \n",
       "  \"/>\n",
       "<polyline clip-path=\"url(#clip460)\" style=\"stroke:#ffffff; stroke-linecap:round; stroke-linejoin:round; stroke-width:4; stroke-opacity:1; fill:none\" points=\"\n",
       "  2651.05,1895.41 2651.05,1876.51 \n",
       "  \"/>\n",
       "<polyline clip-path=\"url(#clip460)\" style=\"stroke:#ffffff; stroke-linecap:round; stroke-linejoin:round; stroke-width:4; stroke-opacity:1; fill:none\" points=\"\n",
       "  2722.29,1895.41 2722.29,1876.51 \n",
       "  \"/>\n",
       "<polyline clip-path=\"url(#clip460)\" style=\"stroke:#ffffff; stroke-linecap:round; stroke-linejoin:round; stroke-width:4; stroke-opacity:1; fill:none\" points=\"\n",
       "  2793.54,1895.41 2793.54,1876.51 \n",
       "  \"/>\n",
       "<polyline clip-path=\"url(#clip460)\" style=\"stroke:#ffffff; stroke-linecap:round; stroke-linejoin:round; stroke-width:4; stroke-opacity:1; fill:none\" points=\"\n",
       "  2864.78,1895.41 2864.78,1876.51 \n",
       "  \"/>\n",
       "<polyline clip-path=\"url(#clip460)\" style=\"stroke:#ffffff; stroke-linecap:round; stroke-linejoin:round; stroke-width:4; stroke-opacity:1; fill:none\" points=\"\n",
       "  2936.03,1895.41 2936.03,1876.51 \n",
       "  \"/>\n",
       "<polyline clip-path=\"url(#clip460)\" style=\"stroke:#ffffff; stroke-linecap:round; stroke-linejoin:round; stroke-width:4; stroke-opacity:1; fill:none\" points=\"\n",
       "  3007.27,1895.41 3007.27,1876.51 \n",
       "  \"/>\n",
       "<polyline clip-path=\"url(#clip460)\" style=\"stroke:#ffffff; stroke-linecap:round; stroke-linejoin:round; stroke-width:4; stroke-opacity:1; fill:none\" points=\"\n",
       "  3078.52,1895.41 3078.52,1876.51 \n",
       "  \"/>\n",
       "<polyline clip-path=\"url(#clip460)\" style=\"stroke:#ffffff; stroke-linecap:round; stroke-linejoin:round; stroke-width:4; stroke-opacity:1; fill:none\" points=\"\n",
       "  3149.76,1895.41 3149.76,1876.51 \n",
       "  \"/>\n",
       "<polyline clip-path=\"url(#clip460)\" style=\"stroke:#ffffff; stroke-linecap:round; stroke-linejoin:round; stroke-width:4; stroke-opacity:1; fill:none\" points=\"\n",
       "  3221,1895.41 3221,1876.51 \n",
       "  \"/>\n",
       "<polyline clip-path=\"url(#clip460)\" style=\"stroke:#ffffff; stroke-linecap:round; stroke-linejoin:round; stroke-width:4; stroke-opacity:1; fill:none\" points=\"\n",
       "  3292.25,1895.41 3292.25,1876.51 \n",
       "  \"/>\n",
       "<polyline clip-path=\"url(#clip460)\" style=\"stroke:#ffffff; stroke-linecap:round; stroke-linejoin:round; stroke-width:4; stroke-opacity:1; fill:none\" points=\"\n",
       "  3363.49,1895.41 3363.49,1876.51 \n",
       "  \"/>\n",
       "<polyline clip-path=\"url(#clip460)\" style=\"stroke:#ffffff; stroke-linecap:round; stroke-linejoin:round; stroke-width:4; stroke-opacity:1; fill:none\" points=\"\n",
       "  3434.74,1895.41 3434.74,1876.51 \n",
       "  \"/>\n",
       "<polyline clip-path=\"url(#clip460)\" style=\"stroke:#ffffff; stroke-linecap:round; stroke-linejoin:round; stroke-width:4; stroke-opacity:1; fill:none\" points=\"\n",
       "  3505.98,1895.41 3505.98,1876.51 \n",
       "  \"/>\n",
       "<polyline clip-path=\"url(#clip460)\" style=\"stroke:#ffffff; stroke-linecap:round; stroke-linejoin:round; stroke-width:4; stroke-opacity:1; fill:none\" points=\"\n",
       "  3577.23,1895.41 3577.23,1876.51 \n",
       "  \"/>\n",
       "<polyline clip-path=\"url(#clip460)\" style=\"stroke:#ffffff; stroke-linecap:round; stroke-linejoin:round; stroke-width:4; stroke-opacity:1; fill:none\" points=\"\n",
       "  3648.47,1895.41 3648.47,1876.51 \n",
       "  \"/>\n",
       "<polyline clip-path=\"url(#clip460)\" style=\"stroke:#ffffff; stroke-linecap:round; stroke-linejoin:round; stroke-width:4; stroke-opacity:1; fill:none\" points=\"\n",
       "  3719.71,1895.41 3719.71,1876.51 \n",
       "  \"/>\n",
       "<polyline clip-path=\"url(#clip460)\" style=\"stroke:#ffffff; stroke-linecap:round; stroke-linejoin:round; stroke-width:4; stroke-opacity:1; fill:none\" points=\"\n",
       "  3790.96,1895.41 3790.96,1876.51 \n",
       "  \"/>\n",
       "<polyline clip-path=\"url(#clip460)\" style=\"stroke:#ffffff; stroke-linecap:round; stroke-linejoin:round; stroke-width:4; stroke-opacity:1; fill:none\" points=\"\n",
       "  3862.2,1895.41 3862.2,1876.51 \n",
       "  \"/>\n",
       "<polyline clip-path=\"url(#clip460)\" style=\"stroke:#ffffff; stroke-linecap:round; stroke-linejoin:round; stroke-width:4; stroke-opacity:1; fill:none\" points=\"\n",
       "  3933.45,1895.41 3933.45,1876.51 \n",
       "  \"/>\n",
       "<polyline clip-path=\"url(#clip460)\" style=\"stroke:#ffffff; stroke-linecap:round; stroke-linejoin:round; stroke-width:4; stroke-opacity:1; fill:none\" points=\"\n",
       "  4004.69,1895.41 4004.69,1876.51 \n",
       "  \"/>\n",
       "<polyline clip-path=\"url(#clip460)\" style=\"stroke:#ffffff; stroke-linecap:round; stroke-linejoin:round; stroke-width:4; stroke-opacity:1; fill:none\" points=\"\n",
       "  4075.94,1895.41 4075.94,1876.51 \n",
       "  \"/>\n",
       "<polyline clip-path=\"url(#clip460)\" style=\"stroke:#ffffff; stroke-linecap:round; stroke-linejoin:round; stroke-width:4; stroke-opacity:1; fill:none\" points=\"\n",
       "  4147.18,1895.41 4147.18,1876.51 \n",
       "  \"/>\n",
       "<polyline clip-path=\"url(#clip460)\" style=\"stroke:#ffffff; stroke-linecap:round; stroke-linejoin:round; stroke-width:4; stroke-opacity:1; fill:none\" points=\"\n",
       "  4218.42,1895.41 4218.42,1876.51 \n",
       "  \"/>\n",
       "<polyline clip-path=\"url(#clip460)\" style=\"stroke:#ffffff; stroke-linecap:round; stroke-linejoin:round; stroke-width:4; stroke-opacity:1; fill:none\" points=\"\n",
       "  4289.67,1895.41 4289.67,1876.51 \n",
       "  \"/>\n",
       "<polyline clip-path=\"url(#clip460)\" style=\"stroke:#ffffff; stroke-linecap:round; stroke-linejoin:round; stroke-width:4; stroke-opacity:1; fill:none\" points=\"\n",
       "  4360.91,1895.41 4360.91,1876.51 \n",
       "  \"/>\n",
       "<polyline clip-path=\"url(#clip460)\" style=\"stroke:#ffffff; stroke-linecap:round; stroke-linejoin:round; stroke-width:4; stroke-opacity:1; fill:none\" points=\"\n",
       "  4432.16,1895.41 4432.16,1876.51 \n",
       "  \"/>\n",
       "<polyline clip-path=\"url(#clip460)\" style=\"stroke:#ffffff; stroke-linecap:round; stroke-linejoin:round; stroke-width:4; stroke-opacity:1; fill:none\" points=\"\n",
       "  4503.4,1895.41 4503.4,1876.51 \n",
       "  \"/>\n",
       "<polyline clip-path=\"url(#clip460)\" style=\"stroke:#ffffff; stroke-linecap:round; stroke-linejoin:round; stroke-width:4; stroke-opacity:1; fill:none\" points=\"\n",
       "  4574.65,1895.41 4574.65,1876.51 \n",
       "  \"/>\n",
       "<polyline clip-path=\"url(#clip460)\" style=\"stroke:#ffffff; stroke-linecap:round; stroke-linejoin:round; stroke-width:4; stroke-opacity:1; fill:none\" points=\"\n",
       "  4645.89,1895.41 4645.89,1876.51 \n",
       "  \"/>\n",
       "<polyline clip-path=\"url(#clip460)\" style=\"stroke:#ffffff; stroke-linecap:round; stroke-linejoin:round; stroke-width:4; stroke-opacity:1; fill:none\" points=\"\n",
       "  4717.13,1895.41 4717.13,1876.51 \n",
       "  \"/>\n",
       "<path clip-path=\"url(#clip460)\" d=\"M219.021 1942.45 L237.378 1942.45 L237.378 1946.38 L223.304 1946.38 L223.304 1954.86 Q224.322 1954.51 225.341 1954.35 Q226.359 1954.16 227.378 1954.16 Q233.165 1954.16 236.544 1957.33 Q239.924 1960.5 239.924 1965.92 Q239.924 1971.5 236.452 1974.6 Q232.98 1977.68 226.66 1977.68 Q224.484 1977.68 222.216 1977.31 Q219.97 1976.94 217.563 1976.2 L217.563 1971.5 Q219.646 1972.63 221.868 1973.19 Q224.091 1973.74 226.568 1973.74 Q230.572 1973.74 232.91 1971.64 Q235.248 1969.53 235.248 1965.92 Q235.248 1962.31 232.91 1960.2 Q230.572 1958.1 226.568 1958.1 Q224.693 1958.1 222.818 1958.51 Q220.966 1958.93 219.021 1959.81 L219.021 1942.45 Z\" fill=\"#000000\" fill-rule=\"evenodd\" fill-opacity=\"1\" /><path clip-path=\"url(#clip460)\" d=\"M299.988 1960.6 Q296.654 1960.6 294.733 1962.38 Q292.835 1964.16 292.835 1967.29 Q292.835 1970.41 294.733 1972.19 Q296.654 1973.98 299.988 1973.98 Q303.321 1973.98 305.242 1972.19 Q307.164 1970.39 307.164 1967.29 Q307.164 1964.16 305.242 1962.38 Q303.344 1960.6 299.988 1960.6 M295.312 1958.61 Q292.303 1957.86 290.613 1955.8 Q288.946 1953.74 288.946 1950.78 Q288.946 1946.64 291.886 1944.23 Q294.849 1941.82 299.988 1941.82 Q305.15 1941.82 308.09 1944.23 Q311.029 1946.64 311.029 1950.78 Q311.029 1953.74 309.34 1955.8 Q307.673 1957.86 304.687 1958.61 Q308.066 1959.39 309.941 1961.68 Q311.84 1963.98 311.84 1967.29 Q311.84 1972.31 308.761 1974.99 Q305.705 1977.68 299.988 1977.68 Q294.27 1977.68 291.192 1974.99 Q288.136 1972.31 288.136 1967.29 Q288.136 1963.98 290.034 1961.68 Q291.932 1959.39 295.312 1958.61 M293.599 1951.22 Q293.599 1953.91 295.266 1955.41 Q296.955 1956.92 299.988 1956.92 Q302.997 1956.92 304.687 1955.41 Q306.4 1953.91 306.4 1951.22 Q306.4 1948.54 304.687 1947.03 Q302.997 1945.53 299.988 1945.53 Q296.955 1945.53 295.266 1947.03 Q293.599 1948.54 293.599 1951.22 Z\" fill=\"#000000\" fill-rule=\"evenodd\" fill-opacity=\"1\" /><path clip-path=\"url(#clip460)\" d=\"M371.637 1957.86 Q368.489 1957.86 366.637 1960.02 Q364.808 1962.17 364.808 1965.92 Q364.808 1969.65 366.637 1971.82 Q368.489 1973.98 371.637 1973.98 Q374.785 1973.98 376.614 1971.82 Q378.466 1969.65 378.466 1965.92 Q378.466 1962.17 376.614 1960.02 Q374.785 1957.86 371.637 1957.86 M380.919 1943.21 L380.919 1947.47 Q379.16 1946.64 377.355 1946.2 Q375.572 1945.76 373.813 1945.76 Q369.183 1945.76 366.73 1948.88 Q364.299 1952.01 363.952 1958.33 Q365.318 1956.31 367.378 1955.25 Q369.438 1954.16 371.915 1954.16 Q377.123 1954.16 380.132 1957.33 Q383.165 1960.48 383.165 1965.92 Q383.165 1971.24 380.017 1974.46 Q376.869 1977.68 371.637 1977.68 Q365.642 1977.68 362.471 1973.1 Q359.299 1968.49 359.299 1959.76 Q359.299 1951.57 363.188 1946.71 Q367.077 1941.82 373.628 1941.82 Q375.387 1941.82 377.17 1942.17 Q378.975 1942.52 380.919 1943.21 Z\" fill=\"#000000\" fill-rule=\"evenodd\" fill-opacity=\"1\" /><path clip-path=\"url(#clip460)\" d=\"M431.365 1942.45 L453.587 1942.45 L453.587 1944.44 L441.041 1977.01 L436.157 1977.01 L447.962 1946.38 L431.365 1946.38 L431.365 1942.45 Z\" fill=\"#000000\" fill-rule=\"evenodd\" fill-opacity=\"1\" /><path clip-path=\"url(#clip460)\" d=\"M492.494 1973.07 L508.813 1973.07 L508.813 1977.01 L486.869 1977.01 L486.869 1973.07 Q489.531 1970.32 494.114 1965.69 Q498.721 1961.04 499.901 1959.69 Q502.147 1957.17 503.026 1955.43 Q503.929 1953.67 503.929 1951.98 Q503.929 1949.23 501.985 1947.49 Q500.063 1945.76 496.961 1945.76 Q494.762 1945.76 492.309 1946.52 Q489.878 1947.29 487.1 1948.84 L487.1 1944.11 Q489.924 1942.98 492.378 1942.4 Q494.832 1941.82 496.869 1941.82 Q502.239 1941.82 505.434 1944.51 Q508.628 1947.19 508.628 1951.68 Q508.628 1953.81 507.818 1955.73 Q507.031 1957.63 504.924 1960.23 Q504.346 1960.9 501.244 1964.11 Q498.142 1967.31 492.494 1973.07 Z\" fill=\"#000000\" fill-rule=\"evenodd\" fill-opacity=\"1\" /><path clip-path=\"url(#clip460)\" d=\"M528.628 1945.53 Q525.017 1945.53 523.188 1949.09 Q521.383 1952.63 521.383 1959.76 Q521.383 1966.87 523.188 1970.43 Q525.017 1973.98 528.628 1973.98 Q532.262 1973.98 534.068 1970.43 Q535.896 1966.87 535.896 1959.76 Q535.896 1952.63 534.068 1949.09 Q532.262 1945.53 528.628 1945.53 M528.628 1941.82 Q534.438 1941.82 537.494 1946.43 Q540.572 1951.01 540.572 1959.76 Q540.572 1968.49 537.494 1973.1 Q534.438 1977.68 528.628 1977.68 Q522.818 1977.68 519.739 1973.1 Q516.684 1968.49 516.684 1959.76 Q516.684 1951.01 519.739 1946.43 Q522.818 1941.82 528.628 1941.82 Z\" fill=\"#000000\" fill-rule=\"evenodd\" fill-opacity=\"1\" /><path clip-path=\"url(#clip460)\" d=\"M559.699 1973.07 L567.338 1973.07 L567.338 1946.71 L559.028 1948.37 L559.028 1944.11 L567.291 1942.45 L571.967 1942.45 L571.967 1973.07 L579.606 1973.07 L579.606 1977.01 L559.699 1977.01 L559.699 1973.07 Z\" fill=\"#000000\" fill-rule=\"evenodd\" fill-opacity=\"1\" /><path clip-path=\"url(#clip460)\" d=\"M599.05 1960.6 Q595.717 1960.6 593.796 1962.38 Q591.898 1964.16 591.898 1967.29 Q591.898 1970.41 593.796 1972.19 Q595.717 1973.98 599.05 1973.98 Q602.384 1973.98 604.305 1972.19 Q606.226 1970.39 606.226 1967.29 Q606.226 1964.16 604.305 1962.38 Q602.407 1960.6 599.05 1960.6 M594.375 1958.61 Q591.365 1957.86 589.676 1955.8 Q588.009 1953.74 588.009 1950.78 Q588.009 1946.64 590.949 1944.23 Q593.912 1941.82 599.05 1941.82 Q604.212 1941.82 607.152 1944.23 Q610.092 1946.64 610.092 1950.78 Q610.092 1953.74 608.402 1955.8 Q606.736 1957.86 603.75 1958.61 Q607.129 1959.39 609.004 1961.68 Q610.902 1963.98 610.902 1967.29 Q610.902 1972.31 607.824 1974.99 Q604.768 1977.68 599.05 1977.68 Q593.333 1977.68 590.254 1974.99 Q587.199 1972.31 587.199 1967.29 Q587.199 1963.98 589.097 1961.68 Q590.995 1959.39 594.375 1958.61 M592.662 1951.22 Q592.662 1953.91 594.328 1955.41 Q596.018 1956.92 599.05 1956.92 Q602.06 1956.92 603.75 1955.41 Q605.462 1953.91 605.462 1951.22 Q605.462 1948.54 603.75 1947.03 Q602.06 1945.53 599.05 1945.53 Q596.018 1945.53 594.328 1947.03 Q592.662 1948.54 592.662 1951.22 Z\" fill=\"#000000\" fill-rule=\"evenodd\" fill-opacity=\"1\" /><path clip-path=\"url(#clip460)\" d=\"M630.989 1973.07 L638.628 1973.07 L638.628 1946.71 L630.318 1948.37 L630.318 1944.11 L638.582 1942.45 L643.258 1942.45 L643.258 1973.07 L650.897 1973.07 L650.897 1977.01 L630.989 1977.01 L630.989 1973.07 Z\" fill=\"#000000\" fill-rule=\"evenodd\" fill-opacity=\"1\" /><path clip-path=\"url(#clip460)\" d=\"M660.48 1976.29 L660.48 1972.03 Q662.239 1972.86 664.045 1973.3 Q665.85 1973.74 667.586 1973.74 Q672.216 1973.74 674.647 1970.64 Q677.1 1967.52 677.448 1961.17 Q676.105 1963.17 674.045 1964.23 Q671.985 1965.29 669.485 1965.29 Q664.299 1965.29 661.267 1962.17 Q658.258 1959.02 658.258 1953.58 Q658.258 1948.26 661.406 1945.04 Q664.554 1941.82 669.786 1941.82 Q675.781 1941.82 678.929 1946.43 Q682.1 1951.01 682.1 1959.76 Q682.1 1967.93 678.211 1972.82 Q674.346 1977.68 667.795 1977.68 Q666.036 1977.68 664.23 1977.33 Q662.424 1976.98 660.48 1976.29 M669.786 1961.64 Q672.934 1961.64 674.762 1959.48 Q676.614 1957.33 676.614 1953.58 Q676.614 1949.86 674.762 1947.7 Q672.934 1945.53 669.786 1945.53 Q666.637 1945.53 664.786 1947.7 Q662.957 1949.86 662.957 1953.58 Q662.957 1957.33 664.786 1959.48 Q666.637 1961.64 669.786 1961.64 Z\" fill=\"#000000\" fill-rule=\"evenodd\" fill-opacity=\"1\" /><path clip-path=\"url(#clip460)\" d=\"M730.463 1946.52 L718.657 1964.97 L730.463 1964.97 L730.463 1946.52 M729.236 1942.45 L735.115 1942.45 L735.115 1964.97 L740.046 1964.97 L740.046 1968.86 L735.115 1968.86 L735.115 1977.01 L730.463 1977.01 L730.463 1968.86 L714.861 1968.86 L714.861 1964.35 L729.236 1942.45 Z\" fill=\"#000000\" fill-rule=\"evenodd\" fill-opacity=\"1\" /><path clip-path=\"url(#clip460)\" d=\"M773.49 1942.45 L791.846 1942.45 L791.846 1946.38 L777.772 1946.38 L777.772 1954.86 Q778.79 1954.51 779.809 1954.35 Q780.828 1954.16 781.846 1954.16 Q787.633 1954.16 791.013 1957.33 Q794.392 1960.5 794.392 1965.92 Q794.392 1971.5 790.92 1974.6 Q787.448 1977.68 781.128 1977.68 Q778.953 1977.68 776.684 1977.31 Q774.439 1976.94 772.031 1976.2 L772.031 1971.5 Q774.115 1972.63 776.337 1973.19 Q778.559 1973.74 781.036 1973.74 Q785.04 1973.74 787.378 1971.64 Q789.716 1969.53 789.716 1965.92 Q789.716 1962.31 787.378 1960.2 Q785.04 1958.1 781.036 1958.1 Q779.161 1958.1 777.286 1958.51 Q775.434 1958.93 773.49 1959.81 L773.49 1942.45 Z\" fill=\"#000000\" fill-rule=\"evenodd\" fill-opacity=\"1\" /><path clip-path=\"url(#clip460)\" d=\"M803.744 1976.29 L803.744 1972.03 Q805.503 1972.86 807.309 1973.3 Q809.114 1973.74 810.85 1973.74 Q815.48 1973.74 817.911 1970.64 Q820.364 1967.52 820.712 1961.17 Q819.369 1963.17 817.309 1964.23 Q815.249 1965.29 812.749 1965.29 Q807.563 1965.29 804.531 1962.17 Q801.522 1959.02 801.522 1953.58 Q801.522 1948.26 804.67 1945.04 Q807.818 1941.82 813.05 1941.82 Q819.045 1941.82 822.193 1946.43 Q825.364 1951.01 825.364 1959.76 Q825.364 1967.93 821.475 1972.82 Q817.61 1977.68 811.059 1977.68 Q809.3 1977.68 807.494 1977.33 Q805.688 1976.98 803.744 1976.29 M813.05 1961.64 Q816.198 1961.64 818.026 1959.48 Q819.878 1957.33 819.878 1953.58 Q819.878 1949.86 818.026 1947.7 Q816.198 1945.53 813.05 1945.53 Q809.901 1945.53 808.05 1947.7 Q806.221 1949.86 806.221 1953.58 Q806.221 1957.33 808.05 1959.48 Q809.901 1961.64 813.05 1961.64 Z\" fill=\"#000000\" fill-rule=\"evenodd\" fill-opacity=\"1\" /><path clip-path=\"url(#clip460)\" d=\"M849.213 1973.07 L865.532 1973.07 L865.532 1977.01 L843.588 1977.01 L843.588 1973.07 Q846.25 1970.32 850.833 1965.69 Q855.44 1961.04 856.62 1959.69 Q858.866 1957.17 859.745 1955.43 Q860.648 1953.67 860.648 1951.98 Q860.648 1949.23 858.704 1947.49 Q856.782 1945.76 853.681 1945.76 Q851.482 1945.76 849.028 1946.52 Q846.597 1947.29 843.82 1948.84 L843.82 1944.11 Q846.644 1942.98 849.097 1942.4 Q851.551 1941.82 853.588 1941.82 Q858.958 1941.82 862.153 1944.51 Q865.347 1947.19 865.347 1951.68 Q865.347 1953.81 864.537 1955.73 Q863.75 1957.63 861.644 1960.23 Q861.065 1960.9 857.963 1964.11 Q854.861 1967.31 849.213 1973.07 Z\" fill=\"#000000\" fill-rule=\"evenodd\" fill-opacity=\"1\" /><path clip-path=\"url(#clip460)\" d=\"M875.393 1942.45 L893.75 1942.45 L893.75 1946.38 L879.676 1946.38 L879.676 1954.86 Q880.694 1954.51 881.713 1954.35 Q882.731 1954.16 883.75 1954.16 Q889.537 1954.16 892.916 1957.33 Q896.296 1960.5 896.296 1965.92 Q896.296 1971.5 892.824 1974.6 Q889.352 1977.68 883.032 1977.68 Q880.856 1977.68 878.588 1977.31 Q876.343 1976.94 873.935 1976.2 L873.935 1971.5 Q876.018 1972.63 878.241 1973.19 Q880.463 1973.74 882.94 1973.74 Q886.944 1973.74 889.282 1971.64 Q891.62 1969.53 891.62 1965.92 Q891.62 1962.31 889.282 1960.2 Q886.944 1958.1 882.94 1958.1 Q881.065 1958.1 879.19 1958.51 Q877.338 1958.93 875.393 1959.81 L875.393 1942.45 Z\" fill=\"#000000\" fill-rule=\"evenodd\" fill-opacity=\"1\" /><path clip-path=\"url(#clip460)\" d=\"M919.879 1973.07 L936.198 1973.07 L936.198 1977.01 L914.254 1977.01 L914.254 1973.07 Q916.916 1970.32 921.499 1965.69 Q926.105 1961.04 927.286 1959.69 Q929.531 1957.17 930.411 1955.43 Q931.314 1953.67 931.314 1951.98 Q931.314 1949.23 929.369 1947.49 Q927.448 1945.76 924.346 1945.76 Q922.147 1945.76 919.693 1946.52 Q917.263 1947.29 914.485 1948.84 L914.485 1944.11 Q917.309 1942.98 919.763 1942.4 Q922.217 1941.82 924.254 1941.82 Q929.624 1941.82 932.818 1944.51 Q936.013 1947.19 936.013 1951.68 Q936.013 1953.81 935.203 1955.73 Q934.416 1957.63 932.309 1960.23 Q931.73 1960.9 928.629 1964.11 Q925.527 1967.31 919.879 1973.07 Z\" fill=\"#000000\" fill-rule=\"evenodd\" fill-opacity=\"1\" /><path clip-path=\"url(#clip460)\" d=\"M956.591 1957.86 Q953.443 1957.86 951.591 1960.02 Q949.763 1962.17 949.763 1965.92 Q949.763 1969.65 951.591 1971.82 Q953.443 1973.98 956.591 1973.98 Q959.74 1973.98 961.568 1971.82 Q963.42 1969.65 963.42 1965.92 Q963.42 1962.17 961.568 1960.02 Q959.74 1957.86 956.591 1957.86 M965.874 1943.21 L965.874 1947.47 Q964.114 1946.64 962.309 1946.2 Q960.527 1945.76 958.767 1945.76 Q954.138 1945.76 951.684 1948.88 Q949.253 1952.01 948.906 1958.33 Q950.272 1956.31 952.332 1955.25 Q954.392 1954.16 956.869 1954.16 Q962.077 1954.16 965.087 1957.33 Q968.119 1960.48 968.119 1965.92 Q968.119 1971.24 964.971 1974.46 Q961.823 1977.68 956.591 1977.68 Q950.596 1977.68 947.425 1973.1 Q944.253 1968.49 944.253 1959.76 Q944.253 1951.57 948.142 1946.71 Q952.031 1941.82 958.582 1941.82 Q960.341 1941.82 962.124 1942.17 Q963.929 1942.52 965.874 1943.21 Z\" fill=\"#000000\" fill-rule=\"evenodd\" fill-opacity=\"1\" /><path clip-path=\"url(#clip460)\" d=\"M987.454 1942.45 L1005.81 1942.45 L1005.81 1946.38 L991.736 1946.38 L991.736 1954.86 Q992.755 1954.51 993.773 1954.35 Q994.792 1954.16 995.81 1954.16 Q1001.6 1954.16 1004.98 1957.33 Q1008.36 1960.5 1008.36 1965.92 Q1008.36 1971.5 1004.88 1974.6 Q1001.41 1977.68 995.093 1977.68 Q992.917 1977.68 990.648 1977.31 Q988.403 1976.94 985.996 1976.2 L985.996 1971.5 Q988.079 1972.63 990.301 1973.19 Q992.523 1973.74 995 1973.74 Q999.005 1973.74 1001.34 1971.64 Q1003.68 1969.53 1003.68 1965.92 Q1003.68 1962.31 1001.34 1960.2 Q999.005 1958.1 995 1958.1 Q993.125 1958.1 991.25 1958.51 Q989.398 1958.93 987.454 1959.81 L987.454 1942.45 Z\" fill=\"#000000\" fill-rule=\"evenodd\" fill-opacity=\"1\" /><path clip-path=\"url(#clip460)\" d=\"M1031.74 1958.37 Q1035.09 1959.09 1036.97 1961.36 Q1038.87 1963.63 1038.87 1966.96 Q1038.87 1972.08 1035.35 1974.88 Q1031.83 1977.68 1025.35 1977.68 Q1023.17 1977.68 1020.86 1977.24 Q1018.56 1976.82 1016.11 1975.97 L1016.11 1971.45 Q1018.06 1972.59 1020.37 1973.17 Q1022.69 1973.74 1025.21 1973.74 Q1029.61 1973.74 1031.9 1972.01 Q1034.21 1970.27 1034.21 1966.96 Q1034.21 1963.91 1032.06 1962.19 Q1029.93 1960.46 1026.11 1960.46 L1022.08 1960.46 L1022.08 1956.61 L1026.3 1956.61 Q1029.75 1956.61 1031.57 1955.25 Q1033.4 1953.86 1033.4 1951.27 Q1033.4 1948.61 1031.5 1947.19 Q1029.63 1945.76 1026.11 1945.76 Q1024.19 1945.76 1021.99 1946.17 Q1019.79 1946.59 1017.15 1947.47 L1017.15 1943.3 Q1019.81 1942.56 1022.13 1942.19 Q1024.47 1941.82 1026.53 1941.82 Q1031.85 1941.82 1034.95 1944.25 Q1038.06 1946.66 1038.06 1950.78 Q1038.06 1953.65 1036.41 1955.64 Q1034.77 1957.61 1031.74 1958.37 Z\" fill=\"#000000\" fill-rule=\"evenodd\" fill-opacity=\"1\" /><path clip-path=\"url(#clip460)\" d=\"M1062.9 1973.07 L1079.22 1973.07 L1079.22 1977.01 L1057.27 1977.01 L1057.27 1973.07 Q1059.94 1970.32 1064.52 1965.69 Q1069.13 1961.04 1070.31 1959.69 Q1072.55 1957.17 1073.43 1955.43 Q1074.33 1953.67 1074.33 1951.98 Q1074.33 1949.23 1072.39 1947.49 Q1070.47 1945.76 1067.37 1945.76 Q1065.17 1945.76 1062.71 1946.52 Q1060.28 1947.29 1057.51 1948.84 L1057.51 1944.11 Q1060.33 1942.98 1062.78 1942.4 Q1065.24 1941.82 1067.27 1941.82 Q1072.64 1941.82 1075.84 1944.51 Q1079.03 1947.19 1079.03 1951.68 Q1079.03 1953.81 1078.22 1955.73 Q1077.44 1957.63 1075.33 1960.23 Q1074.75 1960.9 1071.65 1964.11 Q1068.55 1967.31 1062.9 1973.07 Z\" fill=\"#000000\" fill-rule=\"evenodd\" fill-opacity=\"1\" /><path clip-path=\"url(#clip460)\" d=\"M1087.85 1942.45 L1110.08 1942.45 L1110.08 1944.44 L1097.53 1977.01 L1092.64 1977.01 L1104.45 1946.38 L1087.85 1946.38 L1087.85 1942.45 Z\" fill=\"#000000\" fill-rule=\"evenodd\" fill-opacity=\"1\" /><path clip-path=\"url(#clip460)\" d=\"M1143.89 1946.52 L1132.08 1964.97 L1143.89 1964.97 L1143.89 1946.52 M1142.66 1942.45 L1148.54 1942.45 L1148.54 1964.97 L1153.47 1964.97 L1153.47 1968.86 L1148.54 1968.86 L1148.54 1977.01 L1143.89 1977.01 L1143.89 1968.86 L1128.29 1968.86 L1128.29 1964.35 L1142.66 1942.45 Z\" fill=\"#000000\" fill-rule=\"evenodd\" fill-opacity=\"1\" /><path clip-path=\"url(#clip460)\" d=\"M1165.23 1973.07 L1181.55 1973.07 L1181.55 1977.01 L1159.61 1977.01 L1159.61 1973.07 Q1162.27 1970.32 1166.85 1965.69 Q1171.46 1961.04 1172.64 1959.69 Q1174.88 1957.17 1175.76 1955.43 Q1176.67 1953.67 1176.67 1951.98 Q1176.67 1949.23 1174.72 1947.49 Q1172.8 1945.76 1169.7 1945.76 Q1167.5 1945.76 1165.05 1946.52 Q1162.62 1947.29 1159.84 1948.84 L1159.84 1944.11 Q1162.66 1942.98 1165.12 1942.4 Q1167.57 1941.82 1169.61 1941.82 Q1174.98 1941.82 1178.17 1944.51 Q1181.37 1947.19 1181.37 1951.68 Q1181.37 1953.81 1180.56 1955.73 Q1179.77 1957.63 1177.66 1960.23 Q1177.08 1960.9 1173.98 1964.11 Q1170.88 1967.31 1165.23 1973.07 Z\" fill=\"#000000\" fill-rule=\"evenodd\" fill-opacity=\"1\" /><path clip-path=\"url(#clip460)\" d=\"M1214.09 1946.52 L1202.29 1964.97 L1214.09 1964.97 L1214.09 1946.52 M1212.86 1942.45 L1218.74 1942.45 L1218.74 1964.97 L1223.68 1964.97 L1223.68 1968.86 L1218.74 1968.86 L1218.74 1977.01 L1214.09 1977.01 L1214.09 1968.86 L1198.49 1968.86 L1198.49 1964.35 L1212.86 1942.45 Z\" fill=\"#000000\" fill-rule=\"evenodd\" fill-opacity=\"1\" /><path clip-path=\"url(#clip460)\" d=\"M1244.25 1946.52 L1232.45 1964.97 L1244.25 1964.97 L1244.25 1946.52 M1243.03 1942.45 L1248.91 1942.45 L1248.91 1964.97 L1253.84 1964.97 L1253.84 1968.86 L1248.91 1968.86 L1248.91 1977.01 L1244.25 1977.01 L1244.25 1968.86 L1228.65 1968.86 L1228.65 1964.35 L1243.03 1942.45 Z\" fill=\"#000000\" fill-rule=\"evenodd\" fill-opacity=\"1\" /><path clip-path=\"url(#clip460)\" d=\"M1276.27 1973.07 L1292.59 1973.07 L1292.59 1977.01 L1270.65 1977.01 L1270.65 1973.07 Q1273.31 1970.32 1277.89 1965.69 Q1282.5 1961.04 1283.68 1959.69 Q1285.93 1957.17 1286.81 1955.43 Q1287.71 1953.67 1287.71 1951.98 Q1287.71 1949.23 1285.76 1947.49 Q1283.84 1945.76 1280.74 1945.76 Q1278.54 1945.76 1276.09 1946.52 Q1273.66 1947.29 1270.88 1948.84 L1270.88 1944.11 Q1273.7 1942.98 1276.16 1942.4 Q1278.61 1941.82 1280.65 1941.82 Q1286.02 1941.82 1289.21 1944.51 Q1292.41 1947.19 1292.41 1951.68 Q1292.41 1953.81 1291.6 1955.73 Q1290.81 1957.63 1288.7 1960.23 Q1288.13 1960.9 1285.02 1964.11 Q1281.92 1967.31 1276.27 1973.07 Z\" fill=\"#000000\" fill-rule=\"evenodd\" fill-opacity=\"1\" /><path clip-path=\"url(#clip460)\" d=\"M1302.55 1976.29 L1302.55 1972.03 Q1304.31 1972.86 1306.11 1973.3 Q1307.92 1973.74 1309.65 1973.74 Q1314.28 1973.74 1316.71 1970.64 Q1319.17 1967.52 1319.51 1961.17 Q1318.17 1963.17 1316.11 1964.23 Q1314.05 1965.29 1311.55 1965.29 Q1306.37 1965.29 1303.33 1962.17 Q1300.32 1959.02 1300.32 1953.58 Q1300.32 1948.26 1303.47 1945.04 Q1306.62 1941.82 1311.85 1941.82 Q1317.85 1941.82 1321 1946.43 Q1324.17 1951.01 1324.17 1959.76 Q1324.17 1967.93 1320.28 1972.82 Q1316.41 1977.68 1309.86 1977.68 Q1308.1 1977.68 1306.3 1977.33 Q1304.49 1976.98 1302.55 1976.29 M1311.85 1961.64 Q1315 1961.64 1316.83 1959.48 Q1318.68 1957.33 1318.68 1953.58 Q1318.68 1949.86 1316.83 1947.7 Q1315 1945.53 1311.85 1945.53 Q1308.7 1945.53 1306.85 1947.7 Q1305.02 1949.86 1305.02 1953.58 Q1305.02 1957.33 1306.85 1959.48 Q1308.7 1961.64 1311.85 1961.64 Z\" fill=\"#000000\" fill-rule=\"evenodd\" fill-opacity=\"1\" /><path clip-path=\"url(#clip460)\" d=\"M1357.49 1958.37 Q1360.85 1959.09 1362.73 1961.36 Q1364.62 1963.63 1364.62 1966.96 Q1364.62 1972.08 1361.11 1974.88 Q1357.59 1977.68 1351.11 1977.68 Q1348.93 1977.68 1346.62 1977.24 Q1344.32 1976.82 1341.87 1975.97 L1341.87 1971.45 Q1343.81 1972.59 1346.13 1973.17 Q1348.44 1973.74 1350.97 1973.74 Q1355.37 1973.74 1357.66 1972.01 Q1359.97 1970.27 1359.97 1966.96 Q1359.97 1963.91 1357.82 1962.19 Q1355.69 1960.46 1351.87 1960.46 L1347.84 1960.46 L1347.84 1956.61 L1352.05 1956.61 Q1355.5 1956.61 1357.33 1955.25 Q1359.16 1953.86 1359.16 1951.27 Q1359.16 1948.61 1357.26 1947.19 Q1355.39 1945.76 1351.87 1945.76 Q1349.95 1945.76 1347.75 1946.17 Q1345.55 1946.59 1342.91 1947.47 L1342.91 1943.3 Q1345.57 1942.56 1347.89 1942.19 Q1350.23 1941.82 1352.29 1941.82 Q1357.61 1941.82 1360.71 1944.25 Q1363.81 1946.66 1363.81 1950.78 Q1363.81 1953.65 1362.17 1955.64 Q1360.53 1957.61 1357.49 1958.37 Z\" fill=\"#000000\" fill-rule=\"evenodd\" fill-opacity=\"1\" /><path clip-path=\"url(#clip460)\" d=\"M1383.49 1945.53 Q1379.88 1945.53 1378.05 1949.09 Q1376.24 1952.63 1376.24 1959.76 Q1376.24 1966.87 1378.05 1970.43 Q1379.88 1973.98 1383.49 1973.98 Q1387.12 1973.98 1388.93 1970.43 Q1390.76 1966.87 1390.76 1959.76 Q1390.76 1952.63 1388.93 1949.09 Q1387.12 1945.53 1383.49 1945.53 M1383.49 1941.82 Q1389.3 1941.82 1392.36 1946.43 Q1395.43 1951.01 1395.43 1959.76 Q1395.43 1968.49 1392.36 1973.1 Q1389.3 1977.68 1383.49 1977.68 Q1377.68 1977.68 1374.6 1973.1 Q1371.55 1968.49 1371.55 1959.76 Q1371.55 1951.01 1374.6 1946.43 Q1377.68 1941.82 1383.49 1941.82 Z\" fill=\"#000000\" fill-rule=\"evenodd\" fill-opacity=\"1\" /><path clip-path=\"url(#clip460)\" d=\"M1414.35 1942.45 L1432.71 1942.45 L1432.71 1946.38 L1418.63 1946.38 L1418.63 1954.86 Q1419.65 1954.51 1420.67 1954.35 Q1421.69 1954.16 1422.71 1954.16 Q1428.5 1954.16 1431.88 1957.33 Q1435.26 1960.5 1435.26 1965.92 Q1435.26 1971.5 1431.78 1974.6 Q1428.31 1977.68 1421.99 1977.68 Q1419.82 1977.68 1417.55 1977.31 Q1415.3 1976.94 1412.89 1976.2 L1412.89 1971.5 Q1414.98 1972.63 1417.2 1973.19 Q1419.42 1973.74 1421.9 1973.74 Q1425.9 1973.74 1428.24 1971.64 Q1430.58 1969.53 1430.58 1965.92 Q1430.58 1962.31 1428.24 1960.2 Q1425.9 1958.1 1421.9 1958.1 Q1420.02 1958.1 1418.15 1958.51 Q1416.3 1958.93 1414.35 1959.81 L1414.35 1942.45 Z\" fill=\"#000000\" fill-rule=\"evenodd\" fill-opacity=\"1\" /><path clip-path=\"url(#clip460)\" d=\"M1457.32 1946.52 L1445.51 1964.97 L1457.32 1964.97 L1457.32 1946.52 M1456.09 1942.45 L1461.97 1942.45 L1461.97 1964.97 L1466.9 1964.97 L1466.9 1968.86 L1461.97 1968.86 L1461.97 1977.01 L1457.32 1977.01 L1457.32 1968.86 L1441.71 1968.86 L1441.71 1964.35 L1456.09 1942.45 Z\" fill=\"#000000\" fill-rule=\"evenodd\" fill-opacity=\"1\" /><path clip-path=\"url(#clip460)\" d=\"M1500.78 1958.37 Q1504.14 1959.09 1506.01 1961.36 Q1507.91 1963.63 1507.91 1966.96 Q1507.91 1972.08 1504.39 1974.88 Q1500.87 1977.68 1494.39 1977.68 Q1492.22 1977.68 1489.9 1977.24 Q1487.61 1976.82 1485.16 1975.97 L1485.16 1971.45 Q1487.1 1972.59 1489.42 1973.17 Q1491.73 1973.74 1494.25 1973.74 Q1498.65 1973.74 1500.94 1972.01 Q1503.26 1970.27 1503.26 1966.96 Q1503.26 1963.91 1501.11 1962.19 Q1498.98 1960.46 1495.16 1960.46 L1491.13 1960.46 L1491.13 1956.61 L1495.34 1956.61 Q1498.79 1956.61 1500.62 1955.25 Q1502.45 1953.86 1502.45 1951.27 Q1502.45 1948.61 1500.55 1947.19 Q1498.68 1945.76 1495.16 1945.76 Q1493.24 1945.76 1491.04 1946.17 Q1488.84 1946.59 1486.2 1947.47 L1486.2 1943.3 Q1488.86 1942.56 1491.18 1942.19 Q1493.51 1941.82 1495.57 1941.82 Q1500.9 1941.82 1504 1944.25 Q1507.1 1946.66 1507.1 1950.78 Q1507.1 1953.65 1505.46 1955.64 Q1503.81 1957.61 1500.78 1958.37 Z\" fill=\"#000000\" fill-rule=\"evenodd\" fill-opacity=\"1\" /><path clip-path=\"url(#clip460)\" d=\"M1520.8 1973.07 L1537.12 1973.07 L1537.12 1977.01 L1515.18 1977.01 L1515.18 1973.07 Q1517.84 1970.32 1522.43 1965.69 Q1527.03 1961.04 1528.21 1959.69 Q1530.46 1957.17 1531.34 1955.43 Q1532.24 1953.67 1532.24 1951.98 Q1532.24 1949.23 1530.3 1947.49 Q1528.37 1945.76 1525.27 1945.76 Q1523.07 1945.76 1520.62 1946.52 Q1518.19 1947.29 1515.41 1948.84 L1515.41 1944.11 Q1518.24 1942.98 1520.69 1942.4 Q1523.14 1941.82 1525.18 1941.82 Q1530.55 1941.82 1533.74 1944.51 Q1536.94 1947.19 1536.94 1951.68 Q1536.94 1953.81 1536.13 1955.73 Q1535.34 1957.63 1533.24 1960.23 Q1532.66 1960.9 1529.55 1964.11 Q1526.45 1967.31 1520.8 1973.07 Z\" fill=\"#000000\" fill-rule=\"evenodd\" fill-opacity=\"1\" /><path clip-path=\"url(#clip460)\" d=\"M1571.55 1958.37 Q1574.91 1959.09 1576.78 1961.36 Q1578.68 1963.63 1578.68 1966.96 Q1578.68 1972.08 1575.16 1974.88 Q1571.64 1977.68 1565.16 1977.68 Q1562.99 1977.68 1560.67 1977.24 Q1558.38 1976.82 1555.93 1975.97 L1555.93 1971.45 Q1557.87 1972.59 1560.19 1973.17 Q1562.5 1973.74 1565.02 1973.74 Q1569.42 1973.74 1571.71 1972.01 Q1574.03 1970.27 1574.03 1966.96 Q1574.03 1963.91 1571.88 1962.19 Q1569.75 1960.46 1565.93 1960.46 L1561.9 1960.46 L1561.9 1956.61 L1566.11 1956.61 Q1569.56 1956.61 1571.39 1955.25 Q1573.22 1953.86 1573.22 1951.27 Q1573.22 1948.61 1571.32 1947.19 Q1569.45 1945.76 1565.93 1945.76 Q1564.01 1945.76 1561.81 1946.17 Q1559.61 1946.59 1556.97 1947.47 L1556.97 1943.3 Q1559.63 1942.56 1561.95 1942.19 Q1564.28 1941.82 1566.34 1941.82 Q1571.67 1941.82 1574.77 1944.25 Q1577.87 1946.66 1577.87 1950.78 Q1577.87 1953.65 1576.23 1955.64 Q1574.58 1957.61 1571.55 1958.37 Z\" fill=\"#000000\" fill-rule=\"evenodd\" fill-opacity=\"1\" /><path clip-path=\"url(#clip460)\" d=\"M1601.71 1958.37 Q1605.07 1959.09 1606.95 1961.36 Q1608.84 1963.63 1608.84 1966.96 Q1608.84 1972.08 1605.32 1974.88 Q1601.81 1977.68 1595.32 1977.68 Q1593.15 1977.68 1590.83 1977.24 Q1588.54 1976.82 1586.09 1975.97 L1586.09 1971.45 Q1588.03 1972.59 1590.35 1973.17 Q1592.66 1973.74 1595.19 1973.74 Q1599.58 1973.74 1601.88 1972.01 Q1604.19 1970.27 1604.19 1966.96 Q1604.19 1963.91 1602.04 1962.19 Q1599.91 1960.46 1596.09 1960.46 L1592.06 1960.46 L1592.06 1956.61 L1596.27 1956.61 Q1599.72 1956.61 1601.55 1955.25 Q1603.38 1953.86 1603.38 1951.27 Q1603.38 1948.61 1601.48 1947.19 Q1599.61 1945.76 1596.09 1945.76 Q1594.17 1945.76 1591.97 1946.17 Q1589.77 1946.59 1587.13 1947.47 L1587.13 1943.3 Q1589.79 1942.56 1592.11 1942.19 Q1594.45 1941.82 1596.51 1941.82 Q1601.83 1941.82 1604.93 1944.25 Q1608.03 1946.66 1608.03 1950.78 Q1608.03 1953.65 1606.39 1955.64 Q1604.75 1957.61 1601.71 1958.37 Z\" fill=\"#000000\" fill-rule=\"evenodd\" fill-opacity=\"1\" /><path clip-path=\"url(#clip460)\" d=\"M1632.16 1973.07 L1648.48 1973.07 L1648.48 1977.01 L1626.53 1977.01 L1626.53 1973.07 Q1629.2 1970.32 1633.78 1965.69 Q1638.39 1961.04 1639.57 1959.69 Q1641.81 1957.17 1642.69 1955.43 Q1643.59 1953.67 1643.59 1951.98 Q1643.59 1949.23 1641.65 1947.49 Q1639.73 1945.76 1636.63 1945.76 Q1634.43 1945.76 1631.97 1946.52 Q1629.54 1947.29 1626.77 1948.84 L1626.77 1944.11 Q1629.59 1942.98 1632.04 1942.4 Q1634.5 1941.82 1636.53 1941.82 Q1641.9 1941.82 1645.1 1944.51 Q1648.29 1947.19 1648.29 1951.68 Q1648.29 1953.81 1647.48 1955.73 Q1646.7 1957.63 1644.59 1960.23 Q1644.01 1960.9 1640.91 1964.11 Q1637.81 1967.31 1632.16 1973.07 Z\" fill=\"#000000\" fill-rule=\"evenodd\" fill-opacity=\"1\" /><path clip-path=\"url(#clip460)\" d=\"M1671.14 1946.52 L1659.34 1964.97 L1671.14 1964.97 L1671.14 1946.52 M1669.91 1942.45 L1675.79 1942.45 L1675.79 1964.97 L1680.72 1964.97 L1680.72 1968.86 L1675.79 1968.86 L1675.79 1977.01 L1671.14 1977.01 L1671.14 1968.86 L1655.54 1968.86 L1655.54 1964.35 L1669.91 1942.45 Z\" fill=\"#000000\" fill-rule=\"evenodd\" fill-opacity=\"1\" /><path clip-path=\"url(#clip460)\" d=\"M1715.17 1976.29 L1715.17 1972.03 Q1716.93 1972.86 1718.74 1973.3 Q1720.54 1973.74 1722.28 1973.74 Q1726.91 1973.74 1729.34 1970.64 Q1731.79 1967.52 1732.14 1961.17 Q1730.8 1963.17 1728.74 1964.23 Q1726.68 1965.29 1724.18 1965.29 Q1718.99 1965.29 1715.96 1962.17 Q1712.95 1959.02 1712.95 1953.58 Q1712.95 1948.26 1716.1 1945.04 Q1719.25 1941.82 1724.48 1941.82 Q1730.48 1941.82 1733.62 1946.43 Q1736.79 1951.01 1736.79 1959.76 Q1736.79 1967.93 1732.91 1972.82 Q1729.04 1977.68 1722.49 1977.68 Q1720.73 1977.68 1718.92 1977.33 Q1717.12 1976.98 1715.17 1976.29 M1724.48 1961.64 Q1727.63 1961.64 1729.46 1959.48 Q1731.31 1957.33 1731.31 1953.58 Q1731.31 1949.86 1729.46 1947.7 Q1727.63 1945.53 1724.48 1945.53 Q1721.33 1945.53 1719.48 1947.7 Q1717.65 1949.86 1717.65 1953.58 Q1717.65 1957.33 1719.48 1959.48 Q1721.33 1961.64 1724.48 1961.64 Z\" fill=\"#000000\" fill-rule=\"evenodd\" fill-opacity=\"1\" /><path clip-path=\"url(#clip460)\" d=\"M1775.22 1973.07 L1791.53 1973.07 L1791.53 1977.01 L1769.59 1977.01 L1769.59 1973.07 Q1772.25 1970.32 1776.84 1965.69 Q1781.44 1961.04 1782.62 1959.69 Q1784.87 1957.17 1785.75 1955.43 Q1786.65 1953.67 1786.65 1951.98 Q1786.65 1949.23 1784.71 1947.49 Q1782.78 1945.76 1779.68 1945.76 Q1777.48 1945.76 1775.03 1946.52 Q1772.6 1947.29 1769.82 1948.84 L1769.82 1944.11 Q1772.65 1942.98 1775.1 1942.4 Q1777.55 1941.82 1779.59 1941.82 Q1784.96 1941.82 1788.15 1944.51 Q1791.35 1947.19 1791.35 1951.68 Q1791.35 1953.81 1790.54 1955.73 Q1789.75 1957.63 1787.65 1960.23 Q1787.07 1960.9 1783.97 1964.11 Q1780.86 1967.31 1775.22 1973.07 Z\" fill=\"#000000\" fill-rule=\"evenodd\" fill-opacity=\"1\" /><path clip-path=\"url(#clip460)\" d=\"M1815.52 1958.37 Q1818.87 1959.09 1820.75 1961.36 Q1822.65 1963.63 1822.65 1966.96 Q1822.65 1972.08 1819.13 1974.88 Q1815.61 1977.68 1809.13 1977.68 Q1806.95 1977.68 1804.64 1977.24 Q1802.34 1976.82 1799.89 1975.97 L1799.89 1971.45 Q1801.84 1972.59 1804.15 1973.17 Q1806.47 1973.74 1808.99 1973.74 Q1813.39 1973.74 1815.68 1972.01 Q1817.99 1970.27 1817.99 1966.96 Q1817.99 1963.91 1815.84 1962.19 Q1813.71 1960.46 1809.89 1960.46 L1805.86 1960.46 L1805.86 1956.61 L1810.08 1956.61 Q1813.53 1956.61 1815.35 1955.25 Q1817.18 1953.86 1817.18 1951.27 Q1817.18 1948.61 1815.28 1947.19 Q1813.41 1945.76 1809.89 1945.76 Q1807.97 1945.76 1805.77 1946.17 Q1803.57 1946.59 1800.93 1947.47 L1800.93 1943.3 Q1803.59 1942.56 1805.91 1942.19 Q1808.25 1941.82 1810.31 1941.82 Q1815.63 1941.82 1818.73 1944.25 Q1821.84 1946.66 1821.84 1950.78 Q1821.84 1953.65 1820.19 1955.64 Q1818.55 1957.61 1815.52 1958.37 Z\" fill=\"#000000\" fill-rule=\"evenodd\" fill-opacity=\"1\" /><path clip-path=\"url(#clip460)\" d=\"M1842.5 1973.07 L1850.14 1973.07 L1850.14 1946.71 L1841.83 1948.37 L1841.83 1944.11 L1850.09 1942.45 L1854.77 1942.45 L1854.77 1973.07 L1862.41 1973.07 L1862.41 1977.01 L1842.5 1977.01 L1842.5 1973.07 Z\" fill=\"#000000\" fill-rule=\"evenodd\" fill-opacity=\"1\" /><path clip-path=\"url(#clip460)\" d=\"M1870.67 1942.45 L1892.89 1942.45 L1892.89 1944.44 L1880.35 1977.01 L1875.46 1977.01 L1887.27 1946.38 L1870.67 1946.38 L1870.67 1942.45 Z\" fill=\"#000000\" fill-rule=\"evenodd\" fill-opacity=\"1\" /><path clip-path=\"url(#clip460)\" d=\"M1913.79 1973.07 L1921.43 1973.07 L1921.43 1946.71 L1913.12 1948.37 L1913.12 1944.11 L1921.38 1942.45 L1926.06 1942.45 L1926.06 1973.07 L1933.7 1973.07 L1933.7 1977.01 L1913.79 1977.01 L1913.79 1973.07 Z\" fill=\"#000000\" fill-rule=\"evenodd\" fill-opacity=\"1\" /><path clip-path=\"url(#clip460)\" d=\"M1943.19 1942.45 L1961.55 1942.45 L1961.55 1946.38 L1947.47 1946.38 L1947.47 1954.86 Q1948.49 1954.51 1949.51 1954.35 Q1950.53 1954.16 1951.55 1954.16 Q1957.33 1954.16 1960.71 1957.33 Q1964.09 1960.5 1964.09 1965.92 Q1964.09 1971.5 1960.62 1974.6 Q1957.15 1977.68 1950.83 1977.68 Q1948.65 1977.68 1946.38 1977.31 Q1944.14 1976.94 1941.73 1976.2 L1941.73 1971.5 Q1943.81 1972.63 1946.04 1973.19 Q1948.26 1973.74 1950.74 1973.74 Q1954.74 1973.74 1957.08 1971.64 Q1959.42 1969.53 1959.42 1965.92 Q1959.42 1962.31 1957.08 1960.2 Q1954.74 1958.1 1950.74 1958.1 Q1948.86 1958.1 1946.99 1958.51 Q1945.13 1958.93 1943.19 1959.81 L1943.19 1942.45 Z\" fill=\"#000000\" fill-rule=\"evenodd\" fill-opacity=\"1\" /><path clip-path=\"url(#clip460)\" d=\"M1984.46 1973.07 L1992.1 1973.07 L1992.1 1946.71 L1983.79 1948.37 L1983.79 1944.11 L1992.05 1942.45 L1996.73 1942.45 L1996.73 1973.07 L2004.36 1973.07 L2004.36 1977.01 L1984.46 1977.01 L1984.46 1973.07 Z\" fill=\"#000000\" fill-rule=\"evenodd\" fill-opacity=\"1\" /><path clip-path=\"url(#clip460)\" d=\"M2024.39 1957.86 Q2021.24 1957.86 2019.39 1960.02 Q2017.56 1962.17 2017.56 1965.92 Q2017.56 1969.65 2019.39 1971.82 Q2021.24 1973.98 2024.39 1973.98 Q2027.54 1973.98 2029.36 1971.82 Q2031.22 1969.65 2031.22 1965.92 Q2031.22 1962.17 2029.36 1960.02 Q2027.54 1957.86 2024.39 1957.86 M2033.67 1943.21 L2033.67 1947.47 Q2031.91 1946.64 2030.11 1946.2 Q2028.32 1945.76 2026.56 1945.76 Q2021.93 1945.76 2019.48 1948.88 Q2017.05 1952.01 2016.7 1958.33 Q2018.07 1956.31 2020.13 1955.25 Q2022.19 1954.16 2024.67 1954.16 Q2029.87 1954.16 2032.88 1957.33 Q2035.92 1960.48 2035.92 1965.92 Q2035.92 1971.24 2032.77 1974.46 Q2029.62 1977.68 2024.39 1977.68 Q2018.39 1977.68 2015.22 1973.1 Q2012.05 1968.49 2012.05 1959.76 Q2012.05 1951.57 2015.94 1946.71 Q2019.83 1941.82 2026.38 1941.82 Q2028.14 1941.82 2029.92 1942.17 Q2031.73 1942.52 2033.67 1943.21 Z\" fill=\"#000000\" fill-rule=\"evenodd\" fill-opacity=\"1\" /><path clip-path=\"url(#clip460)\" d=\"M2059.91 1973.07 L2076.23 1973.07 L2076.23 1977.01 L2054.29 1977.01 L2054.29 1973.07 Q2056.95 1970.32 2061.53 1965.69 Q2066.14 1961.04 2067.32 1959.69 Q2069.57 1957.17 2070.45 1955.43 Q2071.35 1953.67 2071.35 1951.98 Q2071.35 1949.23 2069.41 1947.49 Q2067.48 1945.76 2064.38 1945.76 Q2062.18 1945.76 2059.73 1946.52 Q2057.3 1947.29 2054.52 1948.84 L2054.52 1944.11 Q2057.35 1942.98 2059.8 1942.4 Q2062.25 1941.82 2064.29 1941.82 Q2069.66 1941.82 2072.85 1944.51 Q2076.05 1947.19 2076.05 1951.68 Q2076.05 1953.81 2075.24 1955.73 Q2074.45 1957.63 2072.35 1960.23 Q2071.77 1960.9 2068.66 1964.11 Q2065.56 1967.31 2059.91 1973.07 Z\" fill=\"#000000\" fill-rule=\"evenodd\" fill-opacity=\"1\" /><path clip-path=\"url(#clip460)\" d=\"M2096.05 1960.6 Q2092.72 1960.6 2090.79 1962.38 Q2088.9 1964.16 2088.9 1967.29 Q2088.9 1970.41 2090.79 1972.19 Q2092.72 1973.98 2096.05 1973.98 Q2099.38 1973.98 2101.3 1972.19 Q2103.22 1970.39 2103.22 1967.29 Q2103.22 1964.16 2101.3 1962.38 Q2099.41 1960.6 2096.05 1960.6 M2091.37 1958.61 Q2088.36 1957.86 2086.67 1955.8 Q2085.01 1953.74 2085.01 1950.78 Q2085.01 1946.64 2087.95 1944.23 Q2090.91 1941.82 2096.05 1941.82 Q2101.21 1941.82 2104.15 1944.23 Q2107.09 1946.64 2107.09 1950.78 Q2107.09 1953.74 2105.4 1955.8 Q2103.73 1957.86 2100.75 1958.61 Q2104.13 1959.39 2106 1961.68 Q2107.9 1963.98 2107.9 1967.29 Q2107.9 1972.31 2104.82 1974.99 Q2101.77 1977.68 2096.05 1977.68 Q2090.33 1977.68 2087.25 1974.99 Q2084.2 1972.31 2084.2 1967.29 Q2084.2 1963.98 2086.09 1961.68 Q2087.99 1959.39 2091.37 1958.61 M2089.66 1951.22 Q2089.66 1953.91 2091.33 1955.41 Q2093.02 1956.92 2096.05 1956.92 Q2099.06 1956.92 2100.75 1955.41 Q2102.46 1953.91 2102.46 1951.22 Q2102.46 1948.54 2100.75 1947.03 Q2099.06 1945.53 2096.05 1945.53 Q2093.02 1945.53 2091.33 1947.03 Q2089.66 1948.54 2089.66 1951.22 Z\" fill=\"#000000\" fill-rule=\"evenodd\" fill-opacity=\"1\" /><path clip-path=\"url(#clip460)\" d=\"M2131.73 1973.07 L2148.05 1973.07 L2148.05 1977.01 L2126.1 1977.01 L2126.1 1973.07 Q2128.76 1970.32 2133.35 1965.69 Q2137.95 1961.04 2139.13 1959.69 Q2141.38 1957.17 2142.26 1955.43 Q2143.16 1953.67 2143.16 1951.98 Q2143.16 1949.23 2141.22 1947.49 Q2139.3 1945.76 2136.19 1945.76 Q2133.99 1945.76 2131.54 1946.52 Q2129.11 1947.29 2126.33 1948.84 L2126.33 1944.11 Q2129.16 1942.98 2131.61 1942.4 Q2134.06 1941.82 2136.1 1941.82 Q2141.47 1941.82 2144.67 1944.51 Q2147.86 1947.19 2147.86 1951.68 Q2147.86 1953.81 2147.05 1955.73 Q2146.26 1957.63 2144.16 1960.23 Q2143.58 1960.9 2140.48 1964.11 Q2137.37 1967.31 2131.73 1973.07 Z\" fill=\"#000000\" fill-rule=\"evenodd\" fill-opacity=\"1\" /><path clip-path=\"url(#clip460)\" d=\"M2158.67 1973.07 L2166.31 1973.07 L2166.31 1946.71 L2158 1948.37 L2158 1944.11 L2166.26 1942.45 L2170.94 1942.45 L2170.94 1973.07 L2178.58 1973.07 L2178.58 1977.01 L2158.67 1977.01 L2158.67 1973.07 Z\" fill=\"#000000\" fill-rule=\"evenodd\" fill-opacity=\"1\" /><path clip-path=\"url(#clip460)\" d=\"M2203.16 1973.07 L2219.47 1973.07 L2219.47 1977.01 L2197.53 1977.01 L2197.53 1973.07 Q2200.19 1970.32 2204.78 1965.69 Q2209.38 1961.04 2210.56 1959.69 Q2212.81 1957.17 2213.69 1955.43 Q2214.59 1953.67 2214.59 1951.98 Q2214.59 1949.23 2212.65 1947.49 Q2210.72 1945.76 2207.62 1945.76 Q2205.42 1945.76 2202.97 1946.52 Q2200.54 1947.29 2197.76 1948.84 L2197.76 1944.11 Q2200.59 1942.98 2203.04 1942.4 Q2205.49 1941.82 2207.53 1941.82 Q2212.9 1941.82 2216.1 1944.51 Q2219.29 1947.19 2219.29 1951.68 Q2219.29 1953.81 2218.48 1955.73 Q2217.69 1957.63 2215.59 1960.23 Q2215.01 1960.9 2211.91 1964.11 Q2208.8 1967.31 2203.16 1973.07 Z\" fill=\"#000000\" fill-rule=\"evenodd\" fill-opacity=\"1\" /><path clip-path=\"url(#clip460)\" d=\"M2233.32 1973.07 L2249.64 1973.07 L2249.64 1977.01 L2227.69 1977.01 L2227.69 1973.07 Q2230.35 1970.32 2234.94 1965.69 Q2239.54 1961.04 2240.72 1959.69 Q2242.97 1957.17 2243.85 1955.43 Q2244.75 1953.67 2244.75 1951.98 Q2244.75 1949.23 2242.81 1947.49 Q2240.89 1945.76 2237.78 1945.76 Q2235.59 1945.76 2233.13 1946.52 Q2230.7 1947.29 2227.92 1948.84 L2227.92 1944.11 Q2230.75 1942.98 2233.2 1942.4 Q2235.66 1941.82 2237.69 1941.82 Q2243.06 1941.82 2246.26 1944.51 Q2249.45 1947.19 2249.45 1951.68 Q2249.45 1953.81 2248.64 1955.73 Q2247.85 1957.63 2245.75 1960.23 Q2245.17 1960.9 2242.07 1964.11 Q2238.97 1967.31 2233.32 1973.07 Z\" fill=\"#000000\" fill-rule=\"evenodd\" fill-opacity=\"1\" /><path clip-path=\"url(#clip460)\" d=\"M2269.52 1973.07 L2277.15 1973.07 L2277.15 1946.71 L2268.84 1948.37 L2268.84 1944.11 L2277.11 1942.45 L2281.78 1942.45 L2281.78 1973.07 L2289.42 1973.07 L2289.42 1977.01 L2269.52 1977.01 L2269.52 1973.07 Z\" fill=\"#000000\" fill-rule=\"evenodd\" fill-opacity=\"1\" /><path clip-path=\"url(#clip460)\" d=\"M2308.87 1945.53 Q2305.26 1945.53 2303.43 1949.09 Q2301.62 1952.63 2301.62 1959.76 Q2301.62 1966.87 2303.43 1970.43 Q2305.26 1973.98 2308.87 1973.98 Q2312.5 1973.98 2314.31 1970.43 Q2316.14 1966.87 2316.14 1959.76 Q2316.14 1952.63 2314.31 1949.09 Q2312.5 1945.53 2308.87 1945.53 M2308.87 1941.82 Q2314.68 1941.82 2317.73 1946.43 Q2320.81 1951.01 2320.81 1959.76 Q2320.81 1968.49 2317.73 1973.1 Q2314.68 1977.68 2308.87 1977.68 Q2303.06 1977.68 2299.98 1973.1 Q2296.92 1968.49 2296.92 1959.76 Q2296.92 1951.01 2299.98 1946.43 Q2303.06 1941.82 2308.87 1941.82 Z\" fill=\"#000000\" fill-rule=\"evenodd\" fill-opacity=\"1\" /><path clip-path=\"url(#clip460)\" d=\"M2370.32 1958.37 Q2373.68 1959.09 2375.55 1961.36 Q2377.45 1963.63 2377.45 1966.96 Q2377.45 1972.08 2373.93 1974.88 Q2370.41 1977.68 2363.93 1977.68 Q2361.76 1977.68 2359.44 1977.24 Q2357.15 1976.82 2354.69 1975.97 L2354.69 1971.45 Q2356.64 1972.59 2358.95 1973.17 Q2361.27 1973.74 2363.79 1973.74 Q2368.19 1973.74 2370.48 1972.01 Q2372.8 1970.27 2372.8 1966.96 Q2372.8 1963.91 2370.64 1962.19 Q2368.51 1960.46 2364.69 1960.46 L2360.67 1960.46 L2360.67 1956.61 L2364.88 1956.61 Q2368.33 1956.61 2370.16 1955.25 Q2371.99 1953.86 2371.99 1951.27 Q2371.99 1948.61 2370.09 1947.19 Q2368.21 1945.76 2364.69 1945.76 Q2362.77 1945.76 2360.57 1946.17 Q2358.38 1946.59 2355.74 1947.47 L2355.74 1943.3 Q2358.4 1942.56 2360.71 1942.19 Q2363.05 1941.82 2365.11 1941.82 Q2370.44 1941.82 2373.54 1944.25 Q2376.64 1946.66 2376.64 1950.78 Q2376.64 1953.65 2375 1955.64 Q2373.35 1957.61 2370.32 1958.37 Z\" fill=\"#000000\" fill-rule=\"evenodd\" fill-opacity=\"1\" /><path clip-path=\"url(#clip460)\" d=\"M2427.7 1973.07 L2435.34 1973.07 L2435.34 1946.71 L2427.03 1948.37 L2427.03 1944.11 L2435.29 1942.45 L2439.97 1942.45 L2439.97 1973.07 L2447.61 1973.07 L2447.61 1977.01 L2427.7 1977.01 L2427.7 1973.07 Z\" fill=\"#000000\" fill-rule=\"evenodd\" fill-opacity=\"1\" /><path clip-path=\"url(#clip460)\" d=\"M2503.21 1973.07 L2519.53 1973.07 L2519.53 1977.01 L2497.59 1977.01 L2497.59 1973.07 Q2500.25 1970.32 2504.83 1965.69 Q2509.44 1961.04 2510.62 1959.69 Q2512.87 1957.17 2513.75 1955.43 Q2514.65 1953.67 2514.65 1951.98 Q2514.65 1949.23 2512.7 1947.49 Q2510.78 1945.76 2507.68 1945.76 Q2505.48 1945.76 2503.03 1946.52 Q2500.6 1947.29 2497.82 1948.84 L2497.82 1944.11 Q2500.64 1942.98 2503.1 1942.4 Q2505.55 1941.82 2507.59 1941.82 Q2512.96 1941.82 2516.15 1944.51 Q2519.35 1947.19 2519.35 1951.68 Q2519.35 1953.81 2518.54 1955.73 Q2517.75 1957.63 2515.64 1960.23 Q2515.07 1960.9 2511.96 1964.11 Q2508.86 1967.31 2503.21 1973.07 Z\" fill=\"#000000\" fill-rule=\"evenodd\" fill-opacity=\"1\" /><path clip-path=\"url(#clip460)\" d=\"M2569.26 1958.37 Q2572.62 1959.09 2574.49 1961.36 Q2576.39 1963.63 2576.39 1966.96 Q2576.39 1972.08 2572.87 1974.88 Q2569.35 1977.68 2562.87 1977.68 Q2560.7 1977.68 2558.38 1977.24 Q2556.09 1976.82 2553.64 1975.97 L2553.64 1971.45 Q2555.58 1972.59 2557.9 1973.17 Q2560.21 1973.74 2562.73 1973.74 Q2567.13 1973.74 2569.42 1972.01 Q2571.74 1970.27 2571.74 1966.96 Q2571.74 1963.91 2569.59 1962.19 Q2567.46 1960.46 2563.64 1960.46 L2559.61 1960.46 L2559.61 1956.61 L2563.82 1956.61 Q2567.27 1956.61 2569.1 1955.25 Q2570.93 1953.86 2570.93 1951.27 Q2570.93 1948.61 2569.03 1947.19 Q2567.15 1945.76 2563.64 1945.76 Q2561.71 1945.76 2559.52 1946.17 Q2557.32 1946.59 2554.68 1947.47 L2554.68 1943.3 Q2557.34 1942.56 2559.65 1942.19 Q2561.99 1941.82 2564.05 1941.82 Q2569.38 1941.82 2572.48 1944.25 Q2575.58 1946.66 2575.58 1950.78 Q2575.58 1953.65 2573.94 1955.64 Q2572.29 1957.61 2569.26 1958.37 Z\" fill=\"#000000\" fill-rule=\"evenodd\" fill-opacity=\"1\" /><path clip-path=\"url(#clip460)\" d=\"M2586.07 1973.07 L2593.71 1973.07 L2593.71 1946.71 L2585.4 1948.37 L2585.4 1944.11 L2593.66 1942.45 L2598.34 1942.45 L2598.34 1973.07 L2605.97 1973.07 L2605.97 1977.01 L2586.07 1977.01 L2586.07 1973.07 Z\" fill=\"#000000\" fill-rule=\"evenodd\" fill-opacity=\"1\" /><path clip-path=\"url(#clip460)\" d=\"M2626.54 1973.07 L2634.17 1973.07 L2634.17 1946.71 L2625.86 1948.37 L2625.86 1944.11 L2634.13 1942.45 L2638.8 1942.45 L2638.8 1973.07 L2646.44 1973.07 L2646.44 1977.01 L2626.54 1977.01 L2626.54 1973.07 Z\" fill=\"#000000\" fill-rule=\"evenodd\" fill-opacity=\"1\" /><path clip-path=\"url(#clip460)\" d=\"M2659.92 1973.07 L2676.23 1973.07 L2676.23 1977.01 L2654.29 1977.01 L2654.29 1973.07 Q2656.95 1970.32 2661.54 1965.69 Q2666.14 1961.04 2667.32 1959.69 Q2669.57 1957.17 2670.45 1955.43 Q2671.35 1953.67 2671.35 1951.98 Q2671.35 1949.23 2669.41 1947.49 Q2667.48 1945.76 2664.38 1945.76 Q2662.18 1945.76 2659.73 1946.52 Q2657.3 1947.29 2654.52 1948.84 L2654.52 1944.11 Q2657.35 1942.98 2659.8 1942.4 Q2662.25 1941.82 2664.29 1941.82 Q2669.66 1941.82 2672.85 1944.51 Q2676.05 1947.19 2676.05 1951.68 Q2676.05 1953.81 2675.24 1955.73 Q2674.45 1957.63 2672.35 1960.23 Q2671.77 1960.9 2668.66 1964.11 Q2665.56 1967.31 2659.92 1973.07 Z\" fill=\"#000000\" fill-rule=\"evenodd\" fill-opacity=\"1\" /><path clip-path=\"url(#clip460)\" d=\"M2697.31 1973.07 L2704.94 1973.07 L2704.94 1946.71 L2696.63 1948.37 L2696.63 1944.11 L2704.9 1942.45 L2709.57 1942.45 L2709.57 1973.07 L2717.21 1973.07 L2717.21 1977.01 L2697.31 1977.01 L2697.31 1973.07 Z\" fill=\"#000000\" fill-rule=\"evenodd\" fill-opacity=\"1\" /><path clip-path=\"url(#clip460)\" d=\"M2740.82 1958.37 Q2744.18 1959.09 2746.06 1961.36 Q2747.95 1963.63 2747.95 1966.96 Q2747.95 1972.08 2744.43 1974.88 Q2740.92 1977.68 2734.43 1977.68 Q2732.26 1977.68 2729.94 1977.24 Q2727.65 1976.82 2725.2 1975.97 L2725.2 1971.45 Q2727.14 1972.59 2729.46 1973.17 Q2731.77 1973.74 2734.3 1973.74 Q2738.69 1973.74 2740.99 1972.01 Q2743.3 1970.27 2743.3 1966.96 Q2743.3 1963.91 2741.15 1962.19 Q2739.02 1960.46 2735.2 1960.46 L2731.17 1960.46 L2731.17 1956.61 L2735.38 1956.61 Q2738.83 1956.61 2740.66 1955.25 Q2742.49 1953.86 2742.49 1951.27 Q2742.49 1948.61 2740.59 1947.19 Q2738.72 1945.76 2735.2 1945.76 Q2733.28 1945.76 2731.08 1946.17 Q2728.88 1946.59 2726.24 1947.47 L2726.24 1943.3 Q2728.9 1942.56 2731.22 1942.19 Q2733.56 1941.82 2735.62 1941.82 Q2740.94 1941.82 2744.04 1944.25 Q2747.14 1946.66 2747.14 1950.78 Q2747.14 1953.65 2745.5 1955.64 Q2743.86 1957.61 2740.82 1958.37 Z\" fill=\"#000000\" fill-rule=\"evenodd\" fill-opacity=\"1\" /><path clip-path=\"url(#clip460)\" d=\"M2768.84 1973.07 L2776.48 1973.07 L2776.48 1946.71 L2768.17 1948.37 L2768.17 1944.11 L2776.43 1942.45 L2781.11 1942.45 L2781.11 1973.07 L2788.75 1973.07 L2788.75 1977.01 L2768.84 1977.01 L2768.84 1973.07 Z\" fill=\"#000000\" fill-rule=\"evenodd\" fill-opacity=\"1\" /><path clip-path=\"url(#clip460)\" d=\"M2799 1973.07 L2806.64 1973.07 L2806.64 1946.71 L2798.33 1948.37 L2798.33 1944.11 L2806.59 1942.45 L2811.27 1942.45 L2811.27 1973.07 L2818.91 1973.07 L2818.91 1977.01 L2799 1977.01 L2799 1973.07 Z\" fill=\"#000000\" fill-rule=\"evenodd\" fill-opacity=\"1\" /><path clip-path=\"url(#clip460)\" d=\"M2839.23 1973.07 L2846.87 1973.07 L2846.87 1946.71 L2838.56 1948.37 L2838.56 1944.11 L2846.82 1942.45 L2851.5 1942.45 L2851.5 1973.07 L2859.13 1973.07 L2859.13 1977.01 L2839.23 1977.01 L2839.23 1973.07 Z\" fill=\"#000000\" fill-rule=\"evenodd\" fill-opacity=\"1\" /><path clip-path=\"url(#clip460)\" d=\"M2881.43 1946.52 L2869.62 1964.97 L2881.43 1964.97 L2881.43 1946.52 M2880.2 1942.45 L2886.08 1942.45 L2886.08 1964.97 L2891.01 1964.97 L2891.01 1968.86 L2886.08 1968.86 L2886.08 1977.01 L2881.43 1977.01 L2881.43 1968.86 L2865.82 1968.86 L2865.82 1964.35 L2880.2 1942.45 Z\" fill=\"#000000\" fill-rule=\"evenodd\" fill-opacity=\"1\" /><path clip-path=\"url(#clip460)\" d=\"M2911.22 1942.45 L2929.58 1942.45 L2929.58 1946.38 L2915.51 1946.38 L2915.51 1954.86 Q2916.52 1954.51 2917.54 1954.35 Q2918.56 1954.16 2919.58 1954.16 Q2925.37 1954.16 2928.75 1957.33 Q2932.13 1960.5 2932.13 1965.92 Q2932.13 1971.5 2928.65 1974.6 Q2925.18 1977.68 2918.86 1977.68 Q2916.69 1977.68 2914.42 1977.31 Q2912.17 1976.94 2909.77 1976.2 L2909.77 1971.5 Q2911.85 1972.63 2914.07 1973.19 Q2916.29 1973.74 2918.77 1973.74 Q2922.77 1973.74 2925.11 1971.64 Q2927.45 1969.53 2927.45 1965.92 Q2927.45 1962.31 2925.11 1960.2 Q2922.77 1958.1 2918.77 1958.1 Q2916.89 1958.1 2915.02 1958.51 Q2913.17 1958.93 2911.22 1959.81 L2911.22 1942.45 Z\" fill=\"#000000\" fill-rule=\"evenodd\" fill-opacity=\"1\" /><path clip-path=\"url(#clip460)\" d=\"M2941.39 1942.45 L2959.74 1942.45 L2959.74 1946.38 L2945.67 1946.38 L2945.67 1954.86 Q2946.69 1954.51 2947.7 1954.35 Q2948.72 1954.16 2949.74 1954.16 Q2955.53 1954.16 2958.91 1957.33 Q2962.29 1960.5 2962.29 1965.92 Q2962.29 1971.5 2958.82 1974.6 Q2955.34 1977.68 2949.02 1977.68 Q2946.85 1977.68 2944.58 1977.31 Q2942.33 1976.94 2939.93 1976.2 L2939.93 1971.5 Q2942.01 1972.63 2944.23 1973.19 Q2946.45 1973.74 2948.93 1973.74 Q2952.94 1973.74 2955.27 1971.64 Q2957.61 1969.53 2957.61 1965.92 Q2957.61 1962.31 2955.27 1960.2 Q2952.94 1958.1 2948.93 1958.1 Q2947.06 1958.1 2945.18 1958.51 Q2943.33 1958.93 2941.39 1959.81 L2941.39 1942.45 Z\" fill=\"#000000\" fill-rule=\"evenodd\" fill-opacity=\"1\" /><path clip-path=\"url(#clip460)\" d=\"M2993.47 1957.86 Q2990.33 1957.86 2988.47 1960.02 Q2986.65 1962.17 2986.65 1965.92 Q2986.65 1969.65 2988.47 1971.82 Q2990.33 1973.98 2993.47 1973.98 Q2996.62 1973.98 2998.45 1971.82 Q3000.3 1969.65 3000.3 1965.92 Q3000.3 1962.17 2998.45 1960.02 Q2996.62 1957.86 2993.47 1957.86 M3002.76 1943.21 L3002.76 1947.47 Q3001 1946.64 2999.19 1946.2 Q2997.41 1945.76 2995.65 1945.76 Q2991.02 1945.76 2988.57 1948.88 Q2986.14 1952.01 2985.79 1958.33 Q2987.16 1956.31 2989.22 1955.25 Q2991.28 1954.16 2993.75 1954.16 Q2998.96 1954.16 3001.97 1957.33 Q3005 1960.48 3005 1965.92 Q3005 1971.24 3001.85 1974.46 Q2998.71 1977.68 2993.47 1977.68 Q2987.48 1977.68 2984.31 1973.1 Q2981.14 1968.49 2981.14 1959.76 Q2981.14 1951.57 2985.03 1946.71 Q2988.91 1941.82 2995.47 1941.82 Q2997.22 1941.82 2999.01 1942.17 Q3000.81 1942.52 3002.76 1943.21 Z\" fill=\"#000000\" fill-rule=\"evenodd\" fill-opacity=\"1\" /><path clip-path=\"url(#clip460)\" d=\"M3017.09 1973.07 L3033.4 1973.07 L3033.4 1977.01 L3011.46 1977.01 L3011.46 1973.07 Q3014.12 1970.32 3018.71 1965.69 Q3023.31 1961.04 3024.49 1959.69 Q3026.74 1957.17 3027.62 1955.43 Q3028.52 1953.67 3028.52 1951.98 Q3028.52 1949.23 3026.58 1947.49 Q3024.65 1945.76 3021.55 1945.76 Q3019.35 1945.76 3016.9 1946.52 Q3014.47 1947.29 3011.69 1948.84 L3011.69 1944.11 Q3014.52 1942.98 3016.97 1942.4 Q3019.42 1941.82 3021.46 1941.82 Q3026.83 1941.82 3030.03 1944.51 Q3033.22 1947.19 3033.22 1951.68 Q3033.22 1953.81 3032.41 1955.73 Q3031.62 1957.63 3029.52 1960.23 Q3028.94 1960.9 3025.84 1964.11 Q3022.73 1967.31 3017.09 1973.07 Z\" fill=\"#000000\" fill-rule=\"evenodd\" fill-opacity=\"1\" /><path clip-path=\"url(#clip460)\" d=\"M3063.68 1957.86 Q3060.53 1957.86 3058.68 1960.02 Q3056.85 1962.17 3056.85 1965.92 Q3056.85 1969.65 3058.68 1971.82 Q3060.53 1973.98 3063.68 1973.98 Q3066.83 1973.98 3068.65 1971.82 Q3070.51 1969.65 3070.51 1965.92 Q3070.51 1962.17 3068.65 1960.02 Q3066.83 1957.86 3063.68 1957.86 M3072.96 1943.21 L3072.96 1947.47 Q3071.2 1946.64 3069.39 1946.2 Q3067.61 1945.76 3065.85 1945.76 Q3061.22 1945.76 3058.77 1948.88 Q3056.34 1952.01 3055.99 1958.33 Q3057.36 1956.31 3059.42 1955.25 Q3061.48 1954.16 3063.95 1954.16 Q3069.16 1954.16 3072.17 1957.33 Q3075.2 1960.48 3075.2 1965.92 Q3075.2 1971.24 3072.06 1974.46 Q3068.91 1977.68 3063.68 1977.68 Q3057.68 1977.68 3054.51 1973.1 Q3051.34 1968.49 3051.34 1959.76 Q3051.34 1951.57 3055.23 1946.71 Q3059.12 1941.82 3065.67 1941.82 Q3067.43 1941.82 3069.21 1942.17 Q3071.02 1942.52 3072.96 1943.21 Z\" fill=\"#000000\" fill-rule=\"evenodd\" fill-opacity=\"1\" /><path clip-path=\"url(#clip460)\" d=\"M3096.11 1946.52 L3084.3 1964.97 L3096.11 1964.97 L3096.11 1946.52 M3094.88 1942.45 L3100.76 1942.45 L3100.76 1964.97 L3105.69 1964.97 L3105.69 1968.86 L3100.76 1968.86 L3100.76 1977.01 L3096.11 1977.01 L3096.11 1968.86 L3080.51 1968.86 L3080.51 1964.35 L3094.88 1942.45 Z\" fill=\"#000000\" fill-rule=\"evenodd\" fill-opacity=\"1\" /><path clip-path=\"url(#clip460)\" d=\"M3135.49 1957.86 Q3132.34 1957.86 3130.49 1960.02 Q3128.66 1962.17 3128.66 1965.92 Q3128.66 1969.65 3130.49 1971.82 Q3132.34 1973.98 3135.49 1973.98 Q3138.64 1973.98 3140.47 1971.82 Q3142.32 1969.65 3142.32 1965.92 Q3142.32 1962.17 3140.47 1960.02 Q3138.64 1957.86 3135.49 1957.86 M3144.77 1943.21 L3144.77 1947.47 Q3143.01 1946.64 3141.21 1946.2 Q3139.42 1945.76 3137.66 1945.76 Q3133.03 1945.76 3130.58 1948.88 Q3128.15 1952.01 3127.8 1958.33 Q3129.17 1956.31 3131.23 1955.25 Q3133.29 1954.16 3135.77 1954.16 Q3140.97 1954.16 3143.98 1957.33 Q3147.02 1960.48 3147.02 1965.92 Q3147.02 1971.24 3143.87 1974.46 Q3140.72 1977.68 3135.49 1977.68 Q3129.49 1977.68 3126.32 1973.1 Q3123.15 1968.49 3123.15 1959.76 Q3123.15 1951.57 3127.04 1946.71 Q3130.93 1941.82 3137.48 1941.82 Q3139.24 1941.82 3141.02 1942.17 Q3142.83 1942.52 3144.77 1943.21 Z\" fill=\"#000000\" fill-rule=\"evenodd\" fill-opacity=\"1\" /><path clip-path=\"url(#clip460)\" d=\"M3169.24 1958.37 Q3172.59 1959.09 3174.47 1961.36 Q3176.37 1963.63 3176.37 1966.96 Q3176.37 1972.08 3172.85 1974.88 Q3169.33 1977.68 3162.85 1977.68 Q3160.67 1977.68 3158.36 1977.24 Q3156.07 1976.82 3153.61 1975.97 L3153.61 1971.45 Q3155.56 1972.59 3157.87 1973.17 Q3160.19 1973.74 3162.71 1973.74 Q3167.11 1973.74 3169.4 1972.01 Q3171.72 1970.27 3171.72 1966.96 Q3171.72 1963.91 3169.56 1962.19 Q3167.43 1960.46 3163.61 1960.46 L3159.59 1960.46 L3159.59 1956.61 L3163.8 1956.61 Q3167.25 1956.61 3169.08 1955.25 Q3170.91 1953.86 3170.91 1951.27 Q3170.91 1948.61 3169.01 1947.19 Q3167.13 1945.76 3163.61 1945.76 Q3161.69 1945.76 3159.49 1946.17 Q3157.29 1946.59 3154.66 1947.47 L3154.66 1943.3 Q3157.32 1942.56 3159.63 1942.19 Q3161.97 1941.82 3164.03 1941.82 Q3169.35 1941.82 3172.46 1944.25 Q3175.56 1946.66 3175.56 1950.78 Q3175.56 1953.65 3173.91 1955.64 Q3172.27 1957.61 3169.24 1958.37 Z\" fill=\"#000000\" fill-rule=\"evenodd\" fill-opacity=\"1\" /><path clip-path=\"url(#clip460)\" d=\"M3206.41 1957.86 Q3203.26 1957.86 3201.41 1960.02 Q3199.58 1962.17 3199.58 1965.92 Q3199.58 1969.65 3201.41 1971.82 Q3203.26 1973.98 3206.41 1973.98 Q3209.56 1973.98 3211.39 1971.82 Q3213.24 1969.65 3213.24 1965.92 Q3213.24 1962.17 3211.39 1960.02 Q3209.56 1957.86 3206.41 1957.86 M3215.69 1943.21 L3215.69 1947.47 Q3213.93 1946.64 3212.13 1946.2 Q3210.34 1945.76 3208.58 1945.76 Q3203.96 1945.76 3201.5 1948.88 Q3199.07 1952.01 3198.72 1958.33 Q3200.09 1956.31 3202.15 1955.25 Q3204.21 1954.16 3206.69 1954.16 Q3211.89 1954.16 3214.9 1957.33 Q3217.94 1960.48 3217.94 1965.92 Q3217.94 1971.24 3214.79 1974.46 Q3211.64 1977.68 3206.41 1977.68 Q3200.41 1977.68 3197.24 1973.1 Q3194.07 1968.49 3194.07 1959.76 Q3194.07 1951.57 3197.96 1946.71 Q3201.85 1941.82 3208.4 1941.82 Q3210.16 1941.82 3211.94 1942.17 Q3213.75 1942.52 3215.69 1943.21 Z\" fill=\"#000000\" fill-rule=\"evenodd\" fill-opacity=\"1\" /><path clip-path=\"url(#clip460)\" d=\"M3235.99 1945.53 Q3232.38 1945.53 3230.55 1949.09 Q3228.75 1952.63 3228.75 1959.76 Q3228.75 1966.87 3230.55 1970.43 Q3232.38 1973.98 3235.99 1973.98 Q3239.63 1973.98 3241.43 1970.43 Q3243.26 1966.87 3243.26 1959.76 Q3243.26 1952.63 3241.43 1949.09 Q3239.63 1945.53 3235.99 1945.53 M3235.99 1941.82 Q3241.8 1941.82 3244.86 1946.43 Q3247.94 1951.01 3247.94 1959.76 Q3247.94 1968.49 3244.86 1973.1 Q3241.8 1977.68 3235.99 1977.68 Q3230.18 1977.68 3227.1 1973.1 Q3224.05 1968.49 3224.05 1959.76 Q3224.05 1951.01 3227.1 1946.43 Q3230.18 1941.82 3235.99 1941.82 Z\" fill=\"#000000\" fill-rule=\"evenodd\" fill-opacity=\"1\" /><path clip-path=\"url(#clip460)\" d=\"M3278.27 1957.86 Q3275.12 1957.86 3273.27 1960.02 Q3271.44 1962.17 3271.44 1965.92 Q3271.44 1969.65 3273.27 1971.82 Q3275.12 1973.98 3278.27 1973.98 Q3281.41 1973.98 3283.24 1971.82 Q3285.1 1969.65 3285.1 1965.92 Q3285.1 1962.17 3283.24 1960.02 Q3281.41 1957.86 3278.27 1957.86 M3287.55 1943.21 L3287.55 1947.47 Q3285.79 1946.64 3283.98 1946.2 Q3282.2 1945.76 3280.44 1945.76 Q3275.81 1945.76 3273.36 1948.88 Q3270.93 1952.01 3270.58 1958.33 Q3271.95 1956.31 3274.01 1955.25 Q3276.07 1954.16 3278.54 1954.16 Q3283.75 1954.16 3286.76 1957.33 Q3289.79 1960.48 3289.79 1965.92 Q3289.79 1971.24 3286.65 1974.46 Q3283.5 1977.68 3278.27 1977.68 Q3272.27 1977.68 3269.1 1973.1 Q3265.93 1968.49 3265.93 1959.76 Q3265.93 1951.57 3269.82 1946.71 Q3273.71 1941.82 3280.26 1941.82 Q3282.02 1941.82 3283.8 1942.17 Q3285.6 1942.52 3287.55 1943.21 Z\" fill=\"#000000\" fill-rule=\"evenodd\" fill-opacity=\"1\" /><path clip-path=\"url(#clip460)\" d=\"M3298.66 1973.07 L3306.3 1973.07 L3306.3 1946.71 L3297.99 1948.37 L3297.99 1944.11 L3306.25 1942.45 L3310.93 1942.45 L3310.93 1973.07 L3318.57 1973.07 L3318.57 1977.01 L3298.66 1977.01 L3298.66 1973.07 Z\" fill=\"#000000\" fill-rule=\"evenodd\" fill-opacity=\"1\" /><path clip-path=\"url(#clip460)\" d=\"M3338.11 1942.45 L3356.47 1942.45 L3356.47 1946.38 L3342.39 1946.38 L3342.39 1954.86 Q3343.41 1954.51 3344.43 1954.35 Q3345.45 1954.16 3346.47 1954.16 Q3352.25 1954.16 3355.63 1957.33 Q3359.01 1960.5 3359.01 1965.92 Q3359.01 1971.5 3355.54 1974.6 Q3352.07 1977.68 3345.75 1977.68 Q3343.57 1977.68 3341.3 1977.31 Q3339.06 1976.94 3336.65 1976.2 L3336.65 1971.5 Q3338.74 1972.63 3340.96 1973.19 Q3343.18 1973.74 3345.66 1973.74 Q3349.66 1973.74 3352 1971.64 Q3354.34 1969.53 3354.34 1965.92 Q3354.34 1962.31 3352 1960.2 Q3349.66 1958.1 3345.66 1958.1 Q3343.78 1958.1 3341.91 1958.51 Q3340.05 1958.93 3338.11 1959.81 L3338.11 1942.45 Z\" fill=\"#000000\" fill-rule=\"evenodd\" fill-opacity=\"1\" /><path clip-path=\"url(#clip460)\" d=\"M3378.8 1957.86 Q3375.66 1957.86 3373.8 1960.02 Q3371.98 1962.17 3371.98 1965.92 Q3371.98 1969.65 3373.8 1971.82 Q3375.66 1973.98 3378.8 1973.98 Q3381.95 1973.98 3383.78 1971.82 Q3385.63 1969.65 3385.63 1965.92 Q3385.63 1962.17 3383.78 1960.02 Q3381.95 1957.86 3378.8 1957.86 M3388.09 1943.21 L3388.09 1947.47 Q3386.33 1946.64 3384.52 1946.2 Q3382.74 1945.76 3380.98 1945.76 Q3376.35 1945.76 3373.9 1948.88 Q3371.47 1952.01 3371.12 1958.33 Q3372.49 1956.31 3374.55 1955.25 Q3376.61 1954.16 3379.08 1954.16 Q3384.29 1954.16 3387.3 1957.33 Q3390.33 1960.48 3390.33 1965.92 Q3390.33 1971.24 3387.18 1974.46 Q3384.04 1977.68 3378.8 1977.68 Q3372.81 1977.68 3369.64 1973.1 Q3366.47 1968.49 3366.47 1959.76 Q3366.47 1951.57 3370.36 1946.71 Q3374.24 1941.82 3380.8 1941.82 Q3382.55 1941.82 3384.34 1942.17 Q3386.14 1942.52 3388.09 1943.21 Z\" fill=\"#000000\" fill-rule=\"evenodd\" fill-opacity=\"1\" /><path clip-path=\"url(#clip460)\" d=\"M3409.89 1942.45 L3428.24 1942.45 L3428.24 1946.38 L3414.17 1946.38 L3414.17 1954.86 Q3415.19 1954.51 3416.21 1954.35 Q3417.23 1954.16 3418.24 1954.16 Q3424.03 1954.16 3427.41 1957.33 Q3430.79 1960.5 3430.79 1965.92 Q3430.79 1971.5 3427.32 1974.6 Q3423.85 1977.68 3417.53 1977.68 Q3415.35 1977.68 3413.08 1977.31 Q3410.84 1976.94 3408.43 1976.2 L3408.43 1971.5 Q3410.51 1972.63 3412.73 1973.19 Q3414.96 1973.74 3417.43 1973.74 Q3421.44 1973.74 3423.78 1971.64 Q3426.11 1969.53 3426.11 1965.92 Q3426.11 1962.31 3423.78 1960.2 Q3421.44 1958.1 3417.43 1958.1 Q3415.56 1958.1 3413.68 1958.51 Q3411.83 1958.93 3409.89 1959.81 L3409.89 1942.45 Z\" fill=\"#000000\" fill-rule=\"evenodd\" fill-opacity=\"1\" /><path clip-path=\"url(#clip460)\" d=\"M3438.82 1942.45 L3461.04 1942.45 L3461.04 1944.44 L3448.5 1977.01 L3443.61 1977.01 L3455.42 1946.38 L3438.82 1946.38 L3438.82 1942.45 Z\" fill=\"#000000\" fill-rule=\"evenodd\" fill-opacity=\"1\" /><path clip-path=\"url(#clip460)\" d=\"M3480.73 1942.45 L3499.08 1942.45 L3499.08 1946.38 L3485.01 1946.38 L3485.01 1954.86 Q3486.03 1954.51 3487.05 1954.35 Q3488.06 1954.16 3489.08 1954.16 Q3494.87 1954.16 3498.25 1957.33 Q3501.63 1960.5 3501.63 1965.92 Q3501.63 1971.5 3498.16 1974.6 Q3494.68 1977.68 3488.37 1977.68 Q3486.19 1977.68 3483.92 1977.31 Q3481.68 1976.94 3479.27 1976.2 L3479.27 1971.5 Q3481.35 1972.63 3483.57 1973.19 Q3485.8 1973.74 3488.27 1973.74 Q3492.28 1973.74 3494.62 1971.64 Q3496.95 1969.53 3496.95 1965.92 Q3496.95 1962.31 3494.62 1960.2 Q3492.28 1958.1 3488.27 1958.1 Q3486.4 1958.1 3484.52 1958.51 Q3482.67 1958.93 3480.73 1959.81 L3480.73 1942.45 Z\" fill=\"#000000\" fill-rule=\"evenodd\" fill-opacity=\"1\" /><path clip-path=\"url(#clip460)\" d=\"M3520.84 1960.6 Q3517.51 1960.6 3515.59 1962.38 Q3513.69 1964.16 3513.69 1967.29 Q3513.69 1970.41 3515.59 1972.19 Q3517.51 1973.98 3520.84 1973.98 Q3524.18 1973.98 3526.1 1972.19 Q3528.02 1970.39 3528.02 1967.29 Q3528.02 1964.16 3526.1 1962.38 Q3524.2 1960.6 3520.84 1960.6 M3516.17 1958.61 Q3513.16 1957.86 3511.47 1955.8 Q3509.8 1953.74 3509.8 1950.78 Q3509.8 1946.64 3512.74 1944.23 Q3515.7 1941.82 3520.84 1941.82 Q3526 1941.82 3528.94 1944.23 Q3531.88 1946.64 3531.88 1950.78 Q3531.88 1953.74 3530.19 1955.8 Q3528.53 1957.86 3525.54 1958.61 Q3528.92 1959.39 3530.8 1961.68 Q3532.69 1963.98 3532.69 1967.29 Q3532.69 1972.31 3529.61 1974.99 Q3526.56 1977.68 3520.84 1977.68 Q3515.12 1977.68 3512.05 1974.99 Q3508.99 1972.31 3508.99 1967.29 Q3508.99 1963.98 3510.89 1961.68 Q3512.79 1959.39 3516.17 1958.61 M3514.45 1951.22 Q3514.45 1953.91 3516.12 1955.41 Q3517.81 1956.92 3520.84 1956.92 Q3523.85 1956.92 3525.54 1955.41 Q3527.25 1953.91 3527.25 1951.22 Q3527.25 1948.54 3525.54 1947.03 Q3523.85 1945.53 3520.84 1945.53 Q3517.81 1945.53 3516.12 1947.03 Q3514.45 1948.54 3514.45 1951.22 Z\" fill=\"#000000\" fill-rule=\"evenodd\" fill-opacity=\"1\" /><path clip-path=\"url(#clip460)\" d=\"M3565.85 1946.52 L3554.04 1964.97 L3565.85 1964.97 L3565.85 1946.52 M3564.62 1942.45 L3570.5 1942.45 L3570.5 1964.97 L3575.43 1964.97 L3575.43 1968.86 L3570.5 1968.86 L3570.5 1977.01 L3565.85 1977.01 L3565.85 1968.86 L3550.25 1968.86 L3550.25 1964.35 L3564.62 1942.45 Z\" fill=\"#000000\" fill-rule=\"evenodd\" fill-opacity=\"1\" /><path clip-path=\"url(#clip460)\" d=\"M3581.98 1942.45 L3604.2 1942.45 L3604.2 1944.44 L3591.66 1977.01 L3586.77 1977.01 L3598.58 1946.38 L3581.98 1946.38 L3581.98 1942.45 Z\" fill=\"#000000\" fill-rule=\"evenodd\" fill-opacity=\"1\" /><path clip-path=\"url(#clip460)\" d=\"M3637.14 1946.52 L3625.33 1964.97 L3637.14 1964.97 L3637.14 1946.52 M3635.91 1942.45 L3641.79 1942.45 L3641.79 1964.97 L3646.72 1964.97 L3646.72 1968.86 L3641.79 1968.86 L3641.79 1977.01 L3637.14 1977.01 L3637.14 1968.86 L3621.54 1968.86 L3621.54 1964.35 L3635.91 1942.45 Z\" fill=\"#000000\" fill-rule=\"evenodd\" fill-opacity=\"1\" /><path clip-path=\"url(#clip460)\" d=\"M3654.5 1942.45 L3672.86 1942.45 L3672.86 1946.38 L3658.78 1946.38 L3658.78 1954.86 Q3659.8 1954.51 3660.82 1954.35 Q3661.84 1954.16 3662.86 1954.16 Q3668.64 1954.16 3672.02 1957.33 Q3675.4 1960.5 3675.4 1965.92 Q3675.4 1971.5 3671.93 1974.6 Q3668.46 1977.68 3662.14 1977.68 Q3659.96 1977.68 3657.69 1977.31 Q3655.45 1976.94 3653.04 1976.2 L3653.04 1971.5 Q3655.12 1972.63 3657.35 1973.19 Q3659.57 1973.74 3662.05 1973.74 Q3666.05 1973.74 3668.39 1971.64 Q3670.73 1969.53 3670.73 1965.92 Q3670.73 1962.31 3668.39 1960.2 Q3666.05 1958.1 3662.05 1958.1 Q3660.17 1958.1 3658.3 1958.51 Q3656.44 1958.93 3654.5 1959.81 L3654.5 1942.45 Z\" fill=\"#000000\" fill-rule=\"evenodd\" fill-opacity=\"1\" /><path clip-path=\"url(#clip460)\" d=\"M3707.8 1946.52 L3696 1964.97 L3707.8 1964.97 L3707.8 1946.52 M3706.58 1942.45 L3712.46 1942.45 L3712.46 1964.97 L3717.39 1964.97 L3717.39 1968.86 L3712.46 1968.86 L3712.46 1977.01 L3707.8 1977.01 L3707.8 1968.86 L3692.2 1968.86 L3692.2 1964.35 L3706.58 1942.45 Z\" fill=\"#000000\" fill-rule=\"evenodd\" fill-opacity=\"1\" /><path clip-path=\"url(#clip460)\" d=\"M3735.7 1957.86 Q3732.55 1957.86 3730.7 1960.02 Q3728.87 1962.17 3728.87 1965.92 Q3728.87 1969.65 3730.7 1971.82 Q3732.55 1973.98 3735.7 1973.98 Q3738.85 1973.98 3740.67 1971.82 Q3742.53 1969.65 3742.53 1965.92 Q3742.53 1962.17 3740.67 1960.02 Q3738.85 1957.86 3735.7 1957.86 M3744.98 1943.21 L3744.98 1947.47 Q3743.22 1946.64 3741.41 1946.2 Q3739.63 1945.76 3737.87 1945.76 Q3733.24 1945.76 3730.79 1948.88 Q3728.36 1952.01 3728.01 1958.33 Q3729.38 1956.31 3731.44 1955.25 Q3733.5 1954.16 3735.98 1954.16 Q3741.18 1954.16 3744.19 1957.33 Q3747.23 1960.48 3747.23 1965.92 Q3747.23 1971.24 3744.08 1974.46 Q3740.93 1977.68 3735.7 1977.68 Q3729.7 1977.68 3726.53 1973.1 Q3723.36 1968.49 3723.36 1959.76 Q3723.36 1951.57 3727.25 1946.71 Q3731.14 1941.82 3737.69 1941.82 Q3739.45 1941.82 3741.23 1942.17 Q3743.04 1942.52 3744.98 1943.21 Z\" fill=\"#000000\" fill-rule=\"evenodd\" fill-opacity=\"1\" /><path clip-path=\"url(#clip460)\" d=\"M3779.45 1946.52 L3767.65 1964.97 L3779.45 1964.97 L3779.45 1946.52 M3778.23 1942.45 L3784.11 1942.45 L3784.11 1964.97 L3789.04 1964.97 L3789.04 1968.86 L3784.11 1968.86 L3784.11 1977.01 L3779.45 1977.01 L3779.45 1968.86 L3763.85 1968.86 L3763.85 1964.35 L3778.23 1942.45 Z\" fill=\"#000000\" fill-rule=\"evenodd\" fill-opacity=\"1\" /><path clip-path=\"url(#clip460)\" d=\"M3810.93 1958.37 Q3814.29 1959.09 3816.17 1961.36 Q3818.06 1963.63 3818.06 1966.96 Q3818.06 1972.08 3814.55 1974.88 Q3811.03 1977.68 3804.55 1977.68 Q3802.37 1977.68 3800.06 1977.24 Q3797.76 1976.82 3795.31 1975.97 L3795.31 1971.45 Q3797.25 1972.59 3799.57 1973.17 Q3801.88 1973.74 3804.41 1973.74 Q3808.81 1973.74 3811.1 1972.01 Q3813.41 1970.27 3813.41 1966.96 Q3813.41 1963.91 3811.26 1962.19 Q3809.13 1960.46 3805.31 1960.46 L3801.28 1960.46 L3801.28 1956.61 L3805.49 1956.61 Q3808.94 1956.61 3810.77 1955.25 Q3812.6 1953.86 3812.6 1951.27 Q3812.6 1948.61 3810.7 1947.19 Q3808.83 1945.76 3805.31 1945.76 Q3803.39 1945.76 3801.19 1946.17 Q3798.99 1946.59 3796.35 1947.47 L3796.35 1943.3 Q3799.01 1942.56 3801.33 1942.19 Q3803.67 1941.82 3805.73 1941.82 Q3811.05 1941.82 3814.15 1944.25 Q3817.25 1946.66 3817.25 1950.78 Q3817.25 1953.65 3815.61 1955.64 Q3813.97 1957.61 3810.93 1958.37 Z\" fill=\"#000000\" fill-rule=\"evenodd\" fill-opacity=\"1\" /><path clip-path=\"url(#clip460)\" d=\"M3850.42 1946.52 L3838.61 1964.97 L3850.42 1964.97 L3850.42 1946.52 M3849.19 1942.45 L3855.07 1942.45 L3855.07 1964.97 L3860 1964.97 L3860 1968.86 L3855.07 1968.86 L3855.07 1977.01 L3850.42 1977.01 L3850.42 1968.86 L3834.82 1968.86 L3834.82 1964.35 L3849.19 1942.45 Z\" fill=\"#000000\" fill-rule=\"evenodd\" fill-opacity=\"1\" /><path clip-path=\"url(#clip460)\" d=\"M3877.73 1960.6 Q3874.4 1960.6 3872.48 1962.38 Q3870.58 1964.16 3870.58 1967.29 Q3870.58 1970.41 3872.48 1972.19 Q3874.4 1973.98 3877.73 1973.98 Q3881.07 1973.98 3882.99 1972.19 Q3884.91 1970.39 3884.91 1967.29 Q3884.91 1964.16 3882.99 1962.38 Q3881.09 1960.6 3877.73 1960.6 M3873.06 1958.61 Q3870.05 1957.86 3868.36 1955.8 Q3866.69 1953.74 3866.69 1950.78 Q3866.69 1946.64 3869.63 1944.23 Q3872.6 1941.82 3877.73 1941.82 Q3882.9 1941.82 3885.84 1944.23 Q3888.78 1946.64 3888.78 1950.78 Q3888.78 1953.74 3887.09 1955.8 Q3885.42 1957.86 3882.43 1958.61 Q3885.81 1959.39 3887.69 1961.68 Q3889.59 1963.98 3889.59 1967.29 Q3889.59 1972.31 3886.51 1974.99 Q3883.45 1977.68 3877.73 1977.68 Q3872.02 1977.68 3868.94 1974.99 Q3865.88 1972.31 3865.88 1967.29 Q3865.88 1963.98 3867.78 1961.68 Q3869.68 1959.39 3873.06 1958.61 M3871.35 1951.22 Q3871.35 1953.91 3873.01 1955.41 Q3874.7 1956.92 3877.73 1956.92 Q3880.74 1956.92 3882.43 1955.41 Q3884.15 1953.91 3884.15 1951.22 Q3884.15 1948.54 3882.43 1947.03 Q3880.74 1945.53 3877.73 1945.53 Q3874.7 1945.53 3873.01 1947.03 Q3871.35 1948.54 3871.35 1951.22 Z\" fill=\"#000000\" fill-rule=\"evenodd\" fill-opacity=\"1\" /><path clip-path=\"url(#clip460)\" d=\"M3908.94 1942.45 L3927.3 1942.45 L3927.3 1946.38 L3913.23 1946.38 L3913.23 1954.86 Q3914.25 1954.51 3915.26 1954.35 Q3916.28 1954.16 3917.3 1954.16 Q3923.09 1954.16 3926.47 1957.33 Q3929.85 1960.5 3929.85 1965.92 Q3929.85 1971.5 3926.37 1974.6 Q3922.9 1977.68 3916.58 1977.68 Q3914.41 1977.68 3912.14 1977.31 Q3909.89 1976.94 3907.49 1976.2 L3907.49 1971.5 Q3909.57 1972.63 3911.79 1973.19 Q3914.01 1973.74 3916.49 1973.74 Q3920.5 1973.74 3922.83 1971.64 Q3925.17 1969.53 3925.17 1965.92 Q3925.17 1962.31 3922.83 1960.2 Q3920.5 1958.1 3916.49 1958.1 Q3914.62 1958.1 3912.74 1958.51 Q3910.89 1958.93 3908.94 1959.81 L3908.94 1942.45 Z\" fill=\"#000000\" fill-rule=\"evenodd\" fill-opacity=\"1\" /><path clip-path=\"url(#clip460)\" d=\"M3943.09 1973.07 L3959.41 1973.07 L3959.41 1977.01 L3937.46 1977.01 L3937.46 1973.07 Q3940.12 1970.32 3944.71 1965.69 Q3949.31 1961.04 3950.5 1959.69 Q3952.74 1957.17 3953.62 1955.43 Q3954.52 1953.67 3954.52 1951.98 Q3954.52 1949.23 3952.58 1947.49 Q3950.66 1945.76 3947.56 1945.76 Q3945.36 1945.76 3942.9 1946.52 Q3940.47 1947.29 3937.69 1948.84 L3937.69 1944.11 Q3940.52 1942.98 3942.97 1942.4 Q3945.43 1941.82 3947.46 1941.82 Q3952.83 1941.82 3956.03 1944.51 Q3959.22 1947.19 3959.22 1951.68 Q3959.22 1953.81 3958.41 1955.73 Q3957.62 1957.63 3955.52 1960.23 Q3954.94 1960.9 3951.84 1964.11 Q3948.74 1967.31 3943.09 1973.07 Z\" fill=\"#000000\" fill-rule=\"evenodd\" fill-opacity=\"1\" /><path clip-path=\"url(#clip460)\" d=\"M3992.95 1946.52 L3981.15 1964.97 L3992.95 1964.97 L3992.95 1946.52 M3991.73 1942.45 L3997.61 1942.45 L3997.61 1964.97 L4002.54 1964.97 L4002.54 1968.86 L3997.61 1968.86 L3997.61 1977.01 L3992.95 1977.01 L3992.95 1968.86 L3977.35 1968.86 L3977.35 1964.35 L3991.73 1942.45 Z\" fill=\"#000000\" fill-rule=\"evenodd\" fill-opacity=\"1\" /><path clip-path=\"url(#clip460)\" d=\"M4010.41 1976.29 L4010.41 1972.03 Q4012.17 1972.86 4013.97 1973.3 Q4015.78 1973.74 4017.51 1973.74 Q4022.14 1973.74 4024.58 1970.64 Q4027.03 1967.52 4027.38 1961.17 Q4026.03 1963.17 4023.97 1964.23 Q4021.91 1965.29 4019.41 1965.29 Q4014.23 1965.29 4011.2 1962.17 Q4008.19 1959.02 4008.19 1953.58 Q4008.19 1948.26 4011.33 1945.04 Q4014.48 1941.82 4019.71 1941.82 Q4025.71 1941.82 4028.86 1946.43 Q4032.03 1951.01 4032.03 1959.76 Q4032.03 1967.93 4028.14 1972.82 Q4024.27 1977.68 4017.72 1977.68 Q4015.96 1977.68 4014.16 1977.33 Q4012.35 1976.98 4010.41 1976.29 M4019.71 1961.64 Q4022.86 1961.64 4024.69 1959.48 Q4026.54 1957.33 4026.54 1953.58 Q4026.54 1949.86 4024.69 1947.7 Q4022.86 1945.53 4019.71 1945.53 Q4016.57 1945.53 4014.71 1947.7 Q4012.89 1949.86 4012.89 1953.58 Q4012.89 1957.33 4014.71 1959.48 Q4016.57 1961.64 4019.71 1961.64 Z\" fill=\"#000000\" fill-rule=\"evenodd\" fill-opacity=\"1\" /><path clip-path=\"url(#clip460)\" d=\"M4050.63 1942.45 L4068.99 1942.45 L4068.99 1946.38 L4054.92 1946.38 L4054.92 1954.86 Q4055.94 1954.51 4056.95 1954.35 Q4057.97 1954.16 4058.99 1954.16 Q4064.78 1954.16 4068.16 1957.33 Q4071.54 1960.5 4071.54 1965.92 Q4071.54 1971.5 4068.06 1974.6 Q4064.59 1977.68 4058.27 1977.68 Q4056.1 1977.68 4053.83 1977.31 Q4051.58 1976.94 4049.18 1976.2 L4049.18 1971.5 Q4051.26 1972.63 4053.48 1973.19 Q4055.7 1973.74 4058.18 1973.74 Q4062.19 1973.74 4064.52 1971.64 Q4066.86 1969.53 4066.86 1965.92 Q4066.86 1962.31 4064.52 1960.2 Q4062.19 1958.1 4058.18 1958.1 Q4056.31 1958.1 4054.43 1958.51 Q4052.58 1958.93 4050.63 1959.81 L4050.63 1942.45 Z\" fill=\"#000000\" fill-rule=\"evenodd\" fill-opacity=\"1\" /><path clip-path=\"url(#clip460)\" d=\"M4090.75 1945.53 Q4087.14 1945.53 4085.31 1949.09 Q4083.5 1952.63 4083.5 1959.76 Q4083.5 1966.87 4085.31 1970.43 Q4087.14 1973.98 4090.75 1973.98 Q4094.38 1973.98 4096.19 1970.43 Q4098.02 1966.87 4098.02 1959.76 Q4098.02 1952.63 4096.19 1949.09 Q4094.38 1945.53 4090.75 1945.53 M4090.75 1941.82 Q4096.56 1941.82 4099.62 1946.43 Q4102.69 1951.01 4102.69 1959.76 Q4102.69 1968.49 4099.62 1973.1 Q4096.56 1977.68 4090.75 1977.68 Q4084.94 1977.68 4081.86 1973.1 Q4078.81 1968.49 4078.81 1959.76 Q4078.81 1951.01 4081.86 1946.43 Q4084.94 1941.82 4090.75 1941.82 Z\" fill=\"#000000\" fill-rule=\"evenodd\" fill-opacity=\"1\" /><path clip-path=\"url(#clip460)\" d=\"M4122.49 1942.45 L4140.85 1942.45 L4140.85 1946.38 L4126.77 1946.38 L4126.77 1954.86 Q4127.79 1954.51 4128.81 1954.35 Q4129.83 1954.16 4130.85 1954.16 Q4136.64 1954.16 4140.02 1957.33 Q4143.39 1960.5 4143.39 1965.92 Q4143.39 1971.5 4139.92 1974.6 Q4136.45 1977.68 4130.13 1977.68 Q4127.96 1977.68 4125.69 1977.31 Q4123.44 1976.94 4121.03 1976.2 L4121.03 1971.5 Q4123.12 1972.63 4125.34 1973.19 Q4127.56 1973.74 4130.04 1973.74 Q4134.04 1973.74 4136.38 1971.64 Q4138.72 1969.53 4138.72 1965.92 Q4138.72 1962.31 4136.38 1960.2 Q4134.04 1958.1 4130.04 1958.1 Q4128.16 1958.1 4126.29 1958.51 Q4124.44 1958.93 4122.49 1959.81 L4122.49 1942.45 Z\" fill=\"#000000\" fill-rule=\"evenodd\" fill-opacity=\"1\" /><path clip-path=\"url(#clip460)\" d=\"M4153.42 1973.07 L4161.06 1973.07 L4161.06 1946.71 L4152.75 1948.37 L4152.75 1944.11 L4161.01 1942.45 L4165.69 1942.45 L4165.69 1973.07 L4173.33 1973.07 L4173.33 1977.01 L4153.42 1977.01 L4153.42 1973.07 Z\" fill=\"#000000\" fill-rule=\"evenodd\" fill-opacity=\"1\" /><path clip-path=\"url(#clip460)\" d=\"M4207.36 1958.37 Q4210.72 1959.09 4212.59 1961.36 Q4214.49 1963.63 4214.49 1966.96 Q4214.49 1972.08 4210.97 1974.88 Q4207.45 1977.68 4200.97 1977.68 Q4198.79 1977.68 4196.48 1977.24 Q4194.19 1976.82 4191.73 1975.97 L4191.73 1971.45 Q4193.68 1972.59 4195.99 1973.17 Q4198.31 1973.74 4200.83 1973.74 Q4205.23 1973.74 4207.52 1972.01 Q4209.84 1970.27 4209.84 1966.96 Q4209.84 1963.91 4207.68 1962.19 Q4205.55 1960.46 4201.73 1960.46 L4197.71 1960.46 L4197.71 1956.61 L4201.92 1956.61 Q4205.37 1956.61 4207.2 1955.25 Q4209.03 1953.86 4209.03 1951.27 Q4209.03 1948.61 4207.13 1947.19 Q4205.25 1945.76 4201.73 1945.76 Q4199.81 1945.76 4197.61 1946.17 Q4195.41 1946.59 4192.78 1947.47 L4192.78 1943.3 Q4195.44 1942.56 4197.75 1942.19 Q4200.09 1941.82 4202.15 1941.82 Q4207.47 1941.82 4210.58 1944.25 Q4213.68 1946.66 4213.68 1950.78 Q4213.68 1953.65 4212.03 1955.64 Q4210.39 1957.61 4207.36 1958.37 Z\" fill=\"#000000\" fill-rule=\"evenodd\" fill-opacity=\"1\" /><path clip-path=\"url(#clip460)\" d=\"M4223.49 1976.29 L4223.49 1972.03 Q4225.25 1972.86 4227.06 1973.3 Q4228.86 1973.74 4230.6 1973.74 Q4235.23 1973.74 4237.66 1970.64 Q4240.11 1967.52 4240.46 1961.17 Q4239.12 1963.17 4237.06 1964.23 Q4235 1965.29 4232.5 1965.29 Q4227.31 1965.29 4224.28 1962.17 Q4221.27 1959.02 4221.27 1953.58 Q4221.27 1948.26 4224.42 1945.04 Q4227.57 1941.82 4232.8 1941.82 Q4238.79 1941.82 4241.94 1946.43 Q4245.11 1951.01 4245.11 1959.76 Q4245.11 1967.93 4241.22 1972.82 Q4237.36 1977.68 4230.81 1977.68 Q4229.05 1977.68 4227.24 1977.33 Q4225.44 1976.98 4223.49 1976.29 M4232.8 1961.64 Q4235.95 1961.64 4237.78 1959.48 Q4239.63 1957.33 4239.63 1953.58 Q4239.63 1949.86 4237.78 1947.7 Q4235.95 1945.53 4232.8 1945.53 Q4229.65 1945.53 4227.8 1947.7 Q4225.97 1949.86 4225.97 1953.58 Q4225.97 1957.33 4227.8 1959.48 Q4229.65 1961.64 4232.8 1961.64 Z\" fill=\"#000000\" fill-rule=\"evenodd\" fill-opacity=\"1\" /><path clip-path=\"url(#clip460)\" d=\"M4277.84 1946.52 L4266.03 1964.97 L4277.84 1964.97 L4277.84 1946.52 M4276.61 1942.45 L4282.49 1942.45 L4282.49 1964.97 L4287.42 1964.97 L4287.42 1968.86 L4282.49 1968.86 L4282.49 1977.01 L4277.84 1977.01 L4277.84 1968.86 L4262.24 1968.86 L4262.24 1964.35 L4276.61 1942.45 Z\" fill=\"#000000\" fill-rule=\"evenodd\" fill-opacity=\"1\" /><path clip-path=\"url(#clip460)\" d=\"M4305.15 1945.53 Q4301.54 1945.53 4299.71 1949.09 Q4297.91 1952.63 4297.91 1959.76 Q4297.91 1966.87 4299.71 1970.43 Q4301.54 1973.98 4305.15 1973.98 Q4308.79 1973.98 4310.59 1970.43 Q4312.42 1966.87 4312.42 1959.76 Q4312.42 1952.63 4310.59 1949.09 Q4308.79 1945.53 4305.15 1945.53 M4305.15 1941.82 Q4310.96 1941.82 4314.02 1946.43 Q4317.1 1951.01 4317.1 1959.76 Q4317.1 1968.49 4314.02 1973.1 Q4310.96 1977.68 4305.15 1977.68 Q4299.34 1977.68 4296.27 1973.1 Q4293.21 1968.49 4293.21 1959.76 Q4293.21 1951.01 4296.27 1946.43 Q4299.34 1941.82 4305.15 1941.82 Z\" fill=\"#000000\" fill-rule=\"evenodd\" fill-opacity=\"1\" /><path clip-path=\"url(#clip460)\" d=\"M4349.7 1946.52 L4337.89 1964.97 L4349.7 1964.97 L4349.7 1946.52 M4348.47 1942.45 L4354.35 1942.45 L4354.35 1964.97 L4359.28 1964.97 L4359.28 1968.86 L4354.35 1968.86 L4354.35 1977.01 L4349.7 1977.01 L4349.7 1968.86 L4334.1 1968.86 L4334.1 1964.35 L4348.47 1942.45 Z\" fill=\"#000000\" fill-rule=\"evenodd\" fill-opacity=\"1\" /><path clip-path=\"url(#clip460)\" d=\"M4367.82 1973.07 L4375.46 1973.07 L4375.46 1946.71 L4367.15 1948.37 L4367.15 1944.11 L4375.41 1942.45 L4380.09 1942.45 L4380.09 1973.07 L4387.73 1973.07 L4387.73 1977.01 L4367.82 1977.01 L4367.82 1973.07 Z\" fill=\"#000000\" fill-rule=\"evenodd\" fill-opacity=\"1\" /><path clip-path=\"url(#clip460)\" d=\"M4421.45 1958.37 Q4424.81 1959.09 4426.68 1961.36 Q4428.58 1963.63 4428.58 1966.96 Q4428.58 1972.08 4425.06 1974.88 Q4421.54 1977.68 4415.06 1977.68 Q4412.89 1977.68 4410.57 1977.24 Q4408.28 1976.82 4405.83 1975.97 L4405.83 1971.45 Q4407.77 1972.59 4410.08 1973.17 Q4412.4 1973.74 4414.92 1973.74 Q4419.32 1973.74 4421.61 1972.01 Q4423.93 1970.27 4423.93 1966.96 Q4423.93 1963.91 4421.77 1962.19 Q4419.65 1960.46 4415.83 1960.46 L4411.8 1960.46 L4411.8 1956.61 L4416.01 1956.61 Q4419.46 1956.61 4421.29 1955.25 Q4423.12 1953.86 4423.12 1951.27 Q4423.12 1948.61 4421.22 1947.19 Q4419.34 1945.76 4415.83 1945.76 Q4413.9 1945.76 4411.71 1946.17 Q4409.51 1946.59 4406.87 1947.47 L4406.87 1943.3 Q4409.53 1942.56 4411.84 1942.19 Q4414.18 1941.82 4416.24 1941.82 Q4421.57 1941.82 4424.67 1944.25 Q4427.77 1946.66 4427.77 1950.78 Q4427.77 1953.65 4426.13 1955.64 Q4424.48 1957.61 4421.45 1958.37 Z\" fill=\"#000000\" fill-rule=\"evenodd\" fill-opacity=\"1\" /><path clip-path=\"url(#clip460)\" d=\"M4436.27 1942.45 L4458.49 1942.45 L4458.49 1944.44 L4445.94 1977.01 L4441.06 1977.01 L4452.86 1946.38 L4436.27 1946.38 L4436.27 1942.45 Z\" fill=\"#000000\" fill-rule=\"evenodd\" fill-opacity=\"1\" /><path clip-path=\"url(#clip460)\" d=\"M4492.74 1958.37 Q4496.1 1959.09 4497.97 1961.36 Q4499.87 1963.63 4499.87 1966.96 Q4499.87 1972.08 4496.35 1974.88 Q4492.83 1977.68 4486.35 1977.68 Q4484.18 1977.68 4481.86 1977.24 Q4479.57 1976.82 4477.12 1975.97 L4477.12 1971.45 Q4479.06 1972.59 4481.38 1973.17 Q4483.69 1973.74 4486.21 1973.74 Q4490.61 1973.74 4492.9 1972.01 Q4495.22 1970.27 4495.22 1966.96 Q4495.22 1963.91 4493.07 1962.19 Q4490.94 1960.46 4487.12 1960.46 L4483.09 1960.46 L4483.09 1956.61 L4487.3 1956.61 Q4490.75 1956.61 4492.58 1955.25 Q4494.41 1953.86 4494.41 1951.27 Q4494.41 1948.61 4492.51 1947.19 Q4490.63 1945.76 4487.12 1945.76 Q4485.19 1945.76 4483 1946.17 Q4480.8 1946.59 4478.16 1947.47 L4478.16 1943.3 Q4480.82 1942.56 4483.13 1942.19 Q4485.47 1941.82 4487.53 1941.82 Q4492.86 1941.82 4495.96 1944.25 Q4499.06 1946.66 4499.06 1950.78 Q4499.06 1953.65 4497.42 1955.64 Q4495.77 1957.61 4492.74 1958.37 Z\" fill=\"#000000\" fill-rule=\"evenodd\" fill-opacity=\"1\" /><path clip-path=\"url(#clip460)\" d=\"M4508.78 1942.45 L4527.14 1942.45 L4527.14 1946.38 L4513.07 1946.38 L4513.07 1954.86 Q4514.08 1954.51 4515.1 1954.35 Q4516.12 1954.16 4517.14 1954.16 Q4522.93 1954.16 4526.31 1957.33 Q4529.69 1960.5 4529.69 1965.92 Q4529.69 1971.5 4526.21 1974.6 Q4522.74 1977.68 4516.42 1977.68 Q4514.25 1977.68 4511.98 1977.31 Q4509.73 1976.94 4507.32 1976.2 L4507.32 1971.5 Q4509.41 1972.63 4511.63 1973.19 Q4513.85 1973.74 4516.33 1973.74 Q4520.33 1973.74 4522.67 1971.64 Q4525.01 1969.53 4525.01 1965.92 Q4525.01 1962.31 4522.67 1960.2 Q4520.33 1958.1 4516.33 1958.1 Q4514.45 1958.1 4512.58 1958.51 Q4510.73 1958.93 4508.78 1959.81 L4508.78 1942.45 Z\" fill=\"#000000\" fill-rule=\"evenodd\" fill-opacity=\"1\" /><path clip-path=\"url(#clip460)\" d=\"M4563.41 1958.37 Q4566.76 1959.09 4568.64 1961.36 Q4570.54 1963.63 4570.54 1966.96 Q4570.54 1972.08 4567.02 1974.88 Q4563.5 1977.68 4557.02 1977.68 Q4554.84 1977.68 4552.53 1977.24 Q4550.24 1976.82 4547.78 1975.97 L4547.78 1971.45 Q4549.73 1972.59 4552.04 1973.17 Q4554.36 1973.74 4556.88 1973.74 Q4561.28 1973.74 4563.57 1972.01 Q4565.88 1970.27 4565.88 1966.96 Q4565.88 1963.91 4563.73 1962.19 Q4561.6 1960.46 4557.78 1960.46 L4553.75 1960.46 L4553.75 1956.61 L4557.97 1956.61 Q4561.42 1956.61 4563.24 1955.25 Q4565.07 1953.86 4565.07 1951.27 Q4565.07 1948.61 4563.18 1947.19 Q4561.3 1945.76 4557.78 1945.76 Q4555.86 1945.76 4553.66 1946.17 Q4551.46 1946.59 4548.82 1947.47 L4548.82 1943.3 Q4551.49 1942.56 4553.8 1942.19 Q4556.14 1941.82 4558.2 1941.82 Q4563.52 1941.82 4566.62 1944.25 Q4569.73 1946.66 4569.73 1950.78 Q4569.73 1953.65 4568.08 1955.64 Q4566.44 1957.61 4563.41 1958.37 Z\" fill=\"#000000\" fill-rule=\"evenodd\" fill-opacity=\"1\" /><path clip-path=\"url(#clip460)\" d=\"M4589.98 1957.86 Q4586.83 1957.86 4584.98 1960.02 Q4583.15 1962.17 4583.15 1965.92 Q4583.15 1969.65 4584.98 1971.82 Q4586.83 1973.98 4589.98 1973.98 Q4593.13 1973.98 4594.96 1971.82 Q4596.81 1969.65 4596.81 1965.92 Q4596.81 1962.17 4594.96 1960.02 Q4593.13 1957.86 4589.98 1957.86 M4599.26 1943.21 L4599.26 1947.47 Q4597.5 1946.64 4595.7 1946.2 Q4593.92 1945.76 4592.16 1945.76 Q4587.53 1945.76 4585.07 1948.88 Q4582.64 1952.01 4582.3 1958.33 Q4583.66 1956.31 4585.72 1955.25 Q4587.78 1954.16 4590.26 1954.16 Q4595.47 1954.16 4598.48 1957.33 Q4601.51 1960.48 4601.51 1965.92 Q4601.51 1971.24 4598.36 1974.46 Q4595.21 1977.68 4589.98 1977.68 Q4583.99 1977.68 4580.81 1973.1 Q4577.64 1968.49 4577.64 1959.76 Q4577.64 1951.57 4581.53 1946.71 Q4585.42 1941.82 4591.97 1941.82 Q4593.73 1941.82 4595.51 1942.17 Q4597.32 1942.52 4599.26 1943.21 Z\" fill=\"#000000\" fill-rule=\"evenodd\" fill-opacity=\"1\" /><path clip-path=\"url(#clip460)\" d=\"M4634.49 1958.37 Q4637.85 1959.09 4639.72 1961.36 Q4641.62 1963.63 4641.62 1966.96 Q4641.62 1972.08 4638.1 1974.88 Q4634.58 1977.68 4628.1 1977.68 Q4625.92 1977.68 4623.61 1977.24 Q4621.32 1976.82 4618.86 1975.97 L4618.86 1971.45 Q4620.81 1972.59 4623.12 1973.17 Q4625.44 1973.74 4627.96 1973.74 Q4632.36 1973.74 4634.65 1972.01 Q4636.97 1970.27 4636.97 1966.96 Q4636.97 1963.91 4634.81 1962.19 Q4632.68 1960.46 4628.86 1960.46 L4624.84 1960.46 L4624.84 1956.61 L4629.05 1956.61 Q4632.5 1956.61 4634.33 1955.25 Q4636.16 1953.86 4636.16 1951.27 Q4636.16 1948.61 4634.26 1947.19 Q4632.38 1945.76 4628.86 1945.76 Q4626.94 1945.76 4624.74 1946.17 Q4622.54 1946.59 4619.91 1947.47 L4619.91 1943.3 Q4622.57 1942.56 4624.88 1942.19 Q4627.22 1941.82 4629.28 1941.82 Q4634.6 1941.82 4637.71 1944.25 Q4640.81 1946.66 4640.81 1950.78 Q4640.81 1953.65 4639.16 1955.64 Q4637.52 1957.61 4634.49 1958.37 Z\" fill=\"#000000\" fill-rule=\"evenodd\" fill-opacity=\"1\" /><path clip-path=\"url(#clip460)\" d=\"M4663.33 1946.52 L4651.53 1964.97 L4663.33 1964.97 L4663.33 1946.52 M4662.1 1942.45 L4667.98 1942.45 L4667.98 1964.97 L4672.91 1964.97 L4672.91 1968.86 L4667.98 1968.86 L4667.98 1977.01 L4663.33 1977.01 L4663.33 1968.86 L4647.73 1968.86 L4647.73 1964.35 L4662.1 1942.45 Z\" fill=\"#000000\" fill-rule=\"evenodd\" fill-opacity=\"1\" /><path clip-path=\"url(#clip460)\" d=\"M4706.02 1958.37 Q4709.38 1959.09 4711.25 1961.36 Q4713.15 1963.63 4713.15 1966.96 Q4713.15 1972.08 4709.63 1974.88 Q4706.12 1977.68 4699.63 1977.68 Q4697.46 1977.68 4695.14 1977.24 Q4692.85 1976.82 4690.4 1975.97 L4690.4 1971.45 Q4692.34 1972.59 4694.66 1973.17 Q4696.97 1973.74 4699.49 1973.74 Q4703.89 1973.74 4706.18 1972.01 Q4708.5 1970.27 4708.5 1966.96 Q4708.5 1963.91 4706.35 1962.19 Q4704.22 1960.46 4700.4 1960.46 L4696.37 1960.46 L4696.37 1956.61 L4700.58 1956.61 Q4704.03 1956.61 4705.86 1955.25 Q4707.69 1953.86 4707.69 1951.27 Q4707.69 1948.61 4705.79 1947.19 Q4703.92 1945.76 4700.4 1945.76 Q4698.48 1945.76 4696.28 1946.17 Q4694.08 1946.59 4691.44 1947.47 L4691.44 1943.3 Q4694.1 1942.56 4696.42 1942.19 Q4698.75 1941.82 4700.81 1941.82 Q4706.14 1941.82 4709.24 1944.25 Q4712.34 1946.66 4712.34 1950.78 Q4712.34 1953.65 4710.7 1955.64 Q4709.06 1957.61 4706.02 1958.37 Z\" fill=\"#000000\" fill-rule=\"evenodd\" fill-opacity=\"1\" /><path clip-path=\"url(#clip460)\" d=\"M4732.02 1960.6 Q4728.68 1960.6 4726.76 1962.38 Q4724.87 1964.16 4724.87 1967.29 Q4724.87 1970.41 4726.76 1972.19 Q4728.68 1973.98 4732.02 1973.98 Q4735.35 1973.98 4737.27 1972.19 Q4739.19 1970.39 4739.19 1967.29 Q4739.19 1964.16 4737.27 1962.38 Q4735.37 1960.6 4732.02 1960.6 M4727.34 1958.61 Q4724.33 1957.86 4722.64 1955.8 Q4720.98 1953.74 4720.98 1950.78 Q4720.98 1946.64 4723.92 1944.23 Q4726.88 1941.82 4732.02 1941.82 Q4737.18 1941.82 4740.12 1944.23 Q4743.06 1946.64 4743.06 1950.78 Q4743.06 1953.74 4741.37 1955.8 Q4739.7 1957.86 4736.72 1958.61 Q4740.1 1959.39 4741.97 1961.68 Q4743.87 1963.98 4743.87 1967.29 Q4743.87 1972.31 4740.79 1974.99 Q4737.74 1977.68 4732.02 1977.68 Q4726.3 1977.68 4723.22 1974.99 Q4720.17 1972.31 4720.17 1967.29 Q4720.17 1963.98 4722.06 1961.68 Q4723.96 1959.39 4727.34 1958.61 M4725.63 1951.22 Q4725.63 1953.91 4727.3 1955.41 Q4728.99 1956.92 4732.02 1956.92 Q4735.03 1956.92 4736.72 1955.41 Q4738.43 1953.91 4738.43 1951.22 Q4738.43 1948.54 4736.72 1947.03 Q4735.03 1945.53 4732.02 1945.53 Q4728.99 1945.53 4727.3 1947.03 Q4725.63 1948.54 4725.63 1951.22 Z\" fill=\"#000000\" fill-rule=\"evenodd\" fill-opacity=\"1\" /><polyline clip-path=\"url(#clip462)\" style=\"stroke:#000000; stroke-linecap:round; stroke-linejoin:round; stroke-width:2; stroke-opacity:0.1; fill:none\" points=\"\n",
       "  193.121,1895.41 4752.76,1895.41 \n",
       "  \"/>\n",
       "<polyline clip-path=\"url(#clip462)\" style=\"stroke:#000000; stroke-linecap:round; stroke-linejoin:round; stroke-width:2; stroke-opacity:0.1; fill:none\" points=\"\n",
       "  193.121,1325.72 4752.76,1325.72 \n",
       "  \"/>\n",
       "<polyline clip-path=\"url(#clip462)\" style=\"stroke:#000000; stroke-linecap:round; stroke-linejoin:round; stroke-width:2; stroke-opacity:0.1; fill:none\" points=\"\n",
       "  193.121,756.025 4752.76,756.025 \n",
       "  \"/>\n",
       "<polyline clip-path=\"url(#clip462)\" style=\"stroke:#000000; stroke-linecap:round; stroke-linejoin:round; stroke-width:2; stroke-opacity:0.1; fill:none\" points=\"\n",
       "  193.121,186.334 4752.76,186.334 \n",
       "  \"/>\n",
       "<polyline clip-path=\"url(#clip460)\" style=\"stroke:#000000; stroke-linecap:round; stroke-linejoin:round; stroke-width:4; stroke-opacity:1; fill:none\" points=\"\n",
       "  193.121,1895.41 193.121,47.2441 \n",
       "  \"/>\n",
       "<polyline clip-path=\"url(#clip460)\" style=\"stroke:#000000; stroke-linecap:round; stroke-linejoin:round; stroke-width:4; stroke-opacity:1; fill:none\" points=\"\n",
       "  193.121,1895.41 212.019,1895.41 \n",
       "  \"/>\n",
       "<polyline clip-path=\"url(#clip460)\" style=\"stroke:#000000; stroke-linecap:round; stroke-linejoin:round; stroke-width:4; stroke-opacity:1; fill:none\" points=\"\n",
       "  193.121,1325.72 212.019,1325.72 \n",
       "  \"/>\n",
       "<polyline clip-path=\"url(#clip460)\" style=\"stroke:#000000; stroke-linecap:round; stroke-linejoin:round; stroke-width:4; stroke-opacity:1; fill:none\" points=\"\n",
       "  193.121,756.025 212.019,756.025 \n",
       "  \"/>\n",
       "<polyline clip-path=\"url(#clip460)\" style=\"stroke:#000000; stroke-linecap:round; stroke-linejoin:round; stroke-width:4; stroke-opacity:1; fill:none\" points=\"\n",
       "  193.121,186.334 212.019,186.334 \n",
       "  \"/>\n",
       "<path clip-path=\"url(#clip460)\" d=\"M109.177 1881.21 Q105.566 1881.21 103.737 1884.77 Q101.932 1888.31 101.932 1895.44 Q101.932 1902.55 103.737 1906.11 Q105.566 1909.66 109.177 1909.66 Q112.811 1909.66 114.617 1906.11 Q116.445 1902.55 116.445 1895.44 Q116.445 1888.31 114.617 1884.77 Q112.811 1881.21 109.177 1881.21 M109.177 1877.5 Q114.987 1877.5 118.043 1882.11 Q121.121 1886.69 121.121 1895.44 Q121.121 1904.17 118.043 1908.78 Q114.987 1913.36 109.177 1913.36 Q103.367 1913.36 100.288 1908.78 Q97.2326 1904.17 97.2326 1895.44 Q97.2326 1886.69 100.288 1882.11 Q103.367 1877.5 109.177 1877.5 Z\" fill=\"#000000\" fill-rule=\"evenodd\" fill-opacity=\"1\" /><path clip-path=\"url(#clip460)\" d=\"M69.0614 1308.44 L87.4178 1308.44 L87.4178 1312.37 L73.3438 1312.37 L73.3438 1320.84 Q74.3623 1320.5 75.3808 1320.33 Q76.3993 1320.15 77.4178 1320.15 Q83.2049 1320.15 86.5845 1323.32 Q89.9641 1326.49 89.9641 1331.91 Q89.9641 1337.49 86.4919 1340.59 Q83.0197 1343.67 76.7003 1343.67 Q74.5243 1343.67 72.2558 1343.3 Q70.0105 1342.93 67.6031 1342.19 L67.6031 1337.49 Q69.6864 1338.62 71.9086 1339.18 Q74.1308 1339.73 76.6077 1339.73 Q80.6123 1339.73 82.9502 1337.63 Q85.2882 1335.52 85.2882 1331.91 Q85.2882 1328.3 82.9502 1326.19 Q80.6123 1324.08 76.6077 1324.08 Q74.7327 1324.08 72.8577 1324.5 Q71.0058 1324.92 69.0614 1325.8 L69.0614 1308.44 Z\" fill=\"#000000\" fill-rule=\"evenodd\" fill-opacity=\"1\" /><path clip-path=\"url(#clip460)\" d=\"M109.177 1311.52 Q105.566 1311.52 103.737 1315.08 Q101.932 1318.62 101.932 1325.75 Q101.932 1332.86 103.737 1336.42 Q105.566 1339.96 109.177 1339.96 Q112.811 1339.96 114.617 1336.42 Q116.445 1332.86 116.445 1325.75 Q116.445 1318.62 114.617 1315.08 Q112.811 1311.52 109.177 1311.52 M109.177 1307.81 Q114.987 1307.81 118.043 1312.42 Q121.121 1317 121.121 1325.75 Q121.121 1334.48 118.043 1339.08 Q114.987 1343.67 109.177 1343.67 Q103.367 1343.67 100.288 1339.08 Q97.2326 1334.48 97.2326 1325.75 Q97.2326 1317 100.288 1312.42 Q103.367 1307.81 109.177 1307.81 Z\" fill=\"#000000\" fill-rule=\"evenodd\" fill-opacity=\"1\" /><path clip-path=\"url(#clip460)\" d=\"M39.6634 769.37 L47.3023 769.37 L47.3023 743.004 L38.9921 744.671 L38.9921 740.412 L47.256 738.745 L51.9319 738.745 L51.9319 769.37 L59.5707 769.37 L59.5707 773.305 L39.6634 773.305 L39.6634 769.37 Z\" fill=\"#000000\" fill-rule=\"evenodd\" fill-opacity=\"1\" /><path clip-path=\"url(#clip460)\" d=\"M79.0151 741.824 Q75.404 741.824 73.5753 745.389 Q71.7697 748.93 71.7697 756.06 Q71.7697 763.166 73.5753 766.731 Q75.404 770.273 79.0151 770.273 Q82.6493 770.273 84.4548 766.731 Q86.2835 763.166 86.2835 756.06 Q86.2835 748.93 84.4548 745.389 Q82.6493 741.824 79.0151 741.824 M79.0151 738.12 Q84.8252 738.12 87.8808 742.727 Q90.9594 747.31 90.9594 756.06 Q90.9594 764.787 87.8808 769.393 Q84.8252 773.976 79.0151 773.976 Q73.2049 773.976 70.1262 769.393 Q67.0707 764.787 67.0707 756.06 Q67.0707 747.31 70.1262 742.727 Q73.2049 738.12 79.0151 738.12 Z\" fill=\"#000000\" fill-rule=\"evenodd\" fill-opacity=\"1\" /><path clip-path=\"url(#clip460)\" d=\"M109.177 741.824 Q105.566 741.824 103.737 745.389 Q101.932 748.93 101.932 756.06 Q101.932 763.166 103.737 766.731 Q105.566 770.273 109.177 770.273 Q112.811 770.273 114.617 766.731 Q116.445 763.166 116.445 756.06 Q116.445 748.93 114.617 745.389 Q112.811 741.824 109.177 741.824 M109.177 738.12 Q114.987 738.12 118.043 742.727 Q121.121 747.31 121.121 756.06 Q121.121 764.787 118.043 769.393 Q114.987 773.976 109.177 773.976 Q103.367 773.976 100.288 769.393 Q97.2326 764.787 97.2326 756.06 Q97.2326 747.31 100.288 742.727 Q103.367 738.12 109.177 738.12 Z\" fill=\"#000000\" fill-rule=\"evenodd\" fill-opacity=\"1\" /><path clip-path=\"url(#clip460)\" d=\"M39.6634 199.678 L47.3023 199.678 L47.3023 173.313 L38.9921 174.98 L38.9921 170.72 L47.256 169.054 L51.9319 169.054 L51.9319 199.678 L59.5707 199.678 L59.5707 203.614 L39.6634 203.614 L39.6634 199.678 Z\" fill=\"#000000\" fill-rule=\"evenodd\" fill-opacity=\"1\" /><path clip-path=\"url(#clip460)\" d=\"M69.0614 169.054 L87.4178 169.054 L87.4178 172.989 L73.3438 172.989 L73.3438 181.461 Q74.3623 181.114 75.3808 180.952 Q76.3993 180.767 77.4178 180.767 Q83.2049 180.767 86.5845 183.938 Q89.9641 187.109 89.9641 192.526 Q89.9641 198.104 86.4919 201.206 Q83.0197 204.285 76.7003 204.285 Q74.5243 204.285 72.2558 203.915 Q70.0105 203.544 67.6031 202.803 L67.6031 198.104 Q69.6864 199.239 71.9086 199.794 Q74.1308 200.35 76.6077 200.35 Q80.6123 200.35 82.9502 198.243 Q85.2882 196.137 85.2882 192.526 Q85.2882 188.915 82.9502 186.808 Q80.6123 184.702 76.6077 184.702 Q74.7327 184.702 72.8577 185.118 Q71.0058 185.535 69.0614 186.415 L69.0614 169.054 Z\" fill=\"#000000\" fill-rule=\"evenodd\" fill-opacity=\"1\" /><path clip-path=\"url(#clip460)\" d=\"M109.177 172.132 Q105.566 172.132 103.737 175.697 Q101.932 179.239 101.932 186.368 Q101.932 193.475 103.737 197.04 Q105.566 200.581 109.177 200.581 Q112.811 200.581 114.617 197.04 Q116.445 193.475 116.445 186.368 Q116.445 179.239 114.617 175.697 Q112.811 172.132 109.177 172.132 M109.177 168.429 Q114.987 168.429 118.043 173.035 Q121.121 177.618 121.121 186.368 Q121.121 195.095 118.043 199.702 Q114.987 204.285 109.177 204.285 Q103.367 204.285 100.288 199.702 Q97.2326 195.095 97.2326 186.368 Q97.2326 177.618 100.288 173.035 Q103.367 168.429 109.177 168.429 Z\" fill=\"#000000\" fill-rule=\"evenodd\" fill-opacity=\"1\" /><polyline clip-path=\"url(#clip462)\" style=\"stroke:#000000; stroke-linecap:round; stroke-linejoin:round; stroke-width:4; stroke-opacity:1; fill:none\" points=\"\n",
       "  3434.74,1895.41 3434.74,1343.45 3505.98,1343.45 3505.98,1895.41 \n",
       "  \"/>\n",
       "<polyline clip-path=\"url(#clip462)\" style=\"stroke:#000000; stroke-linecap:round; stroke-linejoin:round; stroke-width:4; stroke-opacity:1; fill:none\" points=\"\n",
       "  4075.94,1895.41 4075.94,1291.92 4147.18,1291.92 4147.18,1895.41 \n",
       "  \"/>\n",
       "<polyline clip-path=\"url(#clip462)\" style=\"stroke:#000000; stroke-linecap:round; stroke-linejoin:round; stroke-width:4; stroke-opacity:1; fill:none\" points=\"\n",
       "  4503.4,1895.41 4503.4,1260.35 4574.65,1260.35 4574.65,1895.41 \n",
       "  \"/>\n",
       "<polyline clip-path=\"url(#clip462)\" style=\"stroke:#000000; stroke-linecap:round; stroke-linejoin:round; stroke-width:4; stroke-opacity:1; fill:none\" points=\"\n",
       "  4004.69,1895.41 4004.69,1231.11 4111.56,1231.11 4111.56,1291.92 \n",
       "  \"/>\n",
       "<polyline clip-path=\"url(#clip462)\" style=\"stroke:#000000; stroke-linecap:round; stroke-linejoin:round; stroke-width:4; stroke-opacity:1; fill:none\" points=\"\n",
       "  4432.16,1895.41 4432.16,1162.42 4539.02,1162.42 4539.02,1260.35 \n",
       "  \"/>\n",
       "<polyline clip-path=\"url(#clip462)\" style=\"stroke:#000000; stroke-linecap:round; stroke-linejoin:round; stroke-width:4; stroke-opacity:1; fill:none\" points=\"\n",
       "  2152.34,1895.41 2152.34,1145.06 2223.58,1145.06 2223.58,1895.41 \n",
       "  \"/>\n",
       "<polyline clip-path=\"url(#clip462)\" style=\"stroke:#000000; stroke-linecap:round; stroke-linejoin:round; stroke-width:4; stroke-opacity:1; fill:none\" points=\"\n",
       "  2437.32,1895.41 2437.32,1017.56 2508.56,1017.56 2508.56,1895.41 \n",
       "  \"/>\n",
       "<polyline clip-path=\"url(#clip462)\" style=\"stroke:#000000; stroke-linecap:round; stroke-linejoin:round; stroke-width:4; stroke-opacity:1; fill:none\" points=\"\n",
       "  1154.92,1895.41 1154.92,996.664 1226.16,996.664 1226.16,1895.41 \n",
       "  \"/>\n",
       "<polyline clip-path=\"url(#clip462)\" style=\"stroke:#000000; stroke-linecap:round; stroke-linejoin:round; stroke-width:4; stroke-opacity:1; fill:none\" points=\"\n",
       "  2651.05,1895.41 2651.05,992.034 2722.29,992.034 2722.29,1895.41 \n",
       "  \"/>\n",
       "<polyline clip-path=\"url(#clip462)\" style=\"stroke:#000000; stroke-linecap:round; stroke-linejoin:round; stroke-width:4; stroke-opacity:1; fill:none\" points=\"\n",
       "  3221,1895.41 3221,980.091 3292.25,980.091 3292.25,1895.41 \n",
       "  \"/>\n",
       "<polyline clip-path=\"url(#clip462)\" style=\"stroke:#000000; stroke-linecap:round; stroke-linejoin:round; stroke-width:4; stroke-opacity:1; fill:none\" points=\"\n",
       "  4218.42,1895.41 4218.42,960.762 4289.67,960.762 4289.67,1895.41 \n",
       "  \"/>\n",
       "<polyline clip-path=\"url(#clip462)\" style=\"stroke:#000000; stroke-linecap:round; stroke-linejoin:round; stroke-width:4; stroke-opacity:1; fill:none\" points=\"\n",
       "  1938.61,1895.41 1938.61,948.815 2009.85,948.815 2009.85,1895.41 \n",
       "  \"/>\n",
       "<polyline clip-path=\"url(#clip462)\" style=\"stroke:#000000; stroke-linecap:round; stroke-linejoin:round; stroke-width:4; stroke-opacity:1; fill:none\" points=\"\n",
       "  1511.14,1895.41 1511.14,944.094 1582.38,944.094 1582.38,1895.41 \n",
       "  \"/>\n",
       "<polyline clip-path=\"url(#clip462)\" style=\"stroke:#000000; stroke-linecap:round; stroke-linejoin:round; stroke-width:4; stroke-opacity:1; fill:none\" points=\"\n",
       "  3648.47,1895.41 3648.47,915.013 3719.71,915.013 3719.71,1895.41 \n",
       "  \"/>\n",
       "<polyline clip-path=\"url(#clip462)\" style=\"stroke:#000000; stroke-linecap:round; stroke-linejoin:round; stroke-width:4; stroke-opacity:1; fill:none\" points=\"\n",
       "  2793.54,1895.41 2793.54,914.72 2864.78,914.72 2864.78,1895.41 \n",
       "  \"/>\n",
       "<polyline clip-path=\"url(#clip462)\" style=\"stroke:#000000; stroke-linecap:round; stroke-linejoin:round; stroke-width:4; stroke-opacity:1; fill:none\" points=\"\n",
       "  1083.67,1895.41 1083.67,913.489 1190.54,913.489 1190.54,996.664 \n",
       "  \"/>\n",
       "<polyline clip-path=\"url(#clip462)\" style=\"stroke:#000000; stroke-linecap:round; stroke-linejoin:round; stroke-width:4; stroke-opacity:1; fill:none\" points=\"\n",
       "  2366.07,1895.41 2366.07,882.55 2472.94,882.55 2472.94,1017.56 \n",
       "  \"/>\n",
       "<polyline clip-path=\"url(#clip462)\" style=\"stroke:#000000; stroke-linecap:round; stroke-linejoin:round; stroke-width:4; stroke-opacity:1; fill:none\" points=\"\n",
       "  1297.41,1895.41 1297.41,869.617 1368.65,869.617 1368.65,1895.41 \n",
       "  \"/>\n",
       "<polyline clip-path=\"url(#clip462)\" style=\"stroke:#000000; stroke-linecap:round; stroke-linejoin:round; stroke-width:4; stroke-opacity:1; fill:none\" points=\"\n",
       "  2686.67,992.034 2686.67,867.628 2829.16,867.628 2829.16,914.72 \n",
       "  \"/>\n",
       "<polyline clip-path=\"url(#clip462)\" style=\"stroke:#000000; stroke-linecap:round; stroke-linejoin:round; stroke-width:4; stroke-opacity:1; fill:none\" points=\"\n",
       "  3007.27,1895.41 3007.27,846.263 3078.52,846.263 3078.52,1895.41 \n",
       "  \"/>\n",
       "<polyline clip-path=\"url(#clip462)\" style=\"stroke:#000000; stroke-linecap:round; stroke-linejoin:round; stroke-width:4; stroke-opacity:1; fill:none\" points=\"\n",
       "  3149.76,1895.41 3149.76,843.11 3256.63,843.11 3256.63,980.091 \n",
       "  \"/>\n",
       "<polyline clip-path=\"url(#clip462)\" style=\"stroke:#000000; stroke-linecap:round; stroke-linejoin:round; stroke-width:4; stroke-opacity:1; fill:none\" points=\"\n",
       "  1724.87,1895.41 1724.87,839.971 1796.12,839.971 1796.12,1895.41 \n",
       "  \"/>\n",
       "<polyline clip-path=\"url(#clip462)\" style=\"stroke:#000000; stroke-linecap:round; stroke-linejoin:round; stroke-width:4; stroke-opacity:1; fill:none\" points=\"\n",
       "  727.453,1895.41 727.453,833.58 798.698,833.58 798.698,1895.41 \n",
       "  \"/>\n",
       "<polyline clip-path=\"url(#clip462)\" style=\"stroke:#000000; stroke-linecap:round; stroke-linejoin:round; stroke-width:4; stroke-opacity:1; fill:none\" points=\"\n",
       "  1867.36,1895.41 1867.36,813.032 1974.23,813.032 1974.23,948.815 \n",
       "  \"/>\n",
       "<polyline clip-path=\"url(#clip462)\" style=\"stroke:#000000; stroke-linecap:round; stroke-linejoin:round; stroke-width:4; stroke-opacity:1; fill:none\" points=\"\n",
       "  1137.11,913.489 1137.11,810.122 1333.03,810.122 1333.03,869.617 \n",
       "  \"/>\n",
       "<polyline clip-path=\"url(#clip462)\" style=\"stroke:#000000; stroke-linecap:round; stroke-linejoin:round; stroke-width:4; stroke-opacity:1; fill:none\" points=\"\n",
       "  2579.81,1895.41 2579.81,783.579 2757.92,783.579 2757.92,867.628 \n",
       "  \"/>\n",
       "<polyline clip-path=\"url(#clip462)\" style=\"stroke:#000000; stroke-linecap:round; stroke-linejoin:round; stroke-width:4; stroke-opacity:1; fill:none\" points=\"\n",
       "  3042.89,846.263 3042.89,777.354 3203.19,777.354 3203.19,843.11 \n",
       "  \"/>\n",
       "<polyline clip-path=\"url(#clip462)\" style=\"stroke:#000000; stroke-linecap:round; stroke-linejoin:round; stroke-width:4; stroke-opacity:1; fill:none\" points=\"\n",
       "  1439.9,1895.41 1439.9,773.179 1546.76,773.179 1546.76,944.094 \n",
       "  \"/>\n",
       "<polyline clip-path=\"url(#clip462)\" style=\"stroke:#000000; stroke-linecap:round; stroke-linejoin:round; stroke-width:4; stroke-opacity:1; fill:none\" points=\"\n",
       "  1012.43,1895.41 1012.43,764.663 1235.07,764.663 1235.07,810.122 \n",
       "  \"/>\n",
       "<polyline clip-path=\"url(#clip462)\" style=\"stroke:#000000; stroke-linecap:round; stroke-linejoin:round; stroke-width:4; stroke-opacity:1; fill:none\" points=\"\n",
       "  1653.63,1895.41 1653.63,741.124 1760.5,741.124 1760.5,839.971 \n",
       "  \"/>\n",
       "<polyline clip-path=\"url(#clip462)\" style=\"stroke:#000000; stroke-linecap:round; stroke-linejoin:round; stroke-width:4; stroke-opacity:1; fill:none\" points=\"\n",
       "  3790.96,1895.41 3790.96,720.528 3862.2,720.528 3862.2,1895.41 \n",
       "  \"/>\n",
       "<polyline clip-path=\"url(#clip462)\" style=\"stroke:#000000; stroke-linecap:round; stroke-linejoin:round; stroke-width:4; stroke-opacity:1; fill:none\" points=\"\n",
       "  2419.51,882.55 2419.51,720.349 2668.86,720.349 2668.86,783.579 \n",
       "  \"/>\n",
       "<polyline clip-path=\"url(#clip462)\" style=\"stroke:#000000; stroke-linecap:round; stroke-linejoin:round; stroke-width:4; stroke-opacity:1; fill:none\" points=\"\n",
       "  3363.49,1895.41 3363.49,713.957 3470.36,713.957 3470.36,1343.45 \n",
       "  \"/>\n",
       "<polyline clip-path=\"url(#clip462)\" style=\"stroke:#000000; stroke-linecap:round; stroke-linejoin:round; stroke-width:4; stroke-opacity:1; fill:none\" points=\"\n",
       "  3684.09,915.013 3684.09,711.9 3826.58,711.9 3826.58,720.528 \n",
       "  \"/>\n",
       "<polyline clip-path=\"url(#clip462)\" style=\"stroke:#000000; stroke-linecap:round; stroke-linejoin:round; stroke-width:4; stroke-opacity:1; fill:none\" points=\"\n",
       "  1493.33,773.179 1493.33,703.9 1707.06,703.9 1707.06,741.124 \n",
       "  \"/>\n",
       "<polyline clip-path=\"url(#clip462)\" style=\"stroke:#000000; stroke-linecap:round; stroke-linejoin:round; stroke-width:4; stroke-opacity:1; fill:none\" points=\"\n",
       "  2081.1,1895.41 2081.1,691.659 2187.96,691.659 2187.96,1145.06 \n",
       "  \"/>\n",
       "<polyline clip-path=\"url(#clip462)\" style=\"stroke:#000000; stroke-linecap:round; stroke-linejoin:round; stroke-width:4; stroke-opacity:1; fill:none\" points=\"\n",
       "  869.942,1895.41 869.942,679.628 941.186,679.628 941.186,1895.41 \n",
       "  \"/>\n",
       "<polyline clip-path=\"url(#clip462)\" style=\"stroke:#000000; stroke-linecap:round; stroke-linejoin:round; stroke-width:4; stroke-opacity:1; fill:none\" points=\"\n",
       "  3577.23,1895.41 3577.23,675.961 3755.34,675.961 3755.34,711.9 \n",
       "  \"/>\n",
       "<polyline clip-path=\"url(#clip462)\" style=\"stroke:#000000; stroke-linecap:round; stroke-linejoin:round; stroke-width:4; stroke-opacity:1; fill:none\" points=\"\n",
       "  1920.8,813.032 1920.8,672.184 2134.53,672.184 2134.53,691.659 \n",
       "  \"/>\n",
       "<polyline clip-path=\"url(#clip462)\" style=\"stroke:#000000; stroke-linecap:round; stroke-linejoin:round; stroke-width:4; stroke-opacity:1; fill:none\" points=\"\n",
       "  3933.45,1895.41 3933.45,669.813 4058.12,669.813 4058.12,1231.11 \n",
       "  \"/>\n",
       "<polyline clip-path=\"url(#clip462)\" style=\"stroke:#000000; stroke-linecap:round; stroke-linejoin:round; stroke-width:4; stroke-opacity:1; fill:none\" points=\"\n",
       "  228.743,1895.41 228.743,666.44 299.988,666.44 299.988,1895.41 \n",
       "  \"/>\n",
       "<polyline clip-path=\"url(#clip462)\" style=\"stroke:#000000; stroke-linecap:round; stroke-linejoin:round; stroke-width:4; stroke-opacity:1; fill:none\" points=\"\n",
       "  1123.75,764.663 1123.75,666.034 1600.2,666.034 1600.2,703.9 \n",
       "  \"/>\n",
       "<polyline clip-path=\"url(#clip462)\" style=\"stroke:#000000; stroke-linecap:round; stroke-linejoin:round; stroke-width:4; stroke-opacity:1; fill:none\" points=\"\n",
       "  3123.04,777.354 3123.04,644.784 3416.93,644.784 3416.93,713.957 \n",
       "  \"/>\n",
       "<polyline clip-path=\"url(#clip462)\" style=\"stroke:#000000; stroke-linecap:round; stroke-linejoin:round; stroke-width:4; stroke-opacity:1; fill:none\" points=\"\n",
       "  4645.89,1895.41 4645.89,642.664 4717.13,642.664 4717.13,1895.41 \n",
       "  \"/>\n",
       "<polyline clip-path=\"url(#clip462)\" style=\"stroke:#000000; stroke-linecap:round; stroke-linejoin:round; stroke-width:4; stroke-opacity:1; fill:none\" points=\"\n",
       "  2294.83,1895.41 2294.83,638.957 2544.18,638.957 2544.18,720.349 \n",
       "  \"/>\n",
       "<polyline clip-path=\"url(#clip462)\" style=\"stroke:#000000; stroke-linecap:round; stroke-linejoin:round; stroke-width:4; stroke-opacity:1; fill:none\" points=\"\n",
       "  371.232,1895.41 371.232,611.256 442.476,611.256 442.476,1895.41 \n",
       "  \"/>\n",
       "<polyline clip-path=\"url(#clip462)\" style=\"stroke:#000000; stroke-linecap:round; stroke-linejoin:round; stroke-width:4; stroke-opacity:1; fill:none\" points=\"\n",
       "  4485.59,1162.42 4485.59,604.76 4681.51,604.76 4681.51,642.664 \n",
       "  \"/>\n",
       "<polyline clip-path=\"url(#clip462)\" style=\"stroke:#000000; stroke-linecap:round; stroke-linejoin:round; stroke-width:4; stroke-opacity:1; fill:none\" points=\"\n",
       "  584.965,1895.41 584.965,572.221 656.209,572.221 656.209,1895.41 \n",
       "  \"/>\n",
       "<polyline clip-path=\"url(#clip462)\" style=\"stroke:#000000; stroke-linecap:round; stroke-linejoin:round; stroke-width:4; stroke-opacity:1; fill:none\" points=\"\n",
       "  264.366,666.44 264.366,570.312 406.854,570.312 406.854,611.256 \n",
       "  \"/>\n",
       "<polyline clip-path=\"url(#clip462)\" style=\"stroke:#000000; stroke-linecap:round; stroke-linejoin:round; stroke-width:4; stroke-opacity:1; fill:none\" points=\"\n",
       "  905.564,679.628 905.564,570.265 1361.97,570.265 1361.97,666.034 \n",
       "  \"/>\n",
       "<polyline clip-path=\"url(#clip462)\" style=\"stroke:#000000; stroke-linecap:round; stroke-linejoin:round; stroke-width:4; stroke-opacity:1; fill:none\" points=\"\n",
       "  2027.66,672.184 2027.66,544.737 2419.51,544.737 2419.51,638.957 \n",
       "  \"/>\n",
       "<polyline clip-path=\"url(#clip462)\" style=\"stroke:#000000; stroke-linecap:round; stroke-linejoin:round; stroke-width:4; stroke-opacity:1; fill:none\" points=\"\n",
       "  4360.91,1895.41 4360.91,487.179 4583.55,487.179 4583.55,604.76 \n",
       "  \"/>\n",
       "<polyline clip-path=\"url(#clip462)\" style=\"stroke:#000000; stroke-linecap:round; stroke-linejoin:round; stroke-width:4; stroke-opacity:1; fill:none\" points=\"\n",
       "  1133.77,570.265 1133.77,480.297 2223.58,480.297 2223.58,544.737 \n",
       "  \"/>\n",
       "<polyline clip-path=\"url(#clip462)\" style=\"stroke:#000000; stroke-linecap:round; stroke-linejoin:round; stroke-width:4; stroke-opacity:1; fill:none\" points=\"\n",
       "  3666.28,675.961 3666.28,468.466 3995.79,468.466 3995.79,669.813 \n",
       "  \"/>\n",
       "<polyline clip-path=\"url(#clip462)\" style=\"stroke:#000000; stroke-linecap:round; stroke-linejoin:round; stroke-width:4; stroke-opacity:1; fill:none\" points=\"\n",
       "  763.076,833.58 763.076,435.073 1678.68,435.073 1678.68,480.297 \n",
       "  \"/>\n",
       "<polyline clip-path=\"url(#clip462)\" style=\"stroke:#000000; stroke-linecap:round; stroke-linejoin:round; stroke-width:4; stroke-opacity:1; fill:none\" points=\"\n",
       "  513.721,1895.41 513.721,427.951 620.587,427.951 620.587,572.221 \n",
       "  \"/>\n",
       "<polyline clip-path=\"url(#clip462)\" style=\"stroke:#000000; stroke-linecap:round; stroke-linejoin:round; stroke-width:4; stroke-opacity:1; fill:none\" points=\"\n",
       "  335.61,570.312 335.61,417.681 567.154,417.681 567.154,427.951 \n",
       "  \"/>\n",
       "<polyline clip-path=\"url(#clip462)\" style=\"stroke:#000000; stroke-linecap:round; stroke-linejoin:round; stroke-width:4; stroke-opacity:1; fill:none\" points=\"\n",
       "  4254.05,960.762 4254.05,403.417 4472.23,403.417 4472.23,487.179 \n",
       "  \"/>\n",
       "<polyline clip-path=\"url(#clip462)\" style=\"stroke:#000000; stroke-linecap:round; stroke-linejoin:round; stroke-width:4; stroke-opacity:1; fill:none\" points=\"\n",
       "  2936.03,1895.41 2936.03,399.304 3269.98,399.304 3269.98,644.784 \n",
       "  \"/>\n",
       "<polyline clip-path=\"url(#clip462)\" style=\"stroke:#000000; stroke-linecap:round; stroke-linejoin:round; stroke-width:4; stroke-opacity:1; fill:none\" points=\"\n",
       "  1220.88,435.073 1220.88,328.035 3103.01,328.035 3103.01,399.304 \n",
       "  \"/>\n",
       "<polyline clip-path=\"url(#clip462)\" style=\"stroke:#000000; stroke-linecap:round; stroke-linejoin:round; stroke-width:4; stroke-opacity:1; fill:none\" points=\"\n",
       "  451.382,417.681 451.382,286.062 2161.94,286.062 2161.94,328.035 \n",
       "  \"/>\n",
       "<polyline clip-path=\"url(#clip462)\" style=\"stroke:#000000; stroke-linecap:round; stroke-linejoin:round; stroke-width:4; stroke-opacity:1; fill:none\" points=\"\n",
       "  3831.03,468.466 3831.03,266.981 4363.14,266.981 4363.14,403.417 \n",
       "  \"/>\n",
       "<polyline clip-path=\"url(#clip462)\" style=\"stroke:#000000; stroke-linecap:round; stroke-linejoin:round; stroke-width:4; stroke-opacity:1; fill:none\" points=\"\n",
       "  1306.66,286.062 1306.66,47.2441 4097.09,47.2441 4097.09,266.981 \n",
       "  \"/>\n",
       "</svg>\n"
      ]
     },
     "execution_count": 30,
     "metadata": {},
     "output_type": "execute_result"
    }
   ],
   "source": [
    "#Plotting Complete Linkage Dendogram\n",
    "using StatsPlots\n",
    "euc_dist = pairwise(Euclidean(), dt_std3, dt_std3)\n",
    "hc_complete = hclust(euc_dist::AbstractMatrix; linkage=:complete) \n",
    "StatsPlots.gr(size = (1200, 500));\n",
    "for i in 1:64 \n",
    "    print(hc_complete.order[i], \" : \", df3_y.x[hc_complete.order[i]], \", \")\n",
    "end\n",
    "StatsPlots.plot(hc_complete)\n"
   ]
  },
  {
   "cell_type": "code",
   "execution_count": 31,
   "id": "170940f5",
   "metadata": {},
   "outputs": [
    {
     "name": "stdout",
     "output_type": "stream",
     "text": [
      "41 : LEUKEMIA, 39 : LEUKEMIA, 40 : LEUKEMIA, 34 : LEUKEMIA, 38 : LEUKEMIA, 37 : LEUKEMIA, 35 : K562B-repro, 36 : K562A-repro, 20 : RENAL, 55 : NSCLC, 18 : BREAST, 19 : NSCLC, 52 : BREAST, 49 : MCF7A-repro, 50 : BREAST, 51 : MCF7D-repro, 47 : COLON, 43 : COLON, 48 : COLON, 4 : RENAL, 59 : MELANOMA, 56 : MELANOMA, 57 : BREAST, 58 : BREAST, 63 : MELANOMA, 64 : MELANOMA, 62 : MELANOMA, 60 : MELANOMA, 61 : MELANOMA, 25 : OVARIAN, 26 : OVARIAN, 10 : NSCLC, 28 : OVARIAN, 21 : UNKNOWN, 22 : OVARIAN, 9 : NSCLC, 23 : MELANOMA, 3 : CNS, 1 : CNS, 2 : CNS, 11 : RENAL, 14 : RENAL, 15 : RENAL, 16 : RENAL, 17 : RENAL, 12 : RENAL, 13 : RENAL, 24 : PROSTATE, 54 : NSCLC, 31 : NSCLC, 32 : NSCLC, 33 : NSCLC, 29 : OVARIAN, 30 : PROSTATE, 53 : NSCLC, 45 : COLON, 46 : COLON, 27 : OVARIAN, 42 : COLON, 44 : COLON, 7 : CNS, 6 : CNS, 5 : BREAST, 8 : BREAST, "
     ]
    },
    {
     "data": {
      "image/svg+xml": [
       "<?xml version=\"1.0\" encoding=\"utf-8\"?>\n",
       "<svg xmlns=\"http://www.w3.org/2000/svg\" xmlns:xlink=\"http://www.w3.org/1999/xlink\" width=\"1200\" height=\"500\" viewBox=\"0 0 4800 2000\">\n",
       "<defs>\n",
       "  <clipPath id=\"clip500\">\n",
       "    <rect x=\"0\" y=\"0\" width=\"4800\" height=\"2000\"/>\n",
       "  </clipPath>\n",
       "</defs>\n",
       "<path clip-path=\"url(#clip500)\" d=\"\n",
       "M0 2000 L4800 2000 L4800 0 L0 0  Z\n",
       "  \" fill=\"#ffffff\" fill-rule=\"evenodd\" fill-opacity=\"1\"/>\n",
       "<defs>\n",
       "  <clipPath id=\"clip501\">\n",
       "    <rect x=\"960\" y=\"0\" width=\"3361\" height=\"2000\"/>\n",
       "  </clipPath>\n",
       "</defs>\n",
       "<path clip-path=\"url(#clip500)\" d=\"\n",
       "M193.121 1895.41 L4752.76 1895.41 L4752.76 47.2441 L193.121 47.2441  Z\n",
       "  \" fill=\"#ffffff\" fill-rule=\"evenodd\" fill-opacity=\"1\"/>\n",
       "<defs>\n",
       "  <clipPath id=\"clip502\">\n",
       "    <rect x=\"193\" y=\"47\" width=\"4561\" height=\"1849\"/>\n",
       "  </clipPath>\n",
       "</defs>\n",
       "<polyline clip-path=\"url(#clip500)\" style=\"stroke:#000000; stroke-linecap:round; stroke-linejoin:round; stroke-width:4; stroke-opacity:1; fill:none\" points=\"\n",
       "  193.121,1895.41 4752.76,1895.41 \n",
       "  \"/>\n",
       "<polyline clip-path=\"url(#clip500)\" style=\"stroke:#ffffff; stroke-linecap:round; stroke-linejoin:round; stroke-width:4; stroke-opacity:1; fill:none\" points=\"\n",
       "  228.743,1895.41 228.743,1876.51 \n",
       "  \"/>\n",
       "<polyline clip-path=\"url(#clip500)\" style=\"stroke:#ffffff; stroke-linecap:round; stroke-linejoin:round; stroke-width:4; stroke-opacity:1; fill:none\" points=\"\n",
       "  299.988,1895.41 299.988,1876.51 \n",
       "  \"/>\n",
       "<polyline clip-path=\"url(#clip500)\" style=\"stroke:#ffffff; stroke-linecap:round; stroke-linejoin:round; stroke-width:4; stroke-opacity:1; fill:none\" points=\"\n",
       "  371.232,1895.41 371.232,1876.51 \n",
       "  \"/>\n",
       "<polyline clip-path=\"url(#clip500)\" style=\"stroke:#ffffff; stroke-linecap:round; stroke-linejoin:round; stroke-width:4; stroke-opacity:1; fill:none\" points=\"\n",
       "  442.476,1895.41 442.476,1876.51 \n",
       "  \"/>\n",
       "<polyline clip-path=\"url(#clip500)\" style=\"stroke:#ffffff; stroke-linecap:round; stroke-linejoin:round; stroke-width:4; stroke-opacity:1; fill:none\" points=\"\n",
       "  513.721,1895.41 513.721,1876.51 \n",
       "  \"/>\n",
       "<polyline clip-path=\"url(#clip500)\" style=\"stroke:#ffffff; stroke-linecap:round; stroke-linejoin:round; stroke-width:4; stroke-opacity:1; fill:none\" points=\"\n",
       "  584.965,1895.41 584.965,1876.51 \n",
       "  \"/>\n",
       "<polyline clip-path=\"url(#clip500)\" style=\"stroke:#ffffff; stroke-linecap:round; stroke-linejoin:round; stroke-width:4; stroke-opacity:1; fill:none\" points=\"\n",
       "  656.209,1895.41 656.209,1876.51 \n",
       "  \"/>\n",
       "<polyline clip-path=\"url(#clip500)\" style=\"stroke:#ffffff; stroke-linecap:round; stroke-linejoin:round; stroke-width:4; stroke-opacity:1; fill:none\" points=\"\n",
       "  727.453,1895.41 727.453,1876.51 \n",
       "  \"/>\n",
       "<polyline clip-path=\"url(#clip500)\" style=\"stroke:#ffffff; stroke-linecap:round; stroke-linejoin:round; stroke-width:4; stroke-opacity:1; fill:none\" points=\"\n",
       "  798.698,1895.41 798.698,1876.51 \n",
       "  \"/>\n",
       "<polyline clip-path=\"url(#clip500)\" style=\"stroke:#ffffff; stroke-linecap:round; stroke-linejoin:round; stroke-width:4; stroke-opacity:1; fill:none\" points=\"\n",
       "  869.942,1895.41 869.942,1876.51 \n",
       "  \"/>\n",
       "<polyline clip-path=\"url(#clip500)\" style=\"stroke:#ffffff; stroke-linecap:round; stroke-linejoin:round; stroke-width:4; stroke-opacity:1; fill:none\" points=\"\n",
       "  941.186,1895.41 941.186,1876.51 \n",
       "  \"/>\n",
       "<polyline clip-path=\"url(#clip500)\" style=\"stroke:#ffffff; stroke-linecap:round; stroke-linejoin:round; stroke-width:4; stroke-opacity:1; fill:none\" points=\"\n",
       "  1012.43,1895.41 1012.43,1876.51 \n",
       "  \"/>\n",
       "<polyline clip-path=\"url(#clip500)\" style=\"stroke:#ffffff; stroke-linecap:round; stroke-linejoin:round; stroke-width:4; stroke-opacity:1; fill:none\" points=\"\n",
       "  1083.67,1895.41 1083.67,1876.51 \n",
       "  \"/>\n",
       "<polyline clip-path=\"url(#clip500)\" style=\"stroke:#ffffff; stroke-linecap:round; stroke-linejoin:round; stroke-width:4; stroke-opacity:1; fill:none\" points=\"\n",
       "  1154.92,1895.41 1154.92,1876.51 \n",
       "  \"/>\n",
       "<polyline clip-path=\"url(#clip500)\" style=\"stroke:#ffffff; stroke-linecap:round; stroke-linejoin:round; stroke-width:4; stroke-opacity:1; fill:none\" points=\"\n",
       "  1226.16,1895.41 1226.16,1876.51 \n",
       "  \"/>\n",
       "<polyline clip-path=\"url(#clip500)\" style=\"stroke:#ffffff; stroke-linecap:round; stroke-linejoin:round; stroke-width:4; stroke-opacity:1; fill:none\" points=\"\n",
       "  1297.41,1895.41 1297.41,1876.51 \n",
       "  \"/>\n",
       "<polyline clip-path=\"url(#clip500)\" style=\"stroke:#ffffff; stroke-linecap:round; stroke-linejoin:round; stroke-width:4; stroke-opacity:1; fill:none\" points=\"\n",
       "  1368.65,1895.41 1368.65,1876.51 \n",
       "  \"/>\n",
       "<polyline clip-path=\"url(#clip500)\" style=\"stroke:#ffffff; stroke-linecap:round; stroke-linejoin:round; stroke-width:4; stroke-opacity:1; fill:none\" points=\"\n",
       "  1439.9,1895.41 1439.9,1876.51 \n",
       "  \"/>\n",
       "<polyline clip-path=\"url(#clip500)\" style=\"stroke:#ffffff; stroke-linecap:round; stroke-linejoin:round; stroke-width:4; stroke-opacity:1; fill:none\" points=\"\n",
       "  1511.14,1895.41 1511.14,1876.51 \n",
       "  \"/>\n",
       "<polyline clip-path=\"url(#clip500)\" style=\"stroke:#ffffff; stroke-linecap:round; stroke-linejoin:round; stroke-width:4; stroke-opacity:1; fill:none\" points=\"\n",
       "  1582.38,1895.41 1582.38,1876.51 \n",
       "  \"/>\n",
       "<polyline clip-path=\"url(#clip500)\" style=\"stroke:#ffffff; stroke-linecap:round; stroke-linejoin:round; stroke-width:4; stroke-opacity:1; fill:none\" points=\"\n",
       "  1653.63,1895.41 1653.63,1876.51 \n",
       "  \"/>\n",
       "<polyline clip-path=\"url(#clip500)\" style=\"stroke:#ffffff; stroke-linecap:round; stroke-linejoin:round; stroke-width:4; stroke-opacity:1; fill:none\" points=\"\n",
       "  1724.87,1895.41 1724.87,1876.51 \n",
       "  \"/>\n",
       "<polyline clip-path=\"url(#clip500)\" style=\"stroke:#ffffff; stroke-linecap:round; stroke-linejoin:round; stroke-width:4; stroke-opacity:1; fill:none\" points=\"\n",
       "  1796.12,1895.41 1796.12,1876.51 \n",
       "  \"/>\n",
       "<polyline clip-path=\"url(#clip500)\" style=\"stroke:#ffffff; stroke-linecap:round; stroke-linejoin:round; stroke-width:4; stroke-opacity:1; fill:none\" points=\"\n",
       "  1867.36,1895.41 1867.36,1876.51 \n",
       "  \"/>\n",
       "<polyline clip-path=\"url(#clip500)\" style=\"stroke:#ffffff; stroke-linecap:round; stroke-linejoin:round; stroke-width:4; stroke-opacity:1; fill:none\" points=\"\n",
       "  1938.61,1895.41 1938.61,1876.51 \n",
       "  \"/>\n",
       "<polyline clip-path=\"url(#clip500)\" style=\"stroke:#ffffff; stroke-linecap:round; stroke-linejoin:round; stroke-width:4; stroke-opacity:1; fill:none\" points=\"\n",
       "  2009.85,1895.41 2009.85,1876.51 \n",
       "  \"/>\n",
       "<polyline clip-path=\"url(#clip500)\" style=\"stroke:#ffffff; stroke-linecap:round; stroke-linejoin:round; stroke-width:4; stroke-opacity:1; fill:none\" points=\"\n",
       "  2081.1,1895.41 2081.1,1876.51 \n",
       "  \"/>\n",
       "<polyline clip-path=\"url(#clip500)\" style=\"stroke:#ffffff; stroke-linecap:round; stroke-linejoin:round; stroke-width:4; stroke-opacity:1; fill:none\" points=\"\n",
       "  2152.34,1895.41 2152.34,1876.51 \n",
       "  \"/>\n",
       "<polyline clip-path=\"url(#clip500)\" style=\"stroke:#ffffff; stroke-linecap:round; stroke-linejoin:round; stroke-width:4; stroke-opacity:1; fill:none\" points=\"\n",
       "  2223.58,1895.41 2223.58,1876.51 \n",
       "  \"/>\n",
       "<polyline clip-path=\"url(#clip500)\" style=\"stroke:#ffffff; stroke-linecap:round; stroke-linejoin:round; stroke-width:4; stroke-opacity:1; fill:none\" points=\"\n",
       "  2294.83,1895.41 2294.83,1876.51 \n",
       "  \"/>\n",
       "<polyline clip-path=\"url(#clip500)\" style=\"stroke:#ffffff; stroke-linecap:round; stroke-linejoin:round; stroke-width:4; stroke-opacity:1; fill:none\" points=\"\n",
       "  2366.07,1895.41 2366.07,1876.51 \n",
       "  \"/>\n",
       "<polyline clip-path=\"url(#clip500)\" style=\"stroke:#ffffff; stroke-linecap:round; stroke-linejoin:round; stroke-width:4; stroke-opacity:1; fill:none\" points=\"\n",
       "  2437.32,1895.41 2437.32,1876.51 \n",
       "  \"/>\n",
       "<polyline clip-path=\"url(#clip500)\" style=\"stroke:#ffffff; stroke-linecap:round; stroke-linejoin:round; stroke-width:4; stroke-opacity:1; fill:none\" points=\"\n",
       "  2508.56,1895.41 2508.56,1876.51 \n",
       "  \"/>\n",
       "<polyline clip-path=\"url(#clip500)\" style=\"stroke:#ffffff; stroke-linecap:round; stroke-linejoin:round; stroke-width:4; stroke-opacity:1; fill:none\" points=\"\n",
       "  2579.81,1895.41 2579.81,1876.51 \n",
       "  \"/>\n",
       "<polyline clip-path=\"url(#clip500)\" style=\"stroke:#ffffff; stroke-linecap:round; stroke-linejoin:round; stroke-width:4; stroke-opacity:1; fill:none\" points=\"\n",
       "  2651.05,1895.41 2651.05,1876.51 \n",
       "  \"/>\n",
       "<polyline clip-path=\"url(#clip500)\" style=\"stroke:#ffffff; stroke-linecap:round; stroke-linejoin:round; stroke-width:4; stroke-opacity:1; fill:none\" points=\"\n",
       "  2722.29,1895.41 2722.29,1876.51 \n",
       "  \"/>\n",
       "<polyline clip-path=\"url(#clip500)\" style=\"stroke:#ffffff; stroke-linecap:round; stroke-linejoin:round; stroke-width:4; stroke-opacity:1; fill:none\" points=\"\n",
       "  2793.54,1895.41 2793.54,1876.51 \n",
       "  \"/>\n",
       "<polyline clip-path=\"url(#clip500)\" style=\"stroke:#ffffff; stroke-linecap:round; stroke-linejoin:round; stroke-width:4; stroke-opacity:1; fill:none\" points=\"\n",
       "  2864.78,1895.41 2864.78,1876.51 \n",
       "  \"/>\n",
       "<polyline clip-path=\"url(#clip500)\" style=\"stroke:#ffffff; stroke-linecap:round; stroke-linejoin:round; stroke-width:4; stroke-opacity:1; fill:none\" points=\"\n",
       "  2936.03,1895.41 2936.03,1876.51 \n",
       "  \"/>\n",
       "<polyline clip-path=\"url(#clip500)\" style=\"stroke:#ffffff; stroke-linecap:round; stroke-linejoin:round; stroke-width:4; stroke-opacity:1; fill:none\" points=\"\n",
       "  3007.27,1895.41 3007.27,1876.51 \n",
       "  \"/>\n",
       "<polyline clip-path=\"url(#clip500)\" style=\"stroke:#ffffff; stroke-linecap:round; stroke-linejoin:round; stroke-width:4; stroke-opacity:1; fill:none\" points=\"\n",
       "  3078.52,1895.41 3078.52,1876.51 \n",
       "  \"/>\n",
       "<polyline clip-path=\"url(#clip500)\" style=\"stroke:#ffffff; stroke-linecap:round; stroke-linejoin:round; stroke-width:4; stroke-opacity:1; fill:none\" points=\"\n",
       "  3149.76,1895.41 3149.76,1876.51 \n",
       "  \"/>\n",
       "<polyline clip-path=\"url(#clip500)\" style=\"stroke:#ffffff; stroke-linecap:round; stroke-linejoin:round; stroke-width:4; stroke-opacity:1; fill:none\" points=\"\n",
       "  3221,1895.41 3221,1876.51 \n",
       "  \"/>\n",
       "<polyline clip-path=\"url(#clip500)\" style=\"stroke:#ffffff; stroke-linecap:round; stroke-linejoin:round; stroke-width:4; stroke-opacity:1; fill:none\" points=\"\n",
       "  3292.25,1895.41 3292.25,1876.51 \n",
       "  \"/>\n",
       "<polyline clip-path=\"url(#clip500)\" style=\"stroke:#ffffff; stroke-linecap:round; stroke-linejoin:round; stroke-width:4; stroke-opacity:1; fill:none\" points=\"\n",
       "  3363.49,1895.41 3363.49,1876.51 \n",
       "  \"/>\n",
       "<polyline clip-path=\"url(#clip500)\" style=\"stroke:#ffffff; stroke-linecap:round; stroke-linejoin:round; stroke-width:4; stroke-opacity:1; fill:none\" points=\"\n",
       "  3434.74,1895.41 3434.74,1876.51 \n",
       "  \"/>\n",
       "<polyline clip-path=\"url(#clip500)\" style=\"stroke:#ffffff; stroke-linecap:round; stroke-linejoin:round; stroke-width:4; stroke-opacity:1; fill:none\" points=\"\n",
       "  3505.98,1895.41 3505.98,1876.51 \n",
       "  \"/>\n",
       "<polyline clip-path=\"url(#clip500)\" style=\"stroke:#ffffff; stroke-linecap:round; stroke-linejoin:round; stroke-width:4; stroke-opacity:1; fill:none\" points=\"\n",
       "  3577.23,1895.41 3577.23,1876.51 \n",
       "  \"/>\n",
       "<polyline clip-path=\"url(#clip500)\" style=\"stroke:#ffffff; stroke-linecap:round; stroke-linejoin:round; stroke-width:4; stroke-opacity:1; fill:none\" points=\"\n",
       "  3648.47,1895.41 3648.47,1876.51 \n",
       "  \"/>\n",
       "<polyline clip-path=\"url(#clip500)\" style=\"stroke:#ffffff; stroke-linecap:round; stroke-linejoin:round; stroke-width:4; stroke-opacity:1; fill:none\" points=\"\n",
       "  3719.71,1895.41 3719.71,1876.51 \n",
       "  \"/>\n",
       "<polyline clip-path=\"url(#clip500)\" style=\"stroke:#ffffff; stroke-linecap:round; stroke-linejoin:round; stroke-width:4; stroke-opacity:1; fill:none\" points=\"\n",
       "  3790.96,1895.41 3790.96,1876.51 \n",
       "  \"/>\n",
       "<polyline clip-path=\"url(#clip500)\" style=\"stroke:#ffffff; stroke-linecap:round; stroke-linejoin:round; stroke-width:4; stroke-opacity:1; fill:none\" points=\"\n",
       "  3862.2,1895.41 3862.2,1876.51 \n",
       "  \"/>\n",
       "<polyline clip-path=\"url(#clip500)\" style=\"stroke:#ffffff; stroke-linecap:round; stroke-linejoin:round; stroke-width:4; stroke-opacity:1; fill:none\" points=\"\n",
       "  3933.45,1895.41 3933.45,1876.51 \n",
       "  \"/>\n",
       "<polyline clip-path=\"url(#clip500)\" style=\"stroke:#ffffff; stroke-linecap:round; stroke-linejoin:round; stroke-width:4; stroke-opacity:1; fill:none\" points=\"\n",
       "  4004.69,1895.41 4004.69,1876.51 \n",
       "  \"/>\n",
       "<polyline clip-path=\"url(#clip500)\" style=\"stroke:#ffffff; stroke-linecap:round; stroke-linejoin:round; stroke-width:4; stroke-opacity:1; fill:none\" points=\"\n",
       "  4075.94,1895.41 4075.94,1876.51 \n",
       "  \"/>\n",
       "<polyline clip-path=\"url(#clip500)\" style=\"stroke:#ffffff; stroke-linecap:round; stroke-linejoin:round; stroke-width:4; stroke-opacity:1; fill:none\" points=\"\n",
       "  4147.18,1895.41 4147.18,1876.51 \n",
       "  \"/>\n",
       "<polyline clip-path=\"url(#clip500)\" style=\"stroke:#ffffff; stroke-linecap:round; stroke-linejoin:round; stroke-width:4; stroke-opacity:1; fill:none\" points=\"\n",
       "  4218.42,1895.41 4218.42,1876.51 \n",
       "  \"/>\n",
       "<polyline clip-path=\"url(#clip500)\" style=\"stroke:#ffffff; stroke-linecap:round; stroke-linejoin:round; stroke-width:4; stroke-opacity:1; fill:none\" points=\"\n",
       "  4289.67,1895.41 4289.67,1876.51 \n",
       "  \"/>\n",
       "<polyline clip-path=\"url(#clip500)\" style=\"stroke:#ffffff; stroke-linecap:round; stroke-linejoin:round; stroke-width:4; stroke-opacity:1; fill:none\" points=\"\n",
       "  4360.91,1895.41 4360.91,1876.51 \n",
       "  \"/>\n",
       "<polyline clip-path=\"url(#clip500)\" style=\"stroke:#ffffff; stroke-linecap:round; stroke-linejoin:round; stroke-width:4; stroke-opacity:1; fill:none\" points=\"\n",
       "  4432.16,1895.41 4432.16,1876.51 \n",
       "  \"/>\n",
       "<polyline clip-path=\"url(#clip500)\" style=\"stroke:#ffffff; stroke-linecap:round; stroke-linejoin:round; stroke-width:4; stroke-opacity:1; fill:none\" points=\"\n",
       "  4503.4,1895.41 4503.4,1876.51 \n",
       "  \"/>\n",
       "<polyline clip-path=\"url(#clip500)\" style=\"stroke:#ffffff; stroke-linecap:round; stroke-linejoin:round; stroke-width:4; stroke-opacity:1; fill:none\" points=\"\n",
       "  4574.65,1895.41 4574.65,1876.51 \n",
       "  \"/>\n",
       "<polyline clip-path=\"url(#clip500)\" style=\"stroke:#ffffff; stroke-linecap:round; stroke-linejoin:round; stroke-width:4; stroke-opacity:1; fill:none\" points=\"\n",
       "  4645.89,1895.41 4645.89,1876.51 \n",
       "  \"/>\n",
       "<polyline clip-path=\"url(#clip500)\" style=\"stroke:#ffffff; stroke-linecap:round; stroke-linejoin:round; stroke-width:4; stroke-opacity:1; fill:none\" points=\"\n",
       "  4717.13,1895.41 4717.13,1876.51 \n",
       "  \"/>\n",
       "<path clip-path=\"url(#clip500)\" d=\"M217.528 1946.52 L205.723 1964.97 L217.528 1964.97 L217.528 1946.52 M216.301 1942.45 L222.181 1942.45 L222.181 1964.97 L227.112 1964.97 L227.112 1968.86 L222.181 1968.86 L222.181 1977.01 L217.528 1977.01 L217.528 1968.86 L201.926 1968.86 L201.926 1964.35 L216.301 1942.45 Z\" fill=\"#000000\" fill-rule=\"evenodd\" fill-opacity=\"1\" /><path clip-path=\"url(#clip500)\" d=\"M235.653 1973.07 L243.292 1973.07 L243.292 1946.71 L234.982 1948.37 L234.982 1944.11 L243.246 1942.45 L247.922 1942.45 L247.922 1973.07 L255.56 1973.07 L255.56 1977.01 L235.653 1977.01 L235.653 1973.07 Z\" fill=\"#000000\" fill-rule=\"evenodd\" fill-opacity=\"1\" /><path clip-path=\"url(#clip500)\" d=\"M288.923 1958.37 Q292.279 1959.09 294.154 1961.36 Q296.053 1963.63 296.053 1966.96 Q296.053 1972.08 292.534 1974.88 Q289.016 1977.68 282.534 1977.68 Q280.358 1977.68 278.043 1977.24 Q275.752 1976.82 273.298 1975.97 L273.298 1971.45 Q275.243 1972.59 277.557 1973.17 Q279.872 1973.74 282.395 1973.74 Q286.793 1973.74 289.085 1972.01 Q291.4 1970.27 291.4 1966.96 Q291.4 1963.91 289.247 1962.19 Q287.117 1960.46 283.298 1960.46 L279.27 1960.46 L279.27 1956.61 L283.483 1956.61 Q286.932 1956.61 288.761 1955.25 Q290.59 1953.86 290.59 1951.27 Q290.59 1948.61 288.692 1947.19 Q286.817 1945.76 283.298 1945.76 Q281.377 1945.76 279.178 1946.17 Q276.979 1946.59 274.34 1947.47 L274.34 1943.3 Q277.002 1942.56 279.317 1942.19 Q281.655 1941.82 283.715 1941.82 Q289.039 1941.82 292.141 1944.25 Q295.242 1946.66 295.242 1950.78 Q295.242 1953.65 293.599 1955.64 Q291.955 1957.61 288.923 1958.37 Z\" fill=\"#000000\" fill-rule=\"evenodd\" fill-opacity=\"1\" /><path clip-path=\"url(#clip500)\" d=\"M305.057 1976.29 L305.057 1972.03 Q306.816 1972.86 308.622 1973.3 Q310.428 1973.74 312.164 1973.74 Q316.793 1973.74 319.224 1970.64 Q321.677 1967.52 322.025 1961.17 Q320.682 1963.17 318.622 1964.23 Q316.562 1965.29 314.062 1965.29 Q308.877 1965.29 305.844 1962.17 Q302.835 1959.02 302.835 1953.58 Q302.835 1948.26 305.983 1945.04 Q309.131 1941.82 314.363 1941.82 Q320.358 1941.82 323.506 1946.43 Q326.677 1951.01 326.677 1959.76 Q326.677 1967.93 322.789 1972.82 Q318.923 1977.68 312.372 1977.68 Q310.613 1977.68 308.807 1977.33 Q307.002 1976.98 305.057 1976.29 M314.363 1961.64 Q317.511 1961.64 319.339 1959.48 Q321.191 1957.33 321.191 1953.58 Q321.191 1949.86 319.339 1947.7 Q317.511 1945.53 314.363 1945.53 Q311.215 1945.53 309.363 1947.7 Q307.534 1949.86 307.534 1953.58 Q307.534 1957.33 309.363 1959.48 Q311.215 1961.64 314.363 1961.64 Z\" fill=\"#000000\" fill-rule=\"evenodd\" fill-opacity=\"1\" /><path clip-path=\"url(#clip500)\" d=\"M359.403 1946.52 L347.598 1964.97 L359.403 1964.97 L359.403 1946.52 M358.177 1942.45 L364.056 1942.45 L364.056 1964.97 L368.987 1964.97 L368.987 1968.86 L364.056 1968.86 L364.056 1977.01 L359.403 1977.01 L359.403 1968.86 L343.802 1968.86 L343.802 1964.35 L358.177 1942.45 Z\" fill=\"#000000\" fill-rule=\"evenodd\" fill-opacity=\"1\" /><path clip-path=\"url(#clip500)\" d=\"M386.718 1945.53 Q383.107 1945.53 381.278 1949.09 Q379.473 1952.63 379.473 1959.76 Q379.473 1966.87 381.278 1970.43 Q383.107 1973.98 386.718 1973.98 Q390.352 1973.98 392.158 1970.43 Q393.987 1966.87 393.987 1959.76 Q393.987 1952.63 392.158 1949.09 Q390.352 1945.53 386.718 1945.53 M386.718 1941.82 Q392.528 1941.82 395.584 1946.43 Q398.662 1951.01 398.662 1959.76 Q398.662 1968.49 395.584 1973.1 Q392.528 1977.68 386.718 1977.68 Q380.908 1977.68 377.829 1973.1 Q374.774 1968.49 374.774 1959.76 Q374.774 1951.01 377.829 1946.43 Q380.908 1941.82 386.718 1941.82 Z\" fill=\"#000000\" fill-rule=\"evenodd\" fill-opacity=\"1\" /><path clip-path=\"url(#clip500)\" d=\"M431.076 1958.37 Q434.432 1959.09 436.307 1961.36 Q438.206 1963.63 438.206 1966.96 Q438.206 1972.08 434.687 1974.88 Q431.169 1977.68 424.687 1977.68 Q422.511 1977.68 420.196 1977.24 Q417.905 1976.82 415.451 1975.97 L415.451 1971.45 Q417.395 1972.59 419.71 1973.17 Q422.025 1973.74 424.548 1973.74 Q428.946 1973.74 431.238 1972.01 Q433.553 1970.27 433.553 1966.96 Q433.553 1963.91 431.4 1962.19 Q429.27 1960.46 425.451 1960.46 L421.423 1960.46 L421.423 1956.61 L425.636 1956.61 Q429.085 1956.61 430.914 1955.25 Q432.743 1953.86 432.743 1951.27 Q432.743 1948.61 430.844 1947.19 Q428.969 1945.76 425.451 1945.76 Q423.53 1945.76 421.331 1946.17 Q419.132 1946.59 416.493 1947.47 L416.493 1943.3 Q419.155 1942.56 421.47 1942.19 Q423.807 1941.82 425.868 1941.82 Q431.192 1941.82 434.294 1944.25 Q437.395 1946.66 437.395 1950.78 Q437.395 1953.65 435.752 1955.64 Q434.108 1957.61 431.076 1958.37 Z\" fill=\"#000000\" fill-rule=\"evenodd\" fill-opacity=\"1\" /><path clip-path=\"url(#clip500)\" d=\"M459.918 1946.52 L448.113 1964.97 L459.918 1964.97 L459.918 1946.52 M458.692 1942.45 L464.571 1942.45 L464.571 1964.97 L469.502 1964.97 L469.502 1968.86 L464.571 1968.86 L464.571 1977.01 L459.918 1977.01 L459.918 1968.86 L444.317 1968.86 L444.317 1964.35 L458.692 1942.45 Z\" fill=\"#000000\" fill-rule=\"evenodd\" fill-opacity=\"1\" /><path clip-path=\"url(#clip500)\" d=\"M502.61 1958.37 Q505.966 1959.09 507.841 1961.36 Q509.739 1963.63 509.739 1966.96 Q509.739 1972.08 506.221 1974.88 Q502.702 1977.68 496.221 1977.68 Q494.045 1977.68 491.73 1977.24 Q489.438 1976.82 486.985 1975.97 L486.985 1971.45 Q488.929 1972.59 491.244 1973.17 Q493.559 1973.74 496.082 1973.74 Q500.48 1973.74 502.772 1972.01 Q505.086 1970.27 505.086 1966.96 Q505.086 1963.91 502.934 1962.19 Q500.804 1960.46 496.985 1960.46 L492.957 1960.46 L492.957 1956.61 L497.17 1956.61 Q500.619 1956.61 502.448 1955.25 Q504.276 1953.86 504.276 1951.27 Q504.276 1948.61 502.378 1947.19 Q500.503 1945.76 496.985 1945.76 Q495.063 1945.76 492.864 1946.17 Q490.665 1946.59 488.026 1947.47 L488.026 1943.3 Q490.688 1942.56 493.003 1942.19 Q495.341 1941.82 497.401 1941.82 Q502.725 1941.82 505.827 1944.25 Q508.929 1946.66 508.929 1950.78 Q508.929 1953.65 507.285 1955.64 Q505.642 1957.61 502.61 1958.37 Z\" fill=\"#000000\" fill-rule=\"evenodd\" fill-opacity=\"1\" /><path clip-path=\"url(#clip500)\" d=\"M528.605 1960.6 Q525.271 1960.6 523.35 1962.38 Q521.452 1964.16 521.452 1967.29 Q521.452 1970.41 523.35 1972.19 Q525.271 1973.98 528.605 1973.98 Q531.938 1973.98 533.859 1972.19 Q535.781 1970.39 535.781 1967.29 Q535.781 1964.16 533.859 1962.38 Q531.961 1960.6 528.605 1960.6 M523.929 1958.61 Q520.92 1957.86 519.23 1955.8 Q517.563 1953.74 517.563 1950.78 Q517.563 1946.64 520.503 1944.23 Q523.466 1941.82 528.605 1941.82 Q533.767 1941.82 536.707 1944.23 Q539.646 1946.64 539.646 1950.78 Q539.646 1953.74 537.957 1955.8 Q536.29 1957.86 533.304 1958.61 Q536.683 1959.39 538.558 1961.68 Q540.457 1963.98 540.457 1967.29 Q540.457 1972.31 537.378 1974.99 Q534.322 1977.68 528.605 1977.68 Q522.887 1977.68 519.809 1974.99 Q516.753 1972.31 516.753 1967.29 Q516.753 1963.98 518.651 1961.68 Q520.549 1959.39 523.929 1958.61 M522.216 1951.22 Q522.216 1953.91 523.883 1955.41 Q525.572 1956.92 528.605 1956.92 Q531.614 1956.92 533.304 1955.41 Q535.017 1953.91 535.017 1951.22 Q535.017 1948.54 533.304 1947.03 Q531.614 1945.53 528.605 1945.53 Q525.572 1945.53 523.883 1947.03 Q522.216 1948.54 522.216 1951.22 Z\" fill=\"#000000\" fill-rule=\"evenodd\" fill-opacity=\"1\" /><path clip-path=\"url(#clip500)\" d=\"M574.259 1958.37 Q577.615 1959.09 579.49 1961.36 Q581.389 1963.63 581.389 1966.96 Q581.389 1972.08 577.87 1974.88 Q574.352 1977.68 567.87 1977.68 Q565.694 1977.68 563.379 1977.24 Q561.088 1976.82 558.634 1975.97 L558.634 1971.45 Q560.578 1972.59 562.893 1973.17 Q565.208 1973.74 567.731 1973.74 Q572.129 1973.74 574.421 1972.01 Q576.736 1970.27 576.736 1966.96 Q576.736 1963.91 574.583 1962.19 Q572.453 1960.46 568.634 1960.46 L564.606 1960.46 L564.606 1956.61 L568.819 1956.61 Q572.268 1956.61 574.097 1955.25 Q575.926 1953.86 575.926 1951.27 Q575.926 1948.61 574.027 1947.19 Q572.152 1945.76 568.634 1945.76 Q566.713 1945.76 564.514 1946.17 Q562.315 1946.59 559.676 1947.47 L559.676 1943.3 Q562.338 1942.56 564.653 1942.19 Q566.99 1941.82 569.051 1941.82 Q574.375 1941.82 577.477 1944.25 Q580.578 1946.66 580.578 1950.78 Q580.578 1953.65 578.935 1955.64 Q577.291 1957.61 574.259 1958.37 Z\" fill=\"#000000\" fill-rule=\"evenodd\" fill-opacity=\"1\" /><path clip-path=\"url(#clip500)\" d=\"M589.074 1942.45 L611.296 1942.45 L611.296 1944.44 L598.75 1977.01 L593.865 1977.01 L605.671 1946.38 L589.074 1946.38 L589.074 1942.45 Z\" fill=\"#000000\" fill-rule=\"evenodd\" fill-opacity=\"1\" /><path clip-path=\"url(#clip500)\" d=\"M645.55 1958.37 Q648.906 1959.09 650.781 1961.36 Q652.679 1963.63 652.679 1966.96 Q652.679 1972.08 649.161 1974.88 Q645.642 1977.68 639.161 1977.68 Q636.985 1977.68 634.67 1977.24 Q632.378 1976.82 629.925 1975.97 L629.925 1971.45 Q631.869 1972.59 634.184 1973.17 Q636.499 1973.74 639.022 1973.74 Q643.42 1973.74 645.712 1972.01 Q648.026 1970.27 648.026 1966.96 Q648.026 1963.91 645.874 1962.19 Q643.744 1960.46 639.925 1960.46 L635.897 1960.46 L635.897 1956.61 L640.11 1956.61 Q643.559 1956.61 645.388 1955.25 Q647.216 1953.86 647.216 1951.27 Q647.216 1948.61 645.318 1947.19 Q643.443 1945.76 639.925 1945.76 Q638.003 1945.76 635.804 1946.17 Q633.605 1946.59 630.966 1947.47 L630.966 1943.3 Q633.628 1942.56 635.943 1942.19 Q638.281 1941.82 640.341 1941.82 Q645.665 1941.82 648.767 1944.25 Q651.869 1946.66 651.869 1950.78 Q651.869 1953.65 650.225 1955.64 Q648.582 1957.61 645.55 1958.37 Z\" fill=\"#000000\" fill-rule=\"evenodd\" fill-opacity=\"1\" /><path clip-path=\"url(#clip500)\" d=\"M661.591 1942.45 L679.948 1942.45 L679.948 1946.38 L665.874 1946.38 L665.874 1954.86 Q666.892 1954.51 667.911 1954.35 Q668.929 1954.16 669.948 1954.16 Q675.735 1954.16 679.114 1957.33 Q682.494 1960.5 682.494 1965.92 Q682.494 1971.5 679.022 1974.6 Q675.549 1977.68 669.23 1977.68 Q667.054 1977.68 664.786 1977.31 Q662.54 1976.94 660.133 1976.2 L660.133 1971.5 Q662.216 1972.63 664.438 1973.19 Q666.661 1973.74 669.137 1973.74 Q673.142 1973.74 675.48 1971.64 Q677.818 1969.53 677.818 1965.92 Q677.818 1962.31 675.48 1960.2 Q673.142 1958.1 669.137 1958.1 Q667.262 1958.1 665.387 1958.51 Q663.536 1958.93 661.591 1959.81 L661.591 1942.45 Z\" fill=\"#000000\" fill-rule=\"evenodd\" fill-opacity=\"1\" /><path clip-path=\"url(#clip500)\" d=\"M716.215 1958.37 Q719.572 1959.09 721.447 1961.36 Q723.345 1963.63 723.345 1966.96 Q723.345 1972.08 719.826 1974.88 Q716.308 1977.68 709.826 1977.68 Q707.65 1977.68 705.336 1977.24 Q703.044 1976.82 700.59 1975.97 L700.59 1971.45 Q702.535 1972.59 704.849 1973.17 Q707.164 1973.74 709.687 1973.74 Q714.086 1973.74 716.377 1972.01 Q718.692 1970.27 718.692 1966.96 Q718.692 1963.91 716.539 1962.19 Q714.41 1960.46 710.59 1960.46 L706.562 1960.46 L706.562 1956.61 L710.775 1956.61 Q714.224 1956.61 716.053 1955.25 Q717.882 1953.86 717.882 1951.27 Q717.882 1948.61 715.984 1947.19 Q714.109 1945.76 710.59 1945.76 Q708.669 1945.76 706.47 1946.17 Q704.271 1946.59 701.632 1947.47 L701.632 1943.3 Q704.294 1942.56 706.609 1942.19 Q708.947 1941.82 711.007 1941.82 Q716.331 1941.82 719.433 1944.25 Q722.535 1946.66 722.535 1950.78 Q722.535 1953.65 720.891 1955.64 Q719.248 1957.61 716.215 1958.37 Z\" fill=\"#000000\" fill-rule=\"evenodd\" fill-opacity=\"1\" /><path clip-path=\"url(#clip500)\" d=\"M742.789 1957.86 Q739.641 1957.86 737.789 1960.02 Q735.96 1962.17 735.96 1965.92 Q735.96 1969.65 737.789 1971.82 Q739.641 1973.98 742.789 1973.98 Q745.937 1973.98 747.766 1971.82 Q749.618 1969.65 749.618 1965.92 Q749.618 1962.17 747.766 1960.02 Q745.937 1957.86 742.789 1957.86 M752.071 1943.21 L752.071 1947.47 Q750.312 1946.64 748.507 1946.2 Q746.724 1945.76 744.965 1945.76 Q740.335 1945.76 737.882 1948.88 Q735.451 1952.01 735.104 1958.33 Q736.47 1956.31 738.53 1955.25 Q740.59 1954.16 743.067 1954.16 Q748.275 1954.16 751.284 1957.33 Q754.317 1960.48 754.317 1965.92 Q754.317 1971.24 751.169 1974.46 Q748.021 1977.68 742.789 1977.68 Q736.794 1977.68 733.622 1973.1 Q730.451 1968.49 730.451 1959.76 Q730.451 1951.57 734.34 1946.71 Q738.229 1941.82 744.78 1941.82 Q746.539 1941.82 748.321 1942.17 Q750.127 1942.52 752.071 1943.21 Z\" fill=\"#000000\" fill-rule=\"evenodd\" fill-opacity=\"1\" /><path clip-path=\"url(#clip500)\" d=\"M777.471 1973.07 L793.79 1973.07 L793.79 1977.01 L771.846 1977.01 L771.846 1973.07 Q774.508 1970.32 779.091 1965.69 Q783.698 1961.04 784.878 1959.69 Q787.124 1957.17 788.003 1955.43 Q788.906 1953.67 788.906 1951.98 Q788.906 1949.23 786.962 1947.49 Q785.04 1945.76 781.939 1945.76 Q779.74 1945.76 777.286 1946.52 Q774.855 1947.29 772.078 1948.84 L772.078 1944.11 Q774.902 1942.98 777.355 1942.4 Q779.809 1941.82 781.846 1941.82 Q787.216 1941.82 790.411 1944.51 Q793.605 1947.19 793.605 1951.68 Q793.605 1953.81 792.795 1955.73 Q792.008 1957.63 789.902 1960.23 Q789.323 1960.9 786.221 1964.11 Q783.119 1967.31 777.471 1973.07 Z\" fill=\"#000000\" fill-rule=\"evenodd\" fill-opacity=\"1\" /><path clip-path=\"url(#clip500)\" d=\"M813.605 1945.53 Q809.994 1945.53 808.165 1949.09 Q806.36 1952.63 806.36 1959.76 Q806.36 1966.87 808.165 1970.43 Q809.994 1973.98 813.605 1973.98 Q817.239 1973.98 819.045 1970.43 Q820.874 1966.87 820.874 1959.76 Q820.874 1952.63 819.045 1949.09 Q817.239 1945.53 813.605 1945.53 M813.605 1941.82 Q819.415 1941.82 822.471 1946.43 Q825.549 1951.01 825.549 1959.76 Q825.549 1968.49 822.471 1973.1 Q819.415 1977.68 813.605 1977.68 Q807.795 1977.68 804.716 1973.1 Q801.661 1968.49 801.661 1959.76 Q801.661 1951.01 804.716 1946.43 Q807.795 1941.82 813.605 1941.82 Z\" fill=\"#000000\" fill-rule=\"evenodd\" fill-opacity=\"1\" /><path clip-path=\"url(#clip500)\" d=\"M845.139 1942.45 L863.495 1942.45 L863.495 1946.38 L849.421 1946.38 L849.421 1954.86 Q850.44 1954.51 851.458 1954.35 Q852.477 1954.16 853.495 1954.16 Q859.282 1954.16 862.662 1957.33 Q866.042 1960.5 866.042 1965.92 Q866.042 1971.5 862.569 1974.6 Q859.097 1977.68 852.778 1977.68 Q850.602 1977.68 848.333 1977.31 Q846.088 1976.94 843.681 1976.2 L843.681 1971.5 Q845.764 1972.63 847.986 1973.19 Q850.208 1973.74 852.685 1973.74 Q856.69 1973.74 859.028 1971.64 Q861.366 1969.53 861.366 1965.92 Q861.366 1962.31 859.028 1960.2 Q856.69 1958.1 852.685 1958.1 Q850.81 1958.1 848.935 1958.51 Q847.083 1958.93 845.139 1959.81 L845.139 1942.45 Z\" fill=\"#000000\" fill-rule=\"evenodd\" fill-opacity=\"1\" /><path clip-path=\"url(#clip500)\" d=\"M875.301 1942.45 L893.657 1942.45 L893.657 1946.38 L879.583 1946.38 L879.583 1954.86 Q880.602 1954.51 881.62 1954.35 Q882.639 1954.16 883.657 1954.16 Q889.444 1954.16 892.824 1957.33 Q896.204 1960.5 896.204 1965.92 Q896.204 1971.5 892.731 1974.6 Q889.259 1977.68 882.94 1977.68 Q880.764 1977.68 878.495 1977.31 Q876.25 1976.94 873.843 1976.2 L873.843 1971.5 Q875.926 1972.63 878.148 1973.19 Q880.37 1973.74 882.847 1973.74 Q886.852 1973.74 889.19 1971.64 Q891.528 1969.53 891.528 1965.92 Q891.528 1962.31 889.19 1960.2 Q886.852 1958.1 882.847 1958.1 Q880.972 1958.1 879.097 1958.51 Q877.245 1958.93 875.301 1959.81 L875.301 1942.45 Z\" fill=\"#000000\" fill-rule=\"evenodd\" fill-opacity=\"1\" /><path clip-path=\"url(#clip500)\" d=\"M915.92 1973.07 L923.559 1973.07 L923.559 1946.71 L915.249 1948.37 L915.249 1944.11 L923.513 1942.45 L928.189 1942.45 L928.189 1973.07 L935.828 1973.07 L935.828 1977.01 L915.92 1977.01 L915.92 1973.07 Z\" fill=\"#000000\" fill-rule=\"evenodd\" fill-opacity=\"1\" /><path clip-path=\"url(#clip500)\" d=\"M955.272 1960.6 Q951.939 1960.6 950.017 1962.38 Q948.119 1964.16 948.119 1967.29 Q948.119 1970.41 950.017 1972.19 Q951.939 1973.98 955.272 1973.98 Q958.605 1973.98 960.527 1972.19 Q962.448 1970.39 962.448 1967.29 Q962.448 1964.16 960.527 1962.38 Q958.628 1960.6 955.272 1960.6 M950.596 1958.61 Q947.587 1957.86 945.897 1955.8 Q944.23 1953.74 944.23 1950.78 Q944.23 1946.64 947.17 1944.23 Q950.133 1941.82 955.272 1941.82 Q960.434 1941.82 963.374 1944.23 Q966.314 1946.64 966.314 1950.78 Q966.314 1953.74 964.624 1955.8 Q962.957 1957.86 959.971 1958.61 Q963.351 1959.39 965.226 1961.68 Q967.124 1963.98 967.124 1967.29 Q967.124 1972.31 964.045 1974.99 Q960.99 1977.68 955.272 1977.68 Q949.554 1977.68 946.476 1974.99 Q943.42 1972.31 943.42 1967.29 Q943.42 1963.98 945.318 1961.68 Q947.216 1959.39 950.596 1958.61 M948.883 1951.22 Q948.883 1953.91 950.55 1955.41 Q952.24 1956.92 955.272 1956.92 Q958.281 1956.92 959.971 1955.41 Q961.684 1953.91 961.684 1951.22 Q961.684 1948.54 959.971 1947.03 Q958.281 1945.53 955.272 1945.53 Q952.24 1945.53 950.55 1947.03 Q948.883 1948.54 948.883 1951.22 Z\" fill=\"#000000\" fill-rule=\"evenodd\" fill-opacity=\"1\" /><path clip-path=\"url(#clip500)\" d=\"M987.211 1973.07 L994.85 1973.07 L994.85 1946.71 L986.54 1948.37 L986.54 1944.11 L994.803 1942.45 L999.479 1942.45 L999.479 1973.07 L1007.12 1973.07 L1007.12 1977.01 L987.211 1977.01 L987.211 1973.07 Z\" fill=\"#000000\" fill-rule=\"evenodd\" fill-opacity=\"1\" /><path clip-path=\"url(#clip500)\" d=\"M1016.7 1976.29 L1016.7 1972.03 Q1018.46 1972.86 1020.27 1973.3 Q1022.07 1973.74 1023.81 1973.74 Q1028.44 1973.74 1030.87 1970.64 Q1033.32 1967.52 1033.67 1961.17 Q1032.33 1963.17 1030.27 1964.23 Q1028.21 1965.29 1025.71 1965.29 Q1020.52 1965.29 1017.49 1962.17 Q1014.48 1959.02 1014.48 1953.58 Q1014.48 1948.26 1017.63 1945.04 Q1020.78 1941.82 1026.01 1941.82 Q1032 1941.82 1035.15 1946.43 Q1038.32 1951.01 1038.32 1959.76 Q1038.32 1967.93 1034.43 1972.82 Q1030.57 1977.68 1024.02 1977.68 Q1022.26 1977.68 1020.45 1977.33 Q1018.65 1976.98 1016.7 1976.29 M1026.01 1961.64 Q1029.16 1961.64 1030.98 1959.48 Q1032.84 1957.33 1032.84 1953.58 Q1032.84 1949.86 1030.98 1947.7 Q1029.16 1945.53 1026.01 1945.53 Q1022.86 1945.53 1021.01 1947.7 Q1019.18 1949.86 1019.18 1953.58 Q1019.18 1957.33 1021.01 1959.48 Q1022.86 1961.64 1026.01 1961.64 Z\" fill=\"#000000\" fill-rule=\"evenodd\" fill-opacity=\"1\" /><path clip-path=\"url(#clip500)\" d=\"M1059.17 1942.45 L1077.53 1942.45 L1077.53 1946.38 L1063.46 1946.38 L1063.46 1954.86 Q1064.47 1954.51 1065.49 1954.35 Q1066.51 1954.16 1067.53 1954.16 Q1073.32 1954.16 1076.7 1957.33 Q1080.08 1960.5 1080.08 1965.92 Q1080.08 1971.5 1076.6 1974.6 Q1073.13 1977.68 1066.81 1977.68 Q1064.64 1977.68 1062.37 1977.31 Q1060.12 1976.94 1057.71 1976.2 L1057.71 1971.5 Q1059.8 1972.63 1062.02 1973.19 Q1064.24 1973.74 1066.72 1973.74 Q1070.72 1973.74 1073.06 1971.64 Q1075.4 1969.53 1075.4 1965.92 Q1075.4 1962.31 1073.06 1960.2 Q1070.72 1958.1 1066.72 1958.1 Q1064.84 1958.1 1062.97 1958.51 Q1061.12 1958.93 1059.17 1959.81 L1059.17 1942.45 Z\" fill=\"#000000\" fill-rule=\"evenodd\" fill-opacity=\"1\" /><path clip-path=\"url(#clip500)\" d=\"M1093.32 1973.07 L1109.64 1973.07 L1109.64 1977.01 L1087.69 1977.01 L1087.69 1973.07 Q1090.35 1970.32 1094.94 1965.69 Q1099.54 1961.04 1100.72 1959.69 Q1102.97 1957.17 1103.85 1955.43 Q1104.75 1953.67 1104.75 1951.98 Q1104.75 1949.23 1102.81 1947.49 Q1100.89 1945.76 1097.78 1945.76 Q1095.58 1945.76 1093.13 1946.52 Q1090.7 1947.29 1087.92 1948.84 L1087.92 1944.11 Q1090.75 1942.98 1093.2 1942.4 Q1095.65 1941.82 1097.69 1941.82 Q1103.06 1941.82 1106.26 1944.51 Q1109.45 1947.19 1109.45 1951.68 Q1109.45 1953.81 1108.64 1955.73 Q1107.85 1957.63 1105.75 1960.23 Q1105.17 1960.9 1102.07 1964.11 Q1098.96 1967.31 1093.32 1973.07 Z\" fill=\"#000000\" fill-rule=\"evenodd\" fill-opacity=\"1\" /><path clip-path=\"url(#clip500)\" d=\"M1143.18 1946.52 L1131.38 1964.97 L1143.18 1964.97 L1143.18 1946.52 M1141.96 1942.45 L1147.84 1942.45 L1147.84 1964.97 L1152.77 1964.97 L1152.77 1968.86 L1147.84 1968.86 L1147.84 1977.01 L1143.18 1977.01 L1143.18 1968.86 L1127.58 1968.86 L1127.58 1964.35 L1141.96 1942.45 Z\" fill=\"#000000\" fill-rule=\"evenodd\" fill-opacity=\"1\" /><path clip-path=\"url(#clip500)\" d=\"M1160.64 1976.29 L1160.64 1972.03 Q1162.4 1972.86 1164.2 1973.3 Q1166.01 1973.74 1167.74 1973.74 Q1172.37 1973.74 1174.8 1970.64 Q1177.26 1967.52 1177.6 1961.17 Q1176.26 1963.17 1174.2 1964.23 Q1172.14 1965.29 1169.64 1965.29 Q1164.46 1965.29 1161.42 1962.17 Q1158.41 1959.02 1158.41 1953.58 Q1158.41 1948.26 1161.56 1945.04 Q1164.71 1941.82 1169.94 1941.82 Q1175.94 1941.82 1179.09 1946.43 Q1182.26 1951.01 1182.26 1959.76 Q1182.26 1967.93 1178.37 1972.82 Q1174.5 1977.68 1167.95 1977.68 Q1166.19 1977.68 1164.39 1977.33 Q1162.58 1976.98 1160.64 1976.29 M1169.94 1961.64 Q1173.09 1961.64 1174.92 1959.48 Q1176.77 1957.33 1176.77 1953.58 Q1176.77 1949.86 1174.92 1947.7 Q1173.09 1945.53 1169.94 1945.53 Q1166.79 1945.53 1164.94 1947.7 Q1163.11 1949.86 1163.11 1953.58 Q1163.11 1957.33 1164.94 1959.48 Q1166.79 1961.64 1169.94 1961.64 Z\" fill=\"#000000\" fill-rule=\"evenodd\" fill-opacity=\"1\" /><path clip-path=\"url(#clip500)\" d=\"M1200.86 1942.45 L1219.22 1942.45 L1219.22 1946.38 L1205.15 1946.38 L1205.15 1954.86 Q1206.16 1954.51 1207.18 1954.35 Q1208.2 1954.16 1209.22 1954.16 Q1215.01 1954.16 1218.39 1957.33 Q1221.77 1960.5 1221.77 1965.92 Q1221.77 1971.5 1218.29 1974.6 Q1214.82 1977.68 1208.5 1977.68 Q1206.33 1977.68 1204.06 1977.31 Q1201.81 1976.94 1199.4 1976.2 L1199.4 1971.5 Q1201.49 1972.63 1203.71 1973.19 Q1205.93 1973.74 1208.41 1973.74 Q1212.41 1973.74 1214.75 1971.64 Q1217.09 1969.53 1217.09 1965.92 Q1217.09 1962.31 1214.75 1960.2 Q1212.41 1958.1 1208.41 1958.1 Q1206.53 1958.1 1204.66 1958.51 Q1202.81 1958.93 1200.86 1959.81 L1200.86 1942.45 Z\" fill=\"#000000\" fill-rule=\"evenodd\" fill-opacity=\"1\" /><path clip-path=\"url(#clip500)\" d=\"M1240.98 1945.53 Q1237.37 1945.53 1235.54 1949.09 Q1233.73 1952.63 1233.73 1959.76 Q1233.73 1966.87 1235.54 1970.43 Q1237.37 1973.98 1240.98 1973.98 Q1244.61 1973.98 1246.42 1970.43 Q1248.25 1966.87 1248.25 1959.76 Q1248.25 1952.63 1246.42 1949.09 Q1244.61 1945.53 1240.98 1945.53 M1240.98 1941.82 Q1246.79 1941.82 1249.84 1946.43 Q1252.92 1951.01 1252.92 1959.76 Q1252.92 1968.49 1249.84 1973.1 Q1246.79 1977.68 1240.98 1977.68 Q1235.17 1977.68 1232.09 1973.1 Q1229.03 1968.49 1229.03 1959.76 Q1229.03 1951.01 1232.09 1946.43 Q1235.17 1941.82 1240.98 1941.82 Z\" fill=\"#000000\" fill-rule=\"evenodd\" fill-opacity=\"1\" /><path clip-path=\"url(#clip500)\" d=\"M1272.72 1942.45 L1291.08 1942.45 L1291.08 1946.38 L1277 1946.38 L1277 1954.86 Q1278.02 1954.51 1279.04 1954.35 Q1280.06 1954.16 1281.08 1954.16 Q1286.86 1954.16 1290.24 1957.33 Q1293.62 1960.5 1293.62 1965.92 Q1293.62 1971.5 1290.15 1974.6 Q1286.68 1977.68 1280.36 1977.68 Q1278.18 1977.68 1275.91 1977.31 Q1273.67 1976.94 1271.26 1976.2 L1271.26 1971.5 Q1273.35 1972.63 1275.57 1973.19 Q1277.79 1973.74 1280.27 1973.74 Q1284.27 1973.74 1286.61 1971.64 Q1288.95 1969.53 1288.95 1965.92 Q1288.95 1962.31 1286.61 1960.2 Q1284.27 1958.1 1280.27 1958.1 Q1278.39 1958.1 1276.52 1958.51 Q1274.66 1958.93 1272.72 1959.81 L1272.72 1942.45 Z\" fill=\"#000000\" fill-rule=\"evenodd\" fill-opacity=\"1\" /><path clip-path=\"url(#clip500)\" d=\"M1303.65 1973.07 L1311.29 1973.07 L1311.29 1946.71 L1302.97 1948.37 L1302.97 1944.11 L1311.24 1942.45 L1315.91 1942.45 L1315.91 1973.07 L1323.55 1973.07 L1323.55 1977.01 L1303.65 1977.01 L1303.65 1973.07 Z\" fill=\"#000000\" fill-rule=\"evenodd\" fill-opacity=\"1\" /><path clip-path=\"url(#clip500)\" d=\"M1357.27 1946.52 L1345.47 1964.97 L1357.27 1964.97 L1357.27 1946.52 M1356.05 1942.45 L1361.93 1942.45 L1361.93 1964.97 L1366.86 1964.97 L1366.86 1968.86 L1361.93 1968.86 L1361.93 1977.01 L1357.27 1977.01 L1357.27 1968.86 L1341.67 1968.86 L1341.67 1964.35 L1356.05 1942.45 Z\" fill=\"#000000\" fill-rule=\"evenodd\" fill-opacity=\"1\" /><path clip-path=\"url(#clip500)\" d=\"M1373.41 1942.45 L1395.63 1942.45 L1395.63 1944.44 L1383.08 1977.01 L1378.2 1977.01 L1390.01 1946.38 L1373.41 1946.38 L1373.41 1942.45 Z\" fill=\"#000000\" fill-rule=\"evenodd\" fill-opacity=\"1\" /><path clip-path=\"url(#clip500)\" d=\"M1428.39 1946.52 L1416.59 1964.97 L1428.39 1964.97 L1428.39 1946.52 M1427.16 1942.45 L1433.04 1942.45 L1433.04 1964.97 L1437.98 1964.97 L1437.98 1968.86 L1433.04 1968.86 L1433.04 1977.01 L1428.39 1977.01 L1428.39 1968.86 L1412.79 1968.86 L1412.79 1964.35 L1427.16 1942.45 Z\" fill=\"#000000\" fill-rule=\"evenodd\" fill-opacity=\"1\" /><path clip-path=\"url(#clip500)\" d=\"M1459.87 1958.37 Q1463.23 1959.09 1465.1 1961.36 Q1467 1963.63 1467 1966.96 Q1467 1972.08 1463.48 1974.88 Q1459.97 1977.68 1453.48 1977.68 Q1451.31 1977.68 1448.99 1977.24 Q1446.7 1976.82 1444.25 1975.97 L1444.25 1971.45 Q1446.19 1972.59 1448.51 1973.17 Q1450.82 1973.74 1453.35 1973.74 Q1457.74 1973.74 1460.04 1972.01 Q1462.35 1970.27 1462.35 1966.96 Q1462.35 1963.91 1460.2 1962.19 Q1458.07 1960.46 1454.25 1960.46 L1450.22 1960.46 L1450.22 1956.61 L1454.43 1956.61 Q1457.88 1956.61 1459.71 1955.25 Q1461.54 1953.86 1461.54 1951.27 Q1461.54 1948.61 1459.64 1947.19 Q1457.77 1945.76 1454.25 1945.76 Q1452.33 1945.76 1450.13 1946.17 Q1447.93 1946.59 1445.29 1947.47 L1445.29 1943.3 Q1447.95 1942.56 1450.27 1942.19 Q1452.6 1941.82 1454.66 1941.82 Q1459.99 1941.82 1463.09 1944.25 Q1466.19 1946.66 1466.19 1950.78 Q1466.19 1953.65 1464.55 1955.64 Q1462.91 1957.61 1459.87 1958.37 Z\" fill=\"#000000\" fill-rule=\"evenodd\" fill-opacity=\"1\" /><path clip-path=\"url(#clip500)\" d=\"M1499.36 1946.52 L1487.55 1964.97 L1499.36 1964.97 L1499.36 1946.52 M1498.13 1942.45 L1504.01 1942.45 L1504.01 1964.97 L1508.94 1964.97 L1508.94 1968.86 L1504.01 1968.86 L1504.01 1977.01 L1499.36 1977.01 L1499.36 1968.86 L1483.76 1968.86 L1483.76 1964.35 L1498.13 1942.45 Z\" fill=\"#000000\" fill-rule=\"evenodd\" fill-opacity=\"1\" /><path clip-path=\"url(#clip500)\" d=\"M1526.67 1960.6 Q1523.34 1960.6 1521.42 1962.38 Q1519.52 1964.16 1519.52 1967.29 Q1519.52 1970.41 1521.42 1972.19 Q1523.34 1973.98 1526.67 1973.98 Q1530.01 1973.98 1531.93 1972.19 Q1533.85 1970.39 1533.85 1967.29 Q1533.85 1964.16 1531.93 1962.38 Q1530.03 1960.6 1526.67 1960.6 M1522 1958.61 Q1518.99 1957.86 1517.3 1955.8 Q1515.63 1953.74 1515.63 1950.78 Q1515.63 1946.64 1518.57 1944.23 Q1521.53 1941.82 1526.67 1941.82 Q1531.84 1941.82 1534.77 1944.23 Q1537.71 1946.64 1537.71 1950.78 Q1537.71 1953.74 1536.02 1955.8 Q1534.36 1957.86 1531.37 1958.61 Q1534.75 1959.39 1536.63 1961.68 Q1538.52 1963.98 1538.52 1967.29 Q1538.52 1972.31 1535.45 1974.99 Q1532.39 1977.68 1526.67 1977.68 Q1520.96 1977.68 1517.88 1974.99 Q1514.82 1972.31 1514.82 1967.29 Q1514.82 1963.98 1516.72 1961.68 Q1518.62 1959.39 1522 1958.61 M1520.28 1951.22 Q1520.28 1953.91 1521.95 1955.41 Q1523.64 1956.92 1526.67 1956.92 Q1529.68 1956.92 1531.37 1955.41 Q1533.09 1953.91 1533.09 1951.22 Q1533.09 1948.54 1531.37 1947.03 Q1529.68 1945.53 1526.67 1945.53 Q1523.64 1945.53 1521.95 1947.03 Q1520.28 1948.54 1520.28 1951.22 Z\" fill=\"#000000\" fill-rule=\"evenodd\" fill-opacity=\"1\" /><path clip-path=\"url(#clip500)\" d=\"M1585.39 1946.52 L1573.59 1964.97 L1585.39 1964.97 L1585.39 1946.52 M1584.17 1942.45 L1590.05 1942.45 L1590.05 1964.97 L1594.98 1964.97 L1594.98 1968.86 L1590.05 1968.86 L1590.05 1977.01 L1585.39 1977.01 L1585.39 1968.86 L1569.79 1968.86 L1569.79 1964.35 L1584.17 1942.45 Z\" fill=\"#000000\" fill-rule=\"evenodd\" fill-opacity=\"1\" /><path clip-path=\"url(#clip500)\" d=\"M1628.42 1942.45 L1646.78 1942.45 L1646.78 1946.38 L1632.7 1946.38 L1632.7 1954.86 Q1633.72 1954.51 1634.74 1954.35 Q1635.76 1954.16 1636.78 1954.16 Q1642.56 1954.16 1645.94 1957.33 Q1649.32 1960.5 1649.32 1965.92 Q1649.32 1971.5 1645.85 1974.6 Q1642.38 1977.68 1636.06 1977.68 Q1633.88 1977.68 1631.62 1977.31 Q1629.37 1976.94 1626.96 1976.2 L1626.96 1971.5 Q1629.05 1972.63 1631.27 1973.19 Q1633.49 1973.74 1635.97 1973.74 Q1639.97 1973.74 1642.31 1971.64 Q1644.65 1969.53 1644.65 1965.92 Q1644.65 1962.31 1642.31 1960.2 Q1639.97 1958.1 1635.97 1958.1 Q1634.09 1958.1 1632.22 1958.51 Q1630.37 1958.93 1628.42 1959.81 L1628.42 1942.45 Z\" fill=\"#000000\" fill-rule=\"evenodd\" fill-opacity=\"1\" /><path clip-path=\"url(#clip500)\" d=\"M1658.68 1976.29 L1658.68 1972.03 Q1660.43 1972.86 1662.24 1973.3 Q1664.05 1973.74 1665.78 1973.74 Q1670.41 1973.74 1672.84 1970.64 Q1675.3 1967.52 1675.64 1961.17 Q1674.3 1963.17 1672.24 1964.23 Q1670.18 1965.29 1667.68 1965.29 Q1662.49 1965.29 1659.46 1962.17 Q1656.45 1959.02 1656.45 1953.58 Q1656.45 1948.26 1659.6 1945.04 Q1662.75 1941.82 1667.98 1941.82 Q1673.98 1941.82 1677.12 1946.43 Q1680.3 1951.01 1680.3 1959.76 Q1680.3 1967.93 1676.41 1972.82 Q1672.54 1977.68 1665.99 1977.68 Q1664.23 1977.68 1662.43 1977.33 Q1660.62 1976.98 1658.68 1976.29 M1667.98 1961.64 Q1671.13 1961.64 1672.96 1959.48 Q1674.81 1957.33 1674.81 1953.58 Q1674.81 1949.86 1672.96 1947.7 Q1671.13 1945.53 1667.98 1945.53 Q1664.83 1945.53 1662.98 1947.7 Q1661.15 1949.86 1661.15 1953.58 Q1661.15 1957.33 1662.98 1959.48 Q1664.83 1961.64 1667.98 1961.64 Z\" fill=\"#000000\" fill-rule=\"evenodd\" fill-opacity=\"1\" /><path clip-path=\"url(#clip500)\" d=\"M1699.49 1942.45 L1717.85 1942.45 L1717.85 1946.38 L1703.77 1946.38 L1703.77 1954.86 Q1704.79 1954.51 1705.81 1954.35 Q1706.83 1954.16 1707.85 1954.16 Q1713.64 1954.16 1717.01 1957.33 Q1720.39 1960.5 1720.39 1965.92 Q1720.39 1971.5 1716.92 1974.6 Q1713.45 1977.68 1707.13 1977.68 Q1704.95 1977.68 1702.69 1977.31 Q1700.44 1976.94 1698.03 1976.2 L1698.03 1971.5 Q1700.12 1972.63 1702.34 1973.19 Q1704.56 1973.74 1707.04 1973.74 Q1711.04 1973.74 1713.38 1971.64 Q1715.72 1969.53 1715.72 1965.92 Q1715.72 1962.31 1713.38 1960.2 Q1711.04 1958.1 1707.04 1958.1 Q1705.16 1958.1 1703.29 1958.51 Q1701.44 1958.93 1699.49 1959.81 L1699.49 1942.45 Z\" fill=\"#000000\" fill-rule=\"evenodd\" fill-opacity=\"1\" /><path clip-path=\"url(#clip500)\" d=\"M1740.19 1957.86 Q1737.04 1957.86 1735.19 1960.02 Q1733.36 1962.17 1733.36 1965.92 Q1733.36 1969.65 1735.19 1971.82 Q1737.04 1973.98 1740.19 1973.98 Q1743.33 1973.98 1745.16 1971.82 Q1747.01 1969.65 1747.01 1965.92 Q1747.01 1962.17 1745.16 1960.02 Q1743.33 1957.86 1740.19 1957.86 M1749.47 1943.21 L1749.47 1947.47 Q1747.71 1946.64 1745.9 1946.2 Q1744.12 1945.76 1742.36 1945.76 Q1737.73 1945.76 1735.28 1948.88 Q1732.85 1952.01 1732.5 1958.33 Q1733.87 1956.31 1735.93 1955.25 Q1737.99 1954.16 1740.46 1954.16 Q1745.67 1954.16 1748.68 1957.33 Q1751.71 1960.48 1751.71 1965.92 Q1751.71 1971.24 1748.57 1974.46 Q1745.42 1977.68 1740.19 1977.68 Q1734.19 1977.68 1731.02 1973.1 Q1727.85 1968.49 1727.85 1959.76 Q1727.85 1951.57 1731.74 1946.71 Q1735.63 1941.82 1742.18 1941.82 Q1743.94 1941.82 1745.72 1942.17 Q1747.52 1942.52 1749.47 1943.21 Z\" fill=\"#000000\" fill-rule=\"evenodd\" fill-opacity=\"1\" /><path clip-path=\"url(#clip500)\" d=\"M1771.27 1942.45 L1789.62 1942.45 L1789.62 1946.38 L1775.55 1946.38 L1775.55 1954.86 Q1776.57 1954.51 1777.59 1954.35 Q1778.61 1954.16 1779.62 1954.16 Q1785.41 1954.16 1788.79 1957.33 Q1792.17 1960.5 1792.17 1965.92 Q1792.17 1971.5 1788.7 1974.6 Q1785.23 1977.68 1778.91 1977.68 Q1776.73 1977.68 1774.46 1977.31 Q1772.22 1976.94 1769.81 1976.2 L1769.81 1971.5 Q1771.89 1972.63 1774.12 1973.19 Q1776.34 1973.74 1778.81 1973.74 Q1782.82 1973.74 1785.16 1971.64 Q1787.5 1969.53 1787.5 1965.92 Q1787.5 1962.31 1785.16 1960.2 Q1782.82 1958.1 1778.81 1958.1 Q1776.94 1958.1 1775.06 1958.51 Q1773.21 1958.93 1771.27 1959.81 L1771.27 1942.45 Z\" fill=\"#000000\" fill-rule=\"evenodd\" fill-opacity=\"1\" /><path clip-path=\"url(#clip500)\" d=\"M1800.2 1942.45 L1822.43 1942.45 L1822.43 1944.44 L1809.88 1977.01 L1805 1977.01 L1816.8 1946.38 L1800.2 1946.38 L1800.2 1942.45 Z\" fill=\"#000000\" fill-rule=\"evenodd\" fill-opacity=\"1\" /><path clip-path=\"url(#clip500)\" d=\"M1842.11 1942.45 L1860.46 1942.45 L1860.46 1946.38 L1846.39 1946.38 L1846.39 1954.86 Q1847.41 1954.51 1848.43 1954.35 Q1849.45 1954.16 1850.46 1954.16 Q1856.25 1954.16 1859.63 1957.33 Q1863.01 1960.5 1863.01 1965.92 Q1863.01 1971.5 1859.54 1974.6 Q1856.07 1977.68 1849.75 1977.68 Q1847.57 1977.68 1845.3 1977.31 Q1843.06 1976.94 1840.65 1976.2 L1840.65 1971.5 Q1842.73 1972.63 1844.95 1973.19 Q1847.18 1973.74 1849.65 1973.74 Q1853.66 1973.74 1856 1971.64 Q1858.33 1969.53 1858.33 1965.92 Q1858.33 1962.31 1856 1960.2 Q1853.66 1958.1 1849.65 1958.1 Q1847.78 1958.1 1845.9 1958.51 Q1844.05 1958.93 1842.11 1959.81 L1842.11 1942.45 Z\" fill=\"#000000\" fill-rule=\"evenodd\" fill-opacity=\"1\" /><path clip-path=\"url(#clip500)\" d=\"M1882.22 1960.6 Q1878.89 1960.6 1876.97 1962.38 Q1875.07 1964.16 1875.07 1967.29 Q1875.07 1970.41 1876.97 1972.19 Q1878.89 1973.98 1882.22 1973.98 Q1885.56 1973.98 1887.48 1972.19 Q1889.4 1970.39 1889.4 1967.29 Q1889.4 1964.16 1887.48 1962.38 Q1885.58 1960.6 1882.22 1960.6 M1877.55 1958.61 Q1874.54 1957.86 1872.85 1955.8 Q1871.18 1953.74 1871.18 1950.78 Q1871.18 1946.64 1874.12 1944.23 Q1877.08 1941.82 1882.22 1941.82 Q1887.39 1941.82 1890.32 1944.23 Q1893.26 1946.64 1893.26 1950.78 Q1893.26 1953.74 1891.57 1955.8 Q1889.91 1957.86 1886.92 1958.61 Q1890.3 1959.39 1892.18 1961.68 Q1894.07 1963.98 1894.07 1967.29 Q1894.07 1972.31 1891 1974.99 Q1887.94 1977.68 1882.22 1977.68 Q1876.51 1977.68 1873.43 1974.99 Q1870.37 1972.31 1870.37 1967.29 Q1870.37 1963.98 1872.27 1961.68 Q1874.17 1959.39 1877.55 1958.61 M1875.83 1951.22 Q1875.83 1953.91 1877.5 1955.41 Q1879.19 1956.92 1882.22 1956.92 Q1885.23 1956.92 1886.92 1955.41 Q1888.64 1953.91 1888.64 1951.22 Q1888.64 1948.54 1886.92 1947.03 Q1885.23 1945.53 1882.22 1945.53 Q1879.19 1945.53 1877.5 1947.03 Q1875.83 1948.54 1875.83 1951.22 Z\" fill=\"#000000\" fill-rule=\"evenodd\" fill-opacity=\"1\" /><path clip-path=\"url(#clip500)\" d=\"M1924.34 1957.86 Q1921.19 1957.86 1919.34 1960.02 Q1917.51 1962.17 1917.51 1965.92 Q1917.51 1969.65 1919.34 1971.82 Q1921.19 1973.98 1924.34 1973.98 Q1927.48 1973.98 1929.31 1971.82 Q1931.16 1969.65 1931.16 1965.92 Q1931.16 1962.17 1929.31 1960.02 Q1927.48 1957.86 1924.34 1957.86 M1933.62 1943.21 L1933.62 1947.47 Q1931.86 1946.64 1930.05 1946.2 Q1928.27 1945.76 1926.51 1945.76 Q1921.88 1945.76 1919.43 1948.88 Q1917 1952.01 1916.65 1958.33 Q1918.02 1956.31 1920.08 1955.25 Q1922.14 1954.16 1924.61 1954.16 Q1929.82 1954.16 1932.83 1957.33 Q1935.86 1960.48 1935.86 1965.92 Q1935.86 1971.24 1932.72 1974.46 Q1929.57 1977.68 1924.34 1977.68 Q1918.34 1977.68 1915.17 1973.1 Q1912 1968.49 1912 1959.76 Q1912 1951.57 1915.89 1946.71 Q1919.78 1941.82 1926.33 1941.82 Q1928.09 1941.82 1929.87 1942.17 Q1931.67 1942.52 1933.62 1943.21 Z\" fill=\"#000000\" fill-rule=\"evenodd\" fill-opacity=\"1\" /><path clip-path=\"url(#clip500)\" d=\"M1958.09 1958.37 Q1961.44 1959.09 1963.32 1961.36 Q1965.22 1963.63 1965.22 1966.96 Q1965.22 1972.08 1961.7 1974.88 Q1958.18 1977.68 1951.7 1977.68 Q1949.52 1977.68 1947.21 1977.24 Q1944.91 1976.82 1942.46 1975.97 L1942.46 1971.45 Q1944.41 1972.59 1946.72 1973.17 Q1949.03 1973.74 1951.56 1973.74 Q1955.96 1973.74 1958.25 1972.01 Q1960.56 1970.27 1960.56 1966.96 Q1960.56 1963.91 1958.41 1962.19 Q1956.28 1960.46 1952.46 1960.46 L1948.43 1960.46 L1948.43 1956.61 L1952.65 1956.61 Q1956.09 1956.61 1957.92 1955.25 Q1959.75 1953.86 1959.75 1951.27 Q1959.75 1948.61 1957.85 1947.19 Q1955.98 1945.76 1952.46 1945.76 Q1950.54 1945.76 1948.34 1946.17 Q1946.14 1946.59 1943.5 1947.47 L1943.5 1943.3 Q1946.16 1942.56 1948.48 1942.19 Q1950.82 1941.82 1952.88 1941.82 Q1958.2 1941.82 1961.3 1944.25 Q1964.4 1946.66 1964.4 1950.78 Q1964.4 1953.65 1962.76 1955.64 Q1961.12 1957.61 1958.09 1958.37 Z\" fill=\"#000000\" fill-rule=\"evenodd\" fill-opacity=\"1\" /><path clip-path=\"url(#clip500)\" d=\"M1995.01 1957.86 Q1991.86 1957.86 1990.01 1960.02 Q1988.18 1962.17 1988.18 1965.92 Q1988.18 1969.65 1990.01 1971.82 Q1991.86 1973.98 1995.01 1973.98 Q1998.16 1973.98 1999.99 1971.82 Q2001.84 1969.65 2001.84 1965.92 Q2001.84 1962.17 1999.99 1960.02 Q1998.16 1957.86 1995.01 1957.86 M2004.3 1943.21 L2004.3 1947.47 Q2002.54 1946.64 2000.73 1946.2 Q1998.95 1945.76 1997.19 1945.76 Q1992.56 1945.76 1990.11 1948.88 Q1987.67 1952.01 1987.33 1958.33 Q1988.69 1956.31 1990.75 1955.25 Q1992.81 1954.16 1995.29 1954.16 Q2000.5 1954.16 2003.51 1957.33 Q2006.54 1960.48 2006.54 1965.92 Q2006.54 1971.24 2003.39 1974.46 Q2000.24 1977.68 1995.01 1977.68 Q1989.02 1977.68 1985.85 1973.1 Q1982.67 1968.49 1982.67 1959.76 Q1982.67 1951.57 1986.56 1946.71 Q1990.45 1941.82 1997 1941.82 Q1998.76 1941.82 2000.55 1942.17 Q2002.35 1942.52 2004.3 1943.21 Z\" fill=\"#000000\" fill-rule=\"evenodd\" fill-opacity=\"1\" /><path clip-path=\"url(#clip500)\" d=\"M2027.44 1946.52 L2015.64 1964.97 L2027.44 1964.97 L2027.44 1946.52 M2026.22 1942.45 L2032.1 1942.45 L2032.1 1964.97 L2037.03 1964.97 L2037.03 1968.86 L2032.1 1968.86 L2032.1 1977.01 L2027.44 1977.01 L2027.44 1968.86 L2011.84 1968.86 L2011.84 1964.35 L2026.22 1942.45 Z\" fill=\"#000000\" fill-rule=\"evenodd\" fill-opacity=\"1\" /><path clip-path=\"url(#clip500)\" d=\"M2067.3 1957.86 Q2064.15 1957.86 2062.3 1960.02 Q2060.47 1962.17 2060.47 1965.92 Q2060.47 1969.65 2062.3 1971.82 Q2064.15 1973.98 2067.3 1973.98 Q2070.45 1973.98 2072.28 1971.82 Q2074.13 1969.65 2074.13 1965.92 Q2074.13 1962.17 2072.28 1960.02 Q2070.45 1957.86 2067.3 1957.86 M2076.58 1943.21 L2076.58 1947.47 Q2074.82 1946.64 2073.02 1946.2 Q2071.23 1945.76 2069.47 1945.76 Q2064.85 1945.76 2062.39 1948.88 Q2059.96 1952.01 2059.61 1958.33 Q2060.98 1956.31 2063.04 1955.25 Q2065.1 1954.16 2067.58 1954.16 Q2072.78 1954.16 2075.79 1957.33 Q2078.83 1960.48 2078.83 1965.92 Q2078.83 1971.24 2075.68 1974.46 Q2072.53 1977.68 2067.3 1977.68 Q2061.3 1977.68 2058.13 1973.1 Q2054.96 1968.49 2054.96 1959.76 Q2054.96 1951.57 2058.85 1946.71 Q2062.74 1941.82 2069.29 1941.82 Q2071.05 1941.82 2072.83 1942.17 Q2074.64 1942.52 2076.58 1943.21 Z\" fill=\"#000000\" fill-rule=\"evenodd\" fill-opacity=\"1\" /><path clip-path=\"url(#clip500)\" d=\"M2090.91 1973.07 L2107.23 1973.07 L2107.23 1977.01 L2085.28 1977.01 L2085.28 1973.07 Q2087.95 1970.32 2092.53 1965.69 Q2097.14 1961.04 2098.32 1959.69 Q2100.56 1957.17 2101.44 1955.43 Q2102.34 1953.67 2102.34 1951.98 Q2102.34 1949.23 2100.4 1947.49 Q2098.48 1945.76 2095.38 1945.76 Q2093.18 1945.76 2090.72 1946.52 Q2088.29 1947.29 2085.52 1948.84 L2085.52 1944.11 Q2088.34 1942.98 2090.79 1942.4 Q2093.25 1941.82 2095.28 1941.82 Q2100.66 1941.82 2103.85 1944.51 Q2107.04 1947.19 2107.04 1951.68 Q2107.04 1953.81 2106.23 1955.73 Q2105.45 1957.63 2103.34 1960.23 Q2102.76 1960.9 2099.66 1964.11 Q2096.56 1967.31 2090.91 1973.07 Z\" fill=\"#000000\" fill-rule=\"evenodd\" fill-opacity=\"1\" /><path clip-path=\"url(#clip500)\" d=\"M2137.74 1957.86 Q2134.6 1957.86 2132.74 1960.02 Q2130.92 1962.17 2130.92 1965.92 Q2130.92 1969.65 2132.74 1971.82 Q2134.6 1973.98 2137.74 1973.98 Q2140.89 1973.98 2142.72 1971.82 Q2144.57 1969.65 2144.57 1965.92 Q2144.57 1962.17 2142.72 1960.02 Q2140.89 1957.86 2137.74 1957.86 M2147.03 1943.21 L2147.03 1947.47 Q2145.27 1946.64 2143.46 1946.2 Q2141.68 1945.76 2139.92 1945.76 Q2135.29 1945.76 2132.84 1948.88 Q2130.41 1952.01 2130.06 1958.33 Q2131.43 1956.31 2133.49 1955.25 Q2135.55 1954.16 2138.02 1954.16 Q2143.23 1954.16 2146.24 1957.33 Q2149.27 1960.48 2149.27 1965.92 Q2149.27 1971.24 2146.12 1974.46 Q2142.98 1977.68 2137.74 1977.68 Q2131.75 1977.68 2128.58 1973.1 Q2125.41 1968.49 2125.41 1959.76 Q2125.41 1951.57 2129.3 1946.71 Q2133.18 1941.82 2139.74 1941.82 Q2141.49 1941.82 2143.28 1942.17 Q2145.08 1942.52 2147.03 1943.21 Z\" fill=\"#000000\" fill-rule=\"evenodd\" fill-opacity=\"1\" /><path clip-path=\"url(#clip500)\" d=\"M2167.33 1945.53 Q2163.72 1945.53 2161.89 1949.09 Q2160.08 1952.63 2160.08 1959.76 Q2160.08 1966.87 2161.89 1970.43 Q2163.72 1973.98 2167.33 1973.98 Q2170.96 1973.98 2172.77 1970.43 Q2174.6 1966.87 2174.6 1959.76 Q2174.6 1952.63 2172.77 1949.09 Q2170.96 1945.53 2167.33 1945.53 M2167.33 1941.82 Q2173.14 1941.82 2176.19 1946.43 Q2179.27 1951.01 2179.27 1959.76 Q2179.27 1968.49 2176.19 1973.1 Q2173.14 1977.68 2167.33 1977.68 Q2161.52 1977.68 2158.44 1973.1 Q2155.38 1968.49 2155.38 1959.76 Q2155.38 1951.01 2158.44 1946.43 Q2161.52 1941.82 2167.33 1941.82 Z\" fill=\"#000000\" fill-rule=\"evenodd\" fill-opacity=\"1\" /><path clip-path=\"url(#clip500)\" d=\"M2209.6 1957.86 Q2206.45 1957.86 2204.6 1960.02 Q2202.77 1962.17 2202.77 1965.92 Q2202.77 1969.65 2204.6 1971.82 Q2206.45 1973.98 2209.6 1973.98 Q2212.75 1973.98 2214.58 1971.82 Q2216.43 1969.65 2216.43 1965.92 Q2216.43 1962.17 2214.58 1960.02 Q2212.75 1957.86 2209.6 1957.86 M2218.88 1943.21 L2218.88 1947.47 Q2217.13 1946.64 2215.32 1946.2 Q2213.54 1945.76 2211.78 1945.76 Q2207.15 1945.76 2204.69 1948.88 Q2202.26 1952.01 2201.92 1958.33 Q2203.28 1956.31 2205.34 1955.25 Q2207.4 1954.16 2209.88 1954.16 Q2215.09 1954.16 2218.1 1957.33 Q2221.13 1960.48 2221.13 1965.92 Q2221.13 1971.24 2217.98 1974.46 Q2214.83 1977.68 2209.6 1977.68 Q2203.61 1977.68 2200.44 1973.1 Q2197.26 1968.49 2197.26 1959.76 Q2197.26 1951.57 2201.15 1946.71 Q2205.04 1941.82 2211.59 1941.82 Q2213.35 1941.82 2215.13 1942.17 Q2216.94 1942.52 2218.88 1943.21 Z\" fill=\"#000000\" fill-rule=\"evenodd\" fill-opacity=\"1\" /><path clip-path=\"url(#clip500)\" d=\"M2230 1973.07 L2237.63 1973.07 L2237.63 1946.71 L2229.32 1948.37 L2229.32 1944.11 L2237.59 1942.45 L2242.26 1942.45 L2242.26 1973.07 L2249.9 1973.07 L2249.9 1977.01 L2230 1977.01 L2230 1973.07 Z\" fill=\"#000000\" fill-rule=\"evenodd\" fill-opacity=\"1\" /><path clip-path=\"url(#clip500)\" d=\"M2274.1 1973.07 L2290.42 1973.07 L2290.42 1977.01 L2268.47 1977.01 L2268.47 1973.07 Q2271.14 1970.32 2275.72 1965.69 Q2280.33 1961.04 2281.51 1959.69 Q2283.75 1957.17 2284.63 1955.43 Q2285.53 1953.67 2285.53 1951.98 Q2285.53 1949.23 2283.59 1947.49 Q2281.67 1945.76 2278.57 1945.76 Q2276.37 1945.76 2273.91 1946.52 Q2271.48 1947.29 2268.71 1948.84 L2268.71 1944.11 Q2271.53 1942.98 2273.98 1942.4 Q2276.44 1941.82 2278.47 1941.82 Q2283.84 1941.82 2287.04 1944.51 Q2290.23 1947.19 2290.23 1951.68 Q2290.23 1953.81 2289.42 1955.73 Q2288.64 1957.63 2286.53 1960.23 Q2285.95 1960.9 2282.85 1964.11 Q2279.75 1967.31 2274.1 1973.07 Z\" fill=\"#000000\" fill-rule=\"evenodd\" fill-opacity=\"1\" /><path clip-path=\"url(#clip500)\" d=\"M2300.28 1942.45 L2318.64 1942.45 L2318.64 1946.38 L2304.56 1946.38 L2304.56 1954.86 Q2305.58 1954.51 2306.6 1954.35 Q2307.62 1954.16 2308.64 1954.16 Q2314.42 1954.16 2317.8 1957.33 Q2321.18 1960.5 2321.18 1965.92 Q2321.18 1971.5 2317.71 1974.6 Q2314.24 1977.68 2307.92 1977.68 Q2305.74 1977.68 2303.47 1977.31 Q2301.23 1976.94 2298.82 1976.2 L2298.82 1971.5 Q2300.9 1972.63 2303.13 1973.19 Q2305.35 1973.74 2307.83 1973.74 Q2311.83 1973.74 2314.17 1971.64 Q2316.51 1969.53 2316.51 1965.92 Q2316.51 1962.31 2314.17 1960.2 Q2311.83 1958.1 2307.83 1958.1 Q2305.95 1958.1 2304.08 1958.51 Q2302.22 1958.93 2300.28 1959.81 L2300.28 1942.45 Z\" fill=\"#000000\" fill-rule=\"evenodd\" fill-opacity=\"1\" /><path clip-path=\"url(#clip500)\" d=\"M2344.76 1973.07 L2361.08 1973.07 L2361.08 1977.01 L2339.14 1977.01 L2339.14 1973.07 Q2341.8 1970.32 2346.38 1965.69 Q2350.99 1961.04 2352.17 1959.69 Q2354.42 1957.17 2355.3 1955.43 Q2356.2 1953.67 2356.2 1951.98 Q2356.2 1949.23 2354.26 1947.49 Q2352.33 1945.76 2349.23 1945.76 Q2347.03 1945.76 2344.58 1946.52 Q2342.15 1947.29 2339.37 1948.84 L2339.37 1944.11 Q2342.19 1942.98 2344.65 1942.4 Q2347.1 1941.82 2349.14 1941.82 Q2354.51 1941.82 2357.7 1944.51 Q2360.9 1947.19 2360.9 1951.68 Q2360.9 1953.81 2360.09 1955.73 Q2359.3 1957.63 2357.19 1960.23 Q2356.62 1960.9 2353.51 1964.11 Q2350.41 1967.31 2344.76 1973.07 Z\" fill=\"#000000\" fill-rule=\"evenodd\" fill-opacity=\"1\" /><path clip-path=\"url(#clip500)\" d=\"M2381.48 1957.86 Q2378.33 1957.86 2376.48 1960.02 Q2374.65 1962.17 2374.65 1965.92 Q2374.65 1969.65 2376.48 1971.82 Q2378.33 1973.98 2381.48 1973.98 Q2384.63 1973.98 2386.45 1971.82 Q2388.31 1969.65 2388.31 1965.92 Q2388.31 1962.17 2386.45 1960.02 Q2384.63 1957.86 2381.48 1957.86 M2390.76 1943.21 L2390.76 1947.47 Q2389 1946.64 2387.19 1946.2 Q2385.41 1945.76 2383.65 1945.76 Q2379.02 1945.76 2376.57 1948.88 Q2374.14 1952.01 2373.79 1958.33 Q2375.16 1956.31 2377.22 1955.25 Q2379.28 1954.16 2381.75 1954.16 Q2386.96 1954.16 2389.97 1957.33 Q2393 1960.48 2393 1965.92 Q2393 1971.24 2389.86 1974.46 Q2386.71 1977.68 2381.48 1977.68 Q2375.48 1977.68 2372.31 1973.1 Q2369.14 1968.49 2369.14 1959.76 Q2369.14 1951.57 2373.03 1946.71 Q2376.92 1941.82 2383.47 1941.82 Q2385.23 1941.82 2387.01 1942.17 Q2388.82 1942.52 2390.76 1943.21 Z\" fill=\"#000000\" fill-rule=\"evenodd\" fill-opacity=\"1\" /><path clip-path=\"url(#clip500)\" d=\"M2412 1973.07 L2419.64 1973.07 L2419.64 1946.71 L2411.33 1948.37 L2411.33 1944.11 L2419.6 1942.45 L2424.27 1942.45 L2424.27 1973.07 L2431.91 1973.07 L2431.91 1977.01 L2412 1977.01 L2412 1973.07 Z\" fill=\"#000000\" fill-rule=\"evenodd\" fill-opacity=\"1\" /><path clip-path=\"url(#clip500)\" d=\"M2451.36 1945.53 Q2447.74 1945.53 2445.92 1949.09 Q2444.11 1952.63 2444.11 1959.76 Q2444.11 1966.87 2445.92 1970.43 Q2447.74 1973.98 2451.36 1973.98 Q2454.99 1973.98 2456.8 1970.43 Q2458.62 1966.87 2458.62 1959.76 Q2458.62 1952.63 2456.8 1949.09 Q2454.99 1945.53 2451.36 1945.53 M2451.36 1941.82 Q2457.17 1941.82 2460.22 1946.43 Q2463.3 1951.01 2463.3 1959.76 Q2463.3 1968.49 2460.22 1973.1 Q2457.17 1977.68 2451.36 1977.68 Q2445.55 1977.68 2442.47 1973.1 Q2439.41 1968.49 2439.41 1959.76 Q2439.41 1951.01 2442.47 1946.43 Q2445.55 1941.82 2451.36 1941.82 Z\" fill=\"#000000\" fill-rule=\"evenodd\" fill-opacity=\"1\" /><path clip-path=\"url(#clip500)\" d=\"M2487.38 1973.07 L2503.7 1973.07 L2503.7 1977.01 L2481.76 1977.01 L2481.76 1973.07 Q2484.42 1970.32 2489 1965.69 Q2493.61 1961.04 2494.79 1959.69 Q2497.03 1957.17 2497.91 1955.43 Q2498.82 1953.67 2498.82 1951.98 Q2498.82 1949.23 2496.87 1947.49 Q2494.95 1945.76 2491.85 1945.76 Q2489.65 1945.76 2487.2 1946.52 Q2484.76 1947.29 2481.99 1948.84 L2481.99 1944.11 Q2484.81 1942.98 2487.26 1942.4 Q2489.72 1941.82 2491.76 1941.82 Q2497.13 1941.82 2500.32 1944.51 Q2503.51 1947.19 2503.51 1951.68 Q2503.51 1953.81 2502.7 1955.73 Q2501.92 1957.63 2499.81 1960.23 Q2499.23 1960.9 2496.13 1964.11 Q2493.03 1967.31 2487.38 1973.07 Z\" fill=\"#000000\" fill-rule=\"evenodd\" fill-opacity=\"1\" /><path clip-path=\"url(#clip500)\" d=\"M2523.51 1960.6 Q2520.18 1960.6 2518.26 1962.38 Q2516.36 1964.16 2516.36 1967.29 Q2516.36 1970.41 2518.26 1972.19 Q2520.18 1973.98 2523.51 1973.98 Q2526.85 1973.98 2528.77 1972.19 Q2530.69 1970.39 2530.69 1967.29 Q2530.69 1964.16 2528.77 1962.38 Q2526.87 1960.6 2523.51 1960.6 M2518.84 1958.61 Q2515.83 1957.86 2514.14 1955.8 Q2512.47 1953.74 2512.47 1950.78 Q2512.47 1946.64 2515.41 1944.23 Q2518.38 1941.82 2523.51 1941.82 Q2528.68 1941.82 2531.62 1944.23 Q2534.56 1946.64 2534.56 1950.78 Q2534.56 1953.74 2532.87 1955.8 Q2531.2 1957.86 2528.21 1958.61 Q2531.59 1959.39 2533.47 1961.68 Q2535.37 1963.98 2535.37 1967.29 Q2535.37 1972.31 2532.29 1974.99 Q2529.23 1977.68 2523.51 1977.68 Q2517.8 1977.68 2514.72 1974.99 Q2511.66 1972.31 2511.66 1967.29 Q2511.66 1963.98 2513.56 1961.68 Q2515.46 1959.39 2518.84 1958.61 M2517.13 1951.22 Q2517.13 1953.91 2518.79 1955.41 Q2520.48 1956.92 2523.51 1956.92 Q2526.52 1956.92 2528.21 1955.41 Q2529.93 1953.91 2529.93 1951.22 Q2529.93 1948.54 2528.21 1947.03 Q2526.52 1945.53 2523.51 1945.53 Q2520.48 1945.53 2518.79 1947.03 Q2517.13 1948.54 2517.13 1951.22 Z\" fill=\"#000000\" fill-rule=\"evenodd\" fill-opacity=\"1\" /><path clip-path=\"url(#clip500)\" d=\"M2559.19 1973.07 L2575.51 1973.07 L2575.51 1977.01 L2553.57 1977.01 L2553.57 1973.07 Q2556.23 1970.32 2560.81 1965.69 Q2565.42 1961.04 2566.6 1959.69 Q2568.84 1957.17 2569.72 1955.43 Q2570.63 1953.67 2570.63 1951.98 Q2570.63 1949.23 2568.68 1947.49 Q2566.76 1945.76 2563.66 1945.76 Q2561.46 1945.76 2559.01 1946.52 Q2556.58 1947.29 2553.8 1948.84 L2553.8 1944.11 Q2556.62 1942.98 2559.08 1942.4 Q2561.53 1941.82 2563.57 1941.82 Q2568.94 1941.82 2572.13 1944.51 Q2575.33 1947.19 2575.33 1951.68 Q2575.33 1953.81 2574.52 1955.73 Q2573.73 1957.63 2571.62 1960.23 Q2571.04 1960.9 2567.94 1964.11 Q2564.84 1967.31 2559.19 1973.07 Z\" fill=\"#000000\" fill-rule=\"evenodd\" fill-opacity=\"1\" /><path clip-path=\"url(#clip500)\" d=\"M2586.14 1973.07 L2593.77 1973.07 L2593.77 1946.71 L2585.46 1948.37 L2585.46 1944.11 L2593.73 1942.45 L2598.4 1942.45 L2598.4 1973.07 L2606.04 1973.07 L2606.04 1977.01 L2586.14 1977.01 L2586.14 1973.07 Z\" fill=\"#000000\" fill-rule=\"evenodd\" fill-opacity=\"1\" /><path clip-path=\"url(#clip500)\" d=\"M2630.62 1973.07 L2646.94 1973.07 L2646.94 1977.01 L2625 1977.01 L2625 1973.07 Q2627.66 1970.32 2632.24 1965.69 Q2636.85 1961.04 2638.03 1959.69 Q2640.27 1957.17 2641.15 1955.43 Q2642.06 1953.67 2642.06 1951.98 Q2642.06 1949.23 2640.11 1947.49 Q2638.19 1945.76 2635.09 1945.76 Q2632.89 1945.76 2630.44 1946.52 Q2628.01 1947.29 2625.23 1948.84 L2625.23 1944.11 Q2628.05 1942.98 2630.51 1942.4 Q2632.96 1941.82 2635 1941.82 Q2640.37 1941.82 2643.56 1944.51 Q2646.76 1947.19 2646.76 1951.68 Q2646.76 1953.81 2645.95 1955.73 Q2645.16 1957.63 2643.05 1960.23 Q2642.47 1960.9 2639.37 1964.11 Q2636.27 1967.31 2630.62 1973.07 Z\" fill=\"#000000\" fill-rule=\"evenodd\" fill-opacity=\"1\" /><path clip-path=\"url(#clip500)\" d=\"M2660.78 1973.07 L2677.1 1973.07 L2677.1 1977.01 L2655.16 1977.01 L2655.16 1973.07 Q2657.82 1970.32 2662.4 1965.69 Q2667.01 1961.04 2668.19 1959.69 Q2670.44 1957.17 2671.32 1955.43 Q2672.22 1953.67 2672.22 1951.98 Q2672.22 1949.23 2670.27 1947.49 Q2668.35 1945.76 2665.25 1945.76 Q2663.05 1945.76 2660.6 1946.52 Q2658.17 1947.29 2655.39 1948.84 L2655.39 1944.11 Q2658.21 1942.98 2660.67 1942.4 Q2663.12 1941.82 2665.16 1941.82 Q2670.53 1941.82 2673.72 1944.51 Q2676.92 1947.19 2676.92 1951.68 Q2676.92 1953.81 2676.11 1955.73 Q2675.32 1957.63 2673.21 1960.23 Q2672.63 1960.9 2669.53 1964.11 Q2666.43 1967.31 2660.78 1973.07 Z\" fill=\"#000000\" fill-rule=\"evenodd\" fill-opacity=\"1\" /><path clip-path=\"url(#clip500)\" d=\"M2712.59 1976.29 L2712.59 1972.03 Q2714.35 1972.86 2716.16 1973.3 Q2717.96 1973.74 2719.7 1973.74 Q2724.33 1973.74 2726.76 1970.64 Q2729.21 1967.52 2729.56 1961.17 Q2728.22 1963.17 2726.16 1964.23 Q2724.1 1965.29 2721.6 1965.29 Q2716.41 1965.29 2713.38 1962.17 Q2710.37 1959.02 2710.37 1953.58 Q2710.37 1948.26 2713.52 1945.04 Q2716.67 1941.82 2721.9 1941.82 Q2727.9 1941.82 2731.04 1946.43 Q2734.21 1951.01 2734.21 1959.76 Q2734.21 1967.93 2730.33 1972.82 Q2726.46 1977.68 2719.91 1977.68 Q2718.15 1977.68 2716.34 1977.33 Q2714.54 1976.98 2712.59 1976.29 M2721.9 1961.64 Q2725.05 1961.64 2726.88 1959.48 Q2728.73 1957.33 2728.73 1953.58 Q2728.73 1949.86 2726.88 1947.7 Q2725.05 1945.53 2721.9 1945.53 Q2718.75 1945.53 2716.9 1947.7 Q2715.07 1949.86 2715.07 1953.58 Q2715.07 1957.33 2716.9 1959.48 Q2718.75 1961.64 2721.9 1961.64 Z\" fill=\"#000000\" fill-rule=\"evenodd\" fill-opacity=\"1\" /><path clip-path=\"url(#clip500)\" d=\"M2772.64 1973.07 L2788.95 1973.07 L2788.95 1977.01 L2767.01 1977.01 L2767.01 1973.07 Q2769.67 1970.32 2774.26 1965.69 Q2778.86 1961.04 2780.04 1959.69 Q2782.29 1957.17 2783.17 1955.43 Q2784.07 1953.67 2784.07 1951.98 Q2784.07 1949.23 2782.13 1947.49 Q2780.2 1945.76 2777.1 1945.76 Q2774.9 1945.76 2772.45 1946.52 Q2770.02 1947.29 2767.24 1948.84 L2767.24 1944.11 Q2770.07 1942.98 2772.52 1942.4 Q2774.97 1941.82 2777.01 1941.82 Q2782.38 1941.82 2785.57 1944.51 Q2788.77 1947.19 2788.77 1951.68 Q2788.77 1953.81 2787.96 1955.73 Q2787.17 1957.63 2785.07 1960.23 Q2784.49 1960.9 2781.39 1964.11 Q2778.28 1967.31 2772.64 1973.07 Z\" fill=\"#000000\" fill-rule=\"evenodd\" fill-opacity=\"1\" /><path clip-path=\"url(#clip500)\" d=\"M2812.94 1958.37 Q2816.29 1959.09 2818.17 1961.36 Q2820.07 1963.63 2820.07 1966.96 Q2820.07 1972.08 2816.55 1974.88 Q2813.03 1977.68 2806.55 1977.68 Q2804.37 1977.68 2802.06 1977.24 Q2799.76 1976.82 2797.31 1975.97 L2797.31 1971.45 Q2799.26 1972.59 2801.57 1973.17 Q2803.89 1973.74 2806.41 1973.74 Q2810.81 1973.74 2813.1 1972.01 Q2815.41 1970.27 2815.41 1966.96 Q2815.41 1963.91 2813.26 1962.19 Q2811.13 1960.46 2807.31 1960.46 L2803.28 1960.46 L2803.28 1956.61 L2807.5 1956.61 Q2810.95 1956.61 2812.77 1955.25 Q2814.6 1953.86 2814.6 1951.27 Q2814.6 1948.61 2812.7 1947.19 Q2810.83 1945.76 2807.31 1945.76 Q2805.39 1945.76 2803.19 1946.17 Q2800.99 1946.59 2798.35 1947.47 L2798.35 1943.3 Q2801.01 1942.56 2803.33 1942.19 Q2805.67 1941.82 2807.73 1941.82 Q2813.05 1941.82 2816.15 1944.25 Q2819.26 1946.66 2819.26 1950.78 Q2819.26 1953.65 2817.61 1955.64 Q2815.97 1957.61 2812.94 1958.37 Z\" fill=\"#000000\" fill-rule=\"evenodd\" fill-opacity=\"1\" /><path clip-path=\"url(#clip500)\" d=\"M2869.03 1958.37 Q2872.39 1959.09 2874.26 1961.36 Q2876.16 1963.63 2876.16 1966.96 Q2876.16 1972.08 2872.64 1974.88 Q2869.12 1977.68 2862.64 1977.68 Q2860.47 1977.68 2858.15 1977.24 Q2855.86 1976.82 2853.4 1975.97 L2853.4 1971.45 Q2855.35 1972.59 2857.66 1973.17 Q2859.98 1973.74 2862.5 1973.74 Q2866.9 1973.74 2869.19 1972.01 Q2871.51 1970.27 2871.51 1966.96 Q2871.51 1963.91 2869.35 1962.19 Q2867.22 1960.46 2863.4 1960.46 L2859.38 1960.46 L2859.38 1956.61 L2863.59 1956.61 Q2867.04 1956.61 2868.87 1955.25 Q2870.7 1953.86 2870.7 1951.27 Q2870.7 1948.61 2868.8 1947.19 Q2866.92 1945.76 2863.4 1945.76 Q2861.48 1945.76 2859.28 1946.17 Q2857.09 1946.59 2854.45 1947.47 L2854.45 1943.3 Q2857.11 1942.56 2859.42 1942.19 Q2861.76 1941.82 2863.82 1941.82 Q2869.15 1941.82 2872.25 1944.25 Q2875.35 1946.66 2875.35 1950.78 Q2875.35 1953.65 2873.71 1955.64 Q2872.06 1957.61 2869.03 1958.37 Z\" fill=\"#000000\" fill-rule=\"evenodd\" fill-opacity=\"1\" /><path clip-path=\"url(#clip500)\" d=\"M2926.41 1973.07 L2934.05 1973.07 L2934.05 1946.71 L2925.74 1948.37 L2925.74 1944.11 L2934 1942.45 L2938.68 1942.45 L2938.68 1973.07 L2946.32 1973.07 L2946.32 1977.01 L2926.41 1977.01 L2926.41 1973.07 Z\" fill=\"#000000\" fill-rule=\"evenodd\" fill-opacity=\"1\" /><path clip-path=\"url(#clip500)\" d=\"M3001.92 1973.07 L3018.24 1973.07 L3018.24 1977.01 L2996.3 1977.01 L2996.3 1973.07 Q2998.96 1970.32 3003.54 1965.69 Q3008.15 1961.04 3009.33 1959.69 Q3011.58 1957.17 3012.46 1955.43 Q3013.36 1953.67 3013.36 1951.98 Q3013.36 1949.23 3011.41 1947.49 Q3009.49 1945.76 3006.39 1945.76 Q3004.19 1945.76 3001.74 1946.52 Q2999.31 1947.29 2996.53 1948.84 L2996.53 1944.11 Q2999.35 1942.98 3001.81 1942.4 Q3004.26 1941.82 3006.3 1941.82 Q3011.67 1941.82 3014.86 1944.51 Q3018.06 1947.19 3018.06 1951.68 Q3018.06 1953.81 3017.25 1955.73 Q3016.46 1957.63 3014.35 1960.23 Q3013.78 1960.9 3010.67 1964.11 Q3007.57 1967.31 3001.92 1973.07 Z\" fill=\"#000000\" fill-rule=\"evenodd\" fill-opacity=\"1\" /><path clip-path=\"url(#clip500)\" d=\"M3053.82 1973.07 L3061.45 1973.07 L3061.45 1946.71 L3053.14 1948.37 L3053.14 1944.11 L3061.41 1942.45 L3066.08 1942.45 L3066.08 1973.07 L3073.72 1973.07 L3073.72 1977.01 L3053.82 1977.01 L3053.82 1973.07 Z\" fill=\"#000000\" fill-rule=\"evenodd\" fill-opacity=\"1\" /><path clip-path=\"url(#clip500)\" d=\"M3083.98 1973.07 L3091.62 1973.07 L3091.62 1946.71 L3083.31 1948.37 L3083.31 1944.11 L3091.57 1942.45 L3096.25 1942.45 L3096.25 1973.07 L3103.89 1973.07 L3103.89 1977.01 L3083.98 1977.01 L3083.98 1973.07 Z\" fill=\"#000000\" fill-rule=\"evenodd\" fill-opacity=\"1\" /><path clip-path=\"url(#clip500)\" d=\"M3124.2 1973.07 L3131.84 1973.07 L3131.84 1946.71 L3123.53 1948.37 L3123.53 1944.11 L3131.8 1942.45 L3136.47 1942.45 L3136.47 1973.07 L3144.11 1973.07 L3144.11 1977.01 L3124.2 1977.01 L3124.2 1973.07 Z\" fill=\"#000000\" fill-rule=\"evenodd\" fill-opacity=\"1\" /><path clip-path=\"url(#clip500)\" d=\"M3166.4 1946.52 L3154.6 1964.97 L3166.4 1964.97 L3166.4 1946.52 M3165.18 1942.45 L3171.06 1942.45 L3171.06 1964.97 L3175.99 1964.97 L3175.99 1968.86 L3171.06 1968.86 L3171.06 1977.01 L3166.4 1977.01 L3166.4 1968.86 L3150.8 1968.86 L3150.8 1964.35 L3165.18 1942.45 Z\" fill=\"#000000\" fill-rule=\"evenodd\" fill-opacity=\"1\" /><path clip-path=\"url(#clip500)\" d=\"M3196.19 1973.07 L3203.83 1973.07 L3203.83 1946.71 L3195.52 1948.37 L3195.52 1944.11 L3203.78 1942.45 L3208.46 1942.45 L3208.46 1973.07 L3216.1 1973.07 L3216.1 1977.01 L3196.19 1977.01 L3196.19 1973.07 Z\" fill=\"#000000\" fill-rule=\"evenodd\" fill-opacity=\"1\" /><path clip-path=\"url(#clip500)\" d=\"M3225.59 1942.45 L3243.94 1942.45 L3243.94 1946.38 L3229.87 1946.38 L3229.87 1954.86 Q3230.89 1954.51 3231.91 1954.35 Q3232.92 1954.16 3233.94 1954.16 Q3239.73 1954.16 3243.11 1957.33 Q3246.49 1960.5 3246.49 1965.92 Q3246.49 1971.5 3243.02 1974.6 Q3239.55 1977.68 3233.23 1977.68 Q3231.05 1977.68 3228.78 1977.31 Q3226.54 1976.94 3224.13 1976.2 L3224.13 1971.5 Q3226.21 1972.63 3228.43 1973.19 Q3230.66 1973.74 3233.13 1973.74 Q3237.14 1973.74 3239.48 1971.64 Q3241.81 1969.53 3241.81 1965.92 Q3241.81 1962.31 3239.48 1960.2 Q3237.14 1958.1 3233.13 1958.1 Q3231.26 1958.1 3229.38 1958.51 Q3227.53 1958.93 3225.59 1959.81 L3225.59 1942.45 Z\" fill=\"#000000\" fill-rule=\"evenodd\" fill-opacity=\"1\" /><path clip-path=\"url(#clip500)\" d=\"M3266.85 1973.07 L3274.49 1973.07 L3274.49 1946.71 L3266.18 1948.37 L3266.18 1944.11 L3274.45 1942.45 L3279.12 1942.45 L3279.12 1973.07 L3286.76 1973.07 L3286.76 1977.01 L3266.85 1977.01 L3266.85 1973.07 Z\" fill=\"#000000\" fill-rule=\"evenodd\" fill-opacity=\"1\" /><path clip-path=\"url(#clip500)\" d=\"M3306.78 1957.86 Q3303.64 1957.86 3301.78 1960.02 Q3299.96 1962.17 3299.96 1965.92 Q3299.96 1969.65 3301.78 1971.82 Q3303.64 1973.98 3306.78 1973.98 Q3309.93 1973.98 3311.76 1971.82 Q3313.61 1969.65 3313.61 1965.92 Q3313.61 1962.17 3311.76 1960.02 Q3309.93 1957.86 3306.78 1957.86 M3316.07 1943.21 L3316.07 1947.47 Q3314.31 1946.64 3312.5 1946.2 Q3310.72 1945.76 3308.96 1945.76 Q3304.33 1945.76 3301.88 1948.88 Q3299.45 1952.01 3299.1 1958.33 Q3300.47 1956.31 3302.53 1955.25 Q3304.59 1954.16 3307.06 1954.16 Q3312.27 1954.16 3315.28 1957.33 Q3318.31 1960.48 3318.31 1965.92 Q3318.31 1971.24 3315.16 1974.46 Q3312.02 1977.68 3306.78 1977.68 Q3300.79 1977.68 3297.62 1973.1 Q3294.45 1968.49 3294.45 1959.76 Q3294.45 1951.57 3298.34 1946.71 Q3302.22 1941.82 3308.78 1941.82 Q3310.53 1941.82 3312.32 1942.17 Q3314.12 1942.52 3316.07 1943.21 Z\" fill=\"#000000\" fill-rule=\"evenodd\" fill-opacity=\"1\" /><path clip-path=\"url(#clip500)\" d=\"M3338.63 1973.07 L3346.27 1973.07 L3346.27 1946.71 L3337.96 1948.37 L3337.96 1944.11 L3346.22 1942.45 L3350.9 1942.45 L3350.9 1973.07 L3358.54 1973.07 L3358.54 1977.01 L3338.63 1977.01 L3338.63 1973.07 Z\" fill=\"#000000\" fill-rule=\"evenodd\" fill-opacity=\"1\" /><path clip-path=\"url(#clip500)\" d=\"M3366.8 1942.45 L3389.02 1942.45 L3389.02 1944.44 L3376.48 1977.01 L3371.59 1977.01 L3383.4 1946.38 L3366.8 1946.38 L3366.8 1942.45 Z\" fill=\"#000000\" fill-rule=\"evenodd\" fill-opacity=\"1\" /><path clip-path=\"url(#clip500)\" d=\"M3410.22 1973.07 L3417.86 1973.07 L3417.86 1946.71 L3409.55 1948.37 L3409.55 1944.11 L3417.82 1942.45 L3422.49 1942.45 L3422.49 1973.07 L3430.13 1973.07 L3430.13 1977.01 L3410.22 1977.01 L3410.22 1973.07 Z\" fill=\"#000000\" fill-rule=\"evenodd\" fill-opacity=\"1\" /><path clip-path=\"url(#clip500)\" d=\"M3443.6 1973.07 L3459.92 1973.07 L3459.92 1977.01 L3437.98 1977.01 L3437.98 1973.07 Q3440.64 1970.32 3445.22 1965.69 Q3449.83 1961.04 3451.01 1959.69 Q3453.25 1957.17 3454.13 1955.43 Q3455.04 1953.67 3455.04 1951.98 Q3455.04 1949.23 3453.09 1947.49 Q3451.17 1945.76 3448.07 1945.76 Q3445.87 1945.76 3443.42 1946.52 Q3440.99 1947.29 3438.21 1948.84 L3438.21 1944.11 Q3441.03 1942.98 3443.49 1942.4 Q3445.94 1941.82 3447.98 1941.82 Q3453.35 1941.82 3456.54 1944.51 Q3459.74 1947.19 3459.74 1951.68 Q3459.74 1953.81 3458.93 1955.73 Q3458.14 1957.63 3456.03 1960.23 Q3455.45 1960.9 3452.35 1964.11 Q3449.25 1967.31 3443.6 1973.07 Z\" fill=\"#000000\" fill-rule=\"evenodd\" fill-opacity=\"1\" /><path clip-path=\"url(#clip500)\" d=\"M3480.99 1973.07 L3488.63 1973.07 L3488.63 1946.71 L3480.32 1948.37 L3480.32 1944.11 L3488.59 1942.45 L3493.26 1942.45 L3493.26 1973.07 L3500.9 1973.07 L3500.9 1977.01 L3480.99 1977.01 L3480.99 1973.07 Z\" fill=\"#000000\" fill-rule=\"evenodd\" fill-opacity=\"1\" /><path clip-path=\"url(#clip500)\" d=\"M3524.51 1958.37 Q3527.87 1959.09 3529.74 1961.36 Q3531.64 1963.63 3531.64 1966.96 Q3531.64 1972.08 3528.12 1974.88 Q3524.6 1977.68 3518.12 1977.68 Q3515.95 1977.68 3513.63 1977.24 Q3511.34 1976.82 3508.89 1975.97 L3508.89 1971.45 Q3510.83 1972.59 3513.15 1973.17 Q3515.46 1973.74 3517.98 1973.74 Q3522.38 1973.74 3524.67 1972.01 Q3526.99 1970.27 3526.99 1966.96 Q3526.99 1963.91 3524.83 1962.19 Q3522.71 1960.46 3518.89 1960.46 L3514.86 1960.46 L3514.86 1956.61 L3519.07 1956.61 Q3522.52 1956.61 3524.35 1955.25 Q3526.18 1953.86 3526.18 1951.27 Q3526.18 1948.61 3524.28 1947.19 Q3522.4 1945.76 3518.89 1945.76 Q3516.96 1945.76 3514.77 1946.17 Q3512.57 1946.59 3509.93 1947.47 L3509.93 1943.3 Q3512.59 1942.56 3514.9 1942.19 Q3517.24 1941.82 3519.3 1941.82 Q3524.63 1941.82 3527.73 1944.25 Q3530.83 1946.66 3530.83 1950.78 Q3530.83 1953.65 3529.19 1955.64 Q3527.54 1957.61 3524.51 1958.37 Z\" fill=\"#000000\" fill-rule=\"evenodd\" fill-opacity=\"1\" /><path clip-path=\"url(#clip500)\" d=\"M3555.76 1973.07 L3572.07 1973.07 L3572.07 1977.01 L3550.13 1977.01 L3550.13 1973.07 Q3552.79 1970.32 3557.38 1965.69 Q3561.98 1961.04 3563.16 1959.69 Q3565.41 1957.17 3566.29 1955.43 Q3567.19 1953.67 3567.19 1951.98 Q3567.19 1949.23 3565.25 1947.49 Q3563.32 1945.76 3560.22 1945.76 Q3558.02 1945.76 3555.57 1946.52 Q3553.14 1947.29 3550.36 1948.84 L3550.36 1944.11 Q3553.19 1942.98 3555.64 1942.4 Q3558.09 1941.82 3560.13 1941.82 Q3565.5 1941.82 3568.7 1944.51 Q3571.89 1947.19 3571.89 1951.68 Q3571.89 1953.81 3571.08 1955.73 Q3570.29 1957.63 3568.19 1960.23 Q3567.61 1960.9 3564.51 1964.11 Q3561.4 1967.31 3555.76 1973.07 Z\" fill=\"#000000\" fill-rule=\"evenodd\" fill-opacity=\"1\" /><path clip-path=\"url(#clip500)\" d=\"M3594.74 1946.52 L3582.93 1964.97 L3594.74 1964.97 L3594.74 1946.52 M3593.51 1942.45 L3599.39 1942.45 L3599.39 1964.97 L3604.32 1964.97 L3604.32 1968.86 L3599.39 1968.86 L3599.39 1977.01 L3594.74 1977.01 L3594.74 1968.86 L3579.13 1968.86 L3579.13 1964.35 L3593.51 1942.45 Z\" fill=\"#000000\" fill-rule=\"evenodd\" fill-opacity=\"1\" /><path clip-path=\"url(#clip500)\" d=\"M3622.93 1942.45 L3641.28 1942.45 L3641.28 1946.38 L3627.21 1946.38 L3627.21 1954.86 Q3628.23 1954.51 3629.24 1954.35 Q3630.26 1954.16 3631.28 1954.16 Q3637.07 1954.16 3640.45 1957.33 Q3643.83 1960.5 3643.83 1965.92 Q3643.83 1971.5 3640.36 1974.6 Q3636.88 1977.68 3630.56 1977.68 Q3628.39 1977.68 3626.12 1977.31 Q3623.87 1976.94 3621.47 1976.2 L3621.47 1971.5 Q3623.55 1972.63 3625.77 1973.19 Q3627.99 1973.74 3630.47 1973.74 Q3634.48 1973.74 3636.81 1971.64 Q3639.15 1969.53 3639.15 1965.92 Q3639.15 1962.31 3636.81 1960.2 Q3634.48 1958.1 3630.47 1958.1 Q3628.6 1958.1 3626.72 1958.51 Q3624.87 1958.93 3622.93 1959.81 L3622.93 1942.45 Z\" fill=\"#000000\" fill-rule=\"evenodd\" fill-opacity=\"1\" /><path clip-path=\"url(#clip500)\" d=\"M3665.89 1946.52 L3654.08 1964.97 L3665.89 1964.97 L3665.89 1946.52 M3664.66 1942.45 L3670.54 1942.45 L3670.54 1964.97 L3675.47 1964.97 L3675.47 1968.86 L3670.54 1968.86 L3670.54 1977.01 L3665.89 1977.01 L3665.89 1968.86 L3650.29 1968.86 L3650.29 1964.35 L3664.66 1942.45 Z\" fill=\"#000000\" fill-rule=\"evenodd\" fill-opacity=\"1\" /><path clip-path=\"url(#clip500)\" d=\"M3709.17 1958.37 Q3712.53 1959.09 3714.4 1961.36 Q3716.3 1963.63 3716.3 1966.96 Q3716.3 1972.08 3712.78 1974.88 Q3709.26 1977.68 3702.78 1977.68 Q3700.6 1977.68 3698.29 1977.24 Q3696 1976.82 3693.54 1975.97 L3693.54 1971.45 Q3695.49 1972.59 3697.8 1973.17 Q3700.12 1973.74 3702.64 1973.74 Q3707.04 1973.74 3709.33 1972.01 Q3711.65 1970.27 3711.65 1966.96 Q3711.65 1963.91 3709.49 1962.19 Q3707.36 1960.46 3703.54 1960.46 L3699.52 1960.46 L3699.52 1956.61 L3703.73 1956.61 Q3707.18 1956.61 3709.01 1955.25 Q3710.84 1953.86 3710.84 1951.27 Q3710.84 1948.61 3708.94 1947.19 Q3707.06 1945.76 3703.54 1945.76 Q3701.62 1945.76 3699.42 1946.17 Q3697.23 1946.59 3694.59 1947.47 L3694.59 1943.3 Q3697.25 1942.56 3699.56 1942.19 Q3701.9 1941.82 3703.96 1941.82 Q3709.29 1941.82 3712.39 1944.25 Q3715.49 1946.66 3715.49 1950.78 Q3715.49 1953.65 3713.85 1955.64 Q3712.2 1957.61 3709.17 1958.37 Z\" fill=\"#000000\" fill-rule=\"evenodd\" fill-opacity=\"1\" /><path clip-path=\"url(#clip500)\" d=\"M3725.98 1973.07 L3733.61 1973.07 L3733.61 1946.71 L3725.3 1948.37 L3725.3 1944.11 L3733.57 1942.45 L3738.24 1942.45 L3738.24 1973.07 L3745.88 1973.07 L3745.88 1977.01 L3725.98 1977.01 L3725.98 1973.07 Z\" fill=\"#000000\" fill-rule=\"evenodd\" fill-opacity=\"1\" /><path clip-path=\"url(#clip500)\" d=\"M3780.6 1958.37 Q3783.96 1959.09 3785.83 1961.36 Q3787.73 1963.63 3787.73 1966.96 Q3787.73 1972.08 3784.21 1974.88 Q3780.69 1977.68 3774.21 1977.68 Q3772.03 1977.68 3769.72 1977.24 Q3767.43 1976.82 3764.97 1975.97 L3764.97 1971.45 Q3766.92 1972.59 3769.23 1973.17 Q3771.55 1973.74 3774.07 1973.74 Q3778.47 1973.74 3780.76 1972.01 Q3783.08 1970.27 3783.08 1966.96 Q3783.08 1963.91 3780.92 1962.19 Q3778.79 1960.46 3774.97 1960.46 L3770.95 1960.46 L3770.95 1956.61 L3775.16 1956.61 Q3778.61 1956.61 3780.44 1955.25 Q3782.27 1953.86 3782.27 1951.27 Q3782.27 1948.61 3780.37 1947.19 Q3778.49 1945.76 3774.97 1945.76 Q3773.05 1945.76 3770.85 1946.17 Q3768.65 1946.59 3766.02 1947.47 L3766.02 1943.3 Q3768.68 1942.56 3770.99 1942.19 Q3773.33 1941.82 3775.39 1941.82 Q3780.71 1941.82 3783.82 1944.25 Q3786.92 1946.66 3786.92 1950.78 Q3786.92 1953.65 3785.28 1955.64 Q3783.63 1957.61 3780.6 1958.37 Z\" fill=\"#000000\" fill-rule=\"evenodd\" fill-opacity=\"1\" /><path clip-path=\"url(#clip500)\" d=\"M3800.62 1973.07 L3816.94 1973.07 L3816.94 1977.01 L3795 1977.01 L3795 1973.07 Q3797.66 1970.32 3802.24 1965.69 Q3806.85 1961.04 3808.03 1959.69 Q3810.28 1957.17 3811.15 1955.43 Q3812.06 1953.67 3812.06 1951.98 Q3812.06 1949.23 3810.11 1947.49 Q3808.19 1945.76 3805.09 1945.76 Q3802.89 1945.76 3800.44 1946.52 Q3798.01 1947.29 3795.23 1948.84 L3795.23 1944.11 Q3798.05 1942.98 3800.51 1942.4 Q3802.96 1941.82 3805 1941.82 Q3810.37 1941.82 3813.56 1944.51 Q3816.76 1947.19 3816.76 1951.68 Q3816.76 1953.81 3815.95 1955.73 Q3815.16 1957.63 3813.05 1960.23 Q3812.47 1960.9 3809.37 1964.11 Q3806.27 1967.31 3800.62 1973.07 Z\" fill=\"#000000\" fill-rule=\"evenodd\" fill-opacity=\"1\" /><path clip-path=\"url(#clip500)\" d=\"M3851.37 1958.37 Q3854.73 1959.09 3856.6 1961.36 Q3858.5 1963.63 3858.5 1966.96 Q3858.5 1972.08 3854.98 1974.88 Q3851.46 1977.68 3844.98 1977.68 Q3842.8 1977.68 3840.49 1977.24 Q3838.2 1976.82 3835.74 1975.97 L3835.74 1971.45 Q3837.69 1972.59 3840 1973.17 Q3842.32 1973.74 3844.84 1973.74 Q3849.24 1973.74 3851.53 1972.01 Q3853.85 1970.27 3853.85 1966.96 Q3853.85 1963.91 3851.69 1962.19 Q3849.56 1960.46 3845.74 1960.46 L3841.72 1960.46 L3841.72 1956.61 L3845.93 1956.61 Q3849.38 1956.61 3851.21 1955.25 Q3853.04 1953.86 3853.04 1951.27 Q3853.04 1948.61 3851.14 1947.19 Q3849.26 1945.76 3845.74 1945.76 Q3843.82 1945.76 3841.62 1946.17 Q3839.42 1946.59 3836.79 1947.47 L3836.79 1943.3 Q3839.45 1942.56 3841.76 1942.19 Q3844.1 1941.82 3846.16 1941.82 Q3851.48 1941.82 3854.59 1944.25 Q3857.69 1946.66 3857.69 1950.78 Q3857.69 1953.65 3856.04 1955.64 Q3854.4 1957.61 3851.37 1958.37 Z\" fill=\"#000000\" fill-rule=\"evenodd\" fill-opacity=\"1\" /><path clip-path=\"url(#clip500)\" d=\"M3881.53 1958.37 Q3884.89 1959.09 3886.76 1961.36 Q3888.66 1963.63 3888.66 1966.96 Q3888.66 1972.08 3885.14 1974.88 Q3881.62 1977.68 3875.14 1977.68 Q3872.97 1977.68 3870.65 1977.24 Q3868.36 1976.82 3865.91 1975.97 L3865.91 1971.45 Q3867.85 1972.59 3870.17 1973.17 Q3872.48 1973.74 3875 1973.74 Q3879.4 1973.74 3881.69 1972.01 Q3884.01 1970.27 3884.01 1966.96 Q3884.01 1963.91 3881.85 1962.19 Q3879.73 1960.46 3875.91 1960.46 L3871.88 1960.46 L3871.88 1956.61 L3876.09 1956.61 Q3879.54 1956.61 3881.37 1955.25 Q3883.2 1953.86 3883.2 1951.27 Q3883.2 1948.61 3881.3 1947.19 Q3879.42 1945.76 3875.91 1945.76 Q3873.98 1945.76 3871.79 1946.17 Q3869.59 1946.59 3866.95 1947.47 L3866.95 1943.3 Q3869.61 1942.56 3871.92 1942.19 Q3874.26 1941.82 3876.32 1941.82 Q3881.65 1941.82 3884.75 1944.25 Q3887.85 1946.66 3887.85 1950.78 Q3887.85 1953.65 3886.21 1955.64 Q3884.56 1957.61 3881.53 1958.37 Z\" fill=\"#000000\" fill-rule=\"evenodd\" fill-opacity=\"1\" /><path clip-path=\"url(#clip500)\" d=\"M3912.31 1973.07 L3928.63 1973.07 L3928.63 1977.01 L3906.69 1977.01 L3906.69 1973.07 Q3909.35 1970.32 3913.93 1965.69 Q3918.54 1961.04 3919.72 1959.69 Q3921.97 1957.17 3922.84 1955.43 Q3923.75 1953.67 3923.75 1951.98 Q3923.75 1949.23 3921.8 1947.49 Q3919.88 1945.76 3916.78 1945.76 Q3914.58 1945.76 3912.13 1946.52 Q3909.7 1947.29 3906.92 1948.84 L3906.92 1944.11 Q3909.74 1942.98 3912.2 1942.4 Q3914.65 1941.82 3916.69 1941.82 Q3922.06 1941.82 3925.25 1944.51 Q3928.45 1947.19 3928.45 1951.68 Q3928.45 1953.81 3927.64 1955.73 Q3926.85 1957.63 3924.74 1960.23 Q3924.16 1960.9 3921.06 1964.11 Q3917.96 1967.31 3912.31 1973.07 Z\" fill=\"#000000\" fill-rule=\"evenodd\" fill-opacity=\"1\" /><path clip-path=\"url(#clip500)\" d=\"M3938.59 1976.29 L3938.59 1972.03 Q3940.34 1972.86 3942.15 1973.3 Q3943.96 1973.74 3945.69 1973.74 Q3950.32 1973.74 3952.75 1970.64 Q3955.21 1967.52 3955.55 1961.17 Q3954.21 1963.17 3952.15 1964.23 Q3950.09 1965.29 3947.59 1965.29 Q3942.4 1965.29 3939.37 1962.17 Q3936.36 1959.02 3936.36 1953.58 Q3936.36 1948.26 3939.51 1945.04 Q3942.66 1941.82 3947.89 1941.82 Q3953.89 1941.82 3957.03 1946.43 Q3960.21 1951.01 3960.21 1959.76 Q3960.21 1967.93 3956.32 1972.82 Q3952.45 1977.68 3945.9 1977.68 Q3944.14 1977.68 3942.34 1977.33 Q3940.53 1976.98 3938.59 1976.29 M3947.89 1961.64 Q3951.04 1961.64 3952.87 1959.48 Q3954.72 1957.33 3954.72 1953.58 Q3954.72 1949.86 3952.87 1947.7 Q3951.04 1945.53 3947.89 1945.53 Q3944.74 1945.53 3942.89 1947.7 Q3941.06 1949.86 3941.06 1953.58 Q3941.06 1957.33 3942.89 1959.48 Q3944.74 1961.64 3947.89 1961.64 Z\" fill=\"#000000\" fill-rule=\"evenodd\" fill-opacity=\"1\" /><path clip-path=\"url(#clip500)\" d=\"M3993.53 1958.37 Q3996.89 1959.09 3998.76 1961.36 Q4000.66 1963.63 4000.66 1966.96 Q4000.66 1972.08 3997.14 1974.88 Q3993.63 1977.68 3987.14 1977.68 Q3984.97 1977.68 3982.65 1977.24 Q3980.36 1976.82 3977.91 1975.97 L3977.91 1971.45 Q3979.85 1972.59 3982.17 1973.17 Q3984.48 1973.74 3987.01 1973.74 Q3991.4 1973.74 3993.7 1972.01 Q3996.01 1970.27 3996.01 1966.96 Q3996.01 1963.91 3993.86 1962.19 Q3991.73 1960.46 3987.91 1960.46 L3983.88 1960.46 L3983.88 1956.61 L3988.09 1956.61 Q3991.54 1956.61 3993.37 1955.25 Q3995.2 1953.86 3995.2 1951.27 Q3995.2 1948.61 3993.3 1947.19 Q3991.43 1945.76 3987.91 1945.76 Q3985.99 1945.76 3983.79 1946.17 Q3981.59 1946.59 3978.95 1947.47 L3978.95 1943.3 Q3981.61 1942.56 3983.93 1942.19 Q3986.27 1941.82 3988.33 1941.82 Q3993.65 1941.82 3996.75 1944.25 Q3999.85 1946.66 3999.85 1950.78 Q3999.85 1953.65 3998.21 1955.64 Q3996.57 1957.61 3993.53 1958.37 Z\" fill=\"#000000\" fill-rule=\"evenodd\" fill-opacity=\"1\" /><path clip-path=\"url(#clip500)\" d=\"M4019.53 1945.53 Q4015.92 1945.53 4014.09 1949.09 Q4012.28 1952.63 4012.28 1959.76 Q4012.28 1966.87 4014.09 1970.43 Q4015.92 1973.98 4019.53 1973.98 Q4023.16 1973.98 4024.97 1970.43 Q4026.8 1966.87 4026.8 1959.76 Q4026.8 1952.63 4024.97 1949.09 Q4023.16 1945.53 4019.53 1945.53 M4019.53 1941.82 Q4025.34 1941.82 4028.39 1946.43 Q4031.47 1951.01 4031.47 1959.76 Q4031.47 1968.49 4028.39 1973.1 Q4025.34 1977.68 4019.53 1977.68 Q4013.72 1977.68 4010.64 1973.1 Q4007.58 1968.49 4007.58 1959.76 Q4007.58 1951.01 4010.64 1946.43 Q4013.72 1941.82 4019.53 1941.82 Z\" fill=\"#000000\" fill-rule=\"evenodd\" fill-opacity=\"1\" /><path clip-path=\"url(#clip500)\" d=\"M4050.96 1942.45 L4069.31 1942.45 L4069.31 1946.38 L4055.24 1946.38 L4055.24 1954.86 Q4056.26 1954.51 4057.28 1954.35 Q4058.3 1954.16 4059.31 1954.16 Q4065.1 1954.16 4068.48 1957.33 Q4071.86 1960.5 4071.86 1965.92 Q4071.86 1971.5 4068.39 1974.6 Q4064.92 1977.68 4058.6 1977.68 Q4056.42 1977.68 4054.15 1977.31 Q4051.91 1976.94 4049.5 1976.2 L4049.5 1971.5 Q4051.58 1972.63 4053.81 1973.19 Q4056.03 1973.74 4058.5 1973.74 Q4062.51 1973.74 4064.85 1971.64 Q4067.19 1969.53 4067.19 1965.92 Q4067.19 1962.31 4064.85 1960.2 Q4062.51 1958.1 4058.5 1958.1 Q4056.63 1958.1 4054.75 1958.51 Q4052.9 1958.93 4050.96 1959.81 L4050.96 1942.45 Z\" fill=\"#000000\" fill-rule=\"evenodd\" fill-opacity=\"1\" /><path clip-path=\"url(#clip500)\" d=\"M4095.24 1958.37 Q4098.6 1959.09 4100.47 1961.36 Q4102.37 1963.63 4102.37 1966.96 Q4102.37 1972.08 4098.85 1974.88 Q4095.33 1977.68 4088.85 1977.68 Q4086.68 1977.68 4084.36 1977.24 Q4082.07 1976.82 4079.62 1975.97 L4079.62 1971.45 Q4081.56 1972.59 4083.87 1973.17 Q4086.19 1973.74 4088.71 1973.74 Q4093.11 1973.74 4095.4 1972.01 Q4097.72 1970.27 4097.72 1966.96 Q4097.72 1963.91 4095.56 1962.19 Q4093.44 1960.46 4089.62 1960.46 L4085.59 1960.46 L4085.59 1956.61 L4089.8 1956.61 Q4093.25 1956.61 4095.08 1955.25 Q4096.91 1953.86 4096.91 1951.27 Q4096.91 1948.61 4095.01 1947.19 Q4093.13 1945.76 4089.62 1945.76 Q4087.69 1945.76 4085.5 1946.17 Q4083.3 1946.59 4080.66 1947.47 L4080.66 1943.3 Q4083.32 1942.56 4085.63 1942.19 Q4087.97 1941.82 4090.03 1941.82 Q4095.36 1941.82 4098.46 1944.25 Q4101.56 1946.66 4101.56 1950.78 Q4101.56 1953.65 4099.92 1955.64 Q4098.27 1957.61 4095.24 1958.37 Z\" fill=\"#000000\" fill-rule=\"evenodd\" fill-opacity=\"1\" /><path clip-path=\"url(#clip500)\" d=\"M4135.85 1946.52 L4124.04 1964.97 L4135.85 1964.97 L4135.85 1946.52 M4134.62 1942.45 L4140.5 1942.45 L4140.5 1964.97 L4145.43 1964.97 L4145.43 1968.86 L4140.5 1968.86 L4140.5 1977.01 L4135.85 1977.01 L4135.85 1968.86 L4120.25 1968.86 L4120.25 1964.35 L4134.62 1942.45 Z\" fill=\"#000000\" fill-rule=\"evenodd\" fill-opacity=\"1\" /><path clip-path=\"url(#clip500)\" d=\"M4153.21 1942.45 L4171.57 1942.45 L4171.57 1946.38 L4157.49 1946.38 L4157.49 1954.86 Q4158.51 1954.51 4159.53 1954.35 Q4160.55 1954.16 4161.57 1954.16 Q4167.35 1954.16 4170.73 1957.33 Q4174.11 1960.5 4174.11 1965.92 Q4174.11 1971.5 4170.64 1974.6 Q4167.17 1977.68 4160.85 1977.68 Q4158.67 1977.68 4156.4 1977.31 Q4154.16 1976.94 4151.75 1976.2 L4151.75 1971.5 Q4153.83 1972.63 4156.06 1973.19 Q4158.28 1973.74 4160.76 1973.74 Q4164.76 1973.74 4167.1 1971.64 Q4169.44 1969.53 4169.44 1965.92 Q4169.44 1962.31 4167.1 1960.2 Q4164.76 1958.1 4160.76 1958.1 Q4158.88 1958.1 4157.01 1958.51 Q4155.15 1958.93 4153.21 1959.81 L4153.21 1942.45 Z\" fill=\"#000000\" fill-rule=\"evenodd\" fill-opacity=\"1\" /><path clip-path=\"url(#clip500)\" d=\"M4206.51 1946.52 L4194.71 1964.97 L4206.51 1964.97 L4206.51 1946.52 M4205.29 1942.45 L4211.17 1942.45 L4211.17 1964.97 L4216.1 1964.97 L4216.1 1968.86 L4211.17 1968.86 L4211.17 1977.01 L4206.51 1977.01 L4206.51 1968.86 L4190.91 1968.86 L4190.91 1964.35 L4205.29 1942.45 Z\" fill=\"#000000\" fill-rule=\"evenodd\" fill-opacity=\"1\" /><path clip-path=\"url(#clip500)\" d=\"M4234.41 1957.86 Q4231.26 1957.86 4229.41 1960.02 Q4227.58 1962.17 4227.58 1965.92 Q4227.58 1969.65 4229.41 1971.82 Q4231.26 1973.98 4234.41 1973.98 Q4237.56 1973.98 4239.38 1971.82 Q4241.24 1969.65 4241.24 1965.92 Q4241.24 1962.17 4239.38 1960.02 Q4237.56 1957.86 4234.41 1957.86 M4243.69 1943.21 L4243.69 1947.47 Q4241.93 1946.64 4240.12 1946.2 Q4238.34 1945.76 4236.58 1945.76 Q4231.95 1945.76 4229.5 1948.88 Q4227.07 1952.01 4226.72 1958.33 Q4228.09 1956.31 4230.15 1955.25 Q4232.21 1954.16 4234.69 1954.16 Q4239.89 1954.16 4242.9 1957.33 Q4245.94 1960.48 4245.94 1965.92 Q4245.94 1971.24 4242.79 1974.46 Q4239.64 1977.68 4234.41 1977.68 Q4228.41 1977.68 4225.24 1973.1 Q4222.07 1968.49 4222.07 1959.76 Q4222.07 1951.57 4225.96 1946.71 Q4229.85 1941.82 4236.4 1941.82 Q4238.16 1941.82 4239.94 1942.17 Q4241.75 1942.52 4243.69 1943.21 Z\" fill=\"#000000\" fill-rule=\"evenodd\" fill-opacity=\"1\" /><path clip-path=\"url(#clip500)\" d=\"M4268.89 1973.07 L4285.21 1973.07 L4285.21 1977.01 L4263.27 1977.01 L4263.27 1973.07 Q4265.93 1970.32 4270.51 1965.69 Q4275.12 1961.04 4276.3 1959.69 Q4278.55 1957.17 4279.43 1955.43 Q4280.33 1953.67 4280.33 1951.98 Q4280.33 1949.23 4278.38 1947.49 Q4276.46 1945.76 4273.36 1945.76 Q4271.16 1945.76 4268.71 1946.52 Q4266.28 1947.29 4263.5 1948.84 L4263.5 1944.11 Q4266.32 1942.98 4268.78 1942.4 Q4271.23 1941.82 4273.27 1941.82 Q4278.64 1941.82 4281.83 1944.51 Q4285.03 1947.19 4285.03 1951.68 Q4285.03 1953.81 4284.22 1955.73 Q4283.43 1957.63 4281.32 1960.23 Q4280.74 1960.9 4277.64 1964.11 Q4274.54 1967.31 4268.89 1973.07 Z\" fill=\"#000000\" fill-rule=\"evenodd\" fill-opacity=\"1\" /><path clip-path=\"url(#clip500)\" d=\"M4293.85 1942.45 L4316.07 1942.45 L4316.07 1944.44 L4303.52 1977.01 L4298.64 1977.01 L4310.44 1946.38 L4293.85 1946.38 L4293.85 1942.45 Z\" fill=\"#000000\" fill-rule=\"evenodd\" fill-opacity=\"1\" /><path clip-path=\"url(#clip500)\" d=\"M4349.88 1946.52 L4338.08 1964.97 L4349.88 1964.97 L4349.88 1946.52 M4348.66 1942.45 L4354.54 1942.45 L4354.54 1964.97 L4359.47 1964.97 L4359.47 1968.86 L4354.54 1968.86 L4354.54 1977.01 L4349.88 1977.01 L4349.88 1968.86 L4334.28 1968.86 L4334.28 1964.35 L4348.66 1942.45 Z\" fill=\"#000000\" fill-rule=\"evenodd\" fill-opacity=\"1\" /><path clip-path=\"url(#clip500)\" d=\"M4371.22 1973.07 L4387.54 1973.07 L4387.54 1977.01 L4365.6 1977.01 L4365.6 1973.07 Q4368.26 1970.32 4372.85 1965.69 Q4377.45 1961.04 4378.63 1959.69 Q4380.88 1957.17 4381.76 1955.43 Q4382.66 1953.67 4382.66 1951.98 Q4382.66 1949.23 4380.72 1947.49 Q4378.79 1945.76 4375.69 1945.76 Q4373.49 1945.76 4371.04 1946.52 Q4368.61 1947.29 4365.83 1948.84 L4365.83 1944.11 Q4368.66 1942.98 4371.11 1942.4 Q4373.56 1941.82 4375.6 1941.82 Q4380.97 1941.82 4384.16 1944.51 Q4387.36 1947.19 4387.36 1951.68 Q4387.36 1953.81 4386.55 1955.73 Q4385.76 1957.63 4383.66 1960.23 Q4383.08 1960.9 4379.97 1964.11 Q4376.87 1967.31 4371.22 1973.07 Z\" fill=\"#000000\" fill-rule=\"evenodd\" fill-opacity=\"1\" /><path clip-path=\"url(#clip500)\" d=\"M4420.08 1946.52 L4408.28 1964.97 L4420.08 1964.97 L4420.08 1946.52 M4418.86 1942.45 L4424.74 1942.45 L4424.74 1964.97 L4429.67 1964.97 L4429.67 1968.86 L4424.74 1968.86 L4424.74 1977.01 L4420.08 1977.01 L4420.08 1968.86 L4404.48 1968.86 L4404.48 1964.35 L4418.86 1942.45 Z\" fill=\"#000000\" fill-rule=\"evenodd\" fill-opacity=\"1\" /><path clip-path=\"url(#clip500)\" d=\"M4450.25 1946.52 L4438.44 1964.97 L4450.25 1964.97 L4450.25 1946.52 M4449.02 1942.45 L4454.9 1942.45 L4454.9 1964.97 L4459.83 1964.97 L4459.83 1968.86 L4454.9 1968.86 L4454.9 1977.01 L4450.25 1977.01 L4450.25 1968.86 L4434.65 1968.86 L4434.65 1964.35 L4449.02 1942.45 Z\" fill=\"#000000\" fill-rule=\"evenodd\" fill-opacity=\"1\" /><path clip-path=\"url(#clip500)\" d=\"M4492.29 1942.45 L4514.51 1942.45 L4514.51 1944.44 L4501.97 1977.01 L4497.08 1977.01 L4508.89 1946.38 L4492.29 1946.38 L4492.29 1942.45 Z\" fill=\"#000000\" fill-rule=\"evenodd\" fill-opacity=\"1\" /><path clip-path=\"url(#clip500)\" d=\"M4575.05 1957.86 Q4571.9 1957.86 4570.05 1960.02 Q4568.22 1962.17 4568.22 1965.92 Q4568.22 1969.65 4570.05 1971.82 Q4571.9 1973.98 4575.05 1973.98 Q4578.2 1973.98 4580.03 1971.82 Q4581.88 1969.65 4581.88 1965.92 Q4581.88 1962.17 4580.03 1960.02 Q4578.2 1957.86 4575.05 1957.86 M4584.33 1943.21 L4584.33 1947.47 Q4582.57 1946.64 4580.77 1946.2 Q4578.99 1945.76 4577.23 1945.76 Q4572.6 1945.76 4570.14 1948.88 Q4567.71 1952.01 4567.37 1958.33 Q4568.73 1956.31 4570.79 1955.25 Q4572.85 1954.16 4575.33 1954.16 Q4580.54 1954.16 4583.55 1957.33 Q4586.58 1960.48 4586.58 1965.92 Q4586.58 1971.24 4583.43 1974.46 Q4580.28 1977.68 4575.05 1977.68 Q4569.05 1977.68 4565.88 1973.1 Q4562.71 1968.49 4562.71 1959.76 Q4562.71 1951.57 4566.6 1946.71 Q4570.49 1941.82 4577.04 1941.82 Q4578.8 1941.82 4580.58 1942.17 Q4582.39 1942.52 4584.33 1943.21 Z\" fill=\"#000000\" fill-rule=\"evenodd\" fill-opacity=\"1\" /><path clip-path=\"url(#clip500)\" d=\"M4636.17 1942.45 L4654.52 1942.45 L4654.52 1946.38 L4640.45 1946.38 L4640.45 1954.86 Q4641.47 1954.51 4642.49 1954.35 Q4643.51 1954.16 4644.52 1954.16 Q4650.31 1954.16 4653.69 1957.33 Q4657.07 1960.5 4657.07 1965.92 Q4657.07 1971.5 4653.6 1974.6 Q4650.13 1977.68 4643.81 1977.68 Q4641.63 1977.68 4639.36 1977.31 Q4637.12 1976.94 4634.71 1976.2 L4634.71 1971.5 Q4636.79 1972.63 4639.01 1973.19 Q4641.24 1973.74 4643.71 1973.74 Q4647.72 1973.74 4650.06 1971.64 Q4652.39 1969.53 4652.39 1965.92 Q4652.39 1962.31 4650.06 1960.2 Q4647.72 1958.1 4643.71 1958.1 Q4641.84 1958.1 4639.96 1958.51 Q4638.11 1958.93 4636.17 1959.81 L4636.17 1942.45 Z\" fill=\"#000000\" fill-rule=\"evenodd\" fill-opacity=\"1\" /><path clip-path=\"url(#clip500)\" d=\"M4717.13 1960.6 Q4713.8 1960.6 4711.88 1962.38 Q4709.98 1964.16 4709.98 1967.29 Q4709.98 1970.41 4711.88 1972.19 Q4713.8 1973.98 4717.13 1973.98 Q4720.47 1973.98 4722.39 1972.19 Q4724.31 1970.39 4724.31 1967.29 Q4724.31 1964.16 4722.39 1962.38 Q4720.49 1960.6 4717.13 1960.6 M4712.46 1958.61 Q4709.45 1957.86 4707.76 1955.8 Q4706.09 1953.74 4706.09 1950.78 Q4706.09 1946.64 4709.03 1944.23 Q4711.99 1941.82 4717.13 1941.82 Q4722.3 1941.82 4725.24 1944.23 Q4728.18 1946.64 4728.18 1950.78 Q4728.18 1953.74 4726.49 1955.8 Q4724.82 1957.86 4721.83 1958.61 Q4725.21 1959.39 4727.09 1961.68 Q4728.99 1963.98 4728.99 1967.29 Q4728.99 1972.31 4725.91 1974.99 Q4722.85 1977.68 4717.13 1977.68 Q4711.42 1977.68 4708.34 1974.99 Q4705.28 1972.31 4705.28 1967.29 Q4705.28 1963.98 4707.18 1961.68 Q4709.08 1959.39 4712.46 1958.61 M4710.74 1951.22 Q4710.74 1953.91 4712.41 1955.41 Q4714.1 1956.92 4717.13 1956.92 Q4720.14 1956.92 4721.83 1955.41 Q4723.55 1953.91 4723.55 1951.22 Q4723.55 1948.54 4721.83 1947.03 Q4720.14 1945.53 4717.13 1945.53 Q4714.1 1945.53 4712.41 1947.03 Q4710.74 1948.54 4710.74 1951.22 Z\" fill=\"#000000\" fill-rule=\"evenodd\" fill-opacity=\"1\" /><polyline clip-path=\"url(#clip502)\" style=\"stroke:#000000; stroke-linecap:round; stroke-linejoin:round; stroke-width:2; stroke-opacity:0.1; fill:none\" points=\"\n",
       "  193.121,1895.41 4752.76,1895.41 \n",
       "  \"/>\n",
       "<polyline clip-path=\"url(#clip502)\" style=\"stroke:#000000; stroke-linecap:round; stroke-linejoin:round; stroke-width:2; stroke-opacity:0.1; fill:none\" points=\"\n",
       "  193.121,1606.87 4752.76,1606.87 \n",
       "  \"/>\n",
       "<polyline clip-path=\"url(#clip502)\" style=\"stroke:#000000; stroke-linecap:round; stroke-linejoin:round; stroke-width:2; stroke-opacity:0.1; fill:none\" points=\"\n",
       "  193.121,1318.32 4752.76,1318.32 \n",
       "  \"/>\n",
       "<polyline clip-path=\"url(#clip502)\" style=\"stroke:#000000; stroke-linecap:round; stroke-linejoin:round; stroke-width:2; stroke-opacity:0.1; fill:none\" points=\"\n",
       "  193.121,1029.78 4752.76,1029.78 \n",
       "  \"/>\n",
       "<polyline clip-path=\"url(#clip502)\" style=\"stroke:#000000; stroke-linecap:round; stroke-linejoin:round; stroke-width:2; stroke-opacity:0.1; fill:none\" points=\"\n",
       "  193.121,741.242 4752.76,741.242 \n",
       "  \"/>\n",
       "<polyline clip-path=\"url(#clip502)\" style=\"stroke:#000000; stroke-linecap:round; stroke-linejoin:round; stroke-width:2; stroke-opacity:0.1; fill:none\" points=\"\n",
       "  193.121,452.701 4752.76,452.701 \n",
       "  \"/>\n",
       "<polyline clip-path=\"url(#clip502)\" style=\"stroke:#000000; stroke-linecap:round; stroke-linejoin:round; stroke-width:2; stroke-opacity:0.1; fill:none\" points=\"\n",
       "  193.121,164.159 4752.76,164.159 \n",
       "  \"/>\n",
       "<polyline clip-path=\"url(#clip500)\" style=\"stroke:#000000; stroke-linecap:round; stroke-linejoin:round; stroke-width:4; stroke-opacity:1; fill:none\" points=\"\n",
       "  193.121,1895.41 193.121,47.2441 \n",
       "  \"/>\n",
       "<polyline clip-path=\"url(#clip500)\" style=\"stroke:#000000; stroke-linecap:round; stroke-linejoin:round; stroke-width:4; stroke-opacity:1; fill:none\" points=\"\n",
       "  193.121,1895.41 212.019,1895.41 \n",
       "  \"/>\n",
       "<polyline clip-path=\"url(#clip500)\" style=\"stroke:#000000; stroke-linecap:round; stroke-linejoin:round; stroke-width:4; stroke-opacity:1; fill:none\" points=\"\n",
       "  193.121,1606.87 212.019,1606.87 \n",
       "  \"/>\n",
       "<polyline clip-path=\"url(#clip500)\" style=\"stroke:#000000; stroke-linecap:round; stroke-linejoin:round; stroke-width:4; stroke-opacity:1; fill:none\" points=\"\n",
       "  193.121,1318.32 212.019,1318.32 \n",
       "  \"/>\n",
       "<polyline clip-path=\"url(#clip500)\" style=\"stroke:#000000; stroke-linecap:round; stroke-linejoin:round; stroke-width:4; stroke-opacity:1; fill:none\" points=\"\n",
       "  193.121,1029.78 212.019,1029.78 \n",
       "  \"/>\n",
       "<polyline clip-path=\"url(#clip500)\" style=\"stroke:#000000; stroke-linecap:round; stroke-linejoin:round; stroke-width:4; stroke-opacity:1; fill:none\" points=\"\n",
       "  193.121,741.242 212.019,741.242 \n",
       "  \"/>\n",
       "<polyline clip-path=\"url(#clip500)\" style=\"stroke:#000000; stroke-linecap:round; stroke-linejoin:round; stroke-width:4; stroke-opacity:1; fill:none\" points=\"\n",
       "  193.121,452.701 212.019,452.701 \n",
       "  \"/>\n",
       "<polyline clip-path=\"url(#clip500)\" style=\"stroke:#000000; stroke-linecap:round; stroke-linejoin:round; stroke-width:4; stroke-opacity:1; fill:none\" points=\"\n",
       "  193.121,164.159 212.019,164.159 \n",
       "  \"/>\n",
       "<path clip-path=\"url(#clip500)\" d=\"M109.177 1881.21 Q105.566 1881.21 103.737 1884.77 Q101.932 1888.31 101.932 1895.44 Q101.932 1902.55 103.737 1906.11 Q105.566 1909.66 109.177 1909.66 Q112.811 1909.66 114.617 1906.11 Q116.445 1902.55 116.445 1895.44 Q116.445 1888.31 114.617 1884.77 Q112.811 1881.21 109.177 1881.21 M109.177 1877.5 Q114.987 1877.5 118.043 1882.11 Q121.121 1886.69 121.121 1895.44 Q121.121 1904.17 118.043 1908.78 Q114.987 1913.36 109.177 1913.36 Q103.367 1913.36 100.288 1908.78 Q97.2326 1904.17 97.2326 1895.44 Q97.2326 1886.69 100.288 1882.11 Q103.367 1877.5 109.177 1877.5 Z\" fill=\"#000000\" fill-rule=\"evenodd\" fill-opacity=\"1\" /><path clip-path=\"url(#clip500)\" d=\"M73.0429 1620.21 L89.3622 1620.21 L89.3622 1624.15 L67.4179 1624.15 L67.4179 1620.21 Q70.0799 1617.46 74.6632 1612.83 Q79.2697 1608.17 80.4502 1606.83 Q82.6956 1604.31 83.5752 1602.57 Q84.478 1600.81 84.478 1599.12 Q84.478 1596.37 82.5336 1594.63 Q80.6123 1592.9 77.5104 1592.9 Q75.3114 1592.9 72.8577 1593.66 Q70.4271 1594.42 67.6494 1595.98 L67.6494 1591.25 Q70.4734 1590.12 72.9271 1589.54 Q75.3808 1588.96 77.4178 1588.96 Q82.7882 1588.96 85.9826 1591.65 Q89.177 1594.33 89.177 1598.82 Q89.177 1600.95 88.3669 1602.87 Q87.5798 1604.77 85.4734 1607.36 Q84.8947 1608.04 81.7928 1611.25 Q78.691 1614.45 73.0429 1620.21 Z\" fill=\"#000000\" fill-rule=\"evenodd\" fill-opacity=\"1\" /><path clip-path=\"url(#clip500)\" d=\"M109.177 1592.67 Q105.566 1592.67 103.737 1596.23 Q101.932 1599.77 101.932 1606.9 Q101.932 1614.01 103.737 1617.57 Q105.566 1621.11 109.177 1621.11 Q112.811 1621.11 114.617 1617.57 Q116.445 1614.01 116.445 1606.9 Q116.445 1599.77 114.617 1596.23 Q112.811 1592.67 109.177 1592.67 M109.177 1588.96 Q114.987 1588.96 118.043 1593.57 Q121.121 1598.15 121.121 1606.9 Q121.121 1615.63 118.043 1620.23 Q114.987 1624.82 109.177 1624.82 Q103.367 1624.82 100.288 1620.23 Q97.2326 1615.63 97.2326 1606.9 Q97.2326 1598.15 100.288 1593.57 Q103.367 1588.96 109.177 1588.96 Z\" fill=\"#000000\" fill-rule=\"evenodd\" fill-opacity=\"1\" /><path clip-path=\"url(#clip500)\" d=\"M81.8623 1305.12 L70.0568 1323.57 L81.8623 1323.57 L81.8623 1305.12 M80.6354 1301.04 L86.515 1301.04 L86.515 1323.57 L91.4455 1323.57 L91.4455 1327.46 L86.515 1327.46 L86.515 1335.6 L81.8623 1335.6 L81.8623 1327.46 L66.2605 1327.46 L66.2605 1322.94 L80.6354 1301.04 Z\" fill=\"#000000\" fill-rule=\"evenodd\" fill-opacity=\"1\" /><path clip-path=\"url(#clip500)\" d=\"M109.177 1304.12 Q105.566 1304.12 103.737 1307.69 Q101.932 1311.23 101.932 1318.36 Q101.932 1325.47 103.737 1329.03 Q105.566 1332.57 109.177 1332.57 Q112.811 1332.57 114.617 1329.03 Q116.445 1325.47 116.445 1318.36 Q116.445 1311.23 114.617 1307.69 Q112.811 1304.12 109.177 1304.12 M109.177 1300.42 Q114.987 1300.42 118.043 1305.03 Q121.121 1309.61 121.121 1318.36 Q121.121 1327.09 118.043 1331.69 Q114.987 1336.28 109.177 1336.28 Q103.367 1336.28 100.288 1331.69 Q97.2326 1327.09 97.2326 1318.36 Q97.2326 1309.61 100.288 1305.03 Q103.367 1300.42 109.177 1300.42 Z\" fill=\"#000000\" fill-rule=\"evenodd\" fill-opacity=\"1\" /><path clip-path=\"url(#clip500)\" d=\"M79.5938 1027.92 Q76.4456 1027.92 74.5938 1030.07 Q72.7651 1032.23 72.7651 1035.98 Q72.7651 1039.7 74.5938 1041.88 Q76.4456 1044.03 79.5938 1044.03 Q82.7419 1044.03 84.5706 1041.88 Q86.4224 1039.7 86.4224 1035.98 Q86.4224 1032.23 84.5706 1030.07 Q82.7419 1027.92 79.5938 1027.92 M88.8761 1013.27 L88.8761 1017.53 Q87.1169 1016.69 85.3113 1016.25 Q83.5289 1015.81 81.7697 1015.81 Q77.1401 1015.81 74.6864 1018.94 Q72.2558 1022.06 71.9086 1028.38 Q73.2743 1026.37 75.3345 1025.3 Q77.3947 1024.22 79.8715 1024.22 Q85.0798 1024.22 88.0891 1027.39 Q91.1215 1030.54 91.1215 1035.98 Q91.1215 1041.3 87.9733 1044.52 Q84.8252 1047.73 79.5938 1047.73 Q73.5984 1047.73 70.4271 1043.15 Q67.2559 1038.55 67.2559 1029.82 Q67.2559 1021.62 71.1447 1016.76 Q75.0336 1011.88 81.5845 1011.88 Q83.3437 1011.88 85.1261 1012.23 Q86.9317 1012.57 88.8761 1013.27 Z\" fill=\"#000000\" fill-rule=\"evenodd\" fill-opacity=\"1\" /><path clip-path=\"url(#clip500)\" d=\"M109.177 1015.58 Q105.566 1015.58 103.737 1019.15 Q101.932 1022.69 101.932 1029.82 Q101.932 1036.92 103.737 1040.49 Q105.566 1044.03 109.177 1044.03 Q112.811 1044.03 114.617 1040.49 Q116.445 1036.92 116.445 1029.82 Q116.445 1022.69 114.617 1019.15 Q112.811 1015.58 109.177 1015.58 M109.177 1011.88 Q114.987 1011.88 118.043 1016.48 Q121.121 1021.07 121.121 1029.82 Q121.121 1038.55 118.043 1043.15 Q114.987 1047.73 109.177 1047.73 Q103.367 1047.73 100.288 1043.15 Q97.2326 1038.55 97.2326 1029.82 Q97.2326 1021.07 100.288 1016.48 Q103.367 1011.88 109.177 1011.88 Z\" fill=\"#000000\" fill-rule=\"evenodd\" fill-opacity=\"1\" /><path clip-path=\"url(#clip500)\" d=\"M79.0151 742.11 Q75.6817 742.11 73.7605 743.893 Q71.8623 745.675 71.8623 748.8 Q71.8623 751.925 73.7605 753.707 Q75.6817 755.49 79.0151 755.49 Q82.3484 755.49 84.2697 753.707 Q86.1909 751.902 86.1909 748.8 Q86.1909 745.675 84.2697 743.893 Q82.3715 742.11 79.0151 742.11 M74.3392 740.119 Q71.3299 739.379 69.6401 737.318 Q67.9735 735.258 67.9735 732.295 Q67.9735 728.152 70.9133 725.744 Q73.8762 723.337 79.0151 723.337 Q84.1771 723.337 87.1169 725.744 Q90.0567 728.152 90.0567 732.295 Q90.0567 735.258 88.3669 737.318 Q86.7002 739.379 83.7141 740.119 Q87.0937 740.906 88.9687 743.198 Q90.8668 745.49 90.8668 748.8 Q90.8668 753.823 87.7882 756.508 Q84.7326 759.193 79.0151 759.193 Q73.2975 759.193 70.2188 756.508 Q67.1633 753.823 67.1633 748.8 Q67.1633 745.49 69.0614 743.198 Q70.9595 740.906 74.3392 740.119 M72.6262 732.735 Q72.6262 735.42 74.2929 736.925 Q75.9827 738.43 79.0151 738.43 Q82.0243 738.43 83.7141 736.925 Q85.4271 735.42 85.4271 732.735 Q85.4271 730.05 83.7141 728.545 Q82.0243 727.041 79.0151 727.041 Q75.9827 727.041 74.2929 728.545 Q72.6262 730.05 72.6262 732.735 Z\" fill=\"#000000\" fill-rule=\"evenodd\" fill-opacity=\"1\" /><path clip-path=\"url(#clip500)\" d=\"M109.177 727.041 Q105.566 727.041 103.737 730.606 Q101.932 734.147 101.932 741.277 Q101.932 748.383 103.737 751.948 Q105.566 755.49 109.177 755.49 Q112.811 755.49 114.617 751.948 Q116.445 748.383 116.445 741.277 Q116.445 734.147 114.617 730.606 Q112.811 727.041 109.177 727.041 M109.177 723.337 Q114.987 723.337 118.043 727.944 Q121.121 732.527 121.121 741.277 Q121.121 750.004 118.043 754.61 Q114.987 759.193 109.177 759.193 Q103.367 759.193 100.288 754.61 Q97.2326 750.004 97.2326 741.277 Q97.2326 732.527 100.288 727.944 Q103.367 723.337 109.177 723.337 Z\" fill=\"#000000\" fill-rule=\"evenodd\" fill-opacity=\"1\" /><path clip-path=\"url(#clip500)\" d=\"M39.6634 466.045 L47.3023 466.045 L47.3023 439.68 L38.9921 441.347 L38.9921 437.087 L47.256 435.421 L51.9319 435.421 L51.9319 466.045 L59.5707 466.045 L59.5707 469.981 L39.6634 469.981 L39.6634 466.045 Z\" fill=\"#000000\" fill-rule=\"evenodd\" fill-opacity=\"1\" /><path clip-path=\"url(#clip500)\" d=\"M79.0151 438.499 Q75.404 438.499 73.5753 442.064 Q71.7697 445.606 71.7697 452.735 Q71.7697 459.842 73.5753 463.407 Q75.404 466.948 79.0151 466.948 Q82.6493 466.948 84.4548 463.407 Q86.2835 459.842 86.2835 452.735 Q86.2835 445.606 84.4548 442.064 Q82.6493 438.499 79.0151 438.499 M79.0151 434.796 Q84.8252 434.796 87.8808 439.402 Q90.9594 443.985 90.9594 452.735 Q90.9594 461.462 87.8808 466.069 Q84.8252 470.652 79.0151 470.652 Q73.2049 470.652 70.1262 466.069 Q67.0707 461.462 67.0707 452.735 Q67.0707 443.985 70.1262 439.402 Q73.2049 434.796 79.0151 434.796 Z\" fill=\"#000000\" fill-rule=\"evenodd\" fill-opacity=\"1\" /><path clip-path=\"url(#clip500)\" d=\"M109.177 438.499 Q105.566 438.499 103.737 442.064 Q101.932 445.606 101.932 452.735 Q101.932 459.842 103.737 463.407 Q105.566 466.948 109.177 466.948 Q112.811 466.948 114.617 463.407 Q116.445 459.842 116.445 452.735 Q116.445 445.606 114.617 442.064 Q112.811 438.499 109.177 438.499 M109.177 434.796 Q114.987 434.796 118.043 439.402 Q121.121 443.985 121.121 452.735 Q121.121 461.462 118.043 466.069 Q114.987 470.652 109.177 470.652 Q103.367 470.652 100.288 466.069 Q97.2326 461.462 97.2326 452.735 Q97.2326 443.985 100.288 439.402 Q103.367 434.796 109.177 434.796 Z\" fill=\"#000000\" fill-rule=\"evenodd\" fill-opacity=\"1\" /><path clip-path=\"url(#clip500)\" d=\"M39.6634 177.504 L47.3023 177.504 L47.3023 151.138 L38.9921 152.805 L38.9921 148.546 L47.256 146.879 L51.9319 146.879 L51.9319 177.504 L59.5707 177.504 L59.5707 181.439 L39.6634 181.439 L39.6634 177.504 Z\" fill=\"#000000\" fill-rule=\"evenodd\" fill-opacity=\"1\" /><path clip-path=\"url(#clip500)\" d=\"M73.0429 177.504 L89.3622 177.504 L89.3622 181.439 L67.4179 181.439 L67.4179 177.504 Q70.0799 174.749 74.6632 170.12 Q79.2697 165.467 80.4502 164.124 Q82.6956 161.601 83.5752 159.865 Q84.478 158.106 84.478 156.416 Q84.478 153.662 82.5336 151.925 Q80.6123 150.189 77.5104 150.189 Q75.3114 150.189 72.8577 150.953 Q70.4271 151.717 67.6494 153.268 L67.6494 148.546 Q70.4734 147.412 72.9271 146.833 Q75.3808 146.254 77.4178 146.254 Q82.7882 146.254 85.9826 148.939 Q89.177 151.625 89.177 156.115 Q89.177 158.245 88.3669 160.166 Q87.5798 162.064 85.4734 164.657 Q84.8947 165.328 81.7928 168.546 Q78.691 171.74 73.0429 177.504 Z\" fill=\"#000000\" fill-rule=\"evenodd\" fill-opacity=\"1\" /><path clip-path=\"url(#clip500)\" d=\"M109.177 149.958 Q105.566 149.958 103.737 153.523 Q101.932 157.064 101.932 164.194 Q101.932 171.3 103.737 174.865 Q105.566 178.407 109.177 178.407 Q112.811 178.407 114.617 174.865 Q116.445 171.3 116.445 164.194 Q116.445 157.064 114.617 153.523 Q112.811 149.958 109.177 149.958 M109.177 146.254 Q114.987 146.254 118.043 150.861 Q121.121 155.444 121.121 164.194 Q121.121 172.921 118.043 177.527 Q114.987 182.11 109.177 182.11 Q103.367 182.11 100.288 177.527 Q97.2326 172.921 97.2326 164.194 Q97.2326 155.444 100.288 150.861 Q103.367 146.254 109.177 146.254 Z\" fill=\"#000000\" fill-rule=\"evenodd\" fill-opacity=\"1\" /><polyline clip-path=\"url(#clip502)\" style=\"stroke:#000000; stroke-linecap:round; stroke-linejoin:round; stroke-width:4; stroke-opacity:1; fill:none\" points=\"\n",
       "  1796.12,1895.41 1796.12,1196.51 1867.36,1196.51 1867.36,1895.41 \n",
       "  \"/>\n",
       "<polyline clip-path=\"url(#clip502)\" style=\"stroke:#000000; stroke-linecap:round; stroke-linejoin:round; stroke-width:4; stroke-opacity:1; fill:none\" points=\"\n",
       "  1226.16,1895.41 1226.16,1131.26 1297.41,1131.26 1297.41,1895.41 \n",
       "  \"/>\n",
       "<polyline clip-path=\"url(#clip502)\" style=\"stroke:#000000; stroke-linecap:round; stroke-linejoin:round; stroke-width:4; stroke-opacity:1; fill:none\" points=\"\n",
       "  656.209,1895.41 656.209,1091.29 727.453,1091.29 727.453,1895.41 \n",
       "  \"/>\n",
       "<polyline clip-path=\"url(#clip502)\" style=\"stroke:#000000; stroke-linecap:round; stroke-linejoin:round; stroke-width:4; stroke-opacity:1; fill:none\" points=\"\n",
       "  1154.92,1895.41 1154.92,1085.1 1261.79,1085.1 1261.79,1131.26 \n",
       "  \"/>\n",
       "<polyline clip-path=\"url(#clip502)\" style=\"stroke:#000000; stroke-linecap:round; stroke-linejoin:round; stroke-width:4; stroke-opacity:1; fill:none\" points=\"\n",
       "  584.965,1895.41 584.965,1000.21 691.831,1000.21 691.831,1091.29 \n",
       "  \"/>\n",
       "<polyline clip-path=\"url(#clip502)\" style=\"stroke:#000000; stroke-linecap:round; stroke-linejoin:round; stroke-width:4; stroke-opacity:1; fill:none\" points=\"\n",
       "  2579.81,1895.41 2579.81,945.302 2651.05,945.302 2651.05,1895.41 \n",
       "  \"/>\n",
       "<polyline clip-path=\"url(#clip502)\" style=\"stroke:#000000; stroke-linecap:round; stroke-linejoin:round; stroke-width:4; stroke-opacity:1; fill:none\" points=\"\n",
       "  2936.03,1895.41 2936.03,783.861 3007.27,783.861 3007.27,1895.41 \n",
       "  \"/>\n",
       "<polyline clip-path=\"url(#clip502)\" style=\"stroke:#000000; stroke-linecap:round; stroke-linejoin:round; stroke-width:4; stroke-opacity:1; fill:none\" points=\"\n",
       "  4360.91,1895.41 4360.91,757.402 4432.16,757.402 4432.16,1895.41 \n",
       "  \"/>\n",
       "<polyline clip-path=\"url(#clip502)\" style=\"stroke:#000000; stroke-linecap:round; stroke-linejoin:round; stroke-width:4; stroke-opacity:1; fill:none\" points=\"\n",
       "  3434.74,1895.41 3434.74,751.539 3505.98,751.539 3505.98,1895.41 \n",
       "  \"/>\n",
       "<polyline clip-path=\"url(#clip502)\" style=\"stroke:#000000; stroke-linecap:round; stroke-linejoin:round; stroke-width:4; stroke-opacity:1; fill:none\" points=\"\n",
       "  2152.34,1895.41 2152.34,736.417 2223.58,736.417 2223.58,1895.41 \n",
       "  \"/>\n",
       "<polyline clip-path=\"url(#clip502)\" style=\"stroke:#000000; stroke-linecap:round; stroke-linejoin:round; stroke-width:4; stroke-opacity:1; fill:none\" points=\"\n",
       "  299.988,1895.41 299.988,711.943 371.232,711.943 371.232,1895.41 \n",
       "  \"/>\n",
       "<polyline clip-path=\"url(#clip502)\" style=\"stroke:#000000; stroke-linecap:round; stroke-linejoin:round; stroke-width:4; stroke-opacity:1; fill:none\" points=\"\n",
       "  4289.67,1895.41 4289.67,697.851 4396.53,697.851 4396.53,757.402 \n",
       "  \"/>\n",
       "<polyline clip-path=\"url(#clip502)\" style=\"stroke:#000000; stroke-linecap:round; stroke-linejoin:round; stroke-width:4; stroke-opacity:1; fill:none\" points=\"\n",
       "  3221,1895.41 3221,696.815 3292.25,696.815 3292.25,1895.41 \n",
       "  \"/>\n",
       "<polyline clip-path=\"url(#clip502)\" style=\"stroke:#000000; stroke-linecap:round; stroke-linejoin:round; stroke-width:4; stroke-opacity:1; fill:none\" points=\"\n",
       "  3790.96,1895.41 3790.96,690.837 3862.2,690.837 3862.2,1895.41 \n",
       "  \"/>\n",
       "<polyline clip-path=\"url(#clip502)\" style=\"stroke:#000000; stroke-linecap:round; stroke-linejoin:round; stroke-width:4; stroke-opacity:1; fill:none\" points=\"\n",
       "  4218.42,1895.41 4218.42,654.288 4343.1,654.288 4343.1,697.851 \n",
       "  \"/>\n",
       "<polyline clip-path=\"url(#clip502)\" style=\"stroke:#000000; stroke-linecap:round; stroke-linejoin:round; stroke-width:4; stroke-opacity:1; fill:none\" points=\"\n",
       "  3078.52,1895.41 3078.52,653.643 3149.76,653.643 3149.76,1895.41 \n",
       "  \"/>\n",
       "<polyline clip-path=\"url(#clip502)\" style=\"stroke:#000000; stroke-linecap:round; stroke-linejoin:round; stroke-width:4; stroke-opacity:1; fill:none\" points=\"\n",
       "  2081.1,1895.41 2081.1,628.533 2187.96,628.533 2187.96,736.417 \n",
       "  \"/>\n",
       "<polyline clip-path=\"url(#clip502)\" style=\"stroke:#000000; stroke-linecap:round; stroke-linejoin:round; stroke-width:4; stroke-opacity:1; fill:none\" points=\"\n",
       "  2864.78,1895.41 2864.78,624.376 2971.65,624.376 2971.65,783.861 \n",
       "  \"/>\n",
       "<polyline clip-path=\"url(#clip502)\" style=\"stroke:#000000; stroke-linecap:round; stroke-linejoin:round; stroke-width:4; stroke-opacity:1; fill:none\" points=\"\n",
       "  3363.49,1895.41 3363.49,622.584 3470.36,622.584 3470.36,751.539 \n",
       "  \"/>\n",
       "<polyline clip-path=\"url(#clip502)\" style=\"stroke:#000000; stroke-linecap:round; stroke-linejoin:round; stroke-width:4; stroke-opacity:1; fill:none\" points=\"\n",
       "  4147.18,1895.41 4147.18,596.583 4280.76,596.583 4280.76,654.288 \n",
       "  \"/>\n",
       "<polyline clip-path=\"url(#clip502)\" style=\"stroke:#000000; stroke-linecap:round; stroke-linejoin:round; stroke-width:4; stroke-opacity:1; fill:none\" points=\"\n",
       "  3933.45,1895.41 3933.45,596.533 4004.69,596.533 4004.69,1895.41 \n",
       "  \"/>\n",
       "<polyline clip-path=\"url(#clip502)\" style=\"stroke:#000000; stroke-linecap:round; stroke-linejoin:round; stroke-width:4; stroke-opacity:1; fill:none\" points=\"\n",
       "  3256.63,696.815 3256.63,576.704 3416.93,576.704 3416.93,622.584 \n",
       "  \"/>\n",
       "<polyline clip-path=\"url(#clip502)\" style=\"stroke:#000000; stroke-linecap:round; stroke-linejoin:round; stroke-width:4; stroke-opacity:1; fill:none\" points=\"\n",
       "  3114.14,653.643 3114.14,561.246 3336.78,561.246 3336.78,576.704 \n",
       "  \"/>\n",
       "<polyline clip-path=\"url(#clip502)\" style=\"stroke:#000000; stroke-linecap:round; stroke-linejoin:round; stroke-width:4; stroke-opacity:1; fill:none\" points=\"\n",
       "  2722.29,1895.41 2722.29,558.994 2793.54,558.994 2793.54,1895.41 \n",
       "  \"/>\n",
       "<polyline clip-path=\"url(#clip502)\" style=\"stroke:#000000; stroke-linecap:round; stroke-linejoin:round; stroke-width:4; stroke-opacity:1; fill:none\" points=\"\n",
       "  2009.85,1895.41 2009.85,558.941 2134.53,558.941 2134.53,628.533 \n",
       "  \"/>\n",
       "<polyline clip-path=\"url(#clip502)\" style=\"stroke:#000000; stroke-linecap:round; stroke-linejoin:round; stroke-width:4; stroke-opacity:1; fill:none\" points=\"\n",
       "  1582.38,1895.41 1582.38,550.902 1653.63,550.902 1653.63,1895.41 \n",
       "  \"/>\n",
       "<polyline clip-path=\"url(#clip502)\" style=\"stroke:#000000; stroke-linecap:round; stroke-linejoin:round; stroke-width:4; stroke-opacity:1; fill:none\" points=\"\n",
       "  1938.61,1895.41 1938.61,546.375 2072.19,546.375 2072.19,558.941 \n",
       "  \"/>\n",
       "<polyline clip-path=\"url(#clip502)\" style=\"stroke:#000000; stroke-linecap:round; stroke-linejoin:round; stroke-width:4; stroke-opacity:1; fill:none\" points=\"\n",
       "  3826.58,690.837 3826.58,543.977 3969.07,543.977 3969.07,596.533 \n",
       "  \"/>\n",
       "<polyline clip-path=\"url(#clip502)\" style=\"stroke:#000000; stroke-linecap:round; stroke-linejoin:round; stroke-width:4; stroke-opacity:1; fill:none\" points=\"\n",
       "  3719.71,1895.41 3719.71,521.285 3897.82,521.285 3897.82,543.977 \n",
       "  \"/>\n",
       "<polyline clip-path=\"url(#clip502)\" style=\"stroke:#000000; stroke-linecap:round; stroke-linejoin:round; stroke-width:4; stroke-opacity:1; fill:none\" points=\"\n",
       "  2615.43,945.302 2615.43,503.23 2757.92,503.23 2757.92,558.994 \n",
       "  \"/>\n",
       "<polyline clip-path=\"url(#clip502)\" style=\"stroke:#000000; stroke-linecap:round; stroke-linejoin:round; stroke-width:4; stroke-opacity:1; fill:none\" points=\"\n",
       "  3648.47,1895.41 3648.47,497.331 3808.77,497.331 3808.77,521.285 \n",
       "  \"/>\n",
       "<polyline clip-path=\"url(#clip502)\" style=\"stroke:#000000; stroke-linecap:round; stroke-linejoin:round; stroke-width:4; stroke-opacity:1; fill:none\" points=\"\n",
       "  4075.94,1895.41 4075.94,494.981 4213.97,494.981 4213.97,596.583 \n",
       "  \"/>\n",
       "<polyline clip-path=\"url(#clip502)\" style=\"stroke:#000000; stroke-linecap:round; stroke-linejoin:round; stroke-width:4; stroke-opacity:1; fill:none\" points=\"\n",
       "  3728.62,497.331 3728.62,482.149 4144.95,482.149 4144.95,494.981 \n",
       "  \"/>\n",
       "<polyline clip-path=\"url(#clip502)\" style=\"stroke:#000000; stroke-linecap:round; stroke-linejoin:round; stroke-width:4; stroke-opacity:1; fill:none\" points=\"\n",
       "  1831.74,1196.51 1831.74,481.023 2005.4,481.023 2005.4,546.375 \n",
       "  \"/>\n",
       "<polyline clip-path=\"url(#clip502)\" style=\"stroke:#000000; stroke-linecap:round; stroke-linejoin:round; stroke-width:4; stroke-opacity:1; fill:none\" points=\"\n",
       "  2918.22,624.376 2918.22,457.242 3225.46,457.242 3225.46,561.246 \n",
       "  \"/>\n",
       "<polyline clip-path=\"url(#clip502)\" style=\"stroke:#000000; stroke-linecap:round; stroke-linejoin:round; stroke-width:4; stroke-opacity:1; fill:none\" points=\"\n",
       "  3577.23,1895.41 3577.23,448.261 3936.79,448.261 3936.79,482.149 \n",
       "  \"/>\n",
       "<polyline clip-path=\"url(#clip502)\" style=\"stroke:#000000; stroke-linecap:round; stroke-linejoin:round; stroke-width:4; stroke-opacity:1; fill:none\" points=\"\n",
       "  3071.84,457.242 3071.84,420.438 3757.01,420.438 3757.01,448.261 \n",
       "  \"/>\n",
       "<polyline clip-path=\"url(#clip502)\" style=\"stroke:#000000; stroke-linecap:round; stroke-linejoin:round; stroke-width:4; stroke-opacity:1; fill:none\" points=\"\n",
       "  2686.67,503.23 2686.67,411.012 3414.42,411.012 3414.42,420.438 \n",
       "  \"/>\n",
       "<polyline clip-path=\"url(#clip502)\" style=\"stroke:#000000; stroke-linecap:round; stroke-linejoin:round; stroke-width:4; stroke-opacity:1; fill:none\" points=\"\n",
       "  1724.87,1895.41 1724.87,407.859 1918.57,407.859 1918.57,481.023 \n",
       "  \"/>\n",
       "<polyline clip-path=\"url(#clip502)\" style=\"stroke:#000000; stroke-linecap:round; stroke-linejoin:round; stroke-width:4; stroke-opacity:1; fill:none\" points=\"\n",
       "  1439.9,1895.41 1439.9,407.754 1511.14,407.754 1511.14,1895.41 \n",
       "  \"/>\n",
       "<polyline clip-path=\"url(#clip502)\" style=\"stroke:#000000; stroke-linecap:round; stroke-linejoin:round; stroke-width:4; stroke-opacity:1; fill:none\" points=\"\n",
       "  1083.67,1895.41 1083.67,402.326 1208.35,402.326 1208.35,1085.1 \n",
       "  \"/>\n",
       "<polyline clip-path=\"url(#clip502)\" style=\"stroke:#000000; stroke-linecap:round; stroke-linejoin:round; stroke-width:4; stroke-opacity:1; fill:none\" points=\"\n",
       "  2508.56,1895.41 2508.56,394.884 3050.55,394.884 3050.55,411.012 \n",
       "  \"/>\n",
       "<polyline clip-path=\"url(#clip502)\" style=\"stroke:#000000; stroke-linecap:round; stroke-linejoin:round; stroke-width:4; stroke-opacity:1; fill:none\" points=\"\n",
       "  2294.83,1895.41 2294.83,355.965 2366.07,355.965 2366.07,1895.41 \n",
       "  \"/>\n",
       "<polyline clip-path=\"url(#clip502)\" style=\"stroke:#000000; stroke-linecap:round; stroke-linejoin:round; stroke-width:4; stroke-opacity:1; fill:none\" points=\"\n",
       "  1368.65,1895.41 1368.65,353.962 1475.52,353.962 1475.52,407.754 \n",
       "  \"/>\n",
       "<polyline clip-path=\"url(#clip502)\" style=\"stroke:#000000; stroke-linecap:round; stroke-linejoin:round; stroke-width:4; stroke-opacity:1; fill:none\" points=\"\n",
       "  4645.89,1895.41 4645.89,339.267 4717.13,339.267 4717.13,1895.41 \n",
       "  \"/>\n",
       "<polyline clip-path=\"url(#clip502)\" style=\"stroke:#000000; stroke-linecap:round; stroke-linejoin:round; stroke-width:4; stroke-opacity:1; fill:none\" points=\"\n",
       "  513.721,1895.41 513.721,336.989 638.398,336.989 638.398,1000.21 \n",
       "  \"/>\n",
       "<polyline clip-path=\"url(#clip502)\" style=\"stroke:#000000; stroke-linecap:round; stroke-linejoin:round; stroke-width:4; stroke-opacity:1; fill:none\" points=\"\n",
       "  1618.01,550.902 1618.01,315.656 1821.72,315.656 1821.72,407.859 \n",
       "  \"/>\n",
       "<polyline clip-path=\"url(#clip502)\" style=\"stroke:#000000; stroke-linecap:round; stroke-linejoin:round; stroke-width:4; stroke-opacity:1; fill:none\" points=\"\n",
       "  2437.32,1895.41 2437.32,303.939 2779.55,303.939 2779.55,394.884 \n",
       "  \"/>\n",
       "<polyline clip-path=\"url(#clip502)\" style=\"stroke:#000000; stroke-linecap:round; stroke-linejoin:round; stroke-width:4; stroke-opacity:1; fill:none\" points=\"\n",
       "  2330.45,355.965 2330.45,290.553 2608.43,290.553 2608.43,303.939 \n",
       "  \"/>\n",
       "<polyline clip-path=\"url(#clip502)\" style=\"stroke:#000000; stroke-linecap:round; stroke-linejoin:round; stroke-width:4; stroke-opacity:1; fill:none\" points=\"\n",
       "  442.476,1895.41 442.476,284.67 576.059,284.67 576.059,336.989 \n",
       "  \"/>\n",
       "<polyline clip-path=\"url(#clip502)\" style=\"stroke:#000000; stroke-linecap:round; stroke-linejoin:round; stroke-width:4; stroke-opacity:1; fill:none\" points=\"\n",
       "  4574.65,1895.41 4574.65,281.417 4681.51,281.417 4681.51,339.267 \n",
       "  \"/>\n",
       "<polyline clip-path=\"url(#clip502)\" style=\"stroke:#000000; stroke-linecap:round; stroke-linejoin:round; stroke-width:4; stroke-opacity:1; fill:none\" points=\"\n",
       "  1719.86,315.656 1719.86,252.66 2469.44,252.66 2469.44,290.553 \n",
       "  \"/>\n",
       "<polyline clip-path=\"url(#clip502)\" style=\"stroke:#000000; stroke-linecap:round; stroke-linejoin:round; stroke-width:4; stroke-opacity:1; fill:none\" points=\"\n",
       "  4503.4,1895.41 4503.4,247.165 4628.08,247.165 4628.08,281.417 \n",
       "  \"/>\n",
       "<polyline clip-path=\"url(#clip502)\" style=\"stroke:#000000; stroke-linecap:round; stroke-linejoin:round; stroke-width:4; stroke-opacity:1; fill:none\" points=\"\n",
       "  941.186,1895.41 941.186,219.964 1012.43,219.964 1012.43,1895.41 \n",
       "  \"/>\n",
       "<polyline clip-path=\"url(#clip502)\" style=\"stroke:#000000; stroke-linecap:round; stroke-linejoin:round; stroke-width:4; stroke-opacity:1; fill:none\" points=\"\n",
       "  1146.01,402.326 1146.01,201.722 1422.09,201.722 1422.09,353.962 \n",
       "  \"/>\n",
       "<polyline clip-path=\"url(#clip502)\" style=\"stroke:#000000; stroke-linecap:round; stroke-linejoin:round; stroke-width:4; stroke-opacity:1; fill:none\" points=\"\n",
       "  2094.65,252.66 2094.65,196.704 4565.74,196.704 4565.74,247.165 \n",
       "  \"/>\n",
       "<polyline clip-path=\"url(#clip502)\" style=\"stroke:#000000; stroke-linecap:round; stroke-linejoin:round; stroke-width:4; stroke-opacity:1; fill:none\" points=\"\n",
       "  1284.05,201.722 1284.05,172.445 3330.2,172.445 3330.2,196.704 \n",
       "  \"/>\n",
       "<polyline clip-path=\"url(#clip502)\" style=\"stroke:#000000; stroke-linecap:round; stroke-linejoin:round; stroke-width:4; stroke-opacity:1; fill:none\" points=\"\n",
       "  335.61,711.943 335.61,160.601 509.268,160.601 509.268,284.67 \n",
       "  \"/>\n",
       "<polyline clip-path=\"url(#clip502)\" style=\"stroke:#000000; stroke-linecap:round; stroke-linejoin:round; stroke-width:4; stroke-opacity:1; fill:none\" points=\"\n",
       "  228.743,1895.41 228.743,127.528 422.439,127.528 422.439,160.601 \n",
       "  \"/>\n",
       "<polyline clip-path=\"url(#clip502)\" style=\"stroke:#000000; stroke-linecap:round; stroke-linejoin:round; stroke-width:4; stroke-opacity:1; fill:none\" points=\"\n",
       "  976.809,219.964 976.809,126.707 2307.12,126.707 2307.12,172.445 \n",
       "  \"/>\n",
       "<polyline clip-path=\"url(#clip502)\" style=\"stroke:#000000; stroke-linecap:round; stroke-linejoin:round; stroke-width:4; stroke-opacity:1; fill:none\" points=\"\n",
       "  869.942,1895.41 869.942,121.342 1641.97,121.342 1641.97,126.707 \n",
       "  \"/>\n",
       "<polyline clip-path=\"url(#clip502)\" style=\"stroke:#000000; stroke-linecap:round; stroke-linejoin:round; stroke-width:4; stroke-opacity:1; fill:none\" points=\"\n",
       "  798.698,1895.41 798.698,75.0004 1255.95,75.0004 1255.95,121.342 \n",
       "  \"/>\n",
       "<polyline clip-path=\"url(#clip502)\" style=\"stroke:#000000; stroke-linecap:round; stroke-linejoin:round; stroke-width:4; stroke-opacity:1; fill:none\" points=\"\n",
       "  325.591,127.528 325.591,47.2441 1027.33,47.2441 1027.33,75.0004 \n",
       "  \"/>\n",
       "</svg>\n"
      ]
     },
     "execution_count": 31,
     "metadata": {},
     "output_type": "execute_result"
    }
   ],
   "source": [
    "#Plotting Average Linkage Dendogram\n",
    "hc_avg = hclust(euc_dist::AbstractMatrix; linkage=:average) \n",
    "StatsPlots.gr(size = (1200, 500));\n",
    "for i in 1:64 \n",
    "    print(hc_avg.order[i], \" : \", df3_y.x[hc_avg.order[i]], \", \")\n",
    "end\n",
    "StatsPlots.plot(hc_avg)"
   ]
  },
  {
   "cell_type": "code",
   "execution_count": 32,
   "id": "3bfa2247",
   "metadata": {
    "scrolled": true
   },
   "outputs": [
    {
     "name": "stdout",
     "output_type": "stream",
     "text": [
      "41 : LEUKEMIA, 20 : RENAL, 18 : BREAST, 39 : LEUKEMIA, 40 : LEUKEMIA, 7 : CNS, 38 : LEUKEMIA, 37 : LEUKEMIA, 35 : K562B-repro, 36 : K562A-repro, 55 : NSCLC, 34 : LEUKEMIA, 25 : OVARIAN, 19 : NSCLC, 6 : CNS, 5 : BREAST, 10 : NSCLC, 26 : OVARIAN, 47 : COLON, 52 : BREAST, 56 : MELANOMA, 4 : RENAL, 64 : MELANOMA, 57 : BREAST, 58 : BREAST, 59 : MELANOMA, 63 : MELANOMA, 62 : MELANOMA, 60 : MELANOMA, 61 : MELANOMA, 8 : BREAST, 28 : OVARIAN, 48 : COLON, 49 : MCF7A-repro, 50 : BREAST, 51 : MCF7D-repro, 21 : UNKNOWN, 22 : OVARIAN, 54 : NSCLC, 53 : NSCLC, 24 : PROSTATE, 23 : MELANOMA, 43 : COLON, 29 : OVARIAN, 31 : NSCLC, 11 : RENAL, 45 : COLON, 30 : PROSTATE, 46 : COLON, 27 : OVARIAN, 42 : COLON, 44 : COLON, 32 : NSCLC, 33 : NSCLC, 14 : RENAL, 9 : NSCLC, 17 : RENAL, 12 : RENAL, 13 : RENAL, 15 : RENAL, 16 : RENAL, 3 : CNS, 1 : CNS, 2 : CNS, "
     ]
    },
    {
     "data": {
      "image/svg+xml": [
       "<?xml version=\"1.0\" encoding=\"utf-8\"?>\n",
       "<svg xmlns=\"http://www.w3.org/2000/svg\" xmlns:xlink=\"http://www.w3.org/1999/xlink\" width=\"1200\" height=\"500\" viewBox=\"0 0 4800 2000\">\n",
       "<defs>\n",
       "  <clipPath id=\"clip540\">\n",
       "    <rect x=\"0\" y=\"0\" width=\"4800\" height=\"2000\"/>\n",
       "  </clipPath>\n",
       "</defs>\n",
       "<path clip-path=\"url(#clip540)\" d=\"\n",
       "M0 2000 L4800 2000 L4800 0 L0 0  Z\n",
       "  \" fill=\"#ffffff\" fill-rule=\"evenodd\" fill-opacity=\"1\"/>\n",
       "<defs>\n",
       "  <clipPath id=\"clip541\">\n",
       "    <rect x=\"960\" y=\"0\" width=\"3361\" height=\"2000\"/>\n",
       "  </clipPath>\n",
       "</defs>\n",
       "<path clip-path=\"url(#clip540)\" d=\"\n",
       "M193.121 1895.41 L4752.76 1895.41 L4752.76 47.2441 L193.121 47.2441  Z\n",
       "  \" fill=\"#ffffff\" fill-rule=\"evenodd\" fill-opacity=\"1\"/>\n",
       "<defs>\n",
       "  <clipPath id=\"clip542\">\n",
       "    <rect x=\"193\" y=\"47\" width=\"4561\" height=\"1849\"/>\n",
       "  </clipPath>\n",
       "</defs>\n",
       "<polyline clip-path=\"url(#clip540)\" style=\"stroke:#000000; stroke-linecap:round; stroke-linejoin:round; stroke-width:4; stroke-opacity:1; fill:none\" points=\"\n",
       "  193.121,1895.41 4752.76,1895.41 \n",
       "  \"/>\n",
       "<polyline clip-path=\"url(#clip540)\" style=\"stroke:#ffffff; stroke-linecap:round; stroke-linejoin:round; stroke-width:4; stroke-opacity:1; fill:none\" points=\"\n",
       "  228.743,1895.41 228.743,1876.51 \n",
       "  \"/>\n",
       "<polyline clip-path=\"url(#clip540)\" style=\"stroke:#ffffff; stroke-linecap:round; stroke-linejoin:round; stroke-width:4; stroke-opacity:1; fill:none\" points=\"\n",
       "  299.988,1895.41 299.988,1876.51 \n",
       "  \"/>\n",
       "<polyline clip-path=\"url(#clip540)\" style=\"stroke:#ffffff; stroke-linecap:round; stroke-linejoin:round; stroke-width:4; stroke-opacity:1; fill:none\" points=\"\n",
       "  371.232,1895.41 371.232,1876.51 \n",
       "  \"/>\n",
       "<polyline clip-path=\"url(#clip540)\" style=\"stroke:#ffffff; stroke-linecap:round; stroke-linejoin:round; stroke-width:4; stroke-opacity:1; fill:none\" points=\"\n",
       "  442.476,1895.41 442.476,1876.51 \n",
       "  \"/>\n",
       "<polyline clip-path=\"url(#clip540)\" style=\"stroke:#ffffff; stroke-linecap:round; stroke-linejoin:round; stroke-width:4; stroke-opacity:1; fill:none\" points=\"\n",
       "  513.721,1895.41 513.721,1876.51 \n",
       "  \"/>\n",
       "<polyline clip-path=\"url(#clip540)\" style=\"stroke:#ffffff; stroke-linecap:round; stroke-linejoin:round; stroke-width:4; stroke-opacity:1; fill:none\" points=\"\n",
       "  584.965,1895.41 584.965,1876.51 \n",
       "  \"/>\n",
       "<polyline clip-path=\"url(#clip540)\" style=\"stroke:#ffffff; stroke-linecap:round; stroke-linejoin:round; stroke-width:4; stroke-opacity:1; fill:none\" points=\"\n",
       "  656.209,1895.41 656.209,1876.51 \n",
       "  \"/>\n",
       "<polyline clip-path=\"url(#clip540)\" style=\"stroke:#ffffff; stroke-linecap:round; stroke-linejoin:round; stroke-width:4; stroke-opacity:1; fill:none\" points=\"\n",
       "  727.453,1895.41 727.453,1876.51 \n",
       "  \"/>\n",
       "<polyline clip-path=\"url(#clip540)\" style=\"stroke:#ffffff; stroke-linecap:round; stroke-linejoin:round; stroke-width:4; stroke-opacity:1; fill:none\" points=\"\n",
       "  798.698,1895.41 798.698,1876.51 \n",
       "  \"/>\n",
       "<polyline clip-path=\"url(#clip540)\" style=\"stroke:#ffffff; stroke-linecap:round; stroke-linejoin:round; stroke-width:4; stroke-opacity:1; fill:none\" points=\"\n",
       "  869.942,1895.41 869.942,1876.51 \n",
       "  \"/>\n",
       "<polyline clip-path=\"url(#clip540)\" style=\"stroke:#ffffff; stroke-linecap:round; stroke-linejoin:round; stroke-width:4; stroke-opacity:1; fill:none\" points=\"\n",
       "  941.186,1895.41 941.186,1876.51 \n",
       "  \"/>\n",
       "<polyline clip-path=\"url(#clip540)\" style=\"stroke:#ffffff; stroke-linecap:round; stroke-linejoin:round; stroke-width:4; stroke-opacity:1; fill:none\" points=\"\n",
       "  1012.43,1895.41 1012.43,1876.51 \n",
       "  \"/>\n",
       "<polyline clip-path=\"url(#clip540)\" style=\"stroke:#ffffff; stroke-linecap:round; stroke-linejoin:round; stroke-width:4; stroke-opacity:1; fill:none\" points=\"\n",
       "  1083.67,1895.41 1083.67,1876.51 \n",
       "  \"/>\n",
       "<polyline clip-path=\"url(#clip540)\" style=\"stroke:#ffffff; stroke-linecap:round; stroke-linejoin:round; stroke-width:4; stroke-opacity:1; fill:none\" points=\"\n",
       "  1154.92,1895.41 1154.92,1876.51 \n",
       "  \"/>\n",
       "<polyline clip-path=\"url(#clip540)\" style=\"stroke:#ffffff; stroke-linecap:round; stroke-linejoin:round; stroke-width:4; stroke-opacity:1; fill:none\" points=\"\n",
       "  1226.16,1895.41 1226.16,1876.51 \n",
       "  \"/>\n",
       "<polyline clip-path=\"url(#clip540)\" style=\"stroke:#ffffff; stroke-linecap:round; stroke-linejoin:round; stroke-width:4; stroke-opacity:1; fill:none\" points=\"\n",
       "  1297.41,1895.41 1297.41,1876.51 \n",
       "  \"/>\n",
       "<polyline clip-path=\"url(#clip540)\" style=\"stroke:#ffffff; stroke-linecap:round; stroke-linejoin:round; stroke-width:4; stroke-opacity:1; fill:none\" points=\"\n",
       "  1368.65,1895.41 1368.65,1876.51 \n",
       "  \"/>\n",
       "<polyline clip-path=\"url(#clip540)\" style=\"stroke:#ffffff; stroke-linecap:round; stroke-linejoin:round; stroke-width:4; stroke-opacity:1; fill:none\" points=\"\n",
       "  1439.9,1895.41 1439.9,1876.51 \n",
       "  \"/>\n",
       "<polyline clip-path=\"url(#clip540)\" style=\"stroke:#ffffff; stroke-linecap:round; stroke-linejoin:round; stroke-width:4; stroke-opacity:1; fill:none\" points=\"\n",
       "  1511.14,1895.41 1511.14,1876.51 \n",
       "  \"/>\n",
       "<polyline clip-path=\"url(#clip540)\" style=\"stroke:#ffffff; stroke-linecap:round; stroke-linejoin:round; stroke-width:4; stroke-opacity:1; fill:none\" points=\"\n",
       "  1582.38,1895.41 1582.38,1876.51 \n",
       "  \"/>\n",
       "<polyline clip-path=\"url(#clip540)\" style=\"stroke:#ffffff; stroke-linecap:round; stroke-linejoin:round; stroke-width:4; stroke-opacity:1; fill:none\" points=\"\n",
       "  1653.63,1895.41 1653.63,1876.51 \n",
       "  \"/>\n",
       "<polyline clip-path=\"url(#clip540)\" style=\"stroke:#ffffff; stroke-linecap:round; stroke-linejoin:round; stroke-width:4; stroke-opacity:1; fill:none\" points=\"\n",
       "  1724.87,1895.41 1724.87,1876.51 \n",
       "  \"/>\n",
       "<polyline clip-path=\"url(#clip540)\" style=\"stroke:#ffffff; stroke-linecap:round; stroke-linejoin:round; stroke-width:4; stroke-opacity:1; fill:none\" points=\"\n",
       "  1796.12,1895.41 1796.12,1876.51 \n",
       "  \"/>\n",
       "<polyline clip-path=\"url(#clip540)\" style=\"stroke:#ffffff; stroke-linecap:round; stroke-linejoin:round; stroke-width:4; stroke-opacity:1; fill:none\" points=\"\n",
       "  1867.36,1895.41 1867.36,1876.51 \n",
       "  \"/>\n",
       "<polyline clip-path=\"url(#clip540)\" style=\"stroke:#ffffff; stroke-linecap:round; stroke-linejoin:round; stroke-width:4; stroke-opacity:1; fill:none\" points=\"\n",
       "  1938.61,1895.41 1938.61,1876.51 \n",
       "  \"/>\n",
       "<polyline clip-path=\"url(#clip540)\" style=\"stroke:#ffffff; stroke-linecap:round; stroke-linejoin:round; stroke-width:4; stroke-opacity:1; fill:none\" points=\"\n",
       "  2009.85,1895.41 2009.85,1876.51 \n",
       "  \"/>\n",
       "<polyline clip-path=\"url(#clip540)\" style=\"stroke:#ffffff; stroke-linecap:round; stroke-linejoin:round; stroke-width:4; stroke-opacity:1; fill:none\" points=\"\n",
       "  2081.1,1895.41 2081.1,1876.51 \n",
       "  \"/>\n",
       "<polyline clip-path=\"url(#clip540)\" style=\"stroke:#ffffff; stroke-linecap:round; stroke-linejoin:round; stroke-width:4; stroke-opacity:1; fill:none\" points=\"\n",
       "  2152.34,1895.41 2152.34,1876.51 \n",
       "  \"/>\n",
       "<polyline clip-path=\"url(#clip540)\" style=\"stroke:#ffffff; stroke-linecap:round; stroke-linejoin:round; stroke-width:4; stroke-opacity:1; fill:none\" points=\"\n",
       "  2223.58,1895.41 2223.58,1876.51 \n",
       "  \"/>\n",
       "<polyline clip-path=\"url(#clip540)\" style=\"stroke:#ffffff; stroke-linecap:round; stroke-linejoin:round; stroke-width:4; stroke-opacity:1; fill:none\" points=\"\n",
       "  2294.83,1895.41 2294.83,1876.51 \n",
       "  \"/>\n",
       "<polyline clip-path=\"url(#clip540)\" style=\"stroke:#ffffff; stroke-linecap:round; stroke-linejoin:round; stroke-width:4; stroke-opacity:1; fill:none\" points=\"\n",
       "  2366.07,1895.41 2366.07,1876.51 \n",
       "  \"/>\n",
       "<polyline clip-path=\"url(#clip540)\" style=\"stroke:#ffffff; stroke-linecap:round; stroke-linejoin:round; stroke-width:4; stroke-opacity:1; fill:none\" points=\"\n",
       "  2437.32,1895.41 2437.32,1876.51 \n",
       "  \"/>\n",
       "<polyline clip-path=\"url(#clip540)\" style=\"stroke:#ffffff; stroke-linecap:round; stroke-linejoin:round; stroke-width:4; stroke-opacity:1; fill:none\" points=\"\n",
       "  2508.56,1895.41 2508.56,1876.51 \n",
       "  \"/>\n",
       "<polyline clip-path=\"url(#clip540)\" style=\"stroke:#ffffff; stroke-linecap:round; stroke-linejoin:round; stroke-width:4; stroke-opacity:1; fill:none\" points=\"\n",
       "  2579.81,1895.41 2579.81,1876.51 \n",
       "  \"/>\n",
       "<polyline clip-path=\"url(#clip540)\" style=\"stroke:#ffffff; stroke-linecap:round; stroke-linejoin:round; stroke-width:4; stroke-opacity:1; fill:none\" points=\"\n",
       "  2651.05,1895.41 2651.05,1876.51 \n",
       "  \"/>\n",
       "<polyline clip-path=\"url(#clip540)\" style=\"stroke:#ffffff; stroke-linecap:round; stroke-linejoin:round; stroke-width:4; stroke-opacity:1; fill:none\" points=\"\n",
       "  2722.29,1895.41 2722.29,1876.51 \n",
       "  \"/>\n",
       "<polyline clip-path=\"url(#clip540)\" style=\"stroke:#ffffff; stroke-linecap:round; stroke-linejoin:round; stroke-width:4; stroke-opacity:1; fill:none\" points=\"\n",
       "  2793.54,1895.41 2793.54,1876.51 \n",
       "  \"/>\n",
       "<polyline clip-path=\"url(#clip540)\" style=\"stroke:#ffffff; stroke-linecap:round; stroke-linejoin:round; stroke-width:4; stroke-opacity:1; fill:none\" points=\"\n",
       "  2864.78,1895.41 2864.78,1876.51 \n",
       "  \"/>\n",
       "<polyline clip-path=\"url(#clip540)\" style=\"stroke:#ffffff; stroke-linecap:round; stroke-linejoin:round; stroke-width:4; stroke-opacity:1; fill:none\" points=\"\n",
       "  2936.03,1895.41 2936.03,1876.51 \n",
       "  \"/>\n",
       "<polyline clip-path=\"url(#clip540)\" style=\"stroke:#ffffff; stroke-linecap:round; stroke-linejoin:round; stroke-width:4; stroke-opacity:1; fill:none\" points=\"\n",
       "  3007.27,1895.41 3007.27,1876.51 \n",
       "  \"/>\n",
       "<polyline clip-path=\"url(#clip540)\" style=\"stroke:#ffffff; stroke-linecap:round; stroke-linejoin:round; stroke-width:4; stroke-opacity:1; fill:none\" points=\"\n",
       "  3078.52,1895.41 3078.52,1876.51 \n",
       "  \"/>\n",
       "<polyline clip-path=\"url(#clip540)\" style=\"stroke:#ffffff; stroke-linecap:round; stroke-linejoin:round; stroke-width:4; stroke-opacity:1; fill:none\" points=\"\n",
       "  3149.76,1895.41 3149.76,1876.51 \n",
       "  \"/>\n",
       "<polyline clip-path=\"url(#clip540)\" style=\"stroke:#ffffff; stroke-linecap:round; stroke-linejoin:round; stroke-width:4; stroke-opacity:1; fill:none\" points=\"\n",
       "  3221,1895.41 3221,1876.51 \n",
       "  \"/>\n",
       "<polyline clip-path=\"url(#clip540)\" style=\"stroke:#ffffff; stroke-linecap:round; stroke-linejoin:round; stroke-width:4; stroke-opacity:1; fill:none\" points=\"\n",
       "  3292.25,1895.41 3292.25,1876.51 \n",
       "  \"/>\n",
       "<polyline clip-path=\"url(#clip540)\" style=\"stroke:#ffffff; stroke-linecap:round; stroke-linejoin:round; stroke-width:4; stroke-opacity:1; fill:none\" points=\"\n",
       "  3363.49,1895.41 3363.49,1876.51 \n",
       "  \"/>\n",
       "<polyline clip-path=\"url(#clip540)\" style=\"stroke:#ffffff; stroke-linecap:round; stroke-linejoin:round; stroke-width:4; stroke-opacity:1; fill:none\" points=\"\n",
       "  3434.74,1895.41 3434.74,1876.51 \n",
       "  \"/>\n",
       "<polyline clip-path=\"url(#clip540)\" style=\"stroke:#ffffff; stroke-linecap:round; stroke-linejoin:round; stroke-width:4; stroke-opacity:1; fill:none\" points=\"\n",
       "  3505.98,1895.41 3505.98,1876.51 \n",
       "  \"/>\n",
       "<polyline clip-path=\"url(#clip540)\" style=\"stroke:#ffffff; stroke-linecap:round; stroke-linejoin:round; stroke-width:4; stroke-opacity:1; fill:none\" points=\"\n",
       "  3577.23,1895.41 3577.23,1876.51 \n",
       "  \"/>\n",
       "<polyline clip-path=\"url(#clip540)\" style=\"stroke:#ffffff; stroke-linecap:round; stroke-linejoin:round; stroke-width:4; stroke-opacity:1; fill:none\" points=\"\n",
       "  3648.47,1895.41 3648.47,1876.51 \n",
       "  \"/>\n",
       "<polyline clip-path=\"url(#clip540)\" style=\"stroke:#ffffff; stroke-linecap:round; stroke-linejoin:round; stroke-width:4; stroke-opacity:1; fill:none\" points=\"\n",
       "  3719.71,1895.41 3719.71,1876.51 \n",
       "  \"/>\n",
       "<polyline clip-path=\"url(#clip540)\" style=\"stroke:#ffffff; stroke-linecap:round; stroke-linejoin:round; stroke-width:4; stroke-opacity:1; fill:none\" points=\"\n",
       "  3790.96,1895.41 3790.96,1876.51 \n",
       "  \"/>\n",
       "<polyline clip-path=\"url(#clip540)\" style=\"stroke:#ffffff; stroke-linecap:round; stroke-linejoin:round; stroke-width:4; stroke-opacity:1; fill:none\" points=\"\n",
       "  3862.2,1895.41 3862.2,1876.51 \n",
       "  \"/>\n",
       "<polyline clip-path=\"url(#clip540)\" style=\"stroke:#ffffff; stroke-linecap:round; stroke-linejoin:round; stroke-width:4; stroke-opacity:1; fill:none\" points=\"\n",
       "  3933.45,1895.41 3933.45,1876.51 \n",
       "  \"/>\n",
       "<polyline clip-path=\"url(#clip540)\" style=\"stroke:#ffffff; stroke-linecap:round; stroke-linejoin:round; stroke-width:4; stroke-opacity:1; fill:none\" points=\"\n",
       "  4004.69,1895.41 4004.69,1876.51 \n",
       "  \"/>\n",
       "<polyline clip-path=\"url(#clip540)\" style=\"stroke:#ffffff; stroke-linecap:round; stroke-linejoin:round; stroke-width:4; stroke-opacity:1; fill:none\" points=\"\n",
       "  4075.94,1895.41 4075.94,1876.51 \n",
       "  \"/>\n",
       "<polyline clip-path=\"url(#clip540)\" style=\"stroke:#ffffff; stroke-linecap:round; stroke-linejoin:round; stroke-width:4; stroke-opacity:1; fill:none\" points=\"\n",
       "  4147.18,1895.41 4147.18,1876.51 \n",
       "  \"/>\n",
       "<polyline clip-path=\"url(#clip540)\" style=\"stroke:#ffffff; stroke-linecap:round; stroke-linejoin:round; stroke-width:4; stroke-opacity:1; fill:none\" points=\"\n",
       "  4218.42,1895.41 4218.42,1876.51 \n",
       "  \"/>\n",
       "<polyline clip-path=\"url(#clip540)\" style=\"stroke:#ffffff; stroke-linecap:round; stroke-linejoin:round; stroke-width:4; stroke-opacity:1; fill:none\" points=\"\n",
       "  4289.67,1895.41 4289.67,1876.51 \n",
       "  \"/>\n",
       "<polyline clip-path=\"url(#clip540)\" style=\"stroke:#ffffff; stroke-linecap:round; stroke-linejoin:round; stroke-width:4; stroke-opacity:1; fill:none\" points=\"\n",
       "  4360.91,1895.41 4360.91,1876.51 \n",
       "  \"/>\n",
       "<polyline clip-path=\"url(#clip540)\" style=\"stroke:#ffffff; stroke-linecap:round; stroke-linejoin:round; stroke-width:4; stroke-opacity:1; fill:none\" points=\"\n",
       "  4432.16,1895.41 4432.16,1876.51 \n",
       "  \"/>\n",
       "<polyline clip-path=\"url(#clip540)\" style=\"stroke:#ffffff; stroke-linecap:round; stroke-linejoin:round; stroke-width:4; stroke-opacity:1; fill:none\" points=\"\n",
       "  4503.4,1895.41 4503.4,1876.51 \n",
       "  \"/>\n",
       "<polyline clip-path=\"url(#clip540)\" style=\"stroke:#ffffff; stroke-linecap:round; stroke-linejoin:round; stroke-width:4; stroke-opacity:1; fill:none\" points=\"\n",
       "  4574.65,1895.41 4574.65,1876.51 \n",
       "  \"/>\n",
       "<polyline clip-path=\"url(#clip540)\" style=\"stroke:#ffffff; stroke-linecap:round; stroke-linejoin:round; stroke-width:4; stroke-opacity:1; fill:none\" points=\"\n",
       "  4645.89,1895.41 4645.89,1876.51 \n",
       "  \"/>\n",
       "<polyline clip-path=\"url(#clip540)\" style=\"stroke:#ffffff; stroke-linecap:round; stroke-linejoin:round; stroke-width:4; stroke-opacity:1; fill:none\" points=\"\n",
       "  4717.13,1895.41 4717.13,1876.51 \n",
       "  \"/>\n",
       "<path clip-path=\"url(#clip540)\" d=\"M217.528 1946.52 L205.723 1964.97 L217.528 1964.97 L217.528 1946.52 M216.301 1942.45 L222.181 1942.45 L222.181 1964.97 L227.112 1964.97 L227.112 1968.86 L222.181 1968.86 L222.181 1977.01 L217.528 1977.01 L217.528 1968.86 L201.926 1968.86 L201.926 1964.35 L216.301 1942.45 Z\" fill=\"#000000\" fill-rule=\"evenodd\" fill-opacity=\"1\" /><path clip-path=\"url(#clip540)\" d=\"M235.653 1973.07 L243.292 1973.07 L243.292 1946.71 L234.982 1948.37 L234.982 1944.11 L243.246 1942.45 L247.922 1942.45 L247.922 1973.07 L255.56 1973.07 L255.56 1977.01 L235.653 1977.01 L235.653 1973.07 Z\" fill=\"#000000\" fill-rule=\"evenodd\" fill-opacity=\"1\" /><path clip-path=\"url(#clip540)\" d=\"M278.761 1973.07 L295.08 1973.07 L295.08 1977.01 L273.136 1977.01 L273.136 1973.07 Q275.798 1970.32 280.381 1965.69 Q284.988 1961.04 286.168 1959.69 Q288.414 1957.17 289.293 1955.43 Q290.196 1953.67 290.196 1951.98 Q290.196 1949.23 288.252 1947.49 Q286.33 1945.76 283.229 1945.76 Q281.03 1945.76 278.576 1946.52 Q276.145 1947.29 273.368 1948.84 L273.368 1944.11 Q276.192 1942.98 278.645 1942.4 Q281.099 1941.82 283.136 1941.82 Q288.506 1941.82 291.701 1944.51 Q294.895 1947.19 294.895 1951.68 Q294.895 1953.81 294.085 1955.73 Q293.298 1957.63 291.192 1960.23 Q290.613 1960.9 287.511 1964.11 Q284.409 1967.31 278.761 1973.07 Z\" fill=\"#000000\" fill-rule=\"evenodd\" fill-opacity=\"1\" /><path clip-path=\"url(#clip540)\" d=\"M314.895 1945.53 Q311.284 1945.53 309.455 1949.09 Q307.65 1952.63 307.65 1959.76 Q307.65 1966.87 309.455 1970.43 Q311.284 1973.98 314.895 1973.98 Q318.529 1973.98 320.335 1970.43 Q322.164 1966.87 322.164 1959.76 Q322.164 1952.63 320.335 1949.09 Q318.529 1945.53 314.895 1945.53 M314.895 1941.82 Q320.705 1941.82 323.761 1946.43 Q326.839 1951.01 326.839 1959.76 Q326.839 1968.49 323.761 1973.1 Q320.705 1977.68 314.895 1977.68 Q309.085 1977.68 306.006 1973.1 Q302.951 1968.49 302.951 1959.76 Q302.951 1951.01 306.006 1946.43 Q309.085 1941.82 314.895 1941.82 Z\" fill=\"#000000\" fill-rule=\"evenodd\" fill-opacity=\"1\" /><path clip-path=\"url(#clip540)\" d=\"M345.966 1973.07 L353.605 1973.07 L353.605 1946.71 L345.295 1948.37 L345.295 1944.11 L353.559 1942.45 L358.234 1942.45 L358.234 1973.07 L365.873 1973.07 L365.873 1977.01 L345.966 1977.01 L345.966 1973.07 Z\" fill=\"#000000\" fill-rule=\"evenodd\" fill-opacity=\"1\" /><path clip-path=\"url(#clip540)\" d=\"M385.318 1960.6 Q381.984 1960.6 380.063 1962.38 Q378.165 1964.16 378.165 1967.29 Q378.165 1970.41 380.063 1972.19 Q381.984 1973.98 385.318 1973.98 Q388.651 1973.98 390.572 1972.19 Q392.494 1970.39 392.494 1967.29 Q392.494 1964.16 390.572 1962.38 Q388.674 1960.6 385.318 1960.6 M380.642 1958.61 Q377.632 1957.86 375.943 1955.8 Q374.276 1953.74 374.276 1950.78 Q374.276 1946.64 377.216 1944.23 Q380.179 1941.82 385.318 1941.82 Q390.48 1941.82 393.419 1944.23 Q396.359 1946.64 396.359 1950.78 Q396.359 1953.74 394.669 1955.8 Q393.003 1957.86 390.017 1958.61 Q393.396 1959.39 395.271 1961.68 Q397.169 1963.98 397.169 1967.29 Q397.169 1972.31 394.091 1974.99 Q391.035 1977.68 385.318 1977.68 Q379.6 1977.68 376.521 1974.99 Q373.466 1972.31 373.466 1967.29 Q373.466 1963.98 375.364 1961.68 Q377.262 1959.39 380.642 1958.61 M378.929 1951.22 Q378.929 1953.91 380.595 1955.41 Q382.285 1956.92 385.318 1956.92 Q388.327 1956.92 390.017 1955.41 Q391.73 1953.91 391.73 1951.22 Q391.73 1948.54 390.017 1947.03 Q388.327 1945.53 385.318 1945.53 Q382.285 1945.53 380.595 1947.03 Q378.929 1948.54 378.929 1951.22 Z\" fill=\"#000000\" fill-rule=\"evenodd\" fill-opacity=\"1\" /><path clip-path=\"url(#clip540)\" d=\"M431.412 1958.37 Q434.768 1959.09 436.643 1961.36 Q438.541 1963.63 438.541 1966.96 Q438.541 1972.08 435.023 1974.88 Q431.504 1977.68 425.023 1977.68 Q422.847 1977.68 420.532 1977.24 Q418.24 1976.82 415.787 1975.97 L415.787 1971.45 Q417.731 1972.59 420.046 1973.17 Q422.361 1973.74 424.884 1973.74 Q429.282 1973.74 431.574 1972.01 Q433.888 1970.27 433.888 1966.96 Q433.888 1963.91 431.736 1962.19 Q429.606 1960.46 425.787 1960.46 L421.759 1960.46 L421.759 1956.61 L425.972 1956.61 Q429.421 1956.61 431.25 1955.25 Q433.078 1953.86 433.078 1951.27 Q433.078 1948.61 431.18 1947.19 Q429.305 1945.76 425.787 1945.76 Q423.865 1945.76 421.666 1946.17 Q419.467 1946.59 416.828 1947.47 L416.828 1943.3 Q419.49 1942.56 421.805 1942.19 Q424.143 1941.82 426.203 1941.82 Q431.527 1941.82 434.629 1944.25 Q437.731 1946.66 437.731 1950.78 Q437.731 1953.65 436.087 1955.64 Q434.444 1957.61 431.412 1958.37 Z\" fill=\"#000000\" fill-rule=\"evenodd\" fill-opacity=\"1\" /><path clip-path=\"url(#clip540)\" d=\"M447.546 1976.29 L447.546 1972.03 Q449.305 1972.86 451.111 1973.3 Q452.916 1973.74 454.652 1973.74 Q459.282 1973.74 461.712 1970.64 Q464.166 1967.52 464.513 1961.17 Q463.171 1963.17 461.11 1964.23 Q459.05 1965.29 456.55 1965.29 Q451.365 1965.29 448.333 1962.17 Q445.324 1959.02 445.324 1953.58 Q445.324 1948.26 448.472 1945.04 Q451.62 1941.82 456.851 1941.82 Q462.847 1941.82 465.995 1946.43 Q469.166 1951.01 469.166 1959.76 Q469.166 1967.93 465.277 1972.82 Q461.411 1977.68 454.861 1977.68 Q453.101 1977.68 451.296 1977.33 Q449.49 1976.98 447.546 1976.29 M456.851 1961.64 Q459.999 1961.64 461.828 1959.48 Q463.68 1957.33 463.68 1953.58 Q463.68 1949.86 461.828 1947.7 Q459.999 1945.53 456.851 1945.53 Q453.703 1945.53 451.851 1947.7 Q450.023 1949.86 450.023 1953.58 Q450.023 1957.33 451.851 1959.48 Q453.703 1961.64 456.851 1961.64 Z\" fill=\"#000000\" fill-rule=\"evenodd\" fill-opacity=\"1\" /><path clip-path=\"url(#clip540)\" d=\"M501.892 1946.52 L490.086 1964.97 L501.892 1964.97 L501.892 1946.52 M500.665 1942.45 L506.545 1942.45 L506.545 1964.97 L511.475 1964.97 L511.475 1968.86 L506.545 1968.86 L506.545 1977.01 L501.892 1977.01 L501.892 1968.86 L486.29 1968.86 L486.29 1964.35 L500.665 1942.45 Z\" fill=\"#000000\" fill-rule=\"evenodd\" fill-opacity=\"1\" /><path clip-path=\"url(#clip540)\" d=\"M529.207 1945.53 Q525.596 1945.53 523.767 1949.09 Q521.961 1952.63 521.961 1959.76 Q521.961 1966.87 523.767 1970.43 Q525.596 1973.98 529.207 1973.98 Q532.841 1973.98 534.646 1970.43 Q536.475 1966.87 536.475 1959.76 Q536.475 1952.63 534.646 1949.09 Q532.841 1945.53 529.207 1945.53 M529.207 1941.82 Q535.017 1941.82 538.072 1946.43 Q541.151 1951.01 541.151 1959.76 Q541.151 1968.49 538.072 1973.1 Q535.017 1977.68 529.207 1977.68 Q523.396 1977.68 520.318 1973.1 Q517.262 1968.49 517.262 1959.76 Q517.262 1951.01 520.318 1946.43 Q523.396 1941.82 529.207 1941.82 Z\" fill=\"#000000\" fill-rule=\"evenodd\" fill-opacity=\"1\" /><path clip-path=\"url(#clip540)\" d=\"M573.854 1942.45 L596.076 1942.45 L596.076 1944.44 L583.53 1977.01 L578.646 1977.01 L590.451 1946.38 L573.854 1946.38 L573.854 1942.45 Z\" fill=\"#000000\" fill-rule=\"evenodd\" fill-opacity=\"1\" /><path clip-path=\"url(#clip540)\" d=\"M645.098 1958.37 Q648.455 1959.09 650.33 1961.36 Q652.228 1963.63 652.228 1966.96 Q652.228 1972.08 648.709 1974.88 Q645.191 1977.68 638.709 1977.68 Q636.533 1977.68 634.219 1977.24 Q631.927 1976.82 629.473 1975.97 L629.473 1971.45 Q631.418 1972.59 633.732 1973.17 Q636.047 1973.74 638.57 1973.74 Q642.969 1973.74 645.26 1972.01 Q647.575 1970.27 647.575 1966.96 Q647.575 1963.91 645.422 1962.19 Q643.293 1960.46 639.473 1960.46 L635.445 1960.46 L635.445 1956.61 L639.658 1956.61 Q643.107 1956.61 644.936 1955.25 Q646.765 1953.86 646.765 1951.27 Q646.765 1948.61 644.867 1947.19 Q642.992 1945.76 639.473 1945.76 Q637.552 1945.76 635.353 1946.17 Q633.154 1946.59 630.515 1947.47 L630.515 1943.3 Q633.177 1942.56 635.492 1942.19 Q637.83 1941.82 639.89 1941.82 Q645.214 1941.82 648.316 1944.25 Q651.418 1946.66 651.418 1950.78 Q651.418 1953.65 649.774 1955.64 Q648.131 1957.61 645.098 1958.37 Z\" fill=\"#000000\" fill-rule=\"evenodd\" fill-opacity=\"1\" /><path clip-path=\"url(#clip540)\" d=\"M671.093 1960.6 Q667.76 1960.6 665.839 1962.38 Q663.941 1964.16 663.941 1967.29 Q663.941 1970.41 665.839 1972.19 Q667.76 1973.98 671.093 1973.98 Q674.427 1973.98 676.348 1972.19 Q678.269 1970.39 678.269 1967.29 Q678.269 1964.16 676.348 1962.38 Q674.45 1960.6 671.093 1960.6 M666.417 1958.61 Q663.408 1957.86 661.718 1955.8 Q660.052 1953.74 660.052 1950.78 Q660.052 1946.64 662.992 1944.23 Q665.955 1941.82 671.093 1941.82 Q676.255 1941.82 679.195 1944.23 Q682.135 1946.64 682.135 1950.78 Q682.135 1953.74 680.445 1955.8 Q678.779 1957.86 675.792 1958.61 Q679.172 1959.39 681.047 1961.68 Q682.945 1963.98 682.945 1967.29 Q682.945 1972.31 679.866 1974.99 Q676.811 1977.68 671.093 1977.68 Q665.376 1977.68 662.297 1974.99 Q659.242 1972.31 659.242 1967.29 Q659.242 1963.98 661.14 1961.68 Q663.038 1959.39 666.417 1958.61 M664.705 1951.22 Q664.705 1953.91 666.371 1955.41 Q668.061 1956.92 671.093 1956.92 Q674.103 1956.92 675.792 1955.41 Q677.505 1953.91 677.505 1951.22 Q677.505 1948.54 675.792 1947.03 Q674.103 1945.53 671.093 1945.53 Q668.061 1945.53 666.371 1947.03 Q664.705 1948.54 664.705 1951.22 Z\" fill=\"#000000\" fill-rule=\"evenodd\" fill-opacity=\"1\" /><path clip-path=\"url(#clip540)\" d=\"M716.748 1958.37 Q720.104 1959.09 721.979 1961.36 Q723.877 1963.63 723.877 1966.96 Q723.877 1972.08 720.359 1974.88 Q716.84 1977.68 710.359 1977.68 Q708.183 1977.68 705.868 1977.24 Q703.576 1976.82 701.123 1975.97 L701.123 1971.45 Q703.067 1972.59 705.382 1973.17 Q707.697 1973.74 710.22 1973.74 Q714.618 1973.74 716.91 1972.01 Q719.224 1970.27 719.224 1966.96 Q719.224 1963.91 717.072 1962.19 Q714.942 1960.46 711.123 1960.46 L707.095 1960.46 L707.095 1956.61 L711.308 1956.61 Q714.757 1956.61 716.585 1955.25 Q718.414 1953.86 718.414 1951.27 Q718.414 1948.61 716.516 1947.19 Q714.641 1945.76 711.123 1945.76 Q709.201 1945.76 707.002 1946.17 Q704.803 1946.59 702.164 1947.47 L702.164 1943.3 Q704.826 1942.56 707.141 1942.19 Q709.479 1941.82 711.539 1941.82 Q716.863 1941.82 719.965 1944.25 Q723.067 1946.66 723.067 1950.78 Q723.067 1953.65 721.423 1955.64 Q719.78 1957.61 716.748 1958.37 Z\" fill=\"#000000\" fill-rule=\"evenodd\" fill-opacity=\"1\" /><path clip-path=\"url(#clip540)\" d=\"M731.562 1942.45 L753.784 1942.45 L753.784 1944.44 L741.238 1977.01 L736.354 1977.01 L748.159 1946.38 L731.562 1946.38 L731.562 1942.45 Z\" fill=\"#000000\" fill-rule=\"evenodd\" fill-opacity=\"1\" /><path clip-path=\"url(#clip540)\" d=\"M788.038 1958.37 Q791.395 1959.09 793.27 1961.36 Q795.168 1963.63 795.168 1966.96 Q795.168 1972.08 791.649 1974.88 Q788.131 1977.68 781.649 1977.68 Q779.473 1977.68 777.159 1977.24 Q774.867 1976.82 772.413 1975.97 L772.413 1971.45 Q774.358 1972.59 776.672 1973.17 Q778.987 1973.74 781.51 1973.74 Q785.909 1973.74 788.2 1972.01 Q790.515 1970.27 790.515 1966.96 Q790.515 1963.91 788.362 1962.19 Q786.233 1960.46 782.413 1960.46 L778.385 1960.46 L778.385 1956.61 L782.598 1956.61 Q786.047 1956.61 787.876 1955.25 Q789.705 1953.86 789.705 1951.27 Q789.705 1948.61 787.807 1947.19 Q785.932 1945.76 782.413 1945.76 Q780.492 1945.76 778.293 1946.17 Q776.094 1946.59 773.455 1947.47 L773.455 1943.3 Q776.117 1942.56 778.432 1942.19 Q780.77 1941.82 782.83 1941.82 Q788.154 1941.82 791.256 1944.25 Q794.358 1946.66 794.358 1950.78 Q794.358 1953.65 792.714 1955.64 Q791.071 1957.61 788.038 1958.37 Z\" fill=\"#000000\" fill-rule=\"evenodd\" fill-opacity=\"1\" /><path clip-path=\"url(#clip540)\" d=\"M804.08 1942.45 L822.436 1942.45 L822.436 1946.38 L808.362 1946.38 L808.362 1954.86 Q809.381 1954.51 810.399 1954.35 Q811.418 1954.16 812.436 1954.16 Q818.223 1954.16 821.603 1957.33 Q824.982 1960.5 824.982 1965.92 Q824.982 1971.5 821.51 1974.6 Q818.038 1977.68 811.719 1977.68 Q809.543 1977.68 807.274 1977.31 Q805.029 1976.94 802.621 1976.2 L802.621 1971.5 Q804.705 1972.63 806.927 1973.19 Q809.149 1973.74 811.626 1973.74 Q815.631 1973.74 817.969 1971.64 Q820.306 1969.53 820.306 1965.92 Q820.306 1962.31 817.969 1960.2 Q815.631 1958.1 811.626 1958.1 Q809.751 1958.1 807.876 1958.51 Q806.024 1958.93 804.08 1959.81 L804.08 1942.45 Z\" fill=\"#000000\" fill-rule=\"evenodd\" fill-opacity=\"1\" /><path clip-path=\"url(#clip540)\" d=\"M858.704 1958.37 Q862.06 1959.09 863.935 1961.36 Q865.833 1963.63 865.833 1966.96 Q865.833 1972.08 862.315 1974.88 Q858.796 1977.68 852.315 1977.68 Q850.139 1977.68 847.824 1977.24 Q845.532 1976.82 843.079 1975.97 L843.079 1971.45 Q845.023 1972.59 847.338 1973.17 Q849.653 1973.74 852.176 1973.74 Q856.574 1973.74 858.866 1972.01 Q861.181 1970.27 861.181 1966.96 Q861.181 1963.91 859.028 1962.19 Q856.898 1960.46 853.079 1960.46 L849.051 1960.46 L849.051 1956.61 L853.264 1956.61 Q856.713 1956.61 858.542 1955.25 Q860.37 1953.86 860.37 1951.27 Q860.37 1948.61 858.472 1947.19 Q856.597 1945.76 853.079 1945.76 Q851.157 1945.76 848.958 1946.17 Q846.759 1946.59 844.12 1947.47 L844.12 1943.3 Q846.782 1942.56 849.097 1942.19 Q851.435 1941.82 853.495 1941.82 Q858.819 1941.82 861.921 1944.25 Q865.023 1946.66 865.023 1950.78 Q865.023 1953.65 863.38 1955.64 Q861.736 1957.61 858.704 1958.37 Z\" fill=\"#000000\" fill-rule=\"evenodd\" fill-opacity=\"1\" /><path clip-path=\"url(#clip540)\" d=\"M885.278 1957.86 Q882.13 1957.86 880.278 1960.02 Q878.449 1962.17 878.449 1965.92 Q878.449 1969.65 880.278 1971.82 Q882.13 1973.98 885.278 1973.98 Q888.426 1973.98 890.254 1971.82 Q892.106 1969.65 892.106 1965.92 Q892.106 1962.17 890.254 1960.02 Q888.426 1957.86 885.278 1957.86 M894.56 1943.21 L894.56 1947.47 Q892.801 1946.64 890.995 1946.2 Q889.213 1945.76 887.454 1945.76 Q882.824 1945.76 880.37 1948.88 Q877.94 1952.01 877.592 1958.33 Q878.958 1956.31 881.018 1955.25 Q883.079 1954.16 885.555 1954.16 Q890.764 1954.16 893.773 1957.33 Q896.805 1960.48 896.805 1965.92 Q896.805 1971.24 893.657 1974.46 Q890.509 1977.68 885.278 1977.68 Q879.282 1977.68 876.111 1973.1 Q872.94 1968.49 872.94 1959.76 Q872.94 1951.57 876.829 1946.71 Q880.717 1941.82 887.268 1941.82 Q889.028 1941.82 890.81 1942.17 Q892.616 1942.52 894.56 1943.21 Z\" fill=\"#000000\" fill-rule=\"evenodd\" fill-opacity=\"1\" /><path clip-path=\"url(#clip540)\" d=\"M916.383 1942.45 L934.74 1942.45 L934.74 1946.38 L920.666 1946.38 L920.666 1954.86 Q921.684 1954.51 922.703 1954.35 Q923.721 1954.16 924.74 1954.16 Q930.527 1954.16 933.906 1957.33 Q937.286 1960.5 937.286 1965.92 Q937.286 1971.5 933.814 1974.6 Q930.342 1977.68 924.022 1977.68 Q921.846 1977.68 919.578 1977.31 Q917.332 1976.94 914.925 1976.2 L914.925 1971.5 Q917.008 1972.63 919.23 1973.19 Q921.453 1973.74 923.93 1973.74 Q927.934 1973.74 930.272 1971.64 Q932.61 1969.53 932.61 1965.92 Q932.61 1962.31 930.272 1960.2 Q927.934 1958.1 923.93 1958.1 Q922.055 1958.1 920.18 1958.51 Q918.328 1958.93 916.383 1959.81 L916.383 1942.45 Z\" fill=\"#000000\" fill-rule=\"evenodd\" fill-opacity=\"1\" /><path clip-path=\"url(#clip540)\" d=\"M946.545 1942.45 L964.902 1942.45 L964.902 1946.38 L950.828 1946.38 L950.828 1954.86 Q951.846 1954.51 952.865 1954.35 Q953.883 1954.16 954.902 1954.16 Q960.689 1954.16 964.068 1957.33 Q967.448 1960.5 967.448 1965.92 Q967.448 1971.5 963.976 1974.6 Q960.503 1977.68 954.184 1977.68 Q952.008 1977.68 949.74 1977.31 Q947.494 1976.94 945.087 1976.2 L945.087 1971.5 Q947.17 1972.63 949.392 1973.19 Q951.615 1973.74 954.091 1973.74 Q958.096 1973.74 960.434 1971.64 Q962.772 1969.53 962.772 1965.92 Q962.772 1962.31 960.434 1960.2 Q958.096 1958.1 954.091 1958.1 Q952.216 1958.1 950.341 1958.51 Q948.49 1958.93 946.545 1959.81 L946.545 1942.45 Z\" fill=\"#000000\" fill-rule=\"evenodd\" fill-opacity=\"1\" /><path clip-path=\"url(#clip540)\" d=\"M1001.03 1958.37 Q1004.39 1959.09 1006.26 1961.36 Q1008.16 1963.63 1008.16 1966.96 Q1008.16 1972.08 1004.64 1974.88 Q1001.12 1977.68 994.641 1977.68 Q992.465 1977.68 990.151 1977.24 Q987.859 1976.82 985.405 1975.97 L985.405 1971.45 Q987.35 1972.59 989.665 1973.17 Q991.979 1973.74 994.503 1973.74 Q998.901 1973.74 1001.19 1972.01 Q1003.51 1970.27 1003.51 1966.96 Q1003.51 1963.91 1001.35 1962.19 Q999.225 1960.46 995.405 1960.46 L991.378 1960.46 L991.378 1956.61 L995.59 1956.61 Q999.04 1956.61 1000.87 1955.25 Q1002.7 1953.86 1002.7 1951.27 Q1002.7 1948.61 1000.8 1947.19 Q998.924 1945.76 995.405 1945.76 Q993.484 1945.76 991.285 1946.17 Q989.086 1946.59 986.447 1947.47 L986.447 1943.3 Q989.109 1942.56 991.424 1942.19 Q993.762 1941.82 995.822 1941.82 Q1001.15 1941.82 1004.25 1944.25 Q1007.35 1946.66 1007.35 1950.78 Q1007.35 1953.65 1005.71 1955.64 Q1004.06 1957.61 1001.03 1958.37 Z\" fill=\"#000000\" fill-rule=\"evenodd\" fill-opacity=\"1\" /><path clip-path=\"url(#clip540)\" d=\"M1029.87 1946.52 L1018.07 1964.97 L1029.87 1964.97 L1029.87 1946.52 M1028.65 1942.45 L1034.53 1942.45 L1034.53 1964.97 L1039.46 1964.97 L1039.46 1968.86 L1034.53 1968.86 L1034.53 1977.01 L1029.87 1977.01 L1029.87 1968.86 L1014.27 1968.86 L1014.27 1964.35 L1028.65 1942.45 Z\" fill=\"#000000\" fill-rule=\"evenodd\" fill-opacity=\"1\" /><path clip-path=\"url(#clip540)\" d=\"M1062.95 1973.07 L1079.27 1973.07 L1079.27 1977.01 L1057.32 1977.01 L1057.32 1973.07 Q1059.98 1970.32 1064.57 1965.69 Q1069.17 1961.04 1070.35 1959.69 Q1072.6 1957.17 1073.48 1955.43 Q1074.38 1953.67 1074.38 1951.98 Q1074.38 1949.23 1072.44 1947.49 Q1070.52 1945.76 1067.41 1945.76 Q1065.21 1945.76 1062.76 1946.52 Q1060.33 1947.29 1057.55 1948.84 L1057.55 1944.11 Q1060.38 1942.98 1062.83 1942.4 Q1065.28 1941.82 1067.32 1941.82 Q1072.69 1941.82 1075.89 1944.51 Q1079.08 1947.19 1079.08 1951.68 Q1079.08 1953.81 1078.27 1955.73 Q1077.48 1957.63 1075.38 1960.23 Q1074.8 1960.9 1071.7 1964.11 Q1068.59 1967.31 1062.95 1973.07 Z\" fill=\"#000000\" fill-rule=\"evenodd\" fill-opacity=\"1\" /><path clip-path=\"url(#clip540)\" d=\"M1089.13 1942.45 L1107.48 1942.45 L1107.48 1946.38 L1093.41 1946.38 L1093.41 1954.86 Q1094.43 1954.51 1095.45 1954.35 Q1096.46 1954.16 1097.48 1954.16 Q1103.27 1954.16 1106.65 1957.33 Q1110.03 1960.5 1110.03 1965.92 Q1110.03 1971.5 1106.56 1974.6 Q1103.08 1977.68 1096.77 1977.68 Q1094.59 1977.68 1092.32 1977.31 Q1090.08 1976.94 1087.67 1976.2 L1087.67 1971.5 Q1089.75 1972.63 1091.97 1973.19 Q1094.2 1973.74 1096.67 1973.74 Q1100.68 1973.74 1103.02 1971.64 Q1105.35 1969.53 1105.35 1965.92 Q1105.35 1962.31 1103.02 1960.2 Q1100.68 1958.1 1096.67 1958.1 Q1094.8 1958.1 1092.92 1958.51 Q1091.07 1958.93 1089.13 1959.81 L1089.13 1942.45 Z\" fill=\"#000000\" fill-rule=\"evenodd\" fill-opacity=\"1\" /><path clip-path=\"url(#clip540)\" d=\"M1129.7 1973.07 L1137.34 1973.07 L1137.34 1946.71 L1129.03 1948.37 L1129.03 1944.11 L1137.29 1942.45 L1141.97 1942.45 L1141.97 1973.07 L1149.61 1973.07 L1149.61 1977.01 L1129.7 1977.01 L1129.7 1973.07 Z\" fill=\"#000000\" fill-rule=\"evenodd\" fill-opacity=\"1\" /><path clip-path=\"url(#clip540)\" d=\"M1159.19 1976.29 L1159.19 1972.03 Q1160.95 1972.86 1162.75 1973.3 Q1164.56 1973.74 1166.3 1973.74 Q1170.93 1973.74 1173.36 1970.64 Q1175.81 1967.52 1176.16 1961.17 Q1174.81 1963.17 1172.75 1964.23 Q1170.69 1965.29 1168.19 1965.29 Q1163.01 1965.29 1159.98 1962.17 Q1156.97 1959.02 1156.97 1953.58 Q1156.97 1948.26 1160.12 1945.04 Q1163.26 1941.82 1168.5 1941.82 Q1174.49 1941.82 1177.64 1946.43 Q1180.81 1951.01 1180.81 1959.76 Q1180.81 1967.93 1176.92 1972.82 Q1173.06 1977.68 1166.5 1977.68 Q1164.75 1977.68 1162.94 1977.33 Q1161.13 1976.98 1159.19 1976.29 M1168.5 1961.64 Q1171.64 1961.64 1173.47 1959.48 Q1175.32 1957.33 1175.32 1953.58 Q1175.32 1949.86 1173.47 1947.7 Q1171.64 1945.53 1168.5 1945.53 Q1165.35 1945.53 1163.5 1947.7 Q1161.67 1949.86 1161.67 1953.58 Q1161.67 1957.33 1163.5 1959.48 Q1165.35 1961.64 1168.5 1961.64 Z\" fill=\"#000000\" fill-rule=\"evenodd\" fill-opacity=\"1\" /><path clip-path=\"url(#clip540)\" d=\"M1226.57 1957.86 Q1223.42 1957.86 1221.57 1960.02 Q1219.74 1962.17 1219.74 1965.92 Q1219.74 1969.65 1221.57 1971.82 Q1223.42 1973.98 1226.57 1973.98 Q1229.72 1973.98 1231.55 1971.82 Q1233.4 1969.65 1233.4 1965.92 Q1233.4 1962.17 1231.55 1960.02 Q1229.72 1957.86 1226.57 1957.86 M1235.85 1943.21 L1235.85 1947.47 Q1234.09 1946.64 1232.29 1946.2 Q1230.5 1945.76 1228.74 1945.76 Q1224.11 1945.76 1221.66 1948.88 Q1219.23 1952.01 1218.88 1958.33 Q1220.25 1956.31 1222.31 1955.25 Q1224.37 1954.16 1226.85 1954.16 Q1232.05 1954.16 1235.06 1957.33 Q1238.1 1960.48 1238.1 1965.92 Q1238.1 1971.24 1234.95 1974.46 Q1231.8 1977.68 1226.57 1977.68 Q1220.57 1977.68 1217.4 1973.1 Q1214.23 1968.49 1214.23 1959.76 Q1214.23 1951.57 1218.12 1946.71 Q1222.01 1941.82 1228.56 1941.82 Q1230.32 1941.82 1232.1 1942.17 Q1233.91 1942.52 1235.85 1943.21 Z\" fill=\"#000000\" fill-rule=\"evenodd\" fill-opacity=\"1\" /><path clip-path=\"url(#clip540)\" d=\"M1287.69 1942.45 L1306.04 1942.45 L1306.04 1946.38 L1291.97 1946.38 L1291.97 1954.86 Q1292.99 1954.51 1294.01 1954.35 Q1295.02 1954.16 1296.04 1954.16 Q1301.83 1954.16 1305.21 1957.33 Q1308.59 1960.5 1308.59 1965.92 Q1308.59 1971.5 1305.12 1974.6 Q1301.64 1977.68 1295.32 1977.68 Q1293.15 1977.68 1290.88 1977.31 Q1288.63 1976.94 1286.23 1976.2 L1286.23 1971.5 Q1288.31 1972.63 1290.53 1973.19 Q1292.76 1973.74 1295.23 1973.74 Q1299.24 1973.74 1301.57 1971.64 Q1303.91 1969.53 1303.91 1965.92 Q1303.91 1962.31 1301.57 1960.2 Q1299.24 1958.1 1295.23 1958.1 Q1293.36 1958.1 1291.48 1958.51 Q1289.63 1958.93 1287.69 1959.81 L1287.69 1942.45 Z\" fill=\"#000000\" fill-rule=\"evenodd\" fill-opacity=\"1\" /><path clip-path=\"url(#clip540)\" d=\"M1343.34 1973.07 L1350.98 1973.07 L1350.98 1946.71 L1342.67 1948.37 L1342.67 1944.11 L1350.93 1942.45 L1355.61 1942.45 L1355.61 1973.07 L1363.25 1973.07 L1363.25 1977.01 L1343.34 1977.01 L1343.34 1973.07 Z\" fill=\"#000000\" fill-rule=\"evenodd\" fill-opacity=\"1\" /><path clip-path=\"url(#clip540)\" d=\"M1382.69 1945.53 Q1379.08 1945.53 1377.25 1949.09 Q1375.45 1952.63 1375.45 1959.76 Q1375.45 1966.87 1377.25 1970.43 Q1379.08 1973.98 1382.69 1973.98 Q1386.33 1973.98 1388.13 1970.43 Q1389.96 1966.87 1389.96 1959.76 Q1389.96 1952.63 1388.13 1949.09 Q1386.33 1945.53 1382.69 1945.53 M1382.69 1941.82 Q1388.5 1941.82 1391.56 1946.43 Q1394.64 1951.01 1394.64 1959.76 Q1394.64 1968.49 1391.56 1973.1 Q1388.5 1977.68 1382.69 1977.68 Q1376.88 1977.68 1373.8 1973.1 Q1370.75 1968.49 1370.75 1959.76 Q1370.75 1951.01 1373.8 1946.43 Q1376.88 1941.82 1382.69 1941.82 Z\" fill=\"#000000\" fill-rule=\"evenodd\" fill-opacity=\"1\" /><path clip-path=\"url(#clip540)\" d=\"M1418.59 1973.07 L1434.91 1973.07 L1434.91 1977.01 L1412.96 1977.01 L1412.96 1973.07 Q1415.63 1970.32 1420.21 1965.69 Q1424.82 1961.04 1426 1959.69 Q1428.24 1957.17 1429.12 1955.43 Q1430.02 1953.67 1430.02 1951.98 Q1430.02 1949.23 1428.08 1947.49 Q1426.16 1945.76 1423.06 1945.76 Q1420.86 1945.76 1418.4 1946.52 Q1415.97 1947.29 1413.2 1948.84 L1413.2 1944.11 Q1416.02 1942.98 1418.47 1942.4 Q1420.93 1941.82 1422.96 1941.82 Q1428.33 1941.82 1431.53 1944.51 Q1434.72 1947.19 1434.72 1951.68 Q1434.72 1953.81 1433.91 1955.73 Q1433.13 1957.63 1431.02 1960.23 Q1430.44 1960.9 1427.34 1964.11 Q1424.24 1967.31 1418.59 1973.07 Z\" fill=\"#000000\" fill-rule=\"evenodd\" fill-opacity=\"1\" /><path clip-path=\"url(#clip540)\" d=\"M1455.3 1957.86 Q1452.15 1957.86 1450.3 1960.02 Q1448.47 1962.17 1448.47 1965.92 Q1448.47 1969.65 1450.3 1971.82 Q1452.15 1973.98 1455.3 1973.98 Q1458.45 1973.98 1460.28 1971.82 Q1462.13 1969.65 1462.13 1965.92 Q1462.13 1962.17 1460.28 1960.02 Q1458.45 1957.86 1455.3 1957.86 M1464.58 1943.21 L1464.58 1947.47 Q1462.82 1946.64 1461.02 1946.2 Q1459.24 1945.76 1457.48 1945.76 Q1452.85 1945.76 1450.39 1948.88 Q1447.96 1952.01 1447.62 1958.33 Q1448.98 1956.31 1451.04 1955.25 Q1453.1 1954.16 1455.58 1954.16 Q1460.79 1954.16 1463.8 1957.33 Q1466.83 1960.48 1466.83 1965.92 Q1466.83 1971.24 1463.68 1974.46 Q1460.53 1977.68 1455.3 1977.68 Q1449.31 1977.68 1446.13 1973.1 Q1442.96 1968.49 1442.96 1959.76 Q1442.96 1951.57 1446.85 1946.71 Q1450.74 1941.82 1457.29 1941.82 Q1459.05 1941.82 1460.83 1942.17 Q1462.64 1942.52 1464.58 1943.21 Z\" fill=\"#000000\" fill-rule=\"evenodd\" fill-opacity=\"1\" /><path clip-path=\"url(#clip540)\" d=\"M1499.76 1946.52 L1487.96 1964.97 L1499.76 1964.97 L1499.76 1946.52 M1498.54 1942.45 L1504.42 1942.45 L1504.42 1964.97 L1509.35 1964.97 L1509.35 1968.86 L1504.42 1968.86 L1504.42 1977.01 L1499.76 1977.01 L1499.76 1968.86 L1484.16 1968.86 L1484.16 1964.35 L1498.54 1942.45 Z\" fill=\"#000000\" fill-rule=\"evenodd\" fill-opacity=\"1\" /><path clip-path=\"url(#clip540)\" d=\"M1515.9 1942.45 L1538.12 1942.45 L1538.12 1944.44 L1525.57 1977.01 L1520.69 1977.01 L1532.49 1946.38 L1515.9 1946.38 L1515.9 1942.45 Z\" fill=\"#000000\" fill-rule=\"evenodd\" fill-opacity=\"1\" /><path clip-path=\"url(#clip540)\" d=\"M1557.88 1942.45 L1576.24 1942.45 L1576.24 1946.38 L1562.17 1946.38 L1562.17 1954.86 Q1563.18 1954.51 1564.2 1954.35 Q1565.22 1954.16 1566.24 1954.16 Q1572.03 1954.16 1575.41 1957.33 Q1578.79 1960.5 1578.79 1965.92 Q1578.79 1971.5 1575.31 1974.6 Q1571.84 1977.68 1565.52 1977.68 Q1563.35 1977.68 1561.08 1977.31 Q1558.83 1976.94 1556.42 1976.2 L1556.42 1971.5 Q1558.51 1972.63 1560.73 1973.19 Q1562.95 1973.74 1565.43 1973.74 Q1569.43 1973.74 1571.77 1971.64 Q1574.11 1969.53 1574.11 1965.92 Q1574.11 1962.31 1571.77 1960.2 Q1569.43 1958.1 1565.43 1958.1 Q1563.55 1958.1 1561.68 1958.51 Q1559.83 1958.93 1557.88 1959.81 L1557.88 1942.45 Z\" fill=\"#000000\" fill-rule=\"evenodd\" fill-opacity=\"1\" /><path clip-path=\"url(#clip540)\" d=\"M1592.03 1973.07 L1608.35 1973.07 L1608.35 1977.01 L1586.4 1977.01 L1586.4 1973.07 Q1589.06 1970.32 1593.65 1965.69 Q1598.25 1961.04 1599.43 1959.69 Q1601.68 1957.17 1602.56 1955.43 Q1603.46 1953.67 1603.46 1951.98 Q1603.46 1949.23 1601.52 1947.49 Q1599.6 1945.76 1596.49 1945.76 Q1594.29 1945.76 1591.84 1946.52 Q1589.41 1947.29 1586.63 1948.84 L1586.63 1944.11 Q1589.46 1942.98 1591.91 1942.4 Q1594.36 1941.82 1596.4 1941.82 Q1601.77 1941.82 1604.97 1944.51 Q1608.16 1947.19 1608.16 1951.68 Q1608.16 1953.81 1607.35 1955.73 Q1606.56 1957.63 1604.46 1960.23 Q1603.88 1960.9 1600.78 1964.11 Q1597.67 1967.31 1592.03 1973.07 Z\" fill=\"#000000\" fill-rule=\"evenodd\" fill-opacity=\"1\" /><path clip-path=\"url(#clip540)\" d=\"M1628.25 1942.45 L1646.6 1942.45 L1646.6 1946.38 L1632.53 1946.38 L1632.53 1954.86 Q1633.55 1954.51 1634.57 1954.35 Q1635.59 1954.16 1636.6 1954.16 Q1642.39 1954.16 1645.77 1957.33 Q1649.15 1960.5 1649.15 1965.92 Q1649.15 1971.5 1645.68 1974.6 Q1642.21 1977.68 1635.89 1977.68 Q1633.71 1977.68 1631.44 1977.31 Q1629.2 1976.94 1626.79 1976.2 L1626.79 1971.5 Q1628.87 1972.63 1631.09 1973.19 Q1633.32 1973.74 1635.79 1973.74 Q1639.8 1973.74 1642.14 1971.64 Q1644.47 1969.53 1644.47 1965.92 Q1644.47 1962.31 1642.14 1960.2 Q1639.8 1958.1 1635.79 1958.1 Q1633.92 1958.1 1632.04 1958.51 Q1630.19 1958.93 1628.25 1959.81 L1628.25 1942.45 Z\" fill=\"#000000\" fill-rule=\"evenodd\" fill-opacity=\"1\" /><path clip-path=\"url(#clip540)\" d=\"M1668.94 1957.86 Q1665.79 1957.86 1663.94 1960.02 Q1662.11 1962.17 1662.11 1965.92 Q1662.11 1969.65 1663.94 1971.82 Q1665.79 1973.98 1668.94 1973.98 Q1672.09 1973.98 1673.92 1971.82 Q1675.77 1969.65 1675.77 1965.92 Q1675.77 1962.17 1673.92 1960.02 Q1672.09 1957.86 1668.94 1957.86 M1678.22 1943.21 L1678.22 1947.47 Q1676.46 1946.64 1674.66 1946.2 Q1672.88 1945.76 1671.12 1945.76 Q1666.49 1945.76 1664.03 1948.88 Q1661.6 1952.01 1661.26 1958.33 Q1662.62 1956.31 1664.68 1955.25 Q1666.74 1954.16 1669.22 1954.16 Q1674.43 1954.16 1677.44 1957.33 Q1680.47 1960.48 1680.47 1965.92 Q1680.47 1971.24 1677.32 1974.46 Q1674.17 1977.68 1668.94 1977.68 Q1662.95 1977.68 1659.78 1973.1 Q1656.6 1968.49 1656.6 1959.76 Q1656.6 1951.57 1660.49 1946.71 Q1664.38 1941.82 1670.93 1941.82 Q1672.69 1941.82 1674.47 1942.17 Q1676.28 1942.52 1678.22 1943.21 Z\" fill=\"#000000\" fill-rule=\"evenodd\" fill-opacity=\"1\" /><path clip-path=\"url(#clip540)\" d=\"M1727.88 1946.52 L1716.08 1964.97 L1727.88 1964.97 L1727.88 1946.52 M1726.66 1942.45 L1732.54 1942.45 L1732.54 1964.97 L1737.47 1964.97 L1737.47 1968.86 L1732.54 1968.86 L1732.54 1977.01 L1727.88 1977.01 L1727.88 1968.86 L1712.28 1968.86 L1712.28 1964.35 L1726.66 1942.45 Z\" fill=\"#000000\" fill-rule=\"evenodd\" fill-opacity=\"1\" /><path clip-path=\"url(#clip540)\" d=\"M1781.28 1957.86 Q1778.13 1957.86 1776.28 1960.02 Q1774.45 1962.17 1774.45 1965.92 Q1774.45 1969.65 1776.28 1971.82 Q1778.13 1973.98 1781.28 1973.98 Q1784.43 1973.98 1786.26 1971.82 Q1788.11 1969.65 1788.11 1965.92 Q1788.11 1962.17 1786.26 1960.02 Q1784.43 1957.86 1781.28 1957.86 M1790.56 1943.21 L1790.56 1947.47 Q1788.8 1946.64 1787 1946.2 Q1785.22 1945.76 1783.46 1945.76 Q1778.83 1945.76 1776.37 1948.88 Q1773.94 1952.01 1773.59 1958.33 Q1774.96 1956.31 1777.02 1955.25 Q1779.08 1954.16 1781.56 1954.16 Q1786.77 1954.16 1789.78 1957.33 Q1792.81 1960.48 1792.81 1965.92 Q1792.81 1971.24 1789.66 1974.46 Q1786.51 1977.68 1781.28 1977.68 Q1775.28 1977.68 1772.11 1973.1 Q1768.94 1968.49 1768.94 1959.76 Q1768.94 1951.57 1772.83 1946.71 Q1776.72 1941.82 1783.27 1941.82 Q1785.03 1941.82 1786.81 1942.17 Q1788.62 1942.52 1790.56 1943.21 Z\" fill=\"#000000\" fill-rule=\"evenodd\" fill-opacity=\"1\" /><path clip-path=\"url(#clip540)\" d=\"M1813.71 1946.52 L1801.9 1964.97 L1813.71 1964.97 L1813.71 1946.52 M1812.48 1942.45 L1818.36 1942.45 L1818.36 1964.97 L1823.29 1964.97 L1823.29 1968.86 L1818.36 1968.86 L1818.36 1977.01 L1813.71 1977.01 L1813.71 1968.86 L1798.11 1968.86 L1798.11 1964.35 L1812.48 1942.45 Z\" fill=\"#000000\" fill-rule=\"evenodd\" fill-opacity=\"1\" /><path clip-path=\"url(#clip540)\" d=\"M1842.51 1942.45 L1860.87 1942.45 L1860.87 1946.38 L1846.8 1946.38 L1846.8 1954.86 Q1847.81 1954.51 1848.83 1954.35 Q1849.85 1954.16 1850.87 1954.16 Q1856.66 1954.16 1860.04 1957.33 Q1863.42 1960.5 1863.42 1965.92 Q1863.42 1971.5 1859.94 1974.6 Q1856.47 1977.68 1850.15 1977.68 Q1847.98 1977.68 1845.71 1977.31 Q1843.46 1976.94 1841.05 1976.2 L1841.05 1971.5 Q1843.14 1972.63 1845.36 1973.19 Q1847.58 1973.74 1850.06 1973.74 Q1854.06 1973.74 1856.4 1971.64 Q1858.74 1969.53 1858.74 1965.92 Q1858.74 1962.31 1856.4 1960.2 Q1854.06 1958.1 1850.06 1958.1 Q1848.18 1958.1 1846.31 1958.51 Q1844.46 1958.93 1842.51 1959.81 L1842.51 1942.45 Z\" fill=\"#000000\" fill-rule=\"evenodd\" fill-opacity=\"1\" /><path clip-path=\"url(#clip540)\" d=\"M1871.45 1942.45 L1893.67 1942.45 L1893.67 1944.44 L1881.12 1977.01 L1876.24 1977.01 L1888.04 1946.38 L1871.45 1946.38 L1871.45 1942.45 Z\" fill=\"#000000\" fill-rule=\"evenodd\" fill-opacity=\"1\" /><path clip-path=\"url(#clip540)\" d=\"M1913.35 1942.45 L1931.71 1942.45 L1931.71 1946.38 L1917.63 1946.38 L1917.63 1954.86 Q1918.65 1954.51 1919.67 1954.35 Q1920.69 1954.16 1921.71 1954.16 Q1927.5 1954.16 1930.87 1957.33 Q1934.25 1960.5 1934.25 1965.92 Q1934.25 1971.5 1930.78 1974.6 Q1927.31 1977.68 1920.99 1977.68 Q1918.81 1977.68 1916.55 1977.31 Q1914.3 1976.94 1911.89 1976.2 L1911.89 1971.5 Q1913.98 1972.63 1916.2 1973.19 Q1918.42 1973.74 1920.9 1973.74 Q1924.9 1973.74 1927.24 1971.64 Q1929.58 1969.53 1929.58 1965.92 Q1929.58 1962.31 1927.24 1960.2 Q1924.9 1958.1 1920.9 1958.1 Q1919.02 1958.1 1917.15 1958.51 Q1915.3 1958.93 1913.35 1959.81 L1913.35 1942.45 Z\" fill=\"#000000\" fill-rule=\"evenodd\" fill-opacity=\"1\" /><path clip-path=\"url(#clip540)\" d=\"M1953.47 1960.6 Q1950.13 1960.6 1948.21 1962.38 Q1946.31 1964.16 1946.31 1967.29 Q1946.31 1970.41 1948.21 1972.19 Q1950.13 1973.98 1953.47 1973.98 Q1956.8 1973.98 1958.72 1972.19 Q1960.64 1970.39 1960.64 1967.29 Q1960.64 1964.16 1958.72 1962.38 Q1956.82 1960.6 1953.47 1960.6 M1948.79 1958.61 Q1945.78 1957.86 1944.09 1955.8 Q1942.43 1953.74 1942.43 1950.78 Q1942.43 1946.64 1945.37 1944.23 Q1948.33 1941.82 1953.47 1941.82 Q1958.63 1941.82 1961.57 1944.23 Q1964.51 1946.64 1964.51 1950.78 Q1964.51 1953.74 1962.82 1955.8 Q1961.15 1957.86 1958.17 1958.61 Q1961.55 1959.39 1963.42 1961.68 Q1965.32 1963.98 1965.32 1967.29 Q1965.32 1972.31 1962.24 1974.99 Q1959.19 1977.68 1953.47 1977.68 Q1947.75 1977.68 1944.67 1974.99 Q1941.62 1972.31 1941.62 1967.29 Q1941.62 1963.98 1943.51 1961.68 Q1945.41 1959.39 1948.79 1958.61 M1947.08 1951.22 Q1947.08 1953.91 1948.75 1955.41 Q1950.44 1956.92 1953.47 1956.92 Q1956.48 1956.92 1958.17 1955.41 Q1959.88 1953.91 1959.88 1951.22 Q1959.88 1948.54 1958.17 1947.03 Q1956.48 1945.53 1953.47 1945.53 Q1950.44 1945.53 1948.75 1947.03 Q1947.08 1948.54 1947.08 1951.22 Z\" fill=\"#000000\" fill-rule=\"evenodd\" fill-opacity=\"1\" /><path clip-path=\"url(#clip540)\" d=\"M1984.64 1942.45 L2003 1942.45 L2003 1946.38 L1988.92 1946.38 L1988.92 1954.86 Q1989.94 1954.51 1990.96 1954.35 Q1991.98 1954.16 1993 1954.16 Q1998.79 1954.16 2002.17 1957.33 Q2005.55 1960.5 2005.55 1965.92 Q2005.55 1971.5 2002.07 1974.6 Q1998.6 1977.68 1992.28 1977.68 Q1990.11 1977.68 1987.84 1977.31 Q1985.59 1976.94 1983.18 1976.2 L1983.18 1971.5 Q1985.27 1972.63 1987.49 1973.19 Q1989.71 1973.74 1992.19 1973.74 Q1996.19 1973.74 1998.53 1971.64 Q2000.87 1969.53 2000.87 1965.92 Q2000.87 1962.31 1998.53 1960.2 Q1996.19 1958.1 1992.19 1958.1 Q1990.31 1958.1 1988.44 1958.51 Q1986.59 1958.93 1984.64 1959.81 L1984.64 1942.45 Z\" fill=\"#000000\" fill-rule=\"evenodd\" fill-opacity=\"1\" /><path clip-path=\"url(#clip540)\" d=\"M2014.9 1976.29 L2014.9 1972.03 Q2016.66 1972.86 2018.46 1973.3 Q2020.27 1973.74 2022 1973.74 Q2026.63 1973.74 2029.06 1970.64 Q2031.52 1967.52 2031.86 1961.17 Q2030.52 1963.17 2028.46 1964.23 Q2026.4 1965.29 2023.9 1965.29 Q2018.72 1965.29 2015.68 1962.17 Q2012.67 1959.02 2012.67 1953.58 Q2012.67 1948.26 2015.82 1945.04 Q2018.97 1941.82 2024.2 1941.82 Q2030.2 1941.82 2033.35 1946.43 Q2036.52 1951.01 2036.52 1959.76 Q2036.52 1967.93 2032.63 1972.82 Q2028.76 1977.68 2022.21 1977.68 Q2020.45 1977.68 2018.65 1977.33 Q2016.84 1976.98 2014.9 1976.29 M2024.2 1961.64 Q2027.35 1961.64 2029.18 1959.48 Q2031.03 1957.33 2031.03 1953.58 Q2031.03 1949.86 2029.18 1947.7 Q2027.35 1945.53 2024.2 1945.53 Q2021.05 1945.53 2019.2 1947.7 Q2017.37 1949.86 2017.37 1953.58 Q2017.37 1957.33 2019.2 1959.48 Q2021.05 1961.64 2024.2 1961.64 Z\" fill=\"#000000\" fill-rule=\"evenodd\" fill-opacity=\"1\" /><path clip-path=\"url(#clip540)\" d=\"M2066.82 1957.86 Q2063.68 1957.86 2061.82 1960.02 Q2060 1962.17 2060 1965.92 Q2060 1969.65 2061.82 1971.82 Q2063.68 1973.98 2066.82 1973.98 Q2069.97 1973.98 2071.8 1971.82 Q2073.65 1969.65 2073.65 1965.92 Q2073.65 1962.17 2071.8 1960.02 Q2069.97 1957.86 2066.82 1957.86 M2076.11 1943.21 L2076.11 1947.47 Q2074.35 1946.64 2072.54 1946.2 Q2070.76 1945.76 2069 1945.76 Q2064.37 1945.76 2061.92 1948.88 Q2059.49 1952.01 2059.14 1958.33 Q2060.5 1956.31 2062.57 1955.25 Q2064.63 1954.16 2067.1 1954.16 Q2072.31 1954.16 2075.32 1957.33 Q2078.35 1960.48 2078.35 1965.92 Q2078.35 1971.24 2075.2 1974.46 Q2072.06 1977.68 2066.82 1977.68 Q2060.83 1977.68 2057.66 1973.1 Q2054.49 1968.49 2054.49 1959.76 Q2054.49 1951.57 2058.38 1946.71 Q2062.26 1941.82 2068.81 1941.82 Q2070.57 1941.82 2072.36 1942.17 Q2074.16 1942.52 2076.11 1943.21 Z\" fill=\"#000000\" fill-rule=\"evenodd\" fill-opacity=\"1\" /><path clip-path=\"url(#clip540)\" d=\"M2100.57 1958.37 Q2103.93 1959.09 2105.81 1961.36 Q2107.7 1963.63 2107.7 1966.96 Q2107.7 1972.08 2104.19 1974.88 Q2100.67 1977.68 2094.19 1977.68 Q2092.01 1977.68 2089.69 1977.24 Q2087.4 1976.82 2084.95 1975.97 L2084.95 1971.45 Q2086.89 1972.59 2089.21 1973.17 Q2091.52 1973.74 2094.05 1973.74 Q2098.44 1973.74 2100.74 1972.01 Q2103.05 1970.27 2103.05 1966.96 Q2103.05 1963.91 2100.9 1962.19 Q2098.77 1960.46 2094.95 1960.46 L2090.92 1960.46 L2090.92 1956.61 L2095.13 1956.61 Q2098.58 1956.61 2100.41 1955.25 Q2102.24 1953.86 2102.24 1951.27 Q2102.24 1948.61 2100.34 1947.19 Q2098.47 1945.76 2094.95 1945.76 Q2093.03 1945.76 2090.83 1946.17 Q2088.63 1946.59 2085.99 1947.47 L2085.99 1943.3 Q2088.65 1942.56 2090.97 1942.19 Q2093.31 1941.82 2095.37 1941.82 Q2100.69 1941.82 2103.79 1944.25 Q2106.89 1946.66 2106.89 1950.78 Q2106.89 1953.65 2105.25 1955.64 Q2103.61 1957.61 2100.57 1958.37 Z\" fill=\"#000000\" fill-rule=\"evenodd\" fill-opacity=\"1\" /><path clip-path=\"url(#clip540)\" d=\"M2138.54 1957.86 Q2135.39 1957.86 2133.54 1960.02 Q2131.71 1962.17 2131.71 1965.92 Q2131.71 1969.65 2133.54 1971.82 Q2135.39 1973.98 2138.54 1973.98 Q2141.69 1973.98 2143.52 1971.82 Q2145.37 1969.65 2145.37 1965.92 Q2145.37 1962.17 2143.52 1960.02 Q2141.69 1957.86 2138.54 1957.86 M2147.83 1943.21 L2147.83 1947.47 Q2146.07 1946.64 2144.26 1946.2 Q2142.48 1945.76 2140.72 1945.76 Q2136.09 1945.76 2133.64 1948.88 Q2131.21 1952.01 2130.86 1958.33 Q2132.22 1956.31 2134.28 1955.25 Q2136.34 1954.16 2138.82 1954.16 Q2144.03 1954.16 2147.04 1957.33 Q2150.07 1960.48 2150.07 1965.92 Q2150.07 1971.24 2146.92 1974.46 Q2143.77 1977.68 2138.54 1977.68 Q2132.55 1977.68 2129.38 1973.1 Q2126.21 1968.49 2126.21 1959.76 Q2126.21 1951.57 2130.09 1946.71 Q2133.98 1941.82 2140.53 1941.82 Q2142.29 1941.82 2144.08 1942.17 Q2145.88 1942.52 2147.83 1943.21 Z\" fill=\"#000000\" fill-rule=\"evenodd\" fill-opacity=\"1\" /><path clip-path=\"url(#clip540)\" d=\"M2162.15 1973.07 L2178.47 1973.07 L2178.47 1977.01 L2156.53 1977.01 L2156.53 1973.07 Q2159.19 1970.32 2163.77 1965.69 Q2168.38 1961.04 2169.56 1959.69 Q2171.81 1957.17 2172.69 1955.43 Q2173.59 1953.67 2173.59 1951.98 Q2173.59 1949.23 2171.64 1947.49 Q2169.72 1945.76 2166.62 1945.76 Q2164.42 1945.76 2161.97 1946.52 Q2159.54 1947.29 2156.76 1948.84 L2156.76 1944.11 Q2159.58 1942.98 2162.04 1942.4 Q2164.49 1941.82 2166.53 1941.82 Q2171.9 1941.82 2175.09 1944.51 Q2178.29 1947.19 2178.29 1951.68 Q2178.29 1953.81 2177.48 1955.73 Q2176.69 1957.63 2174.58 1960.23 Q2174.01 1960.9 2170.9 1964.11 Q2167.8 1967.31 2162.15 1973.07 Z\" fill=\"#000000\" fill-rule=\"evenodd\" fill-opacity=\"1\" /><path clip-path=\"url(#clip540)\" d=\"M2208.99 1957.86 Q2205.84 1957.86 2203.99 1960.02 Q2202.16 1962.17 2202.16 1965.92 Q2202.16 1969.65 2203.99 1971.82 Q2205.84 1973.98 2208.99 1973.98 Q2212.14 1973.98 2213.97 1971.82 Q2215.82 1969.65 2215.82 1965.92 Q2215.82 1962.17 2213.97 1960.02 Q2212.14 1957.86 2208.99 1957.86 M2218.27 1943.21 L2218.27 1947.47 Q2216.51 1946.64 2214.71 1946.2 Q2212.92 1945.76 2211.16 1945.76 Q2206.54 1945.76 2204.08 1948.88 Q2201.65 1952.01 2201.3 1958.33 Q2202.67 1956.31 2204.73 1955.25 Q2206.79 1954.16 2209.27 1954.16 Q2214.47 1954.16 2217.48 1957.33 Q2220.52 1960.48 2220.52 1965.92 Q2220.52 1971.24 2217.37 1974.46 Q2214.22 1977.68 2208.99 1977.68 Q2202.99 1977.68 2199.82 1973.1 Q2196.65 1968.49 2196.65 1959.76 Q2196.65 1951.57 2200.54 1946.71 Q2204.43 1941.82 2210.98 1941.82 Q2212.74 1941.82 2214.52 1942.17 Q2216.33 1942.52 2218.27 1943.21 Z\" fill=\"#000000\" fill-rule=\"evenodd\" fill-opacity=\"1\" /><path clip-path=\"url(#clip540)\" d=\"M2238.57 1945.53 Q2234.96 1945.53 2233.13 1949.09 Q2231.33 1952.63 2231.33 1959.76 Q2231.33 1966.87 2233.13 1970.43 Q2234.96 1973.98 2238.57 1973.98 Q2242.21 1973.98 2244.01 1970.43 Q2245.84 1966.87 2245.84 1959.76 Q2245.84 1952.63 2244.01 1949.09 Q2242.21 1945.53 2238.57 1945.53 M2238.57 1941.82 Q2244.38 1941.82 2247.44 1946.43 Q2250.52 1951.01 2250.52 1959.76 Q2250.52 1968.49 2247.44 1973.1 Q2244.38 1977.68 2238.57 1977.68 Q2232.76 1977.68 2229.68 1973.1 Q2226.63 1968.49 2226.63 1959.76 Q2226.63 1951.01 2229.68 1946.43 Q2232.76 1941.82 2238.57 1941.82 Z\" fill=\"#000000\" fill-rule=\"evenodd\" fill-opacity=\"1\" /><path clip-path=\"url(#clip540)\" d=\"M2280.85 1957.86 Q2277.7 1957.86 2275.85 1960.02 Q2274.02 1962.17 2274.02 1965.92 Q2274.02 1969.65 2275.85 1971.82 Q2277.7 1973.98 2280.85 1973.98 Q2283.99 1973.98 2285.82 1971.82 Q2287.68 1969.65 2287.68 1965.92 Q2287.68 1962.17 2285.82 1960.02 Q2283.99 1957.86 2280.85 1957.86 M2290.13 1943.21 L2290.13 1947.47 Q2288.37 1946.64 2286.56 1946.2 Q2284.78 1945.76 2283.02 1945.76 Q2278.39 1945.76 2275.94 1948.88 Q2273.51 1952.01 2273.16 1958.33 Q2274.53 1956.31 2276.59 1955.25 Q2278.65 1954.16 2281.12 1954.16 Q2286.33 1954.16 2289.34 1957.33 Q2292.37 1960.48 2292.37 1965.92 Q2292.37 1971.24 2289.23 1974.46 Q2286.08 1977.68 2280.85 1977.68 Q2274.85 1977.68 2271.68 1973.1 Q2268.51 1968.49 2268.51 1959.76 Q2268.51 1951.57 2272.4 1946.71 Q2276.29 1941.82 2282.84 1941.82 Q2284.6 1941.82 2286.38 1942.17 Q2288.18 1942.52 2290.13 1943.21 Z\" fill=\"#000000\" fill-rule=\"evenodd\" fill-opacity=\"1\" /><path clip-path=\"url(#clip540)\" d=\"M2301.24 1973.07 L2308.88 1973.07 L2308.88 1946.71 L2300.57 1948.37 L2300.57 1944.11 L2308.83 1942.45 L2313.51 1942.45 L2313.51 1973.07 L2321.15 1973.07 L2321.15 1977.01 L2301.24 1977.01 L2301.24 1973.07 Z\" fill=\"#000000\" fill-rule=\"evenodd\" fill-opacity=\"1\" /><path clip-path=\"url(#clip540)\" d=\"M2366.07 1960.6 Q2362.74 1960.6 2360.82 1962.38 Q2358.92 1964.16 2358.92 1967.29 Q2358.92 1970.41 2360.82 1972.19 Q2362.74 1973.98 2366.07 1973.98 Q2369.41 1973.98 2371.33 1972.19 Q2373.25 1970.39 2373.25 1967.29 Q2373.25 1964.16 2371.33 1962.38 Q2369.43 1960.6 2366.07 1960.6 M2361.4 1958.61 Q2358.39 1957.86 2356.7 1955.8 Q2355.03 1953.74 2355.03 1950.78 Q2355.03 1946.64 2357.97 1944.23 Q2360.93 1941.82 2366.07 1941.82 Q2371.23 1941.82 2374.17 1944.23 Q2377.11 1946.64 2377.11 1950.78 Q2377.11 1953.74 2375.42 1955.8 Q2373.76 1957.86 2370.77 1958.61 Q2374.15 1959.39 2376.03 1961.68 Q2377.92 1963.98 2377.92 1967.29 Q2377.92 1972.31 2374.85 1974.99 Q2371.79 1977.68 2366.07 1977.68 Q2360.35 1977.68 2357.28 1974.99 Q2354.22 1972.31 2354.22 1967.29 Q2354.22 1963.98 2356.12 1961.68 Q2358.02 1959.39 2361.4 1958.61 M2359.68 1951.22 Q2359.68 1953.91 2361.35 1955.41 Q2363.04 1956.92 2366.07 1956.92 Q2369.08 1956.92 2370.77 1955.41 Q2372.48 1953.91 2372.48 1951.22 Q2372.48 1948.54 2370.77 1947.03 Q2369.08 1945.53 2366.07 1945.53 Q2363.04 1945.53 2361.35 1947.03 Q2359.68 1948.54 2359.68 1951.22 Z\" fill=\"#000000\" fill-rule=\"evenodd\" fill-opacity=\"1\" /><path clip-path=\"url(#clip540)\" d=\"M2416.14 1973.07 L2432.46 1973.07 L2432.46 1977.01 L2410.51 1977.01 L2410.51 1973.07 Q2413.17 1970.32 2417.76 1965.69 Q2422.36 1961.04 2423.54 1959.69 Q2425.79 1957.17 2426.67 1955.43 Q2427.57 1953.67 2427.57 1951.98 Q2427.57 1949.23 2425.63 1947.49 Q2423.71 1945.76 2420.6 1945.76 Q2418.4 1945.76 2415.95 1946.52 Q2413.52 1947.29 2410.74 1948.84 L2410.74 1944.11 Q2413.57 1942.98 2416.02 1942.4 Q2418.47 1941.82 2420.51 1941.82 Q2425.88 1941.82 2429.08 1944.51 Q2432.27 1947.19 2432.27 1951.68 Q2432.27 1953.81 2431.46 1955.73 Q2430.67 1957.63 2428.57 1960.23 Q2427.99 1960.9 2424.89 1964.11 Q2421.78 1967.31 2416.14 1973.07 Z\" fill=\"#000000\" fill-rule=\"evenodd\" fill-opacity=\"1\" /><path clip-path=\"url(#clip540)\" d=\"M2452.27 1960.6 Q2448.94 1960.6 2447.02 1962.38 Q2445.12 1964.16 2445.12 1967.29 Q2445.12 1970.41 2447.02 1972.19 Q2448.94 1973.98 2452.27 1973.98 Q2455.6 1973.98 2457.52 1972.19 Q2459.45 1970.39 2459.45 1967.29 Q2459.45 1964.16 2457.52 1962.38 Q2455.63 1960.6 2452.27 1960.6 M2447.59 1958.61 Q2444.58 1957.86 2442.9 1955.8 Q2441.23 1953.74 2441.23 1950.78 Q2441.23 1946.64 2444.17 1944.23 Q2447.13 1941.82 2452.27 1941.82 Q2457.43 1941.82 2460.37 1944.23 Q2463.31 1946.64 2463.31 1950.78 Q2463.31 1953.74 2461.62 1955.8 Q2459.96 1957.86 2456.97 1958.61 Q2460.35 1959.39 2462.22 1961.68 Q2464.12 1963.98 2464.12 1967.29 Q2464.12 1972.31 2461.04 1974.99 Q2457.99 1977.68 2452.27 1977.68 Q2446.55 1977.68 2443.47 1974.99 Q2440.42 1972.31 2440.42 1967.29 Q2440.42 1963.98 2442.32 1961.68 Q2444.21 1959.39 2447.59 1958.61 M2445.88 1951.22 Q2445.88 1953.91 2447.55 1955.41 Q2449.24 1956.92 2452.27 1956.92 Q2455.28 1956.92 2456.97 1955.41 Q2458.68 1953.91 2458.68 1951.22 Q2458.68 1948.54 2456.97 1947.03 Q2455.28 1945.53 2452.27 1945.53 Q2449.24 1945.53 2447.55 1947.03 Q2445.88 1948.54 2445.88 1951.22 Z\" fill=\"#000000\" fill-rule=\"evenodd\" fill-opacity=\"1\" /><path clip-path=\"url(#clip540)\" d=\"M2496.78 1946.52 L2484.97 1964.97 L2496.78 1964.97 L2496.78 1946.52 M2495.55 1942.45 L2501.43 1942.45 L2501.43 1964.97 L2506.36 1964.97 L2506.36 1968.86 L2501.43 1968.86 L2501.43 1977.01 L2496.78 1977.01 L2496.78 1968.86 L2481.18 1968.86 L2481.18 1964.35 L2495.55 1942.45 Z\" fill=\"#000000\" fill-rule=\"evenodd\" fill-opacity=\"1\" /><path clip-path=\"url(#clip540)\" d=\"M2524.09 1960.6 Q2520.76 1960.6 2518.84 1962.38 Q2516.94 1964.16 2516.94 1967.29 Q2516.94 1970.41 2518.84 1972.19 Q2520.76 1973.98 2524.09 1973.98 Q2527.43 1973.98 2529.35 1972.19 Q2531.27 1970.39 2531.27 1967.29 Q2531.27 1964.16 2529.35 1962.38 Q2527.45 1960.6 2524.09 1960.6 M2519.42 1958.61 Q2516.41 1957.86 2514.72 1955.8 Q2513.05 1953.74 2513.05 1950.78 Q2513.05 1946.64 2515.99 1944.23 Q2518.95 1941.82 2524.09 1941.82 Q2529.26 1941.82 2532.19 1944.23 Q2535.13 1946.64 2535.13 1950.78 Q2535.13 1953.74 2533.44 1955.8 Q2531.78 1957.86 2528.79 1958.61 Q2532.17 1959.39 2534.05 1961.68 Q2535.94 1963.98 2535.94 1967.29 Q2535.94 1972.31 2532.87 1974.99 Q2529.81 1977.68 2524.09 1977.68 Q2518.38 1977.68 2515.3 1974.99 Q2512.24 1972.31 2512.24 1967.29 Q2512.24 1963.98 2514.14 1961.68 Q2516.04 1959.39 2519.42 1958.61 M2517.7 1951.22 Q2517.7 1953.91 2519.37 1955.41 Q2521.06 1956.92 2524.09 1956.92 Q2527.1 1956.92 2528.79 1955.41 Q2530.51 1953.91 2530.51 1951.22 Q2530.51 1948.54 2528.79 1947.03 Q2527.1 1945.53 2524.09 1945.53 Q2521.06 1945.53 2519.37 1947.03 Q2517.7 1948.54 2517.7 1951.22 Z\" fill=\"#000000\" fill-rule=\"evenodd\" fill-opacity=\"1\" /><path clip-path=\"url(#clip540)\" d=\"M2568.07 1946.52 L2556.26 1964.97 L2568.07 1964.97 L2568.07 1946.52 M2566.84 1942.45 L2572.72 1942.45 L2572.72 1964.97 L2577.65 1964.97 L2577.65 1968.86 L2572.72 1968.86 L2572.72 1977.01 L2568.07 1977.01 L2568.07 1968.86 L2552.47 1968.86 L2552.47 1964.35 L2566.84 1942.45 Z\" fill=\"#000000\" fill-rule=\"evenodd\" fill-opacity=\"1\" /><path clip-path=\"url(#clip540)\" d=\"M2585.52 1976.29 L2585.52 1972.03 Q2587.28 1972.86 2589.09 1973.3 Q2590.89 1973.74 2592.63 1973.74 Q2597.26 1973.74 2599.69 1970.64 Q2602.14 1967.52 2602.49 1961.17 Q2601.15 1963.17 2599.09 1964.23 Q2597.03 1965.29 2594.53 1965.29 Q2589.34 1965.29 2586.31 1962.17 Q2583.3 1959.02 2583.3 1953.58 Q2583.3 1948.26 2586.45 1945.04 Q2589.6 1941.82 2594.83 1941.82 Q2600.82 1941.82 2603.97 1946.43 Q2607.14 1951.01 2607.14 1959.76 Q2607.14 1967.93 2603.25 1972.82 Q2599.39 1977.68 2592.84 1977.68 Q2591.08 1977.68 2589.27 1977.33 Q2587.47 1976.98 2585.52 1976.29 M2594.83 1961.64 Q2597.98 1961.64 2599.8 1959.48 Q2601.66 1957.33 2601.66 1953.58 Q2601.66 1949.86 2599.8 1947.7 Q2597.98 1945.53 2594.83 1945.53 Q2591.68 1945.53 2589.83 1947.7 Q2588 1949.86 2588 1953.58 Q2588 1957.33 2589.83 1959.48 Q2591.68 1961.64 2594.83 1961.64 Z\" fill=\"#000000\" fill-rule=\"evenodd\" fill-opacity=\"1\" /><path clip-path=\"url(#clip540)\" d=\"M2625.75 1942.45 L2644.1 1942.45 L2644.1 1946.38 L2630.03 1946.38 L2630.03 1954.86 Q2631.05 1954.51 2632.07 1954.35 Q2633.09 1954.16 2634.1 1954.16 Q2639.89 1954.16 2643.27 1957.33 Q2646.65 1960.5 2646.65 1965.92 Q2646.65 1971.5 2643.18 1974.6 Q2639.71 1977.68 2633.39 1977.68 Q2631.21 1977.68 2628.94 1977.31 Q2626.7 1976.94 2624.29 1976.2 L2624.29 1971.5 Q2626.37 1972.63 2628.6 1973.19 Q2630.82 1973.74 2633.29 1973.74 Q2637.3 1973.74 2639.64 1971.64 Q2641.98 1969.53 2641.98 1965.92 Q2641.98 1962.31 2639.64 1960.2 Q2637.3 1958.1 2633.29 1958.1 Q2631.42 1958.1 2629.54 1958.51 Q2627.69 1958.93 2625.75 1959.81 L2625.75 1942.45 Z\" fill=\"#000000\" fill-rule=\"evenodd\" fill-opacity=\"1\" /><path clip-path=\"url(#clip540)\" d=\"M2665.86 1945.53 Q2662.25 1945.53 2660.42 1949.09 Q2658.62 1952.63 2658.62 1959.76 Q2658.62 1966.87 2660.42 1970.43 Q2662.25 1973.98 2665.86 1973.98 Q2669.5 1973.98 2671.3 1970.43 Q2673.13 1966.87 2673.13 1959.76 Q2673.13 1952.63 2671.3 1949.09 Q2669.5 1945.53 2665.86 1945.53 M2665.86 1941.82 Q2671.67 1941.82 2674.73 1946.43 Q2677.81 1951.01 2677.81 1959.76 Q2677.81 1968.49 2674.73 1973.1 Q2671.67 1977.68 2665.86 1977.68 Q2660.05 1977.68 2656.98 1973.1 Q2653.92 1968.49 2653.92 1959.76 Q2653.92 1951.01 2656.98 1946.43 Q2660.05 1941.82 2665.86 1941.82 Z\" fill=\"#000000\" fill-rule=\"evenodd\" fill-opacity=\"1\" /><path clip-path=\"url(#clip540)\" d=\"M2697.61 1942.45 L2715.96 1942.45 L2715.96 1946.38 L2701.89 1946.38 L2701.89 1954.86 Q2702.91 1954.51 2703.93 1954.35 Q2704.94 1954.16 2705.96 1954.16 Q2711.75 1954.16 2715.13 1957.33 Q2718.51 1960.5 2718.51 1965.92 Q2718.51 1971.5 2715.04 1974.6 Q2711.56 1977.68 2705.25 1977.68 Q2703.07 1977.68 2700.8 1977.31 Q2698.56 1976.94 2696.15 1976.2 L2696.15 1971.5 Q2698.23 1972.63 2700.45 1973.19 Q2702.68 1973.74 2705.15 1973.74 Q2709.16 1973.74 2711.5 1971.64 Q2713.83 1969.53 2713.83 1965.92 Q2713.83 1962.31 2711.5 1960.2 Q2709.16 1958.1 2705.15 1958.1 Q2703.28 1958.1 2701.4 1958.51 Q2699.55 1958.93 2697.61 1959.81 L2697.61 1942.45 Z\" fill=\"#000000\" fill-rule=\"evenodd\" fill-opacity=\"1\" /><path clip-path=\"url(#clip540)\" d=\"M2728.53 1973.07 L2736.17 1973.07 L2736.17 1946.71 L2727.86 1948.37 L2727.86 1944.11 L2736.12 1942.45 L2740.8 1942.45 L2740.8 1973.07 L2748.44 1973.07 L2748.44 1977.01 L2728.53 1977.01 L2728.53 1973.07 Z\" fill=\"#000000\" fill-rule=\"evenodd\" fill-opacity=\"1\" /><path clip-path=\"url(#clip540)\" d=\"M2772.92 1973.07 L2789.24 1973.07 L2789.24 1977.01 L2767.3 1977.01 L2767.3 1973.07 Q2769.96 1970.32 2774.54 1965.69 Q2779.15 1961.04 2780.33 1959.69 Q2782.58 1957.17 2783.46 1955.43 Q2784.36 1953.67 2784.36 1951.98 Q2784.36 1949.23 2782.42 1947.49 Q2780.49 1945.76 2777.39 1945.76 Q2775.19 1945.76 2772.74 1946.52 Q2770.31 1947.29 2767.53 1948.84 L2767.53 1944.11 Q2770.36 1942.98 2772.81 1942.4 Q2775.26 1941.82 2777.3 1941.82 Q2782.67 1941.82 2785.86 1944.51 Q2789.06 1947.19 2789.06 1951.68 Q2789.06 1953.81 2788.25 1955.73 Q2787.46 1957.63 2785.36 1960.23 Q2784.78 1960.9 2781.67 1964.11 Q2778.57 1967.31 2772.92 1973.07 Z\" fill=\"#000000\" fill-rule=\"evenodd\" fill-opacity=\"1\" /><path clip-path=\"url(#clip540)\" d=\"M2799.87 1973.07 L2807.51 1973.07 L2807.51 1946.71 L2799.2 1948.37 L2799.2 1944.11 L2807.46 1942.45 L2812.14 1942.45 L2812.14 1973.07 L2819.78 1973.07 L2819.78 1977.01 L2799.87 1977.01 L2799.87 1973.07 Z\" fill=\"#000000\" fill-rule=\"evenodd\" fill-opacity=\"1\" /><path clip-path=\"url(#clip540)\" d=\"M2844.35 1973.07 L2860.67 1973.07 L2860.67 1977.01 L2838.73 1977.01 L2838.73 1973.07 Q2841.39 1970.32 2845.97 1965.69 Q2850.58 1961.04 2851.76 1959.69 Q2854.01 1957.17 2854.89 1955.43 Q2855.79 1953.67 2855.79 1951.98 Q2855.79 1949.23 2853.84 1947.49 Q2851.92 1945.76 2848.82 1945.76 Q2846.62 1945.76 2844.17 1946.52 Q2841.74 1947.29 2838.96 1948.84 L2838.96 1944.11 Q2841.78 1942.98 2844.24 1942.4 Q2846.69 1941.82 2848.73 1941.82 Q2854.1 1941.82 2857.29 1944.51 Q2860.49 1947.19 2860.49 1951.68 Q2860.49 1953.81 2859.68 1955.73 Q2858.89 1957.63 2856.78 1960.23 Q2856.21 1960.9 2853.1 1964.11 Q2850 1967.31 2844.35 1973.07 Z\" fill=\"#000000\" fill-rule=\"evenodd\" fill-opacity=\"1\" /><path clip-path=\"url(#clip540)\" d=\"M2874.52 1973.07 L2890.84 1973.07 L2890.84 1977.01 L2868.89 1977.01 L2868.89 1973.07 Q2871.55 1970.32 2876.14 1965.69 Q2880.74 1961.04 2881.92 1959.69 Q2884.17 1957.17 2885.05 1955.43 Q2885.95 1953.67 2885.95 1951.98 Q2885.95 1949.23 2884.01 1947.49 Q2882.09 1945.76 2878.98 1945.76 Q2876.78 1945.76 2874.33 1946.52 Q2871.9 1947.29 2869.12 1948.84 L2869.12 1944.11 Q2871.95 1942.98 2874.4 1942.4 Q2876.85 1941.82 2878.89 1941.82 Q2884.26 1941.82 2887.46 1944.51 Q2890.65 1947.19 2890.65 1951.68 Q2890.65 1953.81 2889.84 1955.73 Q2889.05 1957.63 2886.95 1960.23 Q2886.37 1960.9 2883.27 1964.11 Q2880.16 1967.31 2874.52 1973.07 Z\" fill=\"#000000\" fill-rule=\"evenodd\" fill-opacity=\"1\" /><path clip-path=\"url(#clip540)\" d=\"M2910.48 1942.45 L2928.84 1942.45 L2928.84 1946.38 L2914.77 1946.38 L2914.77 1954.86 Q2915.78 1954.51 2916.8 1954.35 Q2917.82 1954.16 2918.84 1954.16 Q2924.63 1954.16 2928.01 1957.33 Q2931.39 1960.5 2931.39 1965.92 Q2931.39 1971.5 2927.91 1974.6 Q2924.44 1977.68 2918.12 1977.68 Q2915.95 1977.68 2913.68 1977.31 Q2911.43 1976.94 2909.02 1976.2 L2909.02 1971.5 Q2911.11 1972.63 2913.33 1973.19 Q2915.55 1973.74 2918.03 1973.74 Q2922.03 1973.74 2924.37 1971.64 Q2926.71 1969.53 2926.71 1965.92 Q2926.71 1962.31 2924.37 1960.2 Q2922.03 1958.1 2918.03 1958.1 Q2916.15 1958.1 2914.28 1958.51 Q2912.43 1958.93 2910.48 1959.81 L2910.48 1942.45 Z\" fill=\"#000000\" fill-rule=\"evenodd\" fill-opacity=\"1\" /><path clip-path=\"url(#clip540)\" d=\"M2953.45 1946.52 L2941.64 1964.97 L2953.45 1964.97 L2953.45 1946.52 M2952.22 1942.45 L2958.1 1942.45 L2958.1 1964.97 L2963.03 1964.97 L2963.03 1968.86 L2958.1 1968.86 L2958.1 1977.01 L2953.45 1977.01 L2953.45 1968.86 L2937.84 1968.86 L2937.84 1964.35 L2952.22 1942.45 Z\" fill=\"#000000\" fill-rule=\"evenodd\" fill-opacity=\"1\" /><path clip-path=\"url(#clip540)\" d=\"M2982.29 1942.45 L3000.65 1942.45 L3000.65 1946.38 L2986.58 1946.38 L2986.58 1954.86 Q2987.59 1954.51 2988.61 1954.35 Q2989.63 1954.16 2990.65 1954.16 Q2996.44 1954.16 2999.82 1957.33 Q3003.2 1960.5 3003.2 1965.92 Q3003.2 1971.5 2999.72 1974.6 Q2996.25 1977.68 2989.93 1977.68 Q2987.76 1977.68 2985.49 1977.31 Q2983.24 1976.94 2980.84 1976.2 L2980.84 1971.5 Q2982.92 1972.63 2985.14 1973.19 Q2987.36 1973.74 2989.84 1973.74 Q2993.84 1973.74 2996.18 1971.64 Q2998.52 1969.53 2998.52 1965.92 Q2998.52 1962.31 2996.18 1960.2 Q2993.84 1958.1 2989.84 1958.1 Q2987.97 1958.1 2986.09 1958.51 Q2984.24 1958.93 2982.29 1959.81 L2982.29 1942.45 Z\" fill=\"#000000\" fill-rule=\"evenodd\" fill-opacity=\"1\" /><path clip-path=\"url(#clip540)\" d=\"M3026.58 1958.37 Q3029.93 1959.09 3031.81 1961.36 Q3033.71 1963.63 3033.71 1966.96 Q3033.71 1972.08 3030.19 1974.88 Q3026.67 1977.68 3020.19 1977.68 Q3018.01 1977.68 3015.7 1977.24 Q3013.41 1976.82 3010.95 1975.97 L3010.95 1971.45 Q3012.9 1972.59 3015.21 1973.17 Q3017.53 1973.74 3020.05 1973.74 Q3024.45 1973.74 3026.74 1972.01 Q3029.05 1970.27 3029.05 1966.96 Q3029.05 1963.91 3026.9 1962.19 Q3024.77 1960.46 3020.95 1960.46 L3016.92 1960.46 L3016.92 1956.61 L3021.14 1956.61 Q3024.59 1956.61 3026.41 1955.25 Q3028.24 1953.86 3028.24 1951.27 Q3028.24 1948.61 3026.34 1947.19 Q3024.47 1945.76 3020.95 1945.76 Q3019.03 1945.76 3016.83 1946.17 Q3014.63 1946.59 3011.99 1947.47 L3011.99 1943.3 Q3014.66 1942.56 3016.97 1942.19 Q3019.31 1941.82 3021.37 1941.82 Q3026.69 1941.82 3029.79 1944.25 Q3032.9 1946.66 3032.9 1950.78 Q3032.9 1953.65 3031.25 1955.64 Q3029.61 1957.61 3026.58 1958.37 Z\" fill=\"#000000\" fill-rule=\"evenodd\" fill-opacity=\"1\" /><path clip-path=\"url(#clip540)\" d=\"M3057.05 1973.07 L3073.36 1973.07 L3073.36 1977.01 L3051.42 1977.01 L3051.42 1973.07 Q3054.08 1970.32 3058.67 1965.69 Q3063.27 1961.04 3064.45 1959.69 Q3066.7 1957.17 3067.58 1955.43 Q3068.48 1953.67 3068.48 1951.98 Q3068.48 1949.23 3066.54 1947.49 Q3064.61 1945.76 3061.51 1945.76 Q3059.31 1945.76 3056.86 1946.52 Q3054.43 1947.29 3051.65 1948.84 L3051.65 1944.11 Q3054.48 1942.98 3056.93 1942.4 Q3059.38 1941.82 3061.42 1941.82 Q3066.79 1941.82 3069.99 1944.51 Q3073.18 1947.19 3073.18 1951.68 Q3073.18 1953.81 3072.37 1955.73 Q3071.58 1957.63 3069.48 1960.23 Q3068.9 1960.9 3065.8 1964.11 Q3062.69 1967.31 3057.05 1973.07 Z\" fill=\"#000000\" fill-rule=\"evenodd\" fill-opacity=\"1\" /><path clip-path=\"url(#clip540)\" d=\"M3096.03 1946.52 L3084.22 1964.97 L3096.03 1964.97 L3096.03 1946.52 M3094.8 1942.45 L3100.68 1942.45 L3100.68 1964.97 L3105.61 1964.97 L3105.61 1968.86 L3100.68 1968.86 L3100.68 1977.01 L3096.03 1977.01 L3096.03 1968.86 L3080.42 1968.86 L3080.42 1964.35 L3094.8 1942.45 Z\" fill=\"#000000\" fill-rule=\"evenodd\" fill-opacity=\"1\" /><path clip-path=\"url(#clip540)\" d=\"M3128.86 1973.07 L3145.18 1973.07 L3145.18 1977.01 L3123.23 1977.01 L3123.23 1973.07 Q3125.89 1970.32 3130.48 1965.69 Q3135.08 1961.04 3136.26 1959.69 Q3138.51 1957.17 3139.39 1955.43 Q3140.29 1953.67 3140.29 1951.98 Q3140.29 1949.23 3138.35 1947.49 Q3136.43 1945.76 3133.32 1945.76 Q3131.13 1945.76 3128.67 1946.52 Q3126.24 1947.29 3123.46 1948.84 L3123.46 1944.11 Q3126.29 1942.98 3128.74 1942.4 Q3131.19 1941.82 3133.23 1941.82 Q3138.6 1941.82 3141.8 1944.51 Q3144.99 1947.19 3144.99 1951.68 Q3144.99 1953.81 3144.18 1955.73 Q3143.39 1957.63 3141.29 1960.23 Q3140.71 1960.9 3137.61 1964.11 Q3134.5 1967.31 3128.86 1973.07 Z\" fill=\"#000000\" fill-rule=\"evenodd\" fill-opacity=\"1\" /><path clip-path=\"url(#clip540)\" d=\"M3169.16 1958.37 Q3172.51 1959.09 3174.39 1961.36 Q3176.29 1963.63 3176.29 1966.96 Q3176.29 1972.08 3172.77 1974.88 Q3169.25 1977.68 3162.77 1977.68 Q3160.59 1977.68 3158.28 1977.24 Q3155.99 1976.82 3153.53 1975.97 L3153.53 1971.45 Q3155.48 1972.59 3157.79 1973.17 Q3160.11 1973.74 3162.63 1973.74 Q3167.03 1973.74 3169.32 1972.01 Q3171.63 1970.27 3171.63 1966.96 Q3171.63 1963.91 3169.48 1962.19 Q3167.35 1960.46 3163.53 1960.46 L3159.5 1960.46 L3159.5 1956.61 L3163.72 1956.61 Q3167.17 1956.61 3169 1955.25 Q3170.82 1953.86 3170.82 1951.27 Q3170.82 1948.61 3168.93 1947.19 Q3167.05 1945.76 3163.53 1945.76 Q3161.61 1945.76 3159.41 1946.17 Q3157.21 1946.59 3154.57 1947.47 L3154.57 1943.3 Q3157.24 1942.56 3159.55 1942.19 Q3161.89 1941.82 3163.95 1941.82 Q3169.27 1941.82 3172.37 1944.25 Q3175.48 1946.66 3175.48 1950.78 Q3175.48 1953.65 3173.83 1955.64 Q3172.19 1957.61 3169.16 1958.37 Z\" fill=\"#000000\" fill-rule=\"evenodd\" fill-opacity=\"1\" /><path clip-path=\"url(#clip540)\" d=\"M3209.5 1946.52 L3197.69 1964.97 L3209.5 1964.97 L3209.5 1946.52 M3208.27 1942.45 L3214.15 1942.45 L3214.15 1964.97 L3219.08 1964.97 L3219.08 1968.86 L3214.15 1968.86 L3214.15 1977.01 L3209.5 1977.01 L3209.5 1968.86 L3193.9 1968.86 L3193.9 1964.35 L3208.27 1942.45 Z\" fill=\"#000000\" fill-rule=\"evenodd\" fill-opacity=\"1\" /><path clip-path=\"url(#clip540)\" d=\"M3240.98 1958.37 Q3244.34 1959.09 3246.21 1961.36 Q3248.11 1963.63 3248.11 1966.96 Q3248.11 1972.08 3244.59 1974.88 Q3241.07 1977.68 3234.59 1977.68 Q3232.42 1977.68 3230.1 1977.24 Q3227.81 1976.82 3225.36 1975.97 L3225.36 1971.45 Q3227.3 1972.59 3229.61 1973.17 Q3231.93 1973.74 3234.45 1973.74 Q3238.85 1973.74 3241.14 1972.01 Q3243.46 1970.27 3243.46 1966.96 Q3243.46 1963.91 3241.3 1962.19 Q3239.17 1960.46 3235.36 1960.46 L3231.33 1960.46 L3231.33 1956.61 L3235.54 1956.61 Q3238.99 1956.61 3240.82 1955.25 Q3242.65 1953.86 3242.65 1951.27 Q3242.65 1948.61 3240.75 1947.19 Q3238.87 1945.76 3235.36 1945.76 Q3233.43 1945.76 3231.24 1946.17 Q3229.04 1946.59 3226.4 1947.47 L3226.4 1943.3 Q3229.06 1942.56 3231.37 1942.19 Q3233.71 1941.82 3235.77 1941.82 Q3241.1 1941.82 3244.2 1944.25 Q3247.3 1946.66 3247.3 1950.78 Q3247.3 1953.65 3245.66 1955.64 Q3244.01 1957.61 3240.98 1958.37 Z\" fill=\"#000000\" fill-rule=\"evenodd\" fill-opacity=\"1\" /><path clip-path=\"url(#clip540)\" d=\"M3271.11 1973.07 L3287.43 1973.07 L3287.43 1977.01 L3265.49 1977.01 L3265.49 1973.07 Q3268.15 1970.32 3272.73 1965.69 Q3277.34 1961.04 3278.52 1959.69 Q3280.77 1957.17 3281.65 1955.43 Q3282.55 1953.67 3282.55 1951.98 Q3282.55 1949.23 3280.6 1947.49 Q3278.68 1945.76 3275.58 1945.76 Q3273.38 1945.76 3270.93 1946.52 Q3268.5 1947.29 3265.72 1948.84 L3265.72 1944.11 Q3268.54 1942.98 3271 1942.4 Q3273.45 1941.82 3275.49 1941.82 Q3280.86 1941.82 3284.05 1944.51 Q3287.25 1947.19 3287.25 1951.68 Q3287.25 1953.81 3286.44 1955.73 Q3285.65 1957.63 3283.54 1960.23 Q3282.97 1960.9 3279.86 1964.11 Q3276.76 1967.31 3271.11 1973.07 Z\" fill=\"#000000\" fill-rule=\"evenodd\" fill-opacity=\"1\" /><path clip-path=\"url(#clip540)\" d=\"M3297.39 1976.29 L3297.39 1972.03 Q3299.15 1972.86 3300.95 1973.3 Q3302.76 1973.74 3304.49 1973.74 Q3309.12 1973.74 3311.55 1970.64 Q3314.01 1967.52 3314.35 1961.17 Q3313.01 1963.17 3310.95 1964.23 Q3308.89 1965.29 3306.39 1965.29 Q3301.21 1965.29 3298.17 1962.17 Q3295.16 1959.02 3295.16 1953.58 Q3295.16 1948.26 3298.31 1945.04 Q3301.46 1941.82 3306.69 1941.82 Q3312.69 1941.82 3315.84 1946.43 Q3319.01 1951.01 3319.01 1959.76 Q3319.01 1967.93 3315.12 1972.82 Q3311.25 1977.68 3304.7 1977.68 Q3302.94 1977.68 3301.14 1977.33 Q3299.33 1976.98 3297.39 1976.29 M3306.69 1961.64 Q3309.84 1961.64 3311.67 1959.48 Q3313.52 1957.33 3313.52 1953.58 Q3313.52 1949.86 3311.67 1947.7 Q3309.84 1945.53 3306.69 1945.53 Q3303.54 1945.53 3301.69 1947.7 Q3299.86 1949.86 3299.86 1953.58 Q3299.86 1957.33 3301.69 1959.48 Q3303.54 1961.64 3306.69 1961.64 Z\" fill=\"#000000\" fill-rule=\"evenodd\" fill-opacity=\"1\" /><path clip-path=\"url(#clip540)\" d=\"M3352.95 1958.37 Q3356.3 1959.09 3358.18 1961.36 Q3360.08 1963.63 3360.08 1966.96 Q3360.08 1972.08 3356.56 1974.88 Q3353.04 1977.68 3346.56 1977.68 Q3344.38 1977.68 3342.07 1977.24 Q3339.78 1976.82 3337.32 1975.97 L3337.32 1971.45 Q3339.27 1972.59 3341.58 1973.17 Q3343.9 1973.74 3346.42 1973.74 Q3350.82 1973.74 3353.11 1972.01 Q3355.43 1970.27 3355.43 1966.96 Q3355.43 1963.91 3353.27 1962.19 Q3351.14 1960.46 3347.32 1960.46 L3343.3 1960.46 L3343.3 1956.61 L3347.51 1956.61 Q3350.96 1956.61 3352.79 1955.25 Q3354.61 1953.86 3354.61 1951.27 Q3354.61 1948.61 3352.72 1947.19 Q3350.84 1945.76 3347.32 1945.76 Q3345.4 1945.76 3343.2 1946.17 Q3341 1946.59 3338.37 1947.47 L3338.37 1943.3 Q3341.03 1942.56 3343.34 1942.19 Q3345.68 1941.82 3347.74 1941.82 Q3353.06 1941.82 3356.17 1944.25 Q3359.27 1946.66 3359.27 1950.78 Q3359.27 1953.65 3357.62 1955.64 Q3355.98 1957.61 3352.95 1958.37 Z\" fill=\"#000000\" fill-rule=\"evenodd\" fill-opacity=\"1\" /><path clip-path=\"url(#clip540)\" d=\"M3369.75 1973.07 L3377.39 1973.07 L3377.39 1946.71 L3369.08 1948.37 L3369.08 1944.11 L3377.35 1942.45 L3382.02 1942.45 L3382.02 1973.07 L3389.66 1973.07 L3389.66 1977.01 L3369.75 1977.01 L3369.75 1973.07 Z\" fill=\"#000000\" fill-rule=\"evenodd\" fill-opacity=\"1\" /><path clip-path=\"url(#clip540)\" d=\"M3410.04 1973.07 L3417.68 1973.07 L3417.68 1946.71 L3409.37 1948.37 L3409.37 1944.11 L3417.63 1942.45 L3422.31 1942.45 L3422.31 1973.07 L3429.94 1973.07 L3429.94 1977.01 L3410.04 1977.01 L3410.04 1973.07 Z\" fill=\"#000000\" fill-rule=\"evenodd\" fill-opacity=\"1\" /><path clip-path=\"url(#clip540)\" d=\"M3440.2 1973.07 L3447.84 1973.07 L3447.84 1946.71 L3439.53 1948.37 L3439.53 1944.11 L3447.79 1942.45 L3452.47 1942.45 L3452.47 1973.07 L3460.11 1973.07 L3460.11 1977.01 L3440.2 1977.01 L3440.2 1973.07 Z\" fill=\"#000000\" fill-rule=\"evenodd\" fill-opacity=\"1\" /><path clip-path=\"url(#clip540)\" d=\"M3494.65 1946.52 L3482.84 1964.97 L3494.65 1964.97 L3494.65 1946.52 M3493.42 1942.45 L3499.3 1942.45 L3499.3 1964.97 L3504.23 1964.97 L3504.23 1968.86 L3499.3 1968.86 L3499.3 1977.01 L3494.65 1977.01 L3494.65 1968.86 L3479.05 1968.86 L3479.05 1964.35 L3493.42 1942.45 Z\" fill=\"#000000\" fill-rule=\"evenodd\" fill-opacity=\"1\" /><path clip-path=\"url(#clip540)\" d=\"M3512.01 1942.45 L3530.37 1942.45 L3530.37 1946.38 L3516.29 1946.38 L3516.29 1954.86 Q3517.31 1954.51 3518.33 1954.35 Q3519.35 1954.16 3520.37 1954.16 Q3526.15 1954.16 3529.53 1957.33 Q3532.91 1960.5 3532.91 1965.92 Q3532.91 1971.5 3529.44 1974.6 Q3525.97 1977.68 3519.65 1977.68 Q3517.47 1977.68 3515.21 1977.31 Q3512.96 1976.94 3510.55 1976.2 L3510.55 1971.5 Q3512.64 1972.63 3514.86 1973.19 Q3517.08 1973.74 3519.56 1973.74 Q3523.56 1973.74 3525.9 1971.64 Q3528.24 1969.53 3528.24 1965.92 Q3528.24 1962.31 3525.9 1960.2 Q3523.56 1958.1 3519.56 1958.1 Q3517.68 1958.1 3515.81 1958.51 Q3513.96 1958.93 3512.01 1959.81 L3512.01 1942.45 Z\" fill=\"#000000\" fill-rule=\"evenodd\" fill-opacity=\"1\" /><path clip-path=\"url(#clip540)\" d=\"M3566.07 1958.37 Q3569.42 1959.09 3571.3 1961.36 Q3573.2 1963.63 3573.2 1966.96 Q3573.2 1972.08 3569.68 1974.88 Q3566.16 1977.68 3559.68 1977.68 Q3557.5 1977.68 3555.19 1977.24 Q3552.9 1976.82 3550.44 1975.97 L3550.44 1971.45 Q3552.39 1972.59 3554.7 1973.17 Q3557.02 1973.74 3559.54 1973.74 Q3563.94 1973.74 3566.23 1972.01 Q3568.54 1970.27 3568.54 1966.96 Q3568.54 1963.91 3566.39 1962.19 Q3564.26 1960.46 3560.44 1960.46 L3556.42 1960.46 L3556.42 1956.61 L3560.63 1956.61 Q3564.08 1956.61 3565.91 1955.25 Q3567.73 1953.86 3567.73 1951.27 Q3567.73 1948.61 3565.84 1947.19 Q3563.96 1945.76 3560.44 1945.76 Q3558.52 1945.76 3556.32 1946.17 Q3554.12 1946.59 3551.48 1947.47 L3551.48 1943.3 Q3554.15 1942.56 3556.46 1942.19 Q3558.8 1941.82 3560.86 1941.82 Q3566.18 1941.82 3569.29 1944.25 Q3572.39 1946.66 3572.39 1950.78 Q3572.39 1953.65 3570.74 1955.64 Q3569.1 1957.61 3566.07 1958.37 Z\" fill=\"#000000\" fill-rule=\"evenodd\" fill-opacity=\"1\" /><path clip-path=\"url(#clip540)\" d=\"M3592.06 1945.53 Q3588.45 1945.53 3586.62 1949.09 Q3584.82 1952.63 3584.82 1959.76 Q3584.82 1966.87 3586.62 1970.43 Q3588.45 1973.98 3592.06 1973.98 Q3595.7 1973.98 3597.5 1970.43 Q3599.33 1966.87 3599.33 1959.76 Q3599.33 1952.63 3597.5 1949.09 Q3595.7 1945.53 3592.06 1945.53 M3592.06 1941.82 Q3597.87 1941.82 3600.93 1946.43 Q3604.01 1951.01 3604.01 1959.76 Q3604.01 1968.49 3600.93 1973.1 Q3597.87 1977.68 3592.06 1977.68 Q3586.25 1977.68 3583.17 1973.1 Q3580.12 1968.49 3580.12 1959.76 Q3580.12 1951.01 3583.17 1946.43 Q3586.25 1941.82 3592.06 1941.82 Z\" fill=\"#000000\" fill-rule=\"evenodd\" fill-opacity=\"1\" /><path clip-path=\"url(#clip540)\" d=\"M3636.56 1946.52 L3624.75 1964.97 L3636.56 1964.97 L3636.56 1946.52 M3635.33 1942.45 L3641.21 1942.45 L3641.21 1964.97 L3646.14 1964.97 L3646.14 1968.86 L3641.21 1968.86 L3641.21 1977.01 L3636.56 1977.01 L3636.56 1968.86 L3620.96 1968.86 L3620.96 1964.35 L3635.33 1942.45 Z\" fill=\"#000000\" fill-rule=\"evenodd\" fill-opacity=\"1\" /><path clip-path=\"url(#clip540)\" d=\"M3664.45 1957.86 Q3661.3 1957.86 3659.45 1960.02 Q3657.62 1962.17 3657.62 1965.92 Q3657.62 1969.65 3659.45 1971.82 Q3661.3 1973.98 3664.45 1973.98 Q3667.6 1973.98 3669.43 1971.82 Q3671.28 1969.65 3671.28 1965.92 Q3671.28 1962.17 3669.43 1960.02 Q3667.6 1957.86 3664.45 1957.86 M3673.74 1943.21 L3673.74 1947.47 Q3671.98 1946.64 3670.17 1946.2 Q3668.39 1945.76 3666.63 1945.76 Q3662 1945.76 3659.55 1948.88 Q3657.12 1952.01 3656.77 1958.33 Q3658.13 1956.31 3660.19 1955.25 Q3662.25 1954.16 3664.73 1954.16 Q3669.94 1954.16 3672.95 1957.33 Q3675.98 1960.48 3675.98 1965.92 Q3675.98 1971.24 3672.83 1974.46 Q3669.68 1977.68 3664.45 1977.68 Q3658.46 1977.68 3655.29 1973.1 Q3652.12 1968.49 3652.12 1959.76 Q3652.12 1951.57 3656 1946.71 Q3659.89 1941.82 3666.44 1941.82 Q3668.2 1941.82 3669.99 1942.17 Q3671.79 1942.52 3673.74 1943.21 Z\" fill=\"#000000\" fill-rule=\"evenodd\" fill-opacity=\"1\" /><path clip-path=\"url(#clip540)\" d=\"M3698.94 1973.07 L3715.26 1973.07 L3715.26 1977.01 L3693.31 1977.01 L3693.31 1973.07 Q3695.98 1970.32 3700.56 1965.69 Q3705.17 1961.04 3706.35 1959.69 Q3708.59 1957.17 3709.47 1955.43 Q3710.37 1953.67 3710.37 1951.98 Q3710.37 1949.23 3708.43 1947.49 Q3706.51 1945.76 3703.41 1945.76 Q3701.21 1945.76 3698.75 1946.52 Q3696.32 1947.29 3693.54 1948.84 L3693.54 1944.11 Q3696.37 1942.98 3698.82 1942.4 Q3701.28 1941.82 3703.31 1941.82 Q3708.68 1941.82 3711.88 1944.51 Q3715.07 1947.19 3715.07 1951.68 Q3715.07 1953.81 3714.26 1955.73 Q3713.48 1957.63 3711.37 1960.23 Q3710.79 1960.9 3707.69 1964.11 Q3704.59 1967.31 3698.94 1973.07 Z\" fill=\"#000000\" fill-rule=\"evenodd\" fill-opacity=\"1\" /><path clip-path=\"url(#clip540)\" d=\"M3723.89 1942.45 L3746.11 1942.45 L3746.11 1944.44 L3733.57 1977.01 L3728.68 1977.01 L3740.49 1946.38 L3723.89 1946.38 L3723.89 1942.45 Z\" fill=\"#000000\" fill-rule=\"evenodd\" fill-opacity=\"1\" /><path clip-path=\"url(#clip540)\" d=\"M3779.93 1946.52 L3768.12 1964.97 L3779.93 1964.97 L3779.93 1946.52 M3778.7 1942.45 L3784.58 1942.45 L3784.58 1964.97 L3789.51 1964.97 L3789.51 1968.86 L3784.58 1968.86 L3784.58 1977.01 L3779.93 1977.01 L3779.93 1968.86 L3764.33 1968.86 L3764.33 1964.35 L3778.7 1942.45 Z\" fill=\"#000000\" fill-rule=\"evenodd\" fill-opacity=\"1\" /><path clip-path=\"url(#clip540)\" d=\"M3801.27 1973.07 L3817.59 1973.07 L3817.59 1977.01 L3795.65 1977.01 L3795.65 1973.07 Q3798.31 1970.32 3802.89 1965.69 Q3807.5 1961.04 3808.68 1959.69 Q3810.92 1957.17 3811.8 1955.43 Q3812.71 1953.67 3812.71 1951.98 Q3812.71 1949.23 3810.76 1947.49 Q3808.84 1945.76 3805.74 1945.76 Q3803.54 1945.76 3801.09 1946.52 Q3798.65 1947.29 3795.88 1948.84 L3795.88 1944.11 Q3798.7 1942.98 3801.15 1942.4 Q3803.61 1941.82 3805.65 1941.82 Q3811.02 1941.82 3814.21 1944.51 Q3817.4 1947.19 3817.4 1951.68 Q3817.4 1953.81 3816.59 1955.73 Q3815.81 1957.63 3813.7 1960.23 Q3813.12 1960.9 3810.02 1964.11 Q3806.92 1967.31 3801.27 1973.07 Z\" fill=\"#000000\" fill-rule=\"evenodd\" fill-opacity=\"1\" /><path clip-path=\"url(#clip540)\" d=\"M3850.13 1946.52 L3838.33 1964.97 L3850.13 1964.97 L3850.13 1946.52 M3848.9 1942.45 L3854.78 1942.45 L3854.78 1964.97 L3859.71 1964.97 L3859.71 1968.86 L3854.78 1968.86 L3854.78 1977.01 L3850.13 1977.01 L3850.13 1968.86 L3834.53 1968.86 L3834.53 1964.35 L3848.9 1942.45 Z\" fill=\"#000000\" fill-rule=\"evenodd\" fill-opacity=\"1\" /><path clip-path=\"url(#clip540)\" d=\"M3880.29 1946.52 L3868.49 1964.97 L3880.29 1964.97 L3880.29 1946.52 M3879.07 1942.45 L3884.95 1942.45 L3884.95 1964.97 L3889.88 1964.97 L3889.88 1968.86 L3884.95 1968.86 L3884.95 1977.01 L3880.29 1977.01 L3880.29 1968.86 L3864.69 1968.86 L3864.69 1964.35 L3879.07 1942.45 Z\" fill=\"#000000\" fill-rule=\"evenodd\" fill-opacity=\"1\" /><path clip-path=\"url(#clip540)\" d=\"M3923.09 1958.37 Q3926.44 1959.09 3928.32 1961.36 Q3930.22 1963.63 3930.22 1966.96 Q3930.22 1972.08 3926.7 1974.88 Q3923.18 1977.68 3916.7 1977.68 Q3914.52 1977.68 3912.21 1977.24 Q3909.92 1976.82 3907.46 1975.97 L3907.46 1971.45 Q3909.41 1972.59 3911.72 1973.17 Q3914.04 1973.74 3916.56 1973.74 Q3920.96 1973.74 3923.25 1972.01 Q3925.56 1970.27 3925.56 1966.96 Q3925.56 1963.91 3923.41 1962.19 Q3921.28 1960.46 3917.46 1960.46 L3913.44 1960.46 L3913.44 1956.61 L3917.65 1956.61 Q3921.1 1956.61 3922.93 1955.25 Q3924.75 1953.86 3924.75 1951.27 Q3924.75 1948.61 3922.86 1947.19 Q3920.98 1945.76 3917.46 1945.76 Q3915.54 1945.76 3913.34 1946.17 Q3911.14 1946.59 3908.5 1947.47 L3908.5 1943.3 Q3911.17 1942.56 3913.48 1942.19 Q3915.82 1941.82 3917.88 1941.82 Q3923.2 1941.82 3926.31 1944.25 Q3929.41 1946.66 3929.41 1950.78 Q3929.41 1953.65 3927.76 1955.64 Q3926.12 1957.61 3923.09 1958.37 Z\" fill=\"#000000\" fill-rule=\"evenodd\" fill-opacity=\"1\" /><path clip-path=\"url(#clip540)\" d=\"M3943.11 1973.07 L3959.43 1973.07 L3959.43 1977.01 L3937.49 1977.01 L3937.49 1973.07 Q3940.15 1970.32 3944.73 1965.69 Q3949.34 1961.04 3950.52 1959.69 Q3952.76 1957.17 3953.64 1955.43 Q3954.55 1953.67 3954.55 1951.98 Q3954.55 1949.23 3952.6 1947.49 Q3950.68 1945.76 3947.58 1945.76 Q3945.38 1945.76 3942.93 1946.52 Q3940.5 1947.29 3937.72 1948.84 L3937.72 1944.11 Q3940.54 1942.98 3943 1942.4 Q3945.45 1941.82 3947.49 1941.82 Q3952.86 1941.82 3956.05 1944.51 Q3959.25 1947.19 3959.25 1951.68 Q3959.25 1953.81 3958.43 1955.73 Q3957.65 1957.63 3955.54 1960.23 Q3954.96 1960.9 3951.86 1964.11 Q3948.76 1967.31 3943.11 1973.07 Z\" fill=\"#000000\" fill-rule=\"evenodd\" fill-opacity=\"1\" /><path clip-path=\"url(#clip540)\" d=\"M3993.86 1958.37 Q3997.21 1959.09 3999.09 1961.36 Q4000.99 1963.63 4000.99 1966.96 Q4000.99 1972.08 3997.47 1974.88 Q3993.95 1977.68 3987.47 1977.68 Q3985.29 1977.68 3982.98 1977.24 Q3980.69 1976.82 3978.23 1975.97 L3978.23 1971.45 Q3980.18 1972.59 3982.49 1973.17 Q3984.81 1973.74 3987.33 1973.74 Q3991.73 1973.74 3994.02 1972.01 Q3996.33 1970.27 3996.33 1966.96 Q3996.33 1963.91 3994.18 1962.19 Q3992.05 1960.46 3988.23 1960.46 L3984.2 1960.46 L3984.2 1956.61 L3988.42 1956.61 Q3991.87 1956.61 3993.7 1955.25 Q3995.52 1953.86 3995.52 1951.27 Q3995.52 1948.61 3993.63 1947.19 Q3991.75 1945.76 3988.23 1945.76 Q3986.31 1945.76 3984.11 1946.17 Q3981.91 1946.59 3979.27 1947.47 L3979.27 1943.3 Q3981.94 1942.56 3984.25 1942.19 Q3986.59 1941.82 3988.65 1941.82 Q3993.97 1941.82 3997.08 1944.25 Q4000.18 1946.66 4000.18 1950.78 Q4000.18 1953.65 3998.53 1955.64 Q3996.89 1957.61 3993.86 1958.37 Z\" fill=\"#000000\" fill-rule=\"evenodd\" fill-opacity=\"1\" /><path clip-path=\"url(#clip540)\" d=\"M4024.02 1958.37 Q4027.38 1959.09 4029.25 1961.36 Q4031.15 1963.63 4031.15 1966.96 Q4031.15 1972.08 4027.63 1974.88 Q4024.11 1977.68 4017.63 1977.68 Q4015.45 1977.68 4013.14 1977.24 Q4010.85 1976.82 4008.39 1975.97 L4008.39 1971.45 Q4010.34 1972.59 4012.65 1973.17 Q4014.97 1973.74 4017.49 1973.74 Q4021.89 1973.74 4024.18 1972.01 Q4026.5 1970.27 4026.5 1966.96 Q4026.5 1963.91 4024.34 1962.19 Q4022.21 1960.46 4018.39 1960.46 L4014.37 1960.46 L4014.37 1956.61 L4018.58 1956.61 Q4022.03 1956.61 4023.86 1955.25 Q4025.69 1953.86 4025.69 1951.27 Q4025.69 1948.61 4023.79 1947.19 Q4021.91 1945.76 4018.39 1945.76 Q4016.47 1945.76 4014.27 1946.17 Q4012.08 1946.59 4009.44 1947.47 L4009.44 1943.3 Q4012.1 1942.56 4014.41 1942.19 Q4016.75 1941.82 4018.81 1941.82 Q4024.14 1941.82 4027.24 1944.25 Q4030.34 1946.66 4030.34 1950.78 Q4030.34 1953.65 4028.7 1955.64 Q4027.05 1957.61 4024.02 1958.37 Z\" fill=\"#000000\" fill-rule=\"evenodd\" fill-opacity=\"1\" /><path clip-path=\"url(#clip540)\" d=\"M4050.38 1973.07 L4058.02 1973.07 L4058.02 1946.71 L4049.71 1948.37 L4049.71 1944.11 L4057.97 1942.45 L4062.65 1942.45 L4062.65 1973.07 L4070.29 1973.07 L4070.29 1977.01 L4050.38 1977.01 L4050.38 1973.07 Z\" fill=\"#000000\" fill-rule=\"evenodd\" fill-opacity=\"1\" /><path clip-path=\"url(#clip540)\" d=\"M4092.58 1946.52 L4080.77 1964.97 L4092.58 1964.97 L4092.58 1946.52 M4091.35 1942.45 L4097.23 1942.45 L4097.23 1964.97 L4102.16 1964.97 L4102.16 1968.86 L4097.23 1968.86 L4097.23 1977.01 L4092.58 1977.01 L4092.58 1968.86 L4076.98 1968.86 L4076.98 1964.35 L4091.35 1942.45 Z\" fill=\"#000000\" fill-rule=\"evenodd\" fill-opacity=\"1\" /><path clip-path=\"url(#clip540)\" d=\"M4137.48 1976.29 L4137.48 1972.03 Q4139.24 1972.86 4141.05 1973.3 Q4142.85 1973.74 4144.59 1973.74 Q4149.22 1973.74 4151.65 1970.64 Q4154.1 1967.52 4154.45 1961.17 Q4153.11 1963.17 4151.05 1964.23 Q4148.98 1965.29 4146.48 1965.29 Q4141.3 1965.29 4138.27 1962.17 Q4135.26 1959.02 4135.26 1953.58 Q4135.26 1948.26 4138.41 1945.04 Q4141.55 1941.82 4146.79 1941.82 Q4152.78 1941.82 4155.93 1946.43 Q4159.1 1951.01 4159.1 1959.76 Q4159.1 1967.93 4155.21 1972.82 Q4151.35 1977.68 4144.8 1977.68 Q4143.04 1977.68 4141.23 1977.33 Q4139.42 1976.98 4137.48 1976.29 M4146.79 1961.64 Q4149.93 1961.64 4151.76 1959.48 Q4153.61 1957.33 4153.61 1953.58 Q4153.61 1949.86 4151.76 1947.7 Q4149.93 1945.53 4146.79 1945.53 Q4143.64 1945.53 4141.79 1947.7 Q4139.96 1949.86 4139.96 1953.58 Q4139.96 1957.33 4141.79 1959.48 Q4143.64 1961.64 4146.79 1961.64 Z\" fill=\"#000000\" fill-rule=\"evenodd\" fill-opacity=\"1\" /><path clip-path=\"url(#clip540)\" d=\"M4193.56 1973.07 L4201.2 1973.07 L4201.2 1946.71 L4192.89 1948.37 L4192.89 1944.11 L4201.16 1942.45 L4205.83 1942.45 L4205.83 1973.07 L4213.47 1973.07 L4213.47 1977.01 L4193.56 1977.01 L4193.56 1973.07 Z\" fill=\"#000000\" fill-rule=\"evenodd\" fill-opacity=\"1\" /><path clip-path=\"url(#clip540)\" d=\"M4221.73 1942.45 L4243.96 1942.45 L4243.96 1944.44 L4231.41 1977.01 L4226.53 1977.01 L4238.33 1946.38 L4221.73 1946.38 L4221.73 1942.45 Z\" fill=\"#000000\" fill-rule=\"evenodd\" fill-opacity=\"1\" /><path clip-path=\"url(#clip540)\" d=\"M4265.15 1973.07 L4272.79 1973.07 L4272.79 1946.71 L4264.48 1948.37 L4264.48 1944.11 L4272.75 1942.45 L4277.42 1942.45 L4277.42 1973.07 L4285.06 1973.07 L4285.06 1977.01 L4265.15 1977.01 L4265.15 1973.07 Z\" fill=\"#000000\" fill-rule=\"evenodd\" fill-opacity=\"1\" /><path clip-path=\"url(#clip540)\" d=\"M4298.53 1973.07 L4314.85 1973.07 L4314.85 1977.01 L4292.91 1977.01 L4292.91 1973.07 Q4295.57 1970.32 4300.15 1965.69 Q4304.76 1961.04 4305.94 1959.69 Q4308.19 1957.17 4309.07 1955.43 Q4309.97 1953.67 4309.97 1951.98 Q4309.97 1949.23 4308.02 1947.49 Q4306.1 1945.76 4303 1945.76 Q4300.8 1945.76 4298.35 1946.52 Q4295.92 1947.29 4293.14 1948.84 L4293.14 1944.11 Q4295.96 1942.98 4298.42 1942.4 Q4300.87 1941.82 4302.91 1941.82 Q4308.28 1941.82 4311.47 1944.51 Q4314.67 1947.19 4314.67 1951.68 Q4314.67 1953.81 4313.86 1955.73 Q4313.07 1957.63 4310.96 1960.23 Q4310.39 1960.9 4307.28 1964.11 Q4304.18 1967.31 4298.53 1973.07 Z\" fill=\"#000000\" fill-rule=\"evenodd\" fill-opacity=\"1\" /><path clip-path=\"url(#clip540)\" d=\"M4335.92 1973.07 L4343.56 1973.07 L4343.56 1946.71 L4335.25 1948.37 L4335.25 1944.11 L4343.52 1942.45 L4348.19 1942.45 L4348.19 1973.07 L4355.83 1973.07 L4355.83 1977.01 L4335.92 1977.01 L4335.92 1973.07 Z\" fill=\"#000000\" fill-rule=\"evenodd\" fill-opacity=\"1\" /><path clip-path=\"url(#clip540)\" d=\"M4379.44 1958.37 Q4382.8 1959.09 4384.67 1961.36 Q4386.57 1963.63 4386.57 1966.96 Q4386.57 1972.08 4383.05 1974.88 Q4379.53 1977.68 4373.05 1977.68 Q4370.88 1977.68 4368.56 1977.24 Q4366.27 1976.82 4363.82 1975.97 L4363.82 1971.45 Q4365.76 1972.59 4368.08 1973.17 Q4370.39 1973.74 4372.91 1973.74 Q4377.31 1973.74 4379.6 1972.01 Q4381.92 1970.27 4381.92 1966.96 Q4381.92 1963.91 4379.77 1962.19 Q4377.64 1960.46 4373.82 1960.46 L4369.79 1960.46 L4369.79 1956.61 L4374 1956.61 Q4377.45 1956.61 4379.28 1955.25 Q4381.11 1953.86 4381.11 1951.27 Q4381.11 1948.61 4379.21 1947.19 Q4377.34 1945.76 4373.82 1945.76 Q4371.9 1945.76 4369.7 1946.17 Q4367.5 1946.59 4364.86 1947.47 L4364.86 1943.3 Q4367.52 1942.56 4369.84 1942.19 Q4372.17 1941.82 4374.23 1941.82 Q4379.56 1941.82 4382.66 1944.25 Q4385.76 1946.66 4385.76 1950.78 Q4385.76 1953.65 4384.12 1955.64 Q4382.47 1957.61 4379.44 1958.37 Z\" fill=\"#000000\" fill-rule=\"evenodd\" fill-opacity=\"1\" /><path clip-path=\"url(#clip540)\" d=\"M4407.34 1973.07 L4414.98 1973.07 L4414.98 1946.71 L4406.67 1948.37 L4406.67 1944.11 L4414.93 1942.45 L4419.61 1942.45 L4419.61 1973.07 L4427.25 1973.07 L4427.25 1977.01 L4407.34 1977.01 L4407.34 1973.07 Z\" fill=\"#000000\" fill-rule=\"evenodd\" fill-opacity=\"1\" /><path clip-path=\"url(#clip540)\" d=\"M4436.74 1942.45 L4455.1 1942.45 L4455.1 1946.38 L4441.02 1946.38 L4441.02 1954.86 Q4442.04 1954.51 4443.06 1954.35 Q4444.08 1954.16 4445.1 1954.16 Q4450.88 1954.16 4454.26 1957.33 Q4457.64 1960.5 4457.64 1965.92 Q4457.64 1971.5 4454.17 1974.6 Q4450.7 1977.68 4444.38 1977.68 Q4442.2 1977.68 4439.93 1977.31 Q4437.69 1976.94 4435.28 1976.2 L4435.28 1971.5 Q4437.36 1972.63 4439.59 1973.19 Q4441.81 1973.74 4444.29 1973.74 Q4448.29 1973.74 4450.63 1971.64 Q4452.97 1969.53 4452.97 1965.92 Q4452.97 1962.31 4450.63 1960.2 Q4448.29 1958.1 4444.29 1958.1 Q4442.41 1958.1 4440.54 1958.51 Q4438.68 1958.93 4436.74 1959.81 L4436.74 1942.45 Z\" fill=\"#000000\" fill-rule=\"evenodd\" fill-opacity=\"1\" /><path clip-path=\"url(#clip540)\" d=\"M4478.01 1973.07 L4485.65 1973.07 L4485.65 1946.71 L4477.34 1948.37 L4477.34 1944.11 L4485.6 1942.45 L4490.28 1942.45 L4490.28 1973.07 L4497.91 1973.07 L4497.91 1977.01 L4478.01 1977.01 L4478.01 1973.07 Z\" fill=\"#000000\" fill-rule=\"evenodd\" fill-opacity=\"1\" /><path clip-path=\"url(#clip540)\" d=\"M4517.94 1957.86 Q4514.79 1957.86 4512.94 1960.02 Q4511.11 1962.17 4511.11 1965.92 Q4511.11 1969.65 4512.94 1971.82 Q4514.79 1973.98 4517.94 1973.98 Q4521.09 1973.98 4522.91 1971.82 Q4524.77 1969.65 4524.77 1965.92 Q4524.77 1962.17 4522.91 1960.02 Q4521.09 1957.86 4517.94 1957.86 M4527.22 1943.21 L4527.22 1947.47 Q4525.46 1946.64 4523.66 1946.2 Q4521.87 1945.76 4520.11 1945.76 Q4515.48 1945.76 4513.03 1948.88 Q4510.6 1952.01 4510.25 1958.33 Q4511.62 1956.31 4513.68 1955.25 Q4515.74 1954.16 4518.22 1954.16 Q4523.42 1954.16 4526.43 1957.33 Q4529.47 1960.48 4529.47 1965.92 Q4529.47 1971.24 4526.32 1974.46 Q4523.17 1977.68 4517.94 1977.68 Q4511.94 1977.68 4508.77 1973.1 Q4505.6 1968.49 4505.6 1959.76 Q4505.6 1951.57 4509.49 1946.71 Q4513.38 1941.82 4519.93 1941.82 Q4521.69 1941.82 4523.47 1942.17 Q4525.28 1942.52 4527.22 1943.21 Z\" fill=\"#000000\" fill-rule=\"evenodd\" fill-opacity=\"1\" /><path clip-path=\"url(#clip540)\" d=\"M4578.89 1958.37 Q4582.25 1959.09 4584.12 1961.36 Q4586.02 1963.63 4586.02 1966.96 Q4586.02 1972.08 4582.5 1974.88 Q4578.99 1977.68 4572.5 1977.68 Q4570.33 1977.68 4568.01 1977.24 Q4565.72 1976.82 4563.27 1975.97 L4563.27 1971.45 Q4565.21 1972.59 4567.53 1973.17 Q4569.84 1973.74 4572.37 1973.74 Q4576.76 1973.74 4579.05 1972.01 Q4581.37 1970.27 4581.37 1966.96 Q4581.37 1963.91 4579.22 1962.19 Q4577.09 1960.46 4573.27 1960.46 L4569.24 1960.46 L4569.24 1956.61 L4573.45 1956.61 Q4576.9 1956.61 4578.73 1955.25 Q4580.56 1953.86 4580.56 1951.27 Q4580.56 1948.61 4578.66 1947.19 Q4576.79 1945.76 4573.27 1945.76 Q4571.35 1945.76 4569.15 1946.17 Q4566.95 1946.59 4564.31 1947.47 L4564.31 1943.3 Q4566.97 1942.56 4569.29 1942.19 Q4571.62 1941.82 4573.68 1941.82 Q4579.01 1941.82 4582.11 1944.25 Q4585.21 1946.66 4585.21 1950.78 Q4585.21 1953.65 4583.57 1955.64 Q4581.93 1957.61 4578.89 1958.37 Z\" fill=\"#000000\" fill-rule=\"evenodd\" fill-opacity=\"1\" /><path clip-path=\"url(#clip540)\" d=\"M4636.27 1973.07 L4643.91 1973.07 L4643.91 1946.71 L4635.6 1948.37 L4635.6 1944.11 L4643.86 1942.45 L4648.54 1942.45 L4648.54 1973.07 L4656.18 1973.07 L4656.18 1977.01 L4636.27 1977.01 L4636.27 1973.07 Z\" fill=\"#000000\" fill-rule=\"evenodd\" fill-opacity=\"1\" /><path clip-path=\"url(#clip540)\" d=\"M4711.79 1973.07 L4728.11 1973.07 L4728.11 1977.01 L4706.16 1977.01 L4706.16 1973.07 Q4708.82 1970.32 4713.41 1965.69 Q4718.01 1961.04 4719.19 1959.69 Q4721.44 1957.17 4722.32 1955.43 Q4723.22 1953.67 4723.22 1951.98 Q4723.22 1949.23 4721.28 1947.49 Q4719.36 1945.76 4716.25 1945.76 Q4714.06 1945.76 4711.6 1946.52 Q4709.17 1947.29 4706.39 1948.84 L4706.39 1944.11 Q4709.22 1942.98 4711.67 1942.4 Q4714.12 1941.82 4716.16 1941.82 Q4721.53 1941.82 4724.73 1944.51 Q4727.92 1947.19 4727.92 1951.68 Q4727.92 1953.81 4727.11 1955.73 Q4726.32 1957.63 4724.22 1960.23 Q4723.64 1960.9 4720.54 1964.11 Q4717.43 1967.31 4711.79 1973.07 Z\" fill=\"#000000\" fill-rule=\"evenodd\" fill-opacity=\"1\" /><polyline clip-path=\"url(#clip542)\" style=\"stroke:#000000; stroke-linecap:round; stroke-linejoin:round; stroke-width:2; stroke-opacity:0.1; fill:none\" points=\"\n",
       "  193.121,1895.41 4752.76,1895.41 \n",
       "  \"/>\n",
       "<polyline clip-path=\"url(#clip542)\" style=\"stroke:#000000; stroke-linecap:round; stroke-linejoin:round; stroke-width:2; stroke-opacity:0.1; fill:none\" points=\"\n",
       "  193.121,1486.67 4752.76,1486.67 \n",
       "  \"/>\n",
       "<polyline clip-path=\"url(#clip542)\" style=\"stroke:#000000; stroke-linecap:round; stroke-linejoin:round; stroke-width:2; stroke-opacity:0.1; fill:none\" points=\"\n",
       "  193.121,1077.92 4752.76,1077.92 \n",
       "  \"/>\n",
       "<polyline clip-path=\"url(#clip542)\" style=\"stroke:#000000; stroke-linecap:round; stroke-linejoin:round; stroke-width:2; stroke-opacity:0.1; fill:none\" points=\"\n",
       "  193.121,669.183 4752.76,669.183 \n",
       "  \"/>\n",
       "<polyline clip-path=\"url(#clip542)\" style=\"stroke:#000000; stroke-linecap:round; stroke-linejoin:round; stroke-width:2; stroke-opacity:0.1; fill:none\" points=\"\n",
       "  193.121,260.441 4752.76,260.441 \n",
       "  \"/>\n",
       "<polyline clip-path=\"url(#clip540)\" style=\"stroke:#000000; stroke-linecap:round; stroke-linejoin:round; stroke-width:4; stroke-opacity:1; fill:none\" points=\"\n",
       "  193.121,1895.41 193.121,47.2441 \n",
       "  \"/>\n",
       "<polyline clip-path=\"url(#clip540)\" style=\"stroke:#000000; stroke-linecap:round; stroke-linejoin:round; stroke-width:4; stroke-opacity:1; fill:none\" points=\"\n",
       "  193.121,1895.41 212.019,1895.41 \n",
       "  \"/>\n",
       "<polyline clip-path=\"url(#clip540)\" style=\"stroke:#000000; stroke-linecap:round; stroke-linejoin:round; stroke-width:4; stroke-opacity:1; fill:none\" points=\"\n",
       "  193.121,1486.67 212.019,1486.67 \n",
       "  \"/>\n",
       "<polyline clip-path=\"url(#clip540)\" style=\"stroke:#000000; stroke-linecap:round; stroke-linejoin:round; stroke-width:4; stroke-opacity:1; fill:none\" points=\"\n",
       "  193.121,1077.92 212.019,1077.92 \n",
       "  \"/>\n",
       "<polyline clip-path=\"url(#clip540)\" style=\"stroke:#000000; stroke-linecap:round; stroke-linejoin:round; stroke-width:4; stroke-opacity:1; fill:none\" points=\"\n",
       "  193.121,669.183 212.019,669.183 \n",
       "  \"/>\n",
       "<polyline clip-path=\"url(#clip540)\" style=\"stroke:#000000; stroke-linecap:round; stroke-linejoin:round; stroke-width:4; stroke-opacity:1; fill:none\" points=\"\n",
       "  193.121,260.441 212.019,260.441 \n",
       "  \"/>\n",
       "<path clip-path=\"url(#clip540)\" d=\"M109.177 1881.21 Q105.566 1881.21 103.737 1884.77 Q101.932 1888.31 101.932 1895.44 Q101.932 1902.55 103.737 1906.11 Q105.566 1909.66 109.177 1909.66 Q112.811 1909.66 114.617 1906.11 Q116.445 1902.55 116.445 1895.44 Q116.445 1888.31 114.617 1884.77 Q112.811 1881.21 109.177 1881.21 M109.177 1877.5 Q114.987 1877.5 118.043 1882.11 Q121.121 1886.69 121.121 1895.44 Q121.121 1904.17 118.043 1908.78 Q114.987 1913.36 109.177 1913.36 Q103.367 1913.36 100.288 1908.78 Q97.2326 1904.17 97.2326 1895.44 Q97.2326 1886.69 100.288 1882.11 Q103.367 1877.5 109.177 1877.5 Z\" fill=\"#000000\" fill-rule=\"evenodd\" fill-opacity=\"1\" /><path clip-path=\"url(#clip540)\" d=\"M74.0382 1500.01 L90.3576 1500.01 L90.3576 1503.95 L68.4133 1503.95 L68.4133 1500.01 Q71.0753 1497.26 75.6586 1492.63 Q80.2651 1487.97 81.4456 1486.63 Q83.691 1484.11 84.5706 1482.37 Q85.4734 1480.61 85.4734 1478.92 Q85.4734 1476.17 83.5289 1474.43 Q81.6076 1472.7 78.5058 1472.7 Q76.3067 1472.7 73.8531 1473.46 Q71.4225 1474.22 68.6447 1475.77 L68.6447 1471.05 Q71.4688 1469.92 73.9225 1469.34 Q76.3762 1468.76 78.4132 1468.76 Q83.7836 1468.76 86.978 1471.45 Q90.1724 1474.13 90.1724 1478.62 Q90.1724 1480.75 89.3622 1482.67 Q88.5752 1484.57 86.4687 1487.16 Q85.89 1487.84 82.7882 1491.05 Q79.6864 1494.25 74.0382 1500.01 Z\" fill=\"#000000\" fill-rule=\"evenodd\" fill-opacity=\"1\" /><path clip-path=\"url(#clip540)\" d=\"M100.219 1469.39 L118.575 1469.39 L118.575 1473.32 L104.501 1473.32 L104.501 1481.79 Q105.52 1481.45 106.538 1481.28 Q107.557 1481.1 108.575 1481.1 Q114.362 1481.1 117.742 1484.27 Q121.121 1487.44 121.121 1492.86 Q121.121 1498.44 117.649 1501.54 Q114.177 1504.62 107.857 1504.62 Q105.682 1504.62 103.413 1504.25 Q101.168 1503.88 98.7603 1503.14 L98.7603 1498.44 Q100.844 1499.57 103.066 1500.13 Q105.288 1500.68 107.765 1500.68 Q111.77 1500.68 114.107 1498.58 Q116.445 1496.47 116.445 1492.86 Q116.445 1489.25 114.107 1487.14 Q111.77 1485.03 107.765 1485.03 Q105.89 1485.03 104.015 1485.45 Q102.163 1485.87 100.219 1486.75 L100.219 1469.39 Z\" fill=\"#000000\" fill-rule=\"evenodd\" fill-opacity=\"1\" /><path clip-path=\"url(#clip540)\" d=\"M69.0614 1060.64 L87.4178 1060.64 L87.4178 1064.58 L73.3438 1064.58 L73.3438 1073.05 Q74.3623 1072.7 75.3808 1072.54 Q76.3993 1072.36 77.4178 1072.36 Q83.2049 1072.36 86.5845 1075.53 Q89.9641 1078.7 89.9641 1084.12 Q89.9641 1089.7 86.4919 1092.8 Q83.0197 1095.88 76.7003 1095.88 Q74.5243 1095.88 72.2558 1095.51 Q70.0105 1095.13 67.6031 1094.39 L67.6031 1089.7 Q69.6864 1090.83 71.9086 1091.38 Q74.1308 1091.94 76.6077 1091.94 Q80.6123 1091.94 82.9502 1089.83 Q85.2882 1087.73 85.2882 1084.12 Q85.2882 1080.51 82.9502 1078.4 Q80.6123 1076.29 76.6077 1076.29 Q74.7327 1076.29 72.8577 1076.71 Q71.0058 1077.13 69.0614 1078.01 L69.0614 1060.64 Z\" fill=\"#000000\" fill-rule=\"evenodd\" fill-opacity=\"1\" /><path clip-path=\"url(#clip540)\" d=\"M109.177 1063.72 Q105.566 1063.72 103.737 1067.29 Q101.932 1070.83 101.932 1077.96 Q101.932 1085.07 103.737 1088.63 Q105.566 1092.17 109.177 1092.17 Q112.811 1092.17 114.617 1088.63 Q116.445 1085.07 116.445 1077.96 Q116.445 1070.83 114.617 1067.29 Q112.811 1063.72 109.177 1063.72 M109.177 1060.02 Q114.987 1060.02 118.043 1064.63 Q121.121 1069.21 121.121 1077.96 Q121.121 1086.69 118.043 1091.29 Q114.987 1095.88 109.177 1095.88 Q103.367 1095.88 100.288 1091.29 Q97.2326 1086.69 97.2326 1077.96 Q97.2326 1069.21 100.288 1064.63 Q103.367 1060.02 109.177 1060.02 Z\" fill=\"#000000\" fill-rule=\"evenodd\" fill-opacity=\"1\" /><path clip-path=\"url(#clip540)\" d=\"M68.8299 651.903 L91.052 651.903 L91.052 653.893 L78.5058 686.463 L73.6216 686.463 L85.4271 655.838 L68.8299 655.838 L68.8299 651.903 Z\" fill=\"#000000\" fill-rule=\"evenodd\" fill-opacity=\"1\" /><path clip-path=\"url(#clip540)\" d=\"M100.219 651.903 L118.575 651.903 L118.575 655.838 L104.501 655.838 L104.501 664.31 Q105.52 663.963 106.538 663.801 Q107.557 663.616 108.575 663.616 Q114.362 663.616 117.742 666.787 Q121.121 669.958 121.121 675.375 Q121.121 680.953 117.649 684.055 Q114.177 687.134 107.857 687.134 Q105.682 687.134 103.413 686.764 Q101.168 686.393 98.7603 685.652 L98.7603 680.953 Q100.844 682.088 103.066 682.643 Q105.288 683.199 107.765 683.199 Q111.77 683.199 114.107 681.092 Q116.445 678.986 116.445 675.375 Q116.445 671.764 114.107 669.657 Q111.77 667.551 107.765 667.551 Q105.89 667.551 104.015 667.967 Q102.163 668.384 100.219 669.264 L100.219 651.903 Z\" fill=\"#000000\" fill-rule=\"evenodd\" fill-opacity=\"1\" /><path clip-path=\"url(#clip540)\" d=\"M39.6634 273.786 L47.3023 273.786 L47.3023 247.42 L38.9921 249.087 L38.9921 244.828 L47.256 243.161 L51.9319 243.161 L51.9319 273.786 L59.5707 273.786 L59.5707 277.721 L39.6634 277.721 L39.6634 273.786 Z\" fill=\"#000000\" fill-rule=\"evenodd\" fill-opacity=\"1\" /><path clip-path=\"url(#clip540)\" d=\"M79.0151 246.24 Q75.404 246.24 73.5753 249.804 Q71.7697 253.346 71.7697 260.476 Q71.7697 267.582 73.5753 271.147 Q75.404 274.688 79.0151 274.688 Q82.6493 274.688 84.4548 271.147 Q86.2835 267.582 86.2835 260.476 Q86.2835 253.346 84.4548 249.804 Q82.6493 246.24 79.0151 246.24 M79.0151 242.536 Q84.8252 242.536 87.8808 247.142 Q90.9594 251.726 90.9594 260.476 Q90.9594 269.202 87.8808 273.809 Q84.8252 278.392 79.0151 278.392 Q73.2049 278.392 70.1262 273.809 Q67.0707 269.202 67.0707 260.476 Q67.0707 251.726 70.1262 247.142 Q73.2049 242.536 79.0151 242.536 Z\" fill=\"#000000\" fill-rule=\"evenodd\" fill-opacity=\"1\" /><path clip-path=\"url(#clip540)\" d=\"M109.177 246.24 Q105.566 246.24 103.737 249.804 Q101.932 253.346 101.932 260.476 Q101.932 267.582 103.737 271.147 Q105.566 274.688 109.177 274.688 Q112.811 274.688 114.617 271.147 Q116.445 267.582 116.445 260.476 Q116.445 253.346 114.617 249.804 Q112.811 246.24 109.177 246.24 M109.177 242.536 Q114.987 242.536 118.043 247.142 Q121.121 251.726 121.121 260.476 Q121.121 269.202 118.043 273.809 Q114.987 278.392 109.177 278.392 Q103.367 278.392 100.288 273.809 Q97.2326 269.202 97.2326 260.476 Q97.2326 251.726 100.288 247.142 Q103.367 242.536 109.177 242.536 Z\" fill=\"#000000\" fill-rule=\"evenodd\" fill-opacity=\"1\" /><polyline clip-path=\"url(#clip542)\" style=\"stroke:#000000; stroke-linecap:round; stroke-linejoin:round; stroke-width:4; stroke-opacity:1; fill:none\" points=\"\n",
       "  1867.36,1895.41 1867.36,1103.37 1938.61,1103.37 1938.61,1895.41 \n",
       "  \"/>\n",
       "<polyline clip-path=\"url(#clip542)\" style=\"stroke:#000000; stroke-linecap:round; stroke-linejoin:round; stroke-width:4; stroke-opacity:1; fill:none\" points=\"\n",
       "  2651.05,1895.41 2651.05,1029.43 2722.29,1029.43 2722.29,1895.41 \n",
       "  \"/>\n",
       "<polyline clip-path=\"url(#clip542)\" style=\"stroke:#000000; stroke-linecap:round; stroke-linejoin:round; stroke-width:4; stroke-opacity:1; fill:none\" points=\"\n",
       "  2579.81,1895.41 2579.81,1012.08 2686.67,1012.08 2686.67,1029.43 \n",
       "  \"/>\n",
       "<polyline clip-path=\"url(#clip542)\" style=\"stroke:#000000; stroke-linecap:round; stroke-linejoin:round; stroke-width:4; stroke-opacity:1; fill:none\" points=\"\n",
       "  798.698,1895.41 798.698,984.133 869.942,984.133 869.942,1895.41 \n",
       "  \"/>\n",
       "<polyline clip-path=\"url(#clip542)\" style=\"stroke:#000000; stroke-linecap:round; stroke-linejoin:round; stroke-width:4; stroke-opacity:1; fill:none\" points=\"\n",
       "  727.453,1895.41 727.453,918.228 834.32,918.228 834.32,984.133 \n",
       "  \"/>\n",
       "<polyline clip-path=\"url(#clip542)\" style=\"stroke:#000000; stroke-linecap:round; stroke-linejoin:round; stroke-width:4; stroke-opacity:1; fill:none\" points=\"\n",
       "  2793.54,1895.41 2793.54,818.687 2864.78,818.687 2864.78,1895.41 \n",
       "  \"/>\n",
       "<polyline clip-path=\"url(#clip542)\" style=\"stroke:#000000; stroke-linecap:round; stroke-linejoin:round; stroke-width:4; stroke-opacity:1; fill:none\" points=\"\n",
       "  4645.89,1895.41 4645.89,635.732 4717.13,635.732 4717.13,1895.41 \n",
       "  \"/>\n",
       "<polyline clip-path=\"url(#clip542)\" style=\"stroke:#000000; stroke-linecap:round; stroke-linejoin:round; stroke-width:4; stroke-opacity:1; fill:none\" points=\"\n",
       "  3790.96,1895.41 3790.96,605.748 3862.2,605.748 3862.2,1895.41 \n",
       "  \"/>\n",
       "<polyline clip-path=\"url(#clip542)\" style=\"stroke:#000000; stroke-linecap:round; stroke-linejoin:round; stroke-width:4; stroke-opacity:1; fill:none\" points=\"\n",
       "  4289.67,1895.41 4289.67,599.104 4360.91,599.104 4360.91,1895.41 \n",
       "  \"/>\n",
       "<polyline clip-path=\"url(#clip542)\" style=\"stroke:#000000; stroke-linecap:round; stroke-linejoin:round; stroke-width:4; stroke-opacity:1; fill:none\" points=\"\n",
       "  3719.71,1895.41 3719.71,590.126 3826.58,590.126 3826.58,605.748 \n",
       "  \"/>\n",
       "<polyline clip-path=\"url(#clip542)\" style=\"stroke:#000000; stroke-linecap:round; stroke-linejoin:round; stroke-width:4; stroke-opacity:1; fill:none\" points=\"\n",
       "  3648.47,1895.41 3648.47,584.382 3773.15,584.382 3773.15,590.126 \n",
       "  \"/>\n",
       "<polyline clip-path=\"url(#clip542)\" style=\"stroke:#000000; stroke-linecap:round; stroke-linejoin:round; stroke-width:4; stroke-opacity:1; fill:none\" points=\"\n",
       "  2223.58,1895.41 2223.58,581.966 2294.83,581.966 2294.83,1895.41 \n",
       "  \"/>\n",
       "<polyline clip-path=\"url(#clip542)\" style=\"stroke:#000000; stroke-linecap:round; stroke-linejoin:round; stroke-width:4; stroke-opacity:1; fill:none\" points=\"\n",
       "  4218.42,1895.41 4218.42,580.1 4325.29,580.1 4325.29,599.104 \n",
       "  \"/>\n",
       "<polyline clip-path=\"url(#clip542)\" style=\"stroke:#000000; stroke-linecap:round; stroke-linejoin:round; stroke-width:4; stroke-opacity:1; fill:none\" points=\"\n",
       "  442.476,1895.41 442.476,554.23 513.721,554.23 513.721,1895.41 \n",
       "  \"/>\n",
       "<polyline clip-path=\"url(#clip542)\" style=\"stroke:#000000; stroke-linecap:round; stroke-linejoin:round; stroke-width:4; stroke-opacity:1; fill:none\" points=\"\n",
       "  4147.18,1895.41 4147.18,539.48 4271.86,539.48 4271.86,580.1 \n",
       "  \"/>\n",
       "<polyline clip-path=\"url(#clip542)\" style=\"stroke:#000000; stroke-linecap:round; stroke-linejoin:round; stroke-width:4; stroke-opacity:1; fill:none\" points=\"\n",
       "  4432.16,1895.41 4432.16,537.087 4503.4,537.087 4503.4,1895.41 \n",
       "  \"/>\n",
       "<polyline clip-path=\"url(#clip542)\" style=\"stroke:#000000; stroke-linecap:round; stroke-linejoin:round; stroke-width:4; stroke-opacity:1; fill:none\" points=\"\n",
       "  2152.34,1895.41 2152.34,535.786 2259.21,535.786 2259.21,581.966 \n",
       "  \"/>\n",
       "<polyline clip-path=\"url(#clip542)\" style=\"stroke:#000000; stroke-linecap:round; stroke-linejoin:round; stroke-width:4; stroke-opacity:1; fill:none\" points=\"\n",
       "  3933.45,1895.41 3933.45,530.312 4004.69,530.312 4004.69,1895.41 \n",
       "  \"/>\n",
       "<polyline clip-path=\"url(#clip542)\" style=\"stroke:#000000; stroke-linecap:round; stroke-linejoin:round; stroke-width:4; stroke-opacity:1; fill:none\" points=\"\n",
       "  4209.52,539.48 4209.52,521.799 4467.78,521.799 4467.78,537.087 \n",
       "  \"/>\n",
       "<polyline clip-path=\"url(#clip542)\" style=\"stroke:#000000; stroke-linecap:round; stroke-linejoin:round; stroke-width:4; stroke-opacity:1; fill:none\" points=\"\n",
       "  3710.81,584.382 3710.81,507.677 3969.07,507.677 3969.07,530.312 \n",
       "  \"/>\n",
       "<polyline clip-path=\"url(#clip542)\" style=\"stroke:#000000; stroke-linecap:round; stroke-linejoin:round; stroke-width:4; stroke-opacity:1; fill:none\" points=\"\n",
       "  4075.94,1895.41 4075.94,505.256 4338.65,505.256 4338.65,521.799 \n",
       "  \"/>\n",
       "<polyline clip-path=\"url(#clip542)\" style=\"stroke:#000000; stroke-linecap:round; stroke-linejoin:round; stroke-width:4; stroke-opacity:1; fill:none\" points=\"\n",
       "  3839.94,507.677 3839.94,501.827 4207.29,501.827 4207.29,505.256 \n",
       "  \"/>\n",
       "<polyline clip-path=\"url(#clip542)\" style=\"stroke:#000000; stroke-linecap:round; stroke-linejoin:round; stroke-width:4; stroke-opacity:1; fill:none\" points=\"\n",
       "  3577.23,1895.41 3577.23,498.172 4023.62,498.172 4023.62,501.827 \n",
       "  \"/>\n",
       "<polyline clip-path=\"url(#clip542)\" style=\"stroke:#000000; stroke-linecap:round; stroke-linejoin:round; stroke-width:4; stroke-opacity:1; fill:none\" points=\"\n",
       "  3505.98,1895.41 3505.98,488.582 3800.42,488.582 3800.42,498.172 \n",
       "  \"/>\n",
       "<polyline clip-path=\"url(#clip542)\" style=\"stroke:#000000; stroke-linecap:round; stroke-linejoin:round; stroke-width:4; stroke-opacity:1; fill:none\" points=\"\n",
       "  3434.74,1895.41 3434.74,488.161 3653.2,488.161 3653.2,488.582 \n",
       "  \"/>\n",
       "<polyline clip-path=\"url(#clip542)\" style=\"stroke:#000000; stroke-linecap:round; stroke-linejoin:round; stroke-width:4; stroke-opacity:1; fill:none\" points=\"\n",
       "  3363.49,1895.41 3363.49,477.904 3543.97,477.904 3543.97,488.161 \n",
       "  \"/>\n",
       "<polyline clip-path=\"url(#clip542)\" style=\"stroke:#000000; stroke-linecap:round; stroke-linejoin:round; stroke-width:4; stroke-opacity:1; fill:none\" points=\"\n",
       "  4574.65,1895.41 4574.65,467.99 4681.51,467.99 4681.51,635.732 \n",
       "  \"/>\n",
       "<polyline clip-path=\"url(#clip542)\" style=\"stroke:#000000; stroke-linecap:round; stroke-linejoin:round; stroke-width:4; stroke-opacity:1; fill:none\" points=\"\n",
       "  2081.1,1895.41 2081.1,442.587 2205.77,442.587 2205.77,535.786 \n",
       "  \"/>\n",
       "<polyline clip-path=\"url(#clip542)\" style=\"stroke:#000000; stroke-linecap:round; stroke-linejoin:round; stroke-width:4; stroke-opacity:1; fill:none\" points=\"\n",
       "  3453.73,477.904 3453.73,441.244 4628.08,441.244 4628.08,467.99 \n",
       "  \"/>\n",
       "<polyline clip-path=\"url(#clip542)\" style=\"stroke:#000000; stroke-linecap:round; stroke-linejoin:round; stroke-width:4; stroke-opacity:1; fill:none\" points=\"\n",
       "  3292.25,1895.41 3292.25,428.404 4040.9,428.404 4040.9,441.244 \n",
       "  \"/>\n",
       "<polyline clip-path=\"url(#clip542)\" style=\"stroke:#000000; stroke-linecap:round; stroke-linejoin:round; stroke-width:4; stroke-opacity:1; fill:none\" points=\"\n",
       "  3221,1895.41 3221,418.415 3666.58,418.415 3666.58,428.404 \n",
       "  \"/>\n",
       "<polyline clip-path=\"url(#clip542)\" style=\"stroke:#000000; stroke-linecap:round; stroke-linejoin:round; stroke-width:4; stroke-opacity:1; fill:none\" points=\"\n",
       "  3149.76,1895.41 3149.76,415.546 3443.79,415.546 3443.79,418.415 \n",
       "  \"/>\n",
       "<polyline clip-path=\"url(#clip542)\" style=\"stroke:#000000; stroke-linecap:round; stroke-linejoin:round; stroke-width:4; stroke-opacity:1; fill:none\" points=\"\n",
       "  3078.52,1895.41 3078.52,404.346 3296.77,404.346 3296.77,415.546 \n",
       "  \"/>\n",
       "<polyline clip-path=\"url(#clip542)\" style=\"stroke:#000000; stroke-linecap:round; stroke-linejoin:round; stroke-width:4; stroke-opacity:1; fill:none\" points=\"\n",
       "  2009.85,1895.41 2009.85,402.945 2143.43,402.945 2143.43,442.587 \n",
       "  \"/>\n",
       "<polyline clip-path=\"url(#clip542)\" style=\"stroke:#000000; stroke-linecap:round; stroke-linejoin:round; stroke-width:4; stroke-opacity:1; fill:none\" points=\"\n",
       "  3007.27,1895.41 3007.27,397.135 3187.64,397.135 3187.64,404.346 \n",
       "  \"/>\n",
       "<polyline clip-path=\"url(#clip542)\" style=\"stroke:#000000; stroke-linecap:round; stroke-linejoin:round; stroke-width:4; stroke-opacity:1; fill:none\" points=\"\n",
       "  1902.98,1103.37 1902.98,392.923 2076.64,392.923 2076.64,402.945 \n",
       "  \"/>\n",
       "<polyline clip-path=\"url(#clip542)\" style=\"stroke:#000000; stroke-linecap:round; stroke-linejoin:round; stroke-width:4; stroke-opacity:1; fill:none\" points=\"\n",
       "  1796.12,1895.41 1796.12,389.928 1989.81,389.928 1989.81,392.923 \n",
       "  \"/>\n",
       "<polyline clip-path=\"url(#clip542)\" style=\"stroke:#000000; stroke-linecap:round; stroke-linejoin:round; stroke-width:4; stroke-opacity:1; fill:none\" points=\"\n",
       "  2936.03,1895.41 2936.03,375.598 3097.46,375.598 3097.46,397.135 \n",
       "  \"/>\n",
       "<polyline clip-path=\"url(#clip542)\" style=\"stroke:#000000; stroke-linecap:round; stroke-linejoin:round; stroke-width:4; stroke-opacity:1; fill:none\" points=\"\n",
       "  2829.16,818.687 2829.16,375.192 3016.74,375.192 3016.74,375.598 \n",
       "  \"/>\n",
       "<polyline clip-path=\"url(#clip542)\" style=\"stroke:#000000; stroke-linecap:round; stroke-linejoin:round; stroke-width:4; stroke-opacity:1; fill:none\" points=\"\n",
       "  1724.87,1895.41 1724.87,371.729 1892.97,371.729 1892.97,389.928 \n",
       "  \"/>\n",
       "<polyline clip-path=\"url(#clip542)\" style=\"stroke:#000000; stroke-linecap:round; stroke-linejoin:round; stroke-width:4; stroke-opacity:1; fill:none\" points=\"\n",
       "  1653.63,1895.41 1653.63,369.993 1808.92,369.993 1808.92,371.729 \n",
       "  \"/>\n",
       "<polyline clip-path=\"url(#clip542)\" style=\"stroke:#000000; stroke-linecap:round; stroke-linejoin:round; stroke-width:4; stroke-opacity:1; fill:none\" points=\"\n",
       "  2633.24,1012.08 2633.24,364.12 2922.95,364.12 2922.95,375.192 \n",
       "  \"/>\n",
       "<polyline clip-path=\"url(#clip542)\" style=\"stroke:#000000; stroke-linecap:round; stroke-linejoin:round; stroke-width:4; stroke-opacity:1; fill:none\" points=\"\n",
       "  2508.56,1895.41 2508.56,335.469 2778.09,335.469 2778.09,364.12 \n",
       "  \"/>\n",
       "<polyline clip-path=\"url(#clip542)\" style=\"stroke:#000000; stroke-linecap:round; stroke-linejoin:round; stroke-width:4; stroke-opacity:1; fill:none\" points=\"\n",
       "  2437.32,1895.41 2437.32,332.137 2643.33,332.137 2643.33,335.469 \n",
       "  \"/>\n",
       "<polyline clip-path=\"url(#clip542)\" style=\"stroke:#000000; stroke-linecap:round; stroke-linejoin:round; stroke-width:4; stroke-opacity:1; fill:none\" points=\"\n",
       "  2366.07,1895.41 2366.07,330.383 2540.32,330.383 2540.32,332.137 \n",
       "  \"/>\n",
       "<polyline clip-path=\"url(#clip542)\" style=\"stroke:#000000; stroke-linecap:round; stroke-linejoin:round; stroke-width:4; stroke-opacity:1; fill:none\" points=\"\n",
       "  1731.27,369.993 1731.27,329.112 2453.2,329.112 2453.2,330.383 \n",
       "  \"/>\n",
       "<polyline clip-path=\"url(#clip542)\" style=\"stroke:#000000; stroke-linecap:round; stroke-linejoin:round; stroke-width:4; stroke-opacity:1; fill:none\" points=\"\n",
       "  1582.38,1895.41 1582.38,293.525 2092.24,293.525 2092.24,329.112 \n",
       "  \"/>\n",
       "<polyline clip-path=\"url(#clip542)\" style=\"stroke:#000000; stroke-linecap:round; stroke-linejoin:round; stroke-width:4; stroke-opacity:1; fill:none\" points=\"\n",
       "  1511.14,1895.41 1511.14,282.783 1837.31,282.783 1837.31,293.525 \n",
       "  \"/>\n",
       "<polyline clip-path=\"url(#clip542)\" style=\"stroke:#000000; stroke-linecap:round; stroke-linejoin:round; stroke-width:4; stroke-opacity:1; fill:none\" points=\"\n",
       "  1439.9,1895.41 1439.9,281.539 1674.23,281.539 1674.23,282.783 \n",
       "  \"/>\n",
       "<polyline clip-path=\"url(#clip542)\" style=\"stroke:#000000; stroke-linecap:round; stroke-linejoin:round; stroke-width:4; stroke-opacity:1; fill:none\" points=\"\n",
       "  1368.65,1895.41 1368.65,248.53 1557.06,248.53 1557.06,281.539 \n",
       "  \"/>\n",
       "<polyline clip-path=\"url(#clip542)\" style=\"stroke:#000000; stroke-linecap:round; stroke-linejoin:round; stroke-width:4; stroke-opacity:1; fill:none\" points=\"\n",
       "  1297.41,1895.41 1297.41,243.367 1462.86,243.367 1462.86,248.53 \n",
       "  \"/>\n",
       "<polyline clip-path=\"url(#clip542)\" style=\"stroke:#000000; stroke-linecap:round; stroke-linejoin:round; stroke-width:4; stroke-opacity:1; fill:none\" points=\"\n",
       "  1226.16,1895.41 1226.16,204.981 1380.13,204.981 1380.13,243.367 \n",
       "  \"/>\n",
       "<polyline clip-path=\"url(#clip542)\" style=\"stroke:#000000; stroke-linecap:round; stroke-linejoin:round; stroke-width:4; stroke-opacity:1; fill:none\" points=\"\n",
       "  656.209,1895.41 656.209,200.955 780.887,200.955 780.887,918.228 \n",
       "  \"/>\n",
       "<polyline clip-path=\"url(#clip542)\" style=\"stroke:#000000; stroke-linecap:round; stroke-linejoin:round; stroke-width:4; stroke-opacity:1; fill:none\" points=\"\n",
       "  1154.92,1895.41 1154.92,195.277 1303.15,195.277 1303.15,204.981 \n",
       "  \"/>\n",
       "<polyline clip-path=\"url(#clip542)\" style=\"stroke:#000000; stroke-linecap:round; stroke-linejoin:round; stroke-width:4; stroke-opacity:1; fill:none\" points=\"\n",
       "  1083.67,1895.41 1083.67,191.117 1229.03,191.117 1229.03,195.277 \n",
       "  \"/>\n",
       "<polyline clip-path=\"url(#clip542)\" style=\"stroke:#000000; stroke-linecap:round; stroke-linejoin:round; stroke-width:4; stroke-opacity:1; fill:none\" points=\"\n",
       "  1012.43,1895.41 1012.43,188.665 1156.35,188.665 1156.35,191.117 \n",
       "  \"/>\n",
       "<polyline clip-path=\"url(#clip542)\" style=\"stroke:#000000; stroke-linecap:round; stroke-linejoin:round; stroke-width:4; stroke-opacity:1; fill:none\" points=\"\n",
       "  941.186,1895.41 941.186,151.339 1084.39,151.339 1084.39,188.665 \n",
       "  \"/>\n",
       "<polyline clip-path=\"url(#clip542)\" style=\"stroke:#000000; stroke-linecap:round; stroke-linejoin:round; stroke-width:4; stroke-opacity:1; fill:none\" points=\"\n",
       "  718.548,200.955 718.548,149.663 1012.79,149.663 1012.79,151.339 \n",
       "  \"/>\n",
       "<polyline clip-path=\"url(#clip542)\" style=\"stroke:#000000; stroke-linecap:round; stroke-linejoin:round; stroke-width:4; stroke-opacity:1; fill:none\" points=\"\n",
       "  584.965,1895.41 584.965,147.711 865.669,147.711 865.669,149.663 \n",
       "  \"/>\n",
       "<polyline clip-path=\"url(#clip542)\" style=\"stroke:#000000; stroke-linecap:round; stroke-linejoin:round; stroke-width:4; stroke-opacity:1; fill:none\" points=\"\n",
       "  478.098,554.23 478.098,123.483 725.317,123.483 725.317,147.711 \n",
       "  \"/>\n",
       "<polyline clip-path=\"url(#clip542)\" style=\"stroke:#000000; stroke-linecap:round; stroke-linejoin:round; stroke-width:4; stroke-opacity:1; fill:none\" points=\"\n",
       "  371.232,1895.41 371.232,74.6385 601.708,74.6385 601.708,123.483 \n",
       "  \"/>\n",
       "<polyline clip-path=\"url(#clip542)\" style=\"stroke:#000000; stroke-linecap:round; stroke-linejoin:round; stroke-width:4; stroke-opacity:1; fill:none\" points=\"\n",
       "  299.988,1895.41 299.988,51.5546 486.47,51.5546 486.47,74.6385 \n",
       "  \"/>\n",
       "<polyline clip-path=\"url(#clip542)\" style=\"stroke:#000000; stroke-linecap:round; stroke-linejoin:round; stroke-width:4; stroke-opacity:1; fill:none\" points=\"\n",
       "  228.743,1895.41 228.743,47.2441 393.229,47.2441 393.229,51.5546 \n",
       "  \"/>\n",
       "</svg>\n"
      ]
     },
     "execution_count": 32,
     "metadata": {},
     "output_type": "execute_result"
    }
   ],
   "source": [
    "#Plotting Single Linkage Dendogram\n",
    "hc_single = hclust(euc_dist::AbstractMatrix; linkage=:single) \n",
    "StatsPlots.gr(size = (1200, 500));\n",
    "for i in 1:64 \n",
    "    print(hc_single.order[i], \" : \", df3_y.x[hc_single.order[i]], \", \")\n",
    "end\n",
    "StatsPlots.plot(hc_single)"
   ]
  },
  {
   "cell_type": "code",
   "execution_count": 35,
   "id": "949a0971",
   "metadata": {},
   "outputs": [
    {
     "data": {
      "text/plain": [
       "64-element Vector{Int64}:\n",
       " 1\n",
       " 1\n",
       " 1\n",
       " 1\n",
       " 2\n",
       " 2\n",
       " 2\n",
       " 2\n",
       " 1\n",
       " 1\n",
       " 1\n",
       " 1\n",
       " 1\n",
       " ⋮\n",
       " 1\n",
       " 1\n",
       " 1\n",
       " 1\n",
       " 1\n",
       " 1\n",
       " 1\n",
       " 1\n",
       " 1\n",
       " 1\n",
       " 1\n",
       " 1"
      ]
     },
     "execution_count": 35,
     "metadata": {},
     "output_type": "execute_result"
    }
   ],
   "source": [
    "cutree(hc_complete::Hclust; k=4)"
   ]
  },
  {
   "cell_type": "markdown",
   "id": "f10b2a38",
   "metadata": {},
   "source": [
    "#### KMeans"
   ]
  },
  {
   "cell_type": "code",
   "execution_count": null,
   "id": "95667df2",
   "metadata": {},
   "outputs": [],
   "source": []
  }
 ],
 "metadata": {
  "@webio": {
   "lastCommId": "26263e65c11f4ca191102be533e2e015",
   "lastKernelId": "fe7c58aa-575d-4af6-aba9-0abb76754262"
  },
  "kernelspec": {
   "display_name": "Julia 1.8.1",
   "language": "julia",
   "name": "julia-1.8"
  },
  "language_info": {
   "file_extension": ".jl",
   "mimetype": "application/julia",
   "name": "julia",
   "version": "1.8.1"
  }
 },
 "nbformat": 4,
 "nbformat_minor": 5
}
